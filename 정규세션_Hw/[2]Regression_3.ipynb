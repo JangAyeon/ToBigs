{
  "nbformat": 4,
  "nbformat_minor": 0,
  "metadata": {
    "kernelspec": {
      "display_name": "Python 3",
      "language": "python",
      "name": "python3"
    },
    "language_info": {
      "codemirror_mode": {
        "name": "ipython",
        "version": 3
      },
      "file_extension": ".py",
      "mimetype": "text/x-python",
      "name": "python",
      "nbconvert_exporter": "python",
      "pygments_lexer": "ipython3",
      "version": "3.8.3"
    },
    "colab": {
      "name": "[2]Regression_3.ipynb",
      "provenance": [],
      "collapsed_sections": []
    }
  },
  "cells": [
    {
      "cell_type": "markdown",
      "metadata": {
        "id": "fu39oBW0RVn5"
      },
      "source": [
        "# Assignment3"
      ]
    },
    {
      "cell_type": "markdown",
      "metadata": {
        "id": "Sy6Vc-LlRVn_"
      },
      "source": [
        "1. sklearn 패키지를 사용해 로지스틱 회귀모형으로 데이터를 분석해 주세요 \n",
        "2. 성능지표를 계산하고 이에 대해 해석해 주세요 \n",
        "   - sklearn : mean accuracy, f1 score 등 다양한 성능지표 계산 \n",
        "   - confusion matrix : tp, fp, fn, tn 값을 통해 성능지표 계산  \n",
        "3. 어떤 성능지표를 기준으로 성능을 개선을 시도했고, 그러한 선택의 이유를 적어주세요.\n",
        "4. **해석을 상세하게 달아주세요 !**"
      ]
    },
    {
      "cell_type": "markdown",
      "metadata": {
        "id": "8rN2SWezRVn_"
      },
      "source": [
        "## Data "
      ]
    },
    {
      "cell_type": "markdown",
      "metadata": {
        "id": "Y7SYKNvQRVn_"
      },
      "source": [
        "출처 : https://www.kaggle.com/mlg-ulb/creditcardfraud\n",
        "\n",
        "\n",
        "* V1 ~ V28 : 비식별화 된 개인정보 \n",
        "* **Class** : Target 변수  \n",
        "  - 1 : fraudulent transactions (사기)\n",
        "  - 0 : otherwise "
      ]
    },
    {
      "cell_type": "code",
      "metadata": {
        "id": "Uvjw2fTCRVoA"
      },
      "source": [
        "import pandas as pd\n",
        "import numpy as np\n",
        "import seaborn as sns\n",
        "import matplotlib.pyplot as plt\n",
        "import warnings\n",
        "warnings.filterwarnings(action='ignore')"
      ],
      "execution_count": 1,
      "outputs": []
    },
    {
      "cell_type": "code",
      "metadata": {
        "id": "znQit70ZRVoA"
      },
      "source": [
        "data = pd.read_csv(\"assignment3_creditcard.csv\")"
      ],
      "execution_count": 2,
      "outputs": []
    },
    {
      "cell_type": "code",
      "metadata": {
        "colab": {
          "base_uri": "https://localhost:8080/",
          "height": 220
        },
        "id": "v98OeXW5RVoB",
        "outputId": "42afeddc-07e6-4224-95ee-08b455f72475"
      },
      "source": [
        "data.head()"
      ],
      "execution_count": 3,
      "outputs": [
        {
          "output_type": "execute_result",
          "data": {
            "text/html": [
              "<div>\n",
              "<style scoped>\n",
              "    .dataframe tbody tr th:only-of-type {\n",
              "        vertical-align: middle;\n",
              "    }\n",
              "\n",
              "    .dataframe tbody tr th {\n",
              "        vertical-align: top;\n",
              "    }\n",
              "\n",
              "    .dataframe thead th {\n",
              "        text-align: right;\n",
              "    }\n",
              "</style>\n",
              "<table border=\"1\" class=\"dataframe\">\n",
              "  <thead>\n",
              "    <tr style=\"text-align: right;\">\n",
              "      <th></th>\n",
              "      <th>V1</th>\n",
              "      <th>V2</th>\n",
              "      <th>V3</th>\n",
              "      <th>V4</th>\n",
              "      <th>V5</th>\n",
              "      <th>V6</th>\n",
              "      <th>V7</th>\n",
              "      <th>V8</th>\n",
              "      <th>V9</th>\n",
              "      <th>V10</th>\n",
              "      <th>V11</th>\n",
              "      <th>V12</th>\n",
              "      <th>V13</th>\n",
              "      <th>V14</th>\n",
              "      <th>V15</th>\n",
              "      <th>V16</th>\n",
              "      <th>V17</th>\n",
              "      <th>V18</th>\n",
              "      <th>V19</th>\n",
              "      <th>V20</th>\n",
              "      <th>V21</th>\n",
              "      <th>V22</th>\n",
              "      <th>V23</th>\n",
              "      <th>V24</th>\n",
              "      <th>V25</th>\n",
              "      <th>V26</th>\n",
              "      <th>V27</th>\n",
              "      <th>V28</th>\n",
              "      <th>Class</th>\n",
              "    </tr>\n",
              "  </thead>\n",
              "  <tbody>\n",
              "    <tr>\n",
              "      <th>0</th>\n",
              "      <td>-1.848212</td>\n",
              "      <td>2.384900</td>\n",
              "      <td>0.379573</td>\n",
              "      <td>1.048381</td>\n",
              "      <td>-0.845070</td>\n",
              "      <td>2.537837</td>\n",
              "      <td>-4.542983</td>\n",
              "      <td>-10.201458</td>\n",
              "      <td>-1.504967</td>\n",
              "      <td>-2.234167</td>\n",
              "      <td>0.394940</td>\n",
              "      <td>1.935899</td>\n",
              "      <td>-0.359235</td>\n",
              "      <td>1.822466</td>\n",
              "      <td>-0.054693</td>\n",
              "      <td>0.857551</td>\n",
              "      <td>-0.053336</td>\n",
              "      <td>0.529098</td>\n",
              "      <td>0.159752</td>\n",
              "      <td>2.585817</td>\n",
              "      <td>-5.291690</td>\n",
              "      <td>0.859364</td>\n",
              "      <td>0.423231</td>\n",
              "      <td>-0.506985</td>\n",
              "      <td>1.020052</td>\n",
              "      <td>-0.627751</td>\n",
              "      <td>-0.017753</td>\n",
              "      <td>0.280982</td>\n",
              "      <td>0</td>\n",
              "    </tr>\n",
              "    <tr>\n",
              "      <th>1</th>\n",
              "      <td>2.071805</td>\n",
              "      <td>-0.477943</td>\n",
              "      <td>-1.444444</td>\n",
              "      <td>-0.548657</td>\n",
              "      <td>0.010036</td>\n",
              "      <td>-0.582242</td>\n",
              "      <td>-0.042878</td>\n",
              "      <td>-0.247160</td>\n",
              "      <td>1.171923</td>\n",
              "      <td>-0.342382</td>\n",
              "      <td>-1.159036</td>\n",
              "      <td>0.719861</td>\n",
              "      <td>0.622591</td>\n",
              "      <td>-0.157846</td>\n",
              "      <td>-0.373298</td>\n",
              "      <td>-0.515740</td>\n",
              "      <td>-0.117206</td>\n",
              "      <td>-0.569763</td>\n",
              "      <td>0.644970</td>\n",
              "      <td>-0.077306</td>\n",
              "      <td>0.042858</td>\n",
              "      <td>0.390125</td>\n",
              "      <td>0.041569</td>\n",
              "      <td>0.598427</td>\n",
              "      <td>0.098803</td>\n",
              "      <td>0.979686</td>\n",
              "      <td>-0.093244</td>\n",
              "      <td>-0.065615</td>\n",
              "      <td>0</td>\n",
              "    </tr>\n",
              "    <tr>\n",
              "      <th>2</th>\n",
              "      <td>-2.985294</td>\n",
              "      <td>-2.747472</td>\n",
              "      <td>1.194068</td>\n",
              "      <td>-0.003036</td>\n",
              "      <td>-1.151041</td>\n",
              "      <td>-0.263559</td>\n",
              "      <td>0.553500</td>\n",
              "      <td>0.635600</td>\n",
              "      <td>0.438545</td>\n",
              "      <td>-1.806488</td>\n",
              "      <td>-0.703073</td>\n",
              "      <td>0.588971</td>\n",
              "      <td>-0.146823</td>\n",
              "      <td>-0.181353</td>\n",
              "      <td>-0.690156</td>\n",
              "      <td>-0.028327</td>\n",
              "      <td>0.410035</td>\n",
              "      <td>-0.828869</td>\n",
              "      <td>-0.885471</td>\n",
              "      <td>1.345776</td>\n",
              "      <td>0.373760</td>\n",
              "      <td>-0.385777</td>\n",
              "      <td>1.197596</td>\n",
              "      <td>0.407229</td>\n",
              "      <td>0.008013</td>\n",
              "      <td>0.762362</td>\n",
              "      <td>-0.299024</td>\n",
              "      <td>-0.303929</td>\n",
              "      <td>0</td>\n",
              "    </tr>\n",
              "    <tr>\n",
              "      <th>3</th>\n",
              "      <td>-1.479452</td>\n",
              "      <td>1.542874</td>\n",
              "      <td>0.290895</td>\n",
              "      <td>0.838142</td>\n",
              "      <td>-0.529290</td>\n",
              "      <td>-0.717661</td>\n",
              "      <td>0.484516</td>\n",
              "      <td>0.545092</td>\n",
              "      <td>-0.780767</td>\n",
              "      <td>0.324804</td>\n",
              "      <td>1.136838</td>\n",
              "      <td>0.648191</td>\n",
              "      <td>-0.468076</td>\n",
              "      <td>1.016010</td>\n",
              "      <td>0.206836</td>\n",
              "      <td>-0.138604</td>\n",
              "      <td>-0.066788</td>\n",
              "      <td>0.459306</td>\n",
              "      <td>0.663398</td>\n",
              "      <td>0.038397</td>\n",
              "      <td>0.116771</td>\n",
              "      <td>0.405560</td>\n",
              "      <td>-0.116453</td>\n",
              "      <td>0.541275</td>\n",
              "      <td>-0.216665</td>\n",
              "      <td>-0.415578</td>\n",
              "      <td>0.027126</td>\n",
              "      <td>-0.150347</td>\n",
              "      <td>0</td>\n",
              "    </tr>\n",
              "    <tr>\n",
              "      <th>4</th>\n",
              "      <td>-0.281976</td>\n",
              "      <td>-0.309699</td>\n",
              "      <td>-2.162299</td>\n",
              "      <td>-0.851514</td>\n",
              "      <td>0.106167</td>\n",
              "      <td>-1.483888</td>\n",
              "      <td>1.930994</td>\n",
              "      <td>-0.843049</td>\n",
              "      <td>-1.249272</td>\n",
              "      <td>1.079608</td>\n",
              "      <td>-1.352709</td>\n",
              "      <td>-0.995678</td>\n",
              "      <td>-0.887039</td>\n",
              "      <td>0.732821</td>\n",
              "      <td>-0.557246</td>\n",
              "      <td>-2.412225</td>\n",
              "      <td>0.200509</td>\n",
              "      <td>0.823963</td>\n",
              "      <td>-0.531789</td>\n",
              "      <td>-0.875516</td>\n",
              "      <td>-0.004199</td>\n",
              "      <td>1.015108</td>\n",
              "      <td>-0.026748</td>\n",
              "      <td>0.077115</td>\n",
              "      <td>-1.468822</td>\n",
              "      <td>0.751700</td>\n",
              "      <td>0.496732</td>\n",
              "      <td>0.331001</td>\n",
              "      <td>0</td>\n",
              "    </tr>\n",
              "  </tbody>\n",
              "</table>\n",
              "</div>"
            ],
            "text/plain": [
              "         V1        V2        V3        V4  ...       V26       V27       V28  Class\n",
              "0 -1.848212  2.384900  0.379573  1.048381  ... -0.627751 -0.017753  0.280982      0\n",
              "1  2.071805 -0.477943 -1.444444 -0.548657  ...  0.979686 -0.093244 -0.065615      0\n",
              "2 -2.985294 -2.747472  1.194068 -0.003036  ...  0.762362 -0.299024 -0.303929      0\n",
              "3 -1.479452  1.542874  0.290895  0.838142  ... -0.415578  0.027126 -0.150347      0\n",
              "4 -0.281976 -0.309699 -2.162299 -0.851514  ...  0.751700  0.496732  0.331001      0\n",
              "\n",
              "[5 rows x 29 columns]"
            ]
          },
          "metadata": {
            "tags": []
          },
          "execution_count": 3
        }
      ]
    },
    {
      "cell_type": "code",
      "metadata": {
        "colab": {
          "base_uri": "https://localhost:8080/"
        },
        "id": "TsFOZ2_QVDKg",
        "outputId": "6d05dc8f-4339-40e7-b75d-6b024d6beb5e"
      },
      "source": [
        "data.isnull().sum()"
      ],
      "execution_count": 4,
      "outputs": [
        {
          "output_type": "execute_result",
          "data": {
            "text/plain": [
              "V1       0\n",
              "V2       0\n",
              "V3       0\n",
              "V4       0\n",
              "V5       0\n",
              "V6       0\n",
              "V7       0\n",
              "V8       0\n",
              "V9       0\n",
              "V10      0\n",
              "V11      0\n",
              "V12      0\n",
              "V13      0\n",
              "V14      0\n",
              "V15      0\n",
              "V16      0\n",
              "V17      0\n",
              "V18      0\n",
              "V19      0\n",
              "V20      0\n",
              "V21      0\n",
              "V22      0\n",
              "V23      0\n",
              "V24      0\n",
              "V25      0\n",
              "V26      0\n",
              "V27      0\n",
              "V28      0\n",
              "Class    0\n",
              "dtype: int64"
            ]
          },
          "metadata": {
            "tags": []
          },
          "execution_count": 4
        }
      ]
    },
    {
      "cell_type": "code",
      "metadata": {
        "colab": {
          "base_uri": "https://localhost:8080/",
          "height": 311
        },
        "id": "Pxew9UsCX8Xg",
        "outputId": "cfc2a464-3175-4379-b88b-de53991ce7a1"
      },
      "source": [
        "data.describe()"
      ],
      "execution_count": 5,
      "outputs": [
        {
          "output_type": "execute_result",
          "data": {
            "text/html": [
              "<div>\n",
              "<style scoped>\n",
              "    .dataframe tbody tr th:only-of-type {\n",
              "        vertical-align: middle;\n",
              "    }\n",
              "\n",
              "    .dataframe tbody tr th {\n",
              "        vertical-align: top;\n",
              "    }\n",
              "\n",
              "    .dataframe thead th {\n",
              "        text-align: right;\n",
              "    }\n",
              "</style>\n",
              "<table border=\"1\" class=\"dataframe\">\n",
              "  <thead>\n",
              "    <tr style=\"text-align: right;\">\n",
              "      <th></th>\n",
              "      <th>V1</th>\n",
              "      <th>V2</th>\n",
              "      <th>V3</th>\n",
              "      <th>V4</th>\n",
              "      <th>V5</th>\n",
              "      <th>V6</th>\n",
              "      <th>V7</th>\n",
              "      <th>V8</th>\n",
              "      <th>V9</th>\n",
              "      <th>V10</th>\n",
              "      <th>V11</th>\n",
              "      <th>V12</th>\n",
              "      <th>V13</th>\n",
              "      <th>V14</th>\n",
              "      <th>V15</th>\n",
              "      <th>V16</th>\n",
              "      <th>V17</th>\n",
              "      <th>V18</th>\n",
              "      <th>V19</th>\n",
              "      <th>V20</th>\n",
              "      <th>V21</th>\n",
              "      <th>V22</th>\n",
              "      <th>V23</th>\n",
              "      <th>V24</th>\n",
              "      <th>V25</th>\n",
              "      <th>V26</th>\n",
              "      <th>V27</th>\n",
              "      <th>V28</th>\n",
              "      <th>Class</th>\n",
              "    </tr>\n",
              "  </thead>\n",
              "  <tbody>\n",
              "    <tr>\n",
              "      <th>count</th>\n",
              "      <td>28678.000000</td>\n",
              "      <td>28678.000000</td>\n",
              "      <td>28678.000000</td>\n",
              "      <td>28678.000000</td>\n",
              "      <td>28678.000000</td>\n",
              "      <td>28678.000000</td>\n",
              "      <td>28678.000000</td>\n",
              "      <td>28678.000000</td>\n",
              "      <td>28678.000000</td>\n",
              "      <td>28678.000000</td>\n",
              "      <td>28678.000000</td>\n",
              "      <td>28678.000000</td>\n",
              "      <td>28678.000000</td>\n",
              "      <td>28678.000000</td>\n",
              "      <td>28678.000000</td>\n",
              "      <td>28678.000000</td>\n",
              "      <td>28678.000000</td>\n",
              "      <td>28678.000000</td>\n",
              "      <td>28678.000000</td>\n",
              "      <td>28678.000000</td>\n",
              "      <td>28678.000000</td>\n",
              "      <td>28678.000000</td>\n",
              "      <td>28678.000000</td>\n",
              "      <td>28678.000000</td>\n",
              "      <td>28678.000000</td>\n",
              "      <td>28678.000000</td>\n",
              "      <td>28678.000000</td>\n",
              "      <td>28678.000000</td>\n",
              "      <td>28678.000000</td>\n",
              "    </tr>\n",
              "    <tr>\n",
              "      <th>mean</th>\n",
              "      <td>-0.015438</td>\n",
              "      <td>0.053653</td>\n",
              "      <td>-0.046031</td>\n",
              "      <td>0.037348</td>\n",
              "      <td>-0.033724</td>\n",
              "      <td>-0.003299</td>\n",
              "      <td>-0.051054</td>\n",
              "      <td>0.006064</td>\n",
              "      <td>-0.018530</td>\n",
              "      <td>-0.041149</td>\n",
              "      <td>0.033738</td>\n",
              "      <td>-0.047544</td>\n",
              "      <td>0.014048</td>\n",
              "      <td>-0.053556</td>\n",
              "      <td>-0.011562</td>\n",
              "      <td>-0.031559</td>\n",
              "      <td>-0.045020</td>\n",
              "      <td>-0.005966</td>\n",
              "      <td>0.007183</td>\n",
              "      <td>0.002633</td>\n",
              "      <td>0.010289</td>\n",
              "      <td>-0.000656</td>\n",
              "      <td>-0.004800</td>\n",
              "      <td>-0.000897</td>\n",
              "      <td>-0.001989</td>\n",
              "      <td>-0.000765</td>\n",
              "      <td>0.000948</td>\n",
              "      <td>0.001535</td>\n",
              "      <td>0.008578</td>\n",
              "    </tr>\n",
              "    <tr>\n",
              "      <th>std</th>\n",
              "      <td>2.031529</td>\n",
              "      <td>1.616186</td>\n",
              "      <td>1.758169</td>\n",
              "      <td>1.482109</td>\n",
              "      <td>1.486998</td>\n",
              "      <td>1.339259</td>\n",
              "      <td>1.454827</td>\n",
              "      <td>1.364342</td>\n",
              "      <td>1.134065</td>\n",
              "      <td>1.252593</td>\n",
              "      <td>1.096583</td>\n",
              "      <td>1.208918</td>\n",
              "      <td>0.995720</td>\n",
              "      <td>1.193859</td>\n",
              "      <td>0.916783</td>\n",
              "      <td>1.000876</td>\n",
              "      <td>1.186014</td>\n",
              "      <td>0.892478</td>\n",
              "      <td>0.827420</td>\n",
              "      <td>0.720307</td>\n",
              "      <td>0.847152</td>\n",
              "      <td>0.739469</td>\n",
              "      <td>0.593663</td>\n",
              "      <td>0.603349</td>\n",
              "      <td>0.517968</td>\n",
              "      <td>0.483852</td>\n",
              "      <td>0.397075</td>\n",
              "      <td>0.296736</td>\n",
              "      <td>0.092221</td>\n",
              "    </tr>\n",
              "    <tr>\n",
              "      <th>min</th>\n",
              "      <td>-30.552380</td>\n",
              "      <td>-42.172688</td>\n",
              "      <td>-31.103685</td>\n",
              "      <td>-5.560118</td>\n",
              "      <td>-42.147898</td>\n",
              "      <td>-21.929312</td>\n",
              "      <td>-41.506796</td>\n",
              "      <td>-39.267378</td>\n",
              "      <td>-13.434066</td>\n",
              "      <td>-24.403185</td>\n",
              "      <td>-4.339319</td>\n",
              "      <td>-18.431131</td>\n",
              "      <td>-3.844974</td>\n",
              "      <td>-19.214325</td>\n",
              "      <td>-3.894020</td>\n",
              "      <td>-13.303888</td>\n",
              "      <td>-24.019099</td>\n",
              "      <td>-9.335193</td>\n",
              "      <td>-4.619034</td>\n",
              "      <td>-21.387122</td>\n",
              "      <td>-21.453736</td>\n",
              "      <td>-8.887017</td>\n",
              "      <td>-36.666000</td>\n",
              "      <td>-2.718024</td>\n",
              "      <td>-6.712624</td>\n",
              "      <td>-2.241620</td>\n",
              "      <td>-7.418878</td>\n",
              "      <td>-9.617915</td>\n",
              "      <td>0.000000</td>\n",
              "    </tr>\n",
              "    <tr>\n",
              "      <th>25%</th>\n",
              "      <td>-0.916927</td>\n",
              "      <td>-0.575381</td>\n",
              "      <td>-0.899872</td>\n",
              "      <td>-0.843321</td>\n",
              "      <td>-0.714901</td>\n",
              "      <td>-0.763757</td>\n",
              "      <td>-0.568146</td>\n",
              "      <td>-0.206103</td>\n",
              "      <td>-0.661909</td>\n",
              "      <td>-0.543450</td>\n",
              "      <td>-0.748920</td>\n",
              "      <td>-0.421077</td>\n",
              "      <td>-0.633399</td>\n",
              "      <td>-0.449537</td>\n",
              "      <td>-0.597618</td>\n",
              "      <td>-0.478844</td>\n",
              "      <td>-0.494037</td>\n",
              "      <td>-0.497440</td>\n",
              "      <td>-0.459073</td>\n",
              "      <td>-0.209678</td>\n",
              "      <td>-0.225520</td>\n",
              "      <td>-0.539244</td>\n",
              "      <td>-0.160583</td>\n",
              "      <td>-0.356047</td>\n",
              "      <td>-0.318619</td>\n",
              "      <td>-0.327343</td>\n",
              "      <td>-0.070558</td>\n",
              "      <td>-0.052189</td>\n",
              "      <td>0.000000</td>\n",
              "    </tr>\n",
              "    <tr>\n",
              "      <th>50%</th>\n",
              "      <td>0.020050</td>\n",
              "      <td>0.075358</td>\n",
              "      <td>0.180610</td>\n",
              "      <td>-0.008844</td>\n",
              "      <td>-0.060040</td>\n",
              "      <td>-0.271363</td>\n",
              "      <td>0.036107</td>\n",
              "      <td>0.022463</td>\n",
              "      <td>-0.055095</td>\n",
              "      <td>-0.097390</td>\n",
              "      <td>-0.010467</td>\n",
              "      <td>0.137410</td>\n",
              "      <td>-0.003826</td>\n",
              "      <td>0.037809</td>\n",
              "      <td>0.041502</td>\n",
              "      <td>0.059667</td>\n",
              "      <td>-0.067213</td>\n",
              "      <td>-0.000928</td>\n",
              "      <td>0.002111</td>\n",
              "      <td>-0.062792</td>\n",
              "      <td>-0.028778</td>\n",
              "      <td>0.007302</td>\n",
              "      <td>-0.011199</td>\n",
              "      <td>0.040006</td>\n",
              "      <td>0.019770</td>\n",
              "      <td>-0.056260</td>\n",
              "      <td>0.002049</td>\n",
              "      <td>0.011075</td>\n",
              "      <td>0.000000</td>\n",
              "    </tr>\n",
              "    <tr>\n",
              "      <th>75%</th>\n",
              "      <td>1.317461</td>\n",
              "      <td>0.806957</td>\n",
              "      <td>1.029928</td>\n",
              "      <td>0.771958</td>\n",
              "      <td>0.613328</td>\n",
              "      <td>0.397269</td>\n",
              "      <td>0.559409</td>\n",
              "      <td>0.329606</td>\n",
              "      <td>0.605704</td>\n",
              "      <td>0.460681</td>\n",
              "      <td>0.760396</td>\n",
              "      <td>0.612790</td>\n",
              "      <td>0.675571</td>\n",
              "      <td>0.485859</td>\n",
              "      <td>0.637263</td>\n",
              "      <td>0.517753</td>\n",
              "      <td>0.403942</td>\n",
              "      <td>0.514982</td>\n",
              "      <td>0.467781</td>\n",
              "      <td>0.131199</td>\n",
              "      <td>0.184312</td>\n",
              "      <td>0.526358</td>\n",
              "      <td>0.146835</td>\n",
              "      <td>0.437146</td>\n",
              "      <td>0.352717</td>\n",
              "      <td>0.240713</td>\n",
              "      <td>0.091637</td>\n",
              "      <td>0.078911</td>\n",
              "      <td>0.000000</td>\n",
              "    </tr>\n",
              "    <tr>\n",
              "      <th>max</th>\n",
              "      <td>2.399484</td>\n",
              "      <td>21.467203</td>\n",
              "      <td>4.069865</td>\n",
              "      <td>11.927512</td>\n",
              "      <td>32.911462</td>\n",
              "      <td>22.529298</td>\n",
              "      <td>36.677268</td>\n",
              "      <td>20.007208</td>\n",
              "      <td>8.113152</td>\n",
              "      <td>15.236028</td>\n",
              "      <td>12.018913</td>\n",
              "      <td>4.574082</td>\n",
              "      <td>3.685570</td>\n",
              "      <td>7.667726</td>\n",
              "      <td>3.680272</td>\n",
              "      <td>6.098529</td>\n",
              "      <td>9.207059</td>\n",
              "      <td>4.054462</td>\n",
              "      <td>5.228342</td>\n",
              "      <td>26.237391</td>\n",
              "      <td>27.202839</td>\n",
              "      <td>8.361985</td>\n",
              "      <td>9.637187</td>\n",
              "      <td>3.948061</td>\n",
              "      <td>2.510401</td>\n",
              "      <td>3.122747</td>\n",
              "      <td>11.135740</td>\n",
              "      <td>14.929133</td>\n",
              "      <td>1.000000</td>\n",
              "    </tr>\n",
              "  </tbody>\n",
              "</table>\n",
              "</div>"
            ],
            "text/plain": [
              "                 V1            V2  ...           V28         Class\n",
              "count  28678.000000  28678.000000  ...  28678.000000  28678.000000\n",
              "mean      -0.015438      0.053653  ...      0.001535      0.008578\n",
              "std        2.031529      1.616186  ...      0.296736      0.092221\n",
              "min      -30.552380    -42.172688  ...     -9.617915      0.000000\n",
              "25%       -0.916927     -0.575381  ...     -0.052189      0.000000\n",
              "50%        0.020050      0.075358  ...      0.011075      0.000000\n",
              "75%        1.317461      0.806957  ...      0.078911      0.000000\n",
              "max        2.399484     21.467203  ...     14.929133      1.000000\n",
              "\n",
              "[8 rows x 29 columns]"
            ]
          },
          "metadata": {
            "tags": []
          },
          "execution_count": 5
        }
      ]
    },
    {
      "cell_type": "markdown",
      "metadata": {
        "id": "PVqR7MsY7q7G"
      },
      "source": [
        "Skewed Class Distribution"
      ]
    },
    {
      "cell_type": "code",
      "metadata": {
        "colab": {
          "base_uri": "https://localhost:8080/"
        },
        "id": "026vd2DrSE86",
        "outputId": "d52e56b1-af95-4ec5-c7ad-acacfeda36ea"
      },
      "source": [
        "print('No Frauds : %.2f %%' %(round(data['Class'].value_counts()[0]/len(data) * 100,2)))\r\n",
        "print('Frauds : %.2f %%' %(round(data['Class'].value_counts()[1]/len(data) * 100,2)))"
      ],
      "execution_count": 6,
      "outputs": [
        {
          "output_type": "stream",
          "text": [
            "No Frauds : 99.14 %\n",
            "Frauds : 0.86 %\n"
          ],
          "name": "stdout"
        }
      ]
    },
    {
      "cell_type": "code",
      "metadata": {
        "colab": {
          "base_uri": "https://localhost:8080/",
          "height": 314
        },
        "id": "beiUM--4S1zp",
        "outputId": "ebb56a35-8f19-4f53-d46c-ddb390a80b50"
      },
      "source": [
        "sns.countplot('Class', data=data)\r\n",
        "plt.title('Class Distributions', fontsize=14)"
      ],
      "execution_count": 7,
      "outputs": [
        {
          "output_type": "execute_result",
          "data": {
            "text/plain": [
              "Text(0.5, 1.0, 'Class Distributions')"
            ]
          },
          "metadata": {
            "tags": []
          },
          "execution_count": 7
        },
        {
          "output_type": "display_data",
          "data": {
            "image/png": "[encoded data removed]",
            "text/plain": [
              "<Figure size 432x288 with 1 Axes>"
            ]
          },
          "metadata": {
            "tags": [],
            "needs_background": "light"
          }
        }
      ]
    },
    {
      "cell_type": "markdown",
      "metadata": {
        "id": "bBtrwv0D7yej"
      },
      "source": [
        "#Logistic Regression<br>\r\n",
        "\r\n",
        "\r\n",
        "*   Skewed Class Distribution -> StratifiedKFold\r\n",
        "\r\n"
      ]
    },
    {
      "cell_type": "code",
      "metadata": {
        "id": "xurbSdl7UTsc"
      },
      "source": [
        "X = data.drop('Class', axis=1)\r\n",
        "y = data['Class']"
      ],
      "execution_count": 8,
      "outputs": []
    },
    {
      "cell_type": "code",
      "metadata": {
        "id": "vioyN3IsVy1i"
      },
      "source": [
        "from sklearn.model_selection import StratifiedKFold\r\n",
        "from sklearn.linear_model import LogisticRegression\r\n",
        "from sklearn.metrics import accuracy_score"
      ],
      "execution_count": 9,
      "outputs": []
    },
    {
      "cell_type": "code",
      "metadata": {
        "colab": {
          "base_uri": "https://localhost:8080/"
        },
        "id": "GYE9O3h7es7R",
        "outputId": "17a003cc-e6fa-4934-daee-cb75b4370850"
      },
      "source": [
        "skfold=StratifiedKFold(n_splits=5)\r\n",
        " # -> 폴드 세트 5번 돌면서 달라지는 train/validation의 row index 반환\r\n",
        "\r\n",
        "iter=0\r\n",
        "for train_in, test_in in skfold.split(data,y):\r\n",
        "  iter+=1\r\n",
        "  y_train=data['Class'].iloc[train_in]\r\n",
        "  y_test=data['Class'].iloc[test_in]\r\n",
        "  print('## 교차 검증 : {0}'.format(iter))\r\n",
        "  print(\"학습 레이블 데이터 분포 : \\n\", y_train.value_counts())\r\n",
        "  print(\"검증 레이블 데이터 분포 : \\n\", y_test.value_counts())"
      ],
      "execution_count": 10,
      "outputs": [
        {
          "output_type": "stream",
          "text": [
            "## 교차 검증 : 1\n",
            "학습 레이블 데이터 분포 : \n",
            " 0    22745\n",
            "1      197\n",
            "Name: Class, dtype: int64\n",
            "검증 레이블 데이터 분포 : \n",
            " 0    5687\n",
            "1      49\n",
            "Name: Class, dtype: int64\n",
            "## 교차 검증 : 2\n",
            "학습 레이블 데이터 분포 : \n",
            " 0    22745\n",
            "1      197\n",
            "Name: Class, dtype: int64\n",
            "검증 레이블 데이터 분포 : \n",
            " 0    5687\n",
            "1      49\n",
            "Name: Class, dtype: int64\n",
            "## 교차 검증 : 3\n",
            "학습 레이블 데이터 분포 : \n",
            " 0    22746\n",
            "1      196\n",
            "Name: Class, dtype: int64\n",
            "검증 레이블 데이터 분포 : \n",
            " 0    5686\n",
            "1      50\n",
            "Name: Class, dtype: int64\n",
            "## 교차 검증 : 4\n",
            "학습 레이블 데이터 분포 : \n",
            " 0    22746\n",
            "1      197\n",
            "Name: Class, dtype: int64\n",
            "검증 레이블 데이터 분포 : \n",
            " 0    5686\n",
            "1      49\n",
            "Name: Class, dtype: int64\n",
            "## 교차 검증 : 5\n",
            "학습 레이블 데이터 분포 : \n",
            " 0    22746\n",
            "1      197\n",
            "Name: Class, dtype: int64\n",
            "검증 레이블 데이터 분포 : \n",
            " 0    5686\n",
            "1      49\n",
            "Name: Class, dtype: int64\n"
          ],
          "name": "stdout"
        }
      ]
    },
    {
      "cell_type": "code",
      "metadata": {
        "colab": {
          "base_uri": "https://localhost:8080/"
        },
        "id": "PtTmih4oWCXV",
        "outputId": "b62cd849-2368-466e-8eda-196f53b6c92c"
      },
      "source": [
        "skfold=StratifiedKFold(n_splits=5)\r\n",
        "log_reg = LogisticRegression()\r\n",
        "cv_accur=[]\r\n",
        "iter=0\r\n",
        "\r\n",
        "for train_in,test_in in skfold.split(X,y):\r\n",
        "  X_train,X_test=X.loc[train_in],X.loc[test_in]\r\n",
        "  y_train,y_test=y.iloc[train_in],y.iloc[test_in]\r\n",
        "\r\n",
        "  log_reg.fit(X_train,y_train)\r\n",
        "  pred=log_reg.predict(X_test)\r\n",
        "  iter+=1\r\n",
        "\r\n",
        "  accuracy=np.round(accuracy_score(y_test,pred),4)\r\n",
        "  train_len=X_train.shape[0]\r\n",
        "  test_len=y_train.shape[0]\r\n",
        "\r\n",
        "  print(\"\\n##{0}교차 검증 정확도:{1},학습 데이터 크기: {2}, 검증 데이터 크기: {3}\".format(iter,accuracy,train_len,test_len))\r\n",
        "  cv_accur.append(accuracy)\r\n",
        "\r\n",
        "print(\"\\n##평균 검증 정확도: \",np.mean(cv_accur))\r\n",
        "print(\"\\n#0으로 분류될 확률, 1로 분류될 확률: \\n\",log_reg.predict_proba(X_test))\r\n",
        "print(\"\\n##mean accuracy: \\n\", log_reg.score(X_test, y_test))"
      ],
      "execution_count": 11,
      "outputs": [
        {
          "output_type": "stream",
          "text": [
            "\n",
            "##1교차 검증 정확도:0.9974,학습 데이터 크기: 22942, 검증 데이터 크기: 22942\n",
            "\n",
            "##2교차 검증 정확도:0.9977,학습 데이터 크기: 22942, 검증 데이터 크기: 22942\n",
            "\n",
            "##3교차 검증 정확도:0.9979,학습 데이터 크기: 22942, 검증 데이터 크기: 22942\n",
            "\n",
            "##4교차 검증 정확도:0.9984,학습 데이터 크기: 22943, 검증 데이터 크기: 22943\n",
            "\n",
            "##5교차 검증 정확도:0.9976,학습 데이터 크기: 22943, 검증 데이터 크기: 22943\n",
            "\n",
            "##평균 검증 정확도:  0.9978\n",
            "\n",
            "#0으로 분류될 확률, 1로 분류될 확률: \n",
            " [[4.33105376e-03 9.95668946e-01]\n",
            " [3.54592937e-02 9.64540706e-01]\n",
            " [3.33703802e-04 9.99666296e-01]\n",
            " ...\n",
            " [9.99433252e-01 5.66748146e-04]\n",
            " [9.98110838e-01 1.88916232e-03]\n",
            " [9.99876350e-01 1.23650384e-04]]\n",
            "\n",
            "##mean accuracy: \n",
            " 0.9975588491717524\n"
          ],
          "name": "stdout"
        }
      ]
    },
    {
      "cell_type": "markdown",
      "metadata": {
        "id": "Y9MrdKRWmJpo"
      },
      "source": [
        "#Confusion Matrix"
      ]
    },
    {
      "cell_type": "code",
      "metadata": {
        "id": "I5S3q_sMhqZf"
      },
      "source": [
        "from sklearn.metrics import confusion_matrix"
      ],
      "execution_count": 12,
      "outputs": []
    },
    {
      "cell_type": "code",
      "metadata": {
        "colab": {
          "base_uri": "https://localhost:8080/"
        },
        "id": "trj7xIv1hqXO",
        "outputId": "3c68d7da-d8f6-4431-db91-c2aad7177132"
      },
      "source": [
        "cm = confusion_matrix(y_test, pred)\r\n",
        "cm"
      ],
      "execution_count": 13,
      "outputs": [
        {
          "output_type": "execute_result",
          "data": {
            "text/plain": [
              "array([[5682,    4],\n",
              "       [  10,   39]])"
            ]
          },
          "metadata": {
            "tags": []
          },
          "execution_count": 13
        }
      ]
    },
    {
      "cell_type": "code",
      "metadata": {
        "colab": {
          "base_uri": "https://localhost:8080/",
          "height": 306
        },
        "id": "Nd0FPq07hqSw",
        "outputId": "48f52b35-18c8-46e9-f3ce-33f5a566d73d"
      },
      "source": [
        "import seaborn as sns\r\n",
        "sns.heatmap(cm, annot=True, annot_kws={\"size\": 20}, cmap='Blues')\r\n",
        "plt.xlabel('Prediction', fontsize=20)\r\n",
        "plt.ylabel('Actual', fontsize=20)"
      ],
      "execution_count": 15,
      "outputs": [
        {
          "output_type": "execute_result",
          "data": {
            "text/plain": [
              "Text(33.0, 0.5, 'Actual')"
            ]
          },
          "metadata": {
            "tags": []
          },
          "execution_count": 15
        },
        {
          "output_type": "display_data",
          "data": {
            "image/png": "[encoded data removed]",
            "text/plain": [
              "<Figure size 432x288 with 2 Axes>"
            ]
          },
          "metadata": {
            "tags": [],
            "needs_background": "light"
          }
        }
      ]
    },
    {
      "cell_type": "markdown",
      "metadata": {
        "id": "iOHftCdxis67"
      },
      "source": [
        "##Precision<br>\r\n",
        "1로 예측한 전체에서 옳게 예측한 건수의 비율"
      ]
    },
    {
      "cell_type": "code",
      "metadata": {
        "colab": {
          "base_uri": "https://localhost:8080/"
        },
        "id": "rGpfxO2GisTr",
        "outputId": "9bd5d239-fee7-4e76-90fb-17cca50fef61"
      },
      "source": [
        "from sklearn.metrics import precision_score\r\n",
        "print(\"Precision Score: \",precision_score(y_test, pred))"
      ],
      "execution_count": 16,
      "outputs": [
        {
          "output_type": "stream",
          "text": [
            "Precision Score:  0.9069767441860465\n"
          ],
          "name": "stdout"
        }
      ]
    },
    {
      "cell_type": "markdown",
      "metadata": {
        "id": "_fPRsj-9jJvV"
      },
      "source": [
        "##Recall\r\n",
        "실제 1인 전체에서 옳게 예측한 건수의 비율"
      ]
    },
    {
      "cell_type": "code",
      "metadata": {
        "colab": {
          "base_uri": "https://localhost:8080/"
        },
        "id": "hQUydLyPisRG",
        "outputId": "7e683b11-55dc-4398-e6d2-4e53c97f0686"
      },
      "source": [
        "from sklearn.metrics import recall_score\r\n",
        "print(\"Recall Score: \",recall_score(y_test, pred))"
      ],
      "execution_count": 17,
      "outputs": [
        {
          "output_type": "stream",
          "text": [
            "Recall Score:  0.7959183673469388\n"
          ],
          "name": "stdout"
        }
      ]
    },
    {
      "cell_type": "markdown",
      "metadata": {
        "id": "VEFioMWYjYb5"
      },
      "source": [
        "##F1 Score"
      ]
    },
    {
      "cell_type": "markdown",
      "metadata": {
        "id": "r0T65aRqjorD"
      },
      "source": [
        "재현율과 정밀도의 균형을 나타낸 수치"
      ]
    },
    {
      "cell_type": "code",
      "metadata": {
        "colab": {
          "base_uri": "https://localhost:8080/"
        },
        "id": "C6hBV0IKisOK",
        "outputId": "4dd2d5de-536a-4c62-bfe0-080c6f0f3b78"
      },
      "source": [
        "from sklearn.metrics import f1_score\r\n",
        "print(\"f1 Score: \",f1_score(y_test, pred))"
      ],
      "execution_count": 18,
      "outputs": [
        {
          "output_type": "stream",
          "text": [
            "f1 Score:  0.8478260869565216\n"
          ],
          "name": "stdout"
        }
      ]
    },
    {
      "cell_type": "markdown",
      "metadata": {
        "id": "hf_UAjnY8I6i"
      },
      "source": [
        "#Goal\r\n",
        "억울하게 사기(1)로 분류되는 경우가 없도록!!<br>\r\n",
        "보편적으로 사기(1)임을 입증하는 것보다 사기가 아님(0)을 입증하는 것이 더 어렵<br> \r\n",
        "\r\n",
        "\r\n",
        "*   0을 0으로 올바르게 예측\r\n",
        "*   1을 1로 올바르게 예측 ->  `Precision` 성능 지표\r\n",
        "*   `f1 score`을 향상시켜 전반적인 분류 성능 높이기\r\n",
        "\r\n"
      ]
    },
    {
      "cell_type": "markdown",
      "metadata": {
        "id": "VZoYc9Ck9ESS"
      },
      "source": [
        "#GridSearchCV : 성능 개선 모델"
      ]
    },
    {
      "cell_type": "code",
      "metadata": {
        "id": "B6DCnTimisKq"
      },
      "source": [
        "from sklearn.model_selection import GridSearchCV\r\n",
        "from sklearn.model_selection import train_test_split"
      ],
      "execution_count": 76,
      "outputs": []
    },
    {
      "cell_type": "code",
      "metadata": {
        "colab": {
          "base_uri": "https://localhost:8080/",
          "height": 261
        },
        "id": "VGgn836lrtbM",
        "outputId": "19cb283c-a232-4515-ea2c-354b625d9259"
      },
      "source": [
        "from sklearn.model_selection import train_test_split\r\n",
        "x_train, x_test, y_train, y_test=train_test_split(X,y,test_size=0.3)\r\n",
        "grid={\"C\":np.logspace(-3,3,7), \"penalty\":[\"l2\"]}\r\n",
        "logreg=LogisticRegression()\r\n",
        "logreg_cv=GridSearchCV(logreg,grid,cv=10,refit=True, return_train_score=True)\r\n",
        "logreg_cv.fit(x_train,y_train)\r\n",
        "y_pred = logreg_cv.best_estimator_.predict(x_test)\r\n",
        "\r\n",
        "scores_df = pd.DataFrame(logreg_cv.cv_results_)\r\n",
        "#gridsearchCV 결과는 cv_results_ 딕셔너리로 저장됨\r\n",
        "\r\n",
        "scores_df[['params', 'mean_test_score', 'rank_test_score', \r\n",
        "           'split0_test_score', 'split1_test_score', 'split2_test_score']]\r\n",
        "#딕셔너리를 dataframe으로 변환하여 출력"
      ],
      "execution_count": 77,
      "outputs": [
        {
          "output_type": "execute_result",
          "data": {
            "text/html": [
              "<div>\n",
              "<style scoped>\n",
              "    .dataframe tbody tr th:only-of-type {\n",
              "        vertical-align: middle;\n",
              "    }\n",
              "\n",
              "    .dataframe tbody tr th {\n",
              "        vertical-align: top;\n",
              "    }\n",
              "\n",
              "    .dataframe thead th {\n",
              "        text-align: right;\n",
              "    }\n",
              "</style>\n",
              "<table border=\"1\" class=\"dataframe\">\n",
              "  <thead>\n",
              "    <tr style=\"text-align: right;\">\n",
              "      <th></th>\n",
              "      <th>params</th>\n",
              "      <th>mean_test_score</th>\n",
              "      <th>rank_test_score</th>\n",
              "      <th>split0_test_score</th>\n",
              "      <th>split1_test_score</th>\n",
              "      <th>split2_test_score</th>\n",
              "    </tr>\n",
              "  </thead>\n",
              "  <tbody>\n",
              "    <tr>\n",
              "      <th>0</th>\n",
              "      <td>{'C': 0.001, 'penalty': 'l2'}</td>\n",
              "      <td>0.996363</td>\n",
              "      <td>7</td>\n",
              "      <td>0.997510</td>\n",
              "      <td>0.996514</td>\n",
              "      <td>0.996016</td>\n",
              "    </tr>\n",
              "    <tr>\n",
              "      <th>1</th>\n",
              "      <td>{'C': 0.01, 'penalty': 'l2'}</td>\n",
              "      <td>0.997709</td>\n",
              "      <td>6</td>\n",
              "      <td>0.998506</td>\n",
              "      <td>0.997012</td>\n",
              "      <td>0.997510</td>\n",
              "    </tr>\n",
              "    <tr>\n",
              "      <th>2</th>\n",
              "      <td>{'C': 0.1, 'penalty': 'l2'}</td>\n",
              "      <td>0.997908</td>\n",
              "      <td>1</td>\n",
              "      <td>0.997510</td>\n",
              "      <td>0.997012</td>\n",
              "      <td>0.997510</td>\n",
              "    </tr>\n",
              "    <tr>\n",
              "      <th>3</th>\n",
              "      <td>{'C': 1.0, 'penalty': 'l2'}</td>\n",
              "      <td>0.997908</td>\n",
              "      <td>2</td>\n",
              "      <td>0.997510</td>\n",
              "      <td>0.997510</td>\n",
              "      <td>0.997510</td>\n",
              "    </tr>\n",
              "    <tr>\n",
              "      <th>4</th>\n",
              "      <td>{'C': 10.0, 'penalty': 'l2'}</td>\n",
              "      <td>0.997908</td>\n",
              "      <td>2</td>\n",
              "      <td>0.997510</td>\n",
              "      <td>0.997510</td>\n",
              "      <td>0.997510</td>\n",
              "    </tr>\n",
              "    <tr>\n",
              "      <th>5</th>\n",
              "      <td>{'C': 100.0, 'penalty': 'l2'}</td>\n",
              "      <td>0.997908</td>\n",
              "      <td>2</td>\n",
              "      <td>0.997510</td>\n",
              "      <td>0.997510</td>\n",
              "      <td>0.997510</td>\n",
              "    </tr>\n",
              "    <tr>\n",
              "      <th>6</th>\n",
              "      <td>{'C': 1000.0, 'penalty': 'l2'}</td>\n",
              "      <td>0.997908</td>\n",
              "      <td>2</td>\n",
              "      <td>0.997510</td>\n",
              "      <td>0.997510</td>\n",
              "      <td>0.997510</td>\n",
              "    </tr>\n",
              "  </tbody>\n",
              "</table>\n",
              "</div>"
            ],
            "text/plain": [
              "                           params  ...  split2_test_score\n",
              "0   {'C': 0.001, 'penalty': 'l2'}  ...           0.996016\n",
              "1    {'C': 0.01, 'penalty': 'l2'}  ...           0.997510\n",
              "2     {'C': 0.1, 'penalty': 'l2'}  ...           0.997510\n",
              "3     {'C': 1.0, 'penalty': 'l2'}  ...           0.997510\n",
              "4    {'C': 10.0, 'penalty': 'l2'}  ...           0.997510\n",
              "5   {'C': 100.0, 'penalty': 'l2'}  ...           0.997510\n",
              "6  {'C': 1000.0, 'penalty': 'l2'}  ...           0.997510\n",
              "\n",
              "[7 rows x 6 columns]"
            ]
          },
          "metadata": {
            "tags": []
          },
          "execution_count": 77
        }
      ]
    },
    {
      "cell_type": "code",
      "metadata": {
        "colab": {
          "base_uri": "https://localhost:8080/"
        },
        "id": "gpKF7LF2tMVK",
        "outputId": "8b39515a-71b3-44ea-b392-10a14a104ed0"
      },
      "source": [
        "print(\"tuned hpyerparameters :(best parameters) \",logreg_cv.best_params_)\r\n",
        "print(\"accuracy :\",logreg_cv.best_score_)"
      ],
      "execution_count": 78,
      "outputs": [
        {
          "output_type": "stream",
          "text": [
            "tuned hpyerparameters :(best parameters)  {'C': 0.1, 'penalty': 'l2'}\n",
            "accuracy : 0.9979077958221921\n"
          ],
          "name": "stdout"
        }
      ]
    },
    {
      "cell_type": "markdown",
      "metadata": {
        "id": "pKsO8yLe-qVz"
      },
      "source": [
        "#Confusion Matrix : 개선된 성능 지표"
      ]
    },
    {
      "cell_type": "code",
      "metadata": {
        "colab": {
          "base_uri": "https://localhost:8080/"
        },
        "id": "8QwjWA89uoyq",
        "outputId": "f0c63250-90e0-48b5-ce15-2f81d81e9d58"
      },
      "source": [
        "cm=confusion_matrix(y_test,y_pred)\r\n",
        "cm"
      ],
      "execution_count": 79,
      "outputs": [
        {
          "output_type": "execute_result",
          "data": {
            "text/plain": [
              "array([[8530,    1],\n",
              "       [  23,   50]])"
            ]
          },
          "metadata": {
            "tags": []
          },
          "execution_count": 79
        }
      ]
    },
    {
      "cell_type": "code",
      "metadata": {
        "colab": {
          "base_uri": "https://localhost:8080/",
          "height": 306
        },
        "id": "iMPevjSQtfCX",
        "outputId": "34d52db9-2eb0-4670-aec0-c5f90bd00452"
      },
      "source": [
        "sns.heatmap(cm, annot=True, annot_kws={\"size\": 20}, cmap='Blues')\r\n",
        "plt.xlabel('Prediction', fontsize=20)\r\n",
        "plt.ylabel('Actual', fontsize=20)"
      ],
      "execution_count": 84,
      "outputs": [
        {
          "output_type": "execute_result",
          "data": {
            "text/plain": [
              "Text(33.0, 0.5, 'Actual')"
            ]
          },
          "metadata": {
            "tags": []
          },
          "execution_count": 84
        },
        {
          "output_type": "display_data",
          "data": {
            "image/png": "[encoded data removed]",
            "text/plain": [
              "<Figure size 432x288 with 2 Axes>"
            ]
          },
          "metadata": {
            "tags": [],
            "needs_background": "light"
          }
        }
      ]
    },
    {
      "cell_type": "code",
      "metadata": {
        "colab": {
          "base_uri": "https://localhost:8080/"
        },
        "id": "NTlzkXJF6hIR",
        "outputId": "8b45108a-b706-42c0-c2d8-1b7748081dac"
      },
      "source": [
        "from sklearn.metrics import precision_score\r\n",
        "print(\"Precision Score: \",precision_score(y_test, y_pred))"
      ],
      "execution_count": 81,
      "outputs": [
        {
          "output_type": "stream",
          "text": [
            "Precision Score:  0.9803921568627451\n"
          ],
          "name": "stdout"
        }
      ]
    },
    {
      "cell_type": "code",
      "metadata": {
        "colab": {
          "base_uri": "https://localhost:8080/"
        },
        "id": "rQCT4x7A6EpJ",
        "outputId": "230dc9aa-a1b6-44b4-c42f-569d4ae7c62b"
      },
      "source": [
        "print(\"Recall Score: \",recall_score(y_test, y_pred))"
      ],
      "execution_count": 82,
      "outputs": [
        {
          "output_type": "stream",
          "text": [
            "Recall Score:  0.684931506849315\n"
          ],
          "name": "stdout"
        }
      ]
    },
    {
      "cell_type": "code",
      "metadata": {
        "colab": {
          "base_uri": "https://localhost:8080/"
        },
        "id": "lI1WiYao7S07",
        "outputId": "690b8cce-ed8e-490d-8dd2-fb844b698bd0"
      },
      "source": [
        "print(\"f1 Score: \",f1_score(y_test, y_pred))"
      ],
      "execution_count": 83,
      "outputs": [
        {
          "output_type": "stream",
          "text": [
            "f1 Score:  0.8064516129032259\n"
          ],
          "name": "stdout"
        }
      ]
    }
  ]
}
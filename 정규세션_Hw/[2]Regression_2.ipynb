{
  "nbformat": 4,
  "nbformat_minor": 0,
  "metadata": {
    "kernelspec": {
      "display_name": "Python 3",
      "language": "python",
      "name": "python3"
    },
    "language_info": {
      "codemirror_mode": {
        "name": "ipython",
        "version": 3
      },
      "file_extension": ".py",
      "mimetype": "text/x-python",
      "name": "python",
      "nbconvert_exporter": "python",
      "pygments_lexer": "ipython3",
      "version": "3.8.3"
    },
    "colab": {
      "name": "[2]Regression_2.ipynb",
      "provenance": [],
      "collapsed_sections": [],
      "toc_visible": true
    }
  },
  "cells": [
    {
      "cell_type": "markdown",
      "metadata": {
        "id": "oYVqHpHghxi1"
      },
      "source": [
        "### ** 해석과 판단의 이유를 모두 상세하게 적어주세요 **\n"
      ]
    },
    {
      "cell_type": "code",
      "metadata": {
        "id": "F0T3iPmPhxi_"
      },
      "source": [
        "%matplotlib inline \n",
        "\n",
        "import pandas as pd\n",
        "import numpy as np\n",
        "import matplotlib.pyplot as plt\n",
        "import seaborn as sns\n",
        "\n",
        "import warnings\n",
        "warnings.filterwarnings(action='ignore')"
      ],
      "execution_count": 1,
      "outputs": []
    },
    {
      "cell_type": "code",
      "metadata": {
        "id": "AG-EPa_nhxjA"
      },
      "source": [
        "\n",
        "\n",
        "plt.style.use('seaborn')\n",
        "plt.rc('axes', unicode_minus=False)\n",
        "\n",
        "import matplotlib.font_manager as fm\n",
        "font_path = r'/content/NanumBarunGothicBold.ttf'\n",
        "fontprop = fm.FontProperties(fname=font_path, size=18)\n",
        "\n",
        "\n"
      ],
      "execution_count": 2,
      "outputs": []
    },
    {
      "cell_type": "markdown",
      "metadata": {
        "id": "P0uNO4d5hxjA"
      },
      "source": [
        "# Data "
      ]
    },
    {
      "cell_type": "markdown",
      "metadata": {
        "id": "3-xhqe55hxjB"
      },
      "source": [
        "데이터 출처 : https://www.kaggle.com/avikasliwal/used-cars-price-prediction "
      ]
    },
    {
      "cell_type": "markdown",
      "metadata": {
        "id": "NL9G4b7-hxjB"
      },
      "source": [
        "< y > \n",
        "* **Price** : The price of the used car in INR Lakhs.\n",
        "\n",
        "\n",
        "\n",
        "< X > \n",
        "* Name : The brand and model of the car\n",
        "* Location : The location in which the car is being sold or is available for purchase.\n",
        "* Year : The year or edition of the model.\n",
        "* Kilometers_Driven : The total kilometres driven in the car by the previous owner(s) in KM.\n",
        "* Fuel_Type : The type of fuel used by the car. (Petrol, Diesel, Electric, CNG, LPG)\n",
        "* Transmission : The type of transmission used by the car. (Automatic / Manual)\n",
        "* Owner_Type : Whether the ownership is Firsthand, Second hand or other.\n",
        "* Mileage : The standard mileage offered by the car company in kmpl or km/kg\n",
        "* Engine : The displacement volume of the engine in CC.\n",
        "* Power : The maximum power of the engine in bhp.\n",
        "* Seats : The number of seats in the car.\n",
        "* New_Price : The price of a new car of the same model."
      ]
    },
    {
      "cell_type": "code",
      "metadata": {
        "colab": {
          "base_uri": "https://localhost:8080/",
          "height": 407
        },
        "id": "4erq13F3hxjC",
        "outputId": "9d870503-1f14-40ab-fb6c-510abcdf231d"
      },
      "source": [
        "# Load Data \n",
        "data = pd.read_csv(\"assignment2_data.csv\")\n",
        "data.head()"
      ],
      "execution_count": 3,
      "outputs": [
        {
          "output_type": "execute_result",
          "data": {
            "text/html": [
              "<div>\n",
              "<style scoped>\n",
              "    .dataframe tbody tr th:only-of-type {\n",
              "        vertical-align: middle;\n",
              "    }\n",
              "\n",
              "    .dataframe tbody tr th {\n",
              "        vertical-align: top;\n",
              "    }\n",
              "\n",
              "    .dataframe thead th {\n",
              "        text-align: right;\n",
              "    }\n",
              "</style>\n",
              "<table border=\"1\" class=\"dataframe\">\n",
              "  <thead>\n",
              "    <tr style=\"text-align: right;\">\n",
              "      <th></th>\n",
              "      <th>Unnamed: 0</th>\n",
              "      <th>Name</th>\n",
              "      <th>Location</th>\n",
              "      <th>Year</th>\n",
              "      <th>Kilometers_Driven</th>\n",
              "      <th>Fuel_Type</th>\n",
              "      <th>Transmission</th>\n",
              "      <th>Owner_Type</th>\n",
              "      <th>Mileage</th>\n",
              "      <th>Engine</th>\n",
              "      <th>Power</th>\n",
              "      <th>Seats</th>\n",
              "      <th>New_Price</th>\n",
              "      <th>Price</th>\n",
              "    </tr>\n",
              "  </thead>\n",
              "  <tbody>\n",
              "    <tr>\n",
              "      <th>0</th>\n",
              "      <td>0</td>\n",
              "      <td>Maruti Wagon R LXI CNG</td>\n",
              "      <td>Mumbai</td>\n",
              "      <td>2010</td>\n",
              "      <td>72000</td>\n",
              "      <td>CNG</td>\n",
              "      <td>Manual</td>\n",
              "      <td>First</td>\n",
              "      <td>26.6 km/kg</td>\n",
              "      <td>998 CC</td>\n",
              "      <td>58.16 bhp</td>\n",
              "      <td>5.0</td>\n",
              "      <td>NaN</td>\n",
              "      <td>1.75</td>\n",
              "    </tr>\n",
              "    <tr>\n",
              "      <th>1</th>\n",
              "      <td>1</td>\n",
              "      <td>Hyundai Creta 1.6 CRDi SX Option</td>\n",
              "      <td>Pune</td>\n",
              "      <td>2015</td>\n",
              "      <td>41000</td>\n",
              "      <td>Diesel</td>\n",
              "      <td>Manual</td>\n",
              "      <td>First</td>\n",
              "      <td>19.67 kmpl</td>\n",
              "      <td>1582 CC</td>\n",
              "      <td>126.2 bhp</td>\n",
              "      <td>5.0</td>\n",
              "      <td>NaN</td>\n",
              "      <td>12.50</td>\n",
              "    </tr>\n",
              "    <tr>\n",
              "      <th>2</th>\n",
              "      <td>2</td>\n",
              "      <td>Honda Jazz V</td>\n",
              "      <td>Chennai</td>\n",
              "      <td>2011</td>\n",
              "      <td>46000</td>\n",
              "      <td>Petrol</td>\n",
              "      <td>Manual</td>\n",
              "      <td>First</td>\n",
              "      <td>18.2 kmpl</td>\n",
              "      <td>1199 CC</td>\n",
              "      <td>88.7 bhp</td>\n",
              "      <td>5.0</td>\n",
              "      <td>8.61 Lakh</td>\n",
              "      <td>4.50</td>\n",
              "    </tr>\n",
              "    <tr>\n",
              "      <th>3</th>\n",
              "      <td>3</td>\n",
              "      <td>Maruti Ertiga VDI</td>\n",
              "      <td>Chennai</td>\n",
              "      <td>2012</td>\n",
              "      <td>87000</td>\n",
              "      <td>Diesel</td>\n",
              "      <td>Manual</td>\n",
              "      <td>First</td>\n",
              "      <td>20.77 kmpl</td>\n",
              "      <td>1248 CC</td>\n",
              "      <td>88.76 bhp</td>\n",
              "      <td>7.0</td>\n",
              "      <td>NaN</td>\n",
              "      <td>6.00</td>\n",
              "    </tr>\n",
              "    <tr>\n",
              "      <th>4</th>\n",
              "      <td>4</td>\n",
              "      <td>Audi A4 New 2.0 TDI Multitronic</td>\n",
              "      <td>Coimbatore</td>\n",
              "      <td>2013</td>\n",
              "      <td>40670</td>\n",
              "      <td>Diesel</td>\n",
              "      <td>Automatic</td>\n",
              "      <td>Second</td>\n",
              "      <td>15.2 kmpl</td>\n",
              "      <td>1968 CC</td>\n",
              "      <td>140.8 bhp</td>\n",
              "      <td>5.0</td>\n",
              "      <td>NaN</td>\n",
              "      <td>17.74</td>\n",
              "    </tr>\n",
              "  </tbody>\n",
              "</table>\n",
              "</div>"
            ],
            "text/plain": [
              "   Unnamed: 0                              Name  ...  New_Price  Price\n",
              "0           0            Maruti Wagon R LXI CNG  ...        NaN   1.75\n",
              "1           1  Hyundai Creta 1.6 CRDi SX Option  ...        NaN  12.50\n",
              "2           2                      Honda Jazz V  ...  8.61 Lakh   4.50\n",
              "3           3                 Maruti Ertiga VDI  ...        NaN   6.00\n",
              "4           4   Audi A4 New 2.0 TDI Multitronic  ...        NaN  17.74\n",
              "\n",
              "[5 rows x 14 columns]"
            ]
          },
          "metadata": {
            "tags": []
          },
          "execution_count": 3
        }
      ]
    },
    {
      "cell_type": "code",
      "metadata": {
        "colab": {
          "base_uri": "https://localhost:8080/"
        },
        "id": "Nse3_he6_lV5",
        "outputId": "afcdbd00-37c4-4a0c-e8d1-0fe4ecc48cb5"
      },
      "source": [
        "#결측치 체크\r\n",
        "data.isnull().sum()"
      ],
      "execution_count": 4,
      "outputs": [
        {
          "output_type": "execute_result",
          "data": {
            "text/plain": [
              "Unnamed: 0              0\n",
              "Name                    0\n",
              "Location                0\n",
              "Year                    0\n",
              "Kilometers_Driven       0\n",
              "Fuel_Type               0\n",
              "Transmission            0\n",
              "Owner_Type              0\n",
              "Mileage                 2\n",
              "Engine                 36\n",
              "Power                  36\n",
              "Seats                  42\n",
              "New_Price            5195\n",
              "Price                   0\n",
              "dtype: int64"
            ]
          },
          "metadata": {
            "tags": []
          },
          "execution_count": 4
        }
      ]
    },
    {
      "cell_type": "code",
      "metadata": {
        "colab": {
          "base_uri": "https://localhost:8080/"
        },
        "id": "0tPxXbrC_mq9",
        "outputId": "a69103ae-c3dc-4e09-b333-5aaa773d7666"
      },
      "source": [
        "data.info()"
      ],
      "execution_count": 5,
      "outputs": [
        {
          "output_type": "stream",
          "text": [
            "<class 'pandas.core.frame.DataFrame'>\n",
            "RangeIndex: 6019 entries, 0 to 6018\n",
            "Data columns (total 14 columns):\n",
            " #   Column             Non-Null Count  Dtype  \n",
            "---  ------             --------------  -----  \n",
            " 0   Unnamed: 0         6019 non-null   int64  \n",
            " 1   Name               6019 non-null   object \n",
            " 2   Location           6019 non-null   object \n",
            " 3   Year               6019 non-null   int64  \n",
            " 4   Kilometers_Driven  6019 non-null   int64  \n",
            " 5   Fuel_Type          6019 non-null   object \n",
            " 6   Transmission       6019 non-null   object \n",
            " 7   Owner_Type         6019 non-null   object \n",
            " 8   Mileage            6017 non-null   object \n",
            " 9   Engine             5983 non-null   object \n",
            " 10  Power              5983 non-null   object \n",
            " 11  Seats              5977 non-null   float64\n",
            " 12  New_Price          824 non-null    object \n",
            " 13  Price              6019 non-null   float64\n",
            "dtypes: float64(2), int64(3), object(9)\n",
            "memory usage: 658.5+ KB\n"
          ],
          "name": "stdout"
        }
      ]
    },
    {
      "cell_type": "code",
      "metadata": {
        "colab": {
          "base_uri": "https://localhost:8080/"
        },
        "id": "ZHvHWnsdjEjC",
        "outputId": "e5ac6f47-794f-4924-c74c-3f96485a68cb"
      },
      "source": [
        "data.shape"
      ],
      "execution_count": 6,
      "outputs": [
        {
          "output_type": "execute_result",
          "data": {
            "text/plain": [
              "(6019, 14)"
            ]
          },
          "metadata": {
            "tags": []
          },
          "execution_count": 6
        }
      ]
    },
    {
      "cell_type": "markdown",
      "metadata": {
        "id": "ZQopvCnv6_2T"
      },
      "source": [
        "#Target Data Distribution<br>\r\n",
        "Target Data = `Price`"
      ]
    },
    {
      "cell_type": "markdown",
      "metadata": {
        "id": "mJ6VZ2_zWKyl"
      },
      "source": [
        "`Price` 변수 값이 상당히 한 쪽으로 치우쳐 있음"
      ]
    },
    {
      "cell_type": "code",
      "metadata": {
        "colab": {
          "base_uri": "https://localhost:8080/",
          "height": 375
        },
        "id": "59GXebZB7Nfu",
        "outputId": "84520cb0-c59f-49e9-c6fe-e8d9473f9c4e"
      },
      "source": [
        "fig,(ax1,ax2)= plt.subplots(nrows=1,ncols=2)\r\n",
        "fig.set_size_inches(25,8)\r\n",
        "sns.boxplot(data[\"Price\"], ax=ax1)\r\n",
        "sns.distplot(data[\"Price\"],ax=ax2)"
      ],
      "execution_count": 7,
      "outputs": [
        {
          "output_type": "execute_result",
          "data": {
            "text/plain": [
              "<matplotlib.axes._subplots.AxesSubplot at 0x7f404e4b2dd8>"
            ]
          },
          "metadata": {
            "tags": []
          },
          "execution_count": 7
        },
        {
          "output_type": "display_data",
          "data": {
            "image/png": "[encoded data removed]",
            "text/plain": [
              "<Figure size 1800x576 with 2 Axes>"
            ]
          },
          "metadata": {
            "tags": []
          }
        }
      ]
    },
    {
      "cell_type": "markdown",
      "metadata": {
        "id": "NQ3FprNU93zZ"
      },
      "source": [
        "#Categorical Variable"
      ]
    },
    {
      "cell_type": "markdown",
      "metadata": {
        "id": "94tUYo04NO1V"
      },
      "source": [
        "##Categorical Variable 변수 수정"
      ]
    },
    {
      "cell_type": "markdown",
      "metadata": {
        "id": "FANJWT3OJdPz"
      },
      "source": [
        "\r\n",
        "\r\n",
        " ### 1.`Company` <br>\r\n",
        " : Name변수 앞에 명시된 회사 상호를 따로 모아 `Company`로 생성\r\n",
        "\r\n"
      ]
    },
    {
      "cell_type": "code",
      "metadata": {
        "colab": {
          "base_uri": "https://localhost:8080/"
        },
        "id": "3ZyD_XmvJdCn",
        "outputId": "d6b9dcb5-2fe5-4ddc-fbee-08c983466a51"
      },
      "source": [
        "data[\"Name\"].value_counts()\r\n",
        "#Name 앞에 회사 상호 명시됨. 개별적인 자동차에서 회사별로 분류 필요"
      ],
      "execution_count": 8,
      "outputs": [
        {
          "output_type": "execute_result",
          "data": {
            "text/plain": [
              "Mahindra XUV500 W8 2WD                  49\n",
              "Maruti Swift VDI                        45\n",
              "Maruti Swift Dzire VDI                  34\n",
              "Honda City 1.5 S MT                     34\n",
              "Maruti Swift VDI BSIV                   31\n",
              "                                        ..\n",
              "Ford Figo Diesel EXI Option              1\n",
              "Smart Fortwo CDI AT                      1\n",
              "Skoda Fabia 1.4 TDI Active               1\n",
              "Volkswagen Vento 1.2 TSI Highline AT     1\n",
              "Skoda Yeti Elegance 4X2                  1\n",
              "Name: Name, Length: 1876, dtype: int64"
            ]
          },
          "metadata": {
            "tags": []
          },
          "execution_count": 8
        }
      ]
    },
    {
      "cell_type": "code",
      "metadata": {
        "id": "pDnFOseFLPM2"
      },
      "source": [
        "for i in range(data.shape[0]):\r\n",
        "    data.at[i, 'Company'] = data['Name'][i].split()[0]\r\n"
      ],
      "execution_count": 9,
      "outputs": []
    },
    {
      "cell_type": "code",
      "metadata": {
        "id": "kRqF89VBqAvZ"
      },
      "source": [
        "data.drop(\"Name\",axis=1,inplace=True)"
      ],
      "execution_count": 10,
      "outputs": []
    },
    {
      "cell_type": "code",
      "metadata": {
        "id": "W9Ko4qDRaTGG",
        "colab": {
          "base_uri": "https://localhost:8080/"
        },
        "outputId": "eb276343-d94a-4306-a78e-739339656ff1"
      },
      "source": [
        "data[\"Company\"].value_counts()"
      ],
      "execution_count": 11,
      "outputs": [
        {
          "output_type": "execute_result",
          "data": {
            "text/plain": [
              "Maruti           1211\n",
              "Hyundai          1107\n",
              "Honda             608\n",
              "Toyota            411\n",
              "Mercedes-Benz     318\n",
              "Volkswagen        315\n",
              "Ford              300\n",
              "Mahindra          272\n",
              "BMW               267\n",
              "Audi              236\n",
              "Tata              186\n",
              "Skoda             173\n",
              "Renault           145\n",
              "Chevrolet         121\n",
              "Nissan             91\n",
              "Land               60\n",
              "Jaguar             40\n",
              "Fiat               28\n",
              "Mitsubishi         27\n",
              "Mini               26\n",
              "Volvo              21\n",
              "Porsche            18\n",
              "Jeep               15\n",
              "Datsun             13\n",
              "Force               3\n",
              "ISUZU               2\n",
              "Ambassador          1\n",
              "Isuzu               1\n",
              "Smart               1\n",
              "Bentley             1\n",
              "Lamborghini         1\n",
              "Name: Company, dtype: int64"
            ]
          },
          "metadata": {
            "tags": []
          },
          "execution_count": 11
        }
      ]
    },
    {
      "cell_type": "code",
      "metadata": {
        "id": "Kip_PuiODFUF",
        "colab": {
          "base_uri": "https://localhost:8080/"
        },
        "outputId": "d11d9ea3-a5dd-47df-f6a4-de3f4636f41f"
      },
      "source": [
        "#모든 Categorical Variable\r\n",
        "print(\"Location: \",data['Location'].unique())\r\n",
        "print(\"Fuel_Type: \",data['Fuel_Type'].unique())\r\n",
        "print(\"Transmission: \",data['Transmission'].unique())\r\n",
        "print(\"Owner_Type: \",data['Owner_Type'].unique())\r\n",
        "print(\"Company: \",data['Company'].unique())"
      ],
      "execution_count": 12,
      "outputs": [
        {
          "output_type": "stream",
          "text": [
            "Location:  ['Mumbai' 'Pune' 'Chennai' 'Coimbatore' 'Hyderabad' 'Jaipur' 'Kochi'\n",
            " 'Kolkata' 'Delhi' 'Bangalore' 'Ahmedabad']\n",
            "Fuel_Type:  ['CNG' 'Diesel' 'Petrol' 'LPG' 'Electric']\n",
            "Transmission:  ['Manual' 'Automatic']\n",
            "Owner_Type:  ['First' 'Second' 'Fourth & Above' 'Third']\n",
            "Company:  ['Maruti' 'Hyundai' 'Honda' 'Audi' 'Nissan' 'Toyota' 'Volkswagen' 'Tata'\n",
            " 'Land' 'Mitsubishi' 'Renault' 'Mercedes-Benz' 'BMW' 'Mahindra' 'Ford'\n",
            " 'Porsche' 'Datsun' 'Jaguar' 'Volvo' 'Chevrolet' 'Skoda' 'Mini' 'Fiat'\n",
            " 'Jeep' 'Smart' 'Ambassador' 'Isuzu' 'ISUZU' 'Force' 'Bentley'\n",
            " 'Lamborghini']\n"
          ],
          "name": "stdout"
        }
      ]
    },
    {
      "cell_type": "markdown",
      "metadata": {
        "id": "cmkDI51mhxjE"
      },
      "source": [
        "# Numerical Variable"
      ]
    },
    {
      "cell_type": "markdown",
      "metadata": {
        "id": "BosLD6WKPiO6"
      },
      "source": [
        "##Numerical Variable 변수 수정"
      ]
    },
    {
      "cell_type": "markdown",
      "metadata": {
        "id": "po4UeUSUPoV8"
      },
      "source": [
        "### 1.`Unnamed:0` 삭제<br>\r\n",
        "data에 `Unnamed:0`는 row 인덱스 값과 동일 -> 삭제"
      ]
    },
    {
      "cell_type": "code",
      "metadata": {
        "id": "UL0We1Xbjjsr"
      },
      "source": [
        "data.drop(\"Unnamed: 0\",axis=1,inplace=True)"
      ],
      "execution_count": 13,
      "outputs": []
    },
    {
      "cell_type": "markdown",
      "metadata": {
        "id": "gg9Lwtj_P2u8"
      },
      "source": [
        "### 2.`New_Price` 삭제<br>\r\n",
        "`New_Price`는 NULL값 많음 -> 삭제\r\n"
      ]
    },
    {
      "cell_type": "code",
      "metadata": {
        "id": "HFJeDnNElnd8"
      },
      "source": [
        "data.drop(\"New_Price\",axis=1,inplace=True)"
      ],
      "execution_count": 14,
      "outputs": []
    },
    {
      "cell_type": "markdown",
      "metadata": {
        "id": "WnCrhoTFQk-E"
      },
      "source": [
        "### 3.`Mileage`,`Engine`,`Power`,`Seats`"
      ]
    },
    {
      "cell_type": "markdown",
      "metadata": {
        "id": "3cYiM4OHQ5t2"
      },
      "source": [
        "`Mileage`,`Engine`,`Power` : 문자형 값 -> 숫자형"
      ]
    },
    {
      "cell_type": "code",
      "metadata": {
        "colab": {
          "base_uri": "https://localhost:8080/"
        },
        "id": "gv85z5swr--x",
        "outputId": "35847d36-3ad6-43d0-e652-5f2c37b34968"
      },
      "source": [
        "print(\"Engine type: \",type(data[\"Engine\"][1]))\r\n",
        "print(\"Mileage type: \",type(data[\"Mileage\"][1]))\r\n",
        "print(\"Power type: \",type(data[\"Power\"][1]))\r\n",
        "print(\"Seats type: \",type(data[\"Seats\"][1]))"
      ],
      "execution_count": 15,
      "outputs": [
        {
          "output_type": "stream",
          "text": [
            "Engine type:  <class 'str'>\n",
            "Mileage type:  <class 'str'>\n",
            "Power type:  <class 'str'>\n",
            "Seats type:  <class 'numpy.float64'>\n"
          ],
          "name": "stdout"
        }
      ]
    },
    {
      "cell_type": "code",
      "metadata": {
        "id": "RhK5XiRrjHhN"
      },
      "source": [
        "import re\r\n",
        "\r\n",
        "data['Engine']=data['Engine'].str.replace(r'\\D+','') #Engine 값 뒤에 단위 'CC' 삭제\r\n",
        "data['Engine'] = data['Engine'].astype(float) #Engine column 값을 str형에서 float형으로\r\n",
        "\r\n",
        "data['Mileage']=data['Mileage'].str.replace(r'\\D+','') #Mileage 값 뒤에 단위 'km/kg & km/l' 삭제\r\n",
        "data['Mileage']=data['Mileage'].astype('float') #Mileage column 값을 str형에서 float형으로\r\n",
        "\r\n",
        "\r\n",
        "data['Power']=data['Power'].apply(str).str.replace(r'\\D+','') #Power 값 뒤에 단위 'bhp' 삭제\r\n",
        "data['Power'] = pd.to_numeric(data['Power'],errors='coerce') #Power column 값을 str형에서 float형으로\r\n"
      ],
      "execution_count": 16,
      "outputs": []
    },
    {
      "cell_type": "markdown",
      "metadata": {
        "id": "YcWJH-UrR1LO"
      },
      "source": [
        "`Mileage`,`Engine`,`Power`,`Seats`의 결측치는 평균값으로 대체"
      ]
    },
    {
      "cell_type": "code",
      "metadata": {
        "id": "ckMCl3Rxqd2d"
      },
      "source": [
        "\r\n",
        "data['Engine']= data['Engine'].fillna((data['Engine'].mean()))\r\n",
        "data['Mileage']= data['Mileage'].fillna((data['Mileage'].mean()))\r\n",
        "data['Seats']= data['Seats'].fillna((data['Seats'].mean()))\r\n",
        "data['Seats']=data['Seats'].astype('int')\r\n",
        "data['Power']= data['Power'].fillna((data['Power'].mean()))\r\n"
      ],
      "execution_count": 17,
      "outputs": []
    },
    {
      "cell_type": "markdown",
      "metadata": {
        "id": "I9Tn1CTWXqAF"
      },
      "source": [
        "### 4.`Kilometer_Driven` 이상치 제거<br>"
      ]
    },
    {
      "cell_type": "code",
      "metadata": {
        "id": "ZsxX6kH0X18M"
      },
      "source": [
        "data=data.drop(data[data['Kilometers_Driven'] >= 600000].index, axis=0)"
      ],
      "execution_count": 18,
      "outputs": []
    },
    {
      "cell_type": "markdown",
      "metadata": {
        "id": "yE5ipYbBAEPs"
      },
      "source": [
        "\r\n",
        "\r\n",
        "\r\n",
        "###  5.`Year`->`Used_Year`<br>\r\n",
        "=> 현재 년도 - 차를 산 당시 년도=사용년도\r\n",
        "\r\n"
      ]
    },
    {
      "cell_type": "code",
      "metadata": {
        "id": "GwGcNSRsAnSG"
      },
      "source": [
        "import datetime\r\n",
        "curr_date=datetime.datetime.now()\r\n",
        "data[\"Used_Year\"]=data[\"Year\"].apply(lambda x: curr_date.year-x) #사용 년도 = 현재 년도 - 차를 산 당시 년도\r\n",
        "data.drop([\"Year\"],axis=1,inplace=True) #기존의 year 변수 (차를 산 당시 년도) 삭제\r\n",
        "\r\n"
      ],
      "execution_count": 19,
      "outputs": []
    },
    {
      "cell_type": "markdown",
      "metadata": {
        "id": "ITmIRJ6QO4gd"
      },
      "source": [
        "#변수간의 관계"
      ]
    },
    {
      "cell_type": "code",
      "metadata": {
        "id": "2yuFCvZPTT0k"
      },
      "source": [
        "features =['Company','Location','Used_Year','Kilometers_Driven','Fuel_Type','Transmission','Owner_Type','Mileage','Engine','Power','Seats']\r\n",
        "num_fea=['Used_Year','Kilometers_Driven','Mileage','Engine','Power','Seats']\r\n",
        "cat_fea=['Company','Location','Fuel_Type','Transmission','Owner_Type']\r\n",
        "target = 'Price'"
      ],
      "execution_count": 20,
      "outputs": []
    },
    {
      "cell_type": "markdown",
      "metadata": {
        "id": "mCtgfpJQOfWB"
      },
      "source": [
        "##Categorical variable 분석"
      ]
    },
    {
      "cell_type": "markdown",
      "metadata": {
        "id": "Hc9QH3KsOtjP"
      },
      "source": [
        "\r\n",
        "\r\n",
        "*  Maruti가 가장 인기있는 브랜드\r\n",
        "*   diesel과 petrol의 fuel type 동일\r\n",
        "*   Manual 방식의 transmission 많이 사용됨\r\n",
        "* First와 Second ownership인 경우가 많음\r\n",
        "\r\n"
      ]
    },
    {
      "cell_type": "code",
      "metadata": {
        "id": "LszOLrscMhUX",
        "colab": {
          "base_uri": "https://localhost:8080/",
          "height": 1000
        },
        "outputId": "7a9c8025-45fb-4ee8-a5f3-d359a97201a8"
      },
      "source": [
        "fig,(ax1,ax2)= plt.subplots(nrows=1,ncols=2)\r\n",
        "fig.set_size_inches(25,8)\r\n",
        "\r\n",
        "\r\n",
        "fig1=sns.countplot(x='Location', data=data,ax=ax1)\r\n",
        "fig1.set_title(\"Location 분포\")\r\n",
        "\r\n",
        "fig2=sns.countplot(x=\"Fuel_Type\", data=data,ax=ax2)\r\n",
        "fig2.set_title(\"Fuel Type 분포\")\r\n",
        "\r\n",
        "fig,(ax3,ax4)= plt.subplots(nrows=1,ncols=2)\r\n",
        "fig.set_size_inches(25,8)\r\n",
        "fig3=sns.countplot(x='Transmission', data=data,ax=ax3)\r\n",
        "fig3.set_title(\"Transmission 분포\",fontsize=30,fontproperties=fontprop)\r\n",
        "\r\n",
        "\r\n",
        "fig4=sns.countplot(x='Owner_Type', data=data,ax=ax4)\r\n",
        "fig4.set_title(\"Owner_Type 분포\",fontsize=30,fontproperties=fontprop)\r\n",
        "\r\n",
        "fig,(ax6)= plt.subplots(nrows=1,ncols=1)\r\n",
        "fig.set_size_inches(25,8)\r\n",
        "fig6=sns.countplot(x='Company', data=data,ax=ax6)\r\n",
        "fig6.set_title(\"Company 분포\",fontsize=30,fontproperties=fontprop)"
      ],
      "execution_count": 21,
      "outputs": [
        {
          "output_type": "execute_result",
          "data": {
            "text/plain": [
              "Text(0.5, 1.0, 'Company 분포')"
            ]
          },
          "metadata": {
            "tags": []
          },
          "execution_count": 21
        },
        {
          "output_type": "display_data",
          "data": {
            "image/png": "[encoded data removed]",
            "text/plain": [
              "<Figure size 1800x576 with 2 Axes>"
            ]
          },
          "metadata": {
            "tags": []
          }
        },
        {
          "output_type": "display_data",
          "data": {
            "image/png": "[encoded data removed]",
            "text/plain": [
              "<Figure size 1800x576 with 2 Axes>"
            ]
          },
          "metadata": {
            "tags": []
          }
        },
        {
          "output_type": "display_data",
          "data": {
            "image/png": "[encoded data removed]",
            "text/plain": [
              "<Figure size 1800x576 with 1 Axes>"
            ]
          },
          "metadata": {
            "tags": []
          }
        }
      ]
    },
    {
      "cell_type": "code",
      "metadata": {
        "id": "KEHfPxgRZm4A",
        "colab": {
          "base_uri": "https://localhost:8080/",
          "height": 1000
        },
        "outputId": "1ff03e4c-afc4-465e-b369-c033de267ee2"
      },
      "source": [
        "fig,(ax1,ax2)= plt.subplots(nrows=1,ncols=2)\r\n",
        "fig.set_size_inches(25,8)\r\n",
        "\r\n",
        "\r\n",
        "fig1=sns.scatterplot(x='Location',y=\"Price\",data=data,ax=ax1)\r\n",
        "fig1.set_title(\"Location과 Price의 관계\",fontsize=30,fontproperties=fontprop)\r\n",
        "\r\n",
        "fig2=sns.scatterplot(x=\"Fuel_Type\", y=\"Price\",data=data,ax=ax2)\r\n",
        "fig2.set_title(\"Mileage과 Price의 관계\",fontsize=30,fontproperties=fontprop)\r\n",
        "\r\n",
        "fig,(ax3,ax4)= plt.subplots(nrows=1,ncols=2)\r\n",
        "fig.set_size_inches(25,8)\r\n",
        "\r\n",
        "\r\n",
        "fig3=sns.scatterplot(x='Transmission',y=\"Price\", data=data,ax=ax3)\r\n",
        "fig3.set_title(\"Seats과 Price의 관계\",fontsize=30,fontproperties=fontprop)\r\n",
        "\r\n",
        "fig4=sns.scatterplot(x='Owner_Type',y=\"Price\", data=data,ax=ax4)\r\n",
        "fig4.set_title(\"Used_Year과 Price의 관계\",fontsize=30,fontproperties=fontprop)\r\n",
        "\r\n",
        "fig,(ax6)= plt.subplots(nrows=1,ncols=1)\r\n",
        "fig.set_size_inches(25,8)\r\n",
        "fig6=sns.scatterplot(x='Company',y=\"Price\", data=data,ax=ax6)\r\n",
        "fig6.set_title(\"Used_Year과 Price의 관계\",fontsize=30,fontproperties=fontprop)"
      ],
      "execution_count": 22,
      "outputs": [
        {
          "output_type": "execute_result",
          "data": {
            "text/plain": [
              "Text(0.5, 1.0, 'Used_Year과 Price의 관계')"
            ]
          },
          "metadata": {
            "tags": []
          },
          "execution_count": 22
        },
        {
          "output_type": "display_data",
          "data": {
            "image/png": "[encoded data removed]",
            "text/plain": [
              "<Figure size 1800x576 with 2 Axes>"
            ]
          },
          "metadata": {
            "tags": []
          }
        },
        {
          "output_type": "display_data",
          "data": {
            "image/png": "[encoded data removed]",
            "text/plain": [
              "<Figure size 1800x576 with 2 Axes>"
            ]
          },
          "metadata": {
            "tags": []
          }
        },
        {
          "output_type": "display_data",
          "data": {
            "image/png": "[encoded data removed]",
            "text/plain": [
              "<Figure size 1800x576 with 1 Axes>"
            ]
          },
          "metadata": {
            "tags": []
          }
        }
      ]
    },
    {
      "cell_type": "markdown",
      "metadata": {
        "id": "mv9tEUiFPRxV"
      },
      "source": [
        "##Numerical Variable 분석"
      ]
    },
    {
      "cell_type": "code",
      "metadata": {
        "colab": {
          "base_uri": "https://localhost:8080/",
          "height": 233
        },
        "id": "ijdjWmENBQCJ",
        "outputId": "9907c4e1-4eee-4100-adbc-4ded4264b7d6"
      },
      "source": [
        "# correlation matrix \r\n",
        "data[num_fea].corr()"
      ],
      "execution_count": null,
      "outputs": [
        {
          "output_type": "execute_result",
          "data": {
            "text/html": [
              "<div>\n",
              "<style scoped>\n",
              "    .dataframe tbody tr th:only-of-type {\n",
              "        vertical-align: middle;\n",
              "    }\n",
              "\n",
              "    .dataframe tbody tr th {\n",
              "        vertical-align: top;\n",
              "    }\n",
              "\n",
              "    .dataframe thead th {\n",
              "        text-align: right;\n",
              "    }\n",
              "</style>\n",
              "<table border=\"1\" class=\"dataframe\">\n",
              "  <thead>\n",
              "    <tr style=\"text-align: right;\">\n",
              "      <th></th>\n",
              "      <th>Used_Year</th>\n",
              "      <th>Kilometers_Driven</th>\n",
              "      <th>Mileage</th>\n",
              "      <th>Engine</th>\n",
              "      <th>Power</th>\n",
              "      <th>Seats</th>\n",
              "    </tr>\n",
              "  </thead>\n",
              "  <tbody>\n",
              "    <tr>\n",
              "      <th>Used_Year</th>\n",
              "      <td>1.000000</td>\n",
              "      <td>0.481456</td>\n",
              "      <td>-0.198080</td>\n",
              "      <td>0.052322</td>\n",
              "      <td>-0.158181</td>\n",
              "      <td>-0.015184</td>\n",
              "    </tr>\n",
              "    <tr>\n",
              "      <th>Kilometers_Driven</th>\n",
              "      <td>0.481456</td>\n",
              "      <td>1.000000</td>\n",
              "      <td>-0.065126</td>\n",
              "      <td>0.167621</td>\n",
              "      <td>-0.104424</td>\n",
              "      <td>0.229683</td>\n",
              "    </tr>\n",
              "    <tr>\n",
              "      <th>Mileage</th>\n",
              "      <td>-0.198080</td>\n",
              "      <td>-0.065126</td>\n",
              "      <td>1.000000</td>\n",
              "      <td>-0.020358</td>\n",
              "      <td>0.130665</td>\n",
              "      <td>-0.020005</td>\n",
              "    </tr>\n",
              "    <tr>\n",
              "      <th>Engine</th>\n",
              "      <td>0.052322</td>\n",
              "      <td>0.167621</td>\n",
              "      <td>-0.020358</td>\n",
              "      <td>1.000000</td>\n",
              "      <td>0.050629</td>\n",
              "      <td>0.393317</td>\n",
              "    </tr>\n",
              "    <tr>\n",
              "      <th>Power</th>\n",
              "      <td>-0.158181</td>\n",
              "      <td>-0.104424</td>\n",
              "      <td>0.130665</td>\n",
              "      <td>0.050629</td>\n",
              "      <td>1.000000</td>\n",
              "      <td>-0.105708</td>\n",
              "    </tr>\n",
              "    <tr>\n",
              "      <th>Seats</th>\n",
              "      <td>-0.015184</td>\n",
              "      <td>0.229683</td>\n",
              "      <td>-0.020005</td>\n",
              "      <td>0.393317</td>\n",
              "      <td>-0.105708</td>\n",
              "      <td>1.000000</td>\n",
              "    </tr>\n",
              "  </tbody>\n",
              "</table>\n",
              "</div>"
            ],
            "text/plain": [
              "                   Used_Year  Kilometers_Driven  ...     Power     Seats\n",
              "Used_Year           1.000000           0.481456  ... -0.158181 -0.015184\n",
              "Kilometers_Driven   0.481456           1.000000  ... -0.104424  0.229683\n",
              "Mileage            -0.198080          -0.065126  ...  0.130665 -0.020005\n",
              "Engine              0.052322           0.167621  ...  0.050629  0.393317\n",
              "Power              -0.158181          -0.104424  ...  1.000000 -0.105708\n",
              "Seats              -0.015184           0.229683  ... -0.105708  1.000000\n",
              "\n",
              "[6 rows x 6 columns]"
            ]
          },
          "metadata": {
            "tags": []
          },
          "execution_count": 23
        }
      ]
    },
    {
      "cell_type": "code",
      "metadata": {
        "colab": {
          "base_uri": "https://localhost:8080/",
          "height": 613
        },
        "id": "2qn9xDa4Bf5i",
        "outputId": "49d3caed-7487-4f03-d139-dda1bbe7ee7b"
      },
      "source": [
        "# heatmap : correlation matrix 시각화 \r\n",
        "plt.figure(figsize=(10,10))\r\n",
        "sns.heatmap(data = data[num_fea].corr(), annot=True, fmt = '.2f', linewidths=.5, cmap='Blues')"
      ],
      "execution_count": null,
      "outputs": [
        {
          "output_type": "execute_result",
          "data": {
            "text/plain": [
              "<matplotlib.axes._subplots.AxesSubplot at 0x7f5dd83b76d8>"
            ]
          },
          "metadata": {
            "tags": []
          },
          "execution_count": 24
        },
        {
          "output_type": "display_data",
          "data": {
            "image/png": "[encoded data removed]",
            "text/plain": [
              "<Figure size 720x720 with 2 Axes>"
            ]
          },
          "metadata": {
            "tags": []
          }
        }
      ]
    },
    {
      "cell_type": "code",
      "metadata": {
        "colab": {
          "base_uri": "https://localhost:8080/",
          "height": 233
        },
        "id": "xndoLpA8B_m-",
        "outputId": "9b20b073-c467-4aa4-f624-d68859b6d90e"
      },
      "source": [
        "# VIF check \r\n",
        "from statsmodels.stats.outliers_influence import variance_inflation_factor\r\n",
        "\r\n",
        "vif = pd.DataFrame()\r\n",
        "vif[\"VIF Factor\"] = [variance_inflation_factor(data[num_fea].values, i) for i in range(data[num_fea].shape[1])]\r\n",
        "vif[\"features\"] = data[num_fea].columns\r\n",
        "vif.sort_values([\"VIF Factor\"], ascending=[False])"
      ],
      "execution_count": null,
      "outputs": [
        {
          "output_type": "execute_result",
          "data": {
            "text/html": [
              "<div>\n",
              "<style scoped>\n",
              "    .dataframe tbody tr th:only-of-type {\n",
              "        vertical-align: middle;\n",
              "    }\n",
              "\n",
              "    .dataframe tbody tr th {\n",
              "        vertical-align: top;\n",
              "    }\n",
              "\n",
              "    .dataframe thead th {\n",
              "        text-align: right;\n",
              "    }\n",
              "</style>\n",
              "<table border=\"1\" class=\"dataframe\">\n",
              "  <thead>\n",
              "    <tr style=\"text-align: right;\">\n",
              "      <th></th>\n",
              "      <th>VIF Factor</th>\n",
              "      <th>features</th>\n",
              "    </tr>\n",
              "  </thead>\n",
              "  <tbody>\n",
              "    <tr>\n",
              "      <th>5</th>\n",
              "      <td>15.689484</td>\n",
              "      <td>Seats</td>\n",
              "    </tr>\n",
              "    <tr>\n",
              "      <th>3</th>\n",
              "      <td>10.044462</td>\n",
              "      <td>Engine</td>\n",
              "    </tr>\n",
              "    <tr>\n",
              "      <th>0</th>\n",
              "      <td>7.460705</td>\n",
              "      <td>Used_Year</td>\n",
              "    </tr>\n",
              "    <tr>\n",
              "      <th>1</th>\n",
              "      <td>5.055288</td>\n",
              "      <td>Kilometers_Driven</td>\n",
              "    </tr>\n",
              "    <tr>\n",
              "      <th>2</th>\n",
              "      <td>2.009374</td>\n",
              "      <td>Mileage</td>\n",
              "    </tr>\n",
              "    <tr>\n",
              "      <th>4</th>\n",
              "      <td>1.333174</td>\n",
              "      <td>Power</td>\n",
              "    </tr>\n",
              "  </tbody>\n",
              "</table>\n",
              "</div>"
            ],
            "text/plain": [
              "   VIF Factor           features\n",
              "5   15.689484              Seats\n",
              "3   10.044462             Engine\n",
              "0    7.460705          Used_Year\n",
              "1    5.055288  Kilometers_Driven\n",
              "2    2.009374            Mileage\n",
              "4    1.333174              Power"
            ]
          },
          "metadata": {
            "tags": []
          },
          "execution_count": 26
        }
      ]
    },
    {
      "cell_type": "markdown",
      "metadata": {
        "id": "qGp42npKC639"
      },
      "source": [
        "* 다중공선성 의심 변수 : Seats, Engine\r\n",
        "* 다중공선성이 의심가는 변수를 제거해 가며 모델 판단 해보려고 함"
      ]
    },
    {
      "cell_type": "code",
      "metadata": {
        "colab": {
          "base_uri": "https://localhost:8080/",
          "height": 202
        },
        "id": "d5CQlDabDGJi",
        "outputId": "f5c32688-3462-493e-c3d1-54dc9796f663"
      },
      "source": [
        "X2 = data[num_fea].drop(['Seats'], axis=1)\r\n",
        "vif = pd.DataFrame()\r\n",
        "vif[\"VIF Factor\"] = [variance_inflation_factor(X2.values, i) for i in range(X2.shape[1])]\r\n",
        "vif[\"features\"] = X2.columns\r\n",
        "vif.sort_values([\"VIF Factor\"], ascending=[False])"
      ],
      "execution_count": null,
      "outputs": [
        {
          "output_type": "execute_result",
          "data": {
            "text/html": [
              "<div>\n",
              "<style scoped>\n",
              "    .dataframe tbody tr th:only-of-type {\n",
              "        vertical-align: middle;\n",
              "    }\n",
              "\n",
              "    .dataframe tbody tr th {\n",
              "        vertical-align: top;\n",
              "    }\n",
              "\n",
              "    .dataframe thead th {\n",
              "        text-align: right;\n",
              "    }\n",
              "</style>\n",
              "<table border=\"1\" class=\"dataframe\">\n",
              "  <thead>\n",
              "    <tr style=\"text-align: right;\">\n",
              "      <th></th>\n",
              "      <th>VIF Factor</th>\n",
              "      <th>features</th>\n",
              "    </tr>\n",
              "  </thead>\n",
              "  <tbody>\n",
              "    <tr>\n",
              "      <th>0</th>\n",
              "      <td>6.241902</td>\n",
              "      <td>Used_Year</td>\n",
              "    </tr>\n",
              "    <tr>\n",
              "      <th>3</th>\n",
              "      <td>5.216021</td>\n",
              "      <td>Engine</td>\n",
              "    </tr>\n",
              "    <tr>\n",
              "      <th>1</th>\n",
              "      <td>4.940950</td>\n",
              "      <td>Kilometers_Driven</td>\n",
              "    </tr>\n",
              "    <tr>\n",
              "      <th>2</th>\n",
              "      <td>1.824925</td>\n",
              "      <td>Mileage</td>\n",
              "    </tr>\n",
              "    <tr>\n",
              "      <th>4</th>\n",
              "      <td>1.327924</td>\n",
              "      <td>Power</td>\n",
              "    </tr>\n",
              "  </tbody>\n",
              "</table>\n",
              "</div>"
            ],
            "text/plain": [
              "   VIF Factor           features\n",
              "0    6.241902          Used_Year\n",
              "3    5.216021             Engine\n",
              "1    4.940950  Kilometers_Driven\n",
              "2    1.824925            Mileage\n",
              "4    1.327924              Power"
            ]
          },
          "metadata": {
            "tags": []
          },
          "execution_count": 28
        }
      ]
    },
    {
      "cell_type": "markdown",
      "metadata": {
        "id": "K4YRB2E8bRBU"
      },
      "source": [
        "#Feature Engineering"
      ]
    },
    {
      "cell_type": "markdown",
      "metadata": {
        "id": "2xNeWPxfPoDi"
      },
      "source": [
        "##`Price`\r\n",
        "한 쪽으로 치우진 값을 log transform 시켜줌"
      ]
    },
    {
      "cell_type": "code",
      "metadata": {
        "id": "akyDrRK5dWw5",
        "colab": {
          "base_uri": "https://localhost:8080/"
        },
        "outputId": "1e1064c1-803b-4485-90fd-a5a49d172f41"
      },
      "source": [
        "Price = data[\"Price\"]\r\n",
        "Price = pd.get_dummies(Price,drop_first=True)\r\n",
        "data[\"Price\"]=np.log1p(data[\"Price\"].values)\r\n",
        "data_Y=pd.concat([data,Price],axis=1)\r\n",
        "\r\n",
        "data_Y[\"Price\"].head()"
      ],
      "execution_count": null,
      "outputs": [
        {
          "output_type": "execute_result",
          "data": {
            "text/plain": [
              "0    1.011601\n",
              "1    2.602690\n",
              "2    1.704748\n",
              "3    1.945910\n",
              "4    2.930660\n",
              "Name: Price, dtype: float64"
            ]
          },
          "metadata": {
            "tags": []
          },
          "execution_count": 29
        }
      ]
    },
    {
      "cell_type": "code",
      "metadata": {
        "colab": {
          "base_uri": "https://localhost:8080/",
          "height": 514
        },
        "id": "XWvZpWVVd88Y",
        "outputId": "c4dc1d32-5106-42d4-8ac8-236524038eeb"
      },
      "source": [
        "fig,(ax1,ax2)= plt.subplots(nrows=1,ncols=2)\r\n",
        "fig.set_size_inches(25,8)\r\n",
        "sns.boxplot(data_Y[\"Price\"], ax=ax1)\r\n",
        "sns.distplot(data_Y[\"Price\"],ax=ax2)"
      ],
      "execution_count": null,
      "outputs": [
        {
          "output_type": "execute_result",
          "data": {
            "text/plain": [
              "<matplotlib.axes._subplots.AxesSubplot at 0x7f5dcc510668>"
            ]
          },
          "metadata": {
            "tags": []
          },
          "execution_count": 30
        },
        {
          "output_type": "display_data",
          "data": {
            "image/png": "[encoded data removed]",
            "text/plain": [
              "<Figure size 1800x576 with 2 Axes>"
            ]
          },
          "metadata": {
            "tags": []
          }
        }
      ]
    },
    {
      "cell_type": "markdown",
      "metadata": {
        "id": "B6SY8leePwoy"
      },
      "source": [
        "##`Location`,`Fuel_Type`,`Transmission`,`Owner_Type`, `Company`\r\n",
        "str 형태로 분류형 자료값을 수치형으로 바꿔줌"
      ]
    },
    {
      "cell_type": "code",
      "metadata": {
        "colab": {
          "base_uri": "https://localhost:8080/",
          "height": 240
        },
        "id": "rGdSmY98y8hq",
        "outputId": "4d6ba32f-1d5b-4f69-88b1-4b0efb0da2a9"
      },
      "source": [
        "data_X=data\r\n",
        "\r\n",
        "Location = data[\"Location\"]\r\n",
        "Location = pd.get_dummies(Location,drop_first=True)\r\n",
        "Fuel_Type = data[\"Fuel_Type\"]\r\n",
        "Fuel_Type = pd.get_dummies(Fuel_Type,drop_first=True)\r\n",
        "Transmission = data[\"Transmission\"]\r\n",
        "Transmission = pd.get_dummies(Transmission,drop_first=True)\r\n",
        "data_X=data.replace({\"First\":1,\"Second\":2,\"Third\": 3,\"Fourth & Above\":4},inplace=False)\r\n",
        "Company = data[\"Company\"]\r\n",
        "Company = pd.get_dummies(Company,drop_first=True)\r\n",
        "\r\n",
        "\r\n",
        "data_X=pd.concat([data_X,Location,Fuel_Type,Transmission,Company],axis=1)\r\n",
        "data_X.drop([\"Location\",\"Fuel_Type\",\"Transmission\",\"Company\"],axis=1,inplace=True)\r\n",
        "data_X.head()"
      ],
      "execution_count": null,
      "outputs": [
        {
          "output_type": "execute_result",
          "data": {
            "text/html": [
              "<div>\n",
              "<style scoped>\n",
              "    .dataframe tbody tr th:only-of-type {\n",
              "        vertical-align: middle;\n",
              "    }\n",
              "\n",
              "    .dataframe tbody tr th {\n",
              "        vertical-align: top;\n",
              "    }\n",
              "\n",
              "    .dataframe thead th {\n",
              "        text-align: right;\n",
              "    }\n",
              "</style>\n",
              "<table border=\"1\" class=\"dataframe\">\n",
              "  <thead>\n",
              "    <tr style=\"text-align: right;\">\n",
              "      <th></th>\n",
              "      <th>Kilometers_Driven</th>\n",
              "      <th>Owner_Type</th>\n",
              "      <th>Mileage</th>\n",
              "      <th>Engine</th>\n",
              "      <th>Power</th>\n",
              "      <th>Seats</th>\n",
              "      <th>Price</th>\n",
              "      <th>Used_Year</th>\n",
              "      <th>Bangalore</th>\n",
              "      <th>Chennai</th>\n",
              "      <th>Coimbatore</th>\n",
              "      <th>Delhi</th>\n",
              "      <th>Hyderabad</th>\n",
              "      <th>Jaipur</th>\n",
              "      <th>Kochi</th>\n",
              "      <th>Kolkata</th>\n",
              "      <th>Mumbai</th>\n",
              "      <th>Pune</th>\n",
              "      <th>Diesel</th>\n",
              "      <th>Electric</th>\n",
              "      <th>LPG</th>\n",
              "      <th>Petrol</th>\n",
              "      <th>Manual</th>\n",
              "      <th>Audi</th>\n",
              "      <th>BMW</th>\n",
              "      <th>Bentley</th>\n",
              "      <th>Chevrolet</th>\n",
              "      <th>Datsun</th>\n",
              "      <th>Fiat</th>\n",
              "      <th>Force</th>\n",
              "      <th>Ford</th>\n",
              "      <th>Honda</th>\n",
              "      <th>Hyundai</th>\n",
              "      <th>ISUZU</th>\n",
              "      <th>Isuzu</th>\n",
              "      <th>Jaguar</th>\n",
              "      <th>Jeep</th>\n",
              "      <th>Lamborghini</th>\n",
              "      <th>Land</th>\n",
              "      <th>Mahindra</th>\n",
              "      <th>Maruti</th>\n",
              "      <th>Mercedes-Benz</th>\n",
              "      <th>Mini</th>\n",
              "      <th>Mitsubishi</th>\n",
              "      <th>Nissan</th>\n",
              "      <th>Porsche</th>\n",
              "      <th>Renault</th>\n",
              "      <th>Skoda</th>\n",
              "      <th>Smart</th>\n",
              "      <th>Tata</th>\n",
              "      <th>Toyota</th>\n",
              "      <th>Volkswagen</th>\n",
              "      <th>Volvo</th>\n",
              "    </tr>\n",
              "  </thead>\n",
              "  <tbody>\n",
              "    <tr>\n",
              "      <th>0</th>\n",
              "      <td>72000</td>\n",
              "      <td>1</td>\n",
              "      <td>266.0</td>\n",
              "      <td>998.0</td>\n",
              "      <td>5816.0</td>\n",
              "      <td>5</td>\n",
              "      <td>1.011601</td>\n",
              "      <td>11</td>\n",
              "      <td>0</td>\n",
              "      <td>0</td>\n",
              "      <td>0</td>\n",
              "      <td>0</td>\n",
              "      <td>0</td>\n",
              "      <td>0</td>\n",
              "      <td>0</td>\n",
              "      <td>0</td>\n",
              "      <td>1</td>\n",
              "      <td>0</td>\n",
              "      <td>0</td>\n",
              "      <td>0</td>\n",
              "      <td>0</td>\n",
              "      <td>0</td>\n",
              "      <td>1</td>\n",
              "      <td>0</td>\n",
              "      <td>0</td>\n",
              "      <td>0</td>\n",
              "      <td>0</td>\n",
              "      <td>0</td>\n",
              "      <td>0</td>\n",
              "      <td>0</td>\n",
              "      <td>0</td>\n",
              "      <td>0</td>\n",
              "      <td>0</td>\n",
              "      <td>0</td>\n",
              "      <td>0</td>\n",
              "      <td>0</td>\n",
              "      <td>0</td>\n",
              "      <td>0</td>\n",
              "      <td>0</td>\n",
              "      <td>0</td>\n",
              "      <td>1</td>\n",
              "      <td>0</td>\n",
              "      <td>0</td>\n",
              "      <td>0</td>\n",
              "      <td>0</td>\n",
              "      <td>0</td>\n",
              "      <td>0</td>\n",
              "      <td>0</td>\n",
              "      <td>0</td>\n",
              "      <td>0</td>\n",
              "      <td>0</td>\n",
              "      <td>0</td>\n",
              "      <td>0</td>\n",
              "    </tr>\n",
              "    <tr>\n",
              "      <th>1</th>\n",
              "      <td>41000</td>\n",
              "      <td>1</td>\n",
              "      <td>1967.0</td>\n",
              "      <td>1582.0</td>\n",
              "      <td>1262.0</td>\n",
              "      <td>5</td>\n",
              "      <td>2.602690</td>\n",
              "      <td>6</td>\n",
              "      <td>0</td>\n",
              "      <td>0</td>\n",
              "      <td>0</td>\n",
              "      <td>0</td>\n",
              "      <td>0</td>\n",
              "      <td>0</td>\n",
              "      <td>0</td>\n",
              "      <td>0</td>\n",
              "      <td>0</td>\n",
              "      <td>1</td>\n",
              "      <td>1</td>\n",
              "      <td>0</td>\n",
              "      <td>0</td>\n",
              "      <td>0</td>\n",
              "      <td>1</td>\n",
              "      <td>0</td>\n",
              "      <td>0</td>\n",
              "      <td>0</td>\n",
              "      <td>0</td>\n",
              "      <td>0</td>\n",
              "      <td>0</td>\n",
              "      <td>0</td>\n",
              "      <td>0</td>\n",
              "      <td>0</td>\n",
              "      <td>1</td>\n",
              "      <td>0</td>\n",
              "      <td>0</td>\n",
              "      <td>0</td>\n",
              "      <td>0</td>\n",
              "      <td>0</td>\n",
              "      <td>0</td>\n",
              "      <td>0</td>\n",
              "      <td>0</td>\n",
              "      <td>0</td>\n",
              "      <td>0</td>\n",
              "      <td>0</td>\n",
              "      <td>0</td>\n",
              "      <td>0</td>\n",
              "      <td>0</td>\n",
              "      <td>0</td>\n",
              "      <td>0</td>\n",
              "      <td>0</td>\n",
              "      <td>0</td>\n",
              "      <td>0</td>\n",
              "      <td>0</td>\n",
              "    </tr>\n",
              "    <tr>\n",
              "      <th>2</th>\n",
              "      <td>46000</td>\n",
              "      <td>1</td>\n",
              "      <td>182.0</td>\n",
              "      <td>1199.0</td>\n",
              "      <td>887.0</td>\n",
              "      <td>5</td>\n",
              "      <td>1.704748</td>\n",
              "      <td>10</td>\n",
              "      <td>0</td>\n",
              "      <td>1</td>\n",
              "      <td>0</td>\n",
              "      <td>0</td>\n",
              "      <td>0</td>\n",
              "      <td>0</td>\n",
              "      <td>0</td>\n",
              "      <td>0</td>\n",
              "      <td>0</td>\n",
              "      <td>0</td>\n",
              "      <td>0</td>\n",
              "      <td>0</td>\n",
              "      <td>0</td>\n",
              "      <td>1</td>\n",
              "      <td>1</td>\n",
              "      <td>0</td>\n",
              "      <td>0</td>\n",
              "      <td>0</td>\n",
              "      <td>0</td>\n",
              "      <td>0</td>\n",
              "      <td>0</td>\n",
              "      <td>0</td>\n",
              "      <td>0</td>\n",
              "      <td>1</td>\n",
              "      <td>0</td>\n",
              "      <td>0</td>\n",
              "      <td>0</td>\n",
              "      <td>0</td>\n",
              "      <td>0</td>\n",
              "      <td>0</td>\n",
              "      <td>0</td>\n",
              "      <td>0</td>\n",
              "      <td>0</td>\n",
              "      <td>0</td>\n",
              "      <td>0</td>\n",
              "      <td>0</td>\n",
              "      <td>0</td>\n",
              "      <td>0</td>\n",
              "      <td>0</td>\n",
              "      <td>0</td>\n",
              "      <td>0</td>\n",
              "      <td>0</td>\n",
              "      <td>0</td>\n",
              "      <td>0</td>\n",
              "      <td>0</td>\n",
              "    </tr>\n",
              "    <tr>\n",
              "      <th>3</th>\n",
              "      <td>87000</td>\n",
              "      <td>1</td>\n",
              "      <td>2077.0</td>\n",
              "      <td>1248.0</td>\n",
              "      <td>8876.0</td>\n",
              "      <td>7</td>\n",
              "      <td>1.945910</td>\n",
              "      <td>9</td>\n",
              "      <td>0</td>\n",
              "      <td>1</td>\n",
              "      <td>0</td>\n",
              "      <td>0</td>\n",
              "      <td>0</td>\n",
              "      <td>0</td>\n",
              "      <td>0</td>\n",
              "      <td>0</td>\n",
              "      <td>0</td>\n",
              "      <td>0</td>\n",
              "      <td>1</td>\n",
              "      <td>0</td>\n",
              "      <td>0</td>\n",
              "      <td>0</td>\n",
              "      <td>1</td>\n",
              "      <td>0</td>\n",
              "      <td>0</td>\n",
              "      <td>0</td>\n",
              "      <td>0</td>\n",
              "      <td>0</td>\n",
              "      <td>0</td>\n",
              "      <td>0</td>\n",
              "      <td>0</td>\n",
              "      <td>0</td>\n",
              "      <td>0</td>\n",
              "      <td>0</td>\n",
              "      <td>0</td>\n",
              "      <td>0</td>\n",
              "      <td>0</td>\n",
              "      <td>0</td>\n",
              "      <td>0</td>\n",
              "      <td>0</td>\n",
              "      <td>1</td>\n",
              "      <td>0</td>\n",
              "      <td>0</td>\n",
              "      <td>0</td>\n",
              "      <td>0</td>\n",
              "      <td>0</td>\n",
              "      <td>0</td>\n",
              "      <td>0</td>\n",
              "      <td>0</td>\n",
              "      <td>0</td>\n",
              "      <td>0</td>\n",
              "      <td>0</td>\n",
              "      <td>0</td>\n",
              "    </tr>\n",
              "    <tr>\n",
              "      <th>4</th>\n",
              "      <td>40670</td>\n",
              "      <td>2</td>\n",
              "      <td>152.0</td>\n",
              "      <td>1968.0</td>\n",
              "      <td>1408.0</td>\n",
              "      <td>5</td>\n",
              "      <td>2.930660</td>\n",
              "      <td>8</td>\n",
              "      <td>0</td>\n",
              "      <td>0</td>\n",
              "      <td>1</td>\n",
              "      <td>0</td>\n",
              "      <td>0</td>\n",
              "      <td>0</td>\n",
              "      <td>0</td>\n",
              "      <td>0</td>\n",
              "      <td>0</td>\n",
              "      <td>0</td>\n",
              "      <td>1</td>\n",
              "      <td>0</td>\n",
              "      <td>0</td>\n",
              "      <td>0</td>\n",
              "      <td>0</td>\n",
              "      <td>1</td>\n",
              "      <td>0</td>\n",
              "      <td>0</td>\n",
              "      <td>0</td>\n",
              "      <td>0</td>\n",
              "      <td>0</td>\n",
              "      <td>0</td>\n",
              "      <td>0</td>\n",
              "      <td>0</td>\n",
              "      <td>0</td>\n",
              "      <td>0</td>\n",
              "      <td>0</td>\n",
              "      <td>0</td>\n",
              "      <td>0</td>\n",
              "      <td>0</td>\n",
              "      <td>0</td>\n",
              "      <td>0</td>\n",
              "      <td>0</td>\n",
              "      <td>0</td>\n",
              "      <td>0</td>\n",
              "      <td>0</td>\n",
              "      <td>0</td>\n",
              "      <td>0</td>\n",
              "      <td>0</td>\n",
              "      <td>0</td>\n",
              "      <td>0</td>\n",
              "      <td>0</td>\n",
              "      <td>0</td>\n",
              "      <td>0</td>\n",
              "      <td>0</td>\n",
              "    </tr>\n",
              "  </tbody>\n",
              "</table>\n",
              "</div>"
            ],
            "text/plain": [
              "   Kilometers_Driven  Owner_Type  Mileage  ...  Toyota  Volkswagen  Volvo\n",
              "0              72000           1    266.0  ...       0           0      0\n",
              "1              41000           1   1967.0  ...       0           0      0\n",
              "2              46000           1    182.0  ...       0           0      0\n",
              "3              87000           1   2077.0  ...       0           0      0\n",
              "4              40670           2    152.0  ...       0           0      0\n",
              "\n",
              "[5 rows x 53 columns]"
            ]
          },
          "metadata": {
            "tags": []
          },
          "execution_count": 31
        }
      ]
    },
    {
      "cell_type": "code",
      "metadata": {
        "colab": {
          "base_uri": "https://localhost:8080/",
          "height": 453
        },
        "id": "sVwKyvY2FGgD",
        "outputId": "e0821c83-d9d3-4516-b158-8d875d1682ca"
      },
      "source": [
        "data_X2=pd.concat([X2,Location,Fuel_Type,Transmission,Company],axis=1)\r\n",
        "data_X2\r\n",
        "#다중공선성 의심변수 Seat을 제외한 dataframe"
      ],
      "execution_count": null,
      "outputs": [
        {
          "output_type": "execute_result",
          "data": {
            "text/html": [
              "<div>\n",
              "<style scoped>\n",
              "    .dataframe tbody tr th:only-of-type {\n",
              "        vertical-align: middle;\n",
              "    }\n",
              "\n",
              "    .dataframe tbody tr th {\n",
              "        vertical-align: top;\n",
              "    }\n",
              "\n",
              "    .dataframe thead th {\n",
              "        text-align: right;\n",
              "    }\n",
              "</style>\n",
              "<table border=\"1\" class=\"dataframe\">\n",
              "  <thead>\n",
              "    <tr style=\"text-align: right;\">\n",
              "      <th></th>\n",
              "      <th>Used_Year</th>\n",
              "      <th>Kilometers_Driven</th>\n",
              "      <th>Mileage</th>\n",
              "      <th>Engine</th>\n",
              "      <th>Power</th>\n",
              "      <th>Bangalore</th>\n",
              "      <th>Chennai</th>\n",
              "      <th>Coimbatore</th>\n",
              "      <th>Delhi</th>\n",
              "      <th>Hyderabad</th>\n",
              "      <th>Jaipur</th>\n",
              "      <th>Kochi</th>\n",
              "      <th>Kolkata</th>\n",
              "      <th>Mumbai</th>\n",
              "      <th>Pune</th>\n",
              "      <th>Diesel</th>\n",
              "      <th>Electric</th>\n",
              "      <th>LPG</th>\n",
              "      <th>Petrol</th>\n",
              "      <th>Manual</th>\n",
              "      <th>Audi</th>\n",
              "      <th>BMW</th>\n",
              "      <th>Bentley</th>\n",
              "      <th>Chevrolet</th>\n",
              "      <th>Datsun</th>\n",
              "      <th>Fiat</th>\n",
              "      <th>Force</th>\n",
              "      <th>Ford</th>\n",
              "      <th>Honda</th>\n",
              "      <th>Hyundai</th>\n",
              "      <th>ISUZU</th>\n",
              "      <th>Isuzu</th>\n",
              "      <th>Jaguar</th>\n",
              "      <th>Jeep</th>\n",
              "      <th>Lamborghini</th>\n",
              "      <th>Land</th>\n",
              "      <th>Mahindra</th>\n",
              "      <th>Maruti</th>\n",
              "      <th>Mercedes-Benz</th>\n",
              "      <th>Mini</th>\n",
              "      <th>Mitsubishi</th>\n",
              "      <th>Nissan</th>\n",
              "      <th>Porsche</th>\n",
              "      <th>Renault</th>\n",
              "      <th>Skoda</th>\n",
              "      <th>Smart</th>\n",
              "      <th>Tata</th>\n",
              "      <th>Toyota</th>\n",
              "      <th>Volkswagen</th>\n",
              "      <th>Volvo</th>\n",
              "    </tr>\n",
              "  </thead>\n",
              "  <tbody>\n",
              "    <tr>\n",
              "      <th>0</th>\n",
              "      <td>11</td>\n",
              "      <td>72000</td>\n",
              "      <td>266.0</td>\n",
              "      <td>998.0</td>\n",
              "      <td>5816.0</td>\n",
              "      <td>0</td>\n",
              "      <td>0</td>\n",
              "      <td>0</td>\n",
              "      <td>0</td>\n",
              "      <td>0</td>\n",
              "      <td>0</td>\n",
              "      <td>0</td>\n",
              "      <td>0</td>\n",
              "      <td>1</td>\n",
              "      <td>0</td>\n",
              "      <td>0</td>\n",
              "      <td>0</td>\n",
              "      <td>0</td>\n",
              "      <td>0</td>\n",
              "      <td>1</td>\n",
              "      <td>0</td>\n",
              "      <td>0</td>\n",
              "      <td>0</td>\n",
              "      <td>0</td>\n",
              "      <td>0</td>\n",
              "      <td>0</td>\n",
              "      <td>0</td>\n",
              "      <td>0</td>\n",
              "      <td>0</td>\n",
              "      <td>0</td>\n",
              "      <td>0</td>\n",
              "      <td>0</td>\n",
              "      <td>0</td>\n",
              "      <td>0</td>\n",
              "      <td>0</td>\n",
              "      <td>0</td>\n",
              "      <td>0</td>\n",
              "      <td>1</td>\n",
              "      <td>0</td>\n",
              "      <td>0</td>\n",
              "      <td>0</td>\n",
              "      <td>0</td>\n",
              "      <td>0</td>\n",
              "      <td>0</td>\n",
              "      <td>0</td>\n",
              "      <td>0</td>\n",
              "      <td>0</td>\n",
              "      <td>0</td>\n",
              "      <td>0</td>\n",
              "      <td>0</td>\n",
              "    </tr>\n",
              "    <tr>\n",
              "      <th>1</th>\n",
              "      <td>6</td>\n",
              "      <td>41000</td>\n",
              "      <td>1967.0</td>\n",
              "      <td>1582.0</td>\n",
              "      <td>1262.0</td>\n",
              "      <td>0</td>\n",
              "      <td>0</td>\n",
              "      <td>0</td>\n",
              "      <td>0</td>\n",
              "      <td>0</td>\n",
              "      <td>0</td>\n",
              "      <td>0</td>\n",
              "      <td>0</td>\n",
              "      <td>0</td>\n",
              "      <td>1</td>\n",
              "      <td>1</td>\n",
              "      <td>0</td>\n",
              "      <td>0</td>\n",
              "      <td>0</td>\n",
              "      <td>1</td>\n",
              "      <td>0</td>\n",
              "      <td>0</td>\n",
              "      <td>0</td>\n",
              "      <td>0</td>\n",
              "      <td>0</td>\n",
              "      <td>0</td>\n",
              "      <td>0</td>\n",
              "      <td>0</td>\n",
              "      <td>0</td>\n",
              "      <td>1</td>\n",
              "      <td>0</td>\n",
              "      <td>0</td>\n",
              "      <td>0</td>\n",
              "      <td>0</td>\n",
              "      <td>0</td>\n",
              "      <td>0</td>\n",
              "      <td>0</td>\n",
              "      <td>0</td>\n",
              "      <td>0</td>\n",
              "      <td>0</td>\n",
              "      <td>0</td>\n",
              "      <td>0</td>\n",
              "      <td>0</td>\n",
              "      <td>0</td>\n",
              "      <td>0</td>\n",
              "      <td>0</td>\n",
              "      <td>0</td>\n",
              "      <td>0</td>\n",
              "      <td>0</td>\n",
              "      <td>0</td>\n",
              "    </tr>\n",
              "    <tr>\n",
              "      <th>2</th>\n",
              "      <td>10</td>\n",
              "      <td>46000</td>\n",
              "      <td>182.0</td>\n",
              "      <td>1199.0</td>\n",
              "      <td>887.0</td>\n",
              "      <td>0</td>\n",
              "      <td>1</td>\n",
              "      <td>0</td>\n",
              "      <td>0</td>\n",
              "      <td>0</td>\n",
              "      <td>0</td>\n",
              "      <td>0</td>\n",
              "      <td>0</td>\n",
              "      <td>0</td>\n",
              "      <td>0</td>\n",
              "      <td>0</td>\n",
              "      <td>0</td>\n",
              "      <td>0</td>\n",
              "      <td>1</td>\n",
              "      <td>1</td>\n",
              "      <td>0</td>\n",
              "      <td>0</td>\n",
              "      <td>0</td>\n",
              "      <td>0</td>\n",
              "      <td>0</td>\n",
              "      <td>0</td>\n",
              "      <td>0</td>\n",
              "      <td>0</td>\n",
              "      <td>1</td>\n",
              "      <td>0</td>\n",
              "      <td>0</td>\n",
              "      <td>0</td>\n",
              "      <td>0</td>\n",
              "      <td>0</td>\n",
              "      <td>0</td>\n",
              "      <td>0</td>\n",
              "      <td>0</td>\n",
              "      <td>0</td>\n",
              "      <td>0</td>\n",
              "      <td>0</td>\n",
              "      <td>0</td>\n",
              "      <td>0</td>\n",
              "      <td>0</td>\n",
              "      <td>0</td>\n",
              "      <td>0</td>\n",
              "      <td>0</td>\n",
              "      <td>0</td>\n",
              "      <td>0</td>\n",
              "      <td>0</td>\n",
              "      <td>0</td>\n",
              "    </tr>\n",
              "    <tr>\n",
              "      <th>3</th>\n",
              "      <td>9</td>\n",
              "      <td>87000</td>\n",
              "      <td>2077.0</td>\n",
              "      <td>1248.0</td>\n",
              "      <td>8876.0</td>\n",
              "      <td>0</td>\n",
              "      <td>1</td>\n",
              "      <td>0</td>\n",
              "      <td>0</td>\n",
              "      <td>0</td>\n",
              "      <td>0</td>\n",
              "      <td>0</td>\n",
              "      <td>0</td>\n",
              "      <td>0</td>\n",
              "      <td>0</td>\n",
              "      <td>1</td>\n",
              "      <td>0</td>\n",
              "      <td>0</td>\n",
              "      <td>0</td>\n",
              "      <td>1</td>\n",
              "      <td>0</td>\n",
              "      <td>0</td>\n",
              "      <td>0</td>\n",
              "      <td>0</td>\n",
              "      <td>0</td>\n",
              "      <td>0</td>\n",
              "      <td>0</td>\n",
              "      <td>0</td>\n",
              "      <td>0</td>\n",
              "      <td>0</td>\n",
              "      <td>0</td>\n",
              "      <td>0</td>\n",
              "      <td>0</td>\n",
              "      <td>0</td>\n",
              "      <td>0</td>\n",
              "      <td>0</td>\n",
              "      <td>0</td>\n",
              "      <td>1</td>\n",
              "      <td>0</td>\n",
              "      <td>0</td>\n",
              "      <td>0</td>\n",
              "      <td>0</td>\n",
              "      <td>0</td>\n",
              "      <td>0</td>\n",
              "      <td>0</td>\n",
              "      <td>0</td>\n",
              "      <td>0</td>\n",
              "      <td>0</td>\n",
              "      <td>0</td>\n",
              "      <td>0</td>\n",
              "    </tr>\n",
              "    <tr>\n",
              "      <th>4</th>\n",
              "      <td>8</td>\n",
              "      <td>40670</td>\n",
              "      <td>152.0</td>\n",
              "      <td>1968.0</td>\n",
              "      <td>1408.0</td>\n",
              "      <td>0</td>\n",
              "      <td>0</td>\n",
              "      <td>1</td>\n",
              "      <td>0</td>\n",
              "      <td>0</td>\n",
              "      <td>0</td>\n",
              "      <td>0</td>\n",
              "      <td>0</td>\n",
              "      <td>0</td>\n",
              "      <td>0</td>\n",
              "      <td>1</td>\n",
              "      <td>0</td>\n",
              "      <td>0</td>\n",
              "      <td>0</td>\n",
              "      <td>0</td>\n",
              "      <td>1</td>\n",
              "      <td>0</td>\n",
              "      <td>0</td>\n",
              "      <td>0</td>\n",
              "      <td>0</td>\n",
              "      <td>0</td>\n",
              "      <td>0</td>\n",
              "      <td>0</td>\n",
              "      <td>0</td>\n",
              "      <td>0</td>\n",
              "      <td>0</td>\n",
              "      <td>0</td>\n",
              "      <td>0</td>\n",
              "      <td>0</td>\n",
              "      <td>0</td>\n",
              "      <td>0</td>\n",
              "      <td>0</td>\n",
              "      <td>0</td>\n",
              "      <td>0</td>\n",
              "      <td>0</td>\n",
              "      <td>0</td>\n",
              "      <td>0</td>\n",
              "      <td>0</td>\n",
              "      <td>0</td>\n",
              "      <td>0</td>\n",
              "      <td>0</td>\n",
              "      <td>0</td>\n",
              "      <td>0</td>\n",
              "      <td>0</td>\n",
              "      <td>0</td>\n",
              "    </tr>\n",
              "    <tr>\n",
              "      <th>...</th>\n",
              "      <td>...</td>\n",
              "      <td>...</td>\n",
              "      <td>...</td>\n",
              "      <td>...</td>\n",
              "      <td>...</td>\n",
              "      <td>...</td>\n",
              "      <td>...</td>\n",
              "      <td>...</td>\n",
              "      <td>...</td>\n",
              "      <td>...</td>\n",
              "      <td>...</td>\n",
              "      <td>...</td>\n",
              "      <td>...</td>\n",
              "      <td>...</td>\n",
              "      <td>...</td>\n",
              "      <td>...</td>\n",
              "      <td>...</td>\n",
              "      <td>...</td>\n",
              "      <td>...</td>\n",
              "      <td>...</td>\n",
              "      <td>...</td>\n",
              "      <td>...</td>\n",
              "      <td>...</td>\n",
              "      <td>...</td>\n",
              "      <td>...</td>\n",
              "      <td>...</td>\n",
              "      <td>...</td>\n",
              "      <td>...</td>\n",
              "      <td>...</td>\n",
              "      <td>...</td>\n",
              "      <td>...</td>\n",
              "      <td>...</td>\n",
              "      <td>...</td>\n",
              "      <td>...</td>\n",
              "      <td>...</td>\n",
              "      <td>...</td>\n",
              "      <td>...</td>\n",
              "      <td>...</td>\n",
              "      <td>...</td>\n",
              "      <td>...</td>\n",
              "      <td>...</td>\n",
              "      <td>...</td>\n",
              "      <td>...</td>\n",
              "      <td>...</td>\n",
              "      <td>...</td>\n",
              "      <td>...</td>\n",
              "      <td>...</td>\n",
              "      <td>...</td>\n",
              "      <td>...</td>\n",
              "      <td>...</td>\n",
              "    </tr>\n",
              "    <tr>\n",
              "      <th>6014</th>\n",
              "      <td>7</td>\n",
              "      <td>27365</td>\n",
              "      <td>284.0</td>\n",
              "      <td>1248.0</td>\n",
              "      <td>74.0</td>\n",
              "      <td>0</td>\n",
              "      <td>0</td>\n",
              "      <td>0</td>\n",
              "      <td>1</td>\n",
              "      <td>0</td>\n",
              "      <td>0</td>\n",
              "      <td>0</td>\n",
              "      <td>0</td>\n",
              "      <td>0</td>\n",
              "      <td>0</td>\n",
              "      <td>1</td>\n",
              "      <td>0</td>\n",
              "      <td>0</td>\n",
              "      <td>0</td>\n",
              "      <td>1</td>\n",
              "      <td>0</td>\n",
              "      <td>0</td>\n",
              "      <td>0</td>\n",
              "      <td>0</td>\n",
              "      <td>0</td>\n",
              "      <td>0</td>\n",
              "      <td>0</td>\n",
              "      <td>0</td>\n",
              "      <td>0</td>\n",
              "      <td>0</td>\n",
              "      <td>0</td>\n",
              "      <td>0</td>\n",
              "      <td>0</td>\n",
              "      <td>0</td>\n",
              "      <td>0</td>\n",
              "      <td>0</td>\n",
              "      <td>0</td>\n",
              "      <td>1</td>\n",
              "      <td>0</td>\n",
              "      <td>0</td>\n",
              "      <td>0</td>\n",
              "      <td>0</td>\n",
              "      <td>0</td>\n",
              "      <td>0</td>\n",
              "      <td>0</td>\n",
              "      <td>0</td>\n",
              "      <td>0</td>\n",
              "      <td>0</td>\n",
              "      <td>0</td>\n",
              "      <td>0</td>\n",
              "    </tr>\n",
              "    <tr>\n",
              "      <th>6015</th>\n",
              "      <td>6</td>\n",
              "      <td>100000</td>\n",
              "      <td>244.0</td>\n",
              "      <td>1120.0</td>\n",
              "      <td>71.0</td>\n",
              "      <td>0</td>\n",
              "      <td>0</td>\n",
              "      <td>0</td>\n",
              "      <td>0</td>\n",
              "      <td>0</td>\n",
              "      <td>1</td>\n",
              "      <td>0</td>\n",
              "      <td>0</td>\n",
              "      <td>0</td>\n",
              "      <td>0</td>\n",
              "      <td>1</td>\n",
              "      <td>0</td>\n",
              "      <td>0</td>\n",
              "      <td>0</td>\n",
              "      <td>1</td>\n",
              "      <td>0</td>\n",
              "      <td>0</td>\n",
              "      <td>0</td>\n",
              "      <td>0</td>\n",
              "      <td>0</td>\n",
              "      <td>0</td>\n",
              "      <td>0</td>\n",
              "      <td>0</td>\n",
              "      <td>0</td>\n",
              "      <td>1</td>\n",
              "      <td>0</td>\n",
              "      <td>0</td>\n",
              "      <td>0</td>\n",
              "      <td>0</td>\n",
              "      <td>0</td>\n",
              "      <td>0</td>\n",
              "      <td>0</td>\n",
              "      <td>0</td>\n",
              "      <td>0</td>\n",
              "      <td>0</td>\n",
              "      <td>0</td>\n",
              "      <td>0</td>\n",
              "      <td>0</td>\n",
              "      <td>0</td>\n",
              "      <td>0</td>\n",
              "      <td>0</td>\n",
              "      <td>0</td>\n",
              "      <td>0</td>\n",
              "      <td>0</td>\n",
              "      <td>0</td>\n",
              "    </tr>\n",
              "    <tr>\n",
              "      <th>6016</th>\n",
              "      <td>9</td>\n",
              "      <td>55000</td>\n",
              "      <td>140.0</td>\n",
              "      <td>2498.0</td>\n",
              "      <td>112.0</td>\n",
              "      <td>0</td>\n",
              "      <td>0</td>\n",
              "      <td>0</td>\n",
              "      <td>0</td>\n",
              "      <td>0</td>\n",
              "      <td>1</td>\n",
              "      <td>0</td>\n",
              "      <td>0</td>\n",
              "      <td>0</td>\n",
              "      <td>0</td>\n",
              "      <td>1</td>\n",
              "      <td>0</td>\n",
              "      <td>0</td>\n",
              "      <td>0</td>\n",
              "      <td>1</td>\n",
              "      <td>0</td>\n",
              "      <td>0</td>\n",
              "      <td>0</td>\n",
              "      <td>0</td>\n",
              "      <td>0</td>\n",
              "      <td>0</td>\n",
              "      <td>0</td>\n",
              "      <td>0</td>\n",
              "      <td>0</td>\n",
              "      <td>0</td>\n",
              "      <td>0</td>\n",
              "      <td>0</td>\n",
              "      <td>0</td>\n",
              "      <td>0</td>\n",
              "      <td>0</td>\n",
              "      <td>0</td>\n",
              "      <td>1</td>\n",
              "      <td>0</td>\n",
              "      <td>0</td>\n",
              "      <td>0</td>\n",
              "      <td>0</td>\n",
              "      <td>0</td>\n",
              "      <td>0</td>\n",
              "      <td>0</td>\n",
              "      <td>0</td>\n",
              "      <td>0</td>\n",
              "      <td>0</td>\n",
              "      <td>0</td>\n",
              "      <td>0</td>\n",
              "      <td>0</td>\n",
              "    </tr>\n",
              "    <tr>\n",
              "      <th>6017</th>\n",
              "      <td>8</td>\n",
              "      <td>46000</td>\n",
              "      <td>189.0</td>\n",
              "      <td>998.0</td>\n",
              "      <td>671.0</td>\n",
              "      <td>0</td>\n",
              "      <td>0</td>\n",
              "      <td>0</td>\n",
              "      <td>0</td>\n",
              "      <td>0</td>\n",
              "      <td>0</td>\n",
              "      <td>0</td>\n",
              "      <td>1</td>\n",
              "      <td>0</td>\n",
              "      <td>0</td>\n",
              "      <td>0</td>\n",
              "      <td>0</td>\n",
              "      <td>0</td>\n",
              "      <td>1</td>\n",
              "      <td>1</td>\n",
              "      <td>0</td>\n",
              "      <td>0</td>\n",
              "      <td>0</td>\n",
              "      <td>0</td>\n",
              "      <td>0</td>\n",
              "      <td>0</td>\n",
              "      <td>0</td>\n",
              "      <td>0</td>\n",
              "      <td>0</td>\n",
              "      <td>0</td>\n",
              "      <td>0</td>\n",
              "      <td>0</td>\n",
              "      <td>0</td>\n",
              "      <td>0</td>\n",
              "      <td>0</td>\n",
              "      <td>0</td>\n",
              "      <td>0</td>\n",
              "      <td>1</td>\n",
              "      <td>0</td>\n",
              "      <td>0</td>\n",
              "      <td>0</td>\n",
              "      <td>0</td>\n",
              "      <td>0</td>\n",
              "      <td>0</td>\n",
              "      <td>0</td>\n",
              "      <td>0</td>\n",
              "      <td>0</td>\n",
              "      <td>0</td>\n",
              "      <td>0</td>\n",
              "      <td>0</td>\n",
              "    </tr>\n",
              "    <tr>\n",
              "      <th>6018</th>\n",
              "      <td>10</td>\n",
              "      <td>47000</td>\n",
              "      <td>2544.0</td>\n",
              "      <td>936.0</td>\n",
              "      <td>576.0</td>\n",
              "      <td>0</td>\n",
              "      <td>0</td>\n",
              "      <td>0</td>\n",
              "      <td>0</td>\n",
              "      <td>1</td>\n",
              "      <td>0</td>\n",
              "      <td>0</td>\n",
              "      <td>0</td>\n",
              "      <td>0</td>\n",
              "      <td>0</td>\n",
              "      <td>1</td>\n",
              "      <td>0</td>\n",
              "      <td>0</td>\n",
              "      <td>0</td>\n",
              "      <td>1</td>\n",
              "      <td>0</td>\n",
              "      <td>0</td>\n",
              "      <td>0</td>\n",
              "      <td>1</td>\n",
              "      <td>0</td>\n",
              "      <td>0</td>\n",
              "      <td>0</td>\n",
              "      <td>0</td>\n",
              "      <td>0</td>\n",
              "      <td>0</td>\n",
              "      <td>0</td>\n",
              "      <td>0</td>\n",
              "      <td>0</td>\n",
              "      <td>0</td>\n",
              "      <td>0</td>\n",
              "      <td>0</td>\n",
              "      <td>0</td>\n",
              "      <td>0</td>\n",
              "      <td>0</td>\n",
              "      <td>0</td>\n",
              "      <td>0</td>\n",
              "      <td>0</td>\n",
              "      <td>0</td>\n",
              "      <td>0</td>\n",
              "      <td>0</td>\n",
              "      <td>0</td>\n",
              "      <td>0</td>\n",
              "      <td>0</td>\n",
              "      <td>0</td>\n",
              "      <td>0</td>\n",
              "    </tr>\n",
              "  </tbody>\n",
              "</table>\n",
              "<p>6015 rows × 50 columns</p>\n",
              "</div>"
            ],
            "text/plain": [
              "      Used_Year  Kilometers_Driven  Mileage  ...  Toyota  Volkswagen  Volvo\n",
              "0            11              72000    266.0  ...       0           0      0\n",
              "1             6              41000   1967.0  ...       0           0      0\n",
              "2            10              46000    182.0  ...       0           0      0\n",
              "3             9              87000   2077.0  ...       0           0      0\n",
              "4             8              40670    152.0  ...       0           0      0\n",
              "...         ...                ...      ...  ...     ...         ...    ...\n",
              "6014          7              27365    284.0  ...       0           0      0\n",
              "6015          6             100000    244.0  ...       0           0      0\n",
              "6016          9              55000    140.0  ...       0           0      0\n",
              "6017          8              46000    189.0  ...       0           0      0\n",
              "6018         10              47000   2544.0  ...       0           0      0\n",
              "\n",
              "[6015 rows x 50 columns]"
            ]
          },
          "metadata": {
            "tags": []
          },
          "execution_count": 32
        }
      ]
    },
    {
      "cell_type": "markdown",
      "metadata": {
        "id": "6yD2_1bFf_hR"
      },
      "source": [
        "\r\n",
        "\r\n",
        "##set X and Y\r\n",
        "\r\n"
      ]
    },
    {
      "cell_type": "code",
      "metadata": {
        "id": "VDNzUe6Wff98"
      },
      "source": [
        "data_Y=data_Y[\"Price\"]\r\n",
        "data_X.drop([\"Price\"],axis=1,inplace=True)"
      ],
      "execution_count": null,
      "outputs": []
    },
    {
      "cell_type": "code",
      "metadata": {
        "id": "NQTNJ_pcxLBS"
      },
      "source": [
        "from sklearn.model_selection import train_test_split\r\n",
        "\r\n",
        "from sklearn.linear_model import LinearRegression\r\n",
        "from sklearn.linear_model import Ridge, Lasso\r\n",
        "\r\n",
        "from sklearn.metrics import mean_squared_error\r\n",
        "\r\n",
        "from sklearn.ensemble import RandomForestRegressor"
      ],
      "execution_count": null,
      "outputs": []
    },
    {
      "cell_type": "code",
      "metadata": {
        "colab": {
          "base_uri": "https://localhost:8080/"
        },
        "id": "U6EqZHB0AcUK",
        "outputId": "33a07ebf-9efd-4574-86db-31a7865c1ed4"
      },
      "source": [
        "X_train, X_test, y_train, y_test = train_test_split(data_X, data_Y, test_size = 0.2, random_state = 25)\r\n",
        "\r\n",
        "#모델 가져오기\r\n",
        "lin_reg= LinearRegression()\r\n",
        "#fit train data\r\n",
        "lin_reg.fit(X_train, y_train)\r\n",
        "\r\n",
        "# predict y\r\n",
        "y_pred= lin_reg.predict(X_train)\r\n",
        "\r\n",
        "# fit된 모델의 R-square\r\n",
        "print(\"R-square of train model: \",lin_reg.score(X_train,y_train))\r\n",
        "\r\n",
        "# fit된 모델의 MSE\r\n",
        "print(\"Mean Squard Error of train model:\",mean_squared_error(y_train, y_pred))\r\n",
        "\r\n",
        "#회귀계수\r\n",
        "print(\"coefficients :\",lin_reg.coef_) \r\n",
        "print(\"intercept: \",lin_reg.intercept_)\r\n",
        "\r\n",
        "# test data R-square\r\n",
        "print(\"R-square of test data: \",lin_reg.score(X_test, y_test))\r\n",
        "\r\n",
        "#Accuaracy\r\n",
        "print(\"Accuracy on Traing set: \",lin_reg.score(X_train,y_train))\r\n",
        "print(\"Accuracy on Testing set: \",lin_reg.score(X_test,y_test))"
      ],
      "execution_count": null,
      "outputs": [
        {
          "output_type": "stream",
          "text": [
            "R-square of train model:  0.918088895568606\n",
            "Mean Squard Error of train model: 0.04517261739346733\n",
            "coefficients : [-1.27095514e-06 -4.13962998e-02  6.84114903e-06  4.93369270e-04\n",
            "  3.93411369e-06  3.31927664e-02 -9.52511197e-02  1.17439778e-01\n",
            "  3.28824809e-02  8.50388212e-02 -6.55522977e-02  7.82640071e-02\n",
            " -4.07736922e-02 -2.20511164e-02 -2.05452711e-01 -3.73390880e-02\n",
            " -3.41945675e-02  2.29292963e-01  1.11239721e+00  3.81127168e-02\n",
            "  9.77619225e-02 -1.54705105e-01  6.15384198e-01  6.67718360e-01\n",
            "  5.37653255e-13 -2.80471553e-01 -5.09500357e-01 -2.00072965e-01\n",
            " -1.44055042e-02 -1.52645440e-01 -1.37627688e-02 -4.70555329e-02\n",
            " -1.52764691e-01 -2.43891549e-01  7.96377741e-01  4.26102398e-01\n",
            "  1.42755457e+00  8.98843048e-01 -2.14674016e-01 -7.33548396e-02\n",
            "  6.71430385e-01  9.61270045e-01  6.47345263e-02 -1.30503490e-01\n",
            "  8.60064170e-01 -1.16521278e-01 -1.31530872e-02  3.87326525e-01\n",
            " -4.40082543e-01  4.98379526e-02 -9.58379295e-02  5.05907637e-01]\n",
            "intercept:  1.7844675019873584\n",
            "R-square of test data:  0.9016831349877585\n",
            "Accuracy on Traing set:  0.918088895568606\n",
            "Accuracy on Testing set:  0.9016831349877585\n"
          ],
          "name": "stdout"
        }
      ]
    },
    {
      "cell_type": "code",
      "metadata": {
        "colab": {
          "base_uri": "https://localhost:8080/",
          "height": 346
        },
        "id": "m-vdYso76KDA",
        "outputId": "cc9b8f59-b06c-4423-bdd0-6c54294790cd"
      },
      "source": [
        "# 예측 vs 실제 데이터 plot\r\n",
        "plt.plot(y_test, lin_reg.predict(X_test), '.')\r\n",
        "\r\n",
        "# 예측과 실제가 비슷하면, 라인상에 분포함\r\n",
        "x = np.linspace(0, 6, 6)\r\n",
        "y = x\r\n",
        "plt.plot(x, y)\r\n",
        "plt.show()"
      ],
      "execution_count": null,
      "outputs": [
        {
          "output_type": "display_data",
          "data": {
            "image/png": "[encoded data removed]",
            "text/plain": [
              "<Figure size 576x396 with 1 Axes>"
            ]
          },
          "metadata": {
            "tags": []
          }
        }
      ]
    },
    {
      "cell_type": "markdown",
      "metadata": {
        "id": "qn9LD07TYTXP"
      },
      "source": [
        "다중공선성 의심 변수 제거한 데이터로 linear regression <br>\r\n",
        "결과 간에 큰 차이없음 그러나 학습해야 할 feature의 갯수가 줄어듦"
      ]
    },
    {
      "cell_type": "code",
      "metadata": {
        "colab": {
          "base_uri": "https://localhost:8080/"
        },
        "id": "FFT6O1oXFWLM",
        "outputId": "310265ff-0dbe-48aa-88ab-88a9b5e0e97e"
      },
      "source": [
        "\r\n",
        "X_train, X_test, y_train, y_test = train_test_split(data_X2, data_Y, test_size = 0.2, random_state = 25)\r\n",
        "\r\n",
        "#모델 가져오기\r\n",
        "lin_reg= LinearRegression()\r\n",
        "#fit train data\r\n",
        "lin_reg.fit(X_train, y_train)\r\n",
        "\r\n",
        "# predict y\r\n",
        "y_pred= lin_reg.predict(X_train)\r\n",
        "\r\n",
        "# fit된 모델의 R-square\r\n",
        "print(\"R-square of train model: \",lin_reg.score(X_train,y_train))\r\n",
        "\r\n",
        "# fit된 모델의 MSE\r\n",
        "print(\"Mean Squard Error of train model:\",mean_squared_error(y_train, y_pred))\r\n",
        "\r\n",
        "#회귀계수\r\n",
        "print(\"coefficients :\",lin_reg.coef_) \r\n",
        "print(\"intercept: \",lin_reg.intercept_)\r\n",
        "\r\n",
        "# test data R-square\r\n",
        "print(\"R-square of test data: \",lin_reg.score(X_test, y_test))\r\n",
        "\r\n",
        "#Accuaracy\r\n",
        "print(\"Accuracy on Traing set: \",lin_reg.score(X_train,y_train))\r\n",
        "print(\"Accuracy on Testing set: \",lin_reg.score(X_test,y_test))"
      ],
      "execution_count": null,
      "outputs": [
        {
          "output_type": "stream",
          "text": [
            "R-square of train model:  0.9170035418773057\n",
            "Mean Squard Error of train model: 0.04577117197741584\n",
            "coefficients : [-9.77809993e-02 -1.24978697e-06  7.02760731e-06  5.11068275e-04\n",
            "  3.62089634e-06  1.10474124e-01  2.73414665e-02  8.50938919e-02\n",
            " -6.53174295e-02  8.36731089e-02 -4.39280321e-02 -2.16121896e-02\n",
            " -2.00168573e-01 -3.51600910e-02 -3.94532510e-02  2.41416241e-01\n",
            "  1.10177388e+00  4.87529077e-02  1.03011560e-01 -1.51066199e-01\n",
            "  6.58254344e-01  6.97500102e-01 -2.28317920e-11 -2.22063259e-01\n",
            " -4.27876981e-01 -1.50630594e-01  9.24417675e-02 -1.02842420e-01\n",
            "  3.89657969e-02  6.99536217e-03 -1.30199682e-01 -1.49285562e-01\n",
            "  8.20886311e-01  4.60268403e-01  1.24835410e+00  9.35892939e-01\n",
            " -1.15917015e-01 -1.27870353e-02  7.06033874e-01  9.85896586e-01\n",
            "  1.28849634e-01 -8.17968332e-02  8.45496359e-01 -6.49527969e-02\n",
            "  3.46420159e-02  3.32348072e-01 -3.88173717e-01  1.29139137e-01\n",
            " -4.67038382e-02  5.44711143e-01]\n",
            "intercept:  1.8335991506456164\n",
            "R-square of test data:  0.9008460364874556\n",
            "Accuracy on Traing set:  0.9170035418773057\n",
            "Accuracy on Testing set:  0.9008460364874556\n"
          ],
          "name": "stdout"
        }
      ]
    },
    {
      "cell_type": "markdown",
      "metadata": {
        "id": "OLET1wpV8fgr"
      },
      "source": [
        "#Ridge Regression"
      ]
    },
    {
      "cell_type": "code",
      "metadata": {
        "colab": {
          "base_uri": "https://localhost:8080/"
        },
        "id": "KbDpq9YM7169",
        "outputId": "45d17ab0-cb22-47e5-817a-7594c76813b2"
      },
      "source": [
        "X_train, X_test, y_train, y_test = train_test_split(data_X, data_Y, test_size = 0.2, random_state = 25)\r\n",
        "\r\n",
        "rid = Ridge(alpha=1.0) # alpha: 정규화의 정도를 결정해주는 하이퍼파라미터 (클수록 더 정규화)\r\n",
        "rid.fit(X_train, y_train)\r\n",
        "# predict y\r\n",
        "y_pred= rid.predict(X_train)\r\n",
        "# fit된 모델의 R-square\r\n",
        "print(\"R-square of train model: \",rid.score(X_train,y_train))\r\n",
        "\r\n",
        "# fit된 모델의 MSE\r\n",
        "print(\"Mean Squard Error of train model:\",mean_squared_error(y_train, y_pred))\r\n",
        "\r\n",
        "#회귀계수\r\n",
        "print(\"coefficients :\",rid.coef_) \r\n",
        "print(\"intercept: \",rid.intercept_)\r\n",
        "\r\n",
        "# test data R-square\r\n",
        "print(\"R-square of test data: \",rid.score(X_test, y_test))\r\n",
        "\r\n",
        "#Accuaracy\r\n",
        "print(\"Accuracy on Traing set: \",rid.score(X_train,y_train))\r\n",
        "print(\"Accuracy on Testing set: \",rid.score(X_test,y_test))"
      ],
      "execution_count": null,
      "outputs": [
        {
          "output_type": "stream",
          "text": [
            "R-square of train model:  0.9177004159021527\n",
            "Mean Squard Error of train model: 0.045386857495095224\n",
            "coefficients : [-1.28979473e-06 -4.01681696e-02  7.30361922e-06  5.03154937e-04\n",
            "  3.83487032e-06  2.71860388e-02 -9.51742353e-02  1.16570592e-01\n",
            "  3.24886808e-02  8.52306523e-02 -6.39602040e-02  7.87183569e-02\n",
            " -4.11105725e-02 -2.10347579e-02 -2.04846634e-01 -3.67887195e-02\n",
            " -3.44423934e-02  2.06819135e-01  7.21724087e-01  1.56155804e-02\n",
            "  7.39415199e-02 -1.62552860e-01  4.29924978e-01  4.79593987e-01\n",
            "  0.00000000e+00 -4.42328727e-01 -6.08292518e-01 -3.52002322e-01\n",
            " -1.32711318e-01 -3.20422353e-01 -1.82916661e-01 -2.14441644e-01\n",
            " -1.65907127e-01 -2.10619907e-01  5.89440959e-01  2.34218930e-01\n",
            "  5.96463223e-01  6.99173775e-01 -3.75056790e-01 -2.39042632e-01\n",
            "  4.84636239e-01  7.43680449e-01 -1.03997993e-01 -2.96349233e-01\n",
            "  6.07638630e-01 -2.81940593e-01 -1.86970960e-01  9.96795305e-02\n",
            " -6.02726947e-01 -1.18445598e-01 -2.64665108e-01  3.05435159e-01]\n",
            "intercept:  1.9981079847517063\n",
            "R-square of test data:  0.9018531011423225\n",
            "Accuracy on Traing set:  0.9177004159021527\n",
            "Accuracy on Testing set:  0.9018531011423225\n"
          ],
          "name": "stdout"
        }
      ]
    },
    {
      "cell_type": "markdown",
      "metadata": {
        "id": "WETsZ26nMbz7"
      },
      "source": [
        "#Lasso Regression"
      ]
    },
    {
      "cell_type": "code",
      "metadata": {
        "colab": {
          "base_uri": "https://localhost:8080/"
        },
        "id": "NmqAJDx_8Txo",
        "outputId": "4ce0a8ae-624c-440d-8122-6a9468480cb7"
      },
      "source": [
        "X_train, X_test, y_train, y_test = train_test_split(data_X, data_Y, test_size = 0.2, random_state = 25)\r\n",
        "\r\n",
        "# Lasso R-square\r\n",
        "las=Lasso(alpha=0.3)\r\n",
        "las.fit(X_train, y_train)\r\n",
        "# predict y\r\n",
        "y_pred= las.predict(X_train)\r\n",
        "# fit된 모델의 R-square\r\n",
        "print(\"R-square of train model: \",las.score(X_train,y_train))\r\n",
        "# fit된 모델의 MSE\r\n",
        "print(\"Mean Squard Error of train model:\",mean_squared_error(y_train, y_pred))\r\n",
        "#회귀계수\r\n",
        "print(\"coefficients :\",las.coef_) \r\n",
        "print(\"intercept: \",las.intercept_)\r\n",
        "# test data R-square\r\n",
        "print(\"R-square of test data: \",las.score(X_test, y_test))\r\n",
        "\r\n",
        "#Accuaracy\r\n",
        "print(\"Accuracy on Traing set: \",las.score(X_train,y_train))\r\n",
        "print(\"Accuracy on Testing set: \",las.score(X_test,y_test))\r\n"
      ],
      "execution_count": null,
      "outputs": [
        {
          "output_type": "stream",
          "text": [
            "R-square of train model:  0.7440759411662656\n",
            "Mean Squard Error of train model: 0.14113787955529766\n",
            "coefficients : [-3.77573332e-06 -0.00000000e+00  7.57887277e-05  9.13310753e-04\n",
            "  1.28255933e-05 -0.00000000e+00 -6.27780128e-02  0.00000000e+00\n",
            "  0.00000000e+00  0.00000000e+00 -0.00000000e+00  0.00000000e+00\n",
            " -0.00000000e+00  0.00000000e+00 -0.00000000e+00 -0.00000000e+00\n",
            " -0.00000000e+00  0.00000000e+00  0.00000000e+00 -0.00000000e+00\n",
            " -0.00000000e+00 -0.00000000e+00  0.00000000e+00  0.00000000e+00\n",
            "  0.00000000e+00 -0.00000000e+00 -0.00000000e+00 -0.00000000e+00\n",
            " -0.00000000e+00 -0.00000000e+00 -0.00000000e+00 -0.00000000e+00\n",
            " -0.00000000e+00 -0.00000000e+00  0.00000000e+00  0.00000000e+00\n",
            " -0.00000000e+00  0.00000000e+00 -0.00000000e+00  0.00000000e+00\n",
            "  0.00000000e+00  0.00000000e+00 -0.00000000e+00 -0.00000000e+00\n",
            "  0.00000000e+00 -0.00000000e+00 -0.00000000e+00  0.00000000e+00\n",
            " -0.00000000e+00 -0.00000000e+00 -0.00000000e+00  0.00000000e+00]\n",
            "intercept:  1.1318967059956648\n",
            "R-square of test data:  0.744699787111131\n",
            "Accuracy on Traing set:  0.7440759411662656\n",
            "Accuracy on Testing set:  0.744699787111131\n"
          ],
          "name": "stdout"
        }
      ]
    },
    {
      "cell_type": "markdown",
      "metadata": {
        "id": "T9y1hVC2Ifw0"
      },
      "source": [
        "#RandomForestRegressor"
      ]
    },
    {
      "cell_type": "code",
      "metadata": {
        "colab": {
          "base_uri": "https://localhost:8080/"
        },
        "id": "fB6ImdhwI-zX",
        "outputId": "b36c28ed-9282-4224-f382-3223e4937017"
      },
      "source": [
        "X_train, X_test, y_train, y_test = train_test_split(data_X, data_Y, test_size = 0.2, random_state = 25)\r\n",
        "\r\n",
        "rf_reg= RandomForestRegressor(random_state=11)\r\n",
        "rf_reg.fit(X_train,y_train)\r\n",
        "\r\n",
        "# predict y\r\n",
        "rf_y_pred= rf_reg.predict(X_train)\r\n",
        "\r\n",
        "# fit된 모델의 R-square\r\n",
        "print(\"R-square of train model: \",rf_reg.score(X_train,y_train))\r\n",
        "\r\n",
        "# fit된 모델의 MSE\r\n",
        "print(\"Mean Squard Error of train model:\",mean_squared_error(y_train, y_pred))\r\n",
        "\r\n",
        "\r\n",
        "# test data R-square\r\n",
        "print(\"R-square of test data: \",rf_reg.score(X_test, y_test))\r\n",
        "\r\n",
        "#Accuaracy\r\n",
        "print(\"Accuracy on Traing set: \",rf_reg.score(X_train,y_train))\r\n",
        "print(\"Accuracy on Testing set: \",rf_reg.score(X_test,y_test))\r\n",
        "\r\n"
      ],
      "execution_count": null,
      "outputs": [
        {
          "output_type": "stream",
          "text": [
            "R-square of train model:  0.9914717318025298\n",
            "Mean Squard Error of train model: 0.14113787955529766\n",
            "R-square of test data:  0.918363344141864\n",
            "Accuracy on Traing set:  0.9914717318025298\n",
            "Accuracy on Testing set:  0.918363344141864\n"
          ],
          "name": "stdout"
        }
      ]
    }
  ]
}
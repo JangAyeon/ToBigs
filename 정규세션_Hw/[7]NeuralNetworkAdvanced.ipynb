{
  "nbformat": 4,
  "nbformat_minor": 0,
  "metadata": {
    "colab": {
      "name": "[7]NeuralNetworkAdvanced.ipynb",
      "provenance": [],
      "collapsed_sections": [],
      "toc_visible": true,
      "authorship_tag": "ABX9TyOuSFoqFe5Z82fnyVdJ4Aqx",
      "include_colab_link": true
    },
    "kernelspec": {
      "name": "python3",
      "display_name": "Python 3"
    },
    "accelerator": "GPU"
  },
  "cells": [
    {
      "cell_type": "markdown",
      "metadata": {
        "id": "view-in-github",
        "colab_type": "text"
      },
      "source": [
        "<a href=\"https://colab.research.google.com/github/JangAyeon/ToBigs/blob/master/%5B7%5DNeuralNetworkAdvanced.ipynb\" target=\"_parent\"><img src=\"https://colab.research.google.com/assets/colab-badge.svg\" alt=\"Open In Colab\"/></a>"
      ]
    },
    {
      "cell_type": "code",
      "metadata": {
        "id": "Wzfuq5nvTw6J"
      },
      "source": [
        "import numpy as np\r\n",
        "import pandas as pd\r\n",
        "import time\r\n",
        "from sklearn.model_selection import train_test_split\r\n",
        "\r\n",
        "import matplotlib.pyplot as plt\r\n",
        "%matplotlib inline\r\n",
        "\r\n",
        "import tensorflow as tf\r\n",
        "from tensorflow import keras\r\n",
        "\r\n",
        "import torch \r\n",
        "from torch import nn\r\n",
        "from torchvision import datasets,transforms\r\n",
        "import torch.nn.functional as F\r\n",
        "\r\n",
        "from prettytable import PrettyTable\r\n",
        "\r\n",
        "from tqdm import tqdm"
      ],
      "execution_count": 1,
      "outputs": []
    },
    {
      "cell_type": "markdown",
      "metadata": {
        "id": "VT5G3U9Nk5vG"
      },
      "source": [
        "#**Load Data**"
      ]
    },
    {
      "cell_type": "code",
      "metadata": {
        "id": "1VepGGrDUPN3"
      },
      "source": [
        "train_data = pd.read_csv('train.csv')\r\n",
        "test_data = pd.read_csv('test.csv')\r\n",
        "sample_submission = pd.read_csv(\"sample_submission.csv\")"
      ],
      "execution_count": 2,
      "outputs": []
    },
    {
      "cell_type": "code",
      "metadata": {
        "colab": {
          "base_uri": "https://localhost:8080/",
          "height": 249
        },
        "id": "yTN5WycxUQ5M",
        "outputId": "bde96a61-f52a-4a2a-abb2-6710fcc2aeb5"
      },
      "source": [
        "train_data.head()"
      ],
      "execution_count": 3,
      "outputs": [
        {
          "output_type": "execute_result",
          "data": {
            "text/html": [
              "<div>\n",
              "<style scoped>\n",
              "    .dataframe tbody tr th:only-of-type {\n",
              "        vertical-align: middle;\n",
              "    }\n",
              "\n",
              "    .dataframe tbody tr th {\n",
              "        vertical-align: top;\n",
              "    }\n",
              "\n",
              "    .dataframe thead th {\n",
              "        text-align: right;\n",
              "    }\n",
              "</style>\n",
              "<table border=\"1\" class=\"dataframe\">\n",
              "  <thead>\n",
              "    <tr style=\"text-align: right;\">\n",
              "      <th></th>\n",
              "      <th>label</th>\n",
              "      <th>pixel0</th>\n",
              "      <th>pixel1</th>\n",
              "      <th>pixel2</th>\n",
              "      <th>pixel3</th>\n",
              "      <th>pixel4</th>\n",
              "      <th>pixel5</th>\n",
              "      <th>pixel6</th>\n",
              "      <th>pixel7</th>\n",
              "      <th>pixel8</th>\n",
              "      <th>pixel9</th>\n",
              "      <th>pixel10</th>\n",
              "      <th>pixel11</th>\n",
              "      <th>pixel12</th>\n",
              "      <th>pixel13</th>\n",
              "      <th>pixel14</th>\n",
              "      <th>pixel15</th>\n",
              "      <th>pixel16</th>\n",
              "      <th>pixel17</th>\n",
              "      <th>pixel18</th>\n",
              "      <th>pixel19</th>\n",
              "      <th>pixel20</th>\n",
              "      <th>pixel21</th>\n",
              "      <th>pixel22</th>\n",
              "      <th>pixel23</th>\n",
              "      <th>pixel24</th>\n",
              "      <th>pixel25</th>\n",
              "      <th>pixel26</th>\n",
              "      <th>pixel27</th>\n",
              "      <th>pixel28</th>\n",
              "      <th>pixel29</th>\n",
              "      <th>pixel30</th>\n",
              "      <th>pixel31</th>\n",
              "      <th>pixel32</th>\n",
              "      <th>pixel33</th>\n",
              "      <th>pixel34</th>\n",
              "      <th>pixel35</th>\n",
              "      <th>pixel36</th>\n",
              "      <th>pixel37</th>\n",
              "      <th>pixel38</th>\n",
              "      <th>...</th>\n",
              "      <th>pixel744</th>\n",
              "      <th>pixel745</th>\n",
              "      <th>pixel746</th>\n",
              "      <th>pixel747</th>\n",
              "      <th>pixel748</th>\n",
              "      <th>pixel749</th>\n",
              "      <th>pixel750</th>\n",
              "      <th>pixel751</th>\n",
              "      <th>pixel752</th>\n",
              "      <th>pixel753</th>\n",
              "      <th>pixel754</th>\n",
              "      <th>pixel755</th>\n",
              "      <th>pixel756</th>\n",
              "      <th>pixel757</th>\n",
              "      <th>pixel758</th>\n",
              "      <th>pixel759</th>\n",
              "      <th>pixel760</th>\n",
              "      <th>pixel761</th>\n",
              "      <th>pixel762</th>\n",
              "      <th>pixel763</th>\n",
              "      <th>pixel764</th>\n",
              "      <th>pixel765</th>\n",
              "      <th>pixel766</th>\n",
              "      <th>pixel767</th>\n",
              "      <th>pixel768</th>\n",
              "      <th>pixel769</th>\n",
              "      <th>pixel770</th>\n",
              "      <th>pixel771</th>\n",
              "      <th>pixel772</th>\n",
              "      <th>pixel773</th>\n",
              "      <th>pixel774</th>\n",
              "      <th>pixel775</th>\n",
              "      <th>pixel776</th>\n",
              "      <th>pixel777</th>\n",
              "      <th>pixel778</th>\n",
              "      <th>pixel779</th>\n",
              "      <th>pixel780</th>\n",
              "      <th>pixel781</th>\n",
              "      <th>pixel782</th>\n",
              "      <th>pixel783</th>\n",
              "    </tr>\n",
              "  </thead>\n",
              "  <tbody>\n",
              "    <tr>\n",
              "      <th>0</th>\n",
              "      <td>7</td>\n",
              "      <td>0</td>\n",
              "      <td>0</td>\n",
              "      <td>0</td>\n",
              "      <td>0</td>\n",
              "      <td>0</td>\n",
              "      <td>0</td>\n",
              "      <td>0</td>\n",
              "      <td>0</td>\n",
              "      <td>0</td>\n",
              "      <td>0</td>\n",
              "      <td>0</td>\n",
              "      <td>0</td>\n",
              "      <td>0</td>\n",
              "      <td>0</td>\n",
              "      <td>0</td>\n",
              "      <td>0</td>\n",
              "      <td>0</td>\n",
              "      <td>0</td>\n",
              "      <td>0</td>\n",
              "      <td>0</td>\n",
              "      <td>0</td>\n",
              "      <td>0</td>\n",
              "      <td>0</td>\n",
              "      <td>0</td>\n",
              "      <td>0</td>\n",
              "      <td>0</td>\n",
              "      <td>0</td>\n",
              "      <td>0</td>\n",
              "      <td>0</td>\n",
              "      <td>0</td>\n",
              "      <td>0</td>\n",
              "      <td>0</td>\n",
              "      <td>0</td>\n",
              "      <td>0</td>\n",
              "      <td>0</td>\n",
              "      <td>0</td>\n",
              "      <td>0</td>\n",
              "      <td>0</td>\n",
              "      <td>0</td>\n",
              "      <td>...</td>\n",
              "      <td>0</td>\n",
              "      <td>0</td>\n",
              "      <td>0</td>\n",
              "      <td>0</td>\n",
              "      <td>0</td>\n",
              "      <td>0</td>\n",
              "      <td>0</td>\n",
              "      <td>0</td>\n",
              "      <td>0</td>\n",
              "      <td>0</td>\n",
              "      <td>0</td>\n",
              "      <td>0</td>\n",
              "      <td>0</td>\n",
              "      <td>0</td>\n",
              "      <td>0</td>\n",
              "      <td>0</td>\n",
              "      <td>0</td>\n",
              "      <td>0</td>\n",
              "      <td>0</td>\n",
              "      <td>0</td>\n",
              "      <td>0</td>\n",
              "      <td>0</td>\n",
              "      <td>0</td>\n",
              "      <td>0</td>\n",
              "      <td>0</td>\n",
              "      <td>0</td>\n",
              "      <td>0</td>\n",
              "      <td>0</td>\n",
              "      <td>0</td>\n",
              "      <td>0</td>\n",
              "      <td>0</td>\n",
              "      <td>0</td>\n",
              "      <td>0</td>\n",
              "      <td>0</td>\n",
              "      <td>0</td>\n",
              "      <td>0</td>\n",
              "      <td>0</td>\n",
              "      <td>0</td>\n",
              "      <td>0</td>\n",
              "      <td>0</td>\n",
              "    </tr>\n",
              "    <tr>\n",
              "      <th>1</th>\n",
              "      <td>8</td>\n",
              "      <td>0</td>\n",
              "      <td>0</td>\n",
              "      <td>0</td>\n",
              "      <td>0</td>\n",
              "      <td>0</td>\n",
              "      <td>0</td>\n",
              "      <td>0</td>\n",
              "      <td>0</td>\n",
              "      <td>0</td>\n",
              "      <td>0</td>\n",
              "      <td>0</td>\n",
              "      <td>0</td>\n",
              "      <td>0</td>\n",
              "      <td>0</td>\n",
              "      <td>0</td>\n",
              "      <td>0</td>\n",
              "      <td>0</td>\n",
              "      <td>0</td>\n",
              "      <td>0</td>\n",
              "      <td>0</td>\n",
              "      <td>0</td>\n",
              "      <td>0</td>\n",
              "      <td>0</td>\n",
              "      <td>0</td>\n",
              "      <td>0</td>\n",
              "      <td>0</td>\n",
              "      <td>0</td>\n",
              "      <td>0</td>\n",
              "      <td>0</td>\n",
              "      <td>0</td>\n",
              "      <td>0</td>\n",
              "      <td>0</td>\n",
              "      <td>0</td>\n",
              "      <td>0</td>\n",
              "      <td>0</td>\n",
              "      <td>0</td>\n",
              "      <td>0</td>\n",
              "      <td>0</td>\n",
              "      <td>0</td>\n",
              "      <td>...</td>\n",
              "      <td>0</td>\n",
              "      <td>0</td>\n",
              "      <td>0</td>\n",
              "      <td>0</td>\n",
              "      <td>0</td>\n",
              "      <td>0</td>\n",
              "      <td>0</td>\n",
              "      <td>0</td>\n",
              "      <td>0</td>\n",
              "      <td>0</td>\n",
              "      <td>0</td>\n",
              "      <td>0</td>\n",
              "      <td>0</td>\n",
              "      <td>0</td>\n",
              "      <td>0</td>\n",
              "      <td>0</td>\n",
              "      <td>0</td>\n",
              "      <td>0</td>\n",
              "      <td>0</td>\n",
              "      <td>0</td>\n",
              "      <td>0</td>\n",
              "      <td>0</td>\n",
              "      <td>0</td>\n",
              "      <td>0</td>\n",
              "      <td>0</td>\n",
              "      <td>0</td>\n",
              "      <td>0</td>\n",
              "      <td>0</td>\n",
              "      <td>0</td>\n",
              "      <td>0</td>\n",
              "      <td>0</td>\n",
              "      <td>0</td>\n",
              "      <td>0</td>\n",
              "      <td>0</td>\n",
              "      <td>0</td>\n",
              "      <td>0</td>\n",
              "      <td>0</td>\n",
              "      <td>0</td>\n",
              "      <td>0</td>\n",
              "      <td>0</td>\n",
              "    </tr>\n",
              "    <tr>\n",
              "      <th>2</th>\n",
              "      <td>7</td>\n",
              "      <td>0</td>\n",
              "      <td>0</td>\n",
              "      <td>0</td>\n",
              "      <td>0</td>\n",
              "      <td>0</td>\n",
              "      <td>0</td>\n",
              "      <td>0</td>\n",
              "      <td>0</td>\n",
              "      <td>0</td>\n",
              "      <td>0</td>\n",
              "      <td>0</td>\n",
              "      <td>0</td>\n",
              "      <td>0</td>\n",
              "      <td>0</td>\n",
              "      <td>0</td>\n",
              "      <td>0</td>\n",
              "      <td>0</td>\n",
              "      <td>0</td>\n",
              "      <td>0</td>\n",
              "      <td>0</td>\n",
              "      <td>0</td>\n",
              "      <td>0</td>\n",
              "      <td>0</td>\n",
              "      <td>0</td>\n",
              "      <td>0</td>\n",
              "      <td>0</td>\n",
              "      <td>0</td>\n",
              "      <td>0</td>\n",
              "      <td>0</td>\n",
              "      <td>0</td>\n",
              "      <td>0</td>\n",
              "      <td>0</td>\n",
              "      <td>0</td>\n",
              "      <td>0</td>\n",
              "      <td>0</td>\n",
              "      <td>0</td>\n",
              "      <td>0</td>\n",
              "      <td>0</td>\n",
              "      <td>0</td>\n",
              "      <td>...</td>\n",
              "      <td>0</td>\n",
              "      <td>0</td>\n",
              "      <td>0</td>\n",
              "      <td>0</td>\n",
              "      <td>0</td>\n",
              "      <td>0</td>\n",
              "      <td>0</td>\n",
              "      <td>0</td>\n",
              "      <td>0</td>\n",
              "      <td>0</td>\n",
              "      <td>0</td>\n",
              "      <td>0</td>\n",
              "      <td>0</td>\n",
              "      <td>0</td>\n",
              "      <td>0</td>\n",
              "      <td>0</td>\n",
              "      <td>0</td>\n",
              "      <td>0</td>\n",
              "      <td>0</td>\n",
              "      <td>0</td>\n",
              "      <td>0</td>\n",
              "      <td>0</td>\n",
              "      <td>0</td>\n",
              "      <td>0</td>\n",
              "      <td>0</td>\n",
              "      <td>0</td>\n",
              "      <td>0</td>\n",
              "      <td>0</td>\n",
              "      <td>0</td>\n",
              "      <td>0</td>\n",
              "      <td>0</td>\n",
              "      <td>0</td>\n",
              "      <td>0</td>\n",
              "      <td>0</td>\n",
              "      <td>0</td>\n",
              "      <td>0</td>\n",
              "      <td>0</td>\n",
              "      <td>0</td>\n",
              "      <td>0</td>\n",
              "      <td>0</td>\n",
              "    </tr>\n",
              "    <tr>\n",
              "      <th>3</th>\n",
              "      <td>6</td>\n",
              "      <td>0</td>\n",
              "      <td>0</td>\n",
              "      <td>0</td>\n",
              "      <td>0</td>\n",
              "      <td>0</td>\n",
              "      <td>0</td>\n",
              "      <td>0</td>\n",
              "      <td>0</td>\n",
              "      <td>0</td>\n",
              "      <td>0</td>\n",
              "      <td>0</td>\n",
              "      <td>0</td>\n",
              "      <td>0</td>\n",
              "      <td>0</td>\n",
              "      <td>0</td>\n",
              "      <td>0</td>\n",
              "      <td>0</td>\n",
              "      <td>0</td>\n",
              "      <td>0</td>\n",
              "      <td>0</td>\n",
              "      <td>0</td>\n",
              "      <td>0</td>\n",
              "      <td>0</td>\n",
              "      <td>0</td>\n",
              "      <td>0</td>\n",
              "      <td>0</td>\n",
              "      <td>0</td>\n",
              "      <td>0</td>\n",
              "      <td>0</td>\n",
              "      <td>0</td>\n",
              "      <td>0</td>\n",
              "      <td>0</td>\n",
              "      <td>0</td>\n",
              "      <td>0</td>\n",
              "      <td>0</td>\n",
              "      <td>0</td>\n",
              "      <td>0</td>\n",
              "      <td>0</td>\n",
              "      <td>0</td>\n",
              "      <td>...</td>\n",
              "      <td>0</td>\n",
              "      <td>0</td>\n",
              "      <td>0</td>\n",
              "      <td>0</td>\n",
              "      <td>0</td>\n",
              "      <td>0</td>\n",
              "      <td>0</td>\n",
              "      <td>0</td>\n",
              "      <td>0</td>\n",
              "      <td>0</td>\n",
              "      <td>0</td>\n",
              "      <td>0</td>\n",
              "      <td>0</td>\n",
              "      <td>0</td>\n",
              "      <td>0</td>\n",
              "      <td>0</td>\n",
              "      <td>0</td>\n",
              "      <td>0</td>\n",
              "      <td>0</td>\n",
              "      <td>0</td>\n",
              "      <td>0</td>\n",
              "      <td>0</td>\n",
              "      <td>0</td>\n",
              "      <td>0</td>\n",
              "      <td>0</td>\n",
              "      <td>0</td>\n",
              "      <td>0</td>\n",
              "      <td>0</td>\n",
              "      <td>0</td>\n",
              "      <td>0</td>\n",
              "      <td>0</td>\n",
              "      <td>0</td>\n",
              "      <td>0</td>\n",
              "      <td>0</td>\n",
              "      <td>0</td>\n",
              "      <td>0</td>\n",
              "      <td>0</td>\n",
              "      <td>0</td>\n",
              "      <td>0</td>\n",
              "      <td>0</td>\n",
              "    </tr>\n",
              "    <tr>\n",
              "      <th>4</th>\n",
              "      <td>5</td>\n",
              "      <td>0</td>\n",
              "      <td>0</td>\n",
              "      <td>0</td>\n",
              "      <td>0</td>\n",
              "      <td>0</td>\n",
              "      <td>0</td>\n",
              "      <td>0</td>\n",
              "      <td>0</td>\n",
              "      <td>0</td>\n",
              "      <td>0</td>\n",
              "      <td>0</td>\n",
              "      <td>0</td>\n",
              "      <td>0</td>\n",
              "      <td>0</td>\n",
              "      <td>0</td>\n",
              "      <td>0</td>\n",
              "      <td>0</td>\n",
              "      <td>0</td>\n",
              "      <td>0</td>\n",
              "      <td>0</td>\n",
              "      <td>0</td>\n",
              "      <td>0</td>\n",
              "      <td>0</td>\n",
              "      <td>0</td>\n",
              "      <td>0</td>\n",
              "      <td>0</td>\n",
              "      <td>0</td>\n",
              "      <td>0</td>\n",
              "      <td>0</td>\n",
              "      <td>0</td>\n",
              "      <td>0</td>\n",
              "      <td>0</td>\n",
              "      <td>0</td>\n",
              "      <td>0</td>\n",
              "      <td>0</td>\n",
              "      <td>0</td>\n",
              "      <td>0</td>\n",
              "      <td>0</td>\n",
              "      <td>0</td>\n",
              "      <td>...</td>\n",
              "      <td>0</td>\n",
              "      <td>0</td>\n",
              "      <td>0</td>\n",
              "      <td>0</td>\n",
              "      <td>0</td>\n",
              "      <td>0</td>\n",
              "      <td>0</td>\n",
              "      <td>0</td>\n",
              "      <td>0</td>\n",
              "      <td>0</td>\n",
              "      <td>0</td>\n",
              "      <td>0</td>\n",
              "      <td>0</td>\n",
              "      <td>0</td>\n",
              "      <td>0</td>\n",
              "      <td>0</td>\n",
              "      <td>0</td>\n",
              "      <td>0</td>\n",
              "      <td>0</td>\n",
              "      <td>0</td>\n",
              "      <td>0</td>\n",
              "      <td>0</td>\n",
              "      <td>0</td>\n",
              "      <td>0</td>\n",
              "      <td>0</td>\n",
              "      <td>0</td>\n",
              "      <td>0</td>\n",
              "      <td>0</td>\n",
              "      <td>0</td>\n",
              "      <td>0</td>\n",
              "      <td>0</td>\n",
              "      <td>0</td>\n",
              "      <td>0</td>\n",
              "      <td>0</td>\n",
              "      <td>0</td>\n",
              "      <td>0</td>\n",
              "      <td>0</td>\n",
              "      <td>0</td>\n",
              "      <td>0</td>\n",
              "      <td>0</td>\n",
              "    </tr>\n",
              "  </tbody>\n",
              "</table>\n",
              "<p>5 rows × 785 columns</p>\n",
              "</div>"
            ],
            "text/plain": [
              "   label  pixel0  pixel1  pixel2  ...  pixel780  pixel781  pixel782  pixel783\n",
              "0      7       0       0       0  ...         0         0         0         0\n",
              "1      8       0       0       0  ...         0         0         0         0\n",
              "2      7       0       0       0  ...         0         0         0         0\n",
              "3      6       0       0       0  ...         0         0         0         0\n",
              "4      5       0       0       0  ...         0         0         0         0\n",
              "\n",
              "[5 rows x 785 columns]"
            ]
          },
          "metadata": {
            "tags": []
          },
          "execution_count": 3
        }
      ]
    },
    {
      "cell_type": "code",
      "metadata": {
        "colab": {
          "base_uri": "https://localhost:8080/",
          "height": 249
        },
        "id": "u7TQmKYvUSrk",
        "outputId": "4d962986-b199-49eb-dfd4-9652daaf7de1"
      },
      "source": [
        "test_data=test_data.iloc[:,1:] #0번 column에 필요없는 index자료 제거\r\n",
        "test_data.head()"
      ],
      "execution_count": 4,
      "outputs": [
        {
          "output_type": "execute_result",
          "data": {
            "text/html": [
              "<div>\n",
              "<style scoped>\n",
              "    .dataframe tbody tr th:only-of-type {\n",
              "        vertical-align: middle;\n",
              "    }\n",
              "\n",
              "    .dataframe tbody tr th {\n",
              "        vertical-align: top;\n",
              "    }\n",
              "\n",
              "    .dataframe thead th {\n",
              "        text-align: right;\n",
              "    }\n",
              "</style>\n",
              "<table border=\"1\" class=\"dataframe\">\n",
              "  <thead>\n",
              "    <tr style=\"text-align: right;\">\n",
              "      <th></th>\n",
              "      <th>pixel0</th>\n",
              "      <th>pixel1</th>\n",
              "      <th>pixel2</th>\n",
              "      <th>pixel3</th>\n",
              "      <th>pixel4</th>\n",
              "      <th>pixel5</th>\n",
              "      <th>pixel6</th>\n",
              "      <th>pixel7</th>\n",
              "      <th>pixel8</th>\n",
              "      <th>pixel9</th>\n",
              "      <th>pixel10</th>\n",
              "      <th>pixel11</th>\n",
              "      <th>pixel12</th>\n",
              "      <th>pixel13</th>\n",
              "      <th>pixel14</th>\n",
              "      <th>pixel15</th>\n",
              "      <th>pixel16</th>\n",
              "      <th>pixel17</th>\n",
              "      <th>pixel18</th>\n",
              "      <th>pixel19</th>\n",
              "      <th>pixel20</th>\n",
              "      <th>pixel21</th>\n",
              "      <th>pixel22</th>\n",
              "      <th>pixel23</th>\n",
              "      <th>pixel24</th>\n",
              "      <th>pixel25</th>\n",
              "      <th>pixel26</th>\n",
              "      <th>pixel27</th>\n",
              "      <th>pixel28</th>\n",
              "      <th>pixel29</th>\n",
              "      <th>pixel30</th>\n",
              "      <th>pixel31</th>\n",
              "      <th>pixel32</th>\n",
              "      <th>pixel33</th>\n",
              "      <th>pixel34</th>\n",
              "      <th>pixel35</th>\n",
              "      <th>pixel36</th>\n",
              "      <th>pixel37</th>\n",
              "      <th>pixel38</th>\n",
              "      <th>pixel39</th>\n",
              "      <th>...</th>\n",
              "      <th>pixel744</th>\n",
              "      <th>pixel745</th>\n",
              "      <th>pixel746</th>\n",
              "      <th>pixel747</th>\n",
              "      <th>pixel748</th>\n",
              "      <th>pixel749</th>\n",
              "      <th>pixel750</th>\n",
              "      <th>pixel751</th>\n",
              "      <th>pixel752</th>\n",
              "      <th>pixel753</th>\n",
              "      <th>pixel754</th>\n",
              "      <th>pixel755</th>\n",
              "      <th>pixel756</th>\n",
              "      <th>pixel757</th>\n",
              "      <th>pixel758</th>\n",
              "      <th>pixel759</th>\n",
              "      <th>pixel760</th>\n",
              "      <th>pixel761</th>\n",
              "      <th>pixel762</th>\n",
              "      <th>pixel763</th>\n",
              "      <th>pixel764</th>\n",
              "      <th>pixel765</th>\n",
              "      <th>pixel766</th>\n",
              "      <th>pixel767</th>\n",
              "      <th>pixel768</th>\n",
              "      <th>pixel769</th>\n",
              "      <th>pixel770</th>\n",
              "      <th>pixel771</th>\n",
              "      <th>pixel772</th>\n",
              "      <th>pixel773</th>\n",
              "      <th>pixel774</th>\n",
              "      <th>pixel775</th>\n",
              "      <th>pixel776</th>\n",
              "      <th>pixel777</th>\n",
              "      <th>pixel778</th>\n",
              "      <th>pixel779</th>\n",
              "      <th>pixel780</th>\n",
              "      <th>pixel781</th>\n",
              "      <th>pixel782</th>\n",
              "      <th>pixel783</th>\n",
              "    </tr>\n",
              "  </thead>\n",
              "  <tbody>\n",
              "    <tr>\n",
              "      <th>0</th>\n",
              "      <td>0</td>\n",
              "      <td>0</td>\n",
              "      <td>0</td>\n",
              "      <td>0</td>\n",
              "      <td>0</td>\n",
              "      <td>0</td>\n",
              "      <td>0</td>\n",
              "      <td>0</td>\n",
              "      <td>0</td>\n",
              "      <td>0</td>\n",
              "      <td>0</td>\n",
              "      <td>0</td>\n",
              "      <td>0</td>\n",
              "      <td>0</td>\n",
              "      <td>0</td>\n",
              "      <td>0</td>\n",
              "      <td>0</td>\n",
              "      <td>0</td>\n",
              "      <td>0</td>\n",
              "      <td>0</td>\n",
              "      <td>0</td>\n",
              "      <td>0</td>\n",
              "      <td>0</td>\n",
              "      <td>0</td>\n",
              "      <td>0</td>\n",
              "      <td>0</td>\n",
              "      <td>0</td>\n",
              "      <td>0</td>\n",
              "      <td>0</td>\n",
              "      <td>0</td>\n",
              "      <td>0</td>\n",
              "      <td>0</td>\n",
              "      <td>0</td>\n",
              "      <td>0</td>\n",
              "      <td>0</td>\n",
              "      <td>0</td>\n",
              "      <td>0</td>\n",
              "      <td>0</td>\n",
              "      <td>0</td>\n",
              "      <td>0</td>\n",
              "      <td>...</td>\n",
              "      <td>0</td>\n",
              "      <td>0</td>\n",
              "      <td>0</td>\n",
              "      <td>0</td>\n",
              "      <td>0</td>\n",
              "      <td>0</td>\n",
              "      <td>0</td>\n",
              "      <td>0</td>\n",
              "      <td>0</td>\n",
              "      <td>0</td>\n",
              "      <td>0</td>\n",
              "      <td>0</td>\n",
              "      <td>0</td>\n",
              "      <td>0</td>\n",
              "      <td>0</td>\n",
              "      <td>0</td>\n",
              "      <td>0</td>\n",
              "      <td>0</td>\n",
              "      <td>0</td>\n",
              "      <td>0</td>\n",
              "      <td>0</td>\n",
              "      <td>0</td>\n",
              "      <td>0</td>\n",
              "      <td>0</td>\n",
              "      <td>0</td>\n",
              "      <td>0</td>\n",
              "      <td>0</td>\n",
              "      <td>0</td>\n",
              "      <td>0</td>\n",
              "      <td>0</td>\n",
              "      <td>0</td>\n",
              "      <td>0</td>\n",
              "      <td>0</td>\n",
              "      <td>0</td>\n",
              "      <td>0</td>\n",
              "      <td>0</td>\n",
              "      <td>0</td>\n",
              "      <td>0</td>\n",
              "      <td>0</td>\n",
              "      <td>0</td>\n",
              "    </tr>\n",
              "    <tr>\n",
              "      <th>1</th>\n",
              "      <td>0</td>\n",
              "      <td>0</td>\n",
              "      <td>0</td>\n",
              "      <td>0</td>\n",
              "      <td>0</td>\n",
              "      <td>0</td>\n",
              "      <td>0</td>\n",
              "      <td>0</td>\n",
              "      <td>0</td>\n",
              "      <td>0</td>\n",
              "      <td>0</td>\n",
              "      <td>0</td>\n",
              "      <td>0</td>\n",
              "      <td>0</td>\n",
              "      <td>0</td>\n",
              "      <td>0</td>\n",
              "      <td>0</td>\n",
              "      <td>0</td>\n",
              "      <td>0</td>\n",
              "      <td>0</td>\n",
              "      <td>0</td>\n",
              "      <td>0</td>\n",
              "      <td>0</td>\n",
              "      <td>0</td>\n",
              "      <td>0</td>\n",
              "      <td>0</td>\n",
              "      <td>0</td>\n",
              "      <td>0</td>\n",
              "      <td>0</td>\n",
              "      <td>0</td>\n",
              "      <td>0</td>\n",
              "      <td>0</td>\n",
              "      <td>0</td>\n",
              "      <td>0</td>\n",
              "      <td>0</td>\n",
              "      <td>0</td>\n",
              "      <td>0</td>\n",
              "      <td>0</td>\n",
              "      <td>0</td>\n",
              "      <td>0</td>\n",
              "      <td>...</td>\n",
              "      <td>0</td>\n",
              "      <td>0</td>\n",
              "      <td>0</td>\n",
              "      <td>0</td>\n",
              "      <td>0</td>\n",
              "      <td>0</td>\n",
              "      <td>0</td>\n",
              "      <td>0</td>\n",
              "      <td>0</td>\n",
              "      <td>0</td>\n",
              "      <td>0</td>\n",
              "      <td>0</td>\n",
              "      <td>0</td>\n",
              "      <td>0</td>\n",
              "      <td>0</td>\n",
              "      <td>0</td>\n",
              "      <td>0</td>\n",
              "      <td>0</td>\n",
              "      <td>0</td>\n",
              "      <td>0</td>\n",
              "      <td>0</td>\n",
              "      <td>0</td>\n",
              "      <td>0</td>\n",
              "      <td>0</td>\n",
              "      <td>0</td>\n",
              "      <td>0</td>\n",
              "      <td>0</td>\n",
              "      <td>0</td>\n",
              "      <td>0</td>\n",
              "      <td>0</td>\n",
              "      <td>0</td>\n",
              "      <td>0</td>\n",
              "      <td>0</td>\n",
              "      <td>0</td>\n",
              "      <td>0</td>\n",
              "      <td>0</td>\n",
              "      <td>0</td>\n",
              "      <td>0</td>\n",
              "      <td>0</td>\n",
              "      <td>0</td>\n",
              "    </tr>\n",
              "    <tr>\n",
              "      <th>2</th>\n",
              "      <td>0</td>\n",
              "      <td>0</td>\n",
              "      <td>0</td>\n",
              "      <td>0</td>\n",
              "      <td>0</td>\n",
              "      <td>0</td>\n",
              "      <td>0</td>\n",
              "      <td>0</td>\n",
              "      <td>0</td>\n",
              "      <td>0</td>\n",
              "      <td>0</td>\n",
              "      <td>0</td>\n",
              "      <td>0</td>\n",
              "      <td>0</td>\n",
              "      <td>0</td>\n",
              "      <td>0</td>\n",
              "      <td>0</td>\n",
              "      <td>0</td>\n",
              "      <td>0</td>\n",
              "      <td>0</td>\n",
              "      <td>0</td>\n",
              "      <td>0</td>\n",
              "      <td>0</td>\n",
              "      <td>0</td>\n",
              "      <td>0</td>\n",
              "      <td>0</td>\n",
              "      <td>0</td>\n",
              "      <td>0</td>\n",
              "      <td>0</td>\n",
              "      <td>0</td>\n",
              "      <td>0</td>\n",
              "      <td>0</td>\n",
              "      <td>0</td>\n",
              "      <td>0</td>\n",
              "      <td>0</td>\n",
              "      <td>0</td>\n",
              "      <td>0</td>\n",
              "      <td>0</td>\n",
              "      <td>0</td>\n",
              "      <td>0</td>\n",
              "      <td>...</td>\n",
              "      <td>0</td>\n",
              "      <td>0</td>\n",
              "      <td>0</td>\n",
              "      <td>0</td>\n",
              "      <td>0</td>\n",
              "      <td>0</td>\n",
              "      <td>0</td>\n",
              "      <td>0</td>\n",
              "      <td>0</td>\n",
              "      <td>0</td>\n",
              "      <td>0</td>\n",
              "      <td>0</td>\n",
              "      <td>0</td>\n",
              "      <td>0</td>\n",
              "      <td>0</td>\n",
              "      <td>0</td>\n",
              "      <td>0</td>\n",
              "      <td>0</td>\n",
              "      <td>0</td>\n",
              "      <td>0</td>\n",
              "      <td>0</td>\n",
              "      <td>0</td>\n",
              "      <td>0</td>\n",
              "      <td>0</td>\n",
              "      <td>0</td>\n",
              "      <td>0</td>\n",
              "      <td>0</td>\n",
              "      <td>0</td>\n",
              "      <td>0</td>\n",
              "      <td>0</td>\n",
              "      <td>0</td>\n",
              "      <td>0</td>\n",
              "      <td>0</td>\n",
              "      <td>0</td>\n",
              "      <td>0</td>\n",
              "      <td>0</td>\n",
              "      <td>0</td>\n",
              "      <td>0</td>\n",
              "      <td>0</td>\n",
              "      <td>0</td>\n",
              "    </tr>\n",
              "    <tr>\n",
              "      <th>3</th>\n",
              "      <td>0</td>\n",
              "      <td>0</td>\n",
              "      <td>0</td>\n",
              "      <td>0</td>\n",
              "      <td>0</td>\n",
              "      <td>0</td>\n",
              "      <td>0</td>\n",
              "      <td>0</td>\n",
              "      <td>0</td>\n",
              "      <td>0</td>\n",
              "      <td>0</td>\n",
              "      <td>0</td>\n",
              "      <td>0</td>\n",
              "      <td>0</td>\n",
              "      <td>0</td>\n",
              "      <td>0</td>\n",
              "      <td>0</td>\n",
              "      <td>0</td>\n",
              "      <td>0</td>\n",
              "      <td>0</td>\n",
              "      <td>0</td>\n",
              "      <td>0</td>\n",
              "      <td>0</td>\n",
              "      <td>0</td>\n",
              "      <td>0</td>\n",
              "      <td>0</td>\n",
              "      <td>0</td>\n",
              "      <td>0</td>\n",
              "      <td>0</td>\n",
              "      <td>0</td>\n",
              "      <td>0</td>\n",
              "      <td>0</td>\n",
              "      <td>0</td>\n",
              "      <td>0</td>\n",
              "      <td>0</td>\n",
              "      <td>0</td>\n",
              "      <td>0</td>\n",
              "      <td>0</td>\n",
              "      <td>0</td>\n",
              "      <td>0</td>\n",
              "      <td>...</td>\n",
              "      <td>0</td>\n",
              "      <td>0</td>\n",
              "      <td>0</td>\n",
              "      <td>0</td>\n",
              "      <td>0</td>\n",
              "      <td>0</td>\n",
              "      <td>0</td>\n",
              "      <td>0</td>\n",
              "      <td>0</td>\n",
              "      <td>0</td>\n",
              "      <td>0</td>\n",
              "      <td>0</td>\n",
              "      <td>0</td>\n",
              "      <td>0</td>\n",
              "      <td>0</td>\n",
              "      <td>0</td>\n",
              "      <td>0</td>\n",
              "      <td>0</td>\n",
              "      <td>0</td>\n",
              "      <td>0</td>\n",
              "      <td>0</td>\n",
              "      <td>0</td>\n",
              "      <td>0</td>\n",
              "      <td>0</td>\n",
              "      <td>0</td>\n",
              "      <td>0</td>\n",
              "      <td>0</td>\n",
              "      <td>0</td>\n",
              "      <td>0</td>\n",
              "      <td>0</td>\n",
              "      <td>0</td>\n",
              "      <td>0</td>\n",
              "      <td>0</td>\n",
              "      <td>0</td>\n",
              "      <td>0</td>\n",
              "      <td>0</td>\n",
              "      <td>0</td>\n",
              "      <td>0</td>\n",
              "      <td>0</td>\n",
              "      <td>0</td>\n",
              "    </tr>\n",
              "    <tr>\n",
              "      <th>4</th>\n",
              "      <td>0</td>\n",
              "      <td>0</td>\n",
              "      <td>0</td>\n",
              "      <td>0</td>\n",
              "      <td>0</td>\n",
              "      <td>0</td>\n",
              "      <td>0</td>\n",
              "      <td>0</td>\n",
              "      <td>0</td>\n",
              "      <td>0</td>\n",
              "      <td>0</td>\n",
              "      <td>0</td>\n",
              "      <td>0</td>\n",
              "      <td>0</td>\n",
              "      <td>0</td>\n",
              "      <td>0</td>\n",
              "      <td>0</td>\n",
              "      <td>0</td>\n",
              "      <td>0</td>\n",
              "      <td>0</td>\n",
              "      <td>0</td>\n",
              "      <td>0</td>\n",
              "      <td>0</td>\n",
              "      <td>0</td>\n",
              "      <td>0</td>\n",
              "      <td>0</td>\n",
              "      <td>0</td>\n",
              "      <td>0</td>\n",
              "      <td>0</td>\n",
              "      <td>0</td>\n",
              "      <td>0</td>\n",
              "      <td>0</td>\n",
              "      <td>0</td>\n",
              "      <td>0</td>\n",
              "      <td>0</td>\n",
              "      <td>0</td>\n",
              "      <td>0</td>\n",
              "      <td>0</td>\n",
              "      <td>0</td>\n",
              "      <td>0</td>\n",
              "      <td>...</td>\n",
              "      <td>0</td>\n",
              "      <td>0</td>\n",
              "      <td>0</td>\n",
              "      <td>0</td>\n",
              "      <td>0</td>\n",
              "      <td>0</td>\n",
              "      <td>0</td>\n",
              "      <td>0</td>\n",
              "      <td>0</td>\n",
              "      <td>0</td>\n",
              "      <td>0</td>\n",
              "      <td>0</td>\n",
              "      <td>0</td>\n",
              "      <td>0</td>\n",
              "      <td>0</td>\n",
              "      <td>0</td>\n",
              "      <td>0</td>\n",
              "      <td>0</td>\n",
              "      <td>0</td>\n",
              "      <td>0</td>\n",
              "      <td>0</td>\n",
              "      <td>0</td>\n",
              "      <td>0</td>\n",
              "      <td>0</td>\n",
              "      <td>0</td>\n",
              "      <td>0</td>\n",
              "      <td>0</td>\n",
              "      <td>0</td>\n",
              "      <td>0</td>\n",
              "      <td>0</td>\n",
              "      <td>0</td>\n",
              "      <td>0</td>\n",
              "      <td>0</td>\n",
              "      <td>0</td>\n",
              "      <td>0</td>\n",
              "      <td>0</td>\n",
              "      <td>0</td>\n",
              "      <td>0</td>\n",
              "      <td>0</td>\n",
              "      <td>0</td>\n",
              "    </tr>\n",
              "  </tbody>\n",
              "</table>\n",
              "<p>5 rows × 784 columns</p>\n",
              "</div>"
            ],
            "text/plain": [
              "   pixel0  pixel1  pixel2  pixel3  ...  pixel780  pixel781  pixel782  pixel783\n",
              "0       0       0       0       0  ...         0         0         0         0\n",
              "1       0       0       0       0  ...         0         0         0         0\n",
              "2       0       0       0       0  ...         0         0         0         0\n",
              "3       0       0       0       0  ...         0         0         0         0\n",
              "4       0       0       0       0  ...         0         0         0         0\n",
              "\n",
              "[5 rows x 784 columns]"
            ]
          },
          "metadata": {
            "tags": []
          },
          "execution_count": 4
        }
      ]
    },
    {
      "cell_type": "code",
      "metadata": {
        "id": "ysG_1X2KUUVT"
      },
      "source": [
        "X_train = train_data.drop('label',axis = 1).values #train data의 label값을 제거\r\n",
        "y_train = train_data['label'].values #label값 할당\r\n",
        "X_test = test_data.values"
      ],
      "execution_count": 5,
      "outputs": []
    },
    {
      "cell_type": "markdown",
      "metadata": {
        "id": "2BrFxoQ-DlCS"
      },
      "source": [
        "## **1.train / test data 크기**"
      ]
    },
    {
      "cell_type": "code",
      "metadata": {
        "colab": {
          "base_uri": "https://localhost:8080/"
        },
        "id": "5neWhqSYUV_c",
        "outputId": "63227223-9376-44cd-d629-b2d8ae624745"
      },
      "source": [
        "X_train.shape, y_train.shape, X_test.shape"
      ],
      "execution_count": 6,
      "outputs": [
        {
          "output_type": "execute_result",
          "data": {
            "text/plain": [
              "((42000, 784), (42000,), (18000, 784))"
            ]
          },
          "metadata": {
            "tags": []
          },
          "execution_count": 6
        }
      ]
    },
    {
      "cell_type": "markdown",
      "metadata": {
        "id": "I-jL7isNDtqy"
      },
      "source": [
        "## **2.그림 출력**"
      ]
    },
    {
      "cell_type": "code",
      "metadata": {
        "colab": {
          "base_uri": "https://localhost:8080/",
          "height": 281
        },
        "id": "Tqg2VdU1UXjL",
        "outputId": "708fa3a7-571c-4d3a-8623-ecbc7a533e51"
      },
      "source": [
        "#그림 출력\r\n",
        "\r\n",
        "index = 0\r\n",
        "image = X_train[index].reshape(28,28)\r\n",
        "plt.imshow(image, 'gray')\r\n",
        "plt.title('label : {}'.format(y_train[index]))\r\n",
        "plt.show()"
      ],
      "execution_count": 7,
      "outputs": [
        {
          "output_type": "display_data",
          "data": {
            "image/png": "[encoded data removed]",
            "text/plain": [
              "<Figure size 432x288 with 1 Axes>"
            ]
          },
          "metadata": {
            "tags": [],
            "needs_background": "light"
          }
        }
      ]
    },
    {
      "cell_type": "markdown",
      "metadata": {
        "id": "MsItXaz0D5N_"
      },
      "source": [
        "##**3.그림 사이즈 파악**"
      ]
    },
    {
      "cell_type": "code",
      "metadata": {
        "colab": {
          "base_uri": "https://localhost:8080/"
        },
        "id": "AGw5_Zy0UZ9v",
        "outputId": "7267729a-2a53-4256-b57f-e0cb5b70fd19"
      },
      "source": [
        " #전체 784 pixel, 즉, 28*28 사이즈의 그림들임!\r\n",
        "\r\n",
        "image_size = X_train.shape[1]\r\n",
        "print ('image_size => {0}'.format(image_size))\r\n",
        "\r\n",
        "# in this case all images are square\r\n",
        "image_width = image_height = np.ceil(np.sqrt(image_size)).astype(np.uint8)\r\n",
        "\r\n",
        "print ('image_width => {0}\\nimage_height => {1}'.format(image_width,image_height))"
      ],
      "execution_count": 8,
      "outputs": [
        {
          "output_type": "stream",
          "text": [
            "image_size => 784\n",
            "image_width => 28\n",
            "image_height => 28\n"
          ],
          "name": "stdout"
        }
      ]
    },
    {
      "cell_type": "markdown",
      "metadata": {
        "id": "BhhOoVOhD9rH"
      },
      "source": [
        "##**3.Scaling**"
      ]
    },
    {
      "cell_type": "code",
      "metadata": {
        "colab": {
          "base_uri": "https://localhost:8080/"
        },
        "id": "ZHEv5zIDUc3g",
        "outputId": "453bea52-d926-4d26-deb0-edf991b6d8cf"
      },
      "source": [
        "# scaling\r\n",
        "\r\n",
        "X_train = X_train.astype(np.float)\r\n",
        "X_test = X_test.astype(np.float)\r\n",
        "X_train /= 255\r\n",
        "X_test /= 255\r\n",
        "\r\n",
        "print('maximum value after scaling:', X_train.max(),\r\n",
        "      '\\nminimum value after scaling:' ,X_train.min())"
      ],
      "execution_count": 9,
      "outputs": [
        {
          "output_type": "stream",
          "text": [
            "maximum value after scaling: 1.0 \n",
            "minimum value after scaling: 0.0\n"
          ],
          "name": "stdout"
        }
      ]
    },
    {
      "cell_type": "markdown",
      "metadata": {
        "id": "FBbkXaoMEC_h"
      },
      "source": [
        "## **4. train / test data split & size**"
      ]
    },
    {
      "cell_type": "code",
      "metadata": {
        "colab": {
          "base_uri": "https://localhost:8080/"
        },
        "id": "s2xlukZ-UemH",
        "outputId": "68ff6268-000f-421b-f298-ccb51d3aabda"
      },
      "source": [
        "X_train, X_val, y_train, y_val = train_test_split(X_train, y_train, test_size=0.2)\r\n",
        "\r\n",
        "print(X_train.shape, y_train.shape)\r\n",
        "print(X_val.shape, y_val.shape)"
      ],
      "execution_count": 10,
      "outputs": [
        {
          "output_type": "stream",
          "text": [
            "(33600, 784) (33600,)\n",
            "(8400, 784) (8400,)\n"
          ],
          "name": "stdout"
        }
      ]
    },
    {
      "cell_type": "markdown",
      "metadata": {
        "id": "_VhBb7oEEPeZ"
      },
      "source": [
        "##**5.numpy -> tensor**"
      ]
    },
    {
      "cell_type": "code",
      "metadata": {
        "id": "tmGS_-RmUgN9"
      },
      "source": [
        "\r\n",
        "X_train = torch.Tensor(list(X_train))\r\n",
        "X_val = torch.Tensor(list(X_val))\r\n",
        "y_train = torch.Tensor(list(y_train))\r\n",
        "y_val = torch.Tensor(list(y_val))\r\n",
        "X_test = torch.Tensor(list(X_test))"
      ],
      "execution_count": 11,
      "outputs": []
    },
    {
      "cell_type": "markdown",
      "metadata": {
        "id": "B7azRDtFETt0"
      },
      "source": [
        "##**6.함수**"
      ]
    },
    {
      "cell_type": "markdown",
      "metadata": {
        "id": "X5KRS3I0EXg1"
      },
      "source": [
        "###**NN의 Parameters 갯수 표**"
      ]
    },
    {
      "cell_type": "code",
      "metadata": {
        "id": "z-dn0SnpUjt6"
      },
      "source": [
        "\r\n",
        "def count_parameters(model):\r\n",
        "  table = PrettyTable([\"Modules\", \"Parameters\"])\r\n",
        "  total_params = 0\r\n",
        "  for name, parameter in model.named_parameters():\r\n",
        "    if not parameter.requires_grad: continue\r\n",
        "    param = parameter.numel()\r\n",
        "    table.add_row([name, param])\r\n",
        "    total_params+=param\r\n",
        "  print(table)\r\n",
        "  print('Total Trainable Params: {}'.format(total_params))\r\n",
        "  return total_params"
      ],
      "execution_count": 12,
      "outputs": []
    },
    {
      "cell_type": "markdown",
      "metadata": {
        "id": "oEpLiM3wElsK"
      },
      "source": [
        "###**CNN : loss & accuracy in train**"
      ]
    },
    {
      "cell_type": "code",
      "metadata": {
        "id": "T1C6L_syUpSg"
      },
      "source": [
        "\r\n",
        "\r\n",
        "def get_result(epochs):\r\n",
        "  running_loss_history = []\r\n",
        "  running_corrects_history = []\r\n",
        "  validation_running_loss_history = []\r\n",
        "  validation_running_corrects_history = []\r\n",
        "\r\n",
        "  t0 = int(round(time.time()))\r\n",
        "  for eno in range(epochs):\r\n",
        "\r\n",
        "    running_loss = 0.0\r\n",
        "    running_corrects = 0.0\r\n",
        "    validation_running_loss = 0.0\r\n",
        "    validation_running_corrects = 0.0\r\n",
        "\r\n",
        "   # a batch of 100 images x 600 batches -> 60,000 for a single epoch \r\n",
        "    for inputs, labels in train_loader:     \r\n",
        "    # input [100(batch size), 1(channel), 28(width), 28(height)] =>     \r\n",
        "    ## inputs = inputs.view(inputs.shape[0], -1) # [100, 784]\r\n",
        "      inputs, labels = inputs.to(device),labels.to(device,dtype=torch.long)\r\n",
        "      outputs = model(inputs) # logits (scores)\r\n",
        "      loss = criterion(outputs, labels) # outputs [100, 1], labels [100]\r\n",
        "    \r\n",
        "      optimizer.zero_grad()\r\n",
        "      loss.backward()\r\n",
        "      optimizer.step()\r\n",
        "\r\n",
        "    #max function output(max, max_indices)\r\n",
        "      _, pred_idx = torch.max(outputs, 1) # 2nd argument - the dim to reduce    \r\n",
        "\r\n",
        "      running_loss += loss.item() # loss per batch \r\n",
        "      running_corrects += torch.sum(pred_idx == labels.data)\r\n",
        "    else:\r\n",
        "      with torch.no_grad():\r\n",
        "        model.eval()\r\n",
        "        for validation_inputs, validation_labels in validation_loader:     \r\n",
        "        # input [100(batch size), 1(channel), 28(width), 28(height)] =>     \r\n",
        "        ## validation_inputs = validation_inputs.view(validation_inputs.shape[0], -1) # [100, 784]\r\n",
        "          validation_inputs, validation_labels = validation_inputs.to(device), validation_labels.to(device,dtype=torch.long)\r\n",
        "          validation_outputs = model(validation_inputs) # logits (scores)\r\n",
        "          validation_loss = criterion(validation_outputs, validation_labels) # outputs [100, 1], labels [100]\r\n",
        "        \r\n",
        "        #max function output(max, max_indices)\r\n",
        "          _, pred_idx = torch.max(validation_outputs, 1) # 2nd argument - the dim to reduce    \r\n",
        "\r\n",
        "          validation_running_loss += validation_loss.item() # loss per batch \r\n",
        "          validation_running_corrects += torch.sum(pred_idx == validation_labels.data)\r\n",
        "\r\n",
        "      epoch_loss = running_loss/len(train_loader) \r\n",
        "      running_loss_history.append(epoch_loss)\r\n",
        "      epoch_acc = (running_corrects.float()/inputs.shape[0]*100)/len(train_loader) \r\n",
        "      running_corrects_history.append(epoch_acc)\r\n",
        "      print('--------------- epoch: ', (eno+1), '---------------')\r\n",
        "      print('training loss: {:.4f}, accuracy {:.4f}'.format(epoch_loss, epoch_acc.item()))   \r\n",
        "\r\n",
        "      validation_epoch_loss = validation_running_loss/len(validation_loader) \r\n",
        "      validation_running_loss_history.append(validation_epoch_loss)\r\n",
        "      validation_epoch_acc = (validation_running_corrects.float()/validation_inputs.shape[0]*100)/len(validation_loader) \r\n",
        "      validation_running_corrects_history.append(validation_epoch_acc)    \r\n",
        "      print('validation loss: {:.4f}, accuracy {:.4f}'.format(validation_epoch_loss, validation_epoch_acc.item())) \r\n",
        "\r\n",
        "  print('\\n#Time elapsed : {} seconds\\n'.format(int(round(time.time())) - t0))\r\n",
        "  plt.subplot(121) #loss를 그래프로 표현\r\n",
        "  plt.title('Loss graph', pad=20)\r\n",
        "  plt.plot(running_loss_history, label='training loss')\r\n",
        "  plt.plot(validation_running_loss_history, label='validation loss')\r\n",
        "\r\n",
        "  plt.subplot(122) #accuracy를 그래프로 표현\r\n",
        "  plt.title('Accuracy graph', pad=20)\r\n",
        "  plt.plot(running_corrects_history, label='training accuracy(%)')\r\n",
        "  plt.plot(validation_running_corrects_history, label='validation accuracy(%)')"
      ],
      "execution_count": 13,
      "outputs": []
    },
    {
      "cell_type": "markdown",
      "metadata": {
        "id": "aAC4-0NqE2ue"
      },
      "source": [
        "###**NN : loss & accuracy in train**"
      ]
    },
    {
      "cell_type": "code",
      "metadata": {
        "id": "SwV9tT8DU3cw"
      },
      "source": [
        "#단순 NN에서 train / validation 과정에서 loss와 accuracy를 보이는 함수\r\n",
        "\r\n",
        "def get_result_linear(epochs):\r\n",
        "  \r\n",
        "  #training 단계에서 loss를 저장하기 위한\r\n",
        "  running_loss_history = []\r\n",
        "  running_corrects_history = []\r\n",
        "\r\n",
        "  #validation용으로 loss, 정답률 측정\r\n",
        "  validation_running_loss_history = []\r\n",
        "  validation_running_corrects_history = []\r\n",
        "\r\n",
        "  t0 = int(round(time.time()))\r\n",
        "  for eno in range(epochs):\r\n",
        "\r\n",
        "   #initialization 시키기\r\n",
        "    running_loss = 0.0\r\n",
        "    running_corrects = 0.0\r\n",
        "    validation_running_loss = 0.0\r\n",
        "    validation_running_corrects = 0.0\r\n",
        "\r\n",
        "  # a batch of 100 images x 600 batches -> 60,000 for a single epoch \r\n",
        "    for inputs, labels in train_loader:     \r\n",
        "      \r\n",
        "    # input [100(batch size), 1(channel), 28(width), 28(height)] =>     \r\n",
        "      inputs = inputs.view(inputs.shape[0], -1) # [100, 784]\r\n",
        "      inputs, labels = inputs.to(device),labels.to(device,dtype=torch.long)\r\n",
        "      outputs = model(inputs) # logits (scores)\r\n",
        "      loss = criterion(outputs, labels) # outputs [100, 1], labels [100]\r\n",
        "    \r\n",
        "      optimizer.zero_grad()\r\n",
        "      loss.backward()\r\n",
        "      optimizer.step()\r\n",
        "\r\n",
        "    #max function output(max, max_indices)\r\n",
        "      _, pred_idx = torch.max(outputs, 1) # 2nd argument - the dim to reduce    \r\n",
        "\r\n",
        "      running_loss += loss.item() # loss per batch \r\n",
        "      running_corrects += torch.sum(pred_idx == labels.data)  \r\n",
        "\r\n",
        "    else: #update된 모델을 이용해서 정확도를 예측해보기\r\n",
        "   \r\n",
        "      with torch.no_grad():#gradient하지 않고 모델 update하지 않기 위해서\r\n",
        "        model.eval()\r\n",
        "        for validation_inputs, validation_labels in validation_loader:     \r\n",
        "          \r\n",
        "        # input [100(batch size), 1(channel), 28(width), 28(height)] =>     \r\n",
        "          validation_inputs = validation_inputs.view(validation_inputs.shape[0], -1) # [100, 784]\r\n",
        "          validation_inputs, validation_labels = validation_inputs.to(device),validation_labels.to(device,dtype=torch.long)\r\n",
        "          validation_outputs = model(validation_inputs) # logits (scores)\r\n",
        "          validation_loss = criterion(validation_outputs, validation_labels) # outputs [100, 1], labels [100]\r\n",
        "        \r\n",
        "        #max function output(max, max_indices)\r\n",
        "          _, pred_idx = torch.max(validation_outputs, 1) # 2nd argument - the dim to reduce    \r\n",
        "\r\n",
        "          validation_running_loss += validation_loss.item() # loss per batch \r\n",
        "          validation_running_corrects += torch.sum(pred_idx == validation_labels.data)\r\n",
        "\r\n",
        "    epoch_loss = running_loss/len(train_loader) \r\n",
        "    running_loss_history.append(epoch_loss)\r\n",
        "    epoch_acc = (running_corrects.float()/inputs.shape[0]*100)/len(train_loader) \r\n",
        "    running_corrects_history.append(epoch_acc)\r\n",
        "    print('--------------- epoch: ', (eno+1), '---------------')\r\n",
        "    print('training loss: {:.4f}, accuracy {:.4f}'.format(epoch_loss, epoch_acc.item()))   \r\n",
        "\r\n",
        "    validation_epoch_loss = validation_running_loss/len(validation_loader) \r\n",
        "    validation_running_loss_history.append(validation_epoch_loss)\r\n",
        "    validation_epoch_acc = (validation_running_corrects.float()/validation_inputs.shape[0]*100)/len(validation_loader) \r\n",
        "    validation_running_corrects_history.append(validation_epoch_acc)    \r\n",
        "    print('validation loss: {:.4f}, accuracy {:.4f}'.format(validation_epoch_loss, validation_epoch_acc.item())) \r\n",
        "\r\n",
        "\r\n",
        "  print('\\n#Time elapsed : {} seconds\\n'.format(int(round(time.time())) - t0))\r\n",
        "  plt.subplot(121)\r\n",
        "  plt.title('Loss graph', pad=20)\r\n",
        "  plt.plot(running_loss_history, label='training loss')\r\n",
        "  plt.plot(validation_running_loss_history, label='validation loss')\r\n",
        "\r\n",
        "  plt.subplot(122)\r\n",
        "  plt.title('Accuracy graph', pad=20)\r\n",
        "  plt.plot(running_corrects_history, label='training accuracy(%)')\r\n",
        "  plt.plot(validation_running_corrects_history, label='validation accuracy(%)')\r\n"
      ],
      "execution_count": 14,
      "outputs": []
    },
    {
      "cell_type": "markdown",
      "metadata": {
        "id": "DBE6F95TV3w2"
      },
      "source": [
        "#**[1] Linear NN**"
      ]
    },
    {
      "cell_type": "markdown",
      "metadata": {
        "id": "EXxLknjKWaa3"
      },
      "source": [
        "##**1.Runtime Type**\r\n",
        "GPU"
      ]
    },
    {
      "cell_type": "code",
      "metadata": {
        "colab": {
          "base_uri": "https://localhost:8080/"
        },
        "id": "bGkxSlSjWlTG",
        "outputId": "b87d712b-41cb-4317-b73b-2311f3b962c9"
      },
      "source": [
        "device = torch.device(\"cuda:0\" if torch.cuda.is_available() else \"cpu\") # use GPU\r\n",
        "print(device)"
      ],
      "execution_count": 15,
      "outputs": [
        {
          "output_type": "stream",
          "text": [
            "cuda:0\n"
          ],
          "name": "stdout"
        }
      ]
    },
    {
      "cell_type": "markdown",
      "metadata": {
        "id": "5eQLqZl1WbdF"
      },
      "source": [
        "##**2.Set Train / Validation Data**"
      ]
    },
    {
      "cell_type": "code",
      "metadata": {
        "id": "C7RP3v6eV45_"
      },
      "source": [
        "batch=100\r\n",
        "\r\n",
        "X_train = X_train.view(-1,1,28,28)\r\n",
        "X_val = X_val.view(-1,1,28,28)\r\n",
        "X_test = X_test.view(-1,1,28,28)\r\n",
        "\r\n",
        "\r\n",
        "train_dataset = torch.utils.data.TensorDataset(X_train, y_train)\r\n",
        "train_loader = torch.utils.data.DataLoader(train_dataset, batch_size=batch)\r\n",
        "\r\n",
        "validation_dataset = torch.utils.data.TensorDataset(X_val, y_val)\r\n",
        "validation_loader = torch.utils.data.DataLoader(validation_dataset, batch_size=batch)\r\n",
        "\r\n",
        "test_loader = torch.utils.data.DataLoader(X_test, batch_size=batch)"
      ],
      "execution_count": 16,
      "outputs": []
    },
    {
      "cell_type": "markdown",
      "metadata": {
        "id": "yRLcjvLBWcJw"
      },
      "source": [
        "##**3.Create Neural Network**"
      ]
    },
    {
      "cell_type": "code",
      "metadata": {
        "id": "d-wsrkm6WG65"
      },
      "source": [
        "class NN_1(nn.Module):\r\n",
        "  def __init__(self, NN_in, H1, NN_out):\r\n",
        "    #in과 out에 hidden node 갯수 정해주기, \r\n",
        "    #이 모델 자체를 변하게 하는 in-put feature 갯수 & hidden layer에 node 갯수\r\n",
        " \r\n",
        "  \r\n",
        "    super().__init__()\r\n",
        "    self.linear1 = nn.Linear(NN_in, H1)\r\n",
        "    self.linear2 = nn.Linear(H1, NN_out)\r\n",
        "\r\n",
        "    #NN_OUT : 10개 숫자가 0에서 9까지\r\n",
        "    #NN_IN : 28 곱하기 28의 갯수\r\n",
        "\r\n",
        "  def forward(self, x):\r\n",
        "    x = F.relu(self.linear1(x))\r\n",
        "    x = self.linear2(x) \r\n",
        "    # activation not needed for multi-class classification task\r\n",
        "    return x"
      ],
      "execution_count": 17,
      "outputs": []
    },
    {
      "cell_type": "code",
      "metadata": {
        "colab": {
          "base_uri": "https://localhost:8080/"
        },
        "id": "-06-aSfHWJgJ",
        "outputId": "57e7631f-408f-45dc-c604-705d8eee4137"
      },
      "source": [
        "torch.manual_seed(1)\r\n",
        "model = NN_1(784, 500, 10).to(device)\r\n",
        "model"
      ],
      "execution_count": 18,
      "outputs": [
        {
          "output_type": "execute_result",
          "data": {
            "text/plain": [
              "NN_1(\n",
              "  (linear1): Linear(in_features=784, out_features=500, bias=True)\n",
              "  (linear2): Linear(in_features=500, out_features=10, bias=True)\n",
              ")"
            ]
          },
          "metadata": {
            "tags": []
          },
          "execution_count": 18
        }
      ]
    },
    {
      "cell_type": "markdown",
      "metadata": {
        "id": "LjTYlABQWd19"
      },
      "source": [
        "##**4.Set Optimizer & Loss Function**"
      ]
    },
    {
      "cell_type": "code",
      "metadata": {
        "id": "ewnidrClWKYC"
      },
      "source": [
        "optimizer = torch.optim.SGD(model.parameters(), lr=0.05)\r\n",
        "criterion = nn.CrossEntropyLoss() # "
      ],
      "execution_count": 19,
      "outputs": []
    },
    {
      "cell_type": "markdown",
      "metadata": {
        "id": "0kV00vKFWeal"
      },
      "source": [
        "##**5.Count Parameters**"
      ]
    },
    {
      "cell_type": "code",
      "metadata": {
        "colab": {
          "base_uri": "https://localhost:8080/"
        },
        "id": "MlCoHupHWqqO",
        "outputId": "08df1ba7-a2af-405d-fedd-2689921cf113"
      },
      "source": [
        "count_parameters(model)"
      ],
      "execution_count": 20,
      "outputs": [
        {
          "output_type": "stream",
          "text": [
            "+----------------+------------+\n",
            "|    Modules     | Parameters |\n",
            "+----------------+------------+\n",
            "| linear1.weight |   392000   |\n",
            "|  linear1.bias  |    500     |\n",
            "| linear2.weight |    5000    |\n",
            "|  linear2.bias  |     10     |\n",
            "+----------------+------------+\n",
            "Total Trainable Params: 397510\n"
          ],
          "name": "stdout"
        },
        {
          "output_type": "execute_result",
          "data": {
            "text/plain": [
              "397510"
            ]
          },
          "metadata": {
            "tags": []
          },
          "execution_count": 20
        }
      ]
    },
    {
      "cell_type": "markdown",
      "metadata": {
        "id": "AKxoqJC_Wfg6"
      },
      "source": [
        "##**6.Get Train / Validation Accuracy**"
      ]
    },
    {
      "cell_type": "code",
      "metadata": {
        "colab": {
          "base_uri": "https://localhost:8080/",
          "height": 1000
        },
        "id": "vvuUzkP0WUl3",
        "outputId": "0bec95f7-4bbd-47e9-c2be-0dcf45a137bb"
      },
      "source": [
        "get_result_linear(20)"
      ],
      "execution_count": 21,
      "outputs": [
        {
          "output_type": "stream",
          "text": [
            "--------------- epoch:  1 ---------------\n",
            "training loss: 0.8891, accuracy 85.3988\n",
            "validation loss: 0.3082, accuracy 92.8333\n",
            "--------------- epoch:  2 ---------------\n",
            "training loss: 0.2433, accuracy 93.9970\n",
            "validation loss: 0.2066, accuracy 94.5119\n",
            "--------------- epoch:  3 ---------------\n",
            "training loss: 0.1859, accuracy 95.0744\n",
            "validation loss: 0.1753, accuracy 95.0595\n",
            "--------------- epoch:  4 ---------------\n",
            "training loss: 0.1619, accuracy 95.7083\n",
            "validation loss: 0.1590, accuracy 95.2738\n",
            "--------------- epoch:  5 ---------------\n",
            "training loss: 0.1475, accuracy 96.0089\n",
            "validation loss: 0.1483, accuracy 95.6548\n",
            "--------------- epoch:  6 ---------------\n",
            "training loss: 0.1373, accuracy 96.2321\n",
            "validation loss: 0.1406, accuracy 95.8333\n",
            "--------------- epoch:  7 ---------------\n",
            "training loss: 0.1295, accuracy 96.4107\n",
            "validation loss: 0.1345, accuracy 95.9524\n",
            "--------------- epoch:  8 ---------------\n",
            "training loss: 0.1231, accuracy 96.5923\n",
            "validation loss: 0.1295, accuracy 96.1310\n",
            "--------------- epoch:  9 ---------------\n",
            "training loss: 0.1176, accuracy 96.7292\n",
            "validation loss: 0.1252, accuracy 96.3214\n",
            "--------------- epoch:  10 ---------------\n",
            "training loss: 0.1127, accuracy 96.8661\n",
            "validation loss: 0.1215, accuracy 96.4405\n",
            "--------------- epoch:  11 ---------------\n",
            "training loss: 0.1084, accuracy 97.0298\n",
            "validation loss: 0.1182, accuracy 96.5238\n",
            "--------------- epoch:  12 ---------------\n",
            "training loss: 0.1044, accuracy 97.1250\n",
            "validation loss: 0.1151, accuracy 96.6071\n",
            "--------------- epoch:  13 ---------------\n",
            "training loss: 0.1008, accuracy 97.2381\n",
            "validation loss: 0.1123, accuracy 96.6548\n",
            "--------------- epoch:  14 ---------------\n",
            "training loss: 0.0974, accuracy 97.3304\n",
            "validation loss: 0.1098, accuracy 96.6786\n",
            "--------------- epoch:  15 ---------------\n",
            "training loss: 0.0942, accuracy 97.3958\n",
            "validation loss: 0.1074, accuracy 96.7738\n",
            "--------------- epoch:  16 ---------------\n",
            "training loss: 0.0912, accuracy 97.4673\n",
            "validation loss: 0.1051, accuracy 96.8333\n",
            "--------------- epoch:  17 ---------------\n",
            "training loss: 0.0884, accuracy 97.5565\n",
            "validation loss: 0.1030, accuracy 96.9167\n",
            "--------------- epoch:  18 ---------------\n",
            "training loss: 0.0857, accuracy 97.6399\n",
            "validation loss: 0.1011, accuracy 96.9643\n",
            "--------------- epoch:  19 ---------------\n",
            "training loss: 0.0831, accuracy 97.6815\n",
            "validation loss: 0.0992, accuracy 97.0000\n",
            "--------------- epoch:  20 ---------------\n",
            "training loss: 0.0807, accuracy 97.7560\n",
            "validation loss: 0.0974, accuracy 97.0476\n",
            "\n",
            "#Time elapsed : 13 seconds\n",
            "\n"
          ],
          "name": "stdout"
        },
        {
          "output_type": "display_data",
          "data": {
            "image/png": "[encoded data removed]",
            "text/plain": [
              "<Figure size 432x288 with 2 Axes>"
            ]
          },
          "metadata": {
            "tags": [],
            "needs_background": "light"
          }
        }
      ]
    },
    {
      "cell_type": "markdown",
      "metadata": {
        "id": "yr3tJ87pcUxF"
      },
      "source": [
        "#**[2] CNN (1)**"
      ]
    },
    {
      "cell_type": "markdown",
      "metadata": {
        "id": "0BIEZqNDXtSM"
      },
      "source": [
        "##**1.Runtime Type**\r\n",
        " GPU"
      ]
    },
    {
      "cell_type": "code",
      "metadata": {
        "colab": {
          "base_uri": "https://localhost:8080/"
        },
        "id": "iAsge0fVcUhf",
        "outputId": "171efec4-0841-4cce-d016-529dcce0346b"
      },
      "source": [
        "device = torch.device(\"cuda:0\" if torch.cuda.is_available() else \"cpu\") # use GPU\r\n",
        "print(device)"
      ],
      "execution_count": 22,
      "outputs": [
        {
          "output_type": "stream",
          "text": [
            "cuda:0\n"
          ],
          "name": "stdout"
        }
      ]
    },
    {
      "cell_type": "markdown",
      "metadata": {
        "id": "grjlsyUVXt19"
      },
      "source": [
        "##**2.Set Train / Validation Data**"
      ]
    },
    {
      "cell_type": "code",
      "metadata": {
        "id": "wtsQ25T1cZrg"
      },
      "source": [
        "batch=100\r\n",
        "\r\n",
        "X_train = X_train.view(-1,1,28,28)\r\n",
        "X_val = X_val.view(-1,1,28,28)\r\n",
        "X_test = X_test.view(-1,1,28,28)\r\n",
        "\r\n",
        "\r\n",
        "train_dataset = torch.utils.data.TensorDataset(X_train, y_train)\r\n",
        "train_loader = torch.utils.data.DataLoader(train_dataset, batch_size=batch)\r\n",
        "\r\n",
        "val_dataset = torch.utils.data.TensorDataset(X_val, y_val)\r\n",
        "val_loader = torch.utils.data.DataLoader(val_dataset, batch_size=batch)\r\n",
        "\r\n",
        "test_loader = torch.utils.data.DataLoader(X_test, batch_size=batch)"
      ],
      "execution_count": 23,
      "outputs": []
    },
    {
      "cell_type": "markdown",
      "metadata": {
        "id": "E4Dq824ZXujW"
      },
      "source": [
        "##**3.Create Neural Network**"
      ]
    },
    {
      "cell_type": "code",
      "metadata": {
        "id": "6lmDhX9ocgBm"
      },
      "source": [
        "class CNN_1(nn.Module):\r\n",
        "  def __init__(self):\r\n",
        "    super().__init__()\r\n",
        "    self.conv1 = nn.Conv2d(in_channels = 1, out_channels = 15, \r\n",
        "                           kernel_size = 5, stride = 1, padding = 0)\r\n",
        "    self.conv2 = nn.Conv2d(in_channels = 15, out_channels = 30, \r\n",
        "                           kernel_size = 3, stride = 1, padding = 0)\r\n",
        "    self.fc1 = nn.Linear(5*5*30, 500)\r\n",
        "    self.fc2 = nn.Linear(500, 10)\r\n",
        "\r\n",
        "  def forward(self, x):\r\n",
        "    x = F.tanh(self.conv1(x))\r\n",
        "    x = F.max_pool2d(x, kernel_size = 2, stride = 2)\r\n",
        "    x = F.tanh(self.conv2(x))\r\n",
        "    x = F.max_pool2d(x, kernel_size = 2, stride = 2)\r\n",
        "    x = x.view(-1, 5*5*30)      # flattening, torch.Size([batch 100, 5*5*30=750])  \r\n",
        "    x = F.tanh(self.fc1(x))\r\n",
        "    x = self.fc2(x)\r\n",
        "    return x"
      ],
      "execution_count": 24,
      "outputs": []
    },
    {
      "cell_type": "code",
      "metadata": {
        "colab": {
          "base_uri": "https://localhost:8080/"
        },
        "id": "mT_Gj-T4chVk",
        "outputId": "f0c1504a-2961-42d6-bf8d-b4b258040ccd"
      },
      "source": [
        "torch.manual_seed(1)\r\n",
        "model = CNN_1().to(device)\r\n",
        "model"
      ],
      "execution_count": 25,
      "outputs": [
        {
          "output_type": "execute_result",
          "data": {
            "text/plain": [
              "CNN_1(\n",
              "  (conv1): Conv2d(1, 15, kernel_size=(5, 5), stride=(1, 1))\n",
              "  (conv2): Conv2d(15, 30, kernel_size=(3, 3), stride=(1, 1))\n",
              "  (fc1): Linear(in_features=750, out_features=500, bias=True)\n",
              "  (fc2): Linear(in_features=500, out_features=10, bias=True)\n",
              ")"
            ]
          },
          "metadata": {
            "tags": []
          },
          "execution_count": 25
        }
      ]
    },
    {
      "cell_type": "markdown",
      "metadata": {
        "id": "9Wahl1q_XxTf"
      },
      "source": [
        "##**4.Set Optimizer & Loss Function**"
      ]
    },
    {
      "cell_type": "code",
      "metadata": {
        "id": "RvYMTMN0ciOR"
      },
      "source": [
        "optimizer = torch.optim.SGD(model.parameters(), lr=0.001)\r\n",
        "criterion = nn.CrossEntropyLoss() # cf. BCE()"
      ],
      "execution_count": 27,
      "outputs": []
    },
    {
      "cell_type": "markdown",
      "metadata": {
        "id": "NB2BDxS8Xv_V"
      },
      "source": [
        "##**5.Count Parameters**"
      ]
    },
    {
      "cell_type": "code",
      "metadata": {
        "colab": {
          "base_uri": "https://localhost:8080/"
        },
        "id": "RvNNV30BFmg4",
        "outputId": "5fab766a-c675-48ee-fdcc-11137b561895"
      },
      "source": [
        "count_parameters(model)"
      ],
      "execution_count": 26,
      "outputs": [
        {
          "output_type": "stream",
          "text": [
            "+--------------+------------+\n",
            "|   Modules    | Parameters |\n",
            "+--------------+------------+\n",
            "| conv1.weight |    375     |\n",
            "|  conv1.bias  |     15     |\n",
            "| conv2.weight |    4050    |\n",
            "|  conv2.bias  |     30     |\n",
            "|  fc1.weight  |   375000   |\n",
            "|   fc1.bias   |    500     |\n",
            "|  fc2.weight  |    5000    |\n",
            "|   fc2.bias   |     10     |\n",
            "+--------------+------------+\n",
            "Total Trainable Params: 384980\n"
          ],
          "name": "stdout"
        },
        {
          "output_type": "execute_result",
          "data": {
            "text/plain": [
              "384980"
            ]
          },
          "metadata": {
            "tags": []
          },
          "execution_count": 26
        }
      ]
    },
    {
      "cell_type": "markdown",
      "metadata": {
        "id": "MvxwPtTbXyoo"
      },
      "source": [
        "##**6.Get Train / Validation Accuracy**"
      ]
    },
    {
      "cell_type": "code",
      "metadata": {
        "colab": {
          "base_uri": "https://localhost:8080/",
          "height": 1000
        },
        "id": "30fY5xuKckm4",
        "outputId": "4d5f5c05-72e5-47f6-9631-2fe7d2002376"
      },
      "source": [
        "get_result(epochs=30)"
      ],
      "execution_count": 28,
      "outputs": [
        {
          "output_type": "stream",
          "text": [
            "/usr/local/lib/python3.7/dist-packages/torch/nn/functional.py:1698: UserWarning: nn.functional.tanh is deprecated. Use torch.tanh instead.\n",
            "  warnings.warn(\"nn.functional.tanh is deprecated. Use torch.tanh instead.\")\n"
          ],
          "name": "stderr"
        },
        {
          "output_type": "stream",
          "text": [
            "--------------- epoch:  1 ---------------\n",
            "training loss: 2.2953, accuracy 10.6250\n",
            "validation loss: 2.2852, accuracy 12.1429\n",
            "--------------- epoch:  2 ---------------\n",
            "training loss: 2.2752, accuracy 16.8780\n",
            "validation loss: 2.2636, accuracy 25.0119\n",
            "--------------- epoch:  3 ---------------\n",
            "training loss: 2.2515, accuracy 39.8958\n",
            "validation loss: 2.2370, accuracy 57.0476\n",
            "--------------- epoch:  4 ---------------\n",
            "training loss: 2.2209, accuracy 67.3839\n",
            "validation loss: 2.2014, accuracy 77.0833\n",
            "--------------- epoch:  5 ---------------\n",
            "training loss: 2.1789, accuracy 78.8185\n",
            "validation loss: 2.1512, accuracy 82.1190\n",
            "--------------- epoch:  6 ---------------\n",
            "training loss: 2.1186, accuracy 82.3929\n",
            "validation loss: 2.0784, accuracy 84.5000\n",
            "--------------- epoch:  7 ---------------\n",
            "training loss: 2.0301, accuracy 84.4583\n",
            "validation loss: 1.9713, accuracy 86.0000\n",
            "--------------- epoch:  8 ---------------\n",
            "training loss: 1.9009, accuracy 85.8274\n",
            "validation loss: 1.8168, accuracy 86.9405\n",
            "--------------- epoch:  9 ---------------\n",
            "training loss: 1.7195, accuracy 86.8363\n",
            "validation loss: 1.6079, accuracy 87.2976\n",
            "--------------- epoch:  10 ---------------\n",
            "training loss: 1.4887, accuracy 87.1310\n",
            "validation loss: 1.3603, accuracy 87.2262\n",
            "--------------- epoch:  11 ---------------\n",
            "training loss: 1.2387, accuracy 87.5417\n",
            "validation loss: 1.1163, accuracy 87.7262\n",
            "--------------- epoch:  12 ---------------\n",
            "training loss: 1.0130, accuracy 88.0357\n",
            "validation loss: 0.9135, accuracy 88.3452\n",
            "--------------- epoch:  13 ---------------\n",
            "training loss: 0.8353, accuracy 88.5506\n",
            "validation loss: 0.7611, accuracy 88.8333\n",
            "--------------- epoch:  14 ---------------\n",
            "training loss: 0.7045, accuracy 89.1071\n",
            "validation loss: 0.6502, accuracy 89.3333\n",
            "--------------- epoch:  15 ---------------\n",
            "training loss: 0.6093, accuracy 89.6399\n",
            "validation loss: 0.5691, accuracy 89.7500\n",
            "--------------- epoch:  16 ---------------\n",
            "training loss: 0.5388, accuracy 90.0982\n",
            "validation loss: 0.5082, accuracy 90.2143\n",
            "--------------- epoch:  17 ---------------\n",
            "training loss: 0.4853, accuracy 90.5744\n",
            "validation loss: 0.4613, accuracy 90.7738\n",
            "--------------- epoch:  18 ---------------\n",
            "training loss: 0.4435, accuracy 91.0387\n",
            "validation loss: 0.4243, accuracy 91.1786\n",
            "--------------- epoch:  19 ---------------\n",
            "training loss: 0.4101, accuracy 91.4226\n",
            "validation loss: 0.3943, accuracy 91.5119\n",
            "--------------- epoch:  20 ---------------\n",
            "training loss: 0.3828, accuracy 91.7619\n",
            "validation loss: 0.3697, accuracy 91.8333\n",
            "--------------- epoch:  21 ---------------\n",
            "training loss: 0.3601, accuracy 92.0357\n",
            "validation loss: 0.3490, accuracy 92.0952\n",
            "--------------- epoch:  22 ---------------\n",
            "training loss: 0.3409, accuracy 92.2679\n",
            "validation loss: 0.3314, accuracy 92.4167\n",
            "--------------- epoch:  23 ---------------\n",
            "training loss: 0.3245, accuracy 92.4792\n",
            "validation loss: 0.3162, accuracy 92.5595\n",
            "--------------- epoch:  24 ---------------\n",
            "training loss: 0.3103, accuracy 92.7292\n",
            "validation loss: 0.3030, accuracy 92.7619\n",
            "--------------- epoch:  25 ---------------\n",
            "training loss: 0.2979, accuracy 92.9107\n",
            "validation loss: 0.2915, accuracy 92.9405\n",
            "--------------- epoch:  26 ---------------\n",
            "training loss: 0.2869, accuracy 93.1190\n",
            "validation loss: 0.2812, accuracy 93.0714\n",
            "--------------- epoch:  27 ---------------\n",
            "training loss: 0.2772, accuracy 93.2798\n",
            "validation loss: 0.2720, accuracy 93.1786\n",
            "--------------- epoch:  28 ---------------\n",
            "training loss: 0.2685, accuracy 93.3750\n",
            "validation loss: 0.2638, accuracy 93.2857\n",
            "--------------- epoch:  29 ---------------\n",
            "training loss: 0.2606, accuracy 93.5565\n",
            "validation loss: 0.2564, accuracy 93.4643\n",
            "--------------- epoch:  30 ---------------\n",
            "training loss: 0.2535, accuracy 93.6518\n",
            "validation loss: 0.2496, accuracy 93.5119\n",
            "\n",
            "#Time elapsed : 26 seconds\n",
            "\n"
          ],
          "name": "stdout"
        },
        {
          "output_type": "display_data",
          "data": {
            "image/png": "[encoded data removed]",
            "text/plain": [
              "<Figure size 432x288 with 2 Axes>"
            ]
          },
          "metadata": {
            "tags": [],
            "needs_background": "light"
          }
        }
      ]
    },
    {
      "cell_type": "markdown",
      "metadata": {
        "id": "bJ8vxJOKsn7d"
      },
      "source": [
        "#**[3] CNN (2)**"
      ]
    },
    {
      "cell_type": "markdown",
      "metadata": {
        "id": "o9HaZX-RX0B2"
      },
      "source": [
        "##**1.Runtime Type**\r\n",
        " GPU"
      ]
    },
    {
      "cell_type": "code",
      "metadata": {
        "colab": {
          "base_uri": "https://localhost:8080/"
        },
        "id": "SAau_5PDss4f",
        "outputId": "7a9a3ebe-cc80-4f82-8db3-450890e771d7"
      },
      "source": [
        "device = torch.device(\"cuda:0\" if torch.cuda.is_available() else \"cpu\") # use GPU\r\n",
        "print(device)"
      ],
      "execution_count": 29,
      "outputs": [
        {
          "output_type": "stream",
          "text": [
            "cuda:0\n"
          ],
          "name": "stdout"
        }
      ]
    },
    {
      "cell_type": "markdown",
      "metadata": {
        "id": "2Iq2kdLXX0h_"
      },
      "source": [
        "##**2.Set Train / Validation Data**"
      ]
    },
    {
      "cell_type": "code",
      "metadata": {
        "id": "btLu442sss1x"
      },
      "source": [
        "batch=100\r\n",
        "\r\n",
        "X_train = X_train.view(-1,1,28,28)\r\n",
        "X_val = X_val.view(-1,1,28,28)\r\n",
        "X_test = X_test.view(-1,1,28,28)\r\n",
        "\r\n",
        "\r\n",
        "train_dataset = torch.utils.data.TensorDataset(X_train, y_train)\r\n",
        "train_loader = torch.utils.data.DataLoader(train_dataset, batch_size=batch)\r\n",
        "\r\n",
        "val_dataset = torch.utils.data.TensorDataset(X_val, y_val)\r\n",
        "val_loader = torch.utils.data.DataLoader(val_dataset, batch_size=batch)\r\n",
        "\r\n",
        "test_loader = torch.utils.data.DataLoader(X_test, batch_size=batch)"
      ],
      "execution_count": 30,
      "outputs": []
    },
    {
      "cell_type": "markdown",
      "metadata": {
        "id": "xEm7AqzYX1JV"
      },
      "source": [
        "##**3.Create Neural Network**"
      ]
    },
    {
      "cell_type": "code",
      "metadata": {
        "id": "A0Jpt6rbssxk"
      },
      "source": [
        "class CNN_2(nn.Module):\r\n",
        "\r\n",
        "    def __init__(self):\r\n",
        "        super().__init__()        \r\n",
        "        self.conv1 = nn.Conv2d(in_channels = 1, out_channels = 30, \r\n",
        "                             kernel_size = 5, stride = 1, padding = 0)\r\n",
        "        self.conv2 = nn.Conv2d(in_channels = 30, out_channels = 30, \r\n",
        "                             kernel_size = 3, stride = 1, padding = 0)       \r\n",
        "        \r\n",
        "        self.fc1 = nn.Linear(30*5*5, 500)               \r\n",
        "        self.fc2 = nn.Linear(500, 10)\r\n",
        "\r\n",
        "    def forward(self, x):\r\n",
        "        x = F.relu(self.conv1(x))\r\n",
        "        x = F.max_pool2d(x, kernel_size = 2, stride = 2)\r\n",
        "        x = F.relu(self.conv2(x))\r\n",
        "        x = F.max_pool2d(x, kernel_size = 2, stride = 2)\r\n",
        "\r\n",
        "        x = x.view(-1, 30*5*5)    # flattening, torch.Size([100 (batch), 30*5*5])      \r\n",
        "        x = F.relu(self.fc1(x))        \r\n",
        "        x = self.fc2(x)     # activation not needed    # multi class classification -> raw output instead of softmax applied \r\n",
        "        return x"
      ],
      "execution_count": 31,
      "outputs": []
    },
    {
      "cell_type": "code",
      "metadata": {
        "colab": {
          "base_uri": "https://localhost:8080/"
        },
        "id": "DCkLOyq-5ryQ",
        "outputId": "b920e234-9ad4-4ceb-a94b-06b0f28aa688"
      },
      "source": [
        "torch.manual_seed(1)\r\n",
        "model = CNN_2().to(device)\r\n",
        "model"
      ],
      "execution_count": 32,
      "outputs": [
        {
          "output_type": "execute_result",
          "data": {
            "text/plain": [
              "CNN_2(\n",
              "  (conv1): Conv2d(1, 30, kernel_size=(5, 5), stride=(1, 1))\n",
              "  (conv2): Conv2d(30, 30, kernel_size=(3, 3), stride=(1, 1))\n",
              "  (fc1): Linear(in_features=750, out_features=500, bias=True)\n",
              "  (fc2): Linear(in_features=500, out_features=10, bias=True)\n",
              ")"
            ]
          },
          "metadata": {
            "tags": []
          },
          "execution_count": 32
        }
      ]
    },
    {
      "cell_type": "markdown",
      "metadata": {
        "id": "HS-BO4xYX27S"
      },
      "source": [
        "##**4.Set Optimizer & Loss Function**"
      ]
    },
    {
      "cell_type": "code",
      "metadata": {
        "id": "B-puFFDYssuQ"
      },
      "source": [
        "criterion = nn.CrossEntropyLoss()\r\n",
        "optimizer = torch.optim.Adam(model.parameters(), lr = 0.001)"
      ],
      "execution_count": 34,
      "outputs": []
    },
    {
      "cell_type": "markdown",
      "metadata": {
        "id": "PNdnby7RX3Yp"
      },
      "source": [
        "##**5.Count Parameters**"
      ]
    },
    {
      "cell_type": "code",
      "metadata": {
        "colab": {
          "base_uri": "https://localhost:8080/"
        },
        "id": "tMn7Ft8W9j-2",
        "outputId": "170361fb-98e2-49ca-cfe7-62599b5b150b"
      },
      "source": [
        "count_parameters(model)"
      ],
      "execution_count": 33,
      "outputs": [
        {
          "output_type": "stream",
          "text": [
            "+--------------+------------+\n",
            "|   Modules    | Parameters |\n",
            "+--------------+------------+\n",
            "| conv1.weight |    750     |\n",
            "|  conv1.bias  |     30     |\n",
            "| conv2.weight |    8100    |\n",
            "|  conv2.bias  |     30     |\n",
            "|  fc1.weight  |   375000   |\n",
            "|   fc1.bias   |    500     |\n",
            "|  fc2.weight  |    5000    |\n",
            "|   fc2.bias   |     10     |\n",
            "+--------------+------------+\n",
            "Total Trainable Params: 389420\n"
          ],
          "name": "stdout"
        },
        {
          "output_type": "execute_result",
          "data": {
            "text/plain": [
              "389420"
            ]
          },
          "metadata": {
            "tags": []
          },
          "execution_count": 33
        }
      ]
    },
    {
      "cell_type": "markdown",
      "metadata": {
        "id": "G2rF-sCRX4Ol"
      },
      "source": [
        "##**6.Get Train / Validation Accuracy**"
      ]
    },
    {
      "cell_type": "code",
      "metadata": {
        "colab": {
          "base_uri": "https://localhost:8080/"
        },
        "id": "9FlCutSr8l-Z",
        "outputId": "a554e5d1-5d89-4f8c-861d-6eb0320ef6d2"
      },
      "source": [
        "#train\r\n",
        "\r\n",
        "epochs = 25\r\n",
        "running_loss_history = []\r\n",
        "running_corrects_history = []\r\n",
        "\r\n",
        "t0 = int(round(time.time()))\r\n",
        "for eno in range(epochs):\r\n",
        "\r\n",
        "  running_loss = 0.0\r\n",
        "  running_corrects = 0.0\r\n",
        "\r\n",
        "\r\n",
        "  # a batch of 100 images x 600 batches -> 60,000 for a single epoch \r\n",
        "  for inputs, labels in train_loader:     \r\n",
        "    inputs, labels = inputs.to(device),labels.to(device,dtype=torch.long)\r\n",
        "    # input [100(batch size), 1(channel), 28(width), 28(height)] =>     \r\n",
        "    ## inputs = inputs.view(inputs.shape[0], -1) # [100, 784]\r\n",
        "    outputs = model(inputs) # logits (scores)\r\n",
        "    loss = criterion(outputs, labels) # outputs [100, 1], labels [100]\r\n",
        "    \r\n",
        "    optimizer.zero_grad()\r\n",
        "    loss.backward()\r\n",
        "    optimizer.step()\r\n",
        "\r\n",
        "    #max function output(max, max_indices)\r\n",
        "    _, pred_idx = torch.max(outputs, 1) # 2nd argument - the dim to reduce    \r\n",
        "\r\n",
        "    running_loss += loss.item() # loss per batch \r\n",
        "    running_corrects += torch.sum(pred_idx == labels.data)\r\n",
        "\r\n",
        "\r\n",
        "  epoch_loss = running_loss/len(train_loader) \r\n",
        "  running_loss_history.append(epoch_loss)\r\n",
        "  epoch_acc = (running_corrects.float()/inputs.shape[0]*100)/len(train_loader) \r\n",
        "  running_corrects_history.append(epoch_acc)\r\n",
        "  print('--------------- epoch: ', (eno+1), '---------------')\r\n",
        "  print('training loss: {:.4f}, accuracy {:.4f}'.format(epoch_loss, epoch_acc.item()))   "
      ],
      "execution_count": 35,
      "outputs": [
        {
          "output_type": "stream",
          "text": [
            "--------------- epoch:  1 ---------------\n",
            "training loss: 0.2291, accuracy 93.1042\n",
            "--------------- epoch:  2 ---------------\n",
            "training loss: 0.0522, accuracy 98.4405\n",
            "--------------- epoch:  3 ---------------\n",
            "training loss: 0.0329, accuracy 99.0060\n",
            "--------------- epoch:  4 ---------------\n",
            "training loss: 0.0236, accuracy 99.2827\n",
            "--------------- epoch:  5 ---------------\n",
            "training loss: 0.0187, accuracy 99.4524\n",
            "--------------- epoch:  6 ---------------\n",
            "training loss: 0.0149, accuracy 99.5327\n",
            "--------------- epoch:  7 ---------------\n",
            "training loss: 0.0115, accuracy 99.6071\n",
            "--------------- epoch:  8 ---------------\n",
            "training loss: 0.0095, accuracy 99.6964\n",
            "--------------- epoch:  9 ---------------\n",
            "training loss: 0.0086, accuracy 99.7619\n",
            "--------------- epoch:  10 ---------------\n",
            "training loss: 0.0079, accuracy 99.7560\n",
            "--------------- epoch:  11 ---------------\n",
            "training loss: 0.0058, accuracy 99.8214\n",
            "--------------- epoch:  12 ---------------\n",
            "training loss: 0.0054, accuracy 99.8244\n",
            "--------------- epoch:  13 ---------------\n",
            "training loss: 0.0029, accuracy 99.9256\n",
            "--------------- epoch:  14 ---------------\n",
            "training loss: 0.0019, accuracy 99.9464\n",
            "--------------- epoch:  15 ---------------\n",
            "training loss: 0.0057, accuracy 99.8185\n",
            "--------------- epoch:  16 ---------------\n",
            "training loss: 0.0062, accuracy 99.8155\n",
            "--------------- epoch:  17 ---------------\n",
            "training loss: 0.0037, accuracy 99.8899\n",
            "--------------- epoch:  18 ---------------\n",
            "training loss: 0.0029, accuracy 99.9048\n",
            "--------------- epoch:  19 ---------------\n",
            "training loss: 0.0045, accuracy 99.8482\n",
            "--------------- epoch:  20 ---------------\n",
            "training loss: 0.0019, accuracy 99.9435\n",
            "--------------- epoch:  21 ---------------\n",
            "training loss: 0.0017, accuracy 99.9405\n",
            "--------------- epoch:  22 ---------------\n",
            "training loss: 0.0006, accuracy 99.9821\n",
            "--------------- epoch:  23 ---------------\n",
            "training loss: 0.0053, accuracy 99.8155\n",
            "--------------- epoch:  24 ---------------\n",
            "training loss: 0.0026, accuracy 99.9077\n",
            "--------------- epoch:  25 ---------------\n",
            "training loss: 0.0008, accuracy 99.9792\n"
          ],
          "name": "stdout"
        }
      ]
    },
    {
      "cell_type": "code",
      "metadata": {
        "colab": {
          "base_uri": "https://localhost:8080/"
        },
        "id": "bDyr-6I58mRT",
        "outputId": "f1ff9b76-a219-46f3-c892-b33763c9f517"
      },
      "source": [
        "#test\r\n",
        "model.eval() # cf.) 드롭아웃 및 배치 정규화를 평가 모드로 설정하여야 합니다. 이것을 하지 않으면 추론 결과가 일관성 없게 출력됩니다.\r\n",
        "\r\n",
        "validation_running_loss_history = []\r\n",
        "validation_running_corrects_history = []\r\n",
        "\r\n",
        "validation_running_loss = 0.0\r\n",
        "validation_running_corrects = 0.0\r\n",
        "\r\n",
        "with torch.no_grad():#gradient하지 않고 모델 update하지 않기 위해서\r\n",
        "  for validation_inputs, validation_labels in validation_loader:\r\n",
        "    validation_inputs, validation_labels = validation_inputs.to(device), validation_labels.to(device,dtype=torch.long)     \r\n",
        "        # input [100(batch size), 1(channel), 28(width), 28(height)] =>     \r\n",
        "    #validation_inputs = validation_inputs.view(validation_inputs.shape[0], -1) # [100, 784]\r\n",
        "    validation_outputs = model(validation_inputs) # logits (scores)\r\n",
        "    validation_loss = criterion(validation_outputs, validation_labels) # outputs [100, 1], labels [100]\r\n",
        "        \r\n",
        "        #max function output(max, max_indices)\r\n",
        "    _, pred_idx = torch.max(validation_outputs, 1) # 2nd argument - the dim to reduce    \r\n",
        "\r\n",
        "    validation_running_loss += validation_loss.item() # loss per batch \r\n",
        "    validation_running_corrects += torch.sum(pred_idx == validation_labels.data)\r\n",
        "\r\n",
        "\r\n",
        "  validation_epoch_loss = validation_running_loss/len(val_loader) \r\n",
        "  validation_running_loss_history.append(validation_epoch_loss)\r\n",
        "  validation_epoch_acc = (validation_running_corrects.float()/validation_inputs.shape[0]*100)/len(val_loader) \r\n",
        "  validation_running_corrects_history.append(validation_epoch_acc)    \r\n",
        "  print('validation loss: {:.4f}, accuracy {:.4f}'.format(validation_epoch_loss, validation_epoch_acc.item())) \r\n",
        "print('\\n#Time elapsed : {} seconds\\n'.format(int(round(time.time())) - t0))"
      ],
      "execution_count": 36,
      "outputs": [
        {
          "output_type": "stream",
          "text": [
            "validation loss: 0.0352, accuracy 99.4881\n",
            "\n",
            "#Time elapsed : 24 seconds\n",
            "\n"
          ],
          "name": "stdout"
        }
      ]
    },
    {
      "cell_type": "markdown",
      "metadata": {
        "id": "h-vtIjncX5bH"
      },
      "source": [
        "##**7.Submission**"
      ]
    },
    {
      "cell_type": "code",
      "metadata": {
        "colab": {
          "base_uri": "https://localhost:8080/"
        },
        "id": "tJQRopRJ8xXm",
        "outputId": "2adc28c8-81e2-4c66-9329-dcfe818d36ab"
      },
      "source": [
        "model.eval()\r\n",
        "predictions = []\r\n",
        "\r\n",
        "\r\n",
        "\r\n",
        "for data in tqdm(test_loader):\r\n",
        "    data = data.to(device)\r\n",
        "    output = model(data).max(dim=1)[1] # argmax\r\n",
        "    predictions += list(output.data.cpu().numpy())"
      ],
      "execution_count": 37,
      "outputs": [
        {
          "output_type": "stream",
          "text": [
            "100%|██████████| 180/180 [00:00<00:00, 1014.96it/s]\n"
          ],
          "name": "stderr"
        }
      ]
    },
    {
      "cell_type": "code",
      "metadata": {
        "colab": {
          "base_uri": "https://localhost:8080/",
          "height": 307
        },
        "id": "IZtXFeZI86gu",
        "outputId": "6a5744be-1129-4a7a-caaa-611bbc6009a4"
      },
      "source": [
        "t = torch.FloatTensor([[1,2],[3,4]])\r\n",
        "print('dim=0: ', t.max(dim=0))\r\n",
        "print('dim=1: ', t.max(dim=1))\r\n",
        "\r\n",
        "\r\n",
        "sample_submission['Category'] = pd.Series(predictions)\r\n",
        "sample_submission.head()"
      ],
      "execution_count": 38,
      "outputs": [
        {
          "output_type": "stream",
          "text": [
            "dim=0:  torch.return_types.max(\n",
            "values=tensor([3., 4.]),\n",
            "indices=tensor([1, 1]))\n",
            "dim=1:  torch.return_types.max(\n",
            "values=tensor([2., 4.]),\n",
            "indices=tensor([1, 1]))\n"
          ],
          "name": "stdout"
        },
        {
          "output_type": "execute_result",
          "data": {
            "text/html": [
              "<div>\n",
              "<style scoped>\n",
              "    .dataframe tbody tr th:only-of-type {\n",
              "        vertical-align: middle;\n",
              "    }\n",
              "\n",
              "    .dataframe tbody tr th {\n",
              "        vertical-align: top;\n",
              "    }\n",
              "\n",
              "    .dataframe thead th {\n",
              "        text-align: right;\n",
              "    }\n",
              "</style>\n",
              "<table border=\"1\" class=\"dataframe\">\n",
              "  <thead>\n",
              "    <tr style=\"text-align: right;\">\n",
              "      <th></th>\n",
              "      <th>Id</th>\n",
              "      <th>Category</th>\n",
              "    </tr>\n",
              "  </thead>\n",
              "  <tbody>\n",
              "    <tr>\n",
              "      <th>0</th>\n",
              "      <td>57808</td>\n",
              "      <td>8</td>\n",
              "    </tr>\n",
              "    <tr>\n",
              "      <th>1</th>\n",
              "      <td>4960</td>\n",
              "      <td>0</td>\n",
              "    </tr>\n",
              "    <tr>\n",
              "      <th>2</th>\n",
              "      <td>35755</td>\n",
              "      <td>5</td>\n",
              "    </tr>\n",
              "    <tr>\n",
              "      <th>3</th>\n",
              "      <td>15543</td>\n",
              "      <td>3</td>\n",
              "    </tr>\n",
              "    <tr>\n",
              "      <th>4</th>\n",
              "      <td>48968</td>\n",
              "      <td>8</td>\n",
              "    </tr>\n",
              "  </tbody>\n",
              "</table>\n",
              "</div>"
            ],
            "text/plain": [
              "      Id  Category\n",
              "0  57808         8\n",
              "1   4960         0\n",
              "2  35755         5\n",
              "3  15543         3\n",
              "4  48968         8"
            ]
          },
          "metadata": {
            "tags": []
          },
          "execution_count": 38
        }
      ]
    },
    {
      "cell_type": "code",
      "metadata": {
        "id": "OxHpcu6988eO"
      },
      "source": [
        "sample_submission.to_csv(\"submission.csv\",index=False)"
      ],
      "execution_count": 39,
      "outputs": []
    },
    {
      "cell_type": "markdown",
      "metadata": {
        "id": "1vZsFpRAXBg_"
      },
      "source": [
        "#**[4] keras.CNN (1)**"
      ]
    },
    {
      "cell_type": "markdown",
      "metadata": {
        "id": "iW9IMsNHYftl"
      },
      "source": [
        "##**1.Runtime Type**\r\n",
        " GPU"
      ]
    },
    {
      "cell_type": "code",
      "metadata": {
        "colab": {
          "base_uri": "https://localhost:8080/"
        },
        "id": "s9iuIeJhXDTE",
        "outputId": "d307c2fc-6420-4f05-82c4-139285647d6e"
      },
      "source": [
        "device = torch.device(\"cuda:0\" if torch.cuda.is_available() else \"cpu\") # use GPU\r\n",
        "print(device)"
      ],
      "execution_count": 40,
      "outputs": [
        {
          "output_type": "stream",
          "text": [
            "cuda:0\n"
          ],
          "name": "stdout"
        }
      ]
    },
    {
      "cell_type": "markdown",
      "metadata": {
        "id": "x67vgmWSYgQt"
      },
      "source": [
        "##**2.Set Train / Validation Data**"
      ]
    },
    {
      "cell_type": "code",
      "metadata": {
        "id": "nXLwsV3SXHbM"
      },
      "source": [
        "train_data = pd.read_csv('train.csv')\r\n",
        "X_train = train_data.drop('label',axis = 1).values\r\n",
        "y_train = train_data['label'].values\r\n",
        "\r\n",
        "X_train, X_val, y_train, y_val = train_test_split(X_train, y_train, test_size=0.2)\r\n",
        "\r\n",
        "X_train = X_train.reshape(-1, 28, 28, 1).astype('float32')\r\n",
        "X_val = X_val.reshape(-1, 28, 28, 1).astype('float32')\r\n",
        "X_train = (X_train - np.mean(X_train))/255\r\n",
        "X_val = (X_val - np.mean(X_val))/255\r\n",
        "\r\n"
      ],
      "execution_count": 41,
      "outputs": []
    },
    {
      "cell_type": "markdown",
      "metadata": {
        "id": "UtpoTeoXYhMd"
      },
      "source": [
        "##**3.Create Neural Network**"
      ]
    },
    {
      "cell_type": "code",
      "metadata": {
        "id": "mJZKXbCWXJZQ"
      },
      "source": [
        "from functools import partial\r\n",
        "\r\n",
        "DefaultConv2D = partial(keras.layers.Conv2D,\r\n",
        "                        kernel_size=3, activation='relu', padding=\"SAME\")\r\n",
        "\r\n",
        "model = keras.models.Sequential([\r\n",
        "    DefaultConv2D(filters=64, kernel_size=7, input_shape=[28, 28, 1]),\r\n",
        "    keras.layers.MaxPooling2D(pool_size=2),\r\n",
        "    DefaultConv2D(filters=128),\r\n",
        "    DefaultConv2D(filters=128),\r\n",
        "    keras.layers.MaxPooling2D(pool_size=2),\r\n",
        "    DefaultConv2D(filters=256),\r\n",
        "    DefaultConv2D(filters=256),\r\n",
        "    keras.layers.MaxPooling2D(pool_size=2),\r\n",
        "    keras.layers.Flatten(),\r\n",
        "    keras.layers.Dense(units=128, activation='relu'),\r\n",
        "    keras.layers.Dropout(0.5),\r\n",
        "    keras.layers.Dense(units=64, activation='relu'),\r\n",
        "    keras.layers.Dropout(0.5),\r\n",
        "    keras.layers.Dense(units=10, activation='softmax'),\r\n",
        "])"
      ],
      "execution_count": 42,
      "outputs": []
    },
    {
      "cell_type": "markdown",
      "metadata": {
        "id": "mhBa32DYYkRM"
      },
      "source": [
        "##**4.Count Parameters**"
      ]
    },
    {
      "cell_type": "code",
      "metadata": {
        "colab": {
          "base_uri": "https://localhost:8080/"
        },
        "id": "c-8GrojscMdu",
        "outputId": "63601d9f-0506-4ff9-9685-35c9a70fe112"
      },
      "source": [
        "model.summary()"
      ],
      "execution_count": 43,
      "outputs": [
        {
          "output_type": "stream",
          "text": [
            "Model: \"sequential\"\n",
            "_________________________________________________________________\n",
            "Layer (type)                 Output Shape              Param #   \n",
            "=================================================================\n",
            "conv2d (Conv2D)              (None, 28, 28, 64)        3200      \n",
            "_________________________________________________________________\n",
            "max_pooling2d (MaxPooling2D) (None, 14, 14, 64)        0         \n",
            "_________________________________________________________________\n",
            "conv2d_1 (Conv2D)            (None, 14, 14, 128)       73856     \n",
            "_________________________________________________________________\n",
            "conv2d_2 (Conv2D)            (None, 14, 14, 128)       147584    \n",
            "_________________________________________________________________\n",
            "max_pooling2d_1 (MaxPooling2 (None, 7, 7, 128)         0         \n",
            "_________________________________________________________________\n",
            "conv2d_3 (Conv2D)            (None, 7, 7, 256)         295168    \n",
            "_________________________________________________________________\n",
            "conv2d_4 (Conv2D)            (None, 7, 7, 256)         590080    \n",
            "_________________________________________________________________\n",
            "max_pooling2d_2 (MaxPooling2 (None, 3, 3, 256)         0         \n",
            "_________________________________________________________________\n",
            "flatten (Flatten)            (None, 2304)              0         \n",
            "_________________________________________________________________\n",
            "dense (Dense)                (None, 128)               295040    \n",
            "_________________________________________________________________\n",
            "dropout (Dropout)            (None, 128)               0         \n",
            "_________________________________________________________________\n",
            "dense_1 (Dense)              (None, 64)                8256      \n",
            "_________________________________________________________________\n",
            "dropout_1 (Dropout)          (None, 64)                0         \n",
            "_________________________________________________________________\n",
            "dense_2 (Dense)              (None, 10)                650       \n",
            "=================================================================\n",
            "Total params: 1,413,834\n",
            "Trainable params: 1,413,834\n",
            "Non-trainable params: 0\n",
            "_________________________________________________________________\n"
          ],
          "name": "stdout"
        }
      ]
    },
    {
      "cell_type": "markdown",
      "metadata": {
        "id": "i-L9_znpY3T0"
      },
      "source": [
        "##**5.Set Optimizer & Loss Function**"
      ]
    },
    {
      "cell_type": "markdown",
      "metadata": {
        "id": "YKIpIly-ZET1"
      },
      "source": [
        "##**6.Get Train / Validation Accuracy**"
      ]
    },
    {
      "cell_type": "code",
      "metadata": {
        "colab": {
          "base_uri": "https://localhost:8080/"
        },
        "id": "rRB6lENEcGwk",
        "outputId": "a0338779-be6f-479e-ba15-fe63c81839e9"
      },
      "source": [
        "model.compile(loss=\"sparse_categorical_crossentropy\", optimizer=\"nadam\", metrics=[\"accuracy\"])\r\n",
        "history = model.fit(X_train, y_train, epochs=10, batch_size=32,validation_data=(X_val, y_val))"
      ],
      "execution_count": 44,
      "outputs": [
        {
          "output_type": "stream",
          "text": [
            "Epoch 1/10\n",
            "1050/1050 [==============================] - 13s 8ms/step - loss: 0.7982 - accuracy: 0.7219 - val_loss: 0.0503 - val_accuracy: 0.9894\n",
            "Epoch 2/10\n",
            "1050/1050 [==============================] - 8s 8ms/step - loss: 0.0828 - accuracy: 0.9792 - val_loss: 0.0379 - val_accuracy: 0.9912\n",
            "Epoch 3/10\n",
            "1050/1050 [==============================] - 8s 8ms/step - loss: 0.0532 - accuracy: 0.9878 - val_loss: 0.0360 - val_accuracy: 0.9931\n",
            "Epoch 4/10\n",
            "1050/1050 [==============================] - 8s 8ms/step - loss: 0.0398 - accuracy: 0.9905 - val_loss: 0.0367 - val_accuracy: 0.9931\n",
            "Epoch 5/10\n",
            "1050/1050 [==============================] - 8s 8ms/step - loss: 0.0407 - accuracy: 0.9906 - val_loss: 0.0746 - val_accuracy: 0.9846\n",
            "Epoch 6/10\n",
            "1050/1050 [==============================] - 8s 8ms/step - loss: 0.0393 - accuracy: 0.9899 - val_loss: 0.0446 - val_accuracy: 0.9932\n",
            "Epoch 7/10\n",
            "1050/1050 [==============================] - 8s 8ms/step - loss: 0.0284 - accuracy: 0.9937 - val_loss: 0.0382 - val_accuracy: 0.9937\n",
            "Epoch 8/10\n",
            "1050/1050 [==============================] - 8s 8ms/step - loss: 0.0314 - accuracy: 0.9927 - val_loss: 0.0430 - val_accuracy: 0.9930\n",
            "Epoch 9/10\n",
            "1050/1050 [==============================] - 8s 8ms/step - loss: 0.0257 - accuracy: 0.9941 - val_loss: 0.0542 - val_accuracy: 0.9926\n",
            "Epoch 10/10\n",
            "1050/1050 [==============================] - 8s 8ms/step - loss: 0.0233 - accuracy: 0.9942 - val_loss: 0.0537 - val_accuracy: 0.9914\n"
          ],
          "name": "stdout"
        }
      ]
    },
    {
      "cell_type": "code",
      "metadata": {
        "id": "G52WdMyi0ytR"
      },
      "source": [
        ""
      ],
      "execution_count": 44,
      "outputs": []
    },
    {
      "cell_type": "markdown",
      "metadata": {
        "id": "zW24gVKWq8Vi"
      },
      "source": [
        "#**[5] keras.CNN (2)**"
      ]
    },
    {
      "cell_type": "markdown",
      "metadata": {
        "id": "9NYvug-3ZVEL"
      },
      "source": [
        "##**3.Create Neural Network**"
      ]
    },
    {
      "cell_type": "code",
      "metadata": {
        "id": "Km0fJcVArB_s"
      },
      "source": [
        "model = keras.models.Sequential([\r\n",
        "    keras.layers.Flatten(input_shape=[28, 28]),\r\n",
        "    keras.layers.BatchNormalization(),\r\n",
        "    keras.layers.Dense(300, activation=\"relu\"),\r\n",
        "    keras.layers.BatchNormalization(),\r\n",
        "    keras.layers.Dense(100, activation=\"relu\"),\r\n",
        "    keras.layers.BatchNormalization(),\r\n",
        "    keras.layers.Dense(10, activation=\"softmax\")\r\n",
        "])"
      ],
      "execution_count": 45,
      "outputs": []
    },
    {
      "cell_type": "markdown",
      "metadata": {
        "id": "yZq5OE9dZWnM"
      },
      "source": [
        "##**4.Count Parameters**"
      ]
    },
    {
      "cell_type": "code",
      "metadata": {
        "colab": {
          "base_uri": "https://localhost:8080/"
        },
        "id": "9vSl2vnHrFQ7",
        "outputId": "c4900a50-bff1-40f2-9ba1-5a78ce90b8ca"
      },
      "source": [
        "model.summary()"
      ],
      "execution_count": 46,
      "outputs": [
        {
          "output_type": "stream",
          "text": [
            "Model: \"sequential_1\"\n",
            "_________________________________________________________________\n",
            "Layer (type)                 Output Shape              Param #   \n",
            "=================================================================\n",
            "flatten_1 (Flatten)          (None, 784)               0         \n",
            "_________________________________________________________________\n",
            "batch_normalization (BatchNo (None, 784)               3136      \n",
            "_________________________________________________________________\n",
            "dense_3 (Dense)              (None, 300)               235500    \n",
            "_________________________________________________________________\n",
            "batch_normalization_1 (Batch (None, 300)               1200      \n",
            "_________________________________________________________________\n",
            "dense_4 (Dense)              (None, 100)               30100     \n",
            "_________________________________________________________________\n",
            "batch_normalization_2 (Batch (None, 100)               400       \n",
            "_________________________________________________________________\n",
            "dense_5 (Dense)              (None, 10)                1010      \n",
            "=================================================================\n",
            "Total params: 271,346\n",
            "Trainable params: 268,978\n",
            "Non-trainable params: 2,368\n",
            "_________________________________________________________________\n"
          ],
          "name": "stdout"
        }
      ]
    },
    {
      "cell_type": "markdown",
      "metadata": {
        "id": "fOdKCtEqZZpG"
      },
      "source": [
        "##**5.Set Optimizer & Loss Function**"
      ]
    },
    {
      "cell_type": "code",
      "metadata": {
        "id": "cKo0oUCRrHx7"
      },
      "source": [
        "model.compile(loss=\"sparse_categorical_crossentropy\",\r\n",
        "              optimizer=keras.optimizers.SGD(lr=1e-3),\r\n",
        "              metrics=[\"accuracy\"])"
      ],
      "execution_count": 47,
      "outputs": []
    },
    {
      "cell_type": "markdown",
      "metadata": {
        "id": "Ua9qB9pDZaa9"
      },
      "source": [
        "##**6.Get Train / Validation Accuracy**"
      ]
    },
    {
      "cell_type": "code",
      "metadata": {
        "colab": {
          "base_uri": "https://localhost:8080/"
        },
        "id": "y2aRUwtXrLD8",
        "outputId": "6e1e5bc3-b010-4b17-c3b0-f38171904948"
      },
      "source": [
        "history = model.fit(X_train, y_train, epochs=10,batch_size=32,\r\n",
        "                    validation_data=(X_val, y_val))"
      ],
      "execution_count": 48,
      "outputs": [
        {
          "output_type": "stream",
          "text": [
            "Epoch 1/10\n",
            "1050/1050 [==============================] - 4s 3ms/step - loss: 1.4339 - accuracy: 0.5427 - val_loss: 0.4614 - val_accuracy: 0.8699\n",
            "Epoch 2/10\n",
            "1050/1050 [==============================] - 3s 3ms/step - loss: 0.4257 - accuracy: 0.8805 - val_loss: 0.3173 - val_accuracy: 0.9087\n",
            "Epoch 3/10\n",
            "1050/1050 [==============================] - 3s 3ms/step - loss: 0.3082 - accuracy: 0.9153 - val_loss: 0.2597 - val_accuracy: 0.9257\n",
            "Epoch 4/10\n",
            "1050/1050 [==============================] - 3s 3ms/step - loss: 0.2586 - accuracy: 0.9281 - val_loss: 0.2249 - val_accuracy: 0.9369\n",
            "Epoch 5/10\n",
            "1050/1050 [==============================] - 3s 3ms/step - loss: 0.2290 - accuracy: 0.9381 - val_loss: 0.2031 - val_accuracy: 0.9420\n",
            "Epoch 6/10\n",
            "1050/1050 [==============================] - 3s 3ms/step - loss: 0.2063 - accuracy: 0.9413 - val_loss: 0.1874 - val_accuracy: 0.9476\n",
            "Epoch 7/10\n",
            "1050/1050 [==============================] - 3s 3ms/step - loss: 0.1928 - accuracy: 0.9464 - val_loss: 0.1763 - val_accuracy: 0.9501\n",
            "Epoch 8/10\n",
            "1050/1050 [==============================] - 3s 3ms/step - loss: 0.1778 - accuracy: 0.9509 - val_loss: 0.1658 - val_accuracy: 0.9515\n",
            "Epoch 9/10\n",
            "1050/1050 [==============================] - 3s 3ms/step - loss: 0.1652 - accuracy: 0.9542 - val_loss: 0.1577 - val_accuracy: 0.9542\n",
            "Epoch 10/10\n",
            "1050/1050 [==============================] - 3s 3ms/step - loss: 0.1564 - accuracy: 0.9570 - val_loss: 0.1517 - val_accuracy: 0.9546\n"
          ],
          "name": "stdout"
        }
      ]
    },
    {
      "cell_type": "markdown",
      "metadata": {
        "id": "f0_4GBB5WOkg"
      },
      "source": [
        "#**Summary**"
      ]
    },
    {
      "cell_type": "markdown",
      "metadata": {
        "id": "jxO2HZsOVmKy"
      },
      "source": [
        "##**1.Model**"
      ]
    },
    {
      "cell_type": "markdown",
      "metadata": {
        "id": "3xi1HO3mV33l"
      },
      "source": [
        "![image.png](data:image/png;base64,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)"
      ]
    },
    {
      "cell_type": "markdown",
      "metadata": {
        "id": "UuU6BEr_WDUR"
      },
      "source": [
        "##**2.Performance**"
      ]
    },
    {
      "cell_type": "markdown",
      "metadata": {
        "id": "LyHlFqyhVl6p"
      },
      "source": [
        "![image.png](data:image/png;base64,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)"
      ]
    },
    {
      "cell_type": "code",
      "metadata": {
        "id": "Uv5-tSCyVBx3"
      },
      "source": [
        ""
      ],
      "execution_count": null,
      "outputs": []
    }
  ]
}

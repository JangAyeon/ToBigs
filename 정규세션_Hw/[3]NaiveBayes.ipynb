{
  "nbformat": 4,
  "nbformat_minor": 0,
  "metadata": {
    "kernelspec": {
      "display_name": "Python 3",
      "language": "python",
      "name": "python3"
    },
    "language_info": {
      "codemirror_mode": {
        "name": "ipython",
        "version": 3
      },
      "file_extension": ".py",
      "mimetype": "text/x-python",
      "name": "python",
      "nbconvert_exporter": "python",
      "pygments_lexer": "ipython3",
      "version": "3.7.3"
    },
    "colab": {
      "name": "[3]NaiveBayes.ipynb",
      "provenance": [],
      "collapsed_sections": []
    }
  },
  "cells": [
    {
      "cell_type": "markdown",
      "metadata": {
        "id": "W3Zkr2JGup19"
      },
      "source": [
        "# Assignment"
      ]
    },
    {
      "cell_type": "markdown",
      "metadata": {
        "id": "hJEhM1uAup2I"
      },
      "source": [
        "## 우리의 목표 : 나이브베이즈 문제 해결하기\n",
        "1.1) 입력문서가 {fast, furious, fun} 만을 주요 단어로 가질때, 이 문서는 얼마의 확률로 어떤 문서로 분류되는가?\n",
        "\n",
        "##### 노트북 파일을 따라오면서, 빈칸과 질문에 대한 물음을 모두 채우시면 과제 완료 입니다 "
      ]
    },
    {
      "cell_type": "markdown",
      "metadata": {
        "id": "ZSwttCJnup2K"
      },
      "source": [
        "### 주어진 dataset 을 확인해 보기위해 엑셀 파일을 읽습니다."
      ]
    },
    {
      "cell_type": "code",
      "metadata": {
        "id": "PHRU587dup2K"
      },
      "source": [
        "import numpy as np\n",
        "import pandas as pd"
      ],
      "execution_count": null,
      "outputs": []
    },
    {
      "cell_type": "code",
      "metadata": {
        "id": "Bz0IgHzGup2T"
      },
      "source": [
        "documents = pd.read_excel('test_file.xlsx') "
      ],
      "execution_count": null,
      "outputs": []
    },
    {
      "cell_type": "code",
      "metadata": {
        "id": "yZt4AtNTup2W",
        "colab": {
          "base_uri": "https://localhost:8080/",
          "height": 200
        },
        "outputId": "49976d27-8e19-4582-bad1-994f66e81031"
      },
      "source": [
        "documents "
      ],
      "execution_count": null,
      "outputs": [
        {
          "output_type": "execute_result",
          "data": {
            "text/html": [
              "<div>\n",
              "<style scoped>\n",
              "    .dataframe tbody tr th:only-of-type {\n",
              "        vertical-align: middle;\n",
              "    }\n",
              "\n",
              "    .dataframe tbody tr th {\n",
              "        vertical-align: top;\n",
              "    }\n",
              "\n",
              "    .dataframe thead th {\n",
              "        text-align: right;\n",
              "    }\n",
              "</style>\n",
              "<table border=\"1\" class=\"dataframe\">\n",
              "  <thead>\n",
              "    <tr style=\"text-align: right;\">\n",
              "      <th></th>\n",
              "      <th>label</th>\n",
              "      <th>message</th>\n",
              "    </tr>\n",
              "  </thead>\n",
              "  <tbody>\n",
              "    <tr>\n",
              "      <th>0</th>\n",
              "      <td>comedy</td>\n",
              "      <td>Fun couple, love love</td>\n",
              "    </tr>\n",
              "    <tr>\n",
              "      <th>1</th>\n",
              "      <td>action</td>\n",
              "      <td>fast Furious, shoot!!</td>\n",
              "    </tr>\n",
              "    <tr>\n",
              "      <th>2</th>\n",
              "      <td>comedy</td>\n",
              "      <td>couple^^, fly, fast, fun, fun</td>\n",
              "    </tr>\n",
              "    <tr>\n",
              "      <th>3</th>\n",
              "      <td>action</td>\n",
              "      <td>furious, shoot shoot fun</td>\n",
              "    </tr>\n",
              "    <tr>\n",
              "      <th>4</th>\n",
              "      <td>action</td>\n",
              "      <td>fly~~ fast shoot, Love</td>\n",
              "    </tr>\n",
              "  </tbody>\n",
              "</table>\n",
              "</div>"
            ],
            "text/plain": [
              "    label                        message\n",
              "0  comedy          Fun couple, love love\n",
              "1  action          fast Furious, shoot!!\n",
              "2  comedy  couple^^, fly, fast, fun, fun\n",
              "3  action       furious, shoot shoot fun\n",
              "4  action         fly~~ fast shoot, Love"
            ]
          },
          "metadata": {
            "tags": []
          },
          "execution_count": 3
        }
      ]
    },
    {
      "cell_type": "markdown",
      "metadata": {
        "id": "prP57Inaup2Y"
      },
      "source": [
        "####  Q1. **문제점**(전처리가 필요한 부분)을 2가지 이상 적어주세요.\n",
        "- 1. 특수문자, 대소문자 섞임\n",
        "- 2. 단어와 단어의 구분이 모호함"
      ]
    },
    {
      "cell_type": "markdown",
      "metadata": {
        "id": "cXxX9Yx7up2Y"
      },
      "source": [
        "### step 1. 단어를 모두 소문자로 바꾸어 줍니다. \n",
        "\n",
        "#### Q2. 코드속 빈칸을 채워주세요"
      ]
    },
    {
      "cell_type": "code",
      "metadata": {
        "id": "UCX42MsAup2Z",
        "colab": {
          "base_uri": "https://localhost:8080/"
        },
        "outputId": "9e3afbdd-3230-4a20-b3d6-a2372d04a33f"
      },
      "source": [
        "lower_documents = []\n",
        "lower_documents = [d.lower() for d in documents['message']]\n",
        "print(lower_documents)"
      ],
      "execution_count": null,
      "outputs": [
        {
          "output_type": "stream",
          "text": [
            "['fun couple, love love', 'fast furious, shoot!!', 'couple^^, fly, fast, fun, fun', 'furious, shoot shoot fun', 'fly~~ fast shoot, love']\n"
          ],
          "name": "stdout"
        }
      ]
    },
    {
      "cell_type": "markdown",
      "metadata": {
        "id": "QZDgo93Lup2a"
      },
      "source": [
        "### step2. 특수문자를 없애줍니다.\n",
        "#### string.punctuation 에는 특수문자들이 저장되어있는것을 확인할수 있습니다."
      ]
    },
    {
      "cell_type": "code",
      "metadata": {
        "id": "Nldmu4gvup2a",
        "colab": {
          "base_uri": "https://localhost:8080/",
          "height": 35
        },
        "outputId": "a40cd374-1d21-4751-c981-b317043a3184"
      },
      "source": [
        "import string\n",
        "string.punctuation"
      ],
      "execution_count": null,
      "outputs": [
        {
          "output_type": "execute_result",
          "data": {
            "application/vnd.google.colaboratory.intrinsic+json": {
              "type": "string"
            },
            "text/plain": [
              "'!\"#$%&\\'()*+,-./:;<=>?@[\\\\]^_`{|}~'"
            ]
          },
          "metadata": {
            "tags": []
          },
          "execution_count": 5
        }
      ]
    },
    {
      "cell_type": "markdown",
      "metadata": {
        "id": "B8uDOYzWup2b"
      },
      "source": [
        "### Q3. string.punctuation 을 이용해서 특수문자를 제거해주세요."
      ]
    },
    {
      "cell_type": "code",
      "metadata": {
        "id": "oWaKMt1Mup2b",
        "colab": {
          "base_uri": "https://localhost:8080/"
        },
        "outputId": "708c1f9c-4476-406c-f828-b2ef53a90c0d"
      },
      "source": [
        "import re\n",
        "import string\n",
        "\n",
        "del_punctuation_documents = []\n",
        "\n",
        "for i in lower_documents:\n",
        "  del_punctuation_documents.append(i.translate(str.maketrans(\"\",\"\",string.punctuation)))\n",
        "    \n",
        "del_punctuation_documents"
      ],
      "execution_count": null,
      "outputs": [
        {
          "output_type": "execute_result",
          "data": {
            "text/plain": [
              "['fun couple love love',\n",
              " 'fast furious shoot',\n",
              " 'couple fly fast fun fun',\n",
              " 'furious shoot shoot fun',\n",
              " 'fly fast shoot love']"
            ]
          },
          "metadata": {
            "tags": []
          },
          "execution_count": 6
        }
      ]
    },
    {
      "cell_type": "markdown",
      "metadata": {
        "id": "kjSXpYvcup2e"
      },
      "source": [
        "### step 3. 단어를 하나씩 띄어쓰기 단위로 쪼개어 줍니다.\n",
        "#### Q4. 빈칸을 채워주세요."
      ]
    },
    {
      "cell_type": "code",
      "metadata": {
        "id": "DheDzRAGup2f",
        "colab": {
          "base_uri": "https://localhost:8080/"
        },
        "outputId": "2fff038f-cb62-4dff-b37b-588dcf49a641"
      },
      "source": [
        "\n",
        "preprocessed_documents = [[w for w in d.split(' ')] for d in del_punctuation_documents]\n",
        "\n",
        "preprocessed_documents"
      ],
      "execution_count": null,
      "outputs": [
        {
          "output_type": "execute_result",
          "data": {
            "text/plain": [
              "[['fun', 'couple', 'love', 'love'],\n",
              " ['fast', 'furious', 'shoot'],\n",
              " ['couple', 'fly', 'fast', 'fun', 'fun'],\n",
              " ['furious', 'shoot', 'shoot', 'fun'],\n",
              " ['fly', 'fast', 'shoot', 'love']]"
            ]
          },
          "metadata": {
            "tags": []
          },
          "execution_count": 7
        }
      ]
    },
    {
      "cell_type": "markdown",
      "metadata": {
        "id": "uUgfKy2Jup2g"
      },
      "source": [
        "### step 4. 각각의 단어가 문서에서 몇번 나왔는지 세봅시다."
      ]
    },
    {
      "cell_type": "code",
      "metadata": {
        "id": "1oeyBhDPup2h",
        "colab": {
          "base_uri": "https://localhost:8080/"
        },
        "outputId": "ecccea22-dca1-4f1f-f656-5dbb7cd7109e"
      },
      "source": [
        "frequency_list = []\n",
        "from collections import Counter\n",
        "\n",
        "frequency_list = [Counter(d) for d in preprocessed_documents]\n",
        "frequency_list"
      ],
      "execution_count": null,
      "outputs": [
        {
          "output_type": "execute_result",
          "data": {
            "text/plain": [
              "[Counter({'couple': 1, 'fun': 1, 'love': 2}),\n",
              " Counter({'fast': 1, 'furious': 1, 'shoot': 1}),\n",
              " Counter({'couple': 1, 'fast': 1, 'fly': 1, 'fun': 2}),\n",
              " Counter({'fun': 1, 'furious': 1, 'shoot': 2}),\n",
              " Counter({'fast': 1, 'fly': 1, 'love': 1, 'shoot': 1})]"
            ]
          },
          "metadata": {
            "tags": []
          },
          "execution_count": 8
        }
      ]
    },
    {
      "cell_type": "markdown",
      "metadata": {
        "id": "S49LF8aoup2i"
      },
      "source": [
        "### step 5. 이제 우리가 하고싶은것은, 문자를 숫자로 변환하는 작업입니다!(그림 참고)\n",
        "- 이를 위해 CountVectorizer를 사용합니다.\n",
        "- CountVectorizer는 문서 집합에서 단어 토큰을 생성하고, 각 단어 수를 세어 BOW (Bag of Words) 인코딩한 벡터를 만들어줍니다.\n",
        "\n",
        "- 문서에 해당단어가 몇번 포함되었는지를 나타낼 때 사용하는 방법입니다.\n",
        "\n",
        "- 참고 : https://datascienceschool.net/view-notebook/3e7aadbf88ed4f0d87a76f9ddc925d69/"
      ]
    },
    {
      "cell_type": "markdown",
      "metadata": {
        "id": "ZJSEL2Vwup2i"
      },
      "source": [
        "![CountVectorized](https://user-images.githubusercontent.com/68625698/106378540-15d8ed80-63e9-11eb-8604-5c960c274867.PNG)"
      ]
    },
    {
      "cell_type": "code",
      "metadata": {
        "id": "AfRgjbxhup2i",
        "colab": {
          "base_uri": "https://localhost:8080/"
        },
        "outputId": "59863998-54c1-4742-9144-35808417c68f"
      },
      "source": [
        "from sklearn.feature_extraction.text import CountVectorizer\n",
        "count_vector = CountVectorizer()\n",
        "count_vector.fit(documents['message'])"
      ],
      "execution_count": null,
      "outputs": [
        {
          "output_type": "execute_result",
          "data": {
            "text/plain": [
              "CountVectorizer(analyzer='word', binary=False, decode_error='strict',\n",
              "                dtype=<class 'numpy.int64'>, encoding='utf-8', input='content',\n",
              "                lowercase=True, max_df=1.0, max_features=None, min_df=1,\n",
              "                ngram_range=(1, 1), preprocessor=None, stop_words=None,\n",
              "                strip_accents=None, token_pattern='(?u)\\\\b\\\\w\\\\w+\\\\b',\n",
              "                tokenizer=None, vocabulary=None)"
            ]
          },
          "metadata": {
            "tags": []
          },
          "execution_count": 9
        }
      ]
    },
    {
      "cell_type": "code",
      "metadata": {
        "id": "EYcgD99Lup2j",
        "colab": {
          "base_uri": "https://localhost:8080/"
        },
        "outputId": "73d22162-dd3b-449e-c331-5a4ded46ff02"
      },
      "source": [
        "doc_array = count_vector.transform(documents['message']).toarray()\n",
        "doc_array"
      ],
      "execution_count": null,
      "outputs": [
        {
          "output_type": "execute_result",
          "data": {
            "text/plain": [
              "array([[1, 0, 0, 1, 0, 2, 0],\n",
              "       [0, 1, 0, 0, 1, 0, 1],\n",
              "       [1, 1, 1, 2, 0, 0, 0],\n",
              "       [0, 0, 0, 1, 1, 0, 2],\n",
              "       [0, 1, 1, 0, 0, 1, 1]])"
            ]
          },
          "metadata": {
            "tags": []
          },
          "execution_count": 10
        }
      ]
    },
    {
      "cell_type": "code",
      "metadata": {
        "id": "mKpKp6q6up2k",
        "colab": {
          "base_uri": "https://localhost:8080/"
        },
        "outputId": "374c339c-f4b1-4d3f-9ff7-d8051aedd211"
      },
      "source": [
        "count_vector.get_feature_names()"
      ],
      "execution_count": null,
      "outputs": [
        {
          "output_type": "execute_result",
          "data": {
            "text/plain": [
              "['couple', 'fast', 'fly', 'fun', 'furious', 'love', 'shoot']"
            ]
          },
          "metadata": {
            "tags": []
          },
          "execution_count": 11
        }
      ]
    },
    {
      "cell_type": "code",
      "metadata": {
        "id": "ZYyBzSVUup2k",
        "colab": {
          "base_uri": "https://localhost:8080/"
        },
        "outputId": "0764d2bb-277d-46d1-af15-35efa83f1a4a"
      },
      "source": [
        "count_vector.vocabulary_"
      ],
      "execution_count": null,
      "outputs": [
        {
          "output_type": "execute_result",
          "data": {
            "text/plain": [
              "{'couple': 0,\n",
              " 'fast': 1,\n",
              " 'fly': 2,\n",
              " 'fun': 3,\n",
              " 'furious': 4,\n",
              " 'love': 5,\n",
              " 'shoot': 6}"
            ]
          },
          "metadata": {
            "tags": []
          },
          "execution_count": 12
        }
      ]
    },
    {
      "cell_type": "code",
      "metadata": {
        "id": "NxPjKxQTup2l",
        "colab": {
          "base_uri": "https://localhost:8080/",
          "height": 200
        },
        "outputId": "82e0d651-ed75-48c0-aac6-3fb57fd6d380"
      },
      "source": [
        "frequency_matrix = pd.DataFrame(doc_array, columns = count_vector.get_feature_names())\n",
        "frequency_matrix"
      ],
      "execution_count": null,
      "outputs": [
        {
          "output_type": "execute_result",
          "data": {
            "text/html": [
              "<div>\n",
              "<style scoped>\n",
              "    .dataframe tbody tr th:only-of-type {\n",
              "        vertical-align: middle;\n",
              "    }\n",
              "\n",
              "    .dataframe tbody tr th {\n",
              "        vertical-align: top;\n",
              "    }\n",
              "\n",
              "    .dataframe thead th {\n",
              "        text-align: right;\n",
              "    }\n",
              "</style>\n",
              "<table border=\"1\" class=\"dataframe\">\n",
              "  <thead>\n",
              "    <tr style=\"text-align: right;\">\n",
              "      <th></th>\n",
              "      <th>couple</th>\n",
              "      <th>fast</th>\n",
              "      <th>fly</th>\n",
              "      <th>fun</th>\n",
              "      <th>furious</th>\n",
              "      <th>love</th>\n",
              "      <th>shoot</th>\n",
              "    </tr>\n",
              "  </thead>\n",
              "  <tbody>\n",
              "    <tr>\n",
              "      <th>0</th>\n",
              "      <td>1</td>\n",
              "      <td>0</td>\n",
              "      <td>0</td>\n",
              "      <td>1</td>\n",
              "      <td>0</td>\n",
              "      <td>2</td>\n",
              "      <td>0</td>\n",
              "    </tr>\n",
              "    <tr>\n",
              "      <th>1</th>\n",
              "      <td>0</td>\n",
              "      <td>1</td>\n",
              "      <td>0</td>\n",
              "      <td>0</td>\n",
              "      <td>1</td>\n",
              "      <td>0</td>\n",
              "      <td>1</td>\n",
              "    </tr>\n",
              "    <tr>\n",
              "      <th>2</th>\n",
              "      <td>1</td>\n",
              "      <td>1</td>\n",
              "      <td>1</td>\n",
              "      <td>2</td>\n",
              "      <td>0</td>\n",
              "      <td>0</td>\n",
              "      <td>0</td>\n",
              "    </tr>\n",
              "    <tr>\n",
              "      <th>3</th>\n",
              "      <td>0</td>\n",
              "      <td>0</td>\n",
              "      <td>0</td>\n",
              "      <td>1</td>\n",
              "      <td>1</td>\n",
              "      <td>0</td>\n",
              "      <td>2</td>\n",
              "    </tr>\n",
              "    <tr>\n",
              "      <th>4</th>\n",
              "      <td>0</td>\n",
              "      <td>1</td>\n",
              "      <td>1</td>\n",
              "      <td>0</td>\n",
              "      <td>0</td>\n",
              "      <td>1</td>\n",
              "      <td>1</td>\n",
              "    </tr>\n",
              "  </tbody>\n",
              "</table>\n",
              "</div>"
            ],
            "text/plain": [
              "   couple  fast  fly  fun  furious  love  shoot\n",
              "0       1     0    0    1        0     2      0\n",
              "1       0     1    0    0        1     0      1\n",
              "2       1     1    1    2        0     0      0\n",
              "3       0     0    0    1        1     0      2\n",
              "4       0     1    1    0        0     1      1"
            ]
          },
          "metadata": {
            "tags": []
          },
          "execution_count": 13
        }
      ]
    },
    {
      "cell_type": "code",
      "metadata": {
        "id": "nFDEoN6iup2l"
      },
      "source": [
        "frequency_matrix['count'] = frequency_matrix.sum(axis=1)"
      ],
      "execution_count": null,
      "outputs": []
    },
    {
      "cell_type": "markdown",
      "metadata": {
        "id": "ECND0-Xiup2l"
      },
      "source": [
        "### step 6. 범주형 변수를 dummy변수로 변환해주는 작업(One-Hot Encoding!)을 해주어야합니다.\n",
        "#### Q5. label 을 comedy =1, action =0 으로 변환해주세요"
      ]
    },
    {
      "cell_type": "code",
      "metadata": {
        "id": "A4gTPrNhup2m"
      },
      "source": [
        "documents[\"label\"]=pd.get_dummies(documents[\"label\"])"
      ],
      "execution_count": null,
      "outputs": []
    },
    {
      "cell_type": "code",
      "metadata": {
        "id": "21OXioBWup2m"
      },
      "source": [
        "doc = pd.concat([documents['label'],frequency_matrix],axis=1)"
      ],
      "execution_count": null,
      "outputs": []
    },
    {
      "cell_type": "code",
      "metadata": {
        "id": "Q2835Qg-up2m",
        "colab": {
          "base_uri": "https://localhost:8080/",
          "height": 200
        },
        "outputId": "27b095f8-afd2-4e7e-84ca-6a2fe223ea41"
      },
      "source": [
        "doc"
      ],
      "execution_count": null,
      "outputs": [
        {
          "output_type": "execute_result",
          "data": {
            "text/html": [
              "<div>\n",
              "<style scoped>\n",
              "    .dataframe tbody tr th:only-of-type {\n",
              "        vertical-align: middle;\n",
              "    }\n",
              "\n",
              "    .dataframe tbody tr th {\n",
              "        vertical-align: top;\n",
              "    }\n",
              "\n",
              "    .dataframe thead th {\n",
              "        text-align: right;\n",
              "    }\n",
              "</style>\n",
              "<table border=\"1\" class=\"dataframe\">\n",
              "  <thead>\n",
              "    <tr style=\"text-align: right;\">\n",
              "      <th></th>\n",
              "      <th>label</th>\n",
              "      <th>couple</th>\n",
              "      <th>fast</th>\n",
              "      <th>fly</th>\n",
              "      <th>fun</th>\n",
              "      <th>furious</th>\n",
              "      <th>love</th>\n",
              "      <th>shoot</th>\n",
              "      <th>count</th>\n",
              "    </tr>\n",
              "  </thead>\n",
              "  <tbody>\n",
              "    <tr>\n",
              "      <th>0</th>\n",
              "      <td>1</td>\n",
              "      <td>1</td>\n",
              "      <td>0</td>\n",
              "      <td>0</td>\n",
              "      <td>1</td>\n",
              "      <td>0</td>\n",
              "      <td>2</td>\n",
              "      <td>0</td>\n",
              "      <td>4</td>\n",
              "    </tr>\n",
              "    <tr>\n",
              "      <th>1</th>\n",
              "      <td>0</td>\n",
              "      <td>0</td>\n",
              "      <td>1</td>\n",
              "      <td>0</td>\n",
              "      <td>0</td>\n",
              "      <td>1</td>\n",
              "      <td>0</td>\n",
              "      <td>1</td>\n",
              "      <td>3</td>\n",
              "    </tr>\n",
              "    <tr>\n",
              "      <th>2</th>\n",
              "      <td>1</td>\n",
              "      <td>1</td>\n",
              "      <td>1</td>\n",
              "      <td>1</td>\n",
              "      <td>2</td>\n",
              "      <td>0</td>\n",
              "      <td>0</td>\n",
              "      <td>0</td>\n",
              "      <td>5</td>\n",
              "    </tr>\n",
              "    <tr>\n",
              "      <th>3</th>\n",
              "      <td>0</td>\n",
              "      <td>0</td>\n",
              "      <td>0</td>\n",
              "      <td>0</td>\n",
              "      <td>1</td>\n",
              "      <td>1</td>\n",
              "      <td>0</td>\n",
              "      <td>2</td>\n",
              "      <td>4</td>\n",
              "    </tr>\n",
              "    <tr>\n",
              "      <th>4</th>\n",
              "      <td>0</td>\n",
              "      <td>0</td>\n",
              "      <td>1</td>\n",
              "      <td>1</td>\n",
              "      <td>0</td>\n",
              "      <td>0</td>\n",
              "      <td>1</td>\n",
              "      <td>1</td>\n",
              "      <td>4</td>\n",
              "    </tr>\n",
              "  </tbody>\n",
              "</table>\n",
              "</div>"
            ],
            "text/plain": [
              "   label  couple  fast  fly  fun  furious  love  shoot  count\n",
              "0      1       1     0    0    1        0     2      0      4\n",
              "1      0       0     1    0    0        1     0      1      3\n",
              "2      1       1     1    1    2        0     0      0      5\n",
              "3      0       0     0    0    1        1     0      2      4\n",
              "4      0       0     1    1    0        0     1      1      4"
            ]
          },
          "metadata": {
            "tags": []
          },
          "execution_count": 29
        }
      ]
    },
    {
      "cell_type": "markdown",
      "metadata": {
        "id": "J3djcEgzup2n"
      },
      "source": [
        "###  step 7. 나이브 베이즈 계산을 해봅시다!\n",
        "\n",
        "#### Q6. 입력문서가 {fast, furious, fun} 을 주요 단어로 가질때, 이 문서는 얼마의 확률로 어떤 문서로 분류가 될까요? ( 계산과정을 채워주세요) "
      ]
    },
    {
      "cell_type": "code",
      "metadata": {
        "id": "GdeYF_4rup2n",
        "colab": {
          "base_uri": "https://localhost:8080/"
        },
        "outputId": "44075911-015f-45f7-d7b9-521f6d5e60e1"
      },
      "source": [
        "doc =  np.array(doc)        # dataframe을 np-array로 변환해줍니다.\n",
        "                         # return값은 np-matrix가 아니라 np-array입니다.\n",
        "doc"
      ],
      "execution_count": null,
      "outputs": [
        {
          "output_type": "execute_result",
          "data": {
            "text/plain": [
              "array([[1, 1, 0, 0, 1, 0, 2, 0, 4],\n",
              "       [0, 0, 1, 0, 0, 1, 0, 1, 3],\n",
              "       [1, 1, 1, 1, 2, 0, 0, 0, 5],\n",
              "       [0, 0, 0, 0, 1, 1, 0, 2, 4],\n",
              "       [0, 0, 1, 1, 0, 0, 1, 1, 4]])"
            ]
          },
          "metadata": {
            "tags": []
          },
          "execution_count": 30
        }
      ]
    },
    {
      "cell_type": "code",
      "metadata": {
        "id": "JgtmVeawup2n",
        "colab": {
          "base_uri": "https://localhost:8080/"
        },
        "outputId": "fcf9cc73-90f9-4381-cf07-fac851544d00"
      },
      "source": [
        "type(doc)"
      ],
      "execution_count": null,
      "outputs": [
        {
          "output_type": "execute_result",
          "data": {
            "text/plain": [
              "numpy.ndarray"
            ]
          },
          "metadata": {
            "tags": []
          },
          "execution_count": 31
        }
      ]
    },
    {
      "cell_type": "markdown",
      "metadata": {
        "id": "1qxqVZyXup2o"
      },
      "source": [
        "####  P(Y=comedy), P(Y=action) 계산하기"
      ]
    },
    {
      "cell_type": "markdown",
      "metadata": {
        "id": "RmdsR6i6c5c5"
      },
      "source": [
        "\r\n",
        "\r\n",
        "*   분모 : 전체 Y의 경우 : 행의 길이 (5개)\r\n",
        "*   분자 <br>\r\n",
        ": comedy인 경우 : label 행의 값이 1인 경우 (2개) <br>\r\n",
        ": action인 경우 : label 행의 값이 0인 경우 (3개)\r\n",
        "\r\n"
      ]
    },
    {
      "cell_type": "code",
      "metadata": {
        "id": "frcppWOnup2o"
      },
      "source": [
        "# P(Y=comedy)=2/5\n",
        "p_comedy = sum(doc[:,0]==1) / len(doc)\n",
        "\n",
        "# P(Y=action)=3/5\n",
        "p_action = sum(doc[:,0]==0) / len(doc)"
      ],
      "execution_count": null,
      "outputs": []
    },
    {
      "cell_type": "code",
      "metadata": {
        "id": "Yeh96yycup2q",
        "colab": {
          "base_uri": "https://localhost:8080/"
        },
        "outputId": "1daa730f-87b7-4d81-9501-bdb3729a86c2"
      },
      "source": [
        "print('p_comedy : ',p_comedy)\n",
        "print('p_action : ', p_action)"
      ],
      "execution_count": null,
      "outputs": [
        {
          "output_type": "stream",
          "text": [
            "p_comedy :  0.4\n",
            "p_action :  0.6\n"
          ],
          "name": "stdout"
        }
      ]
    },
    {
      "cell_type": "markdown",
      "metadata": {
        "id": "85_GjF4Yup2r"
      },
      "source": [
        "#### P(fast=1|comedy=1), P(furious=1|comedy=1), P(fun=1|comedy=1) 계산하기\n",
        "* 참고 : 문서에 두번 등장한 단어 주의\n",
        "\n",
        "\n",
        "*   분모<br> : y = comedy인 경우로 한정 : label행의 값이 1인 것에 마지만 count로 sum하면 총 단어의 갯수\n",
        "*   분자<br> : comedy와 특정 단어 : label행의 값이 comedy를 만족하는 것을 indexing하고 특정 단어가 포함된 열을 indexing해서 그 합이 갯수\n",
        "\n",
        "**단어가 2번 특장하는 경우: 특정 칸 ==1이 아닌 특정 칸!=1로 표현 **\n"
      ]
    },
    {
      "cell_type": "code",
      "metadata": {
        "id": "yHkk52I-up2y"
      },
      "source": [
        "# P(fast=1|comedy=1)\n",
        "p_comedy_fast = sum(doc[(doc[:,2]!=0) &(doc[:,0]!=0)][:,2]) / sum(doc[doc[:,0]!=0][:,8])\n",
        "\n",
        "# P(furious=1|comedy=1)\n",
        "p_comedy_furious = sum(doc[(doc[:,5]!=0) & (doc[:,0]!=0)][:,5]) / sum(doc[doc[:,0]!=0][:,8]) \n",
        "\n",
        "# P(fun=1|comedy=1)\n",
        "p_comedy_fun = sum( doc[(doc[:,4]!=0) & (doc[:,0]!=0)][:,4]) / sum(doc[doc[:,0]!=0][:,8])"
      ],
      "execution_count": null,
      "outputs": []
    },
    {
      "cell_type": "code",
      "metadata": {
        "id": "_1GyvhmTup21",
        "colab": {
          "base_uri": "https://localhost:8080/"
        },
        "outputId": "a5613806-699f-4428-cbe9-c488e2666322"
      },
      "source": [
        "print('p_comedy_fast : ' , p_comedy_fast)\n",
        "print('p_comedy_furious : ' , p_comedy_furious)\n",
        "print('p_comedy_fun : ' , p_comedy_fun)   "
      ],
      "execution_count": null,
      "outputs": [
        {
          "output_type": "stream",
          "text": [
            "p_comedy_fast :  0.1111111111111111\n",
            "p_comedy_furious :  0.0\n",
            "p_comedy_fun :  0.3333333333333333\n"
          ],
          "name": "stdout"
        }
      ]
    },
    {
      "cell_type": "markdown",
      "metadata": {
        "id": "qefcvWQ-up22"
      },
      "source": [
        "#### P(fast=1|action=1), P(furious=1|action=1), P(fun=1|action=1) 계산하기\n",
        "* 참고 : 문서에 두번 등장한 단어 주의\n",
        "\n",
        "\n",
        "*   분모 : y = action인 경우로 한정 : label행의 값이 0인 것에 마지만 count로 sum하면 총 단어의 갯수\n",
        "*   분자 : action와 특정 단어 : label행의 값이 action를 만족하는 것을 indexing하고 특정 단어가 포함된 열을 indexing해서 그 합이 갯수\n",
        "\n",
        "**단어가 2번 특장하는 경우: 특정 칸 ==1이 아닌 특정 칸!=1로 표현 **\n"
      ]
    },
    {
      "cell_type": "code",
      "metadata": {
        "id": "wCUO0jxcup23"
      },
      "source": [
        "# P(fast=1|action=1)\n",
        "p_action_fast = sum(doc[(doc[:,2]!=0) &(doc[:,0]!=1)][:,2]) / sum(doc[doc[:,0]!=1][:,8])\n",
        "\n",
        "# P(furious=1|action=1)\n",
        "p_action_furious = sum(doc[(doc[:,5]!=0) & (doc[:,0]!=1)][:,5]) / sum(doc[doc[:,0]!=1][:,8]) \n",
        "\n",
        "# P(fun=1|action=1)\n",
        "p_action_fun = sum( doc[(doc[:,4]!=0) & (doc[:,0]!=1)][:,4]) / sum(doc[doc[:,0]!=1][:,8])"
      ],
      "execution_count": null,
      "outputs": []
    },
    {
      "cell_type": "code",
      "metadata": {
        "id": "qZlOkRG7up23",
        "colab": {
          "base_uri": "https://localhost:8080/"
        },
        "outputId": "95bd2e47-487f-4112-d669-f62f845a333f"
      },
      "source": [
        "print('p_action_fast : ' , p_action_fast)\n",
        "print('p_action_furious : ' , p_action_furious)\n",
        "print('p_action_fun : ' , p_action_fun)  "
      ],
      "execution_count": null,
      "outputs": [
        {
          "output_type": "stream",
          "text": [
            "p_action_fast :  0.18181818181818182\n",
            "p_action_furious :  0.18181818181818182\n",
            "p_action_fun :  0.09090909090909091\n"
          ],
          "name": "stdout"
        }
      ]
    },
    {
      "cell_type": "markdown",
      "metadata": {
        "id": "sts9BLUeup23"
      },
      "source": [
        "#### P(Y = comedy| X = fast, furious, fun) , P(Y = action=1| X = fast, furious, fun) 값 계산하기"
      ]
    },
    {
      "cell_type": "markdown",
      "metadata": {
        "id": "RJZgPiC-gNkL"
      },
      "source": [
        "베이즈 정리 / 조건부 독립 공식 -> 분모를 직접 구하지 않고 오직 곱셈만을 이용해 다음의 값을 구함"
      ]
    },
    {
      "cell_type": "code",
      "metadata": {
        "id": "sVl-vZv4up23"
      },
      "source": [
        "#P(Y = comedy| X = fast, furious, fun)\n",
        "proba_comedy = p_comedy*p_comedy_fast*p_comedy_furious*p_comedy_fun\n",
        "\n",
        "#P(Y = action=1| X = fast, furious, fun)\n",
        "proba_action = p_action*p_action_fast*p_action_furious*p_action_fun"
      ],
      "execution_count": null,
      "outputs": []
    },
    {
      "cell_type": "code",
      "metadata": {
        "id": "dU21-UF6up24",
        "colab": {
          "base_uri": "https://localhost:8080/"
        },
        "outputId": "ee374563-d1b8-4762-eeda-1d5964cb43b2"
      },
      "source": [
        "print('proba_comedy', proba_comedy)\n",
        "print('proba_action', proba_action)"
      ],
      "execution_count": null,
      "outputs": [
        {
          "output_type": "stream",
          "text": [
            "proba_comedy 0.0\n",
            "proba_action 0.001803155522163787\n"
          ],
          "name": "stdout"
        }
      ]
    },
    {
      "cell_type": "markdown",
      "metadata": {
        "id": "ypxC3cfrup24"
      },
      "source": [
        "### step 8. 다음 값을 비교해봅시다.\n",
        "1. P(Y = comedy| X = fast, furious, fun)\n",
        "2. P(Y = action=1| X = fast, furious, fun)\n",
        "\n",
        "\n",
        "Q7. 어떤 문제점을 발견할수 있나요? 문제점을 해결하기 위한 방법으로는 어떤게 있을까요?\n",
        "- A.<br>\n",
        "문제점 : p_comedy_furious = 0으로 곱셈을 취하여 proba_comedy을 구하면 proba_comedy값 또한 0이 됨<br>\n",
        "해결법 : `라플라스 스무딩` : 가능성(likelihood)가 0이 되는 것을 방지하고자 최소한의 확률을 정함<br>-> 분자 : 1 더하기 <br> ->분모 : 입력 변수들의 갯수 더하기 (관찰한 단어 갯수)"
      ]
    },
    {
      "cell_type": "code",
      "metadata": {
        "id": "-gQ0tdn_i4-W"
      },
      "source": [
        "v=(len(doc[0])-2) #입력한 변수들의 갯수 \r\n",
        "\r\n",
        "# P(fast=1|comedy=1)\r\n",
        "p_comedy_fast_2 = (sum(doc[(doc[:,2]!=0) &(doc[:,0]!=0)][:,2])+1) / (sum(doc[doc[:,0]!=0][:,8])+v)\r\n",
        "\r\n",
        "# P(furious=1|comedy=1)\r\n",
        "p_comedy_furious_2 = (sum(doc[(doc[:,5]!=0) & (doc[:,0]!=0)][:,5])+1) / (sum(doc[doc[:,0]!=0][:,8])+v)\r\n",
        "\r\n",
        "# P(fun=1|comedy=1)\r\n",
        "p_comedy_fun_2 = (sum( doc[(doc[:,4]!=0) & (doc[:,0]!=0)][:,4])+1) / (sum(doc[doc[:,0]!=0][:,8])+v)\r\n",
        "\r\n",
        "\r\n",
        "# P(fast=1|action=1)\r\n",
        "p_action_fast_2 = (sum(doc[(doc[:,2]!=0) &(doc[:,0]!=1)][:,2])+1) / (sum(doc[doc[:,0]!=1][:,8])+v)\r\n",
        "\r\n",
        "# P(furious=1|action=1)\r\n",
        "p_action_furious_2 = (sum(doc[(doc[:,5]!=0) & (doc[:,0]!=1)][:,5])+1) / (sum(doc[doc[:,0]!=1][:,8])+v)\r\n",
        "\r\n",
        "# P(fun=1|action=1)\r\n",
        "p_action_fun_2 = (sum( doc[(doc[:,4]!=0) & (doc[:,0]!=1)][:,4])+1) / (sum(doc[doc[:,0]!=1][:,8])+v)"
      ],
      "execution_count": null,
      "outputs": []
    },
    {
      "cell_type": "code",
      "metadata": {
        "id": "dGedereivuQF"
      },
      "source": [
        "#P(Y = comedy| X = fast, furious, fun)\r\n",
        "proba_comedy_2 = p_comedy*p_comedy_fast_2*p_comedy_furious_2*p_comedy_fun_2\r\n",
        "#P(Y = action=1| X = fast, furious, fun)\r\n",
        "proba_action_2 = p_action*p_action_fast_2*p_action_furious_2*p_action_fun_2"
      ],
      "execution_count": null,
      "outputs": []
    },
    {
      "cell_type": "code",
      "metadata": {
        "colab": {
          "base_uri": "https://localhost:8080/"
        },
        "id": "8yeli_uzv4nP",
        "outputId": "23a471f3-ef6f-48b9-97c0-89cb8f1e55a8"
      },
      "source": [
        "print('proba_comedy', proba_comedy_2)\r\n",
        "print('proba_action', proba_action_2)"
      ],
      "execution_count": null,
      "outputs": [
        {
          "output_type": "stream",
          "text": [
            "proba_comedy 0.00078125\n",
            "proba_action 0.0018518518518518513\n"
          ],
          "name": "stdout"
        }
      ]
    },
    {
      "cell_type": "markdown",
      "metadata": {
        "id": "xt7jZNb7hpkL"
      },
      "source": [
        "proba_action > proba_comedy<br>fast, furious, fun이 주요단어로 포함된 경우 action으로 분류될 가능성이 높음"
      ]
    },
    {
      "cell_type": "code",
      "metadata": {
        "id": "RZzhX4QjiAJk"
      },
      "source": [
        ""
      ],
      "execution_count": null,
      "outputs": []
    }
  ]
}
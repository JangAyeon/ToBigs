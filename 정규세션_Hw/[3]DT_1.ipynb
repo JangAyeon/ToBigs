{
  "nbformat": 4,
  "nbformat_minor": 0,
  "metadata": {
    "kernelspec": {
      "display_name": "Python 3",
      "language": "python",
      "name": "python3"
    },
    "language_info": {
      "codemirror_mode": {
        "name": "ipython",
        "version": 3
      },
      "file_extension": ".py",
      "mimetype": "text/x-python",
      "name": "python",
      "nbconvert_exporter": "python",
      "pygments_lexer": "ipython3",
      "version": "3.7.3"
    },
    "colab": {
      "name": "[3]DT_1.ipynb",
      "provenance": [],
      "collapsed_sections": []
    }
  },
  "cells": [
    {
      "cell_type": "markdown",
      "metadata": {
        "id": "glUeujPcDeH5"
      },
      "source": [
        "# DT Assignment1"
      ]
    },
    {
      "cell_type": "markdown",
      "metadata": {
        "id": "u7pg-GbuDeH7"
      },
      "source": [
        "# Data Loading"
      ]
    },
    {
      "cell_type": "code",
      "metadata": {
        "id": "PQwaXpOlDeH7"
      },
      "source": [
        "import pandas as pd \n",
        "import numpy as np\n",
        "import warnings\n",
        "warnings.filterwarnings(action='ignore')\n",
        "\n"
      ],
      "execution_count": null,
      "outputs": []
    },
    {
      "cell_type": "code",
      "metadata": {
        "colab": {
          "base_uri": "https://localhost:8080/",
          "height": 473
        },
        "id": "UrbXegAVDeH8",
        "outputId": "e34c817f-af01-4567-ae06-03b1f5fa145a"
      },
      "source": [
        "pd_data = pd.read_csv('https://raw.githubusercontent.com/AugustLONG/ML01/master/01decisiontree/AllElectronics.csv')\n",
        "pd_data.drop(\"RID\",axis=1, inplace = True) #RID는 그냥 순서라서 삭제\n",
        "pd_data"
      ],
      "execution_count": null,
      "outputs": [
        {
          "output_type": "execute_result",
          "data": {
            "text/html": [
              "<div>\n",
              "<style scoped>\n",
              "    .dataframe tbody tr th:only-of-type {\n",
              "        vertical-align: middle;\n",
              "    }\n",
              "\n",
              "    .dataframe tbody tr th {\n",
              "        vertical-align: top;\n",
              "    }\n",
              "\n",
              "    .dataframe thead th {\n",
              "        text-align: right;\n",
              "    }\n",
              "</style>\n",
              "<table border=\"1\" class=\"dataframe\">\n",
              "  <thead>\n",
              "    <tr style=\"text-align: right;\">\n",
              "      <th></th>\n",
              "      <th>age</th>\n",
              "      <th>income</th>\n",
              "      <th>student</th>\n",
              "      <th>credit_rating</th>\n",
              "      <th>class_buys_computer</th>\n",
              "    </tr>\n",
              "  </thead>\n",
              "  <tbody>\n",
              "    <tr>\n",
              "      <th>0</th>\n",
              "      <td>youth</td>\n",
              "      <td>high</td>\n",
              "      <td>no</td>\n",
              "      <td>fair</td>\n",
              "      <td>no</td>\n",
              "    </tr>\n",
              "    <tr>\n",
              "      <th>1</th>\n",
              "      <td>youth</td>\n",
              "      <td>high</td>\n",
              "      <td>no</td>\n",
              "      <td>excellent</td>\n",
              "      <td>no</td>\n",
              "    </tr>\n",
              "    <tr>\n",
              "      <th>2</th>\n",
              "      <td>middle_aged</td>\n",
              "      <td>high</td>\n",
              "      <td>no</td>\n",
              "      <td>fair</td>\n",
              "      <td>yes</td>\n",
              "    </tr>\n",
              "    <tr>\n",
              "      <th>3</th>\n",
              "      <td>senior</td>\n",
              "      <td>medium</td>\n",
              "      <td>no</td>\n",
              "      <td>fair</td>\n",
              "      <td>yes</td>\n",
              "    </tr>\n",
              "    <tr>\n",
              "      <th>4</th>\n",
              "      <td>senior</td>\n",
              "      <td>low</td>\n",
              "      <td>yes</td>\n",
              "      <td>fair</td>\n",
              "      <td>yes</td>\n",
              "    </tr>\n",
              "    <tr>\n",
              "      <th>5</th>\n",
              "      <td>senior</td>\n",
              "      <td>low</td>\n",
              "      <td>yes</td>\n",
              "      <td>excellent</td>\n",
              "      <td>no</td>\n",
              "    </tr>\n",
              "    <tr>\n",
              "      <th>6</th>\n",
              "      <td>middle_aged</td>\n",
              "      <td>low</td>\n",
              "      <td>yes</td>\n",
              "      <td>excellent</td>\n",
              "      <td>yes</td>\n",
              "    </tr>\n",
              "    <tr>\n",
              "      <th>7</th>\n",
              "      <td>youth</td>\n",
              "      <td>medium</td>\n",
              "      <td>no</td>\n",
              "      <td>fair</td>\n",
              "      <td>no</td>\n",
              "    </tr>\n",
              "    <tr>\n",
              "      <th>8</th>\n",
              "      <td>youth</td>\n",
              "      <td>low</td>\n",
              "      <td>yes</td>\n",
              "      <td>fair</td>\n",
              "      <td>yes</td>\n",
              "    </tr>\n",
              "    <tr>\n",
              "      <th>9</th>\n",
              "      <td>senior</td>\n",
              "      <td>medium</td>\n",
              "      <td>yes</td>\n",
              "      <td>fair</td>\n",
              "      <td>yes</td>\n",
              "    </tr>\n",
              "    <tr>\n",
              "      <th>10</th>\n",
              "      <td>youth</td>\n",
              "      <td>medium</td>\n",
              "      <td>yes</td>\n",
              "      <td>excellent</td>\n",
              "      <td>yes</td>\n",
              "    </tr>\n",
              "    <tr>\n",
              "      <th>11</th>\n",
              "      <td>middle_aged</td>\n",
              "      <td>medium</td>\n",
              "      <td>no</td>\n",
              "      <td>excellent</td>\n",
              "      <td>yes</td>\n",
              "    </tr>\n",
              "    <tr>\n",
              "      <th>12</th>\n",
              "      <td>middle_aged</td>\n",
              "      <td>high</td>\n",
              "      <td>yes</td>\n",
              "      <td>fair</td>\n",
              "      <td>yes</td>\n",
              "    </tr>\n",
              "    <tr>\n",
              "      <th>13</th>\n",
              "      <td>senior</td>\n",
              "      <td>medium</td>\n",
              "      <td>no</td>\n",
              "      <td>excellent</td>\n",
              "      <td>no</td>\n",
              "    </tr>\n",
              "  </tbody>\n",
              "</table>\n",
              "</div>"
            ],
            "text/plain": [
              "            age  income student credit_rating class_buys_computer\n",
              "0         youth    high      no          fair                  no\n",
              "1         youth    high      no     excellent                  no\n",
              "2   middle_aged    high      no          fair                 yes\n",
              "3        senior  medium      no          fair                 yes\n",
              "4        senior     low     yes          fair                 yes\n",
              "5        senior     low     yes     excellent                  no\n",
              "6   middle_aged     low     yes     excellent                 yes\n",
              "7         youth  medium      no          fair                  no\n",
              "8         youth     low     yes          fair                 yes\n",
              "9        senior  medium     yes          fair                 yes\n",
              "10        youth  medium     yes     excellent                 yes\n",
              "11  middle_aged  medium      no     excellent                 yes\n",
              "12  middle_aged    high     yes          fair                 yes\n",
              "13       senior  medium      no     excellent                  no"
            ]
          },
          "metadata": {
            "tags": []
          },
          "execution_count": 2
        }
      ]
    },
    {
      "cell_type": "markdown",
      "metadata": {
        "id": "NmizXzRFDeH9"
      },
      "source": [
        "# 1. Gini 계수를 구하는 함수 만들기"
      ]
    },
    {
      "cell_type": "markdown",
      "metadata": {
        "id": "m16gyvoPDeH9"
      },
      "source": [
        "- Input: df(데이터), label(타겟변수명)\n",
        "- 해당 결과는 아래와 같이 나와야 합니다."
      ]
    },
    {
      "cell_type": "code",
      "metadata": {
        "id": "simxokniDeH-"
      },
      "source": [
        "def get_gini(df, label):\n",
        "    p_y=len(df[df[label]=='yes'])/len(df[label])  #타켓변수의 값이 yes인 것의 확률\n",
        "    p_n = 1- p_y  #타켓변수의 값이 no인 것의 확률\n",
        "    \n",
        "    gini=1-p_y**2-p_n**2 #각각의 확률을 제곱해서 1에서 빼주면 gini 계수가 나옴\n",
        "    return gini    "
      ],
      "execution_count": null,
      "outputs": []
    },
    {
      "cell_type": "code",
      "metadata": {
        "colab": {
          "base_uri": "https://localhost:8080/"
        },
        "id": "20mLYF7CDeH-",
        "outputId": "1e352127-6617-43fb-ff18-901f8ffbcbce"
      },
      "source": [
        "get_gini(pd_data,'class_buys_computer')"
      ],
      "execution_count": null,
      "outputs": [
        {
          "output_type": "execute_result",
          "data": {
            "text/plain": [
              "0.4591836734693877"
            ]
          },
          "metadata": {
            "tags": []
          },
          "execution_count": 7
        }
      ]
    },
    {
      "cell_type": "markdown",
      "metadata": {
        "id": "WBhLh9wNDeH-"
      },
      "source": [
        "# 2. Feature의 Class를 이진 분류로 만들기\n",
        " ## ex) {A,B,C} -> ({A}, {B,C}), ({B}, {A,C}), ({C}, {A,B})"
      ]
    },
    {
      "cell_type": "markdown",
      "metadata": {
        "id": "QV6VSxgcDeH_"
      },
      "source": [
        "- Input: df(데이터), attribute(Gini index를 구하고자 하는 변수명)\n",
        "- 해당 결과는 아래와 같이 나와야 합니다."
      ]
    },
    {
      "cell_type": "code",
      "metadata": {
        "id": "FMU-QCVeDeH_"
      },
      "source": [
        "from itertools import combinations\n",
        "\n",
        "def get_binary_split(df, attribute):\n",
        "  attri_class=df[attribute].unique() #feature에 있는 class를 리스트로 받음\n",
        "  result=[] #이진분류를 담을 리스트\n",
        "\n",
        "  for i in range (1,len(attri_class)): #for문을 class의 갯수만큼 반복\n",
        "\n",
        "    for j in combinations(attri_class,i): #1개, 2개 ~~ class갯수 -1개의 class 조합을 구함\n",
        "\n",
        "      result+=[list(j)] 그 조합을 이진분류를 담는 리스트에 추가\n",
        "  return result"
      ],
      "execution_count": null,
      "outputs": []
    },
    {
      "cell_type": "code",
      "metadata": {
        "colab": {
          "base_uri": "https://localhost:8080/"
        },
        "id": "fHI252qNDeIA",
        "outputId": "888c8692-4f49-4ed4-c655-cc706af21561"
      },
      "source": [
        "get_binary_split(pd_data,\"age\")"
      ],
      "execution_count": null,
      "outputs": [
        {
          "output_type": "execute_result",
          "data": {
            "text/plain": [
              "[['youth'],\n",
              " ['middle_aged'],\n",
              " ['senior'],\n",
              " ['youth', 'middle_aged'],\n",
              " ['youth', 'senior'],\n",
              " ['middle_aged', 'senior']]"
            ]
          },
          "metadata": {
            "tags": []
          },
          "execution_count": 10
        }
      ]
    },
    {
      "cell_type": "markdown",
      "metadata": {
        "id": "tqLAXhP2DeIA"
      },
      "source": [
        "# 3. 다음은 모든 이진분류의 경우의 Gini index를 구하는 함수 만들기\n",
        "- 위에서 완성한 두 함수를 사용하여 만들어주세요!\n",
        "- 해당 결과는 아래와 같이 나와야 합니다."
      ]
    },
    {
      "cell_type": "code",
      "metadata": {
        "id": "vVJdeeglTLiZ"
      },
      "source": [
        "\r\n",
        "def get_attribute_gini_index(df, attribute, label):\r\n",
        "  total_split=get_binary_split(df,attribute) #total_split에 해당 attribute의 이진분류 할당\r\n",
        "  result={} #feature에 class당 gini index를 저장\r\n",
        "\r\n",
        "  for key in total_split: #for문을 돌면서 이진분류를 하나씩 할당해 gini index를 구함\r\n",
        "\r\n",
        "    true_df=df[df[attribute].isin(key)] #atrribute에 할당된 이진분류에 속한 class가 있는 df를 할당\r\n",
        "    false_df=df[~df[attribute].isin(key)] #atrribute에 할당된 이진분류에 속하지 않은 class가 있는 df를 할당\r\n",
        "    gini=(len(true_df)/len(df)*(get_gini(true_df,label)))+(len(false_df) /len(df)*(get_gini(false_df,label)))\r\n",
        "    #할당된 이진분류에 속한 것의 gini index와 전체에서 비율을 곱함 + 할당된 이진분류에 속하지 않은 것의 gini index와 전체에서 비율을 곱함\r\n",
        "\r\n",
        "    result['_'.join(key)]=gini\r\n",
        "    #해당 값과 할당되었던 이진분류를 딕셔너리 형태로 저장\r\n",
        "\r\n",
        "  return result\r\n"
      ],
      "execution_count": null,
      "outputs": []
    },
    {
      "cell_type": "code",
      "metadata": {
        "colab": {
          "base_uri": "https://localhost:8080/"
        },
        "id": "hE5Em-JoDeIB",
        "outputId": "c559e89f-51d5-4eac-ce6d-e6155c2571ac"
      },
      "source": [
        "get_attribute_gini_index(pd_data, \"age\", \"class_buys_computer\")"
      ],
      "execution_count": null,
      "outputs": [
        {
          "output_type": "execute_result",
          "data": {
            "text/plain": [
              "{'middle_aged': 0.35714285714285715,\n",
              " 'middle_aged_senior': 0.3936507936507937,\n",
              " 'senior': 0.45714285714285713,\n",
              " 'youth': 0.3936507936507937,\n",
              " 'youth_middle_aged': 0.45714285714285713,\n",
              " 'youth_senior': 0.35714285714285715}"
            ]
          },
          "metadata": {
            "tags": []
          },
          "execution_count": 41
        }
      ]
    },
    {
      "cell_type": "markdown",
      "metadata": {
        "id": "AHtZ-MVkDeIB"
      },
      "source": [
        "여기서 가장 작은 Gini index값을 가지는 class를 기준으로 split해야겠죠?"
      ]
    },
    {
      "cell_type": "code",
      "metadata": {
        "colab": {
          "base_uri": "https://localhost:8080/"
        },
        "id": "elhpvOKyDeIB",
        "outputId": "59c91f6b-eecb-456c-e2a3-5632a3682262"
      },
      "source": [
        "min(get_attribute_gini_index(pd_data, \"age\", \"class_buys_computer\").items())"
      ],
      "execution_count": null,
      "outputs": [
        {
          "output_type": "execute_result",
          "data": {
            "text/plain": [
              "('middle_aged', 0.35714285714285715)"
            ]
          },
          "metadata": {
            "tags": []
          },
          "execution_count": 14
        }
      ]
    },
    {
      "cell_type": "markdown",
      "metadata": {
        "id": "qhWvJWP-DeIC"
      },
      "source": [
        "# 다음의 문제를 위에서 작성한 함수를 통해 구한 값으로 보여주세요!\n",
        "## 문제1) 변수 ‘income’의 이진분류 결과를 보여주세요.\n",
        "\n",
        "## 문제2) 분류를 하는 데 가장 중요한 변수를 선정하고, 해당 변수의 Gini index를 제시해주세요.\n",
        "\n",
        "## 문제3) 문제 2에서 제시한 feature로 DataFrame을 split한 후 나눠진 2개의 DataFrame에서 각각   다음으로 중요한 변수를 선정하고 해당 변수의 Gini index를 제시해주세요."
      ]
    },
    {
      "cell_type": "code",
      "metadata": {
        "colab": {
          "base_uri": "https://localhost:8080/"
        },
        "id": "LI-CY992DeIC",
        "outputId": "55a6047b-1973-43a1-a4d3-066cdafc80e8"
      },
      "source": [
        "##문제1 답안\n",
        "get_binary_split(pd_data, \"income\")"
      ],
      "execution_count": null,
      "outputs": [
        {
          "output_type": "execute_result",
          "data": {
            "text/plain": [
              "[['high'],\n",
              " ['medium'],\n",
              " ['low'],\n",
              " ['high', 'medium'],\n",
              " ['high', 'low'],\n",
              " ['medium', 'low']]"
            ]
          },
          "metadata": {
            "tags": []
          },
          "execution_count": 15
        }
      ]
    },
    {
      "cell_type": "code",
      "metadata": {
        "id": "1BN3ReN466GS"
      },
      "source": [
        "\r\n",
        "\r\n",
        "def get_feature(df, target):\r\n",
        "    gini_dict={} #attribution의 가장 작은 gini index를 구해서 딕셔너리 저장\r\n",
        "    variables = df.columns[df.columns != target]\r\n",
        "    results = [] #모든 attribution에 대한 gini index 담음\r\n",
        "    for var in variables: #타켓변수 제외한 모든 attribution에 대하여 \r\n",
        "        gini_var = get_attribute_gini_index(df, var, target) #해당 attribution에 이진분류에 따른 각각의 gini index 저장\r\n",
        "        \r\n",
        "        if gini_var!=\"\": #해당 attribution의 이진분류에 대한 gini index가 존재하는 경우\r\n",
        "          \r\n",
        "          gini_dict[min(gini_var.keys())]=min(gini_var.values()) #해당 attribution에 대한 gini index 중 가장 작은 값을 골라 할당함\r\n",
        "          results.append([gini_dict[min(gini_var.keys())],min(gini_var.keys()),var]) #여기에도 attribution, 해당 이진분류값, gini index를 리스트로 저장\r\n",
        "    results.sort() #정렬\r\n",
        "    return min(results) #가장 작은 값 반환\r\n"
      ],
      "execution_count": null,
      "outputs": []
    },
    {
      "cell_type": "code",
      "metadata": {
        "colab": {
          "base_uri": "https://localhost:8080/"
        },
        "id": "9na7dTl5rYXf",
        "outputId": "8285e91c-9bb7-4637-bcf2-f2a0db79aa21"
      },
      "source": [
        "get_feature(pd_data,\"class_buys_computer\")"
      ],
      "execution_count": null,
      "outputs": [
        {
          "output_type": "execute_result",
          "data": {
            "text/plain": [
              "[0.35714285714285715, 'middle_aged', 'age']"
            ]
          },
          "metadata": {
            "tags": []
          },
          "execution_count": 43
        }
      ]
    },
    {
      "cell_type": "code",
      "metadata": {
        "id": "NnSnoVeNDeIC"
      },
      "source": [
        "##문제3 답안\n",
        "\n",
        "def split_gini(pd,target):\n",
        "  split=get_feature(pd,target) #한번 binary split 실시한 결과 할당받음\n",
        "\n",
        "  split_gini,split_class,split_var=split[0],split[1],split[2] #gini index값,해당 이진분류,attribution까지 차례로 할당\n",
        "\n",
        "  true_df=pd_data[pd_data[split_var]==split_class] #attribution에 그 이진분류(class)값들이 있는 df\n",
        "  false_df=pd_data[pd_data[split_var]!=split_class]#attribution에 그 이진분류(class)값들이 없는 df\n",
        "  true_df.drop(split_var,axis=1,inplace=True) #원할한 gini index 계산을 위해 그 attribution column은 삭제\n",
        "  false_df.drop(split_var,axis=1,inplace=True) #\n",
        "\n",
        "\n",
        "  print(split_class,\":\",get_feature(true_df,target))\n",
        "  print(\"not\",split_class,\":\",get_feature(false_df,target))\n",
        "  "
      ],
      "execution_count": null,
      "outputs": []
    },
    {
      "cell_type": "code",
      "metadata": {
        "colab": {
          "base_uri": "https://localhost:8080/"
        },
        "id": "NGtPHIr7vel-",
        "outputId": "ce08bde8-55de-4714-ec94-e4cc75f85746"
      },
      "source": [
        "split_gini(pd_data,\"class_buys_computer\")"
      ],
      "execution_count": null,
      "outputs": [
        {
          "output_type": "stream",
          "text": [
            "middle_aged : [0.0, 'excellent', 'credit_rating']\n",
            "not middle_aged : [0.31999999999999984, 'no', 'student']\n"
          ],
          "name": "stdout"
        }
      ]
    }
  ]
}
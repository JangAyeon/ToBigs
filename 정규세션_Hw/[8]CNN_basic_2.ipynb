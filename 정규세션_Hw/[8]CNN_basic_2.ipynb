{
  "nbformat": 4,
  "nbformat_minor": 0,
  "metadata": {
    "colab": {
      "name": "[8]CNN_basic_2.ipynb",
      "provenance": [],
      "collapsed_sections": []
    },
    "kernelspec": {
      "display_name": "Python 3",
      "language": "python",
      "name": "python3"
    },
    "language_info": {
      "codemirror_mode": {
        "name": "ipython",
        "version": 3
      },
      "file_extension": ".py",
      "mimetype": "text/x-python",
      "name": "python",
      "nbconvert_exporter": "python",
      "pygments_lexer": "ipython3",
      "version": "3.8.5"
    }
  },
  "cells": [
    {
      "cell_type": "markdown",
      "metadata": {
        "id": "N1DbkY70-hcB"
      },
      "source": [
        "# CNNbasic Assignment#2\n",
        "\n",
        "# AlexNet 구현\n",
        "\n",
        "모델 구현 후 summary로 전체 모델 구조 출력과 주석으로 간단한 설명을 달아주시면 됩니다.\n",
        "\n",
        "프레임워크는 자유이고, 기본 tensforflow와 pytorch tutorial 사이트를 아래에 첨부해 드립니다.\n",
        "\n",
        "이 외 각 프레임워크 별 summary 등 추가적인 사용 방법은 구글링으로 찾아주세요!-!\n",
        "\n",
        "- Tensorflow Tutorial: https://www.tensorflow.org/tutorials?hl=ko\n",
        "\n",
        "- Pytorch Tutorial: https://tutorials.pytorch.kr/\n",
        "\n",
        "![image-2.png](attachment:image-2.png)"
      ]
    },
    {
      "cell_type": "markdown",
      "metadata": {
        "id": "0yGHLrFU8JkW"
      },
      "source": [
        "## Tensorflow(keras)"
      ]
    },
    {
      "cell_type": "code",
      "metadata": {
        "colab": {
          "base_uri": "https://localhost:8080/"
        },
        "id": "68kj2zUP80f0",
        "outputId": "2c8299d3-f8c3-47df-f495-fd2a0ec0689c"
      },
      "source": [
        "\n",
        "from tensorflow.keras.models import *\n",
        "from tensorflow.keras.layers import *\n",
        "import tensorflow\n",
        "n_classes = 1000 # class 개수\n",
        "\n",
        "model=Sequential()\n",
        "\n",
        "############## Add Layer ##############\n",
        "\n",
        "#계층 1\n",
        "#11 * 11 필터를 96개, strides=4, 활성화 함수 = relu\n",
        "model.add(Conv2D(96,(11,11),strides=4,padding=\"same\",input_shape=(227,227,3))) \n",
        "#입력 데이터 227 * 227, pooling layer 3 * 3\n",
        "model.add(MaxPooling2D(pool_size=(3,3),strides=2)) \n",
        "\n",
        "\n",
        "#계층2\n",
        "#5 * 5 필터를 256개, strides=1, 활성화 함수 = relu \n",
        "model.add(Conv2D(256,(5,5),activation=\"relu\",strides=1,padding=\"same\")) \n",
        "model.add(Lambda(tensorflow.nn.local_response_normalization))\n",
        "#pooling layer 3 * 3\n",
        "model.add(MaxPooling2D(pool_size=(3,3),strides=2)) \n",
        "\n",
        "\n",
        "#계층3\n",
        "#3 * 3 필터를 384개, strides=1, 활성화함수 = relu\n",
        "model.add(Conv2D(384,(3,3),activation=\"relu\",strides=1,padding=\"same\")) \n",
        "model.add(Lambda(tensorflow.nn.local_response_normalization))\n",
        "\n",
        "#계층4\n",
        "#3 * 3 필터를 384개, strides=1, 활성화함수 = relu\n",
        "model.add(Conv2D(384,(3,3),activation=\"relu\",strides=1,padding=\"same\")) \n",
        "\n",
        "#계층5\n",
        "#3 * 3 필터를 256개, strides=1, 활성화함수 = relu\n",
        "model.add(Conv2D(256,(3,3),activation=\"relu\",strides=1,padding=\"same\")) \n",
        "#pooling layer 3 * 3\n",
        "model.add(MaxPooling2D(pool_size=(3,3),strides=2)) \n",
        "\n",
        "#1차원 배열로 바꾸기\n",
        "model.add(Flatten())\n",
        "\n",
        "#계층6\n",
        "#4096개 뉴런, 활성화함수 = relu\n",
        "model.add(Dense(4096,activation=\"relu\"))\n",
        "model.add(Dropout(0,5))\n",
        "\n",
        "#계층7\n",
        "#4096개 뉴런, 활성화함수 = relu\n",
        "model.add(Dense(4096,activation=\"relu\"))\n",
        "model.add(Dropout(0,5))\n",
        "\n",
        "#계층8\n",
        "#1000개 뉴런, 활성화함수 = softmax\n",
        "model.add(Dense(1000,activation=\"softmax\"))\n",
        "#######################################\n",
        "\n",
        "opt = tensorflow.keras.optimizers.SGD(lr=0.01, decay=5e-5, momentum=0.9)\n",
        "model.compile(loss=\"categorical_crossentropy\", optimizer=opt, metrics=[\"accuracy\"])\n",
        "# keras summary\n",
        "model.summary() # summary code 추가"
      ],
      "execution_count": 11,
      "outputs": [
        {
          "output_type": "stream",
          "text": [
            "Model: \"sequential_9\"\n",
            "_________________________________________________________________\n",
            "Layer (type)                 Output Shape              Param #   \n",
            "=================================================================\n",
            "conv2d_36 (Conv2D)           (None, 57, 57, 96)        34944     \n",
            "_________________________________________________________________\n",
            "max_pooling2d_25 (MaxPooling (None, 28, 28, 96)        0         \n",
            "_________________________________________________________________\n",
            "conv2d_37 (Conv2D)           (None, 28, 28, 256)       614656    \n",
            "_________________________________________________________________\n",
            "lambda_9 (Lambda)            (None, 28, 28, 256)       0         \n",
            "_________________________________________________________________\n",
            "max_pooling2d_26 (MaxPooling (None, 13, 13, 256)       0         \n",
            "_________________________________________________________________\n",
            "conv2d_38 (Conv2D)           (None, 13, 13, 384)       885120    \n",
            "_________________________________________________________________\n",
            "lambda_10 (Lambda)           (None, 13, 13, 384)       0         \n",
            "_________________________________________________________________\n",
            "conv2d_39 (Conv2D)           (None, 13, 13, 384)       1327488   \n",
            "_________________________________________________________________\n",
            "conv2d_40 (Conv2D)           (None, 13, 13, 256)       884992    \n",
            "_________________________________________________________________\n",
            "max_pooling2d_27 (MaxPooling (None, 6, 6, 256)         0         \n",
            "_________________________________________________________________\n",
            "flatten_7 (Flatten)          (None, 9216)              0         \n",
            "_________________________________________________________________\n",
            "dense_21 (Dense)             (None, 4096)              37752832  \n",
            "_________________________________________________________________\n",
            "dropout_14 (Dropout)         (None, 4096)              0         \n",
            "_________________________________________________________________\n",
            "dense_22 (Dense)             (None, 4096)              16781312  \n",
            "_________________________________________________________________\n",
            "dropout_15 (Dropout)         (None, 4096)              0         \n",
            "_________________________________________________________________\n",
            "dense_23 (Dense)             (None, 1000)              4097000   \n",
            "=================================================================\n",
            "Total params: 62,378,344\n",
            "Trainable params: 62,378,344\n",
            "Non-trainable params: 0\n",
            "_________________________________________________________________\n"
          ],
          "name": "stdout"
        }
      ]
    },
    {
      "cell_type": "markdown",
      "metadata": {
        "id": "urleB2cT-c0i"
      },
      "source": [
        "\n",
        "## Pytorch\n",
        "![image.png](data:image/png;base64,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)"
      ]
    },
    {
      "cell_type": "code",
      "metadata": {
        "colab": {
          "base_uri": "https://localhost:8080/"
        },
        "id": "rPXCVbu799Rq",
        "scrolled": false,
        "outputId": "2d10cecd-0e83-4b07-9d98-0f028065bca8"
      },
      "source": [
        "import torch\n",
        "import torchvision\n",
        "import torch.nn as nn\n",
        "import torch.nn.functional as F\n",
        "from torchsummary import summary\n",
        "\n",
        "\n",
        "class AlexNet(nn.Module):\n",
        "\n",
        "    def __init__(self, n_classes=1000):\n",
        "        super(AlexNet, self).__init__()\n",
        "        self.feature_extract = nn.Sequential(\n",
        "            nn.Conv2d(3, 96, kernel_size=11, stride=4, padding=0),\n",
        "            nn.ReLU(inplace=True),\n",
        "            nn.LocalResponseNorm(size=5, alpha=0.0001, beta=0.75),\n",
        "\n",
        "            nn.MaxPool2d(kernel_size=3,stride=2),\n",
        "\n",
        "            nn.Conv2d(96, 256, kernel_size=5,stride=1, padding=2),\n",
        "            nn.ReLU(inplace=True),\n",
        "            nn.LocalResponseNorm(size=5, alpha=0.0001, beta=0.75),\n",
        "\n",
        "            nn.MaxPool2d(kernel_size=3,stride=2),\n",
        "\n",
        "            nn.Conv2d(256, 384, kernel_size=3, stride=1,padding=1),\n",
        "            nn.ReLU(inplace=True),\n",
        "\n",
        "            nn.Conv2d(384, 384, kernel_size=3, stride=1, padding=1),\n",
        "            nn.ReLU(inplace=True),\n",
        "\n",
        "            nn.Conv2d(384, 256, kernel_size=3, stride=1, padding=1),\n",
        "            nn.ReLU(inplace=True),\n",
        "\n",
        "            nn.MaxPool2d(kernel_size=3, stride=2)\n",
        "        )\n",
        "        self.flatten = nn.Sequential(\n",
        "            nn.Dropout(),\n",
        "            nn.Linear(256 * 6 * 6, 4096),\n",
        "            nn.ReLU(inplace=True),\n",
        "            \n",
        "            ## [Layer 10] Fully Connected Layer\n",
        "            nn.Dropout(),\n",
        "            nn.Linear(4096, 4096),\n",
        "            nn.ReLU(inplace=True),\n",
        "            \n",
        "            ## [Layer 11] Fully Connected Layer\n",
        "            nn.Linear(4096, n_classes),\n",
        "        )\n",
        "         \n",
        "        \n",
        "\n",
        "    def forward(self, x):\n",
        "\n",
        "      conv_layers=self.feature_extract(x)\n",
        "      flatten=conv_layers.view(conv_layers.size(0),-1)\n",
        "      result=self.flatten(flatten)\n",
        "        \n",
        "      return result\n",
        "\n",
        "\n",
        "# pytorch summary\n",
        "model=AlexNet()\n",
        "summary(model,input_size=(3,227,227)) # summary code 추가"
      ],
      "execution_count": 13,
      "outputs": [
        {
          "output_type": "stream",
          "text": [
            "----------------------------------------------------------------\n",
            "        Layer (type)               Output Shape         Param #\n",
            "================================================================\n",
            "            Conv2d-1           [-1, 96, 55, 55]          34,944\n",
            "              ReLU-2           [-1, 96, 55, 55]               0\n",
            " LocalResponseNorm-3           [-1, 96, 55, 55]               0\n",
            "         MaxPool2d-4           [-1, 96, 27, 27]               0\n",
            "            Conv2d-5          [-1, 256, 27, 27]         614,656\n",
            "              ReLU-6          [-1, 256, 27, 27]               0\n",
            " LocalResponseNorm-7          [-1, 256, 27, 27]               0\n",
            "         MaxPool2d-8          [-1, 256, 13, 13]               0\n",
            "            Conv2d-9          [-1, 384, 13, 13]         885,120\n",
            "             ReLU-10          [-1, 384, 13, 13]               0\n",
            "           Conv2d-11          [-1, 384, 13, 13]       1,327,488\n",
            "             ReLU-12          [-1, 384, 13, 13]               0\n",
            "           Conv2d-13          [-1, 256, 13, 13]         884,992\n",
            "             ReLU-14          [-1, 256, 13, 13]               0\n",
            "        MaxPool2d-15            [-1, 256, 6, 6]               0\n",
            "          Dropout-16                 [-1, 9216]               0\n",
            "           Linear-17                 [-1, 4096]      37,752,832\n",
            "             ReLU-18                 [-1, 4096]               0\n",
            "          Dropout-19                 [-1, 4096]               0\n",
            "           Linear-20                 [-1, 4096]      16,781,312\n",
            "             ReLU-21                 [-1, 4096]               0\n",
            "           Linear-22                 [-1, 1000]       4,097,000\n",
            "================================================================\n",
            "Total params: 62,378,344\n",
            "Trainable params: 62,378,344\n",
            "Non-trainable params: 0\n",
            "----------------------------------------------------------------\n",
            "Input size (MB): 0.59\n",
            "Forward/backward pass size (MB): 14.73\n",
            "Params size (MB): 237.95\n",
            "Estimated Total Size (MB): 253.27\n",
            "----------------------------------------------------------------\n"
          ],
          "name": "stdout"
        }
      ]
    },
    {
      "cell_type": "code",
      "metadata": {
        "id": "_OJSrWlGjLyf"
      },
      "source": [
        ""
      ],
      "execution_count": null,
      "outputs": []
    }
  ]
}
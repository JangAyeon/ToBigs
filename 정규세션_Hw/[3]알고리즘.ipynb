{
  "nbformat": 4,
  "nbformat_minor": 0,
  "metadata": {
    "colab": {
      "name": "[3]알고리즘.ipynb",
      "provenance": [],
      "authorship_tag": "ABX9TyM5dUawOvdwyGRglo/MCe9u",
      "include_colab_link": true
    },
    "kernelspec": {
      "name": "python3",
      "display_name": "Python 3"
    }
  },
  "cells": [
    {
      "cell_type": "markdown",
      "metadata": {
        "id": "view-in-github",
        "colab_type": "text"
      },
      "source": [
        "<a href=\"https://colab.research.google.com/github/JangAyeon/ToBigs/blob/master/%5B3%5D%EC%95%8C%EA%B3%A0%EB%A6%AC%EC%A6%98.ipynb\" target=\"_parent\"><img src=\"https://colab.research.google.com/assets/colab-badge.svg\" alt=\"Open In Colab\"/></a>"
      ]
    },
    {
      "cell_type": "code",
      "metadata": {
        "id": "hn7gliX77wkP"
      },
      "source": [
        "#1번\r\n",
        "\r\n",
        "n, c, f = map(int, input().split())\r\n",
        "\r\n",
        "full=[]\r\n",
        "for k in range(n):\r\n",
        "  full.append(int(input()))\r\n",
        "\r\n",
        "money=0 #최대 이윤 변수\r\n",
        "for j in range(max(full),1,-1): #for문 돌며 적절한 조각의 길이 완전 탐색 \r\n",
        "  sum=0 #이윤 변수\r\n",
        "  for i in range(n):\r\n",
        "    if (full[i]>=j):\r\n",
        "      piece=full[i]//j #조각 수 \r\n",
        "      \r\n",
        "      if (full[i]%j==0): #자르는 횟수\r\n",
        "        cut=full[i]//j-1\r\n",
        "      else:\r\n",
        "        cut=full[i]//j\r\n",
        "        \r\n",
        "      if (piece*j*f-cut*c>0): #이윤이 남는 경우 이윤의 총합에 더해줌 \r\n",
        "        sum+=piece*j*f-cut*c\r\n",
        "        \r\n",
        "  if sum>money: #현재 이윤이 지금까지의 최대 이윤 보다 큰 경우 현재 이윤을 최대 이윤으로 변경 \r\n",
        "    money=sum\r\n",
        "\r\n",
        "print(money)\r\n",
        "      "
      ],
      "execution_count": null,
      "outputs": []
    },
    {
      "cell_type": "code",
      "metadata": {
        "id": "2mORGXhX7ymj"
      },
      "source": [
        "#2번\r\n",
        "\r\n",
        "def move(loc,r,c,ip):\r\n",
        "    dx = [1,-1,0,0]\r\n",
        "    dy = [0,0,1,-1]\r\n",
        "    ip += board[r][c] #지금까지 있는 숫자열에 한자리 추가\r\n",
        "    if loc == 7: #8자리가 완성되면 result 배열에 추가\r\n",
        "        result.append(ip)\r\n",
        "        return\r\n",
        "    for i in range(4):\r\n",
        "        if 0 <= r+dx[i] < 4 and 0 <= c+dy[i] < 4: # 문자판 밖으로 나갔는 지 확인\r\n",
        "            move(loc+1,r+dx[i],c+dy[i],ip) #8자리가 안 채워졌고 문자판 밖으로 안 나갔으면 다시 추가\r\n",
        " \r\n",
        "\r\n",
        "\r\n",
        "board = [list(map(str,input().split())) for _ in range(4)] #문자판 4 X 4 입력\r\n",
        "result = [] #움직인 결과 저장 리스트\r\n",
        "for x in range(4): #x축 이동\r\n",
        "    for y in range(4): #y축 이동\r\n",
        "        move(0,x,y,\"\")\r\n",
        " \r\n",
        "answer = set(result) # 중복 방지 위해 set 이용\r\n",
        "print(len(answer)) #갯수"
      ],
      "execution_count": null,
      "outputs": []
    },
    {
      "cell_type": "code",
      "metadata": {
        "id": "G8Sm5dz2-0a9"
      },
      "source": [
        "#3번\r\n",
        "n,m=map(int,input().split())\r\n",
        "\r\n",
        "array=list(map(int,input().split()))\r\n",
        "result=0\r\n",
        "for i in range(n):\r\n",
        "    for j in range(i+1,n):\r\n",
        "        for k in range(j+1,n):\r\n",
        "            if array[i]+array[j]+array[k]>m:\r\n",
        "                continue\r\n",
        "            else:\r\n",
        "                result=max(result,array[i]+array[j]+array[k])\r\n",
        "                \r\n",
        "print(result)"
      ],
      "execution_count": null,
      "outputs": []
    }
  ]
}

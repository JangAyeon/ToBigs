{
  "nbformat": 4,
  "nbformat_minor": 0,
  "metadata": {
    "colab": {
      "name": "[4]Ensemble.ipynb",
      "provenance": [],
      "collapsed_sections": [],
      "toc_visible": true,
      "include_colab_link": true
    },
    "kernelspec": {
      "name": "python3",
      "display_name": "Python 3"
    }
  },
  "cells": [
    {
      "cell_type": "markdown",
      "metadata": {
        "id": "view-in-github",
        "colab_type": "text"
      },
      "source": [
        "<a href=\"https://colab.research.google.com/github/JangAyeon/ToBigs/blob/master/%5B4%5DEnsemble.ipynb\" target=\"_parent\"><img src=\"https://colab.research.google.com/assets/colab-badge.svg\" alt=\"Open In Colab\"/></a>"
      ]
    },
    {
      "cell_type": "code",
      "metadata": {
        "colab": {
          "base_uri": "https://localhost:8080/"
        },
        "id": "vGnI50wqttPV",
        "outputId": "3e083466-49c4-4107-ab95-4468618a1980"
      },
      "source": [
        "!pip3 install catboost"
      ],
      "execution_count": null,
      "outputs": [
        {
          "output_type": "stream",
          "text": [
            "Requirement already satisfied: catboost in /usr/local/lib/python3.6/dist-packages (0.24.4)\n",
            "Requirement already satisfied: numpy>=1.16.0 in /usr/local/lib/python3.6/dist-packages (from catboost) (1.19.5)\n",
            "Requirement already satisfied: six in /usr/local/lib/python3.6/dist-packages (from catboost) (1.15.0)\n",
            "Requirement already satisfied: matplotlib in /usr/local/lib/python3.6/dist-packages (from catboost) (3.2.2)\n",
            "Requirement already satisfied: scipy in /usr/local/lib/python3.6/dist-packages (from catboost) (1.4.1)\n",
            "Requirement already satisfied: graphviz in /usr/local/lib/python3.6/dist-packages (from catboost) (0.10.1)\n",
            "Requirement already satisfied: plotly in /usr/local/lib/python3.6/dist-packages (from catboost) (4.4.1)\n",
            "Requirement already satisfied: pandas>=0.24.0 in /usr/local/lib/python3.6/dist-packages (from catboost) (1.1.5)\n",
            "Requirement already satisfied: python-dateutil>=2.1 in /usr/local/lib/python3.6/dist-packages (from matplotlib->catboost) (2.8.1)\n",
            "Requirement already satisfied: kiwisolver>=1.0.1 in /usr/local/lib/python3.6/dist-packages (from matplotlib->catboost) (1.3.1)\n",
            "Requirement already satisfied: pyparsing!=2.0.4,!=2.1.2,!=2.1.6,>=2.0.1 in /usr/local/lib/python3.6/dist-packages (from matplotlib->catboost) (2.4.7)\n",
            "Requirement already satisfied: cycler>=0.10 in /usr/local/lib/python3.6/dist-packages (from matplotlib->catboost) (0.10.0)\n",
            "Requirement already satisfied: retrying>=1.3.3 in /usr/local/lib/python3.6/dist-packages (from plotly->catboost) (1.3.3)\n",
            "Requirement already satisfied: pytz>=2017.2 in /usr/local/lib/python3.6/dist-packages (from pandas>=0.24.0->catboost) (2018.9)\n"
          ],
          "name": "stdout"
        }
      ]
    },
    {
      "cell_type": "markdown",
      "metadata": {
        "id": "JYIMhi6ahcah"
      },
      "source": [
        "# **Load Data**"
      ]
    },
    {
      "cell_type": "code",
      "metadata": {
        "id": "uJHkmqjlhZ0x"
      },
      "source": [
        "import pandas as pd\r\n",
        "import numpy as np\r\n",
        "import warnings\r\n",
        "warnings.filterwarnings(action=\"ignore\")\r\n",
        "\r\n",
        "\r\n",
        "from matplotlib import pyplot as plt\r\n",
        "plt.style.use('seaborn')\r\n",
        "import seaborn as sns\r\n",
        "%matplotlib inline\r\n",
        "\r\n",
        "from sklearn.preprocessing import LabelEncoder\r\n",
        "from sklearn.preprocessing import RobustScaler\r\n",
        "\r\n",
        "from sklearn.model_selection import train_test_split\r\n",
        "from sklearn.model_selection import cross_val_score\r\n",
        "from sklearn.model_selection import GridSearchCV\r\n",
        "from sklearn.metrics import accuracy_score\r\n",
        "\r\n",
        "from sklearn.linear_model import ElasticNet\r\n",
        "from sklearn.linear_model import LinearRegression\r\n",
        "from sklearn.linear_model import Lasso\r\n",
        "from sklearn import svm\r\n",
        "\r\n",
        "from xgboost import XGBRegressor\r\n",
        "from lightgbm import LGBMRegressor\r\n",
        "from sklearn.ensemble import RandomForestRegressor\r\n",
        "from catboost import CatBoostRegressor\r\n",
        "\r\n",
        "from sklearn.model_selection import KFold\r\n",
        "from sklearn.model_selection import StratifiedKFold\r\n",
        "from sklearn.metrics import mean_absolute_error"
      ],
      "execution_count": null,
      "outputs": []
    },
    {
      "cell_type": "code",
      "metadata": {
        "id": "jdlvFNaxh04J"
      },
      "source": [
        "df=pd.read_csv(\"ggstore_train.csv\")\r\n",
        "df_test=pd.read_csv(\"ggstore_test.csv\")"
      ],
      "execution_count": null,
      "outputs": []
    },
    {
      "cell_type": "code",
      "metadata": {
        "colab": {
          "base_uri": "https://localhost:8080/",
          "height": 204
        },
        "id": "3oDbgmrch134",
        "outputId": "859c3259-21df-463d-c5bd-ef9e7a152695"
      },
      "source": [
        "df.head() "
      ],
      "execution_count": null,
      "outputs": [
        {
          "output_type": "execute_result",
          "data": {
            "text/html": [
              "<div>\n",
              "<style scoped>\n",
              "    .dataframe tbody tr th:only-of-type {\n",
              "        vertical-align: middle;\n",
              "    }\n",
              "\n",
              "    .dataframe tbody tr th {\n",
              "        vertical-align: top;\n",
              "    }\n",
              "\n",
              "    .dataframe thead th {\n",
              "        text-align: right;\n",
              "    }\n",
              "</style>\n",
              "<table border=\"1\" class=\"dataframe\">\n",
              "  <thead>\n",
              "    <tr style=\"text-align: right;\">\n",
              "      <th></th>\n",
              "      <th>App</th>\n",
              "      <th>Category</th>\n",
              "      <th>Rating</th>\n",
              "      <th>Reviews</th>\n",
              "      <th>Size</th>\n",
              "      <th>Installs</th>\n",
              "      <th>Type</th>\n",
              "      <th>Price</th>\n",
              "      <th>Content Rating</th>\n",
              "      <th>Genres</th>\n",
              "      <th>Last Updated</th>\n",
              "      <th>Id</th>\n",
              "    </tr>\n",
              "  </thead>\n",
              "  <tbody>\n",
              "    <tr>\n",
              "      <th>0</th>\n",
              "      <td>Photo Editor &amp; Candy Camera &amp; Grid &amp; ScrapBook</td>\n",
              "      <td>ART_AND_DESIGN</td>\n",
              "      <td>4.1</td>\n",
              "      <td>159</td>\n",
              "      <td>19.0</td>\n",
              "      <td>10000.0</td>\n",
              "      <td>0</td>\n",
              "      <td>0.0</td>\n",
              "      <td>Everyone</td>\n",
              "      <td>Art &amp; Design</td>\n",
              "      <td>2018-01-07</td>\n",
              "      <td>0</td>\n",
              "    </tr>\n",
              "    <tr>\n",
              "      <th>1</th>\n",
              "      <td>Coloring book moana</td>\n",
              "      <td>ART_AND_DESIGN</td>\n",
              "      <td>3.9</td>\n",
              "      <td>967</td>\n",
              "      <td>14.0</td>\n",
              "      <td>500000.0</td>\n",
              "      <td>0</td>\n",
              "      <td>0.0</td>\n",
              "      <td>Everyone</td>\n",
              "      <td>Art &amp; Design;Pretend Play</td>\n",
              "      <td>2018-01-15</td>\n",
              "      <td>1</td>\n",
              "    </tr>\n",
              "    <tr>\n",
              "      <th>2</th>\n",
              "      <td>U Launcher Lite – FREE Live Cool Themes, Hide ...</td>\n",
              "      <td>ART_AND_DESIGN</td>\n",
              "      <td>4.7</td>\n",
              "      <td>87510</td>\n",
              "      <td>8.7</td>\n",
              "      <td>5000000.0</td>\n",
              "      <td>0</td>\n",
              "      <td>0.0</td>\n",
              "      <td>Everyone</td>\n",
              "      <td>Art &amp; Design</td>\n",
              "      <td>2018-08-01</td>\n",
              "      <td>2</td>\n",
              "    </tr>\n",
              "    <tr>\n",
              "      <th>3</th>\n",
              "      <td>Sketch - Draw &amp; Paint</td>\n",
              "      <td>ART_AND_DESIGN</td>\n",
              "      <td>4.5</td>\n",
              "      <td>215644</td>\n",
              "      <td>25.0</td>\n",
              "      <td>50000000.0</td>\n",
              "      <td>0</td>\n",
              "      <td>0.0</td>\n",
              "      <td>Teen</td>\n",
              "      <td>Art &amp; Design</td>\n",
              "      <td>2018-06-08</td>\n",
              "      <td>3</td>\n",
              "    </tr>\n",
              "    <tr>\n",
              "      <th>4</th>\n",
              "      <td>Pixel Draw - Number Art Coloring Book</td>\n",
              "      <td>ART_AND_DESIGN</td>\n",
              "      <td>4.3</td>\n",
              "      <td>967</td>\n",
              "      <td>2.8</td>\n",
              "      <td>100000.0</td>\n",
              "      <td>0</td>\n",
              "      <td>0.0</td>\n",
              "      <td>Everyone</td>\n",
              "      <td>Art &amp; Design;Creativity</td>\n",
              "      <td>2018-06-20</td>\n",
              "      <td>4</td>\n",
              "    </tr>\n",
              "  </tbody>\n",
              "</table>\n",
              "</div>"
            ],
            "text/plain": [
              "                                                 App  ... Id\n",
              "0     Photo Editor & Candy Camera & Grid & ScrapBook  ...  0\n",
              "1                                Coloring book moana  ...  1\n",
              "2  U Launcher Lite – FREE Live Cool Themes, Hide ...  ...  2\n",
              "3                              Sketch - Draw & Paint  ...  3\n",
              "4              Pixel Draw - Number Art Coloring Book  ...  4\n",
              "\n",
              "[5 rows x 12 columns]"
            ]
          },
          "metadata": {
            "tags": []
          },
          "execution_count": 4
        }
      ]
    },
    {
      "cell_type": "code",
      "metadata": {
        "colab": {
          "base_uri": "https://localhost:8080/"
        },
        "id": "uwWQTwpuiDJF",
        "outputId": "3ef580a2-622f-452c-b46a-f7ba7aa0fc8e"
      },
      "source": [
        "df.info()"
      ],
      "execution_count": null,
      "outputs": [
        {
          "output_type": "stream",
          "text": [
            "<class 'pandas.core.frame.DataFrame'>\n",
            "RangeIndex: 5616 entries, 0 to 5615\n",
            "Data columns (total 12 columns):\n",
            " #   Column          Non-Null Count  Dtype  \n",
            "---  ------          --------------  -----  \n",
            " 0   App             5616 non-null   object \n",
            " 1   Category        5616 non-null   object \n",
            " 2   Rating          5616 non-null   float64\n",
            " 3   Reviews         5616 non-null   int64  \n",
            " 4   Size            5616 non-null   float64\n",
            " 5   Installs        5616 non-null   float64\n",
            " 6   Type            5616 non-null   int64  \n",
            " 7   Price           5616 non-null   float64\n",
            " 8   Content Rating  5616 non-null   object \n",
            " 9   Genres          5616 non-null   object \n",
            " 10  Last Updated    5616 non-null   object \n",
            " 11  Id              5616 non-null   int64  \n",
            "dtypes: float64(4), int64(3), object(5)\n",
            "memory usage: 526.6+ KB\n"
          ],
          "name": "stdout"
        }
      ]
    },
    {
      "cell_type": "code",
      "metadata": {
        "colab": {
          "base_uri": "https://localhost:8080/",
          "height": 204
        },
        "id": "yi_l8jLwh3PW",
        "outputId": "7c6f33e1-73e3-456b-84f6-c8d84da68ec3"
      },
      "source": [
        "df_test.head()"
      ],
      "execution_count": null,
      "outputs": [
        {
          "output_type": "execute_result",
          "data": {
            "text/html": [
              "<div>\n",
              "<style scoped>\n",
              "    .dataframe tbody tr th:only-of-type {\n",
              "        vertical-align: middle;\n",
              "    }\n",
              "\n",
              "    .dataframe tbody tr th {\n",
              "        vertical-align: top;\n",
              "    }\n",
              "\n",
              "    .dataframe thead th {\n",
              "        text-align: right;\n",
              "    }\n",
              "</style>\n",
              "<table border=\"1\" class=\"dataframe\">\n",
              "  <thead>\n",
              "    <tr style=\"text-align: right;\">\n",
              "      <th></th>\n",
              "      <th>App</th>\n",
              "      <th>Category</th>\n",
              "      <th>Reviews</th>\n",
              "      <th>Size</th>\n",
              "      <th>Installs</th>\n",
              "      <th>Type</th>\n",
              "      <th>Price</th>\n",
              "      <th>Content Rating</th>\n",
              "      <th>Genres</th>\n",
              "      <th>Last Updated</th>\n",
              "      <th>Id</th>\n",
              "    </tr>\n",
              "  </thead>\n",
              "  <tbody>\n",
              "    <tr>\n",
              "      <th>0</th>\n",
              "      <td>Dr.Android Repair Master 2017</td>\n",
              "      <td>PRODUCTIVITY</td>\n",
              "      <td>1205</td>\n",
              "      <td>4.3</td>\n",
              "      <td>100000.0</td>\n",
              "      <td>0</td>\n",
              "      <td>0.00</td>\n",
              "      <td>Everyone</td>\n",
              "      <td>Productivity</td>\n",
              "      <td>2018-06-10</td>\n",
              "      <td>5617</td>\n",
              "    </tr>\n",
              "    <tr>\n",
              "      <th>1</th>\n",
              "      <td>DR CONTROL</td>\n",
              "      <td>FAMILY</td>\n",
              "      <td>267</td>\n",
              "      <td>1.5</td>\n",
              "      <td>10000.0</td>\n",
              "      <td>0</td>\n",
              "      <td>0.00</td>\n",
              "      <td>Everyone</td>\n",
              "      <td>Entertainment</td>\n",
              "      <td>2017-03-08</td>\n",
              "      <td>5618</td>\n",
              "    </tr>\n",
              "    <tr>\n",
              "      <th>2</th>\n",
              "      <td>Dr Driving Racer</td>\n",
              "      <td>GAME</td>\n",
              "      <td>183</td>\n",
              "      <td>68.0</td>\n",
              "      <td>10000.0</td>\n",
              "      <td>0</td>\n",
              "      <td>0.00</td>\n",
              "      <td>Everyone</td>\n",
              "      <td>Racing</td>\n",
              "      <td>2018-06-14</td>\n",
              "      <td>5619</td>\n",
              "    </tr>\n",
              "    <tr>\n",
              "      <th>3</th>\n",
              "      <td>Dr. McDougall Mobile Cookbook</td>\n",
              "      <td>HEALTH_AND_FITNESS</td>\n",
              "      <td>76</td>\n",
              "      <td>1.2</td>\n",
              "      <td>1000.0</td>\n",
              "      <td>1</td>\n",
              "      <td>4.99</td>\n",
              "      <td>Everyone</td>\n",
              "      <td>Health &amp; Fitness</td>\n",
              "      <td>2015-01-26</td>\n",
              "      <td>5620</td>\n",
              "    </tr>\n",
              "    <tr>\n",
              "      <th>4</th>\n",
              "      <td>Dr. Seuss's ABC</td>\n",
              "      <td>FAMILY</td>\n",
              "      <td>429</td>\n",
              "      <td>12.0</td>\n",
              "      <td>10000.0</td>\n",
              "      <td>1</td>\n",
              "      <td>3.99</td>\n",
              "      <td>Everyone</td>\n",
              "      <td>Books &amp; Reference;Education</td>\n",
              "      <td>2018-02-26</td>\n",
              "      <td>5621</td>\n",
              "    </tr>\n",
              "  </tbody>\n",
              "</table>\n",
              "</div>"
            ],
            "text/plain": [
              "                             App            Category  ...  Last Updated    Id\n",
              "0  Dr.Android Repair Master 2017        PRODUCTIVITY  ...    2018-06-10  5617\n",
              "1                     DR CONTROL              FAMILY  ...    2017-03-08  5618\n",
              "2               Dr Driving Racer                GAME  ...    2018-06-14  5619\n",
              "3  Dr. McDougall Mobile Cookbook  HEALTH_AND_FITNESS  ...    2015-01-26  5620\n",
              "4                Dr. Seuss's ABC              FAMILY  ...    2018-02-26  5621\n",
              "\n",
              "[5 rows x 11 columns]"
            ]
          },
          "metadata": {
            "tags": []
          },
          "execution_count": 6
        }
      ]
    },
    {
      "cell_type": "code",
      "metadata": {
        "colab": {
          "base_uri": "https://localhost:8080/"
        },
        "id": "wjfD7nKojbGR",
        "outputId": "bdc1f70f-8920-4c83-a967-e1166b683cdd"
      },
      "source": [
        "df_test.info()"
      ],
      "execution_count": null,
      "outputs": [
        {
          "output_type": "stream",
          "text": [
            "<class 'pandas.core.frame.DataFrame'>\n",
            "RangeIndex: 1404 entries, 0 to 1403\n",
            "Data columns (total 11 columns):\n",
            " #   Column          Non-Null Count  Dtype  \n",
            "---  ------          --------------  -----  \n",
            " 0   App             1404 non-null   object \n",
            " 1   Category        1404 non-null   object \n",
            " 2   Reviews         1404 non-null   int64  \n",
            " 3   Size            1404 non-null   float64\n",
            " 4   Installs        1404 non-null   float64\n",
            " 5   Type            1404 non-null   int64  \n",
            " 6   Price           1404 non-null   float64\n",
            " 7   Content Rating  1404 non-null   object \n",
            " 8   Genres          1404 non-null   object \n",
            " 9   Last Updated    1404 non-null   object \n",
            " 10  Id              1404 non-null   int64  \n",
            "dtypes: float64(3), int64(3), object(5)\n",
            "memory usage: 120.8+ KB\n"
          ],
          "name": "stdout"
        }
      ]
    },
    {
      "cell_type": "markdown",
      "metadata": {
        "id": "_65jlqVuh9Ew"
      },
      "source": [
        "##**1.   Feature**\r\n",
        "\r\n",
        "\r\n",
        "\r\n",
        "\r\n",
        "|Feature 명|설명|\r\n",
        "|------|---|\r\n",
        "|App|Application name|\r\n",
        "|Category|Category the app belongs to Overall user rating of the app (as when scraped)|\r\n",
        "|Rating|Overall user rating of the app (as when scraped)|\r\n",
        "|Reviews|Number of user reviews for the app (as when scraped)|\r\n",
        "|Size|Size of the app (as when scraped)|\r\n",
        "|Installs|Number of user downloads/installs for the app (as when scraped)|\r\n",
        "|Type|Paid or Free|\r\n",
        "|Price|Price of the app (as when scraped)|\r\n",
        "|Content Rating|Age group the app is targeted at - Children / Mature 21+ / Adult|\r\n",
        "|Genres|An app can belong to multiple genres (apart from its main category)|\r\n",
        "|Last Updated|Date when the app was last updated on Play Store (as when scraped)|\r\n",
        "|Id|Product Number of Application|"
      ]
    },
    {
      "cell_type": "markdown",
      "metadata": {
        "id": "fTiPoqrEiAX6"
      },
      "source": [
        "##**2.Target Data** : `Rating`<br>"
      ]
    },
    {
      "cell_type": "code",
      "metadata": {
        "id": "SnOI9WO-jmB9"
      },
      "source": [
        "target=\"Rating\"\r\n",
        "con_var=['Rating','Reviews','Size','Installs','Price']"
      ],
      "execution_count": null,
      "outputs": []
    },
    {
      "cell_type": "markdown",
      "metadata": {
        "id": "Ih9SYnqViFst"
      },
      "source": [
        "##**3.Data Size<br>**\r\n",
        "5616 rows with 12 columns"
      ]
    },
    {
      "cell_type": "code",
      "metadata": {
        "colab": {
          "base_uri": "https://localhost:8080/"
        },
        "id": "B_CmZ_xAiEP5",
        "outputId": "e3ec2516-d6de-485f-e4df-dcd82cbe59a9"
      },
      "source": [
        "df.shape #train data shape"
      ],
      "execution_count": null,
      "outputs": [
        {
          "output_type": "execute_result",
          "data": {
            "text/plain": [
              "(5616, 12)"
            ]
          },
          "metadata": {
            "tags": []
          },
          "execution_count": 9
        }
      ]
    },
    {
      "cell_type": "code",
      "metadata": {
        "colab": {
          "base_uri": "https://localhost:8080/"
        },
        "id": "JdRN7zRJKuDr",
        "outputId": "ea9c55a7-ce13-4570-c7dc-564680e99b9b"
      },
      "source": [
        "df_test.shape #test data shape"
      ],
      "execution_count": null,
      "outputs": [
        {
          "output_type": "execute_result",
          "data": {
            "text/plain": [
              "(1404, 11)"
            ]
          },
          "metadata": {
            "tags": []
          },
          "execution_count": 10
        }
      ]
    },
    {
      "cell_type": "markdown",
      "metadata": {
        "id": "DfVw4dWcju21"
      },
      "source": [
        "#**결측치 / 이상치 확인 & EDA**"
      ]
    },
    {
      "cell_type": "markdown",
      "metadata": {
        "id": "c8KakX72j0jI"
      },
      "source": [
        "##**1.결측치 존재하지 않음**"
      ]
    },
    {
      "cell_type": "code",
      "metadata": {
        "colab": {
          "base_uri": "https://localhost:8080/"
        },
        "id": "7clLVldXjuOt",
        "outputId": "fb71e0f1-cbd6-4167-e72c-8500e5aeae27"
      },
      "source": [
        "df.isnull().sum()"
      ],
      "execution_count": null,
      "outputs": [
        {
          "output_type": "execute_result",
          "data": {
            "text/plain": [
              "App               0\n",
              "Category          0\n",
              "Rating            0\n",
              "Reviews           0\n",
              "Size              0\n",
              "Installs          0\n",
              "Type              0\n",
              "Price             0\n",
              "Content Rating    0\n",
              "Genres            0\n",
              "Last Updated      0\n",
              "Id                0\n",
              "dtype: int64"
            ]
          },
          "metadata": {
            "tags": []
          },
          "execution_count": 11
        }
      ]
    },
    {
      "cell_type": "markdown",
      "metadata": {
        "id": "uARr0IeHj8iR"
      },
      "source": [
        "##**2.연속형 변수 분포**"
      ]
    },
    {
      "cell_type": "code",
      "metadata": {
        "colab": {
          "base_uri": "https://localhost:8080/",
          "height": 606
        },
        "id": "khS0N_v0h-jL",
        "outputId": "7c7c2ae0-485c-4020-f601-f5cdfe120ab1"
      },
      "source": [
        "df[con_var].hist(bins=30,figsize=(10,10)) #hist\r\n",
        "plt.show()"
      ],
      "execution_count": null,
      "outputs": [
        {
          "output_type": "display_data",
          "data": {
            "image/png": "[encoded data removed]",
            "text/plain": [
              "<Figure size 720x720 with 6 Axes>"
            ]
          },
          "metadata": {
            "tags": [],
            "needs_background": "light"
          }
        }
      ]
    },
    {
      "cell_type": "code",
      "metadata": {
        "colab": {
          "base_uri": "https://localhost:8080/",
          "height": 504
        },
        "id": "HBOuiHomkLwf",
        "outputId": "8718b969-353e-4c62-f007-51bba508826b"
      },
      "source": [
        "plt.figure(figsize=(16,8))\r\n",
        "sns.heatmap(df[con_var].corr(), annot=True) #heapmap\r\n",
        "plt.title('continuous variables corr heatmap', fontsize=20)\r\n",
        "plt.show()"
      ],
      "execution_count": null,
      "outputs": [
        {
          "output_type": "display_data",
          "data": {
            "image/png": "[encoded data removed]",
            "text/plain": [
              "<Figure size 1152x576 with 2 Axes>"
            ]
          },
          "metadata": {
            "tags": [],
            "needs_background": "light"
          }
        }
      ]
    },
    {
      "cell_type": "markdown",
      "metadata": {
        "id": "Li9azWkZk2JS"
      },
      "source": [
        "##**3.Feature**"
      ]
    },
    {
      "cell_type": "markdown",
      "metadata": {
        "id": "gOusGbwrk-r2"
      },
      "source": [
        "###**1.`App`** \r\n",
        "**: Application의 명칭으로 이상치 존재 X**\r\n",
        "\r\n",
        "\r\n",
        "*   object형으로 차후 Feature Engineering 필요\r\n"
      ]
    },
    {
      "cell_type": "code",
      "metadata": {
        "colab": {
          "base_uri": "https://localhost:8080/"
        },
        "id": "YZECTsruklHf",
        "outputId": "cdb58d2a-3e94-47eb-dddc-06338b6707f8"
      },
      "source": [
        "df[\"App\"].value_counts() "
      ],
      "execution_count": null,
      "outputs": [
        {
          "output_type": "execute_result",
          "data": {
            "text/plain": [
              "Pro 2018 - Series A and B                             1\n",
              "Freecell CY                                           1\n",
              "Kaspersky Mobile Antivirus: AppLock & Web Security    1\n",
              "SketchBook - draw and paint                           1\n",
              "Go                                                    1\n",
              "                                                     ..\n",
              "CS Browser | #1 & BEST BROWSER                        1\n",
              "Sermon on Proverbs CH Spurgeon                        1\n",
              "BW-DGS plugin                                         1\n",
              "AP Mobile                                             1\n",
              "Home Scouting® MLS Mobile                             1\n",
              "Name: App, Length: 5616, dtype: int64"
            ]
          },
          "metadata": {
            "tags": []
          },
          "execution_count": 14
        }
      ]
    },
    {
      "cell_type": "markdown",
      "metadata": {
        "id": "0ufWCY8mlIAk"
      },
      "source": [
        "###**2.`Category`**\r\n",
        "**: Application이 속하는 분류 명칭으로 이상치 존재 X**\r\n",
        "\r\n",
        "\r\n",
        "*   33가지 / 31가지 분류 존재\r\n",
        "\r\n",
        "*   Game 과 Family 분류가 가장 흔함\r\n",
        "*   object형으로 차후 Feature Engineering 필요"
      ]
    },
    {
      "cell_type": "code",
      "metadata": {
        "colab": {
          "base_uri": "https://localhost:8080/"
        },
        "id": "G5sOfjS5lF2x",
        "outputId": "7f0c0402-8937-4763-80ba-0e3de77953b8"
      },
      "source": [
        "print(\"#\",len(df[\"Category\"].unique()),\"number of Categories\") ##Application의 종류 train data에 33가지 존재\r\n",
        "print(df[\"Category\"].value_counts())"
      ],
      "execution_count": null,
      "outputs": [
        {
          "output_type": "stream",
          "text": [
            "# 33 number of Categories\n",
            "FAMILY                 1102\n",
            "GAME                    657\n",
            "TOOLS                   463\n",
            "MEDICAL                 253\n",
            "PERSONALIZATION         227\n",
            "LIFESTYLE               220\n",
            "FINANCE                 201\n",
            "PHOTOGRAPHY             175\n",
            "PRODUCTIVITY            173\n",
            "HEALTH_AND_FITNESS      172\n",
            "BUSINESS                166\n",
            "COMMUNICATION           153\n",
            "SPORTS                  143\n",
            "SHOPPING                139\n",
            "SOCIAL                  122\n",
            "DATING                  121\n",
            "NEWS_AND_MAGAZINES      114\n",
            "BOOKS_AND_REFERENCE     109\n",
            "TRAVEL_AND_LOCAL        108\n",
            "VIDEO_PLAYERS            90\n",
            "EDUCATION                88\n",
            "MAPS_AND_NAVIGATION      76\n",
            "FOOD_AND_DRINK           69\n",
            "ENTERTAINMENT            64\n",
            "LIBRARIES_AND_DEMO       57\n",
            "ART_AND_DESIGN           57\n",
            "AUTO_AND_VEHICLES        55\n",
            "HOUSE_AND_HOME           48\n",
            "COMICS                   46\n",
            "PARENTING                43\n",
            "WEATHER                  37\n",
            "BEAUTY                   34\n",
            "EVENTS                   34\n",
            "Name: Category, dtype: int64\n"
          ],
          "name": "stdout"
        }
      ]
    },
    {
      "cell_type": "code",
      "metadata": {
        "colab": {
          "base_uri": "https://localhost:8080/",
          "height": 537
        },
        "id": "Yo3KU46rlfGI",
        "outputId": "53c1322d-edb8-43da-e2ca-8491af41ca28"
      },
      "source": [
        "plt.figure(figsize=(16,6)) ##Application의 분류 분포\r\n",
        "sns.countplot(x=\"Category\",data=df)\r\n",
        "plt.xticks(rotation=70)\r\n",
        "plt.title(\"Distribution of Category\")"
      ],
      "execution_count": null,
      "outputs": [
        {
          "output_type": "execute_result",
          "data": {
            "text/plain": [
              "Text(0.5, 1.0, 'Distribution of Category')"
            ]
          },
          "metadata": {
            "tags": []
          },
          "execution_count": 16
        },
        {
          "output_type": "display_data",
          "data": {
            "image/png": "[encoded data removed]",
            "text/plain": [
              "<Figure size 1152x432 with 1 Axes>"
            ]
          },
          "metadata": {
            "tags": [],
            "needs_background": "light"
          }
        }
      ]
    },
    {
      "cell_type": "code",
      "metadata": {
        "colab": {
          "base_uri": "https://localhost:8080/"
        },
        "id": "EGTQ_SaRlPMg",
        "outputId": "afc33f75-c414-48db-fe4d-30a03f341f8d"
      },
      "source": [
        "print(\"#\",len(df_test[\"Category\"].unique()),\"number of Categories\") ##Application의 종류 test data에 31가지 존재\r\n",
        "print(df_test[\"Category\"].value_counts())"
      ],
      "execution_count": null,
      "outputs": [
        {
          "output_type": "stream",
          "text": [
            "# 31 number of Categories\n",
            "FAMILY                 408\n",
            "GAME                   175\n",
            "TOOLS                  162\n",
            "SPORTS                  78\n",
            "FINANCE                 57\n",
            "BUSINESS                56\n",
            "PRODUCTIVITY            50\n",
            "LIFESTYLE               49\n",
            "PERSONALIZATION         47\n",
            "NEWS_AND_MAGAZINES      40\n",
            "COMMUNICATION           35\n",
            "SOCIAL                  34\n",
            "TRAVEL_AND_LOCAL        33\n",
            "BOOKS_AND_REFERENCE     32\n",
            "PHOTOGRAPHY             29\n",
            "VIDEO_PLAYERS           22\n",
            "HEALTH_AND_FITNESS      19\n",
            "MAPS_AND_NAVIGATION     18\n",
            "WEATHER                 13\n",
            "MEDICAL                 13\n",
            "AUTO_AND_VEHICLES        8\n",
            "SHOPPING                 7\n",
            "EVENTS                   4\n",
            "LIBRARIES_AND_DEMO       3\n",
            "FOOD_AND_DRINK           3\n",
            "BEAUTY                   3\n",
            "HOUSE_AND_HOME           2\n",
            "PARENTING                1\n",
            "ART_AND_DESIGN           1\n",
            "DATING                   1\n",
            "COMICS                   1\n",
            "Name: Category, dtype: int64\n"
          ],
          "name": "stdout"
        }
      ]
    },
    {
      "cell_type": "code",
      "metadata": {
        "colab": {
          "base_uri": "https://localhost:8080/",
          "height": 537
        },
        "id": "-MZEZpNulhlT",
        "outputId": "447da4bf-233b-4dfd-caa0-0108729e3ea2"
      },
      "source": [
        "plt.figure(figsize=(16,6)) ##Application의 분류 분포\r\n",
        "sns.countplot(x=\"Category\",data=df_test)\r\n",
        "plt.xticks(rotation=70)\r\n",
        "plt.title(\"Distribution of Category\")"
      ],
      "execution_count": null,
      "outputs": [
        {
          "output_type": "execute_result",
          "data": {
            "text/plain": [
              "Text(0.5, 1.0, 'Distribution of Category')"
            ]
          },
          "metadata": {
            "tags": []
          },
          "execution_count": 18
        },
        {
          "output_type": "display_data",
          "data": {
            "image/png": "[encoded data removed]",
            "text/plain": [
              "<Figure size 1152x432 with 1 Axes>"
            ]
          },
          "metadata": {
            "tags": [],
            "needs_background": "light"
          }
        }
      ]
    },
    {
      "cell_type": "markdown",
      "metadata": {
        "id": "8txOmUX7ljyP"
      },
      "source": [
        "###**3.`Rating`**\r\n",
        "**: Application의 평가지표로 이상치 존재 X**\r\n",
        "\r\n",
        "\r\n",
        "*   평균적으로 4점대로 평가되며 전반적으로 좋은 평을 받음"
      ]
    },
    {
      "cell_type": "code",
      "metadata": {
        "colab": {
          "base_uri": "https://localhost:8080/"
        },
        "id": "59Q4iUrolLJa",
        "outputId": "c6226e3a-b19a-4d54-f936-d1ca0fa11596"
      },
      "source": [
        "df[\"Rating\"].describe()"
      ],
      "execution_count": null,
      "outputs": [
        {
          "output_type": "execute_result",
          "data": {
            "text/plain": [
              "count    5616.000000\n",
              "mean        4.177386\n",
              "std         0.543153\n",
              "min         1.000000\n",
              "25%         4.000000\n",
              "50%         4.300000\n",
              "75%         4.500000\n",
              "max         5.000000\n",
              "Name: Rating, dtype: float64"
            ]
          },
          "metadata": {
            "tags": []
          },
          "execution_count": 19
        }
      ]
    },
    {
      "cell_type": "code",
      "metadata": {
        "colab": {
          "base_uri": "https://localhost:8080/",
          "height": 421
        },
        "id": "Ik4mllRwlpsn",
        "outputId": "f0b2479e-1530-4b3d-933b-b62d63c097ef"
      },
      "source": [
        "plt.figure(figsize=(16,6))\r\n",
        "sns.countplot(x=\"Rating\",data=df)\r\n",
        "plt.title(\"Distribution of Rating\")"
      ],
      "execution_count": null,
      "outputs": [
        {
          "output_type": "execute_result",
          "data": {
            "text/plain": [
              "Text(0.5, 1.0, 'Distribution of Rating')"
            ]
          },
          "metadata": {
            "tags": []
          },
          "execution_count": 20
        },
        {
          "output_type": "display_data",
          "data": {
            "image/png": "[encoded data removed]",
            "text/plain": [
              "<Figure size 1152x432 with 1 Axes>"
            ]
          },
          "metadata": {
            "tags": [],
            "needs_background": "light"
          }
        }
      ]
    },
    {
      "cell_type": "markdown",
      "metadata": {
        "id": "4Z-KUGHlls2T"
      },
      "source": [
        "###**4.`Reviews`**\r\n",
        "**: Application의 사용 후기 갯수로 이상치 존재 X**\r\n",
        "\r\n",
        "\r\n",
        "\r\n",
        "\r\n",
        "*   대부분의 어플은 1M개의 리뷰를 가짐 \r\n",
        "* 일부 3M~4M개의 리뷰를 가지는 어플이 있지만 인기 어플 등의 경우 충분히 가능한 상황이라고 생각해 이상치로 고려X<br>\r\n",
        "=> \"Clash of Clans\", \"DU Battery Saver - Battery Charger & Battery Life\", \"Need for Speed™ No Limits\" 등의 어플의 경우 이에 해당됨 "
      ]
    },
    {
      "cell_type": "code",
      "metadata": {
        "colab": {
          "base_uri": "https://localhost:8080/"
        },
        "id": "f9PSFf56luEw",
        "outputId": "bcc31880-39a2-4bd7-8bf5-ed9843b3e519"
      },
      "source": [
        "df[\"Reviews\"].value_counts() "
      ],
      "execution_count": null,
      "outputs": [
        {
          "output_type": "execute_result",
          "data": {
            "text/plain": [
              "3          58\n",
              "2          55\n",
              "5          53\n",
              "4          51\n",
              "1          51\n",
              "           ..\n",
              "3079        1\n",
              "205830      1\n",
              "54034       1\n",
              "1026        1\n",
              "1385093     1\n",
              "Name: Reviews, Length: 3697, dtype: int64"
            ]
          },
          "metadata": {
            "tags": []
          },
          "execution_count": 21
        }
      ]
    },
    {
      "cell_type": "code",
      "metadata": {
        "colab": {
          "base_uri": "https://localhost:8080/"
        },
        "id": "Tzgi6cQWlw7N",
        "outputId": "13a537cd-751e-4914-d810-9caf7c6832dc"
      },
      "source": [
        "df[\"Reviews\"].describe()"
      ],
      "execution_count": null,
      "outputs": [
        {
          "output_type": "execute_result",
          "data": {
            "text/plain": [
              "count    5.616000e+03\n",
              "mean     1.686437e+05\n",
              "std      1.126012e+06\n",
              "min      1.000000e+00\n",
              "25%      1.140000e+02\n",
              "50%      2.158000e+03\n",
              "75%      3.292125e+04\n",
              "max      4.489172e+07\n",
              "Name: Reviews, dtype: float64"
            ]
          },
          "metadata": {
            "tags": []
          },
          "execution_count": 22
        }
      ]
    },
    {
      "cell_type": "code",
      "metadata": {
        "colab": {
          "base_uri": "https://localhost:8080/",
          "height": 419
        },
        "id": "vPgi5yiPMJxi",
        "outputId": "82d6fb0f-9695-426c-ef6c-c122a99c0be3"
      },
      "source": [
        "df[[\"App\",\"Reviews\"]].sort_values(by=\"Reviews\",ascending=False)"
      ],
      "execution_count": null,
      "outputs": [
        {
          "output_type": "execute_result",
          "data": {
            "text/html": [
              "<div>\n",
              "<style scoped>\n",
              "    .dataframe tbody tr th:only-of-type {\n",
              "        vertical-align: middle;\n",
              "    }\n",
              "\n",
              "    .dataframe tbody tr th {\n",
              "        vertical-align: top;\n",
              "    }\n",
              "\n",
              "    .dataframe thead th {\n",
              "        text-align: right;\n",
              "    }\n",
              "</style>\n",
              "<table border=\"1\" class=\"dataframe\">\n",
              "  <thead>\n",
              "    <tr style=\"text-align: right;\">\n",
              "      <th></th>\n",
              "      <th>App</th>\n",
              "      <th>Reviews</th>\n",
              "    </tr>\n",
              "  </thead>\n",
              "  <tbody>\n",
              "    <tr>\n",
              "      <th>975</th>\n",
              "      <td>Clash of Clans</td>\n",
              "      <td>44891723</td>\n",
              "    </tr>\n",
              "    <tr>\n",
              "      <th>960</th>\n",
              "      <td>Subway Surfers</td>\n",
              "      <td>27722264</td>\n",
              "    </tr>\n",
              "    <tr>\n",
              "      <th>965</th>\n",
              "      <td>Clash Royale</td>\n",
              "      <td>23133508</td>\n",
              "    </tr>\n",
              "    <tr>\n",
              "      <th>961</th>\n",
              "      <td>Candy Crush Saga</td>\n",
              "      <td>22426677</td>\n",
              "    </tr>\n",
              "    <tr>\n",
              "      <th>247</th>\n",
              "      <td>UC Browser - Fast Download Private &amp; Secure</td>\n",
              "      <td>17712922</td>\n",
              "    </tr>\n",
              "    <tr>\n",
              "      <th>...</th>\n",
              "      <td>...</td>\n",
              "      <td>...</td>\n",
              "    </tr>\n",
              "    <tr>\n",
              "      <th>1440</th>\n",
              "      <td>Anatomy &amp; Physiology Vocabulary Exam Review App</td>\n",
              "      <td>1</td>\n",
              "    </tr>\n",
              "    <tr>\n",
              "      <th>4983</th>\n",
              "      <td>CT Checkout</td>\n",
              "      <td>1</td>\n",
              "    </tr>\n",
              "    <tr>\n",
              "      <th>3160</th>\n",
              "      <td>Hey AJ! It's Bedtime!</td>\n",
              "      <td>1</td>\n",
              "    </tr>\n",
              "    <tr>\n",
              "      <th>3346</th>\n",
              "      <td>AP Art History Flashcards</td>\n",
              "      <td>1</td>\n",
              "    </tr>\n",
              "    <tr>\n",
              "      <th>4123</th>\n",
              "      <td>MI-BP</td>\n",
              "      <td>1</td>\n",
              "    </tr>\n",
              "  </tbody>\n",
              "</table>\n",
              "<p>5616 rows × 2 columns</p>\n",
              "</div>"
            ],
            "text/plain": [
              "                                                  App   Reviews\n",
              "975                                    Clash of Clans  44891723\n",
              "960                                    Subway Surfers  27722264\n",
              "965                                      Clash Royale  23133508\n",
              "961                                  Candy Crush Saga  22426677\n",
              "247       UC Browser - Fast Download Private & Secure  17712922\n",
              "...                                               ...       ...\n",
              "1440  Anatomy & Physiology Vocabulary Exam Review App         1\n",
              "4983                                      CT Checkout         1\n",
              "3160                            Hey AJ! It's Bedtime!         1\n",
              "3346                        AP Art History Flashcards         1\n",
              "4123                                            MI-BP         1\n",
              "\n",
              "[5616 rows x 2 columns]"
            ]
          },
          "metadata": {
            "tags": []
          },
          "execution_count": 23
        }
      ]
    },
    {
      "cell_type": "code",
      "metadata": {
        "colab": {
          "base_uri": "https://localhost:8080/",
          "height": 419
        },
        "id": "2Z1oeZf3McvZ",
        "outputId": "749f5af5-393b-4cce-ef4c-91efc83e44ac"
      },
      "source": [
        "df_test[[\"App\",\"Reviews\"]].sort_values(by=\"Reviews\",ascending=False)"
      ],
      "execution_count": null,
      "outputs": [
        {
          "output_type": "execute_result",
          "data": {
            "text/html": [
              "<div>\n",
              "<style scoped>\n",
              "    .dataframe tbody tr th:only-of-type {\n",
              "        vertical-align: middle;\n",
              "    }\n",
              "\n",
              "    .dataframe tbody tr th {\n",
              "        vertical-align: top;\n",
              "    }\n",
              "\n",
              "    .dataframe thead th {\n",
              "        text-align: right;\n",
              "    }\n",
              "</style>\n",
              "<table border=\"1\" class=\"dataframe\">\n",
              "  <thead>\n",
              "    <tr style=\"text-align: right;\">\n",
              "      <th></th>\n",
              "      <th>App</th>\n",
              "      <th>Reviews</th>\n",
              "    </tr>\n",
              "  </thead>\n",
              "  <tbody>\n",
              "    <tr>\n",
              "      <th>79</th>\n",
              "      <td>DU Battery Saver - Battery Charger &amp; Battery Life</td>\n",
              "      <td>13479633</td>\n",
              "    </tr>\n",
              "    <tr>\n",
              "      <th>259</th>\n",
              "      <td>Need for Speed™ No Limits</td>\n",
              "      <td>3344300</td>\n",
              "    </tr>\n",
              "    <tr>\n",
              "      <th>279</th>\n",
              "      <td>Modern Combat 5: eSports FPS</td>\n",
              "      <td>2903386</td>\n",
              "    </tr>\n",
              "    <tr>\n",
              "      <th>257</th>\n",
              "      <td>EA SPORTS UFC®</td>\n",
              "      <td>2371338</td>\n",
              "    </tr>\n",
              "    <tr>\n",
              "      <th>595</th>\n",
              "      <td>Zynga Poker – Texas Holdem</td>\n",
              "      <td>1986068</td>\n",
              "    </tr>\n",
              "    <tr>\n",
              "      <th>...</th>\n",
              "      <td>...</td>\n",
              "      <td>...</td>\n",
              "    </tr>\n",
              "    <tr>\n",
              "      <th>739</th>\n",
              "      <td>ES Billing System (Offline App)</td>\n",
              "      <td>1</td>\n",
              "    </tr>\n",
              "    <tr>\n",
              "      <th>316</th>\n",
              "      <td>EB Cash Collections</td>\n",
              "      <td>1</td>\n",
              "    </tr>\n",
              "    <tr>\n",
              "      <th>1359</th>\n",
              "      <td>Monster Ride Pro</td>\n",
              "      <td>1</td>\n",
              "    </tr>\n",
              "    <tr>\n",
              "      <th>44</th>\n",
              "      <td>PhotoFrame for Synology DS</td>\n",
              "      <td>1</td>\n",
              "    </tr>\n",
              "    <tr>\n",
              "      <th>486</th>\n",
              "      <td>EJ messenger</td>\n",
              "      <td>1</td>\n",
              "    </tr>\n",
              "  </tbody>\n",
              "</table>\n",
              "<p>1404 rows × 2 columns</p>\n",
              "</div>"
            ],
            "text/plain": [
              "                                                    App   Reviews\n",
              "79    DU Battery Saver - Battery Charger & Battery Life  13479633\n",
              "259                           Need for Speed™ No Limits   3344300\n",
              "279                        Modern Combat 5: eSports FPS   2903386\n",
              "257                                      EA SPORTS UFC®   2371338\n",
              "595                          Zynga Poker – Texas Holdem   1986068\n",
              "...                                                 ...       ...\n",
              "739                     ES Billing System (Offline App)         1\n",
              "316                                 EB Cash Collections         1\n",
              "1359                                   Monster Ride Pro         1\n",
              "44                           PhotoFrame for Synology DS         1\n",
              "486                                        EJ messenger         1\n",
              "\n",
              "[1404 rows x 2 columns]"
            ]
          },
          "metadata": {
            "tags": []
          },
          "execution_count": 24
        }
      ]
    },
    {
      "cell_type": "markdown",
      "metadata": {
        "id": "IfBH7DnLmC7a"
      },
      "source": [
        "###**5.`Size`**\r\n",
        "**: Application의 용량로 이상치 존재 X**\r\n",
        "\r\n",
        "\r\n",
        "\r\n",
        "\r\n",
        "* std 값이 높고 1/4분위 수와 3/4 분위의 수의 차이가 큼<br>\r\n",
        "=> 주로 스포츠와 게임 어플의 특성 때문에 다른 분야의 어플보다 극단적으로 용량이 클 수 있음"
      ]
    },
    {
      "cell_type": "code",
      "metadata": {
        "colab": {
          "base_uri": "https://localhost:8080/"
        },
        "id": "g4ok_2zomE3C",
        "outputId": "4fc7ee07-531a-4dee-9ae2-61c4a6a1f588"
      },
      "source": [
        "df[\"Size\"].describe() #train에서 Size의 분포"
      ],
      "execution_count": null,
      "outputs": [
        {
          "output_type": "execute_result",
          "data": {
            "text/plain": [
              "count    5616.000000\n",
              "mean       21.831198\n",
              "std        22.744877\n",
              "min         0.008500\n",
              "25%         5.100000\n",
              "50%        13.000000\n",
              "75%        30.000000\n",
              "max       100.000000\n",
              "Name: Size, dtype: float64"
            ]
          },
          "metadata": {
            "tags": []
          },
          "execution_count": 25
        }
      ]
    },
    {
      "cell_type": "code",
      "metadata": {
        "colab": {
          "base_uri": "https://localhost:8080/",
          "height": 419
        },
        "id": "IupK8YihNTzx",
        "outputId": "d8dc1db7-eb71-4435-b118-a320ca48faf8"
      },
      "source": [
        "df[[\"App\",\"Size\",\"Category\"]].sort_values(by=\"Size\",ascending=False) #train에서 Size에 따른 내림차순으로 App, Category 정보 나열"
      ],
      "execution_count": null,
      "outputs": [
        {
          "output_type": "execute_result",
          "data": {
            "text/html": [
              "<div>\n",
              "<style scoped>\n",
              "    .dataframe tbody tr th:only-of-type {\n",
              "        vertical-align: middle;\n",
              "    }\n",
              "\n",
              "    .dataframe tbody tr th {\n",
              "        vertical-align: top;\n",
              "    }\n",
              "\n",
              "    .dataframe thead th {\n",
              "        text-align: right;\n",
              "    }\n",
              "</style>\n",
              "<table border=\"1\" class=\"dataframe\">\n",
              "  <thead>\n",
              "    <tr style=\"text-align: right;\">\n",
              "      <th></th>\n",
              "      <th>App</th>\n",
              "      <th>Size</th>\n",
              "      <th>Category</th>\n",
              "    </tr>\n",
              "  </thead>\n",
              "  <tbody>\n",
              "    <tr>\n",
              "      <th>607</th>\n",
              "      <td>Post Bank</td>\n",
              "      <td>100.0000</td>\n",
              "      <td>FINANCE</td>\n",
              "    </tr>\n",
              "    <tr>\n",
              "      <th>1037</th>\n",
              "      <td>Mini Golf King - Multiplayer Game</td>\n",
              "      <td>100.0000</td>\n",
              "      <td>GAME</td>\n",
              "    </tr>\n",
              "    <tr>\n",
              "      <th>5335</th>\n",
              "      <td>Car Crash III Beam DH Real Damage Simulator 2018</td>\n",
              "      <td>100.0000</td>\n",
              "      <td>GAME</td>\n",
              "    </tr>\n",
              "    <tr>\n",
              "      <th>3370</th>\n",
              "      <td>The Walking Dead: Our World</td>\n",
              "      <td>100.0000</td>\n",
              "      <td>GAME</td>\n",
              "    </tr>\n",
              "    <tr>\n",
              "      <th>3600</th>\n",
              "      <td>Gangster Town: Vice District</td>\n",
              "      <td>100.0000</td>\n",
              "      <td>FAMILY</td>\n",
              "    </tr>\n",
              "    <tr>\n",
              "      <th>...</th>\n",
              "      <td>...</td>\n",
              "      <td>...</td>\n",
              "      <td>...</td>\n",
              "    </tr>\n",
              "    <tr>\n",
              "      <th>158</th>\n",
              "      <td>Plugin:AOT v5.0</td>\n",
              "      <td>0.0230</td>\n",
              "      <td>BUSINESS</td>\n",
              "    </tr>\n",
              "    <tr>\n",
              "      <th>5086</th>\n",
              "      <td>Morse Code Reader</td>\n",
              "      <td>0.0200</td>\n",
              "      <td>COMMUNICATION</td>\n",
              "    </tr>\n",
              "    <tr>\n",
              "      <th>2995</th>\n",
              "      <td>Ad Remove Plugin for App2SD</td>\n",
              "      <td>0.0170</td>\n",
              "      <td>PRODUCTIVITY</td>\n",
              "    </tr>\n",
              "    <tr>\n",
              "      <th>3000</th>\n",
              "      <td>My baby firework (Remove ad)</td>\n",
              "      <td>0.0140</td>\n",
              "      <td>FAMILY</td>\n",
              "    </tr>\n",
              "    <tr>\n",
              "      <th>870</th>\n",
              "      <td>Essential Resources</td>\n",
              "      <td>0.0085</td>\n",
              "      <td>LIBRARIES_AND_DEMO</td>\n",
              "    </tr>\n",
              "  </tbody>\n",
              "</table>\n",
              "<p>5616 rows × 3 columns</p>\n",
              "</div>"
            ],
            "text/plain": [
              "                                                   App  ...            Category\n",
              "607                                          Post Bank  ...             FINANCE\n",
              "1037                 Mini Golf King - Multiplayer Game  ...                GAME\n",
              "5335  Car Crash III Beam DH Real Damage Simulator 2018  ...                GAME\n",
              "3370                       The Walking Dead: Our World  ...                GAME\n",
              "3600                      Gangster Town: Vice District  ...              FAMILY\n",
              "...                                                ...  ...                 ...\n",
              "158                                    Plugin:AOT v5.0  ...            BUSINESS\n",
              "5086                                 Morse Code Reader  ...       COMMUNICATION\n",
              "2995                       Ad Remove Plugin for App2SD  ...        PRODUCTIVITY\n",
              "3000                      My baby firework (Remove ad)  ...              FAMILY\n",
              "870                                Essential Resources  ...  LIBRARIES_AND_DEMO\n",
              "\n",
              "[5616 rows x 3 columns]"
            ]
          },
          "metadata": {
            "tags": []
          },
          "execution_count": 26
        }
      ]
    },
    {
      "cell_type": "code",
      "metadata": {
        "colab": {
          "base_uri": "https://localhost:8080/"
        },
        "id": "jYGSrDRHmSoD",
        "outputId": "23b9d7bc-a6dc-4250-b6c8-53af14a3102d"
      },
      "source": [
        "df_test[\"Size\"].describe() #test에서 Size의 분포"
      ],
      "execution_count": null,
      "outputs": [
        {
          "output_type": "execute_result",
          "data": {
            "text/plain": [
              "count    1404.000000\n",
              "mean       21.502735\n",
              "std        22.688011\n",
              "min         0.017000\n",
              "25%         4.000000\n",
              "50%        12.000000\n",
              "75%        33.000000\n",
              "max       100.000000\n",
              "Name: Size, dtype: float64"
            ]
          },
          "metadata": {
            "tags": []
          },
          "execution_count": 27
        }
      ]
    },
    {
      "cell_type": "code",
      "metadata": {
        "colab": {
          "base_uri": "https://localhost:8080/",
          "height": 419
        },
        "id": "4PMXS7BZNb2f",
        "outputId": "f96c4441-9ce6-4be1-a1e4-1ddea5735f56"
      },
      "source": [
        "df_test[[\"App\",\"Size\",\"Category\"]].sort_values(by=\"Size\",ascending=False) #test에서 Size에 따른 내림차순으로 App, Category 정보 나열"
      ],
      "execution_count": null,
      "outputs": [
        {
          "output_type": "execute_result",
          "data": {
            "text/html": [
              "<div>\n",
              "<style scoped>\n",
              "    .dataframe tbody tr th:only-of-type {\n",
              "        vertical-align: middle;\n",
              "    }\n",
              "\n",
              "    .dataframe tbody tr th {\n",
              "        vertical-align: top;\n",
              "    }\n",
              "\n",
              "    .dataframe thead th {\n",
              "        text-align: right;\n",
              "    }\n",
              "</style>\n",
              "<table border=\"1\" class=\"dataframe\">\n",
              "  <thead>\n",
              "    <tr style=\"text-align: right;\">\n",
              "      <th></th>\n",
              "      <th>App</th>\n",
              "      <th>Size</th>\n",
              "      <th>Category</th>\n",
              "    </tr>\n",
              "  </thead>\n",
              "  <tbody>\n",
              "    <tr>\n",
              "      <th>46</th>\n",
              "      <td>Draft Simulator for FUT 18</td>\n",
              "      <td>100.000</td>\n",
              "      <td>SPORTS</td>\n",
              "    </tr>\n",
              "    <tr>\n",
              "      <th>282</th>\n",
              "      <td>Stickman Legends: Shadow Wars</td>\n",
              "      <td>100.000</td>\n",
              "      <td>GAME</td>\n",
              "    </tr>\n",
              "    <tr>\n",
              "      <th>910</th>\n",
              "      <td>Eyes - The Scary Horror Game Adventure</td>\n",
              "      <td>99.000</td>\n",
              "      <td>GAME</td>\n",
              "    </tr>\n",
              "    <tr>\n",
              "      <th>407</th>\n",
              "      <td>L.A. Crime Stories Mad City Crime</td>\n",
              "      <td>99.000</td>\n",
              "      <td>GAME</td>\n",
              "    </tr>\n",
              "    <tr>\n",
              "      <th>545</th>\n",
              "      <td>Exiled Kingdoms RPG</td>\n",
              "      <td>99.000</td>\n",
              "      <td>FAMILY</td>\n",
              "    </tr>\n",
              "    <tr>\n",
              "      <th>...</th>\n",
              "      <td>...</td>\n",
              "      <td>...</td>\n",
              "      <td>...</td>\n",
              "    </tr>\n",
              "    <tr>\n",
              "      <th>1166</th>\n",
              "      <td>Wi-Fi settings shortcut</td>\n",
              "      <td>0.029</td>\n",
              "      <td>TOOLS</td>\n",
              "    </tr>\n",
              "    <tr>\n",
              "      <th>1165</th>\n",
              "      <td>Wi-Fi Rabbit Unlock Key</td>\n",
              "      <td>0.026</td>\n",
              "      <td>TOOLS</td>\n",
              "    </tr>\n",
              "    <tr>\n",
              "      <th>585</th>\n",
              "      <td>EM Launcher Pro</td>\n",
              "      <td>0.024</td>\n",
              "      <td>PERSONALIZATION</td>\n",
              "    </tr>\n",
              "    <tr>\n",
              "      <th>712</th>\n",
              "      <td>Fill 'er Up</td>\n",
              "      <td>0.018</td>\n",
              "      <td>TRAVEL_AND_LOCAL</td>\n",
              "    </tr>\n",
              "    <tr>\n",
              "      <th>894</th>\n",
              "      <td>ExDialer PRO Key</td>\n",
              "      <td>0.017</td>\n",
              "      <td>COMMUNICATION</td>\n",
              "    </tr>\n",
              "  </tbody>\n",
              "</table>\n",
              "<p>1404 rows × 3 columns</p>\n",
              "</div>"
            ],
            "text/plain": [
              "                                         App     Size          Category\n",
              "46                Draft Simulator for FUT 18  100.000            SPORTS\n",
              "282            Stickman Legends: Shadow Wars  100.000              GAME\n",
              "910   Eyes - The Scary Horror Game Adventure   99.000              GAME\n",
              "407        L.A. Crime Stories Mad City Crime   99.000              GAME\n",
              "545                      Exiled Kingdoms RPG   99.000            FAMILY\n",
              "...                                      ...      ...               ...\n",
              "1166                 Wi-Fi settings shortcut    0.029             TOOLS\n",
              "1165                 Wi-Fi Rabbit Unlock Key    0.026             TOOLS\n",
              "585                          EM Launcher Pro    0.024   PERSONALIZATION\n",
              "712                              Fill 'er Up    0.018  TRAVEL_AND_LOCAL\n",
              "894                         ExDialer PRO Key    0.017     COMMUNICATION\n",
              "\n",
              "[1404 rows x 3 columns]"
            ]
          },
          "metadata": {
            "tags": []
          },
          "execution_count": 28
        }
      ]
    },
    {
      "cell_type": "markdown",
      "metadata": {
        "id": "dzRjU8B6mLkd"
      },
      "source": [
        "###**6.`Installs`**\r\n",
        "**: Application의 설치수로 이상치 존재 X**\r\n",
        "\r\n",
        "* std 값이 높고 최대와 최소 값의 차이가 큼<br>\r\n",
        "=> \"Google News\", \"Subway Surfers\", \"Modern Combat 5: eSports FPS\", \"File Commander - File Manager/Explorer\t\" 와 같은 인기 어플의 경우 충분히 가능한 수치임\r\n"
      ]
    },
    {
      "cell_type": "code",
      "metadata": {
        "colab": {
          "base_uri": "https://localhost:8080/"
        },
        "id": "A4TpL9EGmN01",
        "outputId": "bc1b4e9d-e937-463f-b961-b85c054f4f0e"
      },
      "source": [
        "df[\"Installs\"].describe() #train에서 install 분포"
      ],
      "execution_count": null,
      "outputs": [
        {
          "output_type": "execute_result",
          "data": {
            "text/plain": [
              "count    5.616000e+03\n",
              "mean     5.201445e+06\n",
              "std      3.012485e+07\n",
              "min      1.000000e+00\n",
              "25%      1.000000e+04\n",
              "50%      1.000000e+05\n",
              "75%      1.000000e+06\n",
              "max      1.000000e+09\n",
              "Name: Installs, dtype: float64"
            ]
          },
          "metadata": {
            "tags": []
          },
          "execution_count": 29
        }
      ]
    },
    {
      "cell_type": "code",
      "metadata": {
        "colab": {
          "base_uri": "https://localhost:8080/",
          "height": 419
        },
        "id": "2e9DHaR0NDLA",
        "outputId": "e7faac39-f163-43f1-daa6-5e0260d97665"
      },
      "source": [
        "df[[\"App\",\"Installs\"]].sort_values(by=\"Installs\",ascending=False) #train에서 Install을 기준으로 App 내림 차순 정렬"
      ],
      "execution_count": null,
      "outputs": [
        {
          "output_type": "execute_result",
          "data": {
            "text/html": [
              "<div>\n",
              "<style scoped>\n",
              "    .dataframe tbody tr th:only-of-type {\n",
              "        vertical-align: middle;\n",
              "    }\n",
              "\n",
              "    .dataframe tbody tr th {\n",
              "        vertical-align: top;\n",
              "    }\n",
              "\n",
              "    .dataframe thead th {\n",
              "        text-align: right;\n",
              "    }\n",
              "</style>\n",
              "<table border=\"1\" class=\"dataframe\">\n",
              "  <thead>\n",
              "    <tr style=\"text-align: right;\">\n",
              "      <th></th>\n",
              "      <th>App</th>\n",
              "      <th>Installs</th>\n",
              "    </tr>\n",
              "  </thead>\n",
              "  <tbody>\n",
              "    <tr>\n",
              "      <th>2115</th>\n",
              "      <td>Google News</td>\n",
              "      <td>1.000000e+09</td>\n",
              "    </tr>\n",
              "    <tr>\n",
              "      <th>960</th>\n",
              "      <td>Subway Surfers</td>\n",
              "      <td>1.000000e+09</td>\n",
              "    </tr>\n",
              "    <tr>\n",
              "      <th>1827</th>\n",
              "      <td>SHAREit - Transfer &amp; Share</td>\n",
              "      <td>5.000000e+08</td>\n",
              "    </tr>\n",
              "    <tr>\n",
              "      <th>3419</th>\n",
              "      <td>Samsung Health</td>\n",
              "      <td>5.000000e+08</td>\n",
              "    </tr>\n",
              "    <tr>\n",
              "      <th>1973</th>\n",
              "      <td>Dropbox</td>\n",
              "      <td>5.000000e+08</td>\n",
              "    </tr>\n",
              "    <tr>\n",
              "      <th>...</th>\n",
              "      <td>...</td>\n",
              "      <td>...</td>\n",
              "    </tr>\n",
              "    <tr>\n",
              "      <th>4853</th>\n",
              "      <td>CQ ESPM</td>\n",
              "      <td>5.000000e+00</td>\n",
              "    </tr>\n",
              "    <tr>\n",
              "      <th>1440</th>\n",
              "      <td>Anatomy &amp; Physiology Vocabulary Exam Review App</td>\n",
              "      <td>5.000000e+00</td>\n",
              "    </tr>\n",
              "    <tr>\n",
              "      <th>1434</th>\n",
              "      <td>Tablet Reminder</td>\n",
              "      <td>5.000000e+00</td>\n",
              "    </tr>\n",
              "    <tr>\n",
              "      <th>1436</th>\n",
              "      <td>KBA-EZ Health Guide</td>\n",
              "      <td>1.000000e+00</td>\n",
              "    </tr>\n",
              "    <tr>\n",
              "      <th>3646</th>\n",
              "      <td>Ra Ga Ba</td>\n",
              "      <td>1.000000e+00</td>\n",
              "    </tr>\n",
              "  </tbody>\n",
              "</table>\n",
              "<p>5616 rows × 2 columns</p>\n",
              "</div>"
            ],
            "text/plain": [
              "                                                  App      Installs\n",
              "2115                                      Google News  1.000000e+09\n",
              "960                                    Subway Surfers  1.000000e+09\n",
              "1827                       SHAREit - Transfer & Share  5.000000e+08\n",
              "3419                                   Samsung Health  5.000000e+08\n",
              "1973                                          Dropbox  5.000000e+08\n",
              "...                                               ...           ...\n",
              "4853                                          CQ ESPM  5.000000e+00\n",
              "1440  Anatomy & Physiology Vocabulary Exam Review App  5.000000e+00\n",
              "1434                                  Tablet Reminder  5.000000e+00\n",
              "1436                              KBA-EZ Health Guide  1.000000e+00\n",
              "3646                                         Ra Ga Ba  1.000000e+00\n",
              "\n",
              "[5616 rows x 2 columns]"
            ]
          },
          "metadata": {
            "tags": []
          },
          "execution_count": 30
        }
      ]
    },
    {
      "cell_type": "code",
      "metadata": {
        "colab": {
          "base_uri": "https://localhost:8080/"
        },
        "id": "eQgOKS5mmZTH",
        "outputId": "f1c5206d-1f13-47c8-b98b-20679c38495f"
      },
      "source": [
        "df_test[\"Installs\"].describe() #test에서 install 분포"
      ],
      "execution_count": null,
      "outputs": [
        {
          "output_type": "execute_result",
          "data": {
            "text/plain": [
              "count    1.404000e+03\n",
              "mean     1.555711e+06\n",
              "std      6.736048e+06\n",
              "min      1.000000e+00\n",
              "25%      1.000000e+03\n",
              "50%      5.000000e+04\n",
              "75%      5.000000e+05\n",
              "max      1.000000e+08\n",
              "Name: Installs, dtype: float64"
            ]
          },
          "metadata": {
            "tags": []
          },
          "execution_count": 31
        }
      ]
    },
    {
      "cell_type": "code",
      "metadata": {
        "colab": {
          "base_uri": "https://localhost:8080/",
          "height": 419
        },
        "id": "5iracsQUNMYk",
        "outputId": "ad9e52fa-a339-496d-eae9-3cf74e9cbeae"
      },
      "source": [
        "df_test[[\"App\",\"Installs\"]].sort_values(by=\"Installs\",ascending=False) #test에서 Install을 기준으로 App 내림 차순 정렬"
      ],
      "execution_count": null,
      "outputs": [
        {
          "output_type": "execute_result",
          "data": {
            "text/html": [
              "<div>\n",
              "<style scoped>\n",
              "    .dataframe tbody tr th:only-of-type {\n",
              "        vertical-align: middle;\n",
              "    }\n",
              "\n",
              "    .dataframe tbody tr th {\n",
              "        vertical-align: top;\n",
              "    }\n",
              "\n",
              "    .dataframe thead th {\n",
              "        text-align: right;\n",
              "    }\n",
              "</style>\n",
              "<table border=\"1\" class=\"dataframe\">\n",
              "  <thead>\n",
              "    <tr style=\"text-align: right;\">\n",
              "      <th></th>\n",
              "      <th>App</th>\n",
              "      <th>Installs</th>\n",
              "    </tr>\n",
              "  </thead>\n",
              "  <tbody>\n",
              "    <tr>\n",
              "      <th>279</th>\n",
              "      <td>Modern Combat 5: eSports FPS</td>\n",
              "      <td>100000000.0</td>\n",
              "    </tr>\n",
              "    <tr>\n",
              "      <th>1023</th>\n",
              "      <td>File Commander - File Manager/Explorer</td>\n",
              "      <td>100000000.0</td>\n",
              "    </tr>\n",
              "    <tr>\n",
              "      <th>79</th>\n",
              "      <td>DU Battery Saver - Battery Charger &amp; Battery Life</td>\n",
              "      <td>100000000.0</td>\n",
              "    </tr>\n",
              "    <tr>\n",
              "      <th>595</th>\n",
              "      <td>Zynga Poker – Texas Holdem</td>\n",
              "      <td>50000000.0</td>\n",
              "    </tr>\n",
              "    <tr>\n",
              "      <th>1141</th>\n",
              "      <td>Talking Tom Bubble Shooter</td>\n",
              "      <td>50000000.0</td>\n",
              "    </tr>\n",
              "    <tr>\n",
              "      <th>...</th>\n",
              "      <td>...</td>\n",
              "      <td>...</td>\n",
              "    </tr>\n",
              "    <tr>\n",
              "      <th>486</th>\n",
              "      <td>EJ messenger</td>\n",
              "      <td>10.0</td>\n",
              "    </tr>\n",
              "    <tr>\n",
              "      <th>190</th>\n",
              "      <td>Chronolink DX</td>\n",
              "      <td>10.0</td>\n",
              "    </tr>\n",
              "    <tr>\n",
              "      <th>316</th>\n",
              "      <td>EB Cash Collections</td>\n",
              "      <td>5.0</td>\n",
              "    </tr>\n",
              "    <tr>\n",
              "      <th>1222</th>\n",
              "      <td>FK Atlantas</td>\n",
              "      <td>5.0</td>\n",
              "    </tr>\n",
              "    <tr>\n",
              "      <th>1316</th>\n",
              "      <td>Mu.F.O.</td>\n",
              "      <td>1.0</td>\n",
              "    </tr>\n",
              "  </tbody>\n",
              "</table>\n",
              "<p>1404 rows × 2 columns</p>\n",
              "</div>"
            ],
            "text/plain": [
              "                                                    App     Installs\n",
              "279                        Modern Combat 5: eSports FPS  100000000.0\n",
              "1023             File Commander - File Manager/Explorer  100000000.0\n",
              "79    DU Battery Saver - Battery Charger & Battery Life  100000000.0\n",
              "595                          Zynga Poker – Texas Holdem   50000000.0\n",
              "1141                         Talking Tom Bubble Shooter   50000000.0\n",
              "...                                                 ...          ...\n",
              "486                                        EJ messenger         10.0\n",
              "190                                       Chronolink DX         10.0\n",
              "316                                 EB Cash Collections          5.0\n",
              "1222                                        FK Atlantas          5.0\n",
              "1316                                            Mu.F.O.          1.0\n",
              "\n",
              "[1404 rows x 2 columns]"
            ]
          },
          "metadata": {
            "tags": []
          },
          "execution_count": 32
        }
      ]
    },
    {
      "cell_type": "markdown",
      "metadata": {
        "id": "7KZhrtwvmfdP"
      },
      "source": [
        "###**7.`Type`** \r\n",
        "**: 유료 / 무료 여부로 이상치 존재 X**\r\n",
        "\r\n",
        "\r\n",
        "*   압도적으로 무료(0) 어플 다운로드 수가 더 높음"
      ]
    },
    {
      "cell_type": "code",
      "metadata": {
        "colab": {
          "base_uri": "https://localhost:8080/",
          "height": 421
        },
        "id": "SW-Wb4gQmdV_",
        "outputId": "78476d26-8e0c-4873-9948-5d87a9f01482"
      },
      "source": [
        "plt.figure(figsize=(16,6))\r\n",
        "sns.countplot(x=\"Type\",data=df) #train에서 무료 / 유로 분포\r\n",
        "plt.title(\"Distribution of Type\")"
      ],
      "execution_count": null,
      "outputs": [
        {
          "output_type": "execute_result",
          "data": {
            "text/plain": [
              "Text(0.5, 1.0, 'Distribution of Type')"
            ]
          },
          "metadata": {
            "tags": []
          },
          "execution_count": 33
        },
        {
          "output_type": "display_data",
          "data": {
            "image/png": "[encoded data removed]",
            "text/plain": [
              "<Figure size 1152x432 with 1 Axes>"
            ]
          },
          "metadata": {
            "tags": [],
            "needs_background": "light"
          }
        }
      ]
    },
    {
      "cell_type": "code",
      "metadata": {
        "colab": {
          "base_uri": "https://localhost:8080/",
          "height": 421
        },
        "id": "hpLTIdsTmiCU",
        "outputId": "5b5a3b73-7aa3-4750-e322-b92930f8c6b4"
      },
      "source": [
        "plt.figure(figsize=(16,6))\r\n",
        "sns.countplot(x=\"Type\",data=df_test) #test에서 무료 / 유로 분포\r\n",
        "plt.title(\"Distribution of Type\")"
      ],
      "execution_count": null,
      "outputs": [
        {
          "output_type": "execute_result",
          "data": {
            "text/plain": [
              "Text(0.5, 1.0, 'Distribution of Type')"
            ]
          },
          "metadata": {
            "tags": []
          },
          "execution_count": 34
        },
        {
          "output_type": "display_data",
          "data": {
            "image/png": "[encoded data removed]",
            "text/plain": [
              "<Figure size 1152x432 with 1 Axes>"
            ]
          },
          "metadata": {
            "tags": [],
            "needs_background": "light"
          }
        }
      ]
    },
    {
      "cell_type": "markdown",
      "metadata": {
        "id": "QsvEB1ydmmah"
      },
      "source": [
        "###**8.`Price`**\r\n",
        "**: Application의 가격 이상치 존재 X**\r\n",
        "*   3/4분위까지 가격이 0원인 것으로 보아 유료 어플은 극히 일부임\r\n",
        "* 유료어플 중에서도 0.99달러, 2.99달러인 어플이 제일 많음\r\n",
        "* 400달러가 제일 비싼 어플로 \"I'm Rich - Trump Edition\", \"I AM RICH PRO PLUS\" 등은 쓸데없이 돈자랑 인증 어플로 Google Play Store에 있는 일종의 문화라 생각함\t"
      ]
    },
    {
      "cell_type": "code",
      "metadata": {
        "colab": {
          "base_uri": "https://localhost:8080/"
        },
        "id": "HrsgBXZomlFL",
        "outputId": "8e23ed82-e697-4d23-dc62-a0e066128f78"
      },
      "source": [
        "df[\"Price\"].unique() #train에서 Price 값"
      ],
      "execution_count": null,
      "outputs": [
        {
          "output_type": "execute_result",
          "data": {
            "text/plain": [
              "array([  0.  ,   4.99,   6.99,   7.99,   3.99,   5.99,   2.99,   1.99,\n",
              "         9.99,   0.99,   9.  ,   5.49,  10.  ,  24.99,  11.99,  79.99,\n",
              "        16.99,  14.99,  29.99,  12.99,   3.49,  10.99,   7.49,   1.5 ,\n",
              "        19.99,  15.99,  33.99,  39.99,   2.49,   4.49,   1.7 ,   1.49,\n",
              "         3.88, 399.99,  17.99, 400.  ,   3.02,   1.76,   4.84,   4.77,\n",
              "         1.61,   1.59,   6.49,   1.29, 299.99, 379.99,  37.99,  18.99,\n",
              "       389.99,   8.49,   1.75,  14.  ,   2.  ,   3.08,   2.59,  19.4 ,\n",
              "        15.46,   8.99,   3.04,  13.99,   4.29])"
            ]
          },
          "metadata": {
            "tags": []
          },
          "execution_count": 35
        }
      ]
    },
    {
      "cell_type": "code",
      "metadata": {
        "colab": {
          "base_uri": "https://localhost:8080/"
        },
        "id": "NSnlMdAamqc8",
        "outputId": "30d5f49f-dcdb-4f6c-b744-6e5cf505c6dc"
      },
      "source": [
        "df[\"Price\"].describe() #train에서 전체 가격의 분포"
      ],
      "execution_count": null,
      "outputs": [
        {
          "output_type": "execute_result",
          "data": {
            "text/plain": [
              "count    5616.000000\n",
              "mean        1.409918\n",
              "std        20.341193\n",
              "min         0.000000\n",
              "25%         0.000000\n",
              "50%         0.000000\n",
              "75%         0.000000\n",
              "max       400.000000\n",
              "Name: Price, dtype: float64"
            ]
          },
          "metadata": {
            "tags": []
          },
          "execution_count": 36
        }
      ]
    },
    {
      "cell_type": "code",
      "metadata": {
        "colab": {
          "base_uri": "https://localhost:8080/"
        },
        "id": "gQe6iSHlmsr6",
        "outputId": "55b03afd-fdea-4267-b234-3611f55e7e74"
      },
      "source": [
        "df[df[\"Price\"]>0][\"Price\"].describe() #train에서 유료 어플의 가격 분포"
      ],
      "execution_count": null,
      "outputs": [
        {
          "output_type": "execute_result",
          "data": {
            "text/plain": [
              "count    441.000000\n",
              "mean      17.954875\n",
              "std       70.586521\n",
              "min        0.990000\n",
              "25%        1.990000\n",
              "50%        2.990000\n",
              "75%        4.990000\n",
              "max      400.000000\n",
              "Name: Price, dtype: float64"
            ]
          },
          "metadata": {
            "tags": []
          },
          "execution_count": 37
        }
      ]
    },
    {
      "cell_type": "code",
      "metadata": {
        "colab": {
          "base_uri": "https://localhost:8080/",
          "height": 371
        },
        "id": "CPkhLPg3mtxC",
        "outputId": "ea686d38-2fc9-424e-9dc6-8ce6f9a0f186"
      },
      "source": [
        "plt.figure(figsize=(30,6))\r\n",
        "sns.countplot(x=\"Price\",data=df[df[\"Price\"]>0])\r\n",
        "plt.title(\"Distribution of Price of not Free Application\")"
      ],
      "execution_count": null,
      "outputs": [
        {
          "output_type": "execute_result",
          "data": {
            "text/plain": [
              "Text(0.5, 1.0, 'Distribution of Price of not Free Application')"
            ]
          },
          "metadata": {
            "tags": []
          },
          "execution_count": 38
        },
        {
          "output_type": "display_data",
          "data": {
            "image/png": "[encoded data removed]",
            "text/plain": [
              "<Figure size 2160x432 with 1 Axes>"
            ]
          },
          "metadata": {
            "tags": [],
            "needs_background": "light"
          }
        }
      ]
    },
    {
      "cell_type": "code",
      "metadata": {
        "colab": {
          "base_uri": "https://localhost:8080/",
          "height": 419
        },
        "id": "qMP0jcByPkib",
        "outputId": "f3a6ec30-62ef-4e47-e6e0-b78dbf94f491"
      },
      "source": [
        "df[[\"App\",\"Price\"]].sort_values(by=\"Price\",ascending=False) #train에서 Price을 기준으로 App 내림 차순 정렬"
      ],
      "execution_count": null,
      "outputs": [
        {
          "output_type": "execute_result",
          "data": {
            "text/html": [
              "<div>\n",
              "<style scoped>\n",
              "    .dataframe tbody tr th:only-of-type {\n",
              "        vertical-align: middle;\n",
              "    }\n",
              "\n",
              "    .dataframe tbody tr th {\n",
              "        vertical-align: top;\n",
              "    }\n",
              "\n",
              "    .dataframe thead th {\n",
              "        text-align: right;\n",
              "    }\n",
              "</style>\n",
              "<table border=\"1\" class=\"dataframe\">\n",
              "  <thead>\n",
              "    <tr style=\"text-align: right;\">\n",
              "      <th></th>\n",
              "      <th>App</th>\n",
              "      <th>Price</th>\n",
              "    </tr>\n",
              "  </thead>\n",
              "  <tbody>\n",
              "    <tr>\n",
              "      <th>2510</th>\n",
              "      <td>I'm Rich - Trump Edition</td>\n",
              "      <td>400.00</td>\n",
              "    </tr>\n",
              "    <tr>\n",
              "      <th>3253</th>\n",
              "      <td>I AM RICH PRO PLUS</td>\n",
              "      <td>399.99</td>\n",
              "    </tr>\n",
              "    <tr>\n",
              "      <th>3236</th>\n",
              "      <td>I Am Rich Premium</td>\n",
              "      <td>399.99</td>\n",
              "    </tr>\n",
              "    <tr>\n",
              "      <th>3244</th>\n",
              "      <td>I am rich (Most expensive app)</td>\n",
              "      <td>399.99</td>\n",
              "    </tr>\n",
              "    <tr>\n",
              "      <th>2506</th>\n",
              "      <td>💎 I'm rich</td>\n",
              "      <td>399.99</td>\n",
              "    </tr>\n",
              "    <tr>\n",
              "      <th>...</th>\n",
              "      <td>...</td>\n",
              "      <td>...</td>\n",
              "    </tr>\n",
              "    <tr>\n",
              "      <th>1900</th>\n",
              "      <td>New Launcher 2018</td>\n",
              "      <td>0.00</td>\n",
              "    </tr>\n",
              "    <tr>\n",
              "      <th>1899</th>\n",
              "      <td>Color Call - Caller Screen, LED Flash</td>\n",
              "      <td>0.00</td>\n",
              "    </tr>\n",
              "    <tr>\n",
              "      <th>1898</th>\n",
              "      <td>ZenUI Launcher</td>\n",
              "      <td>0.00</td>\n",
              "    </tr>\n",
              "    <tr>\n",
              "      <th>1897</th>\n",
              "      <td>Funny Alarm Clock Ringtones</td>\n",
              "      <td>0.00</td>\n",
              "    </tr>\n",
              "    <tr>\n",
              "      <th>2808</th>\n",
              "      <td>Lock Screen Phone X Style OS 11</td>\n",
              "      <td>0.00</td>\n",
              "    </tr>\n",
              "  </tbody>\n",
              "</table>\n",
              "<p>5616 rows × 2 columns</p>\n",
              "</div>"
            ],
            "text/plain": [
              "                                        App   Price\n",
              "2510               I'm Rich - Trump Edition  400.00\n",
              "3253                     I AM RICH PRO PLUS  399.99\n",
              "3236                      I Am Rich Premium  399.99\n",
              "3244         I am rich (Most expensive app)  399.99\n",
              "2506                             💎 I'm rich  399.99\n",
              "...                                     ...     ...\n",
              "1900                      New Launcher 2018    0.00\n",
              "1899  Color Call - Caller Screen, LED Flash    0.00\n",
              "1898                         ZenUI Launcher    0.00\n",
              "1897            Funny Alarm Clock Ringtones    0.00\n",
              "2808        Lock Screen Phone X Style OS 11    0.00\n",
              "\n",
              "[5616 rows x 2 columns]"
            ]
          },
          "metadata": {
            "tags": []
          },
          "execution_count": 39
        }
      ]
    },
    {
      "cell_type": "code",
      "metadata": {
        "colab": {
          "base_uri": "https://localhost:8080/"
        },
        "id": "8iB7wAIEmvb1",
        "outputId": "726c4914-547c-404c-fef1-2573a6fc5b02"
      },
      "source": [
        "df_test[\"Price\"].describe() #전체 가격의 분포"
      ],
      "execution_count": null,
      "outputs": [
        {
          "output_type": "execute_result",
          "data": {
            "text/plain": [
              "count    1404.000000\n",
              "mean        0.232272\n",
              "std         1.141627\n",
              "min         0.000000\n",
              "25%         0.000000\n",
              "50%         0.000000\n",
              "75%         0.000000\n",
              "max        16.990000\n",
              "Name: Price, dtype: float64"
            ]
          },
          "metadata": {
            "tags": []
          },
          "execution_count": 40
        }
      ]
    },
    {
      "cell_type": "code",
      "metadata": {
        "colab": {
          "base_uri": "https://localhost:8080/"
        },
        "id": "4uqTwO5Zmzga",
        "outputId": "a0b65bc7-a22c-4bc5-d8a6-29d2e9edbbb4"
      },
      "source": [
        "df_test[df_test[\"Price\"]>0][\"Price\"].describe() #유료 어플의 가격 분포"
      ],
      "execution_count": null,
      "outputs": [
        {
          "output_type": "execute_result",
          "data": {
            "text/plain": [
              "count    98.000000\n",
              "mean      3.327653\n",
              "std       2.905932\n",
              "min       0.990000\n",
              "25%       1.050000\n",
              "50%       2.990000\n",
              "75%       3.990000\n",
              "max      16.990000\n",
              "Name: Price, dtype: float64"
            ]
          },
          "metadata": {
            "tags": []
          },
          "execution_count": 41
        }
      ]
    },
    {
      "cell_type": "code",
      "metadata": {
        "colab": {
          "base_uri": "https://localhost:8080/",
          "height": 371
        },
        "id": "S29J4ZHCm1BO",
        "outputId": "f90ab25e-d3d4-4696-8e59-9bcb0bad24d6"
      },
      "source": [
        "plt.figure(figsize=(30,6))\r\n",
        "sns.countplot(x=\"Price\",data=df_test[df_test[\"Price\"]>0])\r\n",
        "plt.title(\"Distribution of Price of not Free Application\")"
      ],
      "execution_count": null,
      "outputs": [
        {
          "output_type": "execute_result",
          "data": {
            "text/plain": [
              "Text(0.5, 1.0, 'Distribution of Price of not Free Application')"
            ]
          },
          "metadata": {
            "tags": []
          },
          "execution_count": 42
        },
        {
          "output_type": "display_data",
          "data": {
            "image/png": "[encoded data removed]",
            "text/plain": [
              "<Figure size 2160x432 with 1 Axes>"
            ]
          },
          "metadata": {
            "tags": [],
            "needs_background": "light"
          }
        }
      ]
    },
    {
      "cell_type": "code",
      "metadata": {
        "colab": {
          "base_uri": "https://localhost:8080/",
          "height": 419
        },
        "id": "AgPKuRf1P2qI",
        "outputId": "93a863d1-bce3-4cc7-dff7-5b67851d215c"
      },
      "source": [
        "df_test[[\"App\",\"Price\"]].sort_values(by=\"Price\",ascending=False) #test에서 Price을 기준으로 App 내림 차순 정렬"
      ],
      "execution_count": null,
      "outputs": [
        {
          "output_type": "execute_result",
          "data": {
            "text/html": [
              "<div>\n",
              "<style scoped>\n",
              "    .dataframe tbody tr th:only-of-type {\n",
              "        vertical-align: middle;\n",
              "    }\n",
              "\n",
              "    .dataframe tbody tr th {\n",
              "        vertical-align: top;\n",
              "    }\n",
              "\n",
              "    .dataframe thead th {\n",
              "        text-align: right;\n",
              "    }\n",
              "</style>\n",
              "<table border=\"1\" class=\"dataframe\">\n",
              "  <thead>\n",
              "    <tr style=\"text-align: right;\">\n",
              "      <th></th>\n",
              "      <th>App</th>\n",
              "      <th>Price</th>\n",
              "    </tr>\n",
              "  </thead>\n",
              "  <tbody>\n",
              "    <tr>\n",
              "      <th>1365</th>\n",
              "      <td>Trine 2: Complete Story</td>\n",
              "      <td>16.99</td>\n",
              "    </tr>\n",
              "    <tr>\n",
              "      <th>318</th>\n",
              "      <td>Electrician Calculator Pro</td>\n",
              "      <td>14.99</td>\n",
              "    </tr>\n",
              "    <tr>\n",
              "      <th>377</th>\n",
              "      <td>Carrier Landings Pro</td>\n",
              "      <td>12.99</td>\n",
              "    </tr>\n",
              "    <tr>\n",
              "      <th>310</th>\n",
              "      <td>RPG ブレイジング ソウルズ アクセレイト</td>\n",
              "      <td>10.99</td>\n",
              "    </tr>\n",
              "    <tr>\n",
              "      <th>846</th>\n",
              "      <td>XCOM®: Enemy Within</td>\n",
              "      <td>9.99</td>\n",
              "    </tr>\n",
              "    <tr>\n",
              "      <th>...</th>\n",
              "      <td>...</td>\n",
              "      <td>...</td>\n",
              "    </tr>\n",
              "    <tr>\n",
              "      <th>485</th>\n",
              "      <td>Bad Piggies HD</td>\n",
              "      <td>0.00</td>\n",
              "    </tr>\n",
              "    <tr>\n",
              "      <th>484</th>\n",
              "      <td>Ambulance Rescue Simulator 17</td>\n",
              "      <td>0.00</td>\n",
              "    </tr>\n",
              "    <tr>\n",
              "      <th>483</th>\n",
              "      <td>EJ Insight</td>\n",
              "      <td>0.00</td>\n",
              "    </tr>\n",
              "    <tr>\n",
              "      <th>482</th>\n",
              "      <td>Super Sport Car Simulator</td>\n",
              "      <td>0.00</td>\n",
              "    </tr>\n",
              "    <tr>\n",
              "      <th>1403</th>\n",
              "      <td>iHoroscope - 2018 Daily Horoscope &amp; Astrology</td>\n",
              "      <td>0.00</td>\n",
              "    </tr>\n",
              "  </tbody>\n",
              "</table>\n",
              "<p>1404 rows × 2 columns</p>\n",
              "</div>"
            ],
            "text/plain": [
              "                                                App  Price\n",
              "1365                        Trine 2: Complete Story  16.99\n",
              "318                      Electrician Calculator Pro  14.99\n",
              "377                            Carrier Landings Pro  12.99\n",
              "310                          RPG ブレイジング ソウルズ アクセレイト  10.99\n",
              "846                             XCOM®: Enemy Within   9.99\n",
              "...                                             ...    ...\n",
              "485                                  Bad Piggies HD   0.00\n",
              "484                   Ambulance Rescue Simulator 17   0.00\n",
              "483                                      EJ Insight   0.00\n",
              "482                       Super Sport Car Simulator   0.00\n",
              "1403  iHoroscope - 2018 Daily Horoscope & Astrology   0.00\n",
              "\n",
              "[1404 rows x 2 columns]"
            ]
          },
          "metadata": {
            "tags": []
          },
          "execution_count": 43
        }
      ]
    },
    {
      "cell_type": "markdown",
      "metadata": {
        "id": "xD-lJi63m9o5"
      },
      "source": [
        "###**9.`Content Rating`** \r\n",
        "**: 이용 적정 연령층으로 이상치 존재 X**\r\n",
        "\r\n",
        "\r\n",
        "*  대부분 전연령층이 사용 가능한 어플\r\n",
        "*   object형으로 차후 Feature Engineering 필요"
      ]
    },
    {
      "cell_type": "code",
      "metadata": {
        "colab": {
          "base_uri": "https://localhost:8080/"
        },
        "id": "ABDfBrc2m_Be",
        "outputId": "df341c0a-86bc-489a-e6c1-d77016710b19"
      },
      "source": [
        "print(\"#\",len(df[\"Content Rating\"].unique()),\"numbers of Content Rating class\") #train data\r\n",
        "print(df[\"Content Rating\"].unique()) #\r\n",
        "print(df[\"Content Rating\"].value_counts())"
      ],
      "execution_count": null,
      "outputs": [
        {
          "output_type": "stream",
          "text": [
            "# 6 numbers of Content Rating class\n",
            "['Everyone' 'Teen' 'Everyone 10+' 'Mature 17+' 'Adults only 18+' 'Unrated']\n",
            "Everyone           4531\n",
            "Teen                589\n",
            "Mature 17+          281\n",
            "Everyone 10+        212\n",
            "Adults only 18+       2\n",
            "Unrated               1\n",
            "Name: Content Rating, dtype: int64\n"
          ],
          "name": "stdout"
        }
      ]
    },
    {
      "cell_type": "code",
      "metadata": {
        "colab": {
          "base_uri": "https://localhost:8080/",
          "height": 421
        },
        "id": "xHDdLBFbnB6M",
        "outputId": "f3902ff7-2799-4dcd-864e-ae2bb3072d0a"
      },
      "source": [
        "plt.figure(figsize=(16,6))\r\n",
        "sns.countplot(x=\"Content Rating\",data=df)\r\n",
        "plt.title(\"Distribution of Content Rating\")"
      ],
      "execution_count": null,
      "outputs": [
        {
          "output_type": "execute_result",
          "data": {
            "text/plain": [
              "Text(0.5, 1.0, 'Distribution of Content Rating')"
            ]
          },
          "metadata": {
            "tags": []
          },
          "execution_count": 45
        },
        {
          "output_type": "display_data",
          "data": {
            "image/png": "[encoded data removed]",
            "text/plain": [
              "<Figure size 1152x432 with 1 Axes>"
            ]
          },
          "metadata": {
            "tags": [],
            "needs_background": "light"
          }
        }
      ]
    },
    {
      "cell_type": "code",
      "metadata": {
        "colab": {
          "base_uri": "https://localhost:8080/"
        },
        "id": "f0uBoRzonEfp",
        "outputId": "7217d7db-72aa-455a-82f9-323e47f5f79c"
      },
      "source": [
        "print(\"#\",len(df_test[\"Content Rating\"].unique()),\"numbers of Content Rating class\") #test data\r\n",
        "print(df_test[\"Content Rating\"].unique()) \r\n",
        "print(df_test[\"Content Rating\"].value_counts())"
      ],
      "execution_count": null,
      "outputs": [
        {
          "output_type": "stream",
          "text": [
            "# 4 numbers of Content Rating class\n",
            "['Everyone' 'Teen' 'Everyone 10+' 'Mature 17+']\n",
            "Everyone        1145\n",
            "Teen             189\n",
            "Everyone 10+      47\n",
            "Mature 17+        23\n",
            "Name: Content Rating, dtype: int64\n"
          ],
          "name": "stdout"
        }
      ]
    },
    {
      "cell_type": "code",
      "metadata": {
        "colab": {
          "base_uri": "https://localhost:8080/",
          "height": 421
        },
        "id": "3IuYkfcdnEwa",
        "outputId": "dcb6bb3c-a49f-4251-e2e9-55e061917b10"
      },
      "source": [
        "plt.figure(figsize=(16,6))\r\n",
        "sns.countplot(x=\"Content Rating\",data=df_test)\r\n",
        "plt.title(\"Distribution of Content Rating\")"
      ],
      "execution_count": null,
      "outputs": [
        {
          "output_type": "execute_result",
          "data": {
            "text/plain": [
              "Text(0.5, 1.0, 'Distribution of Content Rating')"
            ]
          },
          "metadata": {
            "tags": []
          },
          "execution_count": 47
        },
        {
          "output_type": "display_data",
          "data": {
            "image/png": "[encoded data removed]",
            "text/plain": [
              "<Figure size 1152x432 with 1 Axes>"
            ]
          },
          "metadata": {
            "tags": [],
            "needs_background": "light"
          }
        }
      ]
    },
    {
      "cell_type": "markdown",
      "metadata": {
        "id": "jbP3kplcnO2F"
      },
      "source": [
        "###**10.`Genres`** \r\n",
        "**: 속하는 여러 개의 장르로 이상치 존재 X**\r\n",
        "*   object형으로 차후 Feature Engineering 필요\r\n"
      ]
    },
    {
      "cell_type": "code",
      "metadata": {
        "colab": {
          "base_uri": "https://localhost:8080/"
        },
        "id": "eB2FQHPknOiU",
        "outputId": "e34da44e-85a9-4608-fe5d-3a146b4bff72"
      },
      "source": [
        "print(\"#\",len(df[\"Genres\"].unique()),\"numbers of Genres class\\n\") #train data\r\n",
        "print(df[\"Genres\"].unique()) #"
      ],
      "execution_count": null,
      "outputs": [
        {
          "output_type": "stream",
          "text": [
            "# 106 numbers of Genres class\n",
            "\n",
            "['Art & Design' 'Art & Design;Pretend Play' 'Art & Design;Creativity'\n",
            " 'Auto & Vehicles' 'Beauty' 'Books & Reference' 'Business' 'Comics'\n",
            " 'Comics;Creativity' 'Communication' 'Dating' 'Education'\n",
            " 'Education;Creativity' 'Education;Education'\n",
            " 'Education;Action & Adventure' 'Education;Pretend Play'\n",
            " 'Education;Brain Games' 'Entertainment' 'Entertainment;Brain Games'\n",
            " 'Entertainment;Music & Video' 'Events' 'Finance' 'Food & Drink'\n",
            " 'Health & Fitness' 'House & Home' 'Libraries & Demo' 'Lifestyle'\n",
            " 'Lifestyle;Pretend Play' 'Adventure;Action & Adventure' 'Arcade' 'Casual'\n",
            " 'Card' 'Casual;Pretend Play' 'Strategy' 'Action' 'Puzzle' 'Sports' 'Word'\n",
            " 'Racing' 'Casual;Creativity' 'Simulation' 'Adventure' 'Board' 'Trivia'\n",
            " 'Role Playing' 'Simulation;Education' 'Action;Action & Adventure'\n",
            " 'Casual;Brain Games' 'Simulation;Action & Adventure'\n",
            " 'Educational;Creativity' 'Puzzle;Brain Games' 'Educational;Education'\n",
            " 'Educational;Brain Games' 'Educational;Pretend Play'\n",
            " 'Casual;Action & Adventure' 'Entertainment;Education' 'Casual;Education'\n",
            " 'Music;Music & Video' 'Arcade;Pretend Play' 'Simulation;Pretend Play'\n",
            " 'Puzzle;Creativity' 'Racing;Action & Adventure'\n",
            " 'Educational;Action & Adventure' 'Arcade;Action & Adventure'\n",
            " 'Entertainment;Action & Adventure' 'Puzzle;Action & Adventure'\n",
            " 'Role Playing;Action & Adventure' 'Strategy;Action & Adventure'\n",
            " 'Music & Audio;Music & Video' 'Health & Fitness;Education'\n",
            " 'Adventure;Education' 'Board;Brain Games' 'Board;Action & Adventure'\n",
            " 'Board;Pretend Play' 'Casual;Music & Video' 'Education;Music & Video'\n",
            " 'Role Playing;Pretend Play' 'Entertainment;Pretend Play'\n",
            " 'Video Players & Editors;Creativity' 'Card;Action & Adventure' 'Medical'\n",
            " 'Social' 'Shopping' 'Photography' 'Travel & Local'\n",
            " 'Travel & Local;Action & Adventure' 'Tools' 'Personalization'\n",
            " 'Productivity' 'Parenting' 'Parenting;Brain Games' 'Parenting;Education'\n",
            " 'Parenting;Music & Video' 'Weather' 'Video Players & Editors'\n",
            " 'News & Magazines' 'Maps & Navigation'\n",
            " 'Health & Fitness;Action & Adventure' 'Music' 'Educational' 'Casino'\n",
            " 'Adventure;Brain Games' 'Video Players & Editors;Music & Video'\n",
            " 'Entertainment;Creativity' 'Sports;Action & Adventure'\n",
            " 'Books & Reference;Education']\n"
          ],
          "name": "stdout"
        }
      ]
    },
    {
      "cell_type": "code",
      "metadata": {
        "colab": {
          "base_uri": "https://localhost:8080/"
        },
        "id": "Dj0nkiJ8nSEy",
        "outputId": "911e7d68-a802-4bd6-db3c-ab27a487beef"
      },
      "source": [
        "df['Genres'].value_counts().sort_values()"
      ],
      "execution_count": null,
      "outputs": [
        {
          "output_type": "execute_result",
          "data": {
            "text/plain": [
              "Music & Audio;Music & Video      1\n",
              "Arcade;Pretend Play              1\n",
              "Art & Design;Pretend Play        1\n",
              "Adventure;Education              1\n",
              "Adventure;Brain Games            1\n",
              "                              ... \n",
              "Personalization                227\n",
              "Medical                        253\n",
              "Education                      309\n",
              "Entertainment                  337\n",
              "Tools                          463\n",
              "Name: Genres, Length: 106, dtype: int64"
            ]
          },
          "metadata": {
            "tags": []
          },
          "execution_count": 49
        }
      ]
    },
    {
      "cell_type": "code",
      "metadata": {
        "colab": {
          "base_uri": "https://localhost:8080/"
        },
        "id": "T3-JcpIunUcP",
        "outputId": "53099eec-0074-4cd2-decf-d2b01e032d7e"
      },
      "source": [
        "print(\"#\",len(df_test[\"Genres\"].unique()),\"numbers of Genres class\\n\") #test data\r\n",
        "print(df_test[\"Genres\"].unique()) #"
      ],
      "execution_count": null,
      "outputs": [
        {
          "output_type": "stream",
          "text": [
            "# 73 numbers of Genres class\n",
            "\n",
            "['Productivity' 'Entertainment' 'Racing' 'Health & Fitness'\n",
            " 'Books & Reference;Education' 'Tools' 'Education;Pretend Play'\n",
            " 'Educational;Pretend Play' 'Role Playing;Pretend Play'\n",
            " 'Books & Reference' 'Puzzle' 'Board' 'Education' 'Action' 'Arcade'\n",
            " 'Casual' 'Weather' 'Photography' 'Maps & Navigation' 'Sports' 'Finance'\n",
            " 'Role Playing' 'Business' 'Simulation' 'Strategy' 'Communication'\n",
            " 'Auto & Vehicles' 'Shopping' 'Lifestyle' 'Art & Design' 'Personalization'\n",
            " 'News & Magazines' 'Video Players & Editors' 'House & Home'\n",
            " 'Travel & Local' 'Social' 'Educational;Education' 'Events'\n",
            " 'Simulation;Education' 'Medical' 'Educational;Action & Adventure'\n",
            " 'Adventure' 'Sports;Action & Adventure' 'Card' 'Word' 'Beauty'\n",
            " 'Education;Education' 'Parenting' 'Education;Action & Adventure' 'Trivia'\n",
            " 'Board;Brain Games' 'Entertainment;Music & Video' 'Educational'\n",
            " 'Educational;Creativity' 'Entertainment;Action & Adventure'\n",
            " 'Music;Music & Video' 'Casual;Pretend Play' 'Food & Drink'\n",
            " 'Puzzle;Education' 'Casino' 'Puzzle;Brain Games'\n",
            " 'Role Playing;Brain Games' 'Strategy;Education' 'Educational;Brain Games'\n",
            " 'Racing;Pretend Play' 'Action;Action & Adventure' 'Casual;Brain Games'\n",
            " 'Libraries & Demo' 'Puzzle;Creativity' 'Dating'\n",
            " 'Entertainment;Pretend Play' 'Strategy;Creativity' 'Comics']\n"
          ],
          "name": "stdout"
        }
      ]
    },
    {
      "cell_type": "code",
      "metadata": {
        "colab": {
          "base_uri": "https://localhost:8080/"
        },
        "id": "9-5APUIenVpb",
        "outputId": "ffae8299-0bef-48a0-bb35-079d00443f13"
      },
      "source": [
        "df_test['Genres'].value_counts().sort_values()"
      ],
      "execution_count": null,
      "outputs": [
        {
          "output_type": "execute_result",
          "data": {
            "text/plain": [
              "Educational;Brain Games               1\n",
              "Parenting                             1\n",
              "Entertainment;Action & Adventure      1\n",
              "Role Playing;Brain Games              1\n",
              "Casual;Brain Games                    1\n",
              "                                   ... \n",
              "Simulation                           66\n",
              "Sports                               78\n",
              "Entertainment                        80\n",
              "Education                            82\n",
              "Tools                               162\n",
              "Name: Genres, Length: 73, dtype: int64"
            ]
          },
          "metadata": {
            "tags": []
          },
          "execution_count": 51
        }
      ]
    },
    {
      "cell_type": "markdown",
      "metadata": {
        "id": "iEBlXsnqncKB"
      },
      "source": [
        "###**11.`Last Updated`** \r\n",
        "**: 가장 최근에 업데이트된 날짜로 이상치 존재 X**\r\n",
        "*   object형으로 차후 Feature Engineering 필요"
      ]
    },
    {
      "cell_type": "code",
      "metadata": {
        "colab": {
          "base_uri": "https://localhost:8080/"
        },
        "id": "N9lD4OWInWmM",
        "outputId": "bc88d0cc-262c-455e-d212-c85f8e784c5c"
      },
      "source": [
        "df[\"Last Updated\"].value_counts() #train data"
      ],
      "execution_count": null,
      "outputs": [
        {
          "output_type": "execute_result",
          "data": {
            "text/plain": [
              "2018-08-03    162\n",
              "2018-07-31    127\n",
              "2018-08-01    125\n",
              "2018-08-02    125\n",
              "2018-07-30     91\n",
              "             ... \n",
              "2016-07-27      1\n",
              "2014-10-18      1\n",
              "2013-09-23      1\n",
              "2017-03-24      1\n",
              "2013-08-31      1\n",
              "Name: Last Updated, Length: 1132, dtype: int64"
            ]
          },
          "metadata": {
            "tags": []
          },
          "execution_count": 52
        }
      ]
    },
    {
      "cell_type": "code",
      "metadata": {
        "colab": {
          "base_uri": "https://localhost:8080/"
        },
        "id": "eCO8FeGvnguN",
        "outputId": "957e45d7-097c-42a6-dfc4-a5de06046a67"
      },
      "source": [
        "df_test[\"Last Updated\"].value_counts() #test data"
      ],
      "execution_count": null,
      "outputs": [
        {
          "output_type": "execute_result",
          "data": {
            "text/plain": [
              "2018-08-07    20\n",
              "2018-08-01    19\n",
              "2018-08-02    18\n",
              "2018-07-26    15\n",
              "2018-08-06    14\n",
              "              ..\n",
              "2017-09-30     1\n",
              "2017-04-29     1\n",
              "2016-10-31     1\n",
              "2017-07-10     1\n",
              "2017-03-03     1\n",
              "Name: Last Updated, Length: 678, dtype: int64"
            ]
          },
          "metadata": {
            "tags": []
          },
          "execution_count": 53
        }
      ]
    },
    {
      "cell_type": "markdown",
      "metadata": {
        "id": "lLNtq4JqnkHv"
      },
      "source": [
        "###**12.`Id`** \r\n",
        "**: 제품의 번호로 이상치 존재 X**"
      ]
    },
    {
      "cell_type": "code",
      "metadata": {
        "colab": {
          "base_uri": "https://localhost:8080/"
        },
        "id": "cq0prVRynikC",
        "outputId": "84f9be76-175b-4d46-9ec3-199356c34923"
      },
      "source": [
        "print(len(df[\"Id\"].unique()),\"number of Id\") #train data"
      ],
      "execution_count": null,
      "outputs": [
        {
          "output_type": "stream",
          "text": [
            "5616 number of Id\n"
          ],
          "name": "stdout"
        }
      ]
    },
    {
      "cell_type": "code",
      "metadata": {
        "colab": {
          "base_uri": "https://localhost:8080/"
        },
        "id": "awKDEPfHnpM3",
        "outputId": "2114ddf7-e838-4c2f-cc04-f9684c326f2e"
      },
      "source": [
        "print(len(df_test[\"Id\"].unique()),\"number of Id\") #test data"
      ],
      "execution_count": null,
      "outputs": [
        {
          "output_type": "stream",
          "text": [
            "1404 number of Id\n"
          ],
          "name": "stdout"
        }
      ]
    },
    {
      "cell_type": "markdown",
      "metadata": {
        "id": "RCqssZ0_pMlM"
      },
      "source": [
        "#**Feature / Target 데이터 세트 생성**"
      ]
    },
    {
      "cell_type": "code",
      "metadata": {
        "id": "AexQkEmEpNYk"
      },
      "source": [
        "y=df[\"Rating\"] #Target data - 어플의 Rating을 예측하는 문제\r\n",
        "x=df.drop(\"Rating\",axis=1,inplace=False) #Feature data"
      ],
      "execution_count": null,
      "outputs": []
    },
    {
      "cell_type": "markdown",
      "metadata": {
        "id": "Pr6_q5EEo5rZ"
      },
      "source": [
        "#**Feature Engineering**"
      ]
    },
    {
      "cell_type": "markdown",
      "metadata": {
        "id": "vhP363KUpTpO"
      },
      "source": [
        "train과 test에서의 범주형 변수의 class label의 갯수와 종류가 서로 달라<br> 각각 따로 scaling과 encoding하는 경우 data의 같은 class를 표현하는 label 값이 달라질 수 있어<br> 합쳐서 한 번에 feature engineering과 encoding을 진행 "
      ]
    },
    {
      "cell_type": "code",
      "metadata": {
        "id": "siQLFiQbp5-a"
      },
      "source": [
        "X=pd.concat([x, df_test], axis=0, sort=False) #train과 test 합치기"
      ],
      "execution_count": null,
      "outputs": []
    },
    {
      "cell_type": "markdown",
      "metadata": {
        "id": "e_aGPEUyo86A"
      },
      "source": [
        "##**1.불필요한 Feature 삭제 : `App`, `Type`**"
      ]
    },
    {
      "cell_type": "markdown",
      "metadata": {
        "id": "Zoe-Xrfbo-6I"
      },
      "source": [
        "* `App`는 각 row의 해당하는 어플이 중복됨이 없고 각각 고유한 것으로 확인됨에 따라 삭제\r\n",
        "* `Price`의 명시된 구체적인 가격으로 무료/유료의 여부를 판단할 수 있어 `Type` 삭제"
      ]
    },
    {
      "cell_type": "code",
      "metadata": {
        "id": "6dS6FWOfnqZS"
      },
      "source": [
        "X.drop(labels = ['App',\"Type\"], axis = 1, inplace = True)"
      ],
      "execution_count": null,
      "outputs": []
    },
    {
      "cell_type": "markdown",
      "metadata": {
        "id": "Y-HglikKp-xQ"
      },
      "source": [
        "##**2.`Last Updated` -> `Updated`**\r\n",
        "* 출시된 이후로 지속적인 어플의 업데이트는<br> 어플을 사용하고 평가에 큰 영향을 미침<br> => 업데이트된 특정 날짜 대신 업데이트가 된 기간으로 변경"
      ]
    },
    {
      "cell_type": "code",
      "metadata": {
        "id": "0A-HnrLep_J8"
      },
      "source": [
        "X['Updated'] = (pd.to_datetime(df['Last Updated']) - pd.to_datetime('2010-05-21')).dt.days.astype(np.float32)\r\n",
        "X.drop('Last Updated', axis=1,inplace=True)"
      ],
      "execution_count": null,
      "outputs": []
    },
    {
      "cell_type": "markdown",
      "metadata": {
        "id": "VFsJdpEdqEFy"
      },
      "source": [
        "##**3. `Gentres` 처리**\r\n",
        "\r\n",
        "\r\n",
        "*   ; 를 기준으로 동시에 여러개 분류 한 번에 표시한 것을 나눠서 따로 class 줌"
      ]
    },
    {
      "cell_type": "code",
      "metadata": {
        "id": "TJBRngfGqElY"
      },
      "source": [
        "\r\n",
        "Genre_1 = X.Genres.apply(lambda x:x.split(';')[0])\r\n",
        "X['Genre_1']=Genre_1\r\n",
        "\r\n",
        "Genre_2= X.Genres.apply(lambda x:x.split(';')[-1])\r\n",
        "X['Genre_2']=Genre_2\r\n",
        "\r\n",
        "X.drop(\"Genres\",axis=1,inplace=True)"
      ],
      "execution_count": null,
      "outputs": []
    },
    {
      "cell_type": "markdown",
      "metadata": {
        "id": "mFhiePQWqQn6"
      },
      "source": [
        "##**4. Feature Engineering 후 변수 구분**\r\n",
        "\r\n",
        "\r\n",
        "\r\n",
        "\r\n",
        "|변수 종류|Feature 명|\r\n",
        "|------|---|\r\n",
        "|discrete variable|`Category`,`Content Rating`,`Genre_1`,`Genre_1`|\r\n",
        "|target variable|`Rating`|\r\n",
        "|continuous variavle|`Reviews`, `Size`, `Installs`, `Price`,`Undated`|\r\n"
      ]
    },
    {
      "cell_type": "code",
      "metadata": {
        "id": "-YwMAQnNqIcJ"
      },
      "source": [
        "dis_var=[\"Category\",\"Content Rating\",\"Genre_1\",\"Genre_2\"]\r\n",
        "target=\"Rating\"\r\n",
        "con_var=[\"Reviews\",\"Size\",\"Installs\",\"Price\",\"Updated\"]"
      ],
      "execution_count": null,
      "outputs": []
    },
    {
      "cell_type": "markdown",
      "metadata": {
        "id": "Ur_29htNrI-v"
      },
      "source": [
        "##**5.Label Encoding**"
      ]
    },
    {
      "cell_type": "markdown",
      "metadata": {
        "id": "50xPAZEbR6LU"
      },
      "source": [
        "* 회귀 트리 모델의 경우 Label Encoding된 데이터 이용"
      ]
    },
    {
      "cell_type": "code",
      "metadata": {
        "id": "A8FeY40UrH_f"
      },
      "source": [
        "Le=LabelEncoder() \r\n",
        "for feature in dis_var:\r\n",
        "  Le.fit(X[feature])\r\n",
        "  X[feature] = Le.transform(X[feature])"
      ],
      "execution_count": null,
      "outputs": []
    },
    {
      "cell_type": "markdown",
      "metadata": {
        "id": "sdip-OZ9rO90"
      },
      "source": [
        "##**6. RobustScaler**\r\n",
        "\r\n",
        "\r\n",
        "\r\n",
        "*   아웃라이어의 영향을 최소화한 기법\r\n",
        "* 중앙값(median)과 IQR(interquartile range) 이용<br>-> StandardScaler 비교: 표준화 후 동일한 값을 더 넓게 분포시킴\r\n",
        "* IQR = Q3 - Q1 : 25%과 75%의 값 다룸\r\n",
        "\r\n",
        "\r\n"
      ]
    },
    {
      "cell_type": "code",
      "metadata": {
        "id": "BAfspSznrSIk"
      },
      "source": [
        "X_rs=pd.DataFrame.copy(X) \r\n",
        "rs = RobustScaler()\r\n",
        "rs.fit(X[con_var])\r\n",
        "X_rs[con_var]= rs.transform(X_rs[con_var])"
      ],
      "execution_count": null,
      "outputs": []
    },
    {
      "cell_type": "markdown",
      "metadata": {
        "id": "UqGzCOFtrxk_"
      },
      "source": [
        "##**7. One-hot Encoding**\r\n",
        "* 선형 회귀 모델에 사용"
      ]
    },
    {
      "cell_type": "code",
      "metadata": {
        "id": "hPyN-NIhr39x"
      },
      "source": [
        "X_ohe=pd.get_dummies(X_rs, columns=dis_var)"
      ],
      "execution_count": null,
      "outputs": []
    },
    {
      "cell_type": "markdown",
      "metadata": {
        "id": "-YlfQD4isSTs"
      },
      "source": [
        "##**8. 원래 Train / Test 데이터로 분리**"
      ]
    },
    {
      "cell_type": "code",
      "metadata": {
        "colab": {
          "base_uri": "https://localhost:8080/"
        },
        "id": "7hCQgJ8rr6Fr",
        "outputId": "e8c1c251-79c2-49d2-f781-46f3d202d0ac"
      },
      "source": [
        "df_train=X_rs.iloc[:5616,:] #label encoding된 train data\r\n",
        "df_train.shape"
      ],
      "execution_count": null,
      "outputs": [
        {
          "output_type": "execute_result",
          "data": {
            "text/plain": [
              "(5616, 10)"
            ]
          },
          "metadata": {
            "tags": []
          },
          "execution_count": 65
        }
      ]
    },
    {
      "cell_type": "code",
      "metadata": {
        "colab": {
          "base_uri": "https://localhost:8080/",
          "height": 270
        },
        "id": "psWbe2g_sbN_",
        "outputId": "8b35dd90-263f-4352-8c78-3a9816e3d6c7"
      },
      "source": [
        "df_ohe_train=X_ohe.iloc[:5616,:] #One Hot encoding된 train data\r\n",
        "df_ohe_train.head()"
      ],
      "execution_count": null,
      "outputs": [
        {
          "output_type": "execute_result",
          "data": {
            "text/html": [
              "<div>\n",
              "<style scoped>\n",
              "    .dataframe tbody tr th:only-of-type {\n",
              "        vertical-align: middle;\n",
              "    }\n",
              "\n",
              "    .dataframe tbody tr th {\n",
              "        vertical-align: top;\n",
              "    }\n",
              "\n",
              "    .dataframe thead th {\n",
              "        text-align: right;\n",
              "    }\n",
              "</style>\n",
              "<table border=\"1\" class=\"dataframe\">\n",
              "  <thead>\n",
              "    <tr style=\"text-align: right;\">\n",
              "      <th></th>\n",
              "      <th>Reviews</th>\n",
              "      <th>Size</th>\n",
              "      <th>Installs</th>\n",
              "      <th>Price</th>\n",
              "      <th>Id</th>\n",
              "      <th>Updated</th>\n",
              "      <th>Category_0</th>\n",
              "      <th>Category_1</th>\n",
              "      <th>Category_2</th>\n",
              "      <th>Category_3</th>\n",
              "      <th>Category_4</th>\n",
              "      <th>Category_5</th>\n",
              "      <th>Category_6</th>\n",
              "      <th>Category_7</th>\n",
              "      <th>Category_8</th>\n",
              "      <th>Category_9</th>\n",
              "      <th>Category_10</th>\n",
              "      <th>Category_11</th>\n",
              "      <th>Category_12</th>\n",
              "      <th>Category_13</th>\n",
              "      <th>Category_14</th>\n",
              "      <th>Category_15</th>\n",
              "      <th>Category_16</th>\n",
              "      <th>Category_17</th>\n",
              "      <th>Category_18</th>\n",
              "      <th>Category_19</th>\n",
              "      <th>Category_20</th>\n",
              "      <th>Category_21</th>\n",
              "      <th>Category_22</th>\n",
              "      <th>Category_23</th>\n",
              "      <th>Category_24</th>\n",
              "      <th>Category_25</th>\n",
              "      <th>Category_26</th>\n",
              "      <th>Category_27</th>\n",
              "      <th>Category_28</th>\n",
              "      <th>Category_29</th>\n",
              "      <th>Category_30</th>\n",
              "      <th>Category_31</th>\n",
              "      <th>Category_32</th>\n",
              "      <th>Content Rating_0</th>\n",
              "      <th>...</th>\n",
              "      <th>Genre_2_12</th>\n",
              "      <th>Genre_2_13</th>\n",
              "      <th>Genre_2_14</th>\n",
              "      <th>Genre_2_15</th>\n",
              "      <th>Genre_2_16</th>\n",
              "      <th>Genre_2_17</th>\n",
              "      <th>Genre_2_18</th>\n",
              "      <th>Genre_2_19</th>\n",
              "      <th>Genre_2_20</th>\n",
              "      <th>Genre_2_21</th>\n",
              "      <th>Genre_2_22</th>\n",
              "      <th>Genre_2_23</th>\n",
              "      <th>Genre_2_24</th>\n",
              "      <th>Genre_2_25</th>\n",
              "      <th>Genre_2_26</th>\n",
              "      <th>Genre_2_27</th>\n",
              "      <th>Genre_2_28</th>\n",
              "      <th>Genre_2_29</th>\n",
              "      <th>Genre_2_30</th>\n",
              "      <th>Genre_2_31</th>\n",
              "      <th>Genre_2_32</th>\n",
              "      <th>Genre_2_33</th>\n",
              "      <th>Genre_2_34</th>\n",
              "      <th>Genre_2_35</th>\n",
              "      <th>Genre_2_36</th>\n",
              "      <th>Genre_2_37</th>\n",
              "      <th>Genre_2_38</th>\n",
              "      <th>Genre_2_39</th>\n",
              "      <th>Genre_2_40</th>\n",
              "      <th>Genre_2_41</th>\n",
              "      <th>Genre_2_42</th>\n",
              "      <th>Genre_2_43</th>\n",
              "      <th>Genre_2_44</th>\n",
              "      <th>Genre_2_45</th>\n",
              "      <th>Genre_2_46</th>\n",
              "      <th>Genre_2_47</th>\n",
              "      <th>Genre_2_48</th>\n",
              "      <th>Genre_2_49</th>\n",
              "      <th>Genre_2_50</th>\n",
              "      <th>Genre_2_51</th>\n",
              "    </tr>\n",
              "  </thead>\n",
              "  <tbody>\n",
              "    <tr>\n",
              "      <th>0</th>\n",
              "      <td>-0.052308</td>\n",
              "      <td>0.229885</td>\n",
              "      <td>-0.090909</td>\n",
              "      <td>0.0</td>\n",
              "      <td>0</td>\n",
              "      <td>-0.498239</td>\n",
              "      <td>1</td>\n",
              "      <td>0</td>\n",
              "      <td>0</td>\n",
              "      <td>0</td>\n",
              "      <td>0</td>\n",
              "      <td>0</td>\n",
              "      <td>0</td>\n",
              "      <td>0</td>\n",
              "      <td>0</td>\n",
              "      <td>0</td>\n",
              "      <td>0</td>\n",
              "      <td>0</td>\n",
              "      <td>0</td>\n",
              "      <td>0</td>\n",
              "      <td>0</td>\n",
              "      <td>0</td>\n",
              "      <td>0</td>\n",
              "      <td>0</td>\n",
              "      <td>0</td>\n",
              "      <td>0</td>\n",
              "      <td>0</td>\n",
              "      <td>0</td>\n",
              "      <td>0</td>\n",
              "      <td>0</td>\n",
              "      <td>0</td>\n",
              "      <td>0</td>\n",
              "      <td>0</td>\n",
              "      <td>0</td>\n",
              "      <td>0</td>\n",
              "      <td>0</td>\n",
              "      <td>0</td>\n",
              "      <td>0</td>\n",
              "      <td>0</td>\n",
              "      <td>0</td>\n",
              "      <td>...</td>\n",
              "      <td>0</td>\n",
              "      <td>0</td>\n",
              "      <td>0</td>\n",
              "      <td>0</td>\n",
              "      <td>0</td>\n",
              "      <td>0</td>\n",
              "      <td>0</td>\n",
              "      <td>0</td>\n",
              "      <td>0</td>\n",
              "      <td>0</td>\n",
              "      <td>0</td>\n",
              "      <td>0</td>\n",
              "      <td>0</td>\n",
              "      <td>0</td>\n",
              "      <td>0</td>\n",
              "      <td>0</td>\n",
              "      <td>0</td>\n",
              "      <td>0</td>\n",
              "      <td>0</td>\n",
              "      <td>0</td>\n",
              "      <td>0</td>\n",
              "      <td>0</td>\n",
              "      <td>0</td>\n",
              "      <td>0</td>\n",
              "      <td>0</td>\n",
              "      <td>0</td>\n",
              "      <td>0</td>\n",
              "      <td>0</td>\n",
              "      <td>0</td>\n",
              "      <td>0</td>\n",
              "      <td>0</td>\n",
              "      <td>0</td>\n",
              "      <td>0</td>\n",
              "      <td>0</td>\n",
              "      <td>0</td>\n",
              "      <td>0</td>\n",
              "      <td>0</td>\n",
              "      <td>0</td>\n",
              "      <td>0</td>\n",
              "      <td>0</td>\n",
              "    </tr>\n",
              "    <tr>\n",
              "      <th>1</th>\n",
              "      <td>-0.021825</td>\n",
              "      <td>0.038314</td>\n",
              "      <td>0.404040</td>\n",
              "      <td>0.0</td>\n",
              "      <td>1</td>\n",
              "      <td>-0.470070</td>\n",
              "      <td>1</td>\n",
              "      <td>0</td>\n",
              "      <td>0</td>\n",
              "      <td>0</td>\n",
              "      <td>0</td>\n",
              "      <td>0</td>\n",
              "      <td>0</td>\n",
              "      <td>0</td>\n",
              "      <td>0</td>\n",
              "      <td>0</td>\n",
              "      <td>0</td>\n",
              "      <td>0</td>\n",
              "      <td>0</td>\n",
              "      <td>0</td>\n",
              "      <td>0</td>\n",
              "      <td>0</td>\n",
              "      <td>0</td>\n",
              "      <td>0</td>\n",
              "      <td>0</td>\n",
              "      <td>0</td>\n",
              "      <td>0</td>\n",
              "      <td>0</td>\n",
              "      <td>0</td>\n",
              "      <td>0</td>\n",
              "      <td>0</td>\n",
              "      <td>0</td>\n",
              "      <td>0</td>\n",
              "      <td>0</td>\n",
              "      <td>0</td>\n",
              "      <td>0</td>\n",
              "      <td>0</td>\n",
              "      <td>0</td>\n",
              "      <td>0</td>\n",
              "      <td>0</td>\n",
              "      <td>...</td>\n",
              "      <td>0</td>\n",
              "      <td>0</td>\n",
              "      <td>0</td>\n",
              "      <td>0</td>\n",
              "      <td>0</td>\n",
              "      <td>0</td>\n",
              "      <td>0</td>\n",
              "      <td>0</td>\n",
              "      <td>0</td>\n",
              "      <td>0</td>\n",
              "      <td>0</td>\n",
              "      <td>0</td>\n",
              "      <td>0</td>\n",
              "      <td>0</td>\n",
              "      <td>0</td>\n",
              "      <td>0</td>\n",
              "      <td>0</td>\n",
              "      <td>0</td>\n",
              "      <td>0</td>\n",
              "      <td>0</td>\n",
              "      <td>0</td>\n",
              "      <td>0</td>\n",
              "      <td>0</td>\n",
              "      <td>0</td>\n",
              "      <td>1</td>\n",
              "      <td>0</td>\n",
              "      <td>0</td>\n",
              "      <td>0</td>\n",
              "      <td>0</td>\n",
              "      <td>0</td>\n",
              "      <td>0</td>\n",
              "      <td>0</td>\n",
              "      <td>0</td>\n",
              "      <td>0</td>\n",
              "      <td>0</td>\n",
              "      <td>0</td>\n",
              "      <td>0</td>\n",
              "      <td>0</td>\n",
              "      <td>0</td>\n",
              "      <td>0</td>\n",
              "    </tr>\n",
              "    <tr>\n",
              "      <th>2</th>\n",
              "      <td>3.243148</td>\n",
              "      <td>-0.164751</td>\n",
              "      <td>4.949495</td>\n",
              "      <td>0.0</td>\n",
              "      <td>2</td>\n",
              "      <td>0.227113</td>\n",
              "      <td>1</td>\n",
              "      <td>0</td>\n",
              "      <td>0</td>\n",
              "      <td>0</td>\n",
              "      <td>0</td>\n",
              "      <td>0</td>\n",
              "      <td>0</td>\n",
              "      <td>0</td>\n",
              "      <td>0</td>\n",
              "      <td>0</td>\n",
              "      <td>0</td>\n",
              "      <td>0</td>\n",
              "      <td>0</td>\n",
              "      <td>0</td>\n",
              "      <td>0</td>\n",
              "      <td>0</td>\n",
              "      <td>0</td>\n",
              "      <td>0</td>\n",
              "      <td>0</td>\n",
              "      <td>0</td>\n",
              "      <td>0</td>\n",
              "      <td>0</td>\n",
              "      <td>0</td>\n",
              "      <td>0</td>\n",
              "      <td>0</td>\n",
              "      <td>0</td>\n",
              "      <td>0</td>\n",
              "      <td>0</td>\n",
              "      <td>0</td>\n",
              "      <td>0</td>\n",
              "      <td>0</td>\n",
              "      <td>0</td>\n",
              "      <td>0</td>\n",
              "      <td>0</td>\n",
              "      <td>...</td>\n",
              "      <td>0</td>\n",
              "      <td>0</td>\n",
              "      <td>0</td>\n",
              "      <td>0</td>\n",
              "      <td>0</td>\n",
              "      <td>0</td>\n",
              "      <td>0</td>\n",
              "      <td>0</td>\n",
              "      <td>0</td>\n",
              "      <td>0</td>\n",
              "      <td>0</td>\n",
              "      <td>0</td>\n",
              "      <td>0</td>\n",
              "      <td>0</td>\n",
              "      <td>0</td>\n",
              "      <td>0</td>\n",
              "      <td>0</td>\n",
              "      <td>0</td>\n",
              "      <td>0</td>\n",
              "      <td>0</td>\n",
              "      <td>0</td>\n",
              "      <td>0</td>\n",
              "      <td>0</td>\n",
              "      <td>0</td>\n",
              "      <td>0</td>\n",
              "      <td>0</td>\n",
              "      <td>0</td>\n",
              "      <td>0</td>\n",
              "      <td>0</td>\n",
              "      <td>0</td>\n",
              "      <td>0</td>\n",
              "      <td>0</td>\n",
              "      <td>0</td>\n",
              "      <td>0</td>\n",
              "      <td>0</td>\n",
              "      <td>0</td>\n",
              "      <td>0</td>\n",
              "      <td>0</td>\n",
              "      <td>0</td>\n",
              "      <td>0</td>\n",
              "    </tr>\n",
              "    <tr>\n",
              "      <th>3</th>\n",
              "      <td>8.077207</td>\n",
              "      <td>0.459770</td>\n",
              "      <td>50.404040</td>\n",
              "      <td>0.0</td>\n",
              "      <td>3</td>\n",
              "      <td>0.036972</td>\n",
              "      <td>1</td>\n",
              "      <td>0</td>\n",
              "      <td>0</td>\n",
              "      <td>0</td>\n",
              "      <td>0</td>\n",
              "      <td>0</td>\n",
              "      <td>0</td>\n",
              "      <td>0</td>\n",
              "      <td>0</td>\n",
              "      <td>0</td>\n",
              "      <td>0</td>\n",
              "      <td>0</td>\n",
              "      <td>0</td>\n",
              "      <td>0</td>\n",
              "      <td>0</td>\n",
              "      <td>0</td>\n",
              "      <td>0</td>\n",
              "      <td>0</td>\n",
              "      <td>0</td>\n",
              "      <td>0</td>\n",
              "      <td>0</td>\n",
              "      <td>0</td>\n",
              "      <td>0</td>\n",
              "      <td>0</td>\n",
              "      <td>0</td>\n",
              "      <td>0</td>\n",
              "      <td>0</td>\n",
              "      <td>0</td>\n",
              "      <td>0</td>\n",
              "      <td>0</td>\n",
              "      <td>0</td>\n",
              "      <td>0</td>\n",
              "      <td>0</td>\n",
              "      <td>0</td>\n",
              "      <td>...</td>\n",
              "      <td>0</td>\n",
              "      <td>0</td>\n",
              "      <td>0</td>\n",
              "      <td>0</td>\n",
              "      <td>0</td>\n",
              "      <td>0</td>\n",
              "      <td>0</td>\n",
              "      <td>0</td>\n",
              "      <td>0</td>\n",
              "      <td>0</td>\n",
              "      <td>0</td>\n",
              "      <td>0</td>\n",
              "      <td>0</td>\n",
              "      <td>0</td>\n",
              "      <td>0</td>\n",
              "      <td>0</td>\n",
              "      <td>0</td>\n",
              "      <td>0</td>\n",
              "      <td>0</td>\n",
              "      <td>0</td>\n",
              "      <td>0</td>\n",
              "      <td>0</td>\n",
              "      <td>0</td>\n",
              "      <td>0</td>\n",
              "      <td>0</td>\n",
              "      <td>0</td>\n",
              "      <td>0</td>\n",
              "      <td>0</td>\n",
              "      <td>0</td>\n",
              "      <td>0</td>\n",
              "      <td>0</td>\n",
              "      <td>0</td>\n",
              "      <td>0</td>\n",
              "      <td>0</td>\n",
              "      <td>0</td>\n",
              "      <td>0</td>\n",
              "      <td>0</td>\n",
              "      <td>0</td>\n",
              "      <td>0</td>\n",
              "      <td>0</td>\n",
              "    </tr>\n",
              "    <tr>\n",
              "      <th>4</th>\n",
              "      <td>-0.021825</td>\n",
              "      <td>-0.390805</td>\n",
              "      <td>0.000000</td>\n",
              "      <td>0.0</td>\n",
              "      <td>4</td>\n",
              "      <td>0.079225</td>\n",
              "      <td>1</td>\n",
              "      <td>0</td>\n",
              "      <td>0</td>\n",
              "      <td>0</td>\n",
              "      <td>0</td>\n",
              "      <td>0</td>\n",
              "      <td>0</td>\n",
              "      <td>0</td>\n",
              "      <td>0</td>\n",
              "      <td>0</td>\n",
              "      <td>0</td>\n",
              "      <td>0</td>\n",
              "      <td>0</td>\n",
              "      <td>0</td>\n",
              "      <td>0</td>\n",
              "      <td>0</td>\n",
              "      <td>0</td>\n",
              "      <td>0</td>\n",
              "      <td>0</td>\n",
              "      <td>0</td>\n",
              "      <td>0</td>\n",
              "      <td>0</td>\n",
              "      <td>0</td>\n",
              "      <td>0</td>\n",
              "      <td>0</td>\n",
              "      <td>0</td>\n",
              "      <td>0</td>\n",
              "      <td>0</td>\n",
              "      <td>0</td>\n",
              "      <td>0</td>\n",
              "      <td>0</td>\n",
              "      <td>0</td>\n",
              "      <td>0</td>\n",
              "      <td>0</td>\n",
              "      <td>...</td>\n",
              "      <td>0</td>\n",
              "      <td>0</td>\n",
              "      <td>0</td>\n",
              "      <td>0</td>\n",
              "      <td>1</td>\n",
              "      <td>0</td>\n",
              "      <td>0</td>\n",
              "      <td>0</td>\n",
              "      <td>0</td>\n",
              "      <td>0</td>\n",
              "      <td>0</td>\n",
              "      <td>0</td>\n",
              "      <td>0</td>\n",
              "      <td>0</td>\n",
              "      <td>0</td>\n",
              "      <td>0</td>\n",
              "      <td>0</td>\n",
              "      <td>0</td>\n",
              "      <td>0</td>\n",
              "      <td>0</td>\n",
              "      <td>0</td>\n",
              "      <td>0</td>\n",
              "      <td>0</td>\n",
              "      <td>0</td>\n",
              "      <td>0</td>\n",
              "      <td>0</td>\n",
              "      <td>0</td>\n",
              "      <td>0</td>\n",
              "      <td>0</td>\n",
              "      <td>0</td>\n",
              "      <td>0</td>\n",
              "      <td>0</td>\n",
              "      <td>0</td>\n",
              "      <td>0</td>\n",
              "      <td>0</td>\n",
              "      <td>0</td>\n",
              "      <td>0</td>\n",
              "      <td>0</td>\n",
              "      <td>0</td>\n",
              "      <td>0</td>\n",
              "    </tr>\n",
              "  </tbody>\n",
              "</table>\n",
              "<p>5 rows × 145 columns</p>\n",
              "</div>"
            ],
            "text/plain": [
              "    Reviews      Size   Installs  ...  Genre_2_49  Genre_2_50  Genre_2_51\n",
              "0 -0.052308  0.229885  -0.090909  ...           0           0           0\n",
              "1 -0.021825  0.038314   0.404040  ...           0           0           0\n",
              "2  3.243148 -0.164751   4.949495  ...           0           0           0\n",
              "3  8.077207  0.459770  50.404040  ...           0           0           0\n",
              "4 -0.021825 -0.390805   0.000000  ...           0           0           0\n",
              "\n",
              "[5 rows x 145 columns]"
            ]
          },
          "metadata": {
            "tags": []
          },
          "execution_count": 66
        }
      ]
    },
    {
      "cell_type": "code",
      "metadata": {
        "colab": {
          "base_uri": "https://localhost:8080/"
        },
        "id": "9Zogz_pxsneX",
        "outputId": "c7628e37-2772-4019-8dd4-ec0297aede67"
      },
      "source": [
        "df_test=X_rs.iloc[5616:,:] #label encoding된 test data\r\n",
        "df_test.shape"
      ],
      "execution_count": null,
      "outputs": [
        {
          "output_type": "execute_result",
          "data": {
            "text/plain": [
              "(1404, 10)"
            ]
          },
          "metadata": {
            "tags": []
          },
          "execution_count": 67
        }
      ]
    },
    {
      "cell_type": "code",
      "metadata": {
        "colab": {
          "base_uri": "https://localhost:8080/",
          "height": 270
        },
        "id": "AzcvyeKOsn_O",
        "outputId": "87167767-649a-44f3-d400-d07f82c9634b"
      },
      "source": [
        "df_ohe_test=X_ohe.iloc[5616:,:] #One Hot encoding된 test data\r\n",
        "df_ohe_test.head()"
      ],
      "execution_count": null,
      "outputs": [
        {
          "output_type": "execute_result",
          "data": {
            "text/html": [
              "<div>\n",
              "<style scoped>\n",
              "    .dataframe tbody tr th:only-of-type {\n",
              "        vertical-align: middle;\n",
              "    }\n",
              "\n",
              "    .dataframe tbody tr th {\n",
              "        vertical-align: top;\n",
              "    }\n",
              "\n",
              "    .dataframe thead th {\n",
              "        text-align: right;\n",
              "    }\n",
              "</style>\n",
              "<table border=\"1\" class=\"dataframe\">\n",
              "  <thead>\n",
              "    <tr style=\"text-align: right;\">\n",
              "      <th></th>\n",
              "      <th>Reviews</th>\n",
              "      <th>Size</th>\n",
              "      <th>Installs</th>\n",
              "      <th>Price</th>\n",
              "      <th>Id</th>\n",
              "      <th>Updated</th>\n",
              "      <th>Category_0</th>\n",
              "      <th>Category_1</th>\n",
              "      <th>Category_2</th>\n",
              "      <th>Category_3</th>\n",
              "      <th>Category_4</th>\n",
              "      <th>Category_5</th>\n",
              "      <th>Category_6</th>\n",
              "      <th>Category_7</th>\n",
              "      <th>Category_8</th>\n",
              "      <th>Category_9</th>\n",
              "      <th>Category_10</th>\n",
              "      <th>Category_11</th>\n",
              "      <th>Category_12</th>\n",
              "      <th>Category_13</th>\n",
              "      <th>Category_14</th>\n",
              "      <th>Category_15</th>\n",
              "      <th>Category_16</th>\n",
              "      <th>Category_17</th>\n",
              "      <th>Category_18</th>\n",
              "      <th>Category_19</th>\n",
              "      <th>Category_20</th>\n",
              "      <th>Category_21</th>\n",
              "      <th>Category_22</th>\n",
              "      <th>Category_23</th>\n",
              "      <th>Category_24</th>\n",
              "      <th>Category_25</th>\n",
              "      <th>Category_26</th>\n",
              "      <th>Category_27</th>\n",
              "      <th>Category_28</th>\n",
              "      <th>Category_29</th>\n",
              "      <th>Category_30</th>\n",
              "      <th>Category_31</th>\n",
              "      <th>Category_32</th>\n",
              "      <th>Content Rating_0</th>\n",
              "      <th>...</th>\n",
              "      <th>Genre_2_12</th>\n",
              "      <th>Genre_2_13</th>\n",
              "      <th>Genre_2_14</th>\n",
              "      <th>Genre_2_15</th>\n",
              "      <th>Genre_2_16</th>\n",
              "      <th>Genre_2_17</th>\n",
              "      <th>Genre_2_18</th>\n",
              "      <th>Genre_2_19</th>\n",
              "      <th>Genre_2_20</th>\n",
              "      <th>Genre_2_21</th>\n",
              "      <th>Genre_2_22</th>\n",
              "      <th>Genre_2_23</th>\n",
              "      <th>Genre_2_24</th>\n",
              "      <th>Genre_2_25</th>\n",
              "      <th>Genre_2_26</th>\n",
              "      <th>Genre_2_27</th>\n",
              "      <th>Genre_2_28</th>\n",
              "      <th>Genre_2_29</th>\n",
              "      <th>Genre_2_30</th>\n",
              "      <th>Genre_2_31</th>\n",
              "      <th>Genre_2_32</th>\n",
              "      <th>Genre_2_33</th>\n",
              "      <th>Genre_2_34</th>\n",
              "      <th>Genre_2_35</th>\n",
              "      <th>Genre_2_36</th>\n",
              "      <th>Genre_2_37</th>\n",
              "      <th>Genre_2_38</th>\n",
              "      <th>Genre_2_39</th>\n",
              "      <th>Genre_2_40</th>\n",
              "      <th>Genre_2_41</th>\n",
              "      <th>Genre_2_42</th>\n",
              "      <th>Genre_2_43</th>\n",
              "      <th>Genre_2_44</th>\n",
              "      <th>Genre_2_45</th>\n",
              "      <th>Genre_2_46</th>\n",
              "      <th>Genre_2_47</th>\n",
              "      <th>Genre_2_48</th>\n",
              "      <th>Genre_2_49</th>\n",
              "      <th>Genre_2_50</th>\n",
              "      <th>Genre_2_51</th>\n",
              "    </tr>\n",
              "  </thead>\n",
              "  <tbody>\n",
              "    <tr>\n",
              "      <th>0</th>\n",
              "      <td>-0.012846</td>\n",
              "      <td>-0.333333</td>\n",
              "      <td>0.000000</td>\n",
              "      <td>0.00</td>\n",
              "      <td>5617</td>\n",
              "      <td>-0.498239</td>\n",
              "      <td>0</td>\n",
              "      <td>0</td>\n",
              "      <td>0</td>\n",
              "      <td>0</td>\n",
              "      <td>0</td>\n",
              "      <td>0</td>\n",
              "      <td>0</td>\n",
              "      <td>0</td>\n",
              "      <td>0</td>\n",
              "      <td>0</td>\n",
              "      <td>0</td>\n",
              "      <td>0</td>\n",
              "      <td>0</td>\n",
              "      <td>0</td>\n",
              "      <td>0</td>\n",
              "      <td>0</td>\n",
              "      <td>0</td>\n",
              "      <td>0</td>\n",
              "      <td>0</td>\n",
              "      <td>0</td>\n",
              "      <td>0</td>\n",
              "      <td>0</td>\n",
              "      <td>0</td>\n",
              "      <td>0</td>\n",
              "      <td>0</td>\n",
              "      <td>1</td>\n",
              "      <td>0</td>\n",
              "      <td>0</td>\n",
              "      <td>0</td>\n",
              "      <td>0</td>\n",
              "      <td>0</td>\n",
              "      <td>0</td>\n",
              "      <td>0</td>\n",
              "      <td>0</td>\n",
              "      <td>...</td>\n",
              "      <td>0</td>\n",
              "      <td>0</td>\n",
              "      <td>0</td>\n",
              "      <td>0</td>\n",
              "      <td>0</td>\n",
              "      <td>0</td>\n",
              "      <td>0</td>\n",
              "      <td>0</td>\n",
              "      <td>0</td>\n",
              "      <td>0</td>\n",
              "      <td>0</td>\n",
              "      <td>0</td>\n",
              "      <td>0</td>\n",
              "      <td>0</td>\n",
              "      <td>0</td>\n",
              "      <td>0</td>\n",
              "      <td>0</td>\n",
              "      <td>0</td>\n",
              "      <td>0</td>\n",
              "      <td>0</td>\n",
              "      <td>0</td>\n",
              "      <td>0</td>\n",
              "      <td>0</td>\n",
              "      <td>0</td>\n",
              "      <td>0</td>\n",
              "      <td>1</td>\n",
              "      <td>0</td>\n",
              "      <td>0</td>\n",
              "      <td>0</td>\n",
              "      <td>0</td>\n",
              "      <td>0</td>\n",
              "      <td>0</td>\n",
              "      <td>0</td>\n",
              "      <td>0</td>\n",
              "      <td>0</td>\n",
              "      <td>0</td>\n",
              "      <td>0</td>\n",
              "      <td>0</td>\n",
              "      <td>0</td>\n",
              "      <td>0</td>\n",
              "    </tr>\n",
              "    <tr>\n",
              "      <th>1</th>\n",
              "      <td>-0.048233</td>\n",
              "      <td>-0.440613</td>\n",
              "      <td>-0.090909</td>\n",
              "      <td>0.00</td>\n",
              "      <td>5618</td>\n",
              "      <td>-0.470070</td>\n",
              "      <td>0</td>\n",
              "      <td>0</td>\n",
              "      <td>0</td>\n",
              "      <td>0</td>\n",
              "      <td>0</td>\n",
              "      <td>0</td>\n",
              "      <td>0</td>\n",
              "      <td>0</td>\n",
              "      <td>0</td>\n",
              "      <td>0</td>\n",
              "      <td>0</td>\n",
              "      <td>1</td>\n",
              "      <td>0</td>\n",
              "      <td>0</td>\n",
              "      <td>0</td>\n",
              "      <td>0</td>\n",
              "      <td>0</td>\n",
              "      <td>0</td>\n",
              "      <td>0</td>\n",
              "      <td>0</td>\n",
              "      <td>0</td>\n",
              "      <td>0</td>\n",
              "      <td>0</td>\n",
              "      <td>0</td>\n",
              "      <td>0</td>\n",
              "      <td>0</td>\n",
              "      <td>0</td>\n",
              "      <td>0</td>\n",
              "      <td>0</td>\n",
              "      <td>0</td>\n",
              "      <td>0</td>\n",
              "      <td>0</td>\n",
              "      <td>0</td>\n",
              "      <td>0</td>\n",
              "      <td>...</td>\n",
              "      <td>0</td>\n",
              "      <td>0</td>\n",
              "      <td>0</td>\n",
              "      <td>0</td>\n",
              "      <td>0</td>\n",
              "      <td>0</td>\n",
              "      <td>0</td>\n",
              "      <td>0</td>\n",
              "      <td>1</td>\n",
              "      <td>0</td>\n",
              "      <td>0</td>\n",
              "      <td>0</td>\n",
              "      <td>0</td>\n",
              "      <td>0</td>\n",
              "      <td>0</td>\n",
              "      <td>0</td>\n",
              "      <td>0</td>\n",
              "      <td>0</td>\n",
              "      <td>0</td>\n",
              "      <td>0</td>\n",
              "      <td>0</td>\n",
              "      <td>0</td>\n",
              "      <td>0</td>\n",
              "      <td>0</td>\n",
              "      <td>0</td>\n",
              "      <td>0</td>\n",
              "      <td>0</td>\n",
              "      <td>0</td>\n",
              "      <td>0</td>\n",
              "      <td>0</td>\n",
              "      <td>0</td>\n",
              "      <td>0</td>\n",
              "      <td>0</td>\n",
              "      <td>0</td>\n",
              "      <td>0</td>\n",
              "      <td>0</td>\n",
              "      <td>0</td>\n",
              "      <td>0</td>\n",
              "      <td>0</td>\n",
              "      <td>0</td>\n",
              "    </tr>\n",
              "    <tr>\n",
              "      <th>2</th>\n",
              "      <td>-0.051402</td>\n",
              "      <td>2.107280</td>\n",
              "      <td>-0.090909</td>\n",
              "      <td>0.00</td>\n",
              "      <td>5619</td>\n",
              "      <td>0.227113</td>\n",
              "      <td>0</td>\n",
              "      <td>0</td>\n",
              "      <td>0</td>\n",
              "      <td>0</td>\n",
              "      <td>0</td>\n",
              "      <td>0</td>\n",
              "      <td>0</td>\n",
              "      <td>0</td>\n",
              "      <td>0</td>\n",
              "      <td>0</td>\n",
              "      <td>0</td>\n",
              "      <td>0</td>\n",
              "      <td>0</td>\n",
              "      <td>0</td>\n",
              "      <td>1</td>\n",
              "      <td>0</td>\n",
              "      <td>0</td>\n",
              "      <td>0</td>\n",
              "      <td>0</td>\n",
              "      <td>0</td>\n",
              "      <td>0</td>\n",
              "      <td>0</td>\n",
              "      <td>0</td>\n",
              "      <td>0</td>\n",
              "      <td>0</td>\n",
              "      <td>0</td>\n",
              "      <td>0</td>\n",
              "      <td>0</td>\n",
              "      <td>0</td>\n",
              "      <td>0</td>\n",
              "      <td>0</td>\n",
              "      <td>0</td>\n",
              "      <td>0</td>\n",
              "      <td>0</td>\n",
              "      <td>...</td>\n",
              "      <td>0</td>\n",
              "      <td>0</td>\n",
              "      <td>0</td>\n",
              "      <td>0</td>\n",
              "      <td>0</td>\n",
              "      <td>0</td>\n",
              "      <td>0</td>\n",
              "      <td>0</td>\n",
              "      <td>0</td>\n",
              "      <td>0</td>\n",
              "      <td>0</td>\n",
              "      <td>0</td>\n",
              "      <td>0</td>\n",
              "      <td>0</td>\n",
              "      <td>0</td>\n",
              "      <td>0</td>\n",
              "      <td>0</td>\n",
              "      <td>0</td>\n",
              "      <td>0</td>\n",
              "      <td>0</td>\n",
              "      <td>0</td>\n",
              "      <td>0</td>\n",
              "      <td>0</td>\n",
              "      <td>0</td>\n",
              "      <td>0</td>\n",
              "      <td>0</td>\n",
              "      <td>0</td>\n",
              "      <td>1</td>\n",
              "      <td>0</td>\n",
              "      <td>0</td>\n",
              "      <td>0</td>\n",
              "      <td>0</td>\n",
              "      <td>0</td>\n",
              "      <td>0</td>\n",
              "      <td>0</td>\n",
              "      <td>0</td>\n",
              "      <td>0</td>\n",
              "      <td>0</td>\n",
              "      <td>0</td>\n",
              "      <td>0</td>\n",
              "    </tr>\n",
              "    <tr>\n",
              "      <th>3</th>\n",
              "      <td>-0.055439</td>\n",
              "      <td>-0.452107</td>\n",
              "      <td>-0.100000</td>\n",
              "      <td>4.99</td>\n",
              "      <td>5620</td>\n",
              "      <td>0.036972</td>\n",
              "      <td>0</td>\n",
              "      <td>0</td>\n",
              "      <td>0</td>\n",
              "      <td>0</td>\n",
              "      <td>0</td>\n",
              "      <td>0</td>\n",
              "      <td>0</td>\n",
              "      <td>0</td>\n",
              "      <td>0</td>\n",
              "      <td>0</td>\n",
              "      <td>0</td>\n",
              "      <td>0</td>\n",
              "      <td>0</td>\n",
              "      <td>0</td>\n",
              "      <td>0</td>\n",
              "      <td>1</td>\n",
              "      <td>0</td>\n",
              "      <td>0</td>\n",
              "      <td>0</td>\n",
              "      <td>0</td>\n",
              "      <td>0</td>\n",
              "      <td>0</td>\n",
              "      <td>0</td>\n",
              "      <td>0</td>\n",
              "      <td>0</td>\n",
              "      <td>0</td>\n",
              "      <td>0</td>\n",
              "      <td>0</td>\n",
              "      <td>0</td>\n",
              "      <td>0</td>\n",
              "      <td>0</td>\n",
              "      <td>0</td>\n",
              "      <td>0</td>\n",
              "      <td>0</td>\n",
              "      <td>...</td>\n",
              "      <td>0</td>\n",
              "      <td>0</td>\n",
              "      <td>0</td>\n",
              "      <td>0</td>\n",
              "      <td>0</td>\n",
              "      <td>0</td>\n",
              "      <td>0</td>\n",
              "      <td>0</td>\n",
              "      <td>0</td>\n",
              "      <td>0</td>\n",
              "      <td>0</td>\n",
              "      <td>0</td>\n",
              "      <td>1</td>\n",
              "      <td>0</td>\n",
              "      <td>0</td>\n",
              "      <td>0</td>\n",
              "      <td>0</td>\n",
              "      <td>0</td>\n",
              "      <td>0</td>\n",
              "      <td>0</td>\n",
              "      <td>0</td>\n",
              "      <td>0</td>\n",
              "      <td>0</td>\n",
              "      <td>0</td>\n",
              "      <td>0</td>\n",
              "      <td>0</td>\n",
              "      <td>0</td>\n",
              "      <td>0</td>\n",
              "      <td>0</td>\n",
              "      <td>0</td>\n",
              "      <td>0</td>\n",
              "      <td>0</td>\n",
              "      <td>0</td>\n",
              "      <td>0</td>\n",
              "      <td>0</td>\n",
              "      <td>0</td>\n",
              "      <td>0</td>\n",
              "      <td>0</td>\n",
              "      <td>0</td>\n",
              "      <td>0</td>\n",
              "    </tr>\n",
              "    <tr>\n",
              "      <th>4</th>\n",
              "      <td>-0.042122</td>\n",
              "      <td>-0.038314</td>\n",
              "      <td>-0.090909</td>\n",
              "      <td>3.99</td>\n",
              "      <td>5621</td>\n",
              "      <td>0.079225</td>\n",
              "      <td>0</td>\n",
              "      <td>0</td>\n",
              "      <td>0</td>\n",
              "      <td>0</td>\n",
              "      <td>0</td>\n",
              "      <td>0</td>\n",
              "      <td>0</td>\n",
              "      <td>0</td>\n",
              "      <td>0</td>\n",
              "      <td>0</td>\n",
              "      <td>0</td>\n",
              "      <td>1</td>\n",
              "      <td>0</td>\n",
              "      <td>0</td>\n",
              "      <td>0</td>\n",
              "      <td>0</td>\n",
              "      <td>0</td>\n",
              "      <td>0</td>\n",
              "      <td>0</td>\n",
              "      <td>0</td>\n",
              "      <td>0</td>\n",
              "      <td>0</td>\n",
              "      <td>0</td>\n",
              "      <td>0</td>\n",
              "      <td>0</td>\n",
              "      <td>0</td>\n",
              "      <td>0</td>\n",
              "      <td>0</td>\n",
              "      <td>0</td>\n",
              "      <td>0</td>\n",
              "      <td>0</td>\n",
              "      <td>0</td>\n",
              "      <td>0</td>\n",
              "      <td>0</td>\n",
              "      <td>...</td>\n",
              "      <td>0</td>\n",
              "      <td>0</td>\n",
              "      <td>0</td>\n",
              "      <td>0</td>\n",
              "      <td>0</td>\n",
              "      <td>0</td>\n",
              "      <td>1</td>\n",
              "      <td>0</td>\n",
              "      <td>0</td>\n",
              "      <td>0</td>\n",
              "      <td>0</td>\n",
              "      <td>0</td>\n",
              "      <td>0</td>\n",
              "      <td>0</td>\n",
              "      <td>0</td>\n",
              "      <td>0</td>\n",
              "      <td>0</td>\n",
              "      <td>0</td>\n",
              "      <td>0</td>\n",
              "      <td>0</td>\n",
              "      <td>0</td>\n",
              "      <td>0</td>\n",
              "      <td>0</td>\n",
              "      <td>0</td>\n",
              "      <td>0</td>\n",
              "      <td>0</td>\n",
              "      <td>0</td>\n",
              "      <td>0</td>\n",
              "      <td>0</td>\n",
              "      <td>0</td>\n",
              "      <td>0</td>\n",
              "      <td>0</td>\n",
              "      <td>0</td>\n",
              "      <td>0</td>\n",
              "      <td>0</td>\n",
              "      <td>0</td>\n",
              "      <td>0</td>\n",
              "      <td>0</td>\n",
              "      <td>0</td>\n",
              "      <td>0</td>\n",
              "    </tr>\n",
              "  </tbody>\n",
              "</table>\n",
              "<p>5 rows × 145 columns</p>\n",
              "</div>"
            ],
            "text/plain": [
              "    Reviews      Size  Installs  ...  Genre_2_49  Genre_2_50  Genre_2_51\n",
              "0 -0.012846 -0.333333  0.000000  ...           0           0           0\n",
              "1 -0.048233 -0.440613 -0.090909  ...           0           0           0\n",
              "2 -0.051402  2.107280 -0.090909  ...           0           0           0\n",
              "3 -0.055439 -0.452107 -0.100000  ...           0           0           0\n",
              "4 -0.042122 -0.038314 -0.090909  ...           0           0           0\n",
              "\n",
              "[5 rows x 145 columns]"
            ]
          },
          "metadata": {
            "tags": []
          },
          "execution_count": 68
        }
      ]
    },
    {
      "cell_type": "markdown",
      "metadata": {
        "id": "XTJX3j-Bb145"
      },
      "source": [
        "##**9. Train data => Train / Test 분리**"
      ]
    },
    {
      "cell_type": "code",
      "metadata": {
        "id": "WoOqvRd9bwXA"
      },
      "source": [
        "X_train,X_test,y_train,y_test=train_test_split(df_train,y,test_size=0.2,random_state=0) #label encoding된 train/test data"
      ],
      "execution_count": null,
      "outputs": []
    },
    {
      "cell_type": "code",
      "metadata": {
        "id": "tmAyfV4LbwsB"
      },
      "source": [
        "X_ohe_train,X_ohe_test,y_train,y_test=train_test_split(df_ohe_train,y,test_size=0.2,random_state=0) #One Hot encoding된 train/test data"
      ],
      "execution_count": null,
      "outputs": []
    },
    {
      "cell_type": "markdown",
      "metadata": {
        "id": "SVOtYvrdcE0b"
      },
      "source": [
        "# **RMES : 평가 지표 함수**"
      ]
    },
    {
      "cell_type": "code",
      "metadata": {
        "id": "29OLwEl5cLE-"
      },
      "source": [
        "def rmse(y,pred):\r\n",
        "    return np.sqrt(np.mean((y-pred)**2))"
      ],
      "execution_count": null,
      "outputs": []
    },
    {
      "cell_type": "markdown",
      "metadata": {
        "id": "9rv2eco_cS6R"
      },
      "source": [
        "# **회귀 트리 모델 학습/평가**"
      ]
    },
    {
      "cell_type": "markdown",
      "metadata": {
        "id": "lpNajG6bcar6"
      },
      "source": [
        "##**1-1. XGBoost**"
      ]
    },
    {
      "cell_type": "markdown",
      "metadata": {
        "id": "2g9i2iT2SQps"
      },
      "source": [
        ": GridSearchCV로 hyper-parameter tunning"
      ]
    },
    {
      "cell_type": "code",
      "metadata": {
        "colab": {
          "base_uri": "https://localhost:8080/"
        },
        "id": "qb0oPXN1caAx",
        "outputId": "b0768d6f-00d4-4f6d-b241-cbe150b53da8"
      },
      "source": [
        "xgb_reg=XGBRegressor()\r\n",
        "xgb_params = {\r\n",
        "              'objective':['reg:linear'],\r\n",
        "              'learning_rate': [.03, 0.05, .07], #so called `eta` value\r\n",
        "              'max_depth': [5, 6, 7],\r\n",
        "              'min_child_weight': [4],\r\n",
        "\r\n",
        "              'colsample_bytree': [0.7],\r\n",
        "              'n_estimators': [500]}\r\n",
        "xgb_grid = GridSearchCV(xgb_reg,\r\n",
        "                        xgb_params,\r\n",
        "                        cv = 5,\r\n",
        "                        n_jobs = 5,\r\n",
        "                        verbose=True)\r\n",
        "\r\n",
        "xgb_grid.fit(X_train, y_train)"
      ],
      "execution_count": null,
      "outputs": [
        {
          "output_type": "stream",
          "text": [
            "Fitting 5 folds for each of 9 candidates, totalling 45 fits\n"
          ],
          "name": "stdout"
        },
        {
          "output_type": "stream",
          "text": [
            "[Parallel(n_jobs=5)]: Using backend LokyBackend with 5 concurrent workers.\n",
            "[Parallel(n_jobs=5)]: Done  45 out of  45 | elapsed:  1.0min finished\n"
          ],
          "name": "stderr"
        },
        {
          "output_type": "stream",
          "text": [
            "[20:12:09] WARNING: /workspace/src/objective/regression_obj.cu:152: reg:linear is now deprecated in favor of reg:squarederror.\n"
          ],
          "name": "stdout"
        },
        {
          "output_type": "execute_result",
          "data": {
            "text/plain": [
              "GridSearchCV(cv=5, error_score=nan,\n",
              "             estimator=XGBRegressor(base_score=0.5, booster='gbtree',\n",
              "                                    colsample_bylevel=1, colsample_bynode=1,\n",
              "                                    colsample_bytree=1, gamma=0,\n",
              "                                    importance_type='gain', learning_rate=0.1,\n",
              "                                    max_delta_step=0, max_depth=3,\n",
              "                                    min_child_weight=1, missing=None,\n",
              "                                    n_estimators=100, n_jobs=1, nthread=None,\n",
              "                                    objective='reg:linear', random_state=0,\n",
              "                                    reg_alpha=0, reg_lambda=1,\n",
              "                                    scale_pos_weight=1, seed=None, silent=None,\n",
              "                                    subsample=1, verbosity=1),\n",
              "             iid='deprecated', n_jobs=5,\n",
              "             param_grid={'colsample_bytree': [0.7],\n",
              "                         'learning_rate': [0.03, 0.05, 0.07],\n",
              "                         'max_depth': [5, 6, 7], 'min_child_weight': [4],\n",
              "                         'n_estimators': [500], 'objective': ['reg:linear']},\n",
              "             pre_dispatch='2*n_jobs', refit=True, return_train_score=False,\n",
              "             scoring=None, verbose=True)"
            ]
          },
          "metadata": {
            "tags": []
          },
          "execution_count": 72
        }
      ]
    },
    {
      "cell_type": "code",
      "metadata": {
        "colab": {
          "base_uri": "https://localhost:8080/"
        },
        "id": "P8fTAkfXckgQ",
        "outputId": "6b524d14-2053-4d1b-dd44-c1c9e8f7a2d8"
      },
      "source": [
        "print(xgb_grid.best_score_)\r\n",
        "print(xgb_grid.best_params_)\r\n",
        "\r\n",
        "pred=xgb_grid.predict(X_train)\r\n",
        "print('train RMSE : {0:.4f}'.format(rmse(y_train,pred)))"
      ],
      "execution_count": null,
      "outputs": [
        {
          "output_type": "stream",
          "text": [
            "0.1629349004110537\n",
            "{'colsample_bytree': 0.7, 'learning_rate': 0.03, 'max_depth': 6, 'min_child_weight': 4, 'n_estimators': 500, 'objective': 'reg:linear'}\n",
            "train RMSE : 0.3241\n"
          ],
          "name": "stdout"
        }
      ]
    },
    {
      "cell_type": "code",
      "metadata": {
        "colab": {
          "base_uri": "https://localhost:8080/"
        },
        "id": "4-DsmOE6cijO",
        "outputId": "08d77919-057c-4536-d6fe-4938051c8584"
      },
      "source": [
        "xgb_best = XGBRegressor(colsample_bytree= 0.7, learning_rate= 0.03, max_depth= 6, \r\n",
        "                        min_child_weight=4, n_estimators= 500,  \r\n",
        "                        objective='reg:linear')\r\n",
        "xgb_best.fit(X_train, y_train)\r\n",
        "pred=xgb_best.predict(X_test)\r\n",
        "print('test RMSE : {0:.4f}'.format(rmse(y_test,pred)))"
      ],
      "execution_count": null,
      "outputs": [
        {
          "output_type": "stream",
          "text": [
            "[20:12:11] WARNING: /workspace/src/objective/regression_obj.cu:152: reg:linear is now deprecated in favor of reg:squarederror.\n",
            "test RMSE : 0.5202\n"
          ],
          "name": "stdout"
        }
      ]
    },
    {
      "cell_type": "code",
      "metadata": {
        "colab": {
          "base_uri": "https://localhost:8080/",
          "height": 283
        },
        "id": "vsfJz3KdcsTm",
        "outputId": "5af7e047-380c-49b8-9afb-c0a07442c3ad"
      },
      "source": [
        "sns.barplot(x=xgb_best.feature_importances_,y=X_train.columns) #Feature 별 중요도 도식화"
      ],
      "execution_count": null,
      "outputs": [
        {
          "output_type": "execute_result",
          "data": {
            "text/plain": [
              "<matplotlib.axes._subplots.AxesSubplot at 0x7f7f0057e1d0>"
            ]
          },
          "metadata": {
            "tags": []
          },
          "execution_count": 75
        },
        {
          "output_type": "display_data",
          "data": {
            "image/png": "[encoded data removed]",
            "text/plain": [
              "<Figure size 432x288 with 1 Axes>"
            ]
          },
          "metadata": {
            "tags": [],
            "needs_background": "light"
          }
        }
      ]
    },
    {
      "cell_type": "markdown",
      "metadata": {
        "id": "PqO1tkNpcxhx"
      },
      "source": [
        "##**1-2. XGBoost**\r\n",
        ": default 값<br>\r\n",
        "https://xgboost.readthedocs.io/en/latest/parameter.html"
      ]
    },
    {
      "cell_type": "code",
      "metadata": {
        "colab": {
          "base_uri": "https://localhost:8080/"
        },
        "id": "J_kRBjDmczfX",
        "outputId": "33704436-0013-45a5-8a10-59aba315c312"
      },
      "source": [
        "xgb_best_1 = XGBRegressor()\r\n",
        "xgb_best_1.fit(X_train, y_train)\r\n",
        "pred=xgb_best_1.predict(X_train)\r\n",
        "print('train RMSE : {0:.4f}'.format(rmse(y_train,pred)))\r\n",
        "pred=xgb_best_1.predict(X_test)\r\n",
        "print('test RMSE : {0:.4f}'.format(rmse(y_test,pred)))"
      ],
      "execution_count": null,
      "outputs": [
        {
          "output_type": "stream",
          "text": [
            "[20:12:13] WARNING: /workspace/src/objective/regression_obj.cu:152: reg:linear is now deprecated in favor of reg:squarederror.\n",
            "train RMSE : 0.4533\n",
            "test RMSE : 0.5208\n"
          ],
          "name": "stdout"
        }
      ]
    },
    {
      "cell_type": "code",
      "metadata": {
        "colab": {
          "base_uri": "https://localhost:8080/",
          "height": 283
        },
        "id": "ijUcm_UEdzww",
        "outputId": "b63c30e8-1fb1-418b-c024-df08113c8056"
      },
      "source": [
        "sns.barplot(x=xgb_best_1.feature_importances_,y=X_train.columns) #Feature 별 중요도 도식화"
      ],
      "execution_count": null,
      "outputs": [
        {
          "output_type": "execute_result",
          "data": {
            "text/plain": [
              "<matplotlib.axes._subplots.AxesSubplot at 0x7f7f00794860>"
            ]
          },
          "metadata": {
            "tags": []
          },
          "execution_count": 77
        },
        {
          "output_type": "display_data",
          "data": {
            "image/png": "[encoded data removed]",
            "text/plain": [
              "<Figure size 432x288 with 1 Axes>"
            ]
          },
          "metadata": {
            "tags": [],
            "needs_background": "light"
          }
        }
      ]
    },
    {
      "cell_type": "markdown",
      "metadata": {
        "id": "dM2q-p56dOYP"
      },
      "source": [
        "##**2-1. LightGBM**\r\n",
        ": GridSearchCV로 hyper-parameter tunning"
      ]
    },
    {
      "cell_type": "code",
      "metadata": {
        "colab": {
          "base_uri": "https://localhost:8080/"
        },
        "id": "-g1LEv9adWVY",
        "outputId": "2d53e688-5899-4814-918e-8a280ff0620c"
      },
      "source": [
        "lgb_params = {\r\n",
        "    'num_leave' : [1,3],\r\n",
        "    'learning_rate' : [0.03,0.05,0.07],\r\n",
        "    'n_estimators':[500,1000],\r\n",
        "    'max_bin' : [80],\r\n",
        "    'gpu_id':[0] ,         \r\n",
        "    'tree_method':['gpu_hist'],\r\n",
        "    'predictor':['gpu_predictor'],\r\n",
        "    'refit':[True]\r\n",
        "}\r\n",
        "\r\n",
        "lgb_reg = LGBMRegressor()\r\n",
        "lgb_grid = GridSearchCV(lgb_reg,\r\n",
        "                        lgb_params,\r\n",
        "                        cv = 5,\r\n",
        "                        n_jobs = -1,\r\n",
        "                        verbose=True)\r\n",
        "\r\n",
        "\r\n",
        "lgb_grid.fit(X_train,y_train)\r\n"
      ],
      "execution_count": null,
      "outputs": [
        {
          "output_type": "stream",
          "text": [
            "Fitting 5 folds for each of 12 candidates, totalling 60 fits\n"
          ],
          "name": "stdout"
        },
        {
          "output_type": "stream",
          "text": [
            "[Parallel(n_jobs=-1)]: Using backend LokyBackend with 2 concurrent workers.\n",
            "[Parallel(n_jobs=-1)]: Done  46 tasks      | elapsed:   26.6s\n",
            "[Parallel(n_jobs=-1)]: Done  60 out of  60 | elapsed:   35.8s finished\n"
          ],
          "name": "stderr"
        },
        {
          "output_type": "execute_result",
          "data": {
            "text/plain": [
              "GridSearchCV(cv=5, error_score=nan,\n",
              "             estimator=LGBMRegressor(boosting_type='gbdt', class_weight=None,\n",
              "                                     colsample_bytree=1.0,\n",
              "                                     importance_type='split', learning_rate=0.1,\n",
              "                                     max_depth=-1, min_child_samples=20,\n",
              "                                     min_child_weight=0.001, min_split_gain=0.0,\n",
              "                                     n_estimators=100, n_jobs=-1, num_leaves=31,\n",
              "                                     objective=None, random_state=None,\n",
              "                                     reg_alpha=0.0, reg_lambda=0.0, silent=True,\n",
              "                                     subsample=1.0, subsample_for_bin=200000,\n",
              "                                     subsample_freq=0),\n",
              "             iid='deprecated', n_jobs=-1,\n",
              "             param_grid={'gpu_id': [0], 'learning_rate': [0.03, 0.05, 0.07],\n",
              "                         'max_bin': [80], 'n_estimators': [500, 1000],\n",
              "                         'num_leave': [1, 3], 'predictor': ['gpu_predictor'],\n",
              "                         'refit': [True], 'tree_method': ['gpu_hist']},\n",
              "             pre_dispatch='2*n_jobs', refit=True, return_train_score=False,\n",
              "             scoring=None, verbose=True)"
            ]
          },
          "metadata": {
            "tags": []
          },
          "execution_count": 78
        }
      ]
    },
    {
      "cell_type": "code",
      "metadata": {
        "colab": {
          "base_uri": "https://localhost:8080/"
        },
        "id": "yePPv9yXdiLP",
        "outputId": "c3e4057f-b493-415b-9571-6405efc79a27"
      },
      "source": [
        "print(lgb_grid.best_score_)\r\n",
        "print(lgb_grid.best_params_)\r\n",
        "\r\n",
        "pred=xgb_grid.predict(X_train)\r\n",
        "print('train RMSE : {0:4f}'.format(rmse(y_train,pred)))"
      ],
      "execution_count": null,
      "outputs": [
        {
          "output_type": "stream",
          "text": [
            "0.14598077936775916\n",
            "{'gpu_id': 0, 'learning_rate': 0.03, 'max_bin': 80, 'n_estimators': 500, 'num_leave': 1, 'predictor': 'gpu_predictor', 'refit': True, 'tree_method': 'gpu_hist'}\n",
            "train RMSE : 0.324136\n"
          ],
          "name": "stdout"
        }
      ]
    },
    {
      "cell_type": "code",
      "metadata": {
        "colab": {
          "base_uri": "https://localhost:8080/"
        },
        "id": "mR8kqGsmdjPu",
        "outputId": "a41e37ff-e9fe-4286-bb40-a1768d53264a"
      },
      "source": [
        "lgb_best = LGBMRegressor(gpu_id= 0, learning_rate=0.03, \r\n",
        "                         max_bin=80, n_estimators= 500, \r\n",
        "                         num_leave=1, predictor='gpu_predictor', \r\n",
        "                         refit=True, tree_method= 'gpu_hist' )\r\n",
        "lgb_best.fit(X_train,y_train)\r\n",
        "pred=lgb_best.predict(X_test)\r\n",
        "print('test RMSE : {0:4f}'.format(rmse(y_test,pred)))"
      ],
      "execution_count": null,
      "outputs": [
        {
          "output_type": "stream",
          "text": [
            "test RMSE : 0.535216\n"
          ],
          "name": "stdout"
        }
      ]
    },
    {
      "cell_type": "code",
      "metadata": {
        "colab": {
          "base_uri": "https://localhost:8080/",
          "height": 283
        },
        "id": "0jq5c7M5dl6V",
        "outputId": "c9a875b4-f8f2-4866-f2ed-98da6fe25008"
      },
      "source": [
        "sns.barplot(x=lgb_best.feature_importances_,y=X_train.columns)  #Feature 별 중요도 도식화"
      ],
      "execution_count": null,
      "outputs": [
        {
          "output_type": "execute_result",
          "data": {
            "text/plain": [
              "<matplotlib.axes._subplots.AxesSubplot at 0x7f7ef480db38>"
            ]
          },
          "metadata": {
            "tags": []
          },
          "execution_count": 81
        },
        {
          "output_type": "display_data",
          "data": {
            "image/png": "[encoded data removed]",
            "text/plain": [
              "<Figure size 432x288 with 1 Axes>"
            ]
          },
          "metadata": {
            "tags": [],
            "needs_background": "light"
          }
        }
      ]
    },
    {
      "cell_type": "markdown",
      "metadata": {
        "id": "30a3-tbvdrX5"
      },
      "source": [
        "##**2-2. LightGBM**\r\n",
        ": default 값<br>\r\n",
        "https://lightgbm.readthedocs.io/en/latest/Parameters.html\r\n"
      ]
    },
    {
      "cell_type": "code",
      "metadata": {
        "colab": {
          "base_uri": "https://localhost:8080/"
        },
        "id": "noDG7kKOdsfr",
        "outputId": "0e9279f8-b5b0-4b59-bef6-bad0da7c09e6"
      },
      "source": [
        "lgb_best_1 = LGBMRegressor( )\r\n",
        "lgb_best_1.fit(X_train,y_train)\r\n",
        "pred=lgb_best_1.predict(X_test)\r\n",
        "print('test RMSE : {0:4f}'.format(rmse(y_test,pred)))"
      ],
      "execution_count": null,
      "outputs": [
        {
          "output_type": "stream",
          "text": [
            "test RMSE : 0.527655\n"
          ],
          "name": "stdout"
        }
      ]
    },
    {
      "cell_type": "code",
      "metadata": {
        "colab": {
          "base_uri": "https://localhost:8080/",
          "height": 283
        },
        "id": "xIeatuTvdw1p",
        "outputId": "5915076b-6028-4da3-b26c-5c631e8e504a"
      },
      "source": [
        "sns.barplot(x=lgb_best_1.feature_importances_,y=X_train.columns)  #Feature 별 중요도 도식화"
      ],
      "execution_count": null,
      "outputs": [
        {
          "output_type": "execute_result",
          "data": {
            "text/plain": [
              "<matplotlib.axes._subplots.AxesSubplot at 0x7f7f005f1978>"
            ]
          },
          "metadata": {
            "tags": []
          },
          "execution_count": 83
        },
        {
          "output_type": "display_data",
          "data": {
            "image/png": "[encoded data removed]",
            "text/plain": [
              "<Figure size 432x288 with 1 Axes>"
            ]
          },
          "metadata": {
            "tags": [],
            "needs_background": "light"
          }
        }
      ]
    },
    {
      "cell_type": "markdown",
      "metadata": {
        "id": "GPuFjDGIpDgK"
      },
      "source": [
        "##**3-1. CatBoost**\r\n",
        ": GridSearchCV로 hyper-parameter tunning"
      ]
    },
    {
      "cell_type": "code",
      "metadata": {
        "colab": {
          "base_uri": "https://localhost:8080/"
        },
        "id": "lUkikdzwpDAy",
        "outputId": "b481e8cb-2cce-4883-e36c-e438ed6fb257"
      },
      "source": [
        "cat=CatBoostRegressor()\r\n",
        "parameters = {'depth'         : [4,6,8,10],\r\n",
        "                  'learning_rate' : [0.01, 0.03, 0.05, 0.1, 0.15],\r\n",
        "                  'iterations'    : [20, 30, 50, 80, 100]\r\n",
        "                 }\r\n",
        "cat_grid = GridSearchCV(estimator=cat, param_grid = parameters, cv = 5, n_jobs=-1)\r\n",
        "\r\n",
        "cat_grid.fit(X_train, y_train)\r\n"
      ],
      "execution_count": null,
      "outputs": [
        {
          "output_type": "stream",
          "text": [
            "0:\tlearn: 0.5306077\ttotal: 50.5ms\tremaining: 5s\n",
            "1:\tlearn: 0.5247313\ttotal: 53ms\tremaining: 2.6s\n",
            "2:\tlearn: 0.5203716\ttotal: 55.4ms\tremaining: 1.79s\n",
            "3:\tlearn: 0.5161139\ttotal: 57.9ms\tremaining: 1.39s\n",
            "4:\tlearn: 0.5127364\ttotal: 60.4ms\tremaining: 1.15s\n",
            "5:\tlearn: 0.5103514\ttotal: 62.7ms\tremaining: 982ms\n",
            "6:\tlearn: 0.5074989\ttotal: 65.1ms\tremaining: 865ms\n",
            "7:\tlearn: 0.5052320\ttotal: 67.5ms\tremaining: 776ms\n",
            "8:\tlearn: 0.5030772\ttotal: 69.9ms\tremaining: 707ms\n",
            "9:\tlearn: 0.5009604\ttotal: 72.1ms\tremaining: 649ms\n",
            "10:\tlearn: 0.4994368\ttotal: 74.3ms\tremaining: 602ms\n",
            "11:\tlearn: 0.4977347\ttotal: 76.6ms\tremaining: 562ms\n",
            "12:\tlearn: 0.4958913\ttotal: 79ms\tremaining: 528ms\n",
            "13:\tlearn: 0.4936091\ttotal: 81.1ms\tremaining: 498ms\n",
            "14:\tlearn: 0.4924978\ttotal: 83.4ms\tremaining: 473ms\n",
            "15:\tlearn: 0.4911119\ttotal: 85.6ms\tremaining: 450ms\n",
            "16:\tlearn: 0.4899851\ttotal: 88ms\tremaining: 430ms\n",
            "17:\tlearn: 0.4891731\ttotal: 90.3ms\tremaining: 411ms\n",
            "18:\tlearn: 0.4880686\ttotal: 92.5ms\tremaining: 394ms\n",
            "19:\tlearn: 0.4871228\ttotal: 94.8ms\tremaining: 379ms\n",
            "20:\tlearn: 0.4859730\ttotal: 97.2ms\tremaining: 366ms\n",
            "21:\tlearn: 0.4844857\ttotal: 99.6ms\tremaining: 353ms\n",
            "22:\tlearn: 0.4830781\ttotal: 102ms\tremaining: 341ms\n",
            "23:\tlearn: 0.4813577\ttotal: 104ms\tremaining: 330ms\n",
            "24:\tlearn: 0.4801079\ttotal: 106ms\tremaining: 319ms\n",
            "25:\tlearn: 0.4790733\ttotal: 109ms\tremaining: 310ms\n",
            "26:\tlearn: 0.4782607\ttotal: 111ms\tremaining: 301ms\n",
            "27:\tlearn: 0.4771551\ttotal: 113ms\tremaining: 292ms\n",
            "28:\tlearn: 0.4762273\ttotal: 116ms\tremaining: 284ms\n",
            "29:\tlearn: 0.4754965\ttotal: 118ms\tremaining: 276ms\n",
            "30:\tlearn: 0.4740106\ttotal: 121ms\tremaining: 269ms\n",
            "31:\tlearn: 0.4725694\ttotal: 123ms\tremaining: 262ms\n",
            "32:\tlearn: 0.4715463\ttotal: 125ms\tremaining: 255ms\n",
            "33:\tlearn: 0.4707590\ttotal: 128ms\tremaining: 248ms\n",
            "34:\tlearn: 0.4695256\ttotal: 131ms\tremaining: 242ms\n",
            "35:\tlearn: 0.4685718\ttotal: 133ms\tremaining: 236ms\n",
            "36:\tlearn: 0.4679040\ttotal: 136ms\tremaining: 231ms\n",
            "37:\tlearn: 0.4667410\ttotal: 138ms\tremaining: 225ms\n",
            "38:\tlearn: 0.4658185\ttotal: 140ms\tremaining: 219ms\n",
            "39:\tlearn: 0.4648722\ttotal: 143ms\tremaining: 214ms\n",
            "40:\tlearn: 0.4642598\ttotal: 145ms\tremaining: 208ms\n",
            "41:\tlearn: 0.4632744\ttotal: 147ms\tremaining: 203ms\n",
            "42:\tlearn: 0.4615705\ttotal: 149ms\tremaining: 198ms\n",
            "43:\tlearn: 0.4604156\ttotal: 152ms\tremaining: 193ms\n",
            "44:\tlearn: 0.4597434\ttotal: 154ms\tremaining: 188ms\n",
            "45:\tlearn: 0.4582341\ttotal: 156ms\tremaining: 183ms\n",
            "46:\tlearn: 0.4578350\ttotal: 159ms\tremaining: 179ms\n",
            "47:\tlearn: 0.4572132\ttotal: 161ms\tremaining: 174ms\n",
            "48:\tlearn: 0.4564934\ttotal: 163ms\tremaining: 170ms\n",
            "49:\tlearn: 0.4554256\ttotal: 166ms\tremaining: 166ms\n",
            "50:\tlearn: 0.4543579\ttotal: 168ms\tremaining: 161ms\n",
            "51:\tlearn: 0.4534104\ttotal: 170ms\tremaining: 157ms\n",
            "52:\tlearn: 0.4529391\ttotal: 173ms\tremaining: 153ms\n",
            "53:\tlearn: 0.4523253\ttotal: 175ms\tremaining: 149ms\n",
            "54:\tlearn: 0.4518068\ttotal: 177ms\tremaining: 145ms\n",
            "55:\tlearn: 0.4504367\ttotal: 180ms\tremaining: 141ms\n",
            "56:\tlearn: 0.4496797\ttotal: 182ms\tremaining: 137ms\n",
            "57:\tlearn: 0.4491309\ttotal: 184ms\tremaining: 133ms\n",
            "58:\tlearn: 0.4483292\ttotal: 186ms\tremaining: 130ms\n",
            "59:\tlearn: 0.4469347\ttotal: 189ms\tremaining: 126ms\n",
            "60:\tlearn: 0.4458321\ttotal: 191ms\tremaining: 122ms\n",
            "61:\tlearn: 0.4443899\ttotal: 193ms\tremaining: 118ms\n",
            "62:\tlearn: 0.4439381\ttotal: 195ms\tremaining: 115ms\n",
            "63:\tlearn: 0.4434954\ttotal: 198ms\tremaining: 111ms\n",
            "64:\tlearn: 0.4428325\ttotal: 200ms\tremaining: 108ms\n",
            "65:\tlearn: 0.4421714\ttotal: 202ms\tremaining: 104ms\n",
            "66:\tlearn: 0.4414975\ttotal: 205ms\tremaining: 101ms\n",
            "67:\tlearn: 0.4408445\ttotal: 207ms\tremaining: 97.3ms\n",
            "68:\tlearn: 0.4397166\ttotal: 209ms\tremaining: 93.9ms\n",
            "69:\tlearn: 0.4388827\ttotal: 212ms\tremaining: 90.7ms\n",
            "70:\tlearn: 0.4383538\ttotal: 214ms\tremaining: 87.3ms\n",
            "71:\tlearn: 0.4375693\ttotal: 216ms\tremaining: 84ms\n",
            "72:\tlearn: 0.4370781\ttotal: 218ms\tremaining: 80.8ms\n",
            "73:\tlearn: 0.4362882\ttotal: 221ms\tremaining: 77.6ms\n",
            "74:\tlearn: 0.4351727\ttotal: 223ms\tremaining: 74.4ms\n",
            "75:\tlearn: 0.4343750\ttotal: 225ms\tremaining: 71.2ms\n",
            "76:\tlearn: 0.4335280\ttotal: 228ms\tremaining: 68.1ms\n",
            "77:\tlearn: 0.4327033\ttotal: 230ms\tremaining: 64.9ms\n",
            "78:\tlearn: 0.4318273\ttotal: 233ms\tremaining: 61.8ms\n",
            "79:\tlearn: 0.4308723\ttotal: 235ms\tremaining: 58.7ms\n",
            "80:\tlearn: 0.4301735\ttotal: 239ms\tremaining: 56.1ms\n",
            "81:\tlearn: 0.4291044\ttotal: 244ms\tremaining: 53.5ms\n",
            "82:\tlearn: 0.4281999\ttotal: 248ms\tremaining: 50.8ms\n",
            "83:\tlearn: 0.4276434\ttotal: 252ms\tremaining: 48ms\n",
            "84:\tlearn: 0.4271815\ttotal: 255ms\tremaining: 44.9ms\n",
            "85:\tlearn: 0.4261983\ttotal: 257ms\tremaining: 41.9ms\n",
            "86:\tlearn: 0.4258234\ttotal: 260ms\tremaining: 38.8ms\n",
            "87:\tlearn: 0.4248445\ttotal: 262ms\tremaining: 35.7ms\n",
            "88:\tlearn: 0.4242417\ttotal: 264ms\tremaining: 32.7ms\n",
            "89:\tlearn: 0.4238190\ttotal: 267ms\tremaining: 29.7ms\n",
            "90:\tlearn: 0.4232751\ttotal: 269ms\tremaining: 26.6ms\n",
            "91:\tlearn: 0.4225112\ttotal: 272ms\tremaining: 23.7ms\n",
            "92:\tlearn: 0.4217458\ttotal: 274ms\tremaining: 20.7ms\n",
            "93:\tlearn: 0.4209282\ttotal: 277ms\tremaining: 17.7ms\n",
            "94:\tlearn: 0.4204454\ttotal: 279ms\tremaining: 14.7ms\n",
            "95:\tlearn: 0.4196803\ttotal: 282ms\tremaining: 11.7ms\n",
            "96:\tlearn: 0.4187049\ttotal: 284ms\tremaining: 8.79ms\n",
            "97:\tlearn: 0.4181741\ttotal: 286ms\tremaining: 5.84ms\n",
            "98:\tlearn: 0.4175067\ttotal: 289ms\tremaining: 2.92ms\n",
            "99:\tlearn: 0.4169709\ttotal: 291ms\tremaining: 0us\n"
          ],
          "name": "stdout"
        },
        {
          "output_type": "execute_result",
          "data": {
            "text/plain": [
              "GridSearchCV(cv=5, error_score=nan,\n",
              "             estimator=<catboost.core.CatBoostRegressor object at 0x7f7ef46bae10>,\n",
              "             iid='deprecated', n_jobs=-1,\n",
              "             param_grid={'depth': [4, 6, 8, 10],\n",
              "                         'iterations': [20, 30, 50, 80, 100],\n",
              "                         'learning_rate': [0.01, 0.03, 0.05, 0.1, 0.15]},\n",
              "             pre_dispatch='2*n_jobs', refit=True, return_train_score=False,\n",
              "             scoring=None, verbose=0)"
            ]
          },
          "metadata": {
            "tags": []
          },
          "execution_count": 84
        }
      ]
    },
    {
      "cell_type": "code",
      "metadata": {
        "colab": {
          "base_uri": "https://localhost:8080/"
        },
        "id": "-Ig-oPlbuZA1",
        "outputId": "11cddf3a-630e-4fc7-e158-3249b70412da"
      },
      "source": [
        "print(cat_grid.best_score_)\r\n",
        "print(cat_grid.best_params_)\r\n",
        "pred=cat_grid.predict(X_train)\r\n",
        "print('train RMSE : {0:.4f}'.format(rmse(y_train,pred)))"
      ],
      "execution_count": null,
      "outputs": [
        {
          "output_type": "stream",
          "text": [
            "0.164573438265261\n",
            "{'depth': 6, 'iterations': 100, 'learning_rate': 0.15}\n",
            "train RMSE : 0.4170\n"
          ],
          "name": "stdout"
        }
      ]
    },
    {
      "cell_type": "code",
      "metadata": {
        "colab": {
          "base_uri": "https://localhost:8080/"
        },
        "id": "k3cVD8VRumvA",
        "outputId": "8fca7ec6-226a-4c1b-9137-fd0788a0377f"
      },
      "source": [
        "cat_best = CatBoostRegressor(depth = 6, iterations=100, learning_rate=0.15)\r\n",
        "cat_best.fit(X_train, y_train)\r\n",
        "pred=cat_best.predict(X_test)\r\n",
        "print('test RMSE : {0:.4f}'.format(rmse(y_test,pred)))"
      ],
      "execution_count": null,
      "outputs": [
        {
          "output_type": "stream",
          "text": [
            "0:\tlearn: 0.5306077\ttotal: 2.97ms\tremaining: 294ms\n",
            "1:\tlearn: 0.5247313\ttotal: 5.39ms\tremaining: 264ms\n",
            "2:\tlearn: 0.5203716\ttotal: 7.69ms\tremaining: 249ms\n",
            "3:\tlearn: 0.5161139\ttotal: 10.1ms\tremaining: 242ms\n",
            "4:\tlearn: 0.5127364\ttotal: 12.3ms\tremaining: 234ms\n",
            "5:\tlearn: 0.5103514\ttotal: 14.6ms\tremaining: 229ms\n",
            "6:\tlearn: 0.5074989\ttotal: 17.2ms\tremaining: 228ms\n",
            "7:\tlearn: 0.5052320\ttotal: 19.7ms\tremaining: 226ms\n",
            "8:\tlearn: 0.5030772\ttotal: 23.8ms\tremaining: 240ms\n",
            "9:\tlearn: 0.5009604\ttotal: 26.3ms\tremaining: 236ms\n",
            "10:\tlearn: 0.4994368\ttotal: 28.6ms\tremaining: 231ms\n",
            "11:\tlearn: 0.4977347\ttotal: 31ms\tremaining: 227ms\n",
            "12:\tlearn: 0.4958913\ttotal: 33.3ms\tremaining: 223ms\n",
            "13:\tlearn: 0.4936091\ttotal: 35.6ms\tremaining: 219ms\n",
            "14:\tlearn: 0.4924978\ttotal: 37.9ms\tremaining: 215ms\n",
            "15:\tlearn: 0.4911119\ttotal: 40.3ms\tremaining: 211ms\n",
            "16:\tlearn: 0.4899851\ttotal: 42.8ms\tremaining: 209ms\n",
            "17:\tlearn: 0.4891731\ttotal: 45.1ms\tremaining: 205ms\n",
            "18:\tlearn: 0.4880686\ttotal: 47.4ms\tremaining: 202ms\n",
            "19:\tlearn: 0.4871228\ttotal: 49.7ms\tremaining: 199ms\n",
            "20:\tlearn: 0.4859730\ttotal: 53.5ms\tremaining: 201ms\n",
            "21:\tlearn: 0.4844857\ttotal: 56.7ms\tremaining: 201ms\n",
            "22:\tlearn: 0.4830781\ttotal: 62.2ms\tremaining: 208ms\n",
            "23:\tlearn: 0.4813577\ttotal: 64.5ms\tremaining: 204ms\n",
            "24:\tlearn: 0.4801079\ttotal: 66.7ms\tremaining: 200ms\n",
            "25:\tlearn: 0.4790733\ttotal: 69ms\tremaining: 196ms\n",
            "26:\tlearn: 0.4782607\ttotal: 71.3ms\tremaining: 193ms\n",
            "27:\tlearn: 0.4771551\ttotal: 73.6ms\tremaining: 189ms\n",
            "28:\tlearn: 0.4762273\ttotal: 76ms\tremaining: 186ms\n",
            "29:\tlearn: 0.4754965\ttotal: 78.4ms\tremaining: 183ms\n",
            "30:\tlearn: 0.4740106\ttotal: 80.7ms\tremaining: 180ms\n",
            "31:\tlearn: 0.4725694\ttotal: 83.1ms\tremaining: 177ms\n",
            "32:\tlearn: 0.4715463\ttotal: 85.3ms\tremaining: 173ms\n",
            "33:\tlearn: 0.4707590\ttotal: 87.6ms\tremaining: 170ms\n",
            "34:\tlearn: 0.4695256\ttotal: 90ms\tremaining: 167ms\n",
            "35:\tlearn: 0.4685718\ttotal: 92.3ms\tremaining: 164ms\n",
            "36:\tlearn: 0.4679040\ttotal: 96.6ms\tremaining: 164ms\n",
            "37:\tlearn: 0.4667410\ttotal: 98.9ms\tremaining: 161ms\n",
            "38:\tlearn: 0.4658185\ttotal: 101ms\tremaining: 158ms\n",
            "39:\tlearn: 0.4648722\ttotal: 103ms\tremaining: 155ms\n",
            "40:\tlearn: 0.4642598\ttotal: 106ms\tremaining: 152ms\n",
            "41:\tlearn: 0.4632744\ttotal: 108ms\tremaining: 149ms\n",
            "42:\tlearn: 0.4615705\ttotal: 110ms\tremaining: 146ms\n",
            "43:\tlearn: 0.4604156\ttotal: 113ms\tremaining: 143ms\n",
            "44:\tlearn: 0.4597434\ttotal: 115ms\tremaining: 140ms\n",
            "45:\tlearn: 0.4582341\ttotal: 117ms\tremaining: 137ms\n",
            "46:\tlearn: 0.4578350\ttotal: 119ms\tremaining: 134ms\n",
            "47:\tlearn: 0.4572132\ttotal: 121ms\tremaining: 132ms\n",
            "48:\tlearn: 0.4564934\ttotal: 124ms\tremaining: 129ms\n",
            "49:\tlearn: 0.4554256\ttotal: 126ms\tremaining: 126ms\n",
            "50:\tlearn: 0.4543579\ttotal: 129ms\tremaining: 124ms\n",
            "51:\tlearn: 0.4534104\ttotal: 131ms\tremaining: 121ms\n",
            "52:\tlearn: 0.4529391\ttotal: 133ms\tremaining: 118ms\n",
            "53:\tlearn: 0.4523253\ttotal: 136ms\tremaining: 115ms\n",
            "54:\tlearn: 0.4518068\ttotal: 138ms\tremaining: 113ms\n",
            "55:\tlearn: 0.4504367\ttotal: 140ms\tremaining: 110ms\n",
            "56:\tlearn: 0.4496797\ttotal: 142ms\tremaining: 107ms\n",
            "57:\tlearn: 0.4491309\ttotal: 145ms\tremaining: 105ms\n",
            "58:\tlearn: 0.4483292\ttotal: 151ms\tremaining: 105ms\n",
            "59:\tlearn: 0.4469347\ttotal: 153ms\tremaining: 102ms\n",
            "60:\tlearn: 0.4458321\ttotal: 156ms\tremaining: 99.5ms\n",
            "61:\tlearn: 0.4443899\ttotal: 158ms\tremaining: 96.8ms\n",
            "62:\tlearn: 0.4439381\ttotal: 160ms\tremaining: 94.1ms\n",
            "63:\tlearn: 0.4434954\ttotal: 163ms\tremaining: 91.5ms\n",
            "64:\tlearn: 0.4428325\ttotal: 165ms\tremaining: 88.8ms\n",
            "65:\tlearn: 0.4421714\ttotal: 167ms\tremaining: 86.2ms\n",
            "66:\tlearn: 0.4414975\ttotal: 170ms\tremaining: 83.5ms\n",
            "67:\tlearn: 0.4408445\ttotal: 172ms\tremaining: 80.9ms\n",
            "68:\tlearn: 0.4397166\ttotal: 174ms\tremaining: 78.3ms\n",
            "69:\tlearn: 0.4388827\ttotal: 177ms\tremaining: 75.7ms\n",
            "70:\tlearn: 0.4383538\ttotal: 179ms\tremaining: 73ms\n",
            "71:\tlearn: 0.4375693\ttotal: 181ms\tremaining: 70.4ms\n",
            "72:\tlearn: 0.4370781\ttotal: 184ms\tremaining: 68ms\n",
            "73:\tlearn: 0.4362882\ttotal: 189ms\tremaining: 66.4ms\n",
            "74:\tlearn: 0.4351727\ttotal: 192ms\tremaining: 64ms\n",
            "75:\tlearn: 0.4343750\ttotal: 194ms\tremaining: 61.4ms\n",
            "76:\tlearn: 0.4335280\ttotal: 197ms\tremaining: 58.8ms\n",
            "77:\tlearn: 0.4327033\ttotal: 199ms\tremaining: 56.2ms\n",
            "78:\tlearn: 0.4318273\ttotal: 204ms\tremaining: 54.2ms\n",
            "79:\tlearn: 0.4308723\ttotal: 207ms\tremaining: 51.8ms\n",
            "80:\tlearn: 0.4301735\ttotal: 215ms\tremaining: 50.4ms\n",
            "81:\tlearn: 0.4291044\ttotal: 219ms\tremaining: 48.1ms\n",
            "82:\tlearn: 0.4281999\ttotal: 223ms\tremaining: 45.6ms\n",
            "83:\tlearn: 0.4276434\ttotal: 226ms\tremaining: 43ms\n",
            "84:\tlearn: 0.4271815\ttotal: 228ms\tremaining: 40.3ms\n",
            "85:\tlearn: 0.4261983\ttotal: 231ms\tremaining: 37.6ms\n",
            "86:\tlearn: 0.4258234\ttotal: 233ms\tremaining: 34.8ms\n",
            "87:\tlearn: 0.4248445\ttotal: 236ms\tremaining: 32.1ms\n",
            "88:\tlearn: 0.4242417\ttotal: 239ms\tremaining: 29.6ms\n",
            "89:\tlearn: 0.4238190\ttotal: 245ms\tremaining: 27.3ms\n",
            "90:\tlearn: 0.4232751\ttotal: 248ms\tremaining: 24.5ms\n",
            "91:\tlearn: 0.4225112\ttotal: 250ms\tremaining: 21.8ms\n",
            "92:\tlearn: 0.4217458\ttotal: 253ms\tremaining: 19ms\n",
            "93:\tlearn: 0.4209282\ttotal: 255ms\tremaining: 16.3ms\n",
            "94:\tlearn: 0.4204454\ttotal: 257ms\tremaining: 13.5ms\n",
            "95:\tlearn: 0.4196803\ttotal: 260ms\tremaining: 10.8ms\n",
            "96:\tlearn: 0.4187049\ttotal: 262ms\tremaining: 8.11ms\n",
            "97:\tlearn: 0.4181741\ttotal: 265ms\tremaining: 5.4ms\n",
            "98:\tlearn: 0.4175067\ttotal: 267ms\tremaining: 2.7ms\n",
            "99:\tlearn: 0.4169709\ttotal: 269ms\tremaining: 0us\n",
            "test RMSE : 0.5221\n"
          ],
          "name": "stdout"
        }
      ]
    },
    {
      "cell_type": "code",
      "metadata": {
        "colab": {
          "base_uri": "https://localhost:8080/",
          "height": 283
        },
        "id": "UOrlyZPavgEl",
        "outputId": "377c0557-d3cc-4c28-9089-f8ce499ebde9"
      },
      "source": [
        "sns.barplot(x=cat_best.feature_importances_,y=X_train.columns)  #Feature 별 중요도 도식화"
      ],
      "execution_count": null,
      "outputs": [
        {
          "output_type": "execute_result",
          "data": {
            "text/plain": [
              "<matplotlib.axes._subplots.AxesSubplot at 0x7f7ef46a4dd8>"
            ]
          },
          "metadata": {
            "tags": []
          },
          "execution_count": 87
        },
        {
          "output_type": "display_data",
          "data": {
            "image/png": "[encoded data removed]",
            "text/plain": [
              "<Figure size 432x288 with 1 Axes>"
            ]
          },
          "metadata": {
            "tags": [],
            "needs_background": "light"
          }
        }
      ]
    },
    {
      "cell_type": "markdown",
      "metadata": {
        "id": "EmzfmLY9vWFr"
      },
      "source": [
        "##**3-2. CatBoost**\r\n",
        ": default<br>\r\n",
        "https://catboost.ai/docs/concepts/python-reference_catboostregressor.html\r\n"
      ]
    },
    {
      "cell_type": "code",
      "metadata": {
        "colab": {
          "base_uri": "https://localhost:8080/"
        },
        "id": "zfTifqFLunDZ",
        "outputId": "33edcdfc-f24d-4ad5-af78-e389d2028bb3"
      },
      "source": [
        "cat_best_1 = CatBoostRegressor()\r\n",
        "cat_best_1.fit(X_train, y_train)\r\n",
        "pred=cat_best_1.predict(X_test)\r\n",
        "print('test RMSE : {0:.4f}'.format(rmse(y_test,pred)))"
      ],
      "execution_count": null,
      "outputs": [
        {
          "output_type": "stream",
          "text": [
            "Learning rate set to 0.050996\n",
            "0:\tlearn: 0.5355449\ttotal: 4.77ms\tremaining: 4.76s\n",
            "1:\tlearn: 0.5331207\ttotal: 7.35ms\tremaining: 3.67s\n",
            "2:\tlearn: 0.5306607\ttotal: 9.86ms\tremaining: 3.28s\n",
            "3:\tlearn: 0.5285766\ttotal: 12.6ms\tremaining: 3.13s\n",
            "4:\tlearn: 0.5266207\ttotal: 15ms\tremaining: 2.98s\n",
            "5:\tlearn: 0.5249438\ttotal: 17.4ms\tremaining: 2.88s\n",
            "6:\tlearn: 0.5232018\ttotal: 19.9ms\tremaining: 2.82s\n",
            "7:\tlearn: 0.5215353\ttotal: 22.3ms\tremaining: 2.76s\n",
            "8:\tlearn: 0.5203062\ttotal: 24.7ms\tremaining: 2.72s\n",
            "9:\tlearn: 0.5188969\ttotal: 27ms\tremaining: 2.68s\n",
            "10:\tlearn: 0.5177131\ttotal: 30.2ms\tremaining: 2.71s\n",
            "11:\tlearn: 0.5165046\ttotal: 32.5ms\tremaining: 2.67s\n",
            "12:\tlearn: 0.5152005\ttotal: 35.1ms\tremaining: 2.67s\n",
            "13:\tlearn: 0.5141939\ttotal: 37.4ms\tremaining: 2.64s\n",
            "14:\tlearn: 0.5131930\ttotal: 40ms\tremaining: 2.62s\n",
            "15:\tlearn: 0.5119888\ttotal: 42.3ms\tremaining: 2.6s\n",
            "16:\tlearn: 0.5110214\ttotal: 44.7ms\tremaining: 2.59s\n",
            "17:\tlearn: 0.5102701\ttotal: 47.2ms\tremaining: 2.57s\n",
            "18:\tlearn: 0.5096341\ttotal: 49.6ms\tremaining: 2.56s\n",
            "19:\tlearn: 0.5089610\ttotal: 52.1ms\tremaining: 2.55s\n",
            "20:\tlearn: 0.5081871\ttotal: 54.5ms\tremaining: 2.54s\n",
            "21:\tlearn: 0.5076023\ttotal: 56.9ms\tremaining: 2.53s\n",
            "22:\tlearn: 0.5067143\ttotal: 59.4ms\tremaining: 2.52s\n",
            "23:\tlearn: 0.5058943\ttotal: 61.7ms\tremaining: 2.51s\n",
            "24:\tlearn: 0.5051977\ttotal: 64ms\tremaining: 2.5s\n",
            "25:\tlearn: 0.5046461\ttotal: 67.3ms\tremaining: 2.52s\n",
            "26:\tlearn: 0.5038246\ttotal: 71.8ms\tremaining: 2.59s\n",
            "27:\tlearn: 0.5033003\ttotal: 76.2ms\tremaining: 2.65s\n",
            "28:\tlearn: 0.5027839\ttotal: 80.7ms\tremaining: 2.7s\n",
            "29:\tlearn: 0.5021153\ttotal: 102ms\tremaining: 3.31s\n",
            "30:\tlearn: 0.5016005\ttotal: 106ms\tremaining: 3.32s\n",
            "31:\tlearn: 0.5010477\ttotal: 110ms\tremaining: 3.33s\n",
            "32:\tlearn: 0.5005720\ttotal: 114ms\tremaining: 3.33s\n",
            "33:\tlearn: 0.5001532\ttotal: 117ms\tremaining: 3.33s\n",
            "34:\tlearn: 0.4994637\ttotal: 121ms\tremaining: 3.32s\n",
            "35:\tlearn: 0.4985708\ttotal: 124ms\tremaining: 3.32s\n",
            "36:\tlearn: 0.4978997\ttotal: 127ms\tremaining: 3.32s\n",
            "37:\tlearn: 0.4973440\ttotal: 131ms\tremaining: 3.31s\n",
            "38:\tlearn: 0.4967639\ttotal: 135ms\tremaining: 3.33s\n",
            "39:\tlearn: 0.4963158\ttotal: 139ms\tremaining: 3.32s\n",
            "40:\tlearn: 0.4958133\ttotal: 142ms\tremaining: 3.32s\n",
            "41:\tlearn: 0.4953105\ttotal: 145ms\tremaining: 3.32s\n",
            "42:\tlearn: 0.4944578\ttotal: 149ms\tremaining: 3.32s\n",
            "43:\tlearn: 0.4938386\ttotal: 153ms\tremaining: 3.31s\n",
            "44:\tlearn: 0.4934534\ttotal: 156ms\tremaining: 3.31s\n",
            "45:\tlearn: 0.4929798\ttotal: 160ms\tremaining: 3.32s\n",
            "46:\tlearn: 0.4924241\ttotal: 164ms\tremaining: 3.32s\n",
            "47:\tlearn: 0.4917230\ttotal: 168ms\tremaining: 3.32s\n",
            "48:\tlearn: 0.4914605\ttotal: 172ms\tremaining: 3.33s\n",
            "49:\tlearn: 0.4911800\ttotal: 175ms\tremaining: 3.33s\n",
            "50:\tlearn: 0.4907412\ttotal: 179ms\tremaining: 3.33s\n",
            "51:\tlearn: 0.4904052\ttotal: 183ms\tremaining: 3.33s\n",
            "52:\tlearn: 0.4900331\ttotal: 186ms\tremaining: 3.32s\n",
            "53:\tlearn: 0.4896416\ttotal: 190ms\tremaining: 3.32s\n",
            "54:\tlearn: 0.4892064\ttotal: 205ms\tremaining: 3.53s\n",
            "55:\tlearn: 0.4888334\ttotal: 209ms\tremaining: 3.52s\n",
            "56:\tlearn: 0.4883382\ttotal: 213ms\tremaining: 3.52s\n",
            "57:\tlearn: 0.4877061\ttotal: 216ms\tremaining: 3.51s\n",
            "58:\tlearn: 0.4873545\ttotal: 220ms\tremaining: 3.51s\n",
            "59:\tlearn: 0.4869575\ttotal: 224ms\tremaining: 3.5s\n",
            "60:\tlearn: 0.4864215\ttotal: 227ms\tremaining: 3.5s\n",
            "61:\tlearn: 0.4858250\ttotal: 231ms\tremaining: 3.49s\n",
            "62:\tlearn: 0.4854887\ttotal: 237ms\tremaining: 3.53s\n",
            "63:\tlearn: 0.4847784\ttotal: 241ms\tremaining: 3.52s\n",
            "64:\tlearn: 0.4842814\ttotal: 245ms\tremaining: 3.52s\n",
            "65:\tlearn: 0.4839203\ttotal: 248ms\tremaining: 3.52s\n",
            "66:\tlearn: 0.4834122\ttotal: 252ms\tremaining: 3.51s\n",
            "67:\tlearn: 0.4830817\ttotal: 256ms\tremaining: 3.51s\n",
            "68:\tlearn: 0.4828019\ttotal: 260ms\tremaining: 3.51s\n",
            "69:\tlearn: 0.4822604\ttotal: 264ms\tremaining: 3.5s\n",
            "70:\tlearn: 0.4817447\ttotal: 267ms\tremaining: 3.5s\n",
            "71:\tlearn: 0.4814420\ttotal: 272ms\tremaining: 3.5s\n",
            "72:\tlearn: 0.4809716\ttotal: 275ms\tremaining: 3.49s\n",
            "73:\tlearn: 0.4804883\ttotal: 279ms\tremaining: 3.49s\n",
            "74:\tlearn: 0.4801970\ttotal: 283ms\tremaining: 3.49s\n",
            "75:\tlearn: 0.4797788\ttotal: 286ms\tremaining: 3.48s\n",
            "76:\tlearn: 0.4794324\ttotal: 290ms\tremaining: 3.48s\n",
            "77:\tlearn: 0.4787732\ttotal: 294ms\tremaining: 3.47s\n",
            "78:\tlearn: 0.4783775\ttotal: 297ms\tremaining: 3.47s\n",
            "79:\tlearn: 0.4779934\ttotal: 301ms\tremaining: 3.47s\n",
            "80:\tlearn: 0.4776985\ttotal: 305ms\tremaining: 3.46s\n",
            "81:\tlearn: 0.4772553\ttotal: 309ms\tremaining: 3.46s\n",
            "82:\tlearn: 0.4769823\ttotal: 313ms\tremaining: 3.46s\n",
            "83:\tlearn: 0.4766803\ttotal: 317ms\tremaining: 3.45s\n",
            "84:\tlearn: 0.4764970\ttotal: 321ms\tremaining: 3.46s\n",
            "85:\tlearn: 0.4759934\ttotal: 325ms\tremaining: 3.45s\n",
            "86:\tlearn: 0.4753346\ttotal: 329ms\tremaining: 3.45s\n",
            "87:\tlearn: 0.4750728\ttotal: 333ms\tremaining: 3.45s\n",
            "88:\tlearn: 0.4747126\ttotal: 337ms\tremaining: 3.45s\n",
            "89:\tlearn: 0.4744344\ttotal: 340ms\tremaining: 3.44s\n",
            "90:\tlearn: 0.4742316\ttotal: 344ms\tremaining: 3.44s\n",
            "91:\tlearn: 0.4740104\ttotal: 360ms\tremaining: 3.55s\n",
            "92:\tlearn: 0.4738177\ttotal: 364ms\tremaining: 3.55s\n",
            "93:\tlearn: 0.4736752\ttotal: 368ms\tremaining: 3.54s\n",
            "94:\tlearn: 0.4732473\ttotal: 371ms\tremaining: 3.53s\n",
            "95:\tlearn: 0.4727531\ttotal: 373ms\tremaining: 3.52s\n",
            "96:\tlearn: 0.4726376\ttotal: 376ms\tremaining: 3.5s\n",
            "97:\tlearn: 0.4722596\ttotal: 378ms\tremaining: 3.48s\n",
            "98:\tlearn: 0.4719200\ttotal: 381ms\tremaining: 3.46s\n",
            "99:\tlearn: 0.4717985\ttotal: 383ms\tremaining: 3.44s\n",
            "100:\tlearn: 0.4714005\ttotal: 385ms\tremaining: 3.43s\n",
            "101:\tlearn: 0.4712447\ttotal: 388ms\tremaining: 3.41s\n",
            "102:\tlearn: 0.4707829\ttotal: 390ms\tremaining: 3.4s\n",
            "103:\tlearn: 0.4705853\ttotal: 394ms\tremaining: 3.39s\n",
            "104:\tlearn: 0.4702731\ttotal: 400ms\tremaining: 3.41s\n",
            "105:\tlearn: 0.4699582\ttotal: 402ms\tremaining: 3.39s\n",
            "106:\tlearn: 0.4697923\ttotal: 405ms\tremaining: 3.38s\n",
            "107:\tlearn: 0.4696291\ttotal: 407ms\tremaining: 3.36s\n",
            "108:\tlearn: 0.4692890\ttotal: 410ms\tremaining: 3.35s\n",
            "109:\tlearn: 0.4690370\ttotal: 414ms\tremaining: 3.35s\n",
            "110:\tlearn: 0.4687086\ttotal: 419ms\tremaining: 3.35s\n",
            "111:\tlearn: 0.4683946\ttotal: 423ms\tremaining: 3.35s\n",
            "112:\tlearn: 0.4681422\ttotal: 426ms\tremaining: 3.34s\n",
            "113:\tlearn: 0.4677148\ttotal: 429ms\tremaining: 3.34s\n",
            "114:\tlearn: 0.4671215\ttotal: 432ms\tremaining: 3.32s\n",
            "115:\tlearn: 0.4669526\ttotal: 434ms\tremaining: 3.31s\n",
            "116:\tlearn: 0.4667540\ttotal: 437ms\tremaining: 3.29s\n",
            "117:\tlearn: 0.4663476\ttotal: 439ms\tremaining: 3.28s\n",
            "118:\tlearn: 0.4662204\ttotal: 441ms\tremaining: 3.27s\n",
            "119:\tlearn: 0.4660547\ttotal: 444ms\tremaining: 3.25s\n",
            "120:\tlearn: 0.4657833\ttotal: 446ms\tremaining: 3.24s\n",
            "121:\tlearn: 0.4655003\ttotal: 448ms\tremaining: 3.23s\n",
            "122:\tlearn: 0.4653227\ttotal: 451ms\tremaining: 3.21s\n",
            "123:\tlearn: 0.4652373\ttotal: 453ms\tremaining: 3.2s\n",
            "124:\tlearn: 0.4648356\ttotal: 456ms\tremaining: 3.19s\n",
            "125:\tlearn: 0.4645994\ttotal: 458ms\tremaining: 3.18s\n",
            "126:\tlearn: 0.4643317\ttotal: 461ms\tremaining: 3.17s\n",
            "127:\tlearn: 0.4639555\ttotal: 465ms\tremaining: 3.17s\n",
            "128:\tlearn: 0.4635297\ttotal: 468ms\tremaining: 3.16s\n",
            "129:\tlearn: 0.4633592\ttotal: 470ms\tremaining: 3.14s\n",
            "130:\tlearn: 0.4631309\ttotal: 472ms\tremaining: 3.13s\n",
            "131:\tlearn: 0.4629564\ttotal: 476ms\tremaining: 3.13s\n",
            "132:\tlearn: 0.4624938\ttotal: 481ms\tremaining: 3.14s\n",
            "133:\tlearn: 0.4621111\ttotal: 484ms\tremaining: 3.13s\n",
            "134:\tlearn: 0.4618310\ttotal: 486ms\tremaining: 3.12s\n",
            "135:\tlearn: 0.4615210\ttotal: 489ms\tremaining: 3.1s\n",
            "136:\tlearn: 0.4613701\ttotal: 491ms\tremaining: 3.09s\n",
            "137:\tlearn: 0.4611021\ttotal: 494ms\tremaining: 3.08s\n",
            "138:\tlearn: 0.4608069\ttotal: 496ms\tremaining: 3.07s\n",
            "139:\tlearn: 0.4604453\ttotal: 498ms\tremaining: 3.06s\n",
            "140:\tlearn: 0.4602837\ttotal: 500ms\tremaining: 3.05s\n",
            "141:\tlearn: 0.4599394\ttotal: 503ms\tremaining: 3.04s\n",
            "142:\tlearn: 0.4597414\ttotal: 505ms\tremaining: 3.03s\n",
            "143:\tlearn: 0.4594196\ttotal: 507ms\tremaining: 3.02s\n",
            "144:\tlearn: 0.4590109\ttotal: 510ms\tremaining: 3.01s\n",
            "145:\tlearn: 0.4587005\ttotal: 512ms\tremaining: 3s\n",
            "146:\tlearn: 0.4583852\ttotal: 515ms\tremaining: 2.99s\n",
            "147:\tlearn: 0.4582416\ttotal: 517ms\tremaining: 2.98s\n",
            "148:\tlearn: 0.4578962\ttotal: 519ms\tremaining: 2.97s\n",
            "149:\tlearn: 0.4577062\ttotal: 522ms\tremaining: 2.96s\n",
            "150:\tlearn: 0.4572334\ttotal: 524ms\tremaining: 2.95s\n",
            "151:\tlearn: 0.4570741\ttotal: 526ms\tremaining: 2.94s\n",
            "152:\tlearn: 0.4566064\ttotal: 529ms\tremaining: 2.93s\n",
            "153:\tlearn: 0.4564075\ttotal: 531ms\tremaining: 2.92s\n",
            "154:\tlearn: 0.4557588\ttotal: 534ms\tremaining: 2.91s\n",
            "155:\tlearn: 0.4552919\ttotal: 536ms\tremaining: 2.9s\n",
            "156:\tlearn: 0.4551374\ttotal: 538ms\tremaining: 2.89s\n",
            "157:\tlearn: 0.4549291\ttotal: 541ms\tremaining: 2.88s\n",
            "158:\tlearn: 0.4547080\ttotal: 543ms\tremaining: 2.87s\n",
            "159:\tlearn: 0.4544744\ttotal: 545ms\tremaining: 2.86s\n",
            "160:\tlearn: 0.4539102\ttotal: 548ms\tremaining: 2.85s\n",
            "161:\tlearn: 0.4536900\ttotal: 550ms\tremaining: 2.85s\n",
            "162:\tlearn: 0.4533591\ttotal: 553ms\tremaining: 2.84s\n",
            "163:\tlearn: 0.4531077\ttotal: 555ms\tremaining: 2.83s\n",
            "164:\tlearn: 0.4527899\ttotal: 558ms\tremaining: 2.82s\n",
            "165:\tlearn: 0.4523622\ttotal: 560ms\tremaining: 2.81s\n",
            "166:\tlearn: 0.4519493\ttotal: 562ms\tremaining: 2.8s\n",
            "167:\tlearn: 0.4517074\ttotal: 564ms\tremaining: 2.79s\n",
            "168:\tlearn: 0.4513725\ttotal: 567ms\tremaining: 2.79s\n",
            "169:\tlearn: 0.4511172\ttotal: 571ms\tremaining: 2.79s\n",
            "170:\tlearn: 0.4509383\ttotal: 574ms\tremaining: 2.78s\n",
            "171:\tlearn: 0.4505517\ttotal: 576ms\tremaining: 2.77s\n",
            "172:\tlearn: 0.4501808\ttotal: 579ms\tremaining: 2.77s\n",
            "173:\tlearn: 0.4497891\ttotal: 581ms\tremaining: 2.76s\n",
            "174:\tlearn: 0.4493830\ttotal: 587ms\tremaining: 2.77s\n",
            "175:\tlearn: 0.4489805\ttotal: 593ms\tremaining: 2.77s\n",
            "176:\tlearn: 0.4485664\ttotal: 596ms\tremaining: 2.77s\n",
            "177:\tlearn: 0.4483516\ttotal: 599ms\tremaining: 2.76s\n",
            "178:\tlearn: 0.4481899\ttotal: 601ms\tremaining: 2.76s\n",
            "179:\tlearn: 0.4478182\ttotal: 603ms\tremaining: 2.75s\n",
            "180:\tlearn: 0.4475701\ttotal: 605ms\tremaining: 2.74s\n",
            "181:\tlearn: 0.4474665\ttotal: 608ms\tremaining: 2.73s\n",
            "182:\tlearn: 0.4472279\ttotal: 612ms\tremaining: 2.73s\n",
            "183:\tlearn: 0.4468777\ttotal: 615ms\tremaining: 2.73s\n",
            "184:\tlearn: 0.4464445\ttotal: 619ms\tremaining: 2.73s\n",
            "185:\tlearn: 0.4460496\ttotal: 621ms\tremaining: 2.72s\n",
            "186:\tlearn: 0.4455084\ttotal: 623ms\tremaining: 2.71s\n",
            "187:\tlearn: 0.4449763\ttotal: 626ms\tremaining: 2.7s\n",
            "188:\tlearn: 0.4444718\ttotal: 628ms\tremaining: 2.69s\n",
            "189:\tlearn: 0.4441622\ttotal: 630ms\tremaining: 2.69s\n",
            "190:\tlearn: 0.4438524\ttotal: 632ms\tremaining: 2.68s\n",
            "191:\tlearn: 0.4436226\ttotal: 635ms\tremaining: 2.67s\n",
            "192:\tlearn: 0.4435093\ttotal: 639ms\tremaining: 2.67s\n",
            "193:\tlearn: 0.4432134\ttotal: 642ms\tremaining: 2.67s\n",
            "194:\tlearn: 0.4429864\ttotal: 646ms\tremaining: 2.67s\n",
            "195:\tlearn: 0.4427823\ttotal: 652ms\tremaining: 2.67s\n",
            "196:\tlearn: 0.4423827\ttotal: 656ms\tremaining: 2.67s\n",
            "197:\tlearn: 0.4421778\ttotal: 658ms\tremaining: 2.67s\n",
            "198:\tlearn: 0.4418051\ttotal: 660ms\tremaining: 2.66s\n",
            "199:\tlearn: 0.4415881\ttotal: 662ms\tremaining: 2.65s\n",
            "200:\tlearn: 0.4412330\ttotal: 665ms\tremaining: 2.64s\n",
            "201:\tlearn: 0.4409411\ttotal: 667ms\tremaining: 2.63s\n",
            "202:\tlearn: 0.4407938\ttotal: 669ms\tremaining: 2.63s\n",
            "203:\tlearn: 0.4405718\ttotal: 672ms\tremaining: 2.62s\n",
            "204:\tlearn: 0.4401605\ttotal: 674ms\tremaining: 2.61s\n",
            "205:\tlearn: 0.4398594\ttotal: 676ms\tremaining: 2.61s\n",
            "206:\tlearn: 0.4397445\ttotal: 679ms\tremaining: 2.6s\n",
            "207:\tlearn: 0.4393601\ttotal: 681ms\tremaining: 2.59s\n",
            "208:\tlearn: 0.4390169\ttotal: 683ms\tremaining: 2.58s\n",
            "209:\tlearn: 0.4387053\ttotal: 685ms\tremaining: 2.58s\n",
            "210:\tlearn: 0.4385034\ttotal: 688ms\tremaining: 2.57s\n",
            "211:\tlearn: 0.4379486\ttotal: 690ms\tremaining: 2.56s\n",
            "212:\tlearn: 0.4375057\ttotal: 692ms\tremaining: 2.56s\n",
            "213:\tlearn: 0.4371765\ttotal: 694ms\tremaining: 2.55s\n",
            "214:\tlearn: 0.4368085\ttotal: 697ms\tremaining: 2.54s\n",
            "215:\tlearn: 0.4366211\ttotal: 699ms\tremaining: 2.54s\n",
            "216:\tlearn: 0.4362586\ttotal: 701ms\tremaining: 2.53s\n",
            "217:\tlearn: 0.4360140\ttotal: 703ms\tremaining: 2.52s\n",
            "218:\tlearn: 0.4358555\ttotal: 706ms\tremaining: 2.52s\n",
            "219:\tlearn: 0.4356845\ttotal: 708ms\tremaining: 2.51s\n",
            "220:\tlearn: 0.4354173\ttotal: 710ms\tremaining: 2.5s\n",
            "221:\tlearn: 0.4351289\ttotal: 712ms\tremaining: 2.5s\n",
            "222:\tlearn: 0.4348671\ttotal: 714ms\tremaining: 2.49s\n",
            "223:\tlearn: 0.4347250\ttotal: 717ms\tremaining: 2.48s\n",
            "224:\tlearn: 0.4344680\ttotal: 724ms\tremaining: 2.49s\n",
            "225:\tlearn: 0.4341607\ttotal: 730ms\tremaining: 2.5s\n",
            "226:\tlearn: 0.4339614\ttotal: 732ms\tremaining: 2.49s\n",
            "227:\tlearn: 0.4337178\ttotal: 735ms\tremaining: 2.49s\n",
            "228:\tlearn: 0.4335078\ttotal: 738ms\tremaining: 2.48s\n",
            "229:\tlearn: 0.4331107\ttotal: 740ms\tremaining: 2.48s\n",
            "230:\tlearn: 0.4328606\ttotal: 742ms\tremaining: 2.47s\n",
            "231:\tlearn: 0.4325795\ttotal: 745ms\tremaining: 2.47s\n",
            "232:\tlearn: 0.4322740\ttotal: 748ms\tremaining: 2.46s\n",
            "233:\tlearn: 0.4320353\ttotal: 750ms\tremaining: 2.46s\n",
            "234:\tlearn: 0.4314757\ttotal: 752ms\tremaining: 2.45s\n",
            "235:\tlearn: 0.4312310\ttotal: 755ms\tremaining: 2.44s\n",
            "236:\tlearn: 0.4309345\ttotal: 760ms\tremaining: 2.44s\n",
            "237:\tlearn: 0.4306810\ttotal: 764ms\tremaining: 2.45s\n",
            "238:\tlearn: 0.4302377\ttotal: 767ms\tremaining: 2.44s\n",
            "239:\tlearn: 0.4301052\ttotal: 769ms\tremaining: 2.44s\n",
            "240:\tlearn: 0.4298337\ttotal: 772ms\tremaining: 2.43s\n",
            "241:\tlearn: 0.4294924\ttotal: 782ms\tremaining: 2.45s\n",
            "242:\tlearn: 0.4293753\ttotal: 785ms\tremaining: 2.44s\n",
            "243:\tlearn: 0.4290433\ttotal: 788ms\tremaining: 2.44s\n",
            "244:\tlearn: 0.4287761\ttotal: 790ms\tremaining: 2.44s\n",
            "245:\tlearn: 0.4285234\ttotal: 793ms\tremaining: 2.43s\n",
            "246:\tlearn: 0.4282162\ttotal: 795ms\tremaining: 2.42s\n",
            "247:\tlearn: 0.4279903\ttotal: 798ms\tremaining: 2.42s\n",
            "248:\tlearn: 0.4277018\ttotal: 801ms\tremaining: 2.41s\n",
            "249:\tlearn: 0.4274492\ttotal: 803ms\tremaining: 2.41s\n",
            "250:\tlearn: 0.4272093\ttotal: 806ms\tremaining: 2.4s\n",
            "251:\tlearn: 0.4271048\ttotal: 808ms\tremaining: 2.4s\n",
            "252:\tlearn: 0.4269493\ttotal: 810ms\tremaining: 2.39s\n",
            "253:\tlearn: 0.4265597\ttotal: 813ms\tremaining: 2.39s\n",
            "254:\tlearn: 0.4262861\ttotal: 815ms\tremaining: 2.38s\n",
            "255:\tlearn: 0.4260392\ttotal: 818ms\tremaining: 2.38s\n",
            "256:\tlearn: 0.4258588\ttotal: 820ms\tremaining: 2.37s\n",
            "257:\tlearn: 0.4255072\ttotal: 823ms\tremaining: 2.37s\n",
            "258:\tlearn: 0.4252572\ttotal: 826ms\tremaining: 2.36s\n",
            "259:\tlearn: 0.4250615\ttotal: 829ms\tremaining: 2.36s\n",
            "260:\tlearn: 0.4248154\ttotal: 832ms\tremaining: 2.35s\n",
            "261:\tlearn: 0.4246340\ttotal: 834ms\tremaining: 2.35s\n",
            "262:\tlearn: 0.4243961\ttotal: 837ms\tremaining: 2.34s\n",
            "263:\tlearn: 0.4240556\ttotal: 839ms\tremaining: 2.34s\n",
            "264:\tlearn: 0.4237515\ttotal: 842ms\tremaining: 2.33s\n",
            "265:\tlearn: 0.4236094\ttotal: 844ms\tremaining: 2.33s\n",
            "266:\tlearn: 0.4233965\ttotal: 847ms\tremaining: 2.32s\n",
            "267:\tlearn: 0.4231543\ttotal: 849ms\tremaining: 2.32s\n",
            "268:\tlearn: 0.4229272\ttotal: 852ms\tremaining: 2.31s\n",
            "269:\tlearn: 0.4226659\ttotal: 854ms\tremaining: 2.31s\n",
            "270:\tlearn: 0.4225699\ttotal: 857ms\tremaining: 2.3s\n",
            "271:\tlearn: 0.4222514\ttotal: 859ms\tremaining: 2.3s\n",
            "272:\tlearn: 0.4219353\ttotal: 862ms\tremaining: 2.29s\n",
            "273:\tlearn: 0.4217200\ttotal: 864ms\tremaining: 2.29s\n",
            "274:\tlearn: 0.4216341\ttotal: 867ms\tremaining: 2.29s\n",
            "275:\tlearn: 0.4214510\ttotal: 869ms\tremaining: 2.28s\n",
            "276:\tlearn: 0.4212816\ttotal: 872ms\tremaining: 2.27s\n",
            "277:\tlearn: 0.4209776\ttotal: 874ms\tremaining: 2.27s\n",
            "278:\tlearn: 0.4207795\ttotal: 877ms\tremaining: 2.27s\n",
            "279:\tlearn: 0.4206796\ttotal: 879ms\tremaining: 2.26s\n",
            "280:\tlearn: 0.4205131\ttotal: 882ms\tremaining: 2.25s\n",
            "281:\tlearn: 0.4202042\ttotal: 884ms\tremaining: 2.25s\n",
            "282:\tlearn: 0.4201328\ttotal: 887ms\tremaining: 2.25s\n",
            "283:\tlearn: 0.4197057\ttotal: 889ms\tremaining: 2.24s\n",
            "284:\tlearn: 0.4194595\ttotal: 892ms\tremaining: 2.24s\n",
            "285:\tlearn: 0.4192698\ttotal: 894ms\tremaining: 2.23s\n",
            "286:\tlearn: 0.4190081\ttotal: 897ms\tremaining: 2.23s\n",
            "287:\tlearn: 0.4188831\ttotal: 899ms\tremaining: 2.22s\n",
            "288:\tlearn: 0.4186180\ttotal: 902ms\tremaining: 2.22s\n",
            "289:\tlearn: 0.4183790\ttotal: 904ms\tremaining: 2.21s\n",
            "290:\tlearn: 0.4183320\ttotal: 906ms\tremaining: 2.21s\n",
            "291:\tlearn: 0.4181648\ttotal: 909ms\tremaining: 2.2s\n",
            "292:\tlearn: 0.4181593\ttotal: 911ms\tremaining: 2.2s\n",
            "293:\tlearn: 0.4180551\ttotal: 914ms\tremaining: 2.19s\n",
            "294:\tlearn: 0.4180450\ttotal: 916ms\tremaining: 2.19s\n",
            "295:\tlearn: 0.4178163\ttotal: 918ms\tremaining: 2.18s\n",
            "296:\tlearn: 0.4177035\ttotal: 921ms\tremaining: 2.18s\n",
            "297:\tlearn: 0.4175797\ttotal: 923ms\tremaining: 2.17s\n",
            "298:\tlearn: 0.4173730\ttotal: 925ms\tremaining: 2.17s\n",
            "299:\tlearn: 0.4171480\ttotal: 928ms\tremaining: 2.16s\n",
            "300:\tlearn: 0.4170041\ttotal: 930ms\tremaining: 2.16s\n",
            "301:\tlearn: 0.4169191\ttotal: 932ms\tremaining: 2.15s\n",
            "302:\tlearn: 0.4164744\ttotal: 935ms\tremaining: 2.15s\n",
            "303:\tlearn: 0.4162604\ttotal: 937ms\tremaining: 2.15s\n",
            "304:\tlearn: 0.4159275\ttotal: 940ms\tremaining: 2.14s\n",
            "305:\tlearn: 0.4159237\ttotal: 942ms\tremaining: 2.13s\n",
            "306:\tlearn: 0.4158224\ttotal: 944ms\tremaining: 2.13s\n",
            "307:\tlearn: 0.4155786\ttotal: 946ms\tremaining: 2.13s\n",
            "308:\tlearn: 0.4153533\ttotal: 949ms\tremaining: 2.12s\n",
            "309:\tlearn: 0.4150946\ttotal: 951ms\tremaining: 2.12s\n",
            "310:\tlearn: 0.4150767\ttotal: 954ms\tremaining: 2.11s\n",
            "311:\tlearn: 0.4148159\ttotal: 956ms\tremaining: 2.11s\n",
            "312:\tlearn: 0.4146020\ttotal: 958ms\tremaining: 2.1s\n",
            "313:\tlearn: 0.4143885\ttotal: 961ms\tremaining: 2.1s\n",
            "314:\tlearn: 0.4140834\ttotal: 963ms\tremaining: 2.09s\n",
            "315:\tlearn: 0.4140801\ttotal: 965ms\tremaining: 2.09s\n",
            "316:\tlearn: 0.4138068\ttotal: 968ms\tremaining: 2.08s\n",
            "317:\tlearn: 0.4135289\ttotal: 979ms\tremaining: 2.1s\n",
            "318:\tlearn: 0.4131051\ttotal: 982ms\tremaining: 2.1s\n",
            "319:\tlearn: 0.4127827\ttotal: 984ms\tremaining: 2.09s\n",
            "320:\tlearn: 0.4124276\ttotal: 987ms\tremaining: 2.09s\n",
            "321:\tlearn: 0.4121825\ttotal: 989ms\tremaining: 2.08s\n",
            "322:\tlearn: 0.4118753\ttotal: 992ms\tremaining: 2.08s\n",
            "323:\tlearn: 0.4117888\ttotal: 994ms\tremaining: 2.07s\n",
            "324:\tlearn: 0.4117839\ttotal: 997ms\tremaining: 2.07s\n",
            "325:\tlearn: 0.4116708\ttotal: 999ms\tremaining: 2.06s\n",
            "326:\tlearn: 0.4114959\ttotal: 1s\tremaining: 2.06s\n",
            "327:\tlearn: 0.4112816\ttotal: 1s\tremaining: 2.06s\n",
            "328:\tlearn: 0.4112033\ttotal: 1.01s\tremaining: 2.05s\n",
            "329:\tlearn: 0.4108362\ttotal: 1.01s\tremaining: 2.05s\n",
            "330:\tlearn: 0.4107362\ttotal: 1.01s\tremaining: 2.04s\n",
            "331:\tlearn: 0.4105001\ttotal: 1.01s\tremaining: 2.04s\n",
            "332:\tlearn: 0.4102827\ttotal: 1.01s\tremaining: 2.03s\n",
            "333:\tlearn: 0.4101700\ttotal: 1.02s\tremaining: 2.03s\n",
            "334:\tlearn: 0.4099718\ttotal: 1.02s\tremaining: 2.03s\n",
            "335:\tlearn: 0.4098349\ttotal: 1.02s\tremaining: 2.02s\n",
            "336:\tlearn: 0.4096147\ttotal: 1.02s\tremaining: 2.02s\n",
            "337:\tlearn: 0.4093835\ttotal: 1.03s\tremaining: 2.01s\n",
            "338:\tlearn: 0.4092146\ttotal: 1.03s\tremaining: 2.01s\n",
            "339:\tlearn: 0.4090130\ttotal: 1.03s\tremaining: 2s\n",
            "340:\tlearn: 0.4086407\ttotal: 1.03s\tremaining: 2s\n",
            "341:\tlearn: 0.4083985\ttotal: 1.04s\tremaining: 2s\n",
            "342:\tlearn: 0.4081781\ttotal: 1.04s\tremaining: 1.99s\n",
            "343:\tlearn: 0.4079891\ttotal: 1.04s\tremaining: 1.99s\n",
            "344:\tlearn: 0.4077997\ttotal: 1.04s\tremaining: 1.98s\n",
            "345:\tlearn: 0.4076198\ttotal: 1.05s\tremaining: 1.98s\n",
            "346:\tlearn: 0.4074522\ttotal: 1.05s\tremaining: 1.97s\n",
            "347:\tlearn: 0.4071670\ttotal: 1.05s\tremaining: 1.97s\n",
            "348:\tlearn: 0.4068707\ttotal: 1.05s\tremaining: 1.97s\n",
            "349:\tlearn: 0.4066618\ttotal: 1.05s\tremaining: 1.96s\n",
            "350:\tlearn: 0.4065057\ttotal: 1.06s\tremaining: 1.96s\n",
            "351:\tlearn: 0.4063060\ttotal: 1.06s\tremaining: 1.95s\n",
            "352:\tlearn: 0.4061101\ttotal: 1.06s\tremaining: 1.95s\n",
            "353:\tlearn: 0.4059345\ttotal: 1.06s\tremaining: 1.94s\n",
            "354:\tlearn: 0.4056805\ttotal: 1.07s\tremaining: 1.94s\n",
            "355:\tlearn: 0.4054509\ttotal: 1.07s\tremaining: 1.94s\n",
            "356:\tlearn: 0.4051386\ttotal: 1.07s\tremaining: 1.93s\n",
            "357:\tlearn: 0.4050145\ttotal: 1.07s\tremaining: 1.93s\n",
            "358:\tlearn: 0.4048227\ttotal: 1.08s\tremaining: 1.92s\n",
            "359:\tlearn: 0.4046510\ttotal: 1.08s\tremaining: 1.92s\n",
            "360:\tlearn: 0.4044920\ttotal: 1.08s\tremaining: 1.92s\n",
            "361:\tlearn: 0.4043133\ttotal: 1.08s\tremaining: 1.91s\n",
            "362:\tlearn: 0.4041850\ttotal: 1.09s\tremaining: 1.91s\n",
            "363:\tlearn: 0.4039227\ttotal: 1.09s\tremaining: 1.9s\n",
            "364:\tlearn: 0.4038069\ttotal: 1.09s\tremaining: 1.9s\n",
            "365:\tlearn: 0.4036355\ttotal: 1.09s\tremaining: 1.9s\n",
            "366:\tlearn: 0.4033875\ttotal: 1.1s\tremaining: 1.89s\n",
            "367:\tlearn: 0.4032145\ttotal: 1.1s\tremaining: 1.89s\n",
            "368:\tlearn: 0.4029973\ttotal: 1.1s\tremaining: 1.88s\n",
            "369:\tlearn: 0.4028126\ttotal: 1.1s\tremaining: 1.88s\n",
            "370:\tlearn: 0.4026790\ttotal: 1.11s\tremaining: 1.88s\n",
            "371:\tlearn: 0.4025629\ttotal: 1.11s\tremaining: 1.87s\n",
            "372:\tlearn: 0.4023807\ttotal: 1.11s\tremaining: 1.87s\n",
            "373:\tlearn: 0.4021291\ttotal: 1.11s\tremaining: 1.86s\n",
            "374:\tlearn: 0.4020381\ttotal: 1.11s\tremaining: 1.86s\n",
            "375:\tlearn: 0.4018403\ttotal: 1.12s\tremaining: 1.85s\n",
            "376:\tlearn: 0.4017259\ttotal: 1.12s\tremaining: 1.85s\n",
            "377:\tlearn: 0.4015476\ttotal: 1.12s\tremaining: 1.85s\n",
            "378:\tlearn: 0.4014019\ttotal: 1.13s\tremaining: 1.84s\n",
            "379:\tlearn: 0.4011450\ttotal: 1.13s\tremaining: 1.84s\n",
            "380:\tlearn: 0.4010461\ttotal: 1.13s\tremaining: 1.84s\n",
            "381:\tlearn: 0.4008269\ttotal: 1.13s\tremaining: 1.83s\n",
            "382:\tlearn: 0.4007076\ttotal: 1.13s\tremaining: 1.83s\n",
            "383:\tlearn: 0.4005788\ttotal: 1.14s\tremaining: 1.82s\n",
            "384:\tlearn: 0.4004035\ttotal: 1.14s\tremaining: 1.82s\n",
            "385:\tlearn: 0.4002318\ttotal: 1.14s\tremaining: 1.82s\n",
            "386:\tlearn: 0.4000898\ttotal: 1.14s\tremaining: 1.81s\n",
            "387:\tlearn: 0.3997839\ttotal: 1.15s\tremaining: 1.81s\n",
            "388:\tlearn: 0.3994895\ttotal: 1.15s\tremaining: 1.8s\n",
            "389:\tlearn: 0.3992649\ttotal: 1.15s\tremaining: 1.8s\n",
            "390:\tlearn: 0.3991895\ttotal: 1.15s\tremaining: 1.8s\n",
            "391:\tlearn: 0.3990429\ttotal: 1.16s\tremaining: 1.79s\n",
            "392:\tlearn: 0.3989341\ttotal: 1.16s\tremaining: 1.79s\n",
            "393:\tlearn: 0.3986523\ttotal: 1.16s\tremaining: 1.79s\n",
            "394:\tlearn: 0.3985298\ttotal: 1.17s\tremaining: 1.78s\n",
            "395:\tlearn: 0.3983132\ttotal: 1.19s\tremaining: 1.81s\n",
            "396:\tlearn: 0.3981255\ttotal: 1.19s\tremaining: 1.8s\n",
            "397:\tlearn: 0.3980066\ttotal: 1.19s\tremaining: 1.8s\n",
            "398:\tlearn: 0.3978973\ttotal: 1.19s\tremaining: 1.8s\n",
            "399:\tlearn: 0.3976531\ttotal: 1.2s\tremaining: 1.79s\n",
            "400:\tlearn: 0.3973702\ttotal: 1.2s\tremaining: 1.79s\n",
            "401:\tlearn: 0.3971303\ttotal: 1.2s\tremaining: 1.79s\n",
            "402:\tlearn: 0.3970062\ttotal: 1.2s\tremaining: 1.78s\n",
            "403:\tlearn: 0.3968833\ttotal: 1.21s\tremaining: 1.78s\n",
            "404:\tlearn: 0.3967730\ttotal: 1.21s\tremaining: 1.78s\n",
            "405:\tlearn: 0.3965457\ttotal: 1.21s\tremaining: 1.77s\n",
            "406:\tlearn: 0.3963807\ttotal: 1.21s\tremaining: 1.77s\n",
            "407:\tlearn: 0.3961688\ttotal: 1.22s\tremaining: 1.77s\n",
            "408:\tlearn: 0.3958766\ttotal: 1.22s\tremaining: 1.76s\n",
            "409:\tlearn: 0.3956244\ttotal: 1.22s\tremaining: 1.76s\n",
            "410:\tlearn: 0.3954657\ttotal: 1.22s\tremaining: 1.75s\n",
            "411:\tlearn: 0.3952273\ttotal: 1.23s\tremaining: 1.75s\n",
            "412:\tlearn: 0.3951662\ttotal: 1.23s\tremaining: 1.75s\n",
            "413:\tlearn: 0.3951144\ttotal: 1.23s\tremaining: 1.74s\n",
            "414:\tlearn: 0.3949413\ttotal: 1.23s\tremaining: 1.74s\n",
            "415:\tlearn: 0.3948363\ttotal: 1.24s\tremaining: 1.74s\n",
            "416:\tlearn: 0.3946216\ttotal: 1.24s\tremaining: 1.73s\n",
            "417:\tlearn: 0.3944560\ttotal: 1.24s\tremaining: 1.73s\n",
            "418:\tlearn: 0.3941772\ttotal: 1.24s\tremaining: 1.73s\n",
            "419:\tlearn: 0.3940418\ttotal: 1.25s\tremaining: 1.72s\n",
            "420:\tlearn: 0.3938895\ttotal: 1.25s\tremaining: 1.72s\n",
            "421:\tlearn: 0.3936961\ttotal: 1.25s\tremaining: 1.71s\n",
            "422:\tlearn: 0.3935121\ttotal: 1.25s\tremaining: 1.71s\n",
            "423:\tlearn: 0.3932854\ttotal: 1.26s\tremaining: 1.71s\n",
            "424:\tlearn: 0.3930602\ttotal: 1.26s\tremaining: 1.7s\n",
            "425:\tlearn: 0.3928804\ttotal: 1.26s\tremaining: 1.7s\n",
            "426:\tlearn: 0.3927731\ttotal: 1.26s\tremaining: 1.7s\n",
            "427:\tlearn: 0.3927034\ttotal: 1.27s\tremaining: 1.69s\n",
            "428:\tlearn: 0.3925153\ttotal: 1.27s\tremaining: 1.69s\n",
            "429:\tlearn: 0.3923568\ttotal: 1.27s\tremaining: 1.69s\n",
            "430:\tlearn: 0.3922158\ttotal: 1.27s\tremaining: 1.68s\n",
            "431:\tlearn: 0.3920010\ttotal: 1.28s\tremaining: 1.68s\n",
            "432:\tlearn: 0.3918454\ttotal: 1.28s\tremaining: 1.68s\n",
            "433:\tlearn: 0.3916575\ttotal: 1.28s\tremaining: 1.67s\n",
            "434:\tlearn: 0.3916326\ttotal: 1.28s\tremaining: 1.67s\n",
            "435:\tlearn: 0.3915363\ttotal: 1.29s\tremaining: 1.67s\n",
            "436:\tlearn: 0.3913386\ttotal: 1.29s\tremaining: 1.66s\n",
            "437:\tlearn: 0.3911563\ttotal: 1.29s\tremaining: 1.66s\n",
            "438:\tlearn: 0.3911492\ttotal: 1.3s\tremaining: 1.66s\n",
            "439:\tlearn: 0.3910049\ttotal: 1.3s\tremaining: 1.65s\n",
            "440:\tlearn: 0.3908759\ttotal: 1.3s\tremaining: 1.65s\n",
            "441:\tlearn: 0.3906643\ttotal: 1.3s\tremaining: 1.65s\n",
            "442:\tlearn: 0.3904392\ttotal: 1.3s\tremaining: 1.64s\n",
            "443:\tlearn: 0.3903077\ttotal: 1.31s\tremaining: 1.64s\n",
            "444:\tlearn: 0.3901939\ttotal: 1.31s\tremaining: 1.63s\n",
            "445:\tlearn: 0.3900722\ttotal: 1.31s\tremaining: 1.63s\n",
            "446:\tlearn: 0.3899833\ttotal: 1.31s\tremaining: 1.63s\n",
            "447:\tlearn: 0.3898318\ttotal: 1.32s\tremaining: 1.62s\n",
            "448:\tlearn: 0.3896578\ttotal: 1.32s\tremaining: 1.62s\n",
            "449:\tlearn: 0.3895045\ttotal: 1.32s\tremaining: 1.62s\n",
            "450:\tlearn: 0.3893221\ttotal: 1.32s\tremaining: 1.61s\n",
            "451:\tlearn: 0.3891551\ttotal: 1.33s\tremaining: 1.61s\n",
            "452:\tlearn: 0.3889960\ttotal: 1.33s\tremaining: 1.6s\n",
            "453:\tlearn: 0.3889806\ttotal: 1.33s\tremaining: 1.6s\n",
            "454:\tlearn: 0.3888573\ttotal: 1.33s\tremaining: 1.6s\n",
            "455:\tlearn: 0.3887979\ttotal: 1.34s\tremaining: 1.59s\n",
            "456:\tlearn: 0.3887521\ttotal: 1.34s\tremaining: 1.59s\n",
            "457:\tlearn: 0.3886180\ttotal: 1.34s\tremaining: 1.59s\n",
            "458:\tlearn: 0.3883917\ttotal: 1.34s\tremaining: 1.58s\n",
            "459:\tlearn: 0.3882461\ttotal: 1.35s\tremaining: 1.58s\n",
            "460:\tlearn: 0.3880945\ttotal: 1.35s\tremaining: 1.58s\n",
            "461:\tlearn: 0.3880920\ttotal: 1.35s\tremaining: 1.57s\n",
            "462:\tlearn: 0.3880710\ttotal: 1.35s\tremaining: 1.57s\n",
            "463:\tlearn: 0.3879476\ttotal: 1.35s\tremaining: 1.57s\n",
            "464:\tlearn: 0.3878514\ttotal: 1.36s\tremaining: 1.56s\n",
            "465:\tlearn: 0.3876643\ttotal: 1.36s\tremaining: 1.56s\n",
            "466:\tlearn: 0.3876045\ttotal: 1.36s\tremaining: 1.55s\n",
            "467:\tlearn: 0.3873364\ttotal: 1.36s\tremaining: 1.55s\n",
            "468:\tlearn: 0.3872508\ttotal: 1.37s\tremaining: 1.55s\n",
            "469:\tlearn: 0.3869885\ttotal: 1.37s\tremaining: 1.54s\n",
            "470:\tlearn: 0.3868466\ttotal: 1.37s\tremaining: 1.54s\n",
            "471:\tlearn: 0.3867292\ttotal: 1.38s\tremaining: 1.55s\n",
            "472:\tlearn: 0.3866271\ttotal: 1.39s\tremaining: 1.54s\n",
            "473:\tlearn: 0.3864135\ttotal: 1.39s\tremaining: 1.54s\n",
            "474:\tlearn: 0.3862545\ttotal: 1.39s\tremaining: 1.54s\n",
            "475:\tlearn: 0.3860594\ttotal: 1.39s\tremaining: 1.53s\n",
            "476:\tlearn: 0.3859026\ttotal: 1.4s\tremaining: 1.53s\n",
            "477:\tlearn: 0.3857395\ttotal: 1.4s\tremaining: 1.53s\n",
            "478:\tlearn: 0.3855566\ttotal: 1.4s\tremaining: 1.52s\n",
            "479:\tlearn: 0.3854325\ttotal: 1.4s\tremaining: 1.52s\n",
            "480:\tlearn: 0.3853106\ttotal: 1.41s\tremaining: 1.52s\n",
            "481:\tlearn: 0.3850984\ttotal: 1.41s\tremaining: 1.51s\n",
            "482:\tlearn: 0.3850259\ttotal: 1.41s\tremaining: 1.51s\n",
            "483:\tlearn: 0.3848457\ttotal: 1.41s\tremaining: 1.51s\n",
            "484:\tlearn: 0.3846382\ttotal: 1.42s\tremaining: 1.5s\n",
            "485:\tlearn: 0.3845259\ttotal: 1.42s\tremaining: 1.5s\n",
            "486:\tlearn: 0.3844264\ttotal: 1.42s\tremaining: 1.5s\n",
            "487:\tlearn: 0.3841450\ttotal: 1.42s\tremaining: 1.49s\n",
            "488:\tlearn: 0.3839975\ttotal: 1.43s\tremaining: 1.49s\n",
            "489:\tlearn: 0.3838753\ttotal: 1.43s\tremaining: 1.49s\n",
            "490:\tlearn: 0.3836605\ttotal: 1.43s\tremaining: 1.48s\n",
            "491:\tlearn: 0.3835191\ttotal: 1.43s\tremaining: 1.48s\n",
            "492:\tlearn: 0.3833046\ttotal: 1.44s\tremaining: 1.48s\n",
            "493:\tlearn: 0.3831607\ttotal: 1.44s\tremaining: 1.47s\n",
            "494:\tlearn: 0.3830735\ttotal: 1.44s\tremaining: 1.47s\n",
            "495:\tlearn: 0.3829507\ttotal: 1.44s\tremaining: 1.47s\n",
            "496:\tlearn: 0.3828058\ttotal: 1.44s\tremaining: 1.46s\n",
            "497:\tlearn: 0.3826139\ttotal: 1.45s\tremaining: 1.46s\n",
            "498:\tlearn: 0.3823100\ttotal: 1.45s\tremaining: 1.46s\n",
            "499:\tlearn: 0.3822375\ttotal: 1.45s\tremaining: 1.45s\n",
            "500:\tlearn: 0.3821272\ttotal: 1.45s\tremaining: 1.45s\n",
            "501:\tlearn: 0.3819867\ttotal: 1.46s\tremaining: 1.44s\n",
            "502:\tlearn: 0.3817542\ttotal: 1.46s\tremaining: 1.44s\n",
            "503:\tlearn: 0.3815456\ttotal: 1.46s\tremaining: 1.44s\n",
            "504:\tlearn: 0.3814935\ttotal: 1.46s\tremaining: 1.43s\n",
            "505:\tlearn: 0.3813840\ttotal: 1.47s\tremaining: 1.43s\n",
            "506:\tlearn: 0.3811268\ttotal: 1.47s\tremaining: 1.43s\n",
            "507:\tlearn: 0.3810367\ttotal: 1.47s\tremaining: 1.42s\n",
            "508:\tlearn: 0.3808991\ttotal: 1.47s\tremaining: 1.42s\n",
            "509:\tlearn: 0.3808846\ttotal: 1.47s\tremaining: 1.42s\n",
            "510:\tlearn: 0.3807968\ttotal: 1.48s\tremaining: 1.41s\n",
            "511:\tlearn: 0.3806661\ttotal: 1.48s\tremaining: 1.41s\n",
            "512:\tlearn: 0.3805274\ttotal: 1.48s\tremaining: 1.41s\n",
            "513:\tlearn: 0.3805251\ttotal: 1.48s\tremaining: 1.4s\n",
            "514:\tlearn: 0.3803399\ttotal: 1.49s\tremaining: 1.4s\n",
            "515:\tlearn: 0.3802145\ttotal: 1.49s\tremaining: 1.4s\n",
            "516:\tlearn: 0.3800688\ttotal: 1.49s\tremaining: 1.39s\n",
            "517:\tlearn: 0.3799275\ttotal: 1.5s\tremaining: 1.39s\n",
            "518:\tlearn: 0.3798312\ttotal: 1.5s\tremaining: 1.39s\n",
            "519:\tlearn: 0.3797104\ttotal: 1.5s\tremaining: 1.39s\n",
            "520:\tlearn: 0.3795697\ttotal: 1.51s\tremaining: 1.38s\n",
            "521:\tlearn: 0.3794703\ttotal: 1.51s\tremaining: 1.38s\n",
            "522:\tlearn: 0.3794328\ttotal: 1.51s\tremaining: 1.38s\n",
            "523:\tlearn: 0.3793738\ttotal: 1.51s\tremaining: 1.37s\n",
            "524:\tlearn: 0.3793677\ttotal: 1.51s\tremaining: 1.37s\n",
            "525:\tlearn: 0.3793475\ttotal: 1.52s\tremaining: 1.37s\n",
            "526:\tlearn: 0.3792397\ttotal: 1.52s\tremaining: 1.36s\n",
            "527:\tlearn: 0.3790948\ttotal: 1.52s\tremaining: 1.36s\n",
            "528:\tlearn: 0.3789677\ttotal: 1.52s\tremaining: 1.36s\n",
            "529:\tlearn: 0.3787719\ttotal: 1.53s\tremaining: 1.35s\n",
            "530:\tlearn: 0.3786287\ttotal: 1.53s\tremaining: 1.35s\n",
            "531:\tlearn: 0.3786240\ttotal: 1.53s\tremaining: 1.35s\n",
            "532:\tlearn: 0.3784005\ttotal: 1.53s\tremaining: 1.34s\n",
            "533:\tlearn: 0.3782798\ttotal: 1.54s\tremaining: 1.34s\n",
            "534:\tlearn: 0.3781284\ttotal: 1.54s\tremaining: 1.34s\n",
            "535:\tlearn: 0.3780278\ttotal: 1.54s\tremaining: 1.33s\n",
            "536:\tlearn: 0.3778360\ttotal: 1.54s\tremaining: 1.33s\n",
            "537:\tlearn: 0.3777058\ttotal: 1.55s\tremaining: 1.33s\n",
            "538:\tlearn: 0.3775460\ttotal: 1.55s\tremaining: 1.32s\n",
            "539:\tlearn: 0.3774926\ttotal: 1.55s\tremaining: 1.32s\n",
            "540:\tlearn: 0.3773338\ttotal: 1.55s\tremaining: 1.32s\n",
            "541:\tlearn: 0.3771105\ttotal: 1.56s\tremaining: 1.31s\n",
            "542:\tlearn: 0.3769839\ttotal: 1.56s\tremaining: 1.31s\n",
            "543:\tlearn: 0.3768435\ttotal: 1.56s\tremaining: 1.31s\n",
            "544:\tlearn: 0.3767116\ttotal: 1.56s\tremaining: 1.3s\n",
            "545:\tlearn: 0.3764441\ttotal: 1.57s\tremaining: 1.3s\n",
            "546:\tlearn: 0.3763581\ttotal: 1.57s\tremaining: 1.3s\n",
            "547:\tlearn: 0.3762689\ttotal: 1.58s\tremaining: 1.3s\n",
            "548:\tlearn: 0.3761502\ttotal: 1.58s\tremaining: 1.3s\n",
            "549:\tlearn: 0.3760036\ttotal: 1.58s\tremaining: 1.3s\n",
            "550:\tlearn: 0.3758480\ttotal: 1.59s\tremaining: 1.3s\n",
            "551:\tlearn: 0.3757471\ttotal: 1.59s\tremaining: 1.29s\n",
            "552:\tlearn: 0.3755642\ttotal: 1.6s\tremaining: 1.29s\n",
            "553:\tlearn: 0.3755393\ttotal: 1.6s\tremaining: 1.29s\n",
            "554:\tlearn: 0.3754407\ttotal: 1.6s\tremaining: 1.29s\n",
            "555:\tlearn: 0.3753603\ttotal: 1.61s\tremaining: 1.28s\n",
            "556:\tlearn: 0.3750937\ttotal: 1.61s\tremaining: 1.28s\n",
            "557:\tlearn: 0.3749384\ttotal: 1.61s\tremaining: 1.28s\n",
            "558:\tlearn: 0.3748194\ttotal: 1.61s\tremaining: 1.27s\n",
            "559:\tlearn: 0.3747462\ttotal: 1.62s\tremaining: 1.27s\n",
            "560:\tlearn: 0.3744664\ttotal: 1.62s\tremaining: 1.27s\n",
            "561:\tlearn: 0.3743548\ttotal: 1.62s\tremaining: 1.26s\n",
            "562:\tlearn: 0.3742291\ttotal: 1.62s\tremaining: 1.26s\n",
            "563:\tlearn: 0.3741241\ttotal: 1.63s\tremaining: 1.26s\n",
            "564:\tlearn: 0.3739800\ttotal: 1.63s\tremaining: 1.25s\n",
            "565:\tlearn: 0.3738468\ttotal: 1.63s\tremaining: 1.25s\n",
            "566:\tlearn: 0.3737369\ttotal: 1.63s\tremaining: 1.25s\n",
            "567:\tlearn: 0.3736654\ttotal: 1.64s\tremaining: 1.24s\n",
            "568:\tlearn: 0.3735644\ttotal: 1.64s\tremaining: 1.24s\n",
            "569:\tlearn: 0.3734878\ttotal: 1.64s\tremaining: 1.24s\n",
            "570:\tlearn: 0.3734849\ttotal: 1.64s\tremaining: 1.23s\n",
            "571:\tlearn: 0.3733335\ttotal: 1.65s\tremaining: 1.23s\n",
            "572:\tlearn: 0.3732599\ttotal: 1.65s\tremaining: 1.23s\n",
            "573:\tlearn: 0.3730715\ttotal: 1.65s\tremaining: 1.22s\n",
            "574:\tlearn: 0.3729565\ttotal: 1.65s\tremaining: 1.22s\n",
            "575:\tlearn: 0.3727695\ttotal: 1.65s\tremaining: 1.22s\n",
            "576:\tlearn: 0.3726009\ttotal: 1.66s\tremaining: 1.21s\n",
            "577:\tlearn: 0.3725238\ttotal: 1.66s\tremaining: 1.21s\n",
            "578:\tlearn: 0.3723842\ttotal: 1.66s\tremaining: 1.21s\n",
            "579:\tlearn: 0.3721782\ttotal: 1.66s\tremaining: 1.21s\n",
            "580:\tlearn: 0.3720619\ttotal: 1.67s\tremaining: 1.2s\n",
            "581:\tlearn: 0.3717869\ttotal: 1.67s\tremaining: 1.2s\n",
            "582:\tlearn: 0.3717354\ttotal: 1.67s\tremaining: 1.2s\n",
            "583:\tlearn: 0.3715770\ttotal: 1.67s\tremaining: 1.19s\n",
            "584:\tlearn: 0.3714967\ttotal: 1.68s\tremaining: 1.19s\n",
            "585:\tlearn: 0.3712721\ttotal: 1.68s\tremaining: 1.19s\n",
            "586:\tlearn: 0.3710982\ttotal: 1.68s\tremaining: 1.18s\n",
            "587:\tlearn: 0.3709264\ttotal: 1.68s\tremaining: 1.18s\n",
            "588:\tlearn: 0.3708519\ttotal: 1.69s\tremaining: 1.18s\n",
            "589:\tlearn: 0.3707367\ttotal: 1.69s\tremaining: 1.17s\n",
            "590:\tlearn: 0.3706247\ttotal: 1.69s\tremaining: 1.17s\n",
            "591:\tlearn: 0.3706230\ttotal: 1.69s\tremaining: 1.17s\n",
            "592:\tlearn: 0.3704534\ttotal: 1.69s\tremaining: 1.16s\n",
            "593:\tlearn: 0.3702312\ttotal: 1.7s\tremaining: 1.16s\n",
            "594:\tlearn: 0.3701204\ttotal: 1.7s\tremaining: 1.16s\n",
            "595:\tlearn: 0.3700062\ttotal: 1.7s\tremaining: 1.15s\n",
            "596:\tlearn: 0.3698466\ttotal: 1.71s\tremaining: 1.15s\n",
            "597:\tlearn: 0.3696727\ttotal: 1.71s\tremaining: 1.15s\n",
            "598:\tlearn: 0.3696712\ttotal: 1.71s\tremaining: 1.15s\n",
            "599:\tlearn: 0.3694360\ttotal: 1.71s\tremaining: 1.14s\n",
            "600:\tlearn: 0.3692618\ttotal: 1.72s\tremaining: 1.14s\n",
            "601:\tlearn: 0.3690488\ttotal: 1.72s\tremaining: 1.14s\n",
            "602:\tlearn: 0.3689243\ttotal: 1.72s\tremaining: 1.13s\n",
            "603:\tlearn: 0.3687861\ttotal: 1.72s\tremaining: 1.13s\n",
            "604:\tlearn: 0.3686946\ttotal: 1.73s\tremaining: 1.13s\n",
            "605:\tlearn: 0.3686016\ttotal: 1.73s\tremaining: 1.12s\n",
            "606:\tlearn: 0.3684857\ttotal: 1.73s\tremaining: 1.12s\n",
            "607:\tlearn: 0.3683788\ttotal: 1.73s\tremaining: 1.12s\n",
            "608:\tlearn: 0.3682192\ttotal: 1.73s\tremaining: 1.11s\n",
            "609:\tlearn: 0.3680977\ttotal: 1.74s\tremaining: 1.11s\n",
            "610:\tlearn: 0.3679555\ttotal: 1.74s\tremaining: 1.11s\n",
            "611:\tlearn: 0.3678560\ttotal: 1.74s\tremaining: 1.1s\n",
            "612:\tlearn: 0.3677622\ttotal: 1.74s\tremaining: 1.1s\n",
            "613:\tlearn: 0.3676705\ttotal: 1.75s\tremaining: 1.1s\n",
            "614:\tlearn: 0.3675194\ttotal: 1.75s\tremaining: 1.09s\n",
            "615:\tlearn: 0.3674477\ttotal: 1.75s\tremaining: 1.09s\n",
            "616:\tlearn: 0.3672129\ttotal: 1.75s\tremaining: 1.09s\n",
            "617:\tlearn: 0.3670280\ttotal: 1.76s\tremaining: 1.09s\n",
            "618:\tlearn: 0.3668250\ttotal: 1.76s\tremaining: 1.08s\n",
            "619:\tlearn: 0.3667139\ttotal: 1.76s\tremaining: 1.08s\n",
            "620:\tlearn: 0.3664625\ttotal: 1.77s\tremaining: 1.08s\n",
            "621:\tlearn: 0.3662886\ttotal: 1.77s\tremaining: 1.07s\n",
            "622:\tlearn: 0.3660788\ttotal: 1.77s\tremaining: 1.07s\n",
            "623:\tlearn: 0.3659836\ttotal: 1.77s\tremaining: 1.07s\n",
            "624:\tlearn: 0.3658430\ttotal: 1.77s\tremaining: 1.06s\n",
            "625:\tlearn: 0.3657523\ttotal: 1.78s\tremaining: 1.06s\n",
            "626:\tlearn: 0.3655271\ttotal: 1.78s\tremaining: 1.06s\n",
            "627:\tlearn: 0.3654412\ttotal: 1.78s\tremaining: 1.05s\n",
            "628:\tlearn: 0.3653010\ttotal: 1.78s\tremaining: 1.05s\n",
            "629:\tlearn: 0.3650871\ttotal: 1.79s\tremaining: 1.05s\n",
            "630:\tlearn: 0.3649958\ttotal: 1.79s\tremaining: 1.05s\n",
            "631:\tlearn: 0.3649525\ttotal: 1.79s\tremaining: 1.04s\n",
            "632:\tlearn: 0.3648115\ttotal: 1.79s\tremaining: 1.04s\n",
            "633:\tlearn: 0.3647747\ttotal: 1.79s\tremaining: 1.04s\n",
            "634:\tlearn: 0.3646272\ttotal: 1.8s\tremaining: 1.03s\n",
            "635:\tlearn: 0.3644298\ttotal: 1.8s\tremaining: 1.03s\n",
            "636:\tlearn: 0.3643352\ttotal: 1.8s\tremaining: 1.03s\n",
            "637:\tlearn: 0.3642325\ttotal: 1.8s\tremaining: 1.02s\n",
            "638:\tlearn: 0.3642162\ttotal: 1.81s\tremaining: 1.02s\n",
            "639:\tlearn: 0.3640508\ttotal: 1.81s\tremaining: 1.02s\n",
            "640:\tlearn: 0.3639345\ttotal: 1.81s\tremaining: 1.01s\n",
            "641:\tlearn: 0.3637636\ttotal: 1.81s\tremaining: 1.01s\n",
            "642:\tlearn: 0.3636001\ttotal: 1.82s\tremaining: 1.01s\n",
            "643:\tlearn: 0.3634928\ttotal: 1.82s\tremaining: 1s\n",
            "644:\tlearn: 0.3633814\ttotal: 1.82s\tremaining: 1s\n",
            "645:\tlearn: 0.3632427\ttotal: 1.82s\tremaining: 1s\n",
            "646:\tlearn: 0.3630829\ttotal: 1.83s\tremaining: 998ms\n",
            "647:\tlearn: 0.3628480\ttotal: 1.83s\tremaining: 995ms\n",
            "648:\tlearn: 0.3627302\ttotal: 1.83s\tremaining: 992ms\n",
            "649:\tlearn: 0.3626453\ttotal: 1.84s\tremaining: 989ms\n",
            "650:\tlearn: 0.3625190\ttotal: 1.84s\tremaining: 986ms\n",
            "651:\tlearn: 0.3623981\ttotal: 1.84s\tremaining: 982ms\n",
            "652:\tlearn: 0.3623415\ttotal: 1.84s\tremaining: 979ms\n",
            "653:\tlearn: 0.3622588\ttotal: 1.84s\tremaining: 976ms\n",
            "654:\tlearn: 0.3621092\ttotal: 1.85s\tremaining: 973ms\n",
            "655:\tlearn: 0.3619535\ttotal: 1.85s\tremaining: 970ms\n",
            "656:\tlearn: 0.3617356\ttotal: 1.85s\tremaining: 967ms\n",
            "657:\tlearn: 0.3615373\ttotal: 1.85s\tremaining: 964ms\n",
            "658:\tlearn: 0.3614008\ttotal: 1.86s\tremaining: 961ms\n",
            "659:\tlearn: 0.3613095\ttotal: 1.86s\tremaining: 958ms\n",
            "660:\tlearn: 0.3612428\ttotal: 1.86s\tremaining: 955ms\n",
            "661:\tlearn: 0.3611276\ttotal: 1.86s\tremaining: 951ms\n",
            "662:\tlearn: 0.3610003\ttotal: 1.86s\tremaining: 948ms\n",
            "663:\tlearn: 0.3608755\ttotal: 1.87s\tremaining: 945ms\n",
            "664:\tlearn: 0.3607266\ttotal: 1.87s\tremaining: 942ms\n",
            "665:\tlearn: 0.3606258\ttotal: 1.87s\tremaining: 939ms\n",
            "666:\tlearn: 0.3604469\ttotal: 1.88s\tremaining: 936ms\n",
            "667:\tlearn: 0.3603768\ttotal: 1.88s\tremaining: 933ms\n",
            "668:\tlearn: 0.3602051\ttotal: 1.88s\tremaining: 930ms\n",
            "669:\tlearn: 0.3600793\ttotal: 1.88s\tremaining: 927ms\n",
            "670:\tlearn: 0.3599879\ttotal: 1.88s\tremaining: 924ms\n",
            "671:\tlearn: 0.3598825\ttotal: 1.89s\tremaining: 921ms\n",
            "672:\tlearn: 0.3597487\ttotal: 1.89s\tremaining: 918ms\n",
            "673:\tlearn: 0.3596923\ttotal: 1.89s\tremaining: 915ms\n",
            "674:\tlearn: 0.3596256\ttotal: 1.89s\tremaining: 912ms\n",
            "675:\tlearn: 0.3595115\ttotal: 1.9s\tremaining: 909ms\n",
            "676:\tlearn: 0.3595070\ttotal: 1.9s\tremaining: 905ms\n",
            "677:\tlearn: 0.3593465\ttotal: 1.9s\tremaining: 902ms\n",
            "678:\tlearn: 0.3592767\ttotal: 1.9s\tremaining: 899ms\n",
            "679:\tlearn: 0.3591810\ttotal: 1.9s\tremaining: 896ms\n",
            "680:\tlearn: 0.3590882\ttotal: 1.91s\tremaining: 893ms\n",
            "681:\tlearn: 0.3589250\ttotal: 1.91s\tremaining: 890ms\n",
            "682:\tlearn: 0.3588789\ttotal: 1.91s\tremaining: 887ms\n",
            "683:\tlearn: 0.3588171\ttotal: 1.91s\tremaining: 884ms\n",
            "684:\tlearn: 0.3586064\ttotal: 1.92s\tremaining: 881ms\n",
            "685:\tlearn: 0.3584525\ttotal: 1.92s\tremaining: 878ms\n",
            "686:\tlearn: 0.3583657\ttotal: 1.92s\tremaining: 875ms\n",
            "687:\tlearn: 0.3583015\ttotal: 1.92s\tremaining: 872ms\n",
            "688:\tlearn: 0.3582304\ttotal: 1.93s\tremaining: 869ms\n",
            "689:\tlearn: 0.3581741\ttotal: 1.93s\tremaining: 866ms\n",
            "690:\tlearn: 0.3581724\ttotal: 1.93s\tremaining: 863ms\n",
            "691:\tlearn: 0.3581133\ttotal: 1.93s\tremaining: 860ms\n",
            "692:\tlearn: 0.3580544\ttotal: 1.93s\tremaining: 857ms\n",
            "693:\tlearn: 0.3580054\ttotal: 1.94s\tremaining: 854ms\n",
            "694:\tlearn: 0.3578383\ttotal: 1.94s\tremaining: 851ms\n",
            "695:\tlearn: 0.3577561\ttotal: 1.94s\tremaining: 849ms\n",
            "696:\tlearn: 0.3576442\ttotal: 1.95s\tremaining: 847ms\n",
            "697:\tlearn: 0.3575260\ttotal: 1.95s\tremaining: 845ms\n",
            "698:\tlearn: 0.3573899\ttotal: 1.96s\tremaining: 843ms\n",
            "699:\tlearn: 0.3572146\ttotal: 1.96s\tremaining: 840ms\n",
            "700:\tlearn: 0.3571617\ttotal: 1.96s\tremaining: 837ms\n",
            "701:\tlearn: 0.3570943\ttotal: 1.97s\tremaining: 834ms\n",
            "702:\tlearn: 0.3569786\ttotal: 1.97s\tremaining: 831ms\n",
            "703:\tlearn: 0.3569643\ttotal: 1.97s\tremaining: 828ms\n",
            "704:\tlearn: 0.3569166\ttotal: 1.97s\tremaining: 825ms\n",
            "705:\tlearn: 0.3568856\ttotal: 1.97s\tremaining: 822ms\n",
            "706:\tlearn: 0.3567917\ttotal: 1.98s\tremaining: 819ms\n",
            "707:\tlearn: 0.3565680\ttotal: 1.98s\tremaining: 816ms\n",
            "708:\tlearn: 0.3565016\ttotal: 1.98s\tremaining: 813ms\n",
            "709:\tlearn: 0.3563800\ttotal: 1.98s\tremaining: 810ms\n",
            "710:\tlearn: 0.3562910\ttotal: 1.99s\tremaining: 807ms\n",
            "711:\tlearn: 0.3561403\ttotal: 1.99s\tremaining: 804ms\n",
            "712:\tlearn: 0.3560215\ttotal: 1.99s\tremaining: 801ms\n",
            "713:\tlearn: 0.3560037\ttotal: 1.99s\tremaining: 798ms\n",
            "714:\tlearn: 0.3559431\ttotal: 2s\tremaining: 795ms\n",
            "715:\tlearn: 0.3557854\ttotal: 2s\tremaining: 792ms\n",
            "716:\tlearn: 0.3557676\ttotal: 2s\tremaining: 789ms\n",
            "717:\tlearn: 0.3556374\ttotal: 2s\tremaining: 786ms\n",
            "718:\tlearn: 0.3555739\ttotal: 2s\tremaining: 783ms\n",
            "719:\tlearn: 0.3554561\ttotal: 2.01s\tremaining: 780ms\n",
            "720:\tlearn: 0.3553465\ttotal: 2.01s\tremaining: 777ms\n",
            "721:\tlearn: 0.3553183\ttotal: 2.01s\tremaining: 774ms\n",
            "722:\tlearn: 0.3552199\ttotal: 2.01s\tremaining: 771ms\n",
            "723:\tlearn: 0.3551364\ttotal: 2.02s\tremaining: 768ms\n",
            "724:\tlearn: 0.3550807\ttotal: 2.02s\tremaining: 765ms\n",
            "725:\tlearn: 0.3549450\ttotal: 2.02s\tremaining: 762ms\n",
            "726:\tlearn: 0.3547935\ttotal: 2.02s\tremaining: 760ms\n",
            "727:\tlearn: 0.3546769\ttotal: 2.02s\tremaining: 757ms\n",
            "728:\tlearn: 0.3544635\ttotal: 2.03s\tremaining: 754ms\n",
            "729:\tlearn: 0.3543735\ttotal: 2.03s\tremaining: 751ms\n",
            "730:\tlearn: 0.3542944\ttotal: 2.03s\tremaining: 748ms\n",
            "731:\tlearn: 0.3542153\ttotal: 2.03s\tremaining: 745ms\n",
            "732:\tlearn: 0.3542110\ttotal: 2.04s\tremaining: 742ms\n",
            "733:\tlearn: 0.3541139\ttotal: 2.04s\tremaining: 739ms\n",
            "734:\tlearn: 0.3540252\ttotal: 2.04s\tremaining: 736ms\n",
            "735:\tlearn: 0.3539455\ttotal: 2.04s\tremaining: 733ms\n",
            "736:\tlearn: 0.3537201\ttotal: 2.05s\tremaining: 730ms\n",
            "737:\tlearn: 0.3536458\ttotal: 2.05s\tremaining: 728ms\n",
            "738:\tlearn: 0.3535465\ttotal: 2.05s\tremaining: 725ms\n",
            "739:\tlearn: 0.3534581\ttotal: 2.05s\tremaining: 722ms\n",
            "740:\tlearn: 0.3533156\ttotal: 2.06s\tremaining: 719ms\n",
            "741:\tlearn: 0.3532401\ttotal: 2.06s\tremaining: 716ms\n",
            "742:\tlearn: 0.3530945\ttotal: 2.06s\tremaining: 713ms\n",
            "743:\tlearn: 0.3530699\ttotal: 2.06s\tremaining: 710ms\n",
            "744:\tlearn: 0.3530194\ttotal: 2.06s\tremaining: 707ms\n",
            "745:\tlearn: 0.3528813\ttotal: 2.07s\tremaining: 704ms\n",
            "746:\tlearn: 0.3527735\ttotal: 2.07s\tremaining: 702ms\n",
            "747:\tlearn: 0.3527178\ttotal: 2.08s\tremaining: 700ms\n",
            "748:\tlearn: 0.3526822\ttotal: 2.08s\tremaining: 697ms\n",
            "749:\tlearn: 0.3525206\ttotal: 2.08s\tremaining: 694ms\n",
            "750:\tlearn: 0.3523970\ttotal: 2.08s\tremaining: 691ms\n",
            "751:\tlearn: 0.3523460\ttotal: 2.09s\tremaining: 688ms\n",
            "752:\tlearn: 0.3521948\ttotal: 2.09s\tremaining: 685ms\n",
            "753:\tlearn: 0.3520959\ttotal: 2.09s\tremaining: 683ms\n",
            "754:\tlearn: 0.3520442\ttotal: 2.09s\tremaining: 680ms\n",
            "755:\tlearn: 0.3519471\ttotal: 2.1s\tremaining: 677ms\n",
            "756:\tlearn: 0.3518298\ttotal: 2.1s\tremaining: 674ms\n",
            "757:\tlearn: 0.3518286\ttotal: 2.1s\tremaining: 671ms\n",
            "758:\tlearn: 0.3516210\ttotal: 2.1s\tremaining: 668ms\n",
            "759:\tlearn: 0.3515115\ttotal: 2.11s\tremaining: 665ms\n",
            "760:\tlearn: 0.3514152\ttotal: 2.11s\tremaining: 662ms\n",
            "761:\tlearn: 0.3512774\ttotal: 2.11s\tremaining: 660ms\n",
            "762:\tlearn: 0.3512444\ttotal: 2.12s\tremaining: 657ms\n",
            "763:\tlearn: 0.3510939\ttotal: 2.12s\tremaining: 654ms\n",
            "764:\tlearn: 0.3509648\ttotal: 2.12s\tremaining: 651ms\n",
            "765:\tlearn: 0.3507498\ttotal: 2.12s\tremaining: 648ms\n",
            "766:\tlearn: 0.3507289\ttotal: 2.12s\tremaining: 645ms\n",
            "767:\tlearn: 0.3506523\ttotal: 2.13s\tremaining: 643ms\n",
            "768:\tlearn: 0.3505384\ttotal: 2.13s\tremaining: 640ms\n",
            "769:\tlearn: 0.3504894\ttotal: 2.14s\tremaining: 640ms\n",
            "770:\tlearn: 0.3504712\ttotal: 2.14s\tremaining: 637ms\n",
            "771:\tlearn: 0.3504418\ttotal: 2.15s\tremaining: 634ms\n",
            "772:\tlearn: 0.3503630\ttotal: 2.15s\tremaining: 631ms\n",
            "773:\tlearn: 0.3502621\ttotal: 2.15s\tremaining: 628ms\n",
            "774:\tlearn: 0.3502515\ttotal: 2.15s\tremaining: 625ms\n",
            "775:\tlearn: 0.3501338\ttotal: 2.16s\tremaining: 622ms\n",
            "776:\tlearn: 0.3500701\ttotal: 2.16s\tremaining: 620ms\n",
            "777:\tlearn: 0.3500212\ttotal: 2.16s\tremaining: 617ms\n",
            "778:\tlearn: 0.3499198\ttotal: 2.16s\tremaining: 614ms\n",
            "779:\tlearn: 0.3497872\ttotal: 2.17s\tremaining: 611ms\n",
            "780:\tlearn: 0.3497339\ttotal: 2.17s\tremaining: 608ms\n",
            "781:\tlearn: 0.3495754\ttotal: 2.17s\tremaining: 605ms\n",
            "782:\tlearn: 0.3495730\ttotal: 2.17s\tremaining: 602ms\n",
            "783:\tlearn: 0.3494431\ttotal: 2.17s\tremaining: 599ms\n",
            "784:\tlearn: 0.3493460\ttotal: 2.18s\tremaining: 596ms\n",
            "785:\tlearn: 0.3492718\ttotal: 2.18s\tremaining: 593ms\n",
            "786:\tlearn: 0.3491929\ttotal: 2.18s\tremaining: 590ms\n",
            "787:\tlearn: 0.3491304\ttotal: 2.18s\tremaining: 587ms\n",
            "788:\tlearn: 0.3489829\ttotal: 2.19s\tremaining: 585ms\n",
            "789:\tlearn: 0.3487336\ttotal: 2.19s\tremaining: 582ms\n",
            "790:\tlearn: 0.3486380\ttotal: 2.19s\tremaining: 579ms\n",
            "791:\tlearn: 0.3484280\ttotal: 2.19s\tremaining: 576ms\n",
            "792:\tlearn: 0.3483406\ttotal: 2.19s\tremaining: 573ms\n",
            "793:\tlearn: 0.3481968\ttotal: 2.2s\tremaining: 570ms\n",
            "794:\tlearn: 0.3481321\ttotal: 2.2s\tremaining: 567ms\n",
            "795:\tlearn: 0.3479728\ttotal: 2.2s\tremaining: 564ms\n",
            "796:\tlearn: 0.3478544\ttotal: 2.2s\tremaining: 561ms\n",
            "797:\tlearn: 0.3477606\ttotal: 2.21s\tremaining: 559ms\n",
            "798:\tlearn: 0.3476280\ttotal: 2.21s\tremaining: 556ms\n",
            "799:\tlearn: 0.3474653\ttotal: 2.21s\tremaining: 553ms\n",
            "800:\tlearn: 0.3473611\ttotal: 2.21s\tremaining: 550ms\n",
            "801:\tlearn: 0.3472966\ttotal: 2.21s\tremaining: 547ms\n",
            "802:\tlearn: 0.3471987\ttotal: 2.22s\tremaining: 544ms\n",
            "803:\tlearn: 0.3471971\ttotal: 2.22s\tremaining: 541ms\n",
            "804:\tlearn: 0.3470725\ttotal: 2.22s\tremaining: 538ms\n",
            "805:\tlearn: 0.3469903\ttotal: 2.22s\tremaining: 535ms\n",
            "806:\tlearn: 0.3469423\ttotal: 2.23s\tremaining: 533ms\n",
            "807:\tlearn: 0.3468077\ttotal: 2.23s\tremaining: 530ms\n",
            "808:\tlearn: 0.3467272\ttotal: 2.23s\tremaining: 528ms\n",
            "809:\tlearn: 0.3465819\ttotal: 2.24s\tremaining: 525ms\n",
            "810:\tlearn: 0.3464762\ttotal: 2.24s\tremaining: 522ms\n",
            "811:\tlearn: 0.3463613\ttotal: 2.24s\tremaining: 520ms\n",
            "812:\tlearn: 0.3462635\ttotal: 2.25s\tremaining: 517ms\n",
            "813:\tlearn: 0.3460948\ttotal: 2.25s\tremaining: 514ms\n",
            "814:\tlearn: 0.3460291\ttotal: 2.25s\tremaining: 511ms\n",
            "815:\tlearn: 0.3459672\ttotal: 2.25s\tremaining: 508ms\n",
            "816:\tlearn: 0.3458909\ttotal: 2.25s\tremaining: 505ms\n",
            "817:\tlearn: 0.3457879\ttotal: 2.26s\tremaining: 502ms\n",
            "818:\tlearn: 0.3457402\ttotal: 2.26s\tremaining: 500ms\n",
            "819:\tlearn: 0.3456405\ttotal: 2.26s\tremaining: 497ms\n",
            "820:\tlearn: 0.3456374\ttotal: 2.26s\tremaining: 494ms\n",
            "821:\tlearn: 0.3455177\ttotal: 2.27s\tremaining: 491ms\n",
            "822:\tlearn: 0.3454593\ttotal: 2.27s\tremaining: 488ms\n",
            "823:\tlearn: 0.3454072\ttotal: 2.27s\tremaining: 485ms\n",
            "824:\tlearn: 0.3453245\ttotal: 2.27s\tremaining: 482ms\n",
            "825:\tlearn: 0.3452276\ttotal: 2.28s\tremaining: 480ms\n",
            "826:\tlearn: 0.3450538\ttotal: 2.28s\tremaining: 477ms\n",
            "827:\tlearn: 0.3449385\ttotal: 2.28s\tremaining: 474ms\n",
            "828:\tlearn: 0.3447664\ttotal: 2.29s\tremaining: 471ms\n",
            "829:\tlearn: 0.3446210\ttotal: 2.29s\tremaining: 469ms\n",
            "830:\tlearn: 0.3444829\ttotal: 2.29s\tremaining: 466ms\n",
            "831:\tlearn: 0.3444017\ttotal: 2.29s\tremaining: 463ms\n",
            "832:\tlearn: 0.3443204\ttotal: 2.29s\tremaining: 460ms\n",
            "833:\tlearn: 0.3442955\ttotal: 2.3s\tremaining: 457ms\n",
            "834:\tlearn: 0.3441675\ttotal: 2.3s\tremaining: 455ms\n",
            "835:\tlearn: 0.3440706\ttotal: 2.3s\tremaining: 452ms\n",
            "836:\tlearn: 0.3439862\ttotal: 2.31s\tremaining: 449ms\n",
            "837:\tlearn: 0.3439696\ttotal: 2.31s\tremaining: 446ms\n",
            "838:\tlearn: 0.3439205\ttotal: 2.31s\tremaining: 443ms\n",
            "839:\tlearn: 0.3438090\ttotal: 2.31s\tremaining: 441ms\n",
            "840:\tlearn: 0.3437056\ttotal: 2.31s\tremaining: 438ms\n",
            "841:\tlearn: 0.3435781\ttotal: 2.32s\tremaining: 435ms\n",
            "842:\tlearn: 0.3434627\ttotal: 2.32s\tremaining: 432ms\n",
            "843:\tlearn: 0.3434271\ttotal: 2.32s\tremaining: 429ms\n",
            "844:\tlearn: 0.3432938\ttotal: 2.33s\tremaining: 427ms\n",
            "845:\tlearn: 0.3431913\ttotal: 2.33s\tremaining: 424ms\n",
            "846:\tlearn: 0.3429707\ttotal: 2.34s\tremaining: 423ms\n",
            "847:\tlearn: 0.3429112\ttotal: 2.34s\tremaining: 420ms\n",
            "848:\tlearn: 0.3428084\ttotal: 2.34s\tremaining: 417ms\n",
            "849:\tlearn: 0.3426788\ttotal: 2.35s\tremaining: 414ms\n",
            "850:\tlearn: 0.3426269\ttotal: 2.35s\tremaining: 411ms\n",
            "851:\tlearn: 0.3425728\ttotal: 2.35s\tremaining: 409ms\n",
            "852:\tlearn: 0.3424658\ttotal: 2.36s\tremaining: 406ms\n",
            "853:\tlearn: 0.3423309\ttotal: 2.36s\tremaining: 404ms\n",
            "854:\tlearn: 0.3421701\ttotal: 2.36s\tremaining: 401ms\n",
            "855:\tlearn: 0.3421166\ttotal: 2.37s\tremaining: 398ms\n",
            "856:\tlearn: 0.3420484\ttotal: 2.37s\tremaining: 395ms\n",
            "857:\tlearn: 0.3419803\ttotal: 2.37s\tremaining: 392ms\n",
            "858:\tlearn: 0.3418907\ttotal: 2.37s\tremaining: 390ms\n",
            "859:\tlearn: 0.3418421\ttotal: 2.38s\tremaining: 387ms\n",
            "860:\tlearn: 0.3417517\ttotal: 2.38s\tremaining: 384ms\n",
            "861:\tlearn: 0.3414685\ttotal: 2.38s\tremaining: 381ms\n",
            "862:\tlearn: 0.3413583\ttotal: 2.38s\tremaining: 378ms\n",
            "863:\tlearn: 0.3411914\ttotal: 2.38s\tremaining: 375ms\n",
            "864:\tlearn: 0.3410828\ttotal: 2.39s\tremaining: 373ms\n",
            "865:\tlearn: 0.3409458\ttotal: 2.39s\tremaining: 370ms\n",
            "866:\tlearn: 0.3408426\ttotal: 2.39s\tremaining: 367ms\n",
            "867:\tlearn: 0.3405950\ttotal: 2.39s\tremaining: 364ms\n",
            "868:\tlearn: 0.3404832\ttotal: 2.4s\tremaining: 361ms\n",
            "869:\tlearn: 0.3404783\ttotal: 2.4s\tremaining: 358ms\n",
            "870:\tlearn: 0.3404038\ttotal: 2.4s\tremaining: 356ms\n",
            "871:\tlearn: 0.3404024\ttotal: 2.4s\tremaining: 353ms\n",
            "872:\tlearn: 0.3402408\ttotal: 2.4s\tremaining: 350ms\n",
            "873:\tlearn: 0.3401401\ttotal: 2.41s\tremaining: 347ms\n",
            "874:\tlearn: 0.3400449\ttotal: 2.41s\tremaining: 344ms\n",
            "875:\tlearn: 0.3399298\ttotal: 2.41s\tremaining: 342ms\n",
            "876:\tlearn: 0.3399157\ttotal: 2.41s\tremaining: 339ms\n",
            "877:\tlearn: 0.3397719\ttotal: 2.42s\tremaining: 336ms\n",
            "878:\tlearn: 0.3396389\ttotal: 2.42s\tremaining: 333ms\n",
            "879:\tlearn: 0.3395932\ttotal: 2.42s\tremaining: 330ms\n",
            "880:\tlearn: 0.3395919\ttotal: 2.42s\tremaining: 327ms\n",
            "881:\tlearn: 0.3395331\ttotal: 2.43s\tremaining: 325ms\n",
            "882:\tlearn: 0.3394582\ttotal: 2.43s\tremaining: 322ms\n",
            "883:\tlearn: 0.3393854\ttotal: 2.43s\tremaining: 319ms\n",
            "884:\tlearn: 0.3392474\ttotal: 2.43s\tremaining: 316ms\n",
            "885:\tlearn: 0.3391875\ttotal: 2.44s\tremaining: 313ms\n",
            "886:\tlearn: 0.3391323\ttotal: 2.44s\tremaining: 311ms\n",
            "887:\tlearn: 0.3389577\ttotal: 2.44s\tremaining: 308ms\n",
            "888:\tlearn: 0.3389423\ttotal: 2.44s\tremaining: 305ms\n",
            "889:\tlearn: 0.3387810\ttotal: 2.44s\tremaining: 302ms\n",
            "890:\tlearn: 0.3387178\ttotal: 2.45s\tremaining: 300ms\n",
            "891:\tlearn: 0.3385684\ttotal: 2.45s\tremaining: 297ms\n",
            "892:\tlearn: 0.3385268\ttotal: 2.46s\tremaining: 294ms\n",
            "893:\tlearn: 0.3383869\ttotal: 2.46s\tremaining: 291ms\n",
            "894:\tlearn: 0.3382415\ttotal: 2.46s\tremaining: 289ms\n",
            "895:\tlearn: 0.3381021\ttotal: 2.46s\tremaining: 286ms\n",
            "896:\tlearn: 0.3379869\ttotal: 2.46s\tremaining: 283ms\n",
            "897:\tlearn: 0.3379628\ttotal: 2.47s\tremaining: 280ms\n",
            "898:\tlearn: 0.3378563\ttotal: 2.47s\tremaining: 277ms\n",
            "899:\tlearn: 0.3377569\ttotal: 2.47s\tremaining: 275ms\n",
            "900:\tlearn: 0.3377355\ttotal: 2.47s\tremaining: 272ms\n",
            "901:\tlearn: 0.3374478\ttotal: 2.48s\tremaining: 269ms\n",
            "902:\tlearn: 0.3372738\ttotal: 2.48s\tremaining: 266ms\n",
            "903:\tlearn: 0.3372714\ttotal: 2.48s\tremaining: 264ms\n",
            "904:\tlearn: 0.3372000\ttotal: 2.48s\tremaining: 261ms\n",
            "905:\tlearn: 0.3371626\ttotal: 2.48s\tremaining: 258ms\n",
            "906:\tlearn: 0.3370785\ttotal: 2.49s\tremaining: 255ms\n",
            "907:\tlearn: 0.3370062\ttotal: 2.49s\tremaining: 252ms\n",
            "908:\tlearn: 0.3369086\ttotal: 2.49s\tremaining: 250ms\n",
            "909:\tlearn: 0.3368772\ttotal: 2.5s\tremaining: 247ms\n",
            "910:\tlearn: 0.3368470\ttotal: 2.5s\tremaining: 244ms\n",
            "911:\tlearn: 0.3367175\ttotal: 2.5s\tremaining: 241ms\n",
            "912:\tlearn: 0.3366607\ttotal: 2.5s\tremaining: 238ms\n",
            "913:\tlearn: 0.3365227\ttotal: 2.5s\tremaining: 236ms\n",
            "914:\tlearn: 0.3363563\ttotal: 2.51s\tremaining: 233ms\n",
            "915:\tlearn: 0.3362352\ttotal: 2.51s\tremaining: 230ms\n",
            "916:\tlearn: 0.3361317\ttotal: 2.51s\tremaining: 227ms\n",
            "917:\tlearn: 0.3360463\ttotal: 2.51s\tremaining: 225ms\n",
            "918:\tlearn: 0.3359589\ttotal: 2.52s\tremaining: 222ms\n",
            "919:\tlearn: 0.3358182\ttotal: 2.52s\tremaining: 219ms\n",
            "920:\tlearn: 0.3357587\ttotal: 2.52s\tremaining: 216ms\n",
            "921:\tlearn: 0.3356691\ttotal: 2.52s\tremaining: 213ms\n",
            "922:\tlearn: 0.3355060\ttotal: 2.52s\tremaining: 211ms\n",
            "923:\tlearn: 0.3354271\ttotal: 2.53s\tremaining: 208ms\n",
            "924:\tlearn: 0.3353619\ttotal: 2.53s\tremaining: 205ms\n",
            "925:\tlearn: 0.3353262\ttotal: 2.54s\tremaining: 203ms\n",
            "926:\tlearn: 0.3353251\ttotal: 2.54s\tremaining: 200ms\n",
            "927:\tlearn: 0.3352379\ttotal: 2.54s\tremaining: 198ms\n",
            "928:\tlearn: 0.3351601\ttotal: 2.55s\tremaining: 195ms\n",
            "929:\tlearn: 0.3350532\ttotal: 2.56s\tremaining: 192ms\n",
            "930:\tlearn: 0.3349454\ttotal: 2.56s\tremaining: 190ms\n",
            "931:\tlearn: 0.3349062\ttotal: 2.56s\tremaining: 187ms\n",
            "932:\tlearn: 0.3347937\ttotal: 2.56s\tremaining: 184ms\n",
            "933:\tlearn: 0.3346893\ttotal: 2.57s\tremaining: 181ms\n",
            "934:\tlearn: 0.3346880\ttotal: 2.57s\tremaining: 179ms\n",
            "935:\tlearn: 0.3346099\ttotal: 2.57s\tremaining: 176ms\n",
            "936:\tlearn: 0.3345715\ttotal: 2.57s\tremaining: 173ms\n",
            "937:\tlearn: 0.3345160\ttotal: 2.58s\tremaining: 170ms\n",
            "938:\tlearn: 0.3344563\ttotal: 2.58s\tremaining: 168ms\n",
            "939:\tlearn: 0.3344217\ttotal: 2.58s\tremaining: 165ms\n",
            "940:\tlearn: 0.3343670\ttotal: 2.58s\tremaining: 162ms\n",
            "941:\tlearn: 0.3342420\ttotal: 2.58s\tremaining: 159ms\n",
            "942:\tlearn: 0.3341402\ttotal: 2.59s\tremaining: 156ms\n",
            "943:\tlearn: 0.3339538\ttotal: 2.59s\tremaining: 154ms\n",
            "944:\tlearn: 0.3339299\ttotal: 2.59s\tremaining: 151ms\n",
            "945:\tlearn: 0.3338138\ttotal: 2.59s\tremaining: 148ms\n",
            "946:\tlearn: 0.3337061\ttotal: 2.6s\tremaining: 145ms\n",
            "947:\tlearn: 0.3336095\ttotal: 2.6s\tremaining: 143ms\n",
            "948:\tlearn: 0.3334872\ttotal: 2.6s\tremaining: 140ms\n",
            "949:\tlearn: 0.3333999\ttotal: 2.6s\tremaining: 137ms\n",
            "950:\tlearn: 0.3333476\ttotal: 2.61s\tremaining: 134ms\n",
            "951:\tlearn: 0.3332591\ttotal: 2.61s\tremaining: 132ms\n",
            "952:\tlearn: 0.3332294\ttotal: 2.61s\tremaining: 129ms\n",
            "953:\tlearn: 0.3330256\ttotal: 2.61s\tremaining: 126ms\n",
            "954:\tlearn: 0.3329678\ttotal: 2.62s\tremaining: 123ms\n",
            "955:\tlearn: 0.3329657\ttotal: 2.62s\tremaining: 121ms\n",
            "956:\tlearn: 0.3328529\ttotal: 2.62s\tremaining: 118ms\n",
            "957:\tlearn: 0.3327915\ttotal: 2.63s\tremaining: 115ms\n",
            "958:\tlearn: 0.3327481\ttotal: 2.63s\tremaining: 112ms\n",
            "959:\tlearn: 0.3325634\ttotal: 2.63s\tremaining: 110ms\n",
            "960:\tlearn: 0.3324649\ttotal: 2.63s\tremaining: 107ms\n",
            "961:\tlearn: 0.3323645\ttotal: 2.64s\tremaining: 104ms\n",
            "962:\tlearn: 0.3322535\ttotal: 2.64s\tremaining: 101ms\n",
            "963:\tlearn: 0.3321341\ttotal: 2.64s\tremaining: 98.6ms\n",
            "964:\tlearn: 0.3320866\ttotal: 2.64s\tremaining: 95.9ms\n",
            "965:\tlearn: 0.3320130\ttotal: 2.65s\tremaining: 93.1ms\n",
            "966:\tlearn: 0.3319156\ttotal: 2.65s\tremaining: 90.4ms\n",
            "967:\tlearn: 0.3318808\ttotal: 2.65s\tremaining: 87.6ms\n",
            "968:\tlearn: 0.3316929\ttotal: 2.65s\tremaining: 84.9ms\n",
            "969:\tlearn: 0.3316886\ttotal: 2.65s\tremaining: 82.1ms\n",
            "970:\tlearn: 0.3316176\ttotal: 2.66s\tremaining: 79.4ms\n",
            "971:\tlearn: 0.3315893\ttotal: 2.66s\tremaining: 76.6ms\n",
            "972:\tlearn: 0.3315168\ttotal: 2.66s\tremaining: 73.9ms\n",
            "973:\tlearn: 0.3314275\ttotal: 2.66s\tremaining: 71.1ms\n",
            "974:\tlearn: 0.3312941\ttotal: 2.67s\tremaining: 68.4ms\n",
            "975:\tlearn: 0.3311706\ttotal: 2.67s\tremaining: 65.6ms\n",
            "976:\tlearn: 0.3310733\ttotal: 2.67s\tremaining: 62.9ms\n",
            "977:\tlearn: 0.3310708\ttotal: 2.67s\tremaining: 60.1ms\n",
            "978:\tlearn: 0.3310336\ttotal: 2.67s\tremaining: 57.4ms\n",
            "979:\tlearn: 0.3309394\ttotal: 2.68s\tremaining: 54.7ms\n",
            "980:\tlearn: 0.3308401\ttotal: 2.68s\tremaining: 51.9ms\n",
            "981:\tlearn: 0.3307458\ttotal: 2.68s\tremaining: 49.2ms\n",
            "982:\tlearn: 0.3306555\ttotal: 2.69s\tremaining: 46.4ms\n",
            "983:\tlearn: 0.3306032\ttotal: 2.69s\tremaining: 43.7ms\n",
            "984:\tlearn: 0.3305325\ttotal: 2.69s\tremaining: 41ms\n",
            "985:\tlearn: 0.3303598\ttotal: 2.69s\tremaining: 38.2ms\n",
            "986:\tlearn: 0.3302699\ttotal: 2.69s\tremaining: 35.5ms\n",
            "987:\tlearn: 0.3302008\ttotal: 2.7s\tremaining: 32.8ms\n",
            "988:\tlearn: 0.3301183\ttotal: 2.7s\tremaining: 30ms\n",
            "989:\tlearn: 0.3300032\ttotal: 2.7s\tremaining: 27.3ms\n",
            "990:\tlearn: 0.3299739\ttotal: 2.7s\tremaining: 24.6ms\n",
            "991:\tlearn: 0.3298504\ttotal: 2.71s\tremaining: 21.8ms\n",
            "992:\tlearn: 0.3297258\ttotal: 2.71s\tremaining: 19.1ms\n",
            "993:\tlearn: 0.3296135\ttotal: 2.71s\tremaining: 16.4ms\n",
            "994:\tlearn: 0.3294670\ttotal: 2.71s\tremaining: 13.6ms\n",
            "995:\tlearn: 0.3294024\ttotal: 2.71s\tremaining: 10.9ms\n",
            "996:\tlearn: 0.3293510\ttotal: 2.72s\tremaining: 8.18ms\n",
            "997:\tlearn: 0.3292586\ttotal: 2.72s\tremaining: 5.45ms\n",
            "998:\tlearn: 0.3291318\ttotal: 2.72s\tremaining: 2.73ms\n",
            "999:\tlearn: 0.3290746\ttotal: 2.73s\tremaining: 0us\n",
            "test RMSE : 0.5245\n"
          ],
          "name": "stdout"
        }
      ]
    },
    {
      "cell_type": "code",
      "metadata": {
        "colab": {
          "base_uri": "https://localhost:8080/",
          "height": 283
        },
        "id": "7dnElBP6vkMY",
        "outputId": "1df1e0a8-0193-4909-96ab-5b2dadb95e1e"
      },
      "source": [
        "sns.barplot(x=cat_best_1.feature_importances_,y=X_train.columns)  #Feature 별 중요도 도식화"
      ],
      "execution_count": null,
      "outputs": [
        {
          "output_type": "execute_result",
          "data": {
            "text/plain": [
              "<matplotlib.axes._subplots.AxesSubplot at 0x7f7ef3e63668>"
            ]
          },
          "metadata": {
            "tags": []
          },
          "execution_count": 89
        },
        {
          "output_type": "display_data",
          "data": {
            "image/png": "[encoded data removed]",
            "text/plain": [
              "<Figure size 432x288 with 1 Axes>"
            ]
          },
          "metadata": {
            "tags": [],
            "needs_background": "light"
          }
        }
      ]
    },
    {
      "cell_type": "markdown",
      "metadata": {
        "id": "TdQj5iYqxiLx"
      },
      "source": [
        "#**선형 회귀 모델 학습/평가/예측**"
      ]
    },
    {
      "cell_type": "markdown",
      "metadata": {
        "id": "Zgy-GlXkyf1U"
      },
      "source": [
        "##**1-1. ElasticNet Linear Regression**"
      ]
    },
    {
      "cell_type": "code",
      "metadata": {
        "id": "NU4W4yK5xjZW"
      },
      "source": [
        "en=ElasticNet()\r\n",
        "en_alphas={\"alpha\":[0.0001,0.01,0.1,0.5,1,5,10]}\r\n",
        "\r\n",
        "en_grid = GridSearchCV(en, en_alphas, scoring='neg_mean_squared_error',cv=5)\r\n",
        "en_grid.fit(X_ohe_train,y_train)\r\n",
        "pred=en_grid.predict(X_ohe_train)\r\n"
      ],
      "execution_count": null,
      "outputs": []
    },
    {
      "cell_type": "code",
      "metadata": {
        "colab": {
          "base_uri": "https://localhost:8080/"
        },
        "id": "r71D-3Vgx0Kz",
        "outputId": "13a74908-bcef-48c6-ad73-b33c07081f95"
      },
      "source": [
        "print(en_grid.best_params_)\r\n",
        "print(en_grid.best_score_)\r\n",
        "print('train RMSE : {0:4f}'.format(rmse(y_train,pred)))"
      ],
      "execution_count": null,
      "outputs": [
        {
          "output_type": "stream",
          "text": [
            "{'alpha': 0.0001}\n",
            "-0.27505575457272485\n",
            "train RMSE : 0.516003\n"
          ],
          "name": "stdout"
        }
      ]
    },
    {
      "cell_type": "code",
      "metadata": {
        "colab": {
          "base_uri": "https://localhost:8080/"
        },
        "id": "fzp1fYhUxwbP",
        "outputId": "9c0eb49c-d9a5-4b5b-a81b-d5f80ea7e367"
      },
      "source": [
        "en_best = ElasticNet(alpha=0.0001)\r\n",
        "en_best.fit(X_ohe_train,y_train)\r\n",
        "pred=en_best.predict(X_ohe_test)\r\n",
        "print('test RMSE : {0:4f}'.format(rmse(y_test,pred)))"
      ],
      "execution_count": null,
      "outputs": [
        {
          "output_type": "stream",
          "text": [
            "test RMSE : 0.547697\n"
          ],
          "name": "stdout"
        }
      ]
    },
    {
      "cell_type": "markdown",
      "metadata": {
        "id": "jc3kBrfbykUU"
      },
      "source": [
        "##**2-1. Linear Support Vector Machine**"
      ]
    },
    {
      "cell_type": "code",
      "metadata": {
        "colab": {
          "base_uri": "https://localhost:8080/"
        },
        "id": "JqPzvK5mypYa",
        "outputId": "09b74836-8851-4216-e0cf-485be95914f0"
      },
      "source": [
        "svr = svm.SVR()\r\n",
        "params = {\r\n",
        "         'C' : [2,5,10],'epsilon':[0.3,0.5]\r\n",
        "      }\r\n",
        "svr_grid = GridSearchCV(svr, params, scoring='neg_mean_squared_error',cv=5)\r\n",
        "svr_grid.fit(X_ohe_train,y_train)"
      ],
      "execution_count": null,
      "outputs": [
        {
          "output_type": "execute_result",
          "data": {
            "text/plain": [
              "GridSearchCV(cv=5, error_score=nan,\n",
              "             estimator=SVR(C=1.0, cache_size=200, coef0=0.0, degree=3,\n",
              "                           epsilon=0.1, gamma='scale', kernel='rbf',\n",
              "                           max_iter=-1, shrinking=True, tol=0.001,\n",
              "                           verbose=False),\n",
              "             iid='deprecated', n_jobs=None,\n",
              "             param_grid={'C': [2, 5, 10], 'epsilon': [0.3, 0.5]},\n",
              "             pre_dispatch='2*n_jobs', refit=True, return_train_score=False,\n",
              "             scoring='neg_mean_squared_error', verbose=0)"
            ]
          },
          "metadata": {
            "tags": []
          },
          "execution_count": 93
        }
      ]
    },
    {
      "cell_type": "code",
      "metadata": {
        "colab": {
          "base_uri": "https://localhost:8080/"
        },
        "id": "iklbFoTQyuG2",
        "outputId": "a739d4f1-7e97-4900-a7fa-f16f80c9708b"
      },
      "source": [
        "pred=svr_grid.predict(X_ohe_train)\r\n",
        "print(svr_grid.best_params_)\r\n",
        "print(svr_grid.best_score_)\r\n",
        "print('train RMSE : {0:4f}'.format(rmse(y_train,pred)))"
      ],
      "execution_count": null,
      "outputs": [
        {
          "output_type": "stream",
          "text": [
            "{'C': 10, 'epsilon': 0.5}\n",
            "-0.2857953002602332\n",
            "train RMSE : 0.533447\n"
          ],
          "name": "stdout"
        }
      ]
    },
    {
      "cell_type": "code",
      "metadata": {
        "colab": {
          "base_uri": "https://localhost:8080/"
        },
        "id": "HCS7raMfywrA",
        "outputId": "f67d6bb5-741f-47bc-b925-16e7d87f3089"
      },
      "source": [
        "svr_best = svm.SVR(C=10,epsilon=0.5)\r\n",
        "svr_best.fit(X_ohe_train,y_train)\r\n",
        "pred=svr_best.predict(X_ohe_test)\r\n",
        "print('test RMSE: {0:4f}'.format(rmse(y_test,pred)))"
      ],
      "execution_count": null,
      "outputs": [
        {
          "output_type": "stream",
          "text": [
            "test RMSE: 0.557795\n"
          ],
          "name": "stdout"
        }
      ]
    },
    {
      "cell_type": "markdown",
      "metadata": {
        "id": "36xIqAlyy9np"
      },
      "source": [
        "##**3-1. Linear Regression**"
      ]
    },
    {
      "cell_type": "code",
      "metadata": {
        "colab": {
          "base_uri": "https://localhost:8080/"
        },
        "id": "ywZ1rIyjy-GX",
        "outputId": "e4be51f3-0b01-4c86-beaa-57bb0fe42760"
      },
      "source": [
        "lr_best = LinearRegression()\r\n",
        "lr_best.fit(X_ohe_train,y_train)\r\n",
        "pred=lr_best.predict(X_ohe_train)\r\n",
        "print('train RMSE : {0:4f}'.format(rmse(y_train,pred)))\r\n",
        "pred=lr_best.predict(X_ohe_test)\r\n",
        "print('train RMSE : {0:4f}'.format(rmse(y_test,pred)))"
      ],
      "execution_count": null,
      "outputs": [
        {
          "output_type": "stream",
          "text": [
            "train RMSE : 0.515730\n",
            "train RMSE : 0.548184\n"
          ],
          "name": "stdout"
        }
      ]
    },
    {
      "cell_type": "markdown",
      "metadata": {
        "id": "d8C8swnfzj_M"
      },
      "source": [
        "##**4-1. Random Forest Regressor**"
      ]
    },
    {
      "cell_type": "code",
      "metadata": {
        "colab": {
          "base_uri": "https://localhost:8080/"
        },
        "id": "hdoV4uRyzjyB",
        "outputId": "e0ea4053-e1a3-4c0b-eddd-573818f5c006"
      },
      "source": [
        "rand_params = [\r\n",
        "    {'n_estimators': [200, 300, 400],\r\n",
        "     'max_features': [5, 8],\r\n",
        "     'min_samples_leaf':[1],\r\n",
        "     'min_samples_split':[2]},  \r\n",
        "    {'bootstrap': [False], # 비복원추출\r\n",
        "     'n_estimators': [150, 200, 250],\r\n",
        "     'max_features': [5, 8],\r\n",
        "     'min_samples_leaf':[1],\r\n",
        "     'min_samples_split':[2]}\r\n",
        "  ]\r\n",
        "\r\n",
        "rf_reg = RandomForestRegressor(random_state=0)\r\n",
        "rf_grid = GridSearchCV(rf_reg,\r\n",
        "                           rand_params,\r\n",
        "                           cv = 5,\r\n",
        "                           n_jobs=4,\r\n",
        "                           scoring='neg_mean_squared_error',\r\n",
        "                           return_train_score=True,\r\n",
        "                           verbose=2)\r\n",
        "rf_grid.fit(X_ohe_train, y_train)"
      ],
      "execution_count": null,
      "outputs": [
        {
          "output_type": "stream",
          "text": [
            "Fitting 5 folds for each of 12 candidates, totalling 60 fits\n"
          ],
          "name": "stdout"
        },
        {
          "output_type": "stream",
          "text": [
            "[Parallel(n_jobs=4)]: Using backend LokyBackend with 4 concurrent workers.\n",
            "[Parallel(n_jobs=4)]: Done  33 tasks      | elapsed:  1.5min\n",
            "[Parallel(n_jobs=4)]: Done  60 out of  60 | elapsed:  2.5min finished\n"
          ],
          "name": "stderr"
        },
        {
          "output_type": "execute_result",
          "data": {
            "text/plain": [
              "GridSearchCV(cv=5, error_score=nan,\n",
              "             estimator=RandomForestRegressor(bootstrap=True, ccp_alpha=0.0,\n",
              "                                             criterion='mse', max_depth=None,\n",
              "                                             max_features='auto',\n",
              "                                             max_leaf_nodes=None,\n",
              "                                             max_samples=None,\n",
              "                                             min_impurity_decrease=0.0,\n",
              "                                             min_impurity_split=None,\n",
              "                                             min_samples_leaf=1,\n",
              "                                             min_samples_split=2,\n",
              "                                             min_weight_fraction_leaf=0.0,\n",
              "                                             n_estimators=100, n_jobs=None,\n",
              "                                             oob_score=False, rand...\n",
              "             iid='deprecated', n_jobs=4,\n",
              "             param_grid=[{'max_features': [5, 8], 'min_samples_leaf': [1],\n",
              "                          'min_samples_split': [2],\n",
              "                          'n_estimators': [200, 300, 400]},\n",
              "                         {'bootstrap': [False], 'max_features': [5, 8],\n",
              "                          'min_samples_leaf': [1], 'min_samples_split': [2],\n",
              "                          'n_estimators': [150, 200, 250]}],\n",
              "             pre_dispatch='2*n_jobs', refit=True, return_train_score=True,\n",
              "             scoring='neg_mean_squared_error', verbose=2)"
            ]
          },
          "metadata": {
            "tags": []
          },
          "execution_count": 97
        }
      ]
    },
    {
      "cell_type": "code",
      "metadata": {
        "colab": {
          "base_uri": "https://localhost:8080/"
        },
        "id": "eC61PbR6zld0",
        "outputId": "45933b26-2d05-4212-fe7b-4bb595570de7"
      },
      "source": [
        "print(rf_grid.best_score_)\r\n",
        "print(rf_grid.best_params_)\r\n",
        "pred=rf_grid.predict(X_ohe_train)\r\n",
        "print('train RMSE : {0:4f}'.format(rmse(y_train,pred)))"
      ],
      "execution_count": null,
      "outputs": [
        {
          "output_type": "stream",
          "text": [
            "-0.2433267261922943\n",
            "{'max_features': 8, 'min_samples_leaf': 1, 'min_samples_split': 2, 'n_estimators': 300}\n",
            "train RMSE : 0.181381\n"
          ],
          "name": "stdout"
        }
      ]
    },
    {
      "cell_type": "code",
      "metadata": {
        "colab": {
          "base_uri": "https://localhost:8080/"
        },
        "id": "0hW7fvTwznML",
        "outputId": "e52b0af3-521d-4e3b-e30c-adef2e5e7d44"
      },
      "source": [
        "rf_best = RandomForestRegressor(max_features=8, min_samples_leaf=1, min_samples_split= 2, n_estimators=400)\r\n",
        "rf_best.fit(X_ohe_train,y_train)\r\n",
        "\r\n",
        "pred=rf_best.predict(X_ohe_test)\r\n",
        "print('test RMSE : {0:4f}'.format(rmse(y_test,pred)))"
      ],
      "execution_count": null,
      "outputs": [
        {
          "output_type": "stream",
          "text": [
            "test RMSE : 0.530133\n"
          ],
          "name": "stdout"
        }
      ]
    },
    {
      "cell_type": "markdown",
      "metadata": {
        "id": "gwgYv5x60Co4"
      },
      "source": [
        "#**스택 알상블 모델**"
      ]
    },
    {
      "cell_type": "code",
      "metadata": {
        "id": "z5NVYW_r0EQ2"
      },
      "source": [
        "from sklearn.model_selection import KFold, StratifiedKFold\r\n",
        "\r\n",
        "def stack(model, X_train, y_train, X_test, n_folds=5):\r\n",
        "    kfold = KFold(n_splits = n_folds, random_state = 0)\r\n",
        "    \r\n",
        "    # 최종 모델에서 사용할 데이터 셋 셋팅(0 값으로)\r\n",
        "    # 데이터 shape이 (100, col) 이면 폴드의 검증 과정에서 저장할 데이터의 shape는 (100, 1) 입니다. \r\n",
        "    # (결국 validation 데이터로 예측한 predicted val_y 값의 column은 1개니까 !!)\r\n",
        "    train_fold_predict = np.zeros((X_train.shape[0], 1))\r\n",
        "    # test는 X_test 값을 이용해서 매 폴드마다 예측을 하기 때문에 (100, fold개수) 만큼의 shape를 갖게 됩니다.(추후 평균내서 (100,1) 사이즈로 만들것)\r\n",
        "    # 그래서 해당 폴드마다 X_test의 예측 값을 해당 fold에 해당되는 열에 넣습니다.\r\n",
        "    test_predict = np.zeros((X_test.shape[0], n_folds))\r\n",
        "    print(\"model : \", model.__class__.__name__)\r\n",
        "    \r\n",
        "    for cnt, (train_index, valid_index) in enumerate(kfold.split(X_train)):\r\n",
        "        #fold별로 데이터 split하는 부분\r\n",
        "        X_train_ = X_train[train_index]\r\n",
        "        y_train_ = y_train[train_index]\r\n",
        "        X_validation = X_train[valid_index]\r\n",
        "        \r\n",
        "        #해당 fold 학습\r\n",
        "        model.fit(X_train_, y_train_)\r\n",
        "        \r\n",
        "        #해당 fold에서 학습된 모델에다가 검증 데이터(X_validation)로 예측 후 저장\r\n",
        "        #validation에 해당하는 인덱스가 전체의 1/fold수 이므로 해당 fold의 validation 데이터에 해당하는 부분\r\n",
        "        train_fold_predict[valid_index, :] = model.predict(X_validation).reshape(-1, 1) \r\n",
        "        \r\n",
        "        #해당 fold에서 생성된 모델에게 원본 테스트 데이터(X_test)를 이용해서 예측을 수행하고 저장(추후 모델별로 합쳐서 new_test 데이터 생성)\r\n",
        "        test_predict[:, cnt] = model.predict(X_test)\r\n",
        "    \r\n",
        "    #for문이 끝나면 test_pred는 평균을 내서 하나로 합친다.\r\n",
        "    test_predict_mean = np.mean(test_predict, axis =1).reshape(-1, 1)\r\n",
        "    \r\n",
        "    return train_fold_predict, test_predict_mean"
      ],
      "execution_count": null,
      "outputs": []
    },
    {
      "cell_type": "markdown",
      "metadata": {
        "id": "VR7pbXHv0Tj3"
      },
      "source": [
        "##**스택 알상블 [1]**"
      ]
    },
    {
      "cell_type": "code",
      "metadata": {
        "id": "bKXKiMtb0exC"
      },
      "source": [
        "X_train_np=X_train.values\r\n",
        "X_test_np=X_test.values\r\n",
        "\r\n",
        "X_ohe_train_np=X_ohe_train.values\r\n",
        "X_ohe_test_np=X_ohe_test.values\r\n",
        "y_train_np=y_train.values"
      ],
      "execution_count": null,
      "outputs": []
    },
    {
      "cell_type": "code",
      "metadata": {
        "colab": {
          "base_uri": "https://localhost:8080/"
        },
        "id": "9guToK7d0ZoS",
        "outputId": "3e94d1d0-f231-4fd5-dd0d-f466cdf4154b"
      },
      "source": [
        "xgb_train_1, xgb_test_1 = stack(xgb_best_1, X_train_np, y_train_np, X_test_np) #회귀 트리에서 성능이 졸은 3가지 모델\r\n",
        "lgb_train_1, lgb_test_1 = stack(lgb_best_1, X_train_np, y_train_np, X_test_np)\r\n",
        "cat_train_1, cat_test_1 = stack(cat_best, X_train_np, y_train_np, X_test_np)\r\n",
        "rf_train_1, rf_test_1 = stack(rf_best, X_train_np, y_train_np, X_test_np) #선형 회귀에서 성늘이 좋은 2가지 모델\r\n",
        "lr_train_1, lr_test_1 = stack(lr_best, X_ohe_train_np, y_train_np, X_ohe_test_np)\r\n",
        "\r\n",
        "stack_final_X_train=np.concatenate((xgb_train_1,lgb_train_1,cat_train_1,rf_train_1,lr_train_1),axis=1)\r\n",
        "stack_final_X_test=np.concatenate((xgb_test_1,lgb_test_1,cat_test_1,rf_test_1,lr_test_1),axis=1)\r\n",
        "\r\n",
        "meta_model_lasso=Lasso(alpha=0.0005) #Feature가 많기 때문에 불필요한 회귀 계수를 감소시켜 0으로 만들거 제거 -> 적절한 Feature만 회귀에 포함시킴\r\n",
        "\r\n",
        "meta_model_lasso.fit(stack_final_X_train,y_train)\r\n",
        "final_pred=meta_model_lasso.predict(stack_final_X_test)\r\n",
        "print('train RMSE : {0:4f}'.format(rmse(y_test,final_pred)))"
      ],
      "execution_count": null,
      "outputs": [
        {
          "output_type": "stream",
          "text": [
            "model :  XGBRegressor\n",
            "[20:19:29] WARNING: /workspace/src/objective/regression_obj.cu:152: reg:linear is now deprecated in favor of reg:squarederror.\n",
            "[20:19:29] WARNING: /workspace/src/objective/regression_obj.cu:152: reg:linear is now deprecated in favor of reg:squarederror.\n",
            "[20:19:29] WARNING: /workspace/src/objective/regression_obj.cu:152: reg:linear is now deprecated in favor of reg:squarederror.\n",
            "[20:19:30] WARNING: /workspace/src/objective/regression_obj.cu:152: reg:linear is now deprecated in favor of reg:squarederror.\n",
            "[20:19:30] WARNING: /workspace/src/objective/regression_obj.cu:152: reg:linear is now deprecated in favor of reg:squarederror.\n",
            "model :  LGBMRegressor\n",
            "model :  CatBoostRegressor\n",
            "0:\tlearn: 0.5325536\ttotal: 2.86ms\tremaining: 283ms\n",
            "1:\tlearn: 0.5266122\ttotal: 5.12ms\tremaining: 251ms\n",
            "2:\tlearn: 0.5219739\ttotal: 7.25ms\tremaining: 234ms\n",
            "3:\tlearn: 0.5182905\ttotal: 9.38ms\tremaining: 225ms\n",
            "4:\tlearn: 0.5147326\ttotal: 11.4ms\tremaining: 217ms\n",
            "5:\tlearn: 0.5117774\ttotal: 13.6ms\tremaining: 212ms\n",
            "6:\tlearn: 0.5087011\ttotal: 15.8ms\tremaining: 209ms\n",
            "7:\tlearn: 0.5054675\ttotal: 18.1ms\tremaining: 208ms\n",
            "8:\tlearn: 0.5034077\ttotal: 20.2ms\tremaining: 204ms\n",
            "9:\tlearn: 0.5008230\ttotal: 22.4ms\tremaining: 202ms\n",
            "10:\tlearn: 0.4992405\ttotal: 24.5ms\tremaining: 198ms\n",
            "11:\tlearn: 0.4973449\ttotal: 26.7ms\tremaining: 196ms\n",
            "12:\tlearn: 0.4960636\ttotal: 28.9ms\tremaining: 194ms\n",
            "13:\tlearn: 0.4944470\ttotal: 30.9ms\tremaining: 190ms\n",
            "14:\tlearn: 0.4917052\ttotal: 33ms\tremaining: 187ms\n",
            "15:\tlearn: 0.4900780\ttotal: 35.1ms\tremaining: 184ms\n",
            "16:\tlearn: 0.4874089\ttotal: 37.3ms\tremaining: 182ms\n",
            "17:\tlearn: 0.4854101\ttotal: 39.3ms\tremaining: 179ms\n",
            "18:\tlearn: 0.4840986\ttotal: 41.4ms\tremaining: 177ms\n",
            "19:\tlearn: 0.4817819\ttotal: 45ms\tremaining: 180ms\n",
            "20:\tlearn: 0.4798104\ttotal: 47.2ms\tremaining: 177ms\n",
            "21:\tlearn: 0.4786596\ttotal: 49.3ms\tremaining: 175ms\n",
            "22:\tlearn: 0.4774532\ttotal: 51.6ms\tremaining: 173ms\n",
            "23:\tlearn: 0.4755773\ttotal: 53.7ms\tremaining: 170ms\n",
            "24:\tlearn: 0.4738483\ttotal: 55.8ms\tremaining: 168ms\n",
            "25:\tlearn: 0.4728797\ttotal: 58.1ms\tremaining: 165ms\n",
            "26:\tlearn: 0.4722247\ttotal: 60.2ms\tremaining: 163ms\n",
            "27:\tlearn: 0.4713115\ttotal: 62.3ms\tremaining: 160ms\n",
            "28:\tlearn: 0.4702969\ttotal: 64.6ms\tremaining: 158ms\n",
            "29:\tlearn: 0.4690150\ttotal: 66.8ms\tremaining: 156ms\n",
            "30:\tlearn: 0.4678392\ttotal: 68.9ms\tremaining: 153ms\n",
            "31:\tlearn: 0.4671932\ttotal: 72.3ms\tremaining: 154ms\n",
            "32:\tlearn: 0.4660316\ttotal: 75ms\tremaining: 152ms\n",
            "33:\tlearn: 0.4650412\ttotal: 79ms\tremaining: 153ms\n",
            "34:\tlearn: 0.4642280\ttotal: 81.2ms\tremaining: 151ms\n",
            "35:\tlearn: 0.4633853\ttotal: 83.3ms\tremaining: 148ms\n",
            "36:\tlearn: 0.4625213\ttotal: 85.5ms\tremaining: 146ms\n",
            "37:\tlearn: 0.4613504\ttotal: 87.6ms\tremaining: 143ms\n",
            "38:\tlearn: 0.4603111\ttotal: 89.7ms\tremaining: 140ms\n",
            "39:\tlearn: 0.4593827\ttotal: 91.9ms\tremaining: 138ms\n",
            "40:\tlearn: 0.4584722\ttotal: 94ms\tremaining: 135ms\n",
            "41:\tlearn: 0.4570036\ttotal: 96.1ms\tremaining: 133ms\n",
            "42:\tlearn: 0.4552434\ttotal: 98.3ms\tremaining: 130ms\n",
            "43:\tlearn: 0.4544509\ttotal: 100ms\tremaining: 128ms\n",
            "44:\tlearn: 0.4534397\ttotal: 103ms\tremaining: 126ms\n",
            "45:\tlearn: 0.4524390\ttotal: 105ms\tremaining: 123ms\n",
            "46:\tlearn: 0.4516278\ttotal: 107ms\tremaining: 121ms\n",
            "47:\tlearn: 0.4505473\ttotal: 109ms\tremaining: 118ms\n",
            "48:\tlearn: 0.4498071\ttotal: 112ms\tremaining: 116ms\n",
            "49:\tlearn: 0.4486583\ttotal: 114ms\tremaining: 114ms\n",
            "50:\tlearn: 0.4475585\ttotal: 116ms\tremaining: 111ms\n",
            "51:\tlearn: 0.4465437\ttotal: 118ms\tremaining: 109ms\n",
            "52:\tlearn: 0.4458066\ttotal: 120ms\tremaining: 107ms\n",
            "53:\tlearn: 0.4453207\ttotal: 122ms\tremaining: 104ms\n",
            "54:\tlearn: 0.4447689\ttotal: 125ms\tremaining: 102ms\n",
            "55:\tlearn: 0.4437898\ttotal: 127ms\tremaining: 99.5ms\n",
            "56:\tlearn: 0.4432955\ttotal: 129ms\tremaining: 97.2ms\n",
            "57:\tlearn: 0.4422215\ttotal: 131ms\tremaining: 95ms\n",
            "58:\tlearn: 0.4409171\ttotal: 133ms\tremaining: 92.7ms\n",
            "59:\tlearn: 0.4396569\ttotal: 135ms\tremaining: 90.3ms\n",
            "60:\tlearn: 0.4385443\ttotal: 138ms\tremaining: 88ms\n",
            "61:\tlearn: 0.4378637\ttotal: 140ms\tremaining: 85.7ms\n",
            "62:\tlearn: 0.4370094\ttotal: 142ms\tremaining: 83.4ms\n",
            "63:\tlearn: 0.4363498\ttotal: 144ms\tremaining: 81.1ms\n",
            "64:\tlearn: 0.4352883\ttotal: 147ms\tremaining: 78.9ms\n",
            "65:\tlearn: 0.4344726\ttotal: 149ms\tremaining: 76.6ms\n",
            "66:\tlearn: 0.4332257\ttotal: 151ms\tremaining: 74.3ms\n",
            "67:\tlearn: 0.4321919\ttotal: 153ms\tremaining: 72ms\n",
            "68:\tlearn: 0.4311798\ttotal: 155ms\tremaining: 69.7ms\n",
            "69:\tlearn: 0.4304756\ttotal: 157ms\tremaining: 67.5ms\n",
            "70:\tlearn: 0.4297949\ttotal: 160ms\tremaining: 65.2ms\n",
            "71:\tlearn: 0.4290804\ttotal: 162ms\tremaining: 63ms\n",
            "72:\tlearn: 0.4283717\ttotal: 164ms\tremaining: 60.7ms\n",
            "73:\tlearn: 0.4266636\ttotal: 166ms\tremaining: 58.4ms\n",
            "74:\tlearn: 0.4259278\ttotal: 168ms\tremaining: 56.2ms\n",
            "75:\tlearn: 0.4247228\ttotal: 171ms\tremaining: 53.9ms\n",
            "76:\tlearn: 0.4241253\ttotal: 174ms\tremaining: 51.9ms\n",
            "77:\tlearn: 0.4231227\ttotal: 180ms\tremaining: 50.6ms\n",
            "78:\tlearn: 0.4225713\ttotal: 186ms\tremaining: 49.3ms\n",
            "79:\tlearn: 0.4211630\ttotal: 188ms\tremaining: 47ms\n",
            "80:\tlearn: 0.4207539\ttotal: 190ms\tremaining: 44.6ms\n",
            "81:\tlearn: 0.4199942\ttotal: 192ms\tremaining: 42.2ms\n",
            "82:\tlearn: 0.4189399\ttotal: 195ms\tremaining: 39.8ms\n",
            "83:\tlearn: 0.4185056\ttotal: 197ms\tremaining: 37.5ms\n",
            "84:\tlearn: 0.4181218\ttotal: 199ms\tremaining: 35.1ms\n",
            "85:\tlearn: 0.4175247\ttotal: 201ms\tremaining: 32.8ms\n",
            "86:\tlearn: 0.4163616\ttotal: 203ms\tremaining: 30.4ms\n",
            "87:\tlearn: 0.4160700\ttotal: 206ms\tremaining: 28ms\n",
            "88:\tlearn: 0.4149716\ttotal: 208ms\tremaining: 25.7ms\n",
            "89:\tlearn: 0.4133671\ttotal: 210ms\tremaining: 23.4ms\n",
            "90:\tlearn: 0.4125472\ttotal: 213ms\tremaining: 21ms\n",
            "91:\tlearn: 0.4115912\ttotal: 215ms\tremaining: 18.7ms\n",
            "92:\tlearn: 0.4109041\ttotal: 217ms\tremaining: 16.3ms\n",
            "93:\tlearn: 0.4099766\ttotal: 219ms\tremaining: 14ms\n",
            "94:\tlearn: 0.4092527\ttotal: 221ms\tremaining: 11.6ms\n",
            "95:\tlearn: 0.4087330\ttotal: 224ms\tremaining: 9.32ms\n",
            "96:\tlearn: 0.4083033\ttotal: 226ms\tremaining: 6.98ms\n",
            "97:\tlearn: 0.4070765\ttotal: 228ms\tremaining: 4.65ms\n",
            "98:\tlearn: 0.4062139\ttotal: 230ms\tremaining: 2.32ms\n",
            "99:\tlearn: 0.4056034\ttotal: 232ms\tremaining: 0us\n",
            "0:\tlearn: 0.5432267\ttotal: 2.64ms\tremaining: 262ms\n",
            "1:\tlearn: 0.5374817\ttotal: 5.18ms\tremaining: 254ms\n",
            "2:\tlearn: 0.5333795\ttotal: 7.65ms\tremaining: 247ms\n",
            "3:\tlearn: 0.5294508\ttotal: 10.1ms\tremaining: 241ms\n",
            "4:\tlearn: 0.5257117\ttotal: 12.4ms\tremaining: 235ms\n",
            "5:\tlearn: 0.5231663\ttotal: 14.6ms\tremaining: 229ms\n",
            "6:\tlearn: 0.5201184\ttotal: 16.9ms\tremaining: 224ms\n",
            "7:\tlearn: 0.5181177\ttotal: 19.2ms\tremaining: 221ms\n",
            "8:\tlearn: 0.5163584\ttotal: 21.5ms\tremaining: 217ms\n",
            "9:\tlearn: 0.5133401\ttotal: 23.8ms\tremaining: 214ms\n",
            "10:\tlearn: 0.5117969\ttotal: 26.1ms\tremaining: 211ms\n",
            "11:\tlearn: 0.5098603\ttotal: 28.4ms\tremaining: 208ms\n",
            "12:\tlearn: 0.5084003\ttotal: 30.6ms\tremaining: 205ms\n",
            "13:\tlearn: 0.5068277\ttotal: 32.7ms\tremaining: 201ms\n",
            "14:\tlearn: 0.5051379\ttotal: 34.8ms\tremaining: 197ms\n",
            "15:\tlearn: 0.5039661\ttotal: 37.2ms\tremaining: 195ms\n",
            "16:\tlearn: 0.5024305\ttotal: 39.5ms\tremaining: 193ms\n",
            "17:\tlearn: 0.5017155\ttotal: 41.8ms\tremaining: 190ms\n",
            "18:\tlearn: 0.5006710\ttotal: 44ms\tremaining: 188ms\n",
            "19:\tlearn: 0.4995311\ttotal: 46.3ms\tremaining: 185ms\n",
            "20:\tlearn: 0.4982959\ttotal: 48.6ms\tremaining: 183ms\n",
            "21:\tlearn: 0.4967837\ttotal: 50.7ms\tremaining: 180ms\n",
            "22:\tlearn: 0.4951517\ttotal: 53ms\tremaining: 177ms\n",
            "23:\tlearn: 0.4926496\ttotal: 55.2ms\tremaining: 175ms\n",
            "24:\tlearn: 0.4912666\ttotal: 57.4ms\tremaining: 172ms\n",
            "25:\tlearn: 0.4897202\ttotal: 59.6ms\tremaining: 170ms\n",
            "26:\tlearn: 0.4888777\ttotal: 61.7ms\tremaining: 167ms\n",
            "27:\tlearn: 0.4885346\ttotal: 63.8ms\tremaining: 164ms\n",
            "28:\tlearn: 0.4865593\ttotal: 66.1ms\tremaining: 162ms\n",
            "29:\tlearn: 0.4856033\ttotal: 68.2ms\tremaining: 159ms\n",
            "30:\tlearn: 0.4841298\ttotal: 70.3ms\tremaining: 156ms\n",
            "31:\tlearn: 0.4832675\ttotal: 72.4ms\tremaining: 154ms\n",
            "32:\tlearn: 0.4821950\ttotal: 74.6ms\tremaining: 151ms\n",
            "33:\tlearn: 0.4811513\ttotal: 76.7ms\tremaining: 149ms\n",
            "34:\tlearn: 0.4804099\ttotal: 78.8ms\tremaining: 146ms\n",
            "35:\tlearn: 0.4795112\ttotal: 80.9ms\tremaining: 144ms\n",
            "36:\tlearn: 0.4787998\ttotal: 83.2ms\tremaining: 142ms\n",
            "37:\tlearn: 0.4771401\ttotal: 85.4ms\tremaining: 139ms\n",
            "38:\tlearn: 0.4758914\ttotal: 87.8ms\tremaining: 137ms\n",
            "39:\tlearn: 0.4746653\ttotal: 89.9ms\tremaining: 135ms\n",
            "40:\tlearn: 0.4738797\ttotal: 92ms\tremaining: 132ms\n",
            "41:\tlearn: 0.4731148\ttotal: 94.1ms\tremaining: 130ms\n",
            "42:\tlearn: 0.4713782\ttotal: 96.3ms\tremaining: 128ms\n",
            "43:\tlearn: 0.4703956\ttotal: 101ms\tremaining: 129ms\n",
            "44:\tlearn: 0.4697280\ttotal: 106ms\tremaining: 129ms\n",
            "45:\tlearn: 0.4690240\ttotal: 108ms\tremaining: 127ms\n",
            "46:\tlearn: 0.4684538\ttotal: 110ms\tremaining: 124ms\n",
            "47:\tlearn: 0.4681390\ttotal: 113ms\tremaining: 122ms\n",
            "48:\tlearn: 0.4674260\ttotal: 115ms\tremaining: 119ms\n",
            "49:\tlearn: 0.4655586\ttotal: 117ms\tremaining: 117ms\n",
            "50:\tlearn: 0.4640645\ttotal: 121ms\tremaining: 116ms\n",
            "51:\tlearn: 0.4631482\ttotal: 123ms\tremaining: 114ms\n",
            "52:\tlearn: 0.4621971\ttotal: 126ms\tremaining: 111ms\n",
            "53:\tlearn: 0.4608328\ttotal: 128ms\tremaining: 109ms\n",
            "54:\tlearn: 0.4596726\ttotal: 130ms\tremaining: 106ms\n",
            "55:\tlearn: 0.4589723\ttotal: 132ms\tremaining: 104ms\n",
            "56:\tlearn: 0.4584596\ttotal: 134ms\tremaining: 101ms\n",
            "57:\tlearn: 0.4576575\ttotal: 136ms\tremaining: 98.6ms\n",
            "58:\tlearn: 0.4564351\ttotal: 138ms\tremaining: 96.1ms\n",
            "59:\tlearn: 0.4552982\ttotal: 141ms\tremaining: 93.7ms\n",
            "60:\tlearn: 0.4540765\ttotal: 143ms\tremaining: 91.2ms\n",
            "61:\tlearn: 0.4529622\ttotal: 145ms\tremaining: 88.7ms\n",
            "62:\tlearn: 0.4525135\ttotal: 147ms\tremaining: 86.3ms\n",
            "63:\tlearn: 0.4518396\ttotal: 149ms\tremaining: 83.9ms\n",
            "64:\tlearn: 0.4503375\ttotal: 151ms\tremaining: 81.4ms\n",
            "65:\tlearn: 0.4493130\ttotal: 154ms\tremaining: 79.2ms\n",
            "66:\tlearn: 0.4482701\ttotal: 156ms\tremaining: 76.8ms\n",
            "67:\tlearn: 0.4469994\ttotal: 158ms\tremaining: 74.4ms\n",
            "68:\tlearn: 0.4457419\ttotal: 160ms\tremaining: 72ms\n",
            "69:\tlearn: 0.4442280\ttotal: 162ms\tremaining: 69.6ms\n",
            "70:\tlearn: 0.4427792\ttotal: 165ms\tremaining: 67.2ms\n",
            "71:\tlearn: 0.4419848\ttotal: 167ms\tremaining: 64.8ms\n",
            "72:\tlearn: 0.4413669\ttotal: 169ms\tremaining: 62.4ms\n",
            "73:\tlearn: 0.4407774\ttotal: 171ms\tremaining: 60ms\n",
            "74:\tlearn: 0.4399383\ttotal: 173ms\tremaining: 57.7ms\n",
            "75:\tlearn: 0.4394160\ttotal: 175ms\tremaining: 55.3ms\n",
            "76:\tlearn: 0.4387699\ttotal: 177ms\tremaining: 53ms\n",
            "77:\tlearn: 0.4379525\ttotal: 180ms\tremaining: 50.6ms\n",
            "78:\tlearn: 0.4368391\ttotal: 182ms\tremaining: 48.3ms\n",
            "79:\tlearn: 0.4360041\ttotal: 184ms\tremaining: 45.9ms\n",
            "80:\tlearn: 0.4351975\ttotal: 186ms\tremaining: 43.6ms\n",
            "81:\tlearn: 0.4345321\ttotal: 188ms\tremaining: 41.3ms\n",
            "82:\tlearn: 0.4337382\ttotal: 190ms\tremaining: 39ms\n",
            "83:\tlearn: 0.4329320\ttotal: 192ms\tremaining: 36.7ms\n",
            "84:\tlearn: 0.4323510\ttotal: 195ms\tremaining: 34.3ms\n",
            "85:\tlearn: 0.4317965\ttotal: 197ms\tremaining: 32ms\n",
            "86:\tlearn: 0.4313767\ttotal: 199ms\tremaining: 29.7ms\n",
            "87:\tlearn: 0.4306903\ttotal: 201ms\tremaining: 27.4ms\n",
            "88:\tlearn: 0.4300101\ttotal: 203ms\tremaining: 25.1ms\n",
            "89:\tlearn: 0.4296195\ttotal: 205ms\tremaining: 22.8ms\n",
            "90:\tlearn: 0.4290123\ttotal: 207ms\tremaining: 20.5ms\n",
            "91:\tlearn: 0.4281772\ttotal: 210ms\tremaining: 18.2ms\n",
            "92:\tlearn: 0.4272275\ttotal: 212ms\tremaining: 15.9ms\n",
            "93:\tlearn: 0.4265021\ttotal: 214ms\tremaining: 13.7ms\n",
            "94:\tlearn: 0.4255120\ttotal: 216ms\tremaining: 11.4ms\n",
            "95:\tlearn: 0.4246262\ttotal: 218ms\tremaining: 9.1ms\n",
            "96:\tlearn: 0.4243493\ttotal: 221ms\tremaining: 6.82ms\n",
            "97:\tlearn: 0.4239489\ttotal: 223ms\tremaining: 4.55ms\n",
            "98:\tlearn: 0.4230929\ttotal: 225ms\tremaining: 2.27ms\n",
            "99:\tlearn: 0.4223649\ttotal: 227ms\tremaining: 0us\n",
            "0:\tlearn: 0.5298600\ttotal: 2.65ms\tremaining: 262ms\n",
            "1:\tlearn: 0.5234632\ttotal: 5.07ms\tremaining: 248ms\n",
            "2:\tlearn: 0.5184028\ttotal: 7.36ms\tremaining: 238ms\n",
            "3:\tlearn: 0.5146910\ttotal: 9.51ms\tremaining: 228ms\n",
            "4:\tlearn: 0.5112271\ttotal: 12.1ms\tremaining: 230ms\n",
            "5:\tlearn: 0.5080095\ttotal: 14.3ms\tremaining: 224ms\n",
            "6:\tlearn: 0.5055509\ttotal: 16.4ms\tremaining: 218ms\n",
            "7:\tlearn: 0.5035756\ttotal: 18.5ms\tremaining: 213ms\n",
            "8:\tlearn: 0.5011752\ttotal: 20.8ms\tremaining: 210ms\n",
            "9:\tlearn: 0.4989187\ttotal: 23.1ms\tremaining: 208ms\n",
            "10:\tlearn: 0.4971187\ttotal: 25.3ms\tremaining: 205ms\n",
            "11:\tlearn: 0.4954545\ttotal: 28.7ms\tremaining: 210ms\n",
            "12:\tlearn: 0.4941887\ttotal: 35.1ms\tremaining: 235ms\n",
            "13:\tlearn: 0.4922127\ttotal: 37.3ms\tremaining: 229ms\n",
            "14:\tlearn: 0.4906755\ttotal: 39.6ms\tremaining: 224ms\n",
            "15:\tlearn: 0.4892677\ttotal: 41.8ms\tremaining: 220ms\n",
            "16:\tlearn: 0.4877772\ttotal: 44ms\tremaining: 215ms\n",
            "17:\tlearn: 0.4866315\ttotal: 46.1ms\tremaining: 210ms\n",
            "18:\tlearn: 0.4850239\ttotal: 48.2ms\tremaining: 205ms\n",
            "19:\tlearn: 0.4840794\ttotal: 50.3ms\tremaining: 201ms\n",
            "20:\tlearn: 0.4825061\ttotal: 52.3ms\tremaining: 197ms\n",
            "21:\tlearn: 0.4813788\ttotal: 54.4ms\tremaining: 193ms\n",
            "22:\tlearn: 0.4807027\ttotal: 56.6ms\tremaining: 190ms\n",
            "23:\tlearn: 0.4799080\ttotal: 58.9ms\tremaining: 186ms\n",
            "24:\tlearn: 0.4787218\ttotal: 61ms\tremaining: 183ms\n",
            "25:\tlearn: 0.4781709\ttotal: 63.2ms\tremaining: 180ms\n",
            "26:\tlearn: 0.4773595\ttotal: 65.4ms\tremaining: 177ms\n",
            "27:\tlearn: 0.4766168\ttotal: 67.6ms\tremaining: 174ms\n",
            "28:\tlearn: 0.4759832\ttotal: 69.9ms\tremaining: 171ms\n",
            "29:\tlearn: 0.4745570\ttotal: 74ms\tremaining: 173ms\n",
            "30:\tlearn: 0.4720888\ttotal: 77.8ms\tremaining: 173ms\n",
            "31:\tlearn: 0.4712858\ttotal: 82.2ms\tremaining: 175ms\n",
            "32:\tlearn: 0.4699128\ttotal: 85.4ms\tremaining: 173ms\n",
            "33:\tlearn: 0.4687587\ttotal: 88.2ms\tremaining: 171ms\n",
            "34:\tlearn: 0.4678078\ttotal: 90.6ms\tremaining: 168ms\n",
            "35:\tlearn: 0.4659652\ttotal: 92.7ms\tremaining: 165ms\n",
            "36:\tlearn: 0.4648536\ttotal: 94.8ms\tremaining: 161ms\n",
            "37:\tlearn: 0.4642276\ttotal: 96.9ms\tremaining: 158ms\n",
            "38:\tlearn: 0.4633756\ttotal: 99ms\tremaining: 155ms\n",
            "39:\tlearn: 0.4622621\ttotal: 101ms\tremaining: 152ms\n",
            "40:\tlearn: 0.4615321\ttotal: 103ms\tremaining: 149ms\n",
            "41:\tlearn: 0.4608843\ttotal: 105ms\tremaining: 146ms\n",
            "42:\tlearn: 0.4583972\ttotal: 108ms\tremaining: 143ms\n",
            "43:\tlearn: 0.4572820\ttotal: 112ms\tremaining: 142ms\n",
            "44:\tlearn: 0.4568393\ttotal: 114ms\tremaining: 140ms\n",
            "45:\tlearn: 0.4559127\ttotal: 118ms\tremaining: 139ms\n",
            "46:\tlearn: 0.4555534\ttotal: 121ms\tremaining: 137ms\n",
            "47:\tlearn: 0.4547003\ttotal: 124ms\tremaining: 134ms\n",
            "48:\tlearn: 0.4538169\ttotal: 126ms\tremaining: 131ms\n",
            "49:\tlearn: 0.4523168\ttotal: 128ms\tremaining: 128ms\n",
            "50:\tlearn: 0.4514301\ttotal: 131ms\tremaining: 126ms\n",
            "51:\tlearn: 0.4507428\ttotal: 133ms\tremaining: 123ms\n",
            "52:\tlearn: 0.4494859\ttotal: 135ms\tremaining: 120ms\n",
            "53:\tlearn: 0.4487832\ttotal: 137ms\tremaining: 117ms\n",
            "54:\tlearn: 0.4480904\ttotal: 140ms\tremaining: 114ms\n",
            "55:\tlearn: 0.4471169\ttotal: 142ms\tremaining: 111ms\n",
            "56:\tlearn: 0.4465772\ttotal: 144ms\tremaining: 109ms\n",
            "57:\tlearn: 0.4461444\ttotal: 146ms\tremaining: 106ms\n",
            "58:\tlearn: 0.4457321\ttotal: 148ms\tremaining: 103ms\n",
            "59:\tlearn: 0.4445277\ttotal: 150ms\tremaining: 100ms\n",
            "60:\tlearn: 0.4423969\ttotal: 152ms\tremaining: 97.5ms\n",
            "61:\tlearn: 0.4412539\ttotal: 155ms\tremaining: 94.8ms\n",
            "62:\tlearn: 0.4399700\ttotal: 157ms\tremaining: 92.1ms\n",
            "63:\tlearn: 0.4388490\ttotal: 159ms\tremaining: 89.4ms\n",
            "64:\tlearn: 0.4385245\ttotal: 161ms\tremaining: 86.8ms\n",
            "65:\tlearn: 0.4374419\ttotal: 164ms\tremaining: 84.3ms\n",
            "66:\tlearn: 0.4365142\ttotal: 166ms\tremaining: 81.7ms\n",
            "67:\tlearn: 0.4358170\ttotal: 168ms\tremaining: 79.1ms\n",
            "68:\tlearn: 0.4344996\ttotal: 170ms\tremaining: 76.6ms\n",
            "69:\tlearn: 0.4334940\ttotal: 173ms\tremaining: 74ms\n",
            "70:\tlearn: 0.4324345\ttotal: 175ms\tremaining: 71.4ms\n",
            "71:\tlearn: 0.4313313\ttotal: 177ms\tremaining: 68.9ms\n",
            "72:\tlearn: 0.4308340\ttotal: 179ms\tremaining: 66.4ms\n",
            "73:\tlearn: 0.4300259\ttotal: 182ms\tremaining: 63.8ms\n",
            "74:\tlearn: 0.4288413\ttotal: 184ms\tremaining: 61.3ms\n",
            "75:\tlearn: 0.4283204\ttotal: 186ms\tremaining: 58.7ms\n",
            "76:\tlearn: 0.4269913\ttotal: 188ms\tremaining: 56.2ms\n",
            "77:\tlearn: 0.4263012\ttotal: 191ms\tremaining: 53.8ms\n",
            "78:\tlearn: 0.4258597\ttotal: 193ms\tremaining: 51.2ms\n",
            "79:\tlearn: 0.4249097\ttotal: 195ms\tremaining: 48.7ms\n",
            "80:\tlearn: 0.4238229\ttotal: 197ms\tremaining: 46.3ms\n",
            "81:\tlearn: 0.4225772\ttotal: 199ms\tremaining: 43.8ms\n",
            "82:\tlearn: 0.4213812\ttotal: 202ms\tremaining: 41.3ms\n",
            "83:\tlearn: 0.4205812\ttotal: 204ms\tremaining: 38.8ms\n",
            "84:\tlearn: 0.4197348\ttotal: 206ms\tremaining: 36.4ms\n",
            "85:\tlearn: 0.4190125\ttotal: 208ms\tremaining: 33.9ms\n",
            "86:\tlearn: 0.4182599\ttotal: 210ms\tremaining: 31.5ms\n",
            "87:\tlearn: 0.4172612\ttotal: 213ms\tremaining: 29ms\n",
            "88:\tlearn: 0.4162863\ttotal: 215ms\tremaining: 26.5ms\n",
            "89:\tlearn: 0.4158269\ttotal: 217ms\tremaining: 24.1ms\n",
            "90:\tlearn: 0.4151439\ttotal: 226ms\tremaining: 22.3ms\n",
            "91:\tlearn: 0.4146483\ttotal: 228ms\tremaining: 19.8ms\n",
            "92:\tlearn: 0.4141577\ttotal: 230ms\tremaining: 17.3ms\n",
            "93:\tlearn: 0.4127192\ttotal: 233ms\tremaining: 14.9ms\n",
            "94:\tlearn: 0.4123397\ttotal: 235ms\tremaining: 12.4ms\n",
            "95:\tlearn: 0.4116858\ttotal: 237ms\tremaining: 9.88ms\n",
            "96:\tlearn: 0.4109675\ttotal: 239ms\tremaining: 7.4ms\n",
            "97:\tlearn: 0.4105085\ttotal: 241ms\tremaining: 4.93ms\n",
            "98:\tlearn: 0.4097982\ttotal: 244ms\tremaining: 2.46ms\n",
            "99:\tlearn: 0.4091017\ttotal: 246ms\tremaining: 0us\n",
            "0:\tlearn: 0.5224791\ttotal: 2.48ms\tremaining: 246ms\n",
            "1:\tlearn: 0.5158423\ttotal: 4.82ms\tremaining: 236ms\n",
            "2:\tlearn: 0.5113525\ttotal: 7ms\tremaining: 226ms\n",
            "3:\tlearn: 0.5068524\ttotal: 9.31ms\tremaining: 224ms\n",
            "4:\tlearn: 0.5032702\ttotal: 11.4ms\tremaining: 217ms\n",
            "5:\tlearn: 0.5002553\ttotal: 13.7ms\tremaining: 214ms\n",
            "6:\tlearn: 0.4977844\ttotal: 15.9ms\tremaining: 211ms\n",
            "7:\tlearn: 0.4956427\ttotal: 18.6ms\tremaining: 214ms\n",
            "8:\tlearn: 0.4938663\ttotal: 20.9ms\tremaining: 211ms\n",
            "9:\tlearn: 0.4916261\ttotal: 22.9ms\tremaining: 206ms\n",
            "10:\tlearn: 0.4899446\ttotal: 25ms\tremaining: 202ms\n",
            "11:\tlearn: 0.4885862\ttotal: 27.1ms\tremaining: 199ms\n",
            "12:\tlearn: 0.4870352\ttotal: 29.2ms\tremaining: 196ms\n",
            "13:\tlearn: 0.4851236\ttotal: 31.4ms\tremaining: 193ms\n",
            "14:\tlearn: 0.4838321\ttotal: 33.6ms\tremaining: 190ms\n",
            "15:\tlearn: 0.4826952\ttotal: 35.8ms\tremaining: 188ms\n",
            "16:\tlearn: 0.4809771\ttotal: 37.9ms\tremaining: 185ms\n",
            "17:\tlearn: 0.4798943\ttotal: 40ms\tremaining: 182ms\n",
            "18:\tlearn: 0.4786426\ttotal: 42.2ms\tremaining: 180ms\n",
            "19:\tlearn: 0.4776177\ttotal: 44.3ms\tremaining: 177ms\n",
            "20:\tlearn: 0.4759142\ttotal: 46.3ms\tremaining: 174ms\n",
            "21:\tlearn: 0.4741570\ttotal: 48.9ms\tremaining: 173ms\n",
            "22:\tlearn: 0.4728605\ttotal: 51.1ms\tremaining: 171ms\n",
            "23:\tlearn: 0.4719411\ttotal: 53.3ms\tremaining: 169ms\n",
            "24:\tlearn: 0.4709046\ttotal: 55.4ms\tremaining: 166ms\n",
            "25:\tlearn: 0.4697464\ttotal: 57.6ms\tremaining: 164ms\n",
            "26:\tlearn: 0.4686705\ttotal: 59.8ms\tremaining: 162ms\n",
            "27:\tlearn: 0.4671181\ttotal: 61.9ms\tremaining: 159ms\n",
            "28:\tlearn: 0.4660869\ttotal: 64.2ms\tremaining: 157ms\n",
            "29:\tlearn: 0.4649352\ttotal: 66.2ms\tremaining: 154ms\n",
            "30:\tlearn: 0.4641836\ttotal: 68.3ms\tremaining: 152ms\n",
            "31:\tlearn: 0.4636644\ttotal: 70.4ms\tremaining: 150ms\n",
            "32:\tlearn: 0.4625702\ttotal: 72.5ms\tremaining: 147ms\n",
            "33:\tlearn: 0.4609837\ttotal: 74.7ms\tremaining: 145ms\n",
            "34:\tlearn: 0.4596080\ttotal: 76.7ms\tremaining: 143ms\n",
            "35:\tlearn: 0.4581894\ttotal: 78.8ms\tremaining: 140ms\n",
            "36:\tlearn: 0.4573670\ttotal: 81.1ms\tremaining: 138ms\n",
            "37:\tlearn: 0.4555382\ttotal: 83.1ms\tremaining: 136ms\n",
            "38:\tlearn: 0.4542567\ttotal: 85.2ms\tremaining: 133ms\n",
            "39:\tlearn: 0.4536752\ttotal: 87.4ms\tremaining: 131ms\n",
            "40:\tlearn: 0.4526963\ttotal: 89.5ms\tremaining: 129ms\n",
            "41:\tlearn: 0.4516610\ttotal: 91.7ms\tremaining: 127ms\n",
            "42:\tlearn: 0.4499588\ttotal: 94ms\tremaining: 125ms\n",
            "43:\tlearn: 0.4487145\ttotal: 96.3ms\tremaining: 123ms\n",
            "44:\tlearn: 0.4474692\ttotal: 98.4ms\tremaining: 120ms\n",
            "45:\tlearn: 0.4459233\ttotal: 101ms\tremaining: 118ms\n",
            "46:\tlearn: 0.4453951\ttotal: 103ms\tremaining: 116ms\n",
            "47:\tlearn: 0.4450005\ttotal: 105ms\tremaining: 113ms\n",
            "48:\tlearn: 0.4442916\ttotal: 107ms\tremaining: 111ms\n",
            "49:\tlearn: 0.4435506\ttotal: 109ms\tremaining: 109ms\n",
            "50:\tlearn: 0.4427311\ttotal: 111ms\tremaining: 107ms\n",
            "51:\tlearn: 0.4420434\ttotal: 113ms\tremaining: 105ms\n",
            "52:\tlearn: 0.4413277\ttotal: 115ms\tremaining: 102ms\n",
            "53:\tlearn: 0.4407446\ttotal: 118ms\tremaining: 100ms\n",
            "54:\tlearn: 0.4397625\ttotal: 120ms\tremaining: 98ms\n",
            "55:\tlearn: 0.4391138\ttotal: 122ms\tremaining: 95.8ms\n",
            "56:\tlearn: 0.4378587\ttotal: 124ms\tremaining: 93.6ms\n",
            "57:\tlearn: 0.4368673\ttotal: 126ms\tremaining: 91.4ms\n",
            "58:\tlearn: 0.4362870\ttotal: 128ms\tremaining: 89.2ms\n",
            "59:\tlearn: 0.4357024\ttotal: 131ms\tremaining: 87ms\n",
            "60:\tlearn: 0.4346914\ttotal: 133ms\tremaining: 85.2ms\n",
            "61:\tlearn: 0.4339294\ttotal: 141ms\tremaining: 86.2ms\n",
            "62:\tlearn: 0.4333778\ttotal: 145ms\tremaining: 85.4ms\n",
            "63:\tlearn: 0.4327804\ttotal: 148ms\tremaining: 83.1ms\n",
            "64:\tlearn: 0.4322275\ttotal: 150ms\tremaining: 80.8ms\n",
            "65:\tlearn: 0.4314852\ttotal: 152ms\tremaining: 78.4ms\n",
            "66:\tlearn: 0.4298924\ttotal: 154ms\tremaining: 76ms\n",
            "67:\tlearn: 0.4293465\ttotal: 156ms\tremaining: 73.5ms\n",
            "68:\tlearn: 0.4281505\ttotal: 158ms\tremaining: 71.2ms\n",
            "69:\tlearn: 0.4267161\ttotal: 161ms\tremaining: 68.8ms\n",
            "70:\tlearn: 0.4260011\ttotal: 163ms\tremaining: 66.4ms\n",
            "71:\tlearn: 0.4252284\ttotal: 165ms\tremaining: 64ms\n",
            "72:\tlearn: 0.4247802\ttotal: 167ms\tremaining: 61.7ms\n",
            "73:\tlearn: 0.4240867\ttotal: 170ms\tremaining: 59.8ms\n",
            "74:\tlearn: 0.4231978\ttotal: 172ms\tremaining: 57.4ms\n",
            "75:\tlearn: 0.4229018\ttotal: 174ms\tremaining: 55.1ms\n",
            "76:\tlearn: 0.4217036\ttotal: 177ms\tremaining: 52.7ms\n",
            "77:\tlearn: 0.4208403\ttotal: 179ms\tremaining: 50.4ms\n",
            "78:\tlearn: 0.4205677\ttotal: 181ms\tremaining: 48ms\n",
            "79:\tlearn: 0.4201070\ttotal: 183ms\tremaining: 45.7ms\n",
            "80:\tlearn: 0.4192913\ttotal: 185ms\tremaining: 43.4ms\n",
            "81:\tlearn: 0.4183050\ttotal: 187ms\tremaining: 41ms\n",
            "82:\tlearn: 0.4168586\ttotal: 189ms\tremaining: 38.7ms\n",
            "83:\tlearn: 0.4160724\ttotal: 191ms\tremaining: 36.4ms\n",
            "84:\tlearn: 0.4153652\ttotal: 194ms\tremaining: 34.2ms\n",
            "85:\tlearn: 0.4146467\ttotal: 196ms\tremaining: 31.9ms\n",
            "86:\tlearn: 0.4133915\ttotal: 198ms\tremaining: 29.6ms\n",
            "87:\tlearn: 0.4128031\ttotal: 200ms\tremaining: 27.3ms\n",
            "88:\tlearn: 0.4123376\ttotal: 202ms\tremaining: 25ms\n",
            "89:\tlearn: 0.4116841\ttotal: 204ms\tremaining: 22.7ms\n",
            "90:\tlearn: 0.4109258\ttotal: 206ms\tremaining: 20.4ms\n",
            "91:\tlearn: 0.4103303\ttotal: 208ms\tremaining: 18.1ms\n",
            "92:\tlearn: 0.4098732\ttotal: 211ms\tremaining: 15.8ms\n",
            "93:\tlearn: 0.4088465\ttotal: 213ms\tremaining: 13.6ms\n",
            "94:\tlearn: 0.4085061\ttotal: 215ms\tremaining: 11.3ms\n",
            "95:\tlearn: 0.4072965\ttotal: 217ms\tremaining: 9.03ms\n",
            "96:\tlearn: 0.4070700\ttotal: 219ms\tremaining: 6.77ms\n",
            "97:\tlearn: 0.4063448\ttotal: 221ms\tremaining: 4.51ms\n",
            "98:\tlearn: 0.4055075\ttotal: 223ms\tremaining: 2.25ms\n",
            "99:\tlearn: 0.4051811\ttotal: 225ms\tremaining: 0us\n",
            "0:\tlearn: 0.5267872\ttotal: 2.52ms\tremaining: 249ms\n",
            "1:\tlearn: 0.5199793\ttotal: 5.03ms\tremaining: 246ms\n",
            "2:\tlearn: 0.5151186\ttotal: 7.34ms\tremaining: 237ms\n",
            "3:\tlearn: 0.5109410\ttotal: 9.5ms\tremaining: 228ms\n",
            "4:\tlearn: 0.5073612\ttotal: 11.7ms\tremaining: 223ms\n",
            "5:\tlearn: 0.5048533\ttotal: 14ms\tremaining: 219ms\n",
            "6:\tlearn: 0.5019707\ttotal: 16.2ms\tremaining: 216ms\n",
            "7:\tlearn: 0.5000020\ttotal: 18.5ms\tremaining: 213ms\n",
            "8:\tlearn: 0.4981542\ttotal: 20.6ms\tremaining: 209ms\n",
            "9:\tlearn: 0.4961827\ttotal: 22.8ms\tremaining: 205ms\n",
            "10:\tlearn: 0.4945269\ttotal: 24.9ms\tremaining: 201ms\n",
            "11:\tlearn: 0.4930286\ttotal: 26.9ms\tremaining: 197ms\n",
            "12:\tlearn: 0.4914449\ttotal: 29ms\tremaining: 194ms\n",
            "13:\tlearn: 0.4900644\ttotal: 31.1ms\tremaining: 191ms\n",
            "14:\tlearn: 0.4889097\ttotal: 33.1ms\tremaining: 188ms\n",
            "15:\tlearn: 0.4874464\ttotal: 35.2ms\tremaining: 185ms\n",
            "16:\tlearn: 0.4857886\ttotal: 37.3ms\tremaining: 182ms\n",
            "17:\tlearn: 0.4843797\ttotal: 39.5ms\tremaining: 180ms\n",
            "18:\tlearn: 0.4837721\ttotal: 41.7ms\tremaining: 178ms\n",
            "19:\tlearn: 0.4826985\ttotal: 45.4ms\tremaining: 182ms\n",
            "20:\tlearn: 0.4816153\ttotal: 50ms\tremaining: 188ms\n",
            "21:\tlearn: 0.4803392\ttotal: 52.2ms\tremaining: 185ms\n",
            "22:\tlearn: 0.4790850\ttotal: 55.1ms\tremaining: 185ms\n",
            "23:\tlearn: 0.4779540\ttotal: 59.7ms\tremaining: 189ms\n",
            "24:\tlearn: 0.4773705\ttotal: 64.1ms\tremaining: 192ms\n",
            "25:\tlearn: 0.4763953\ttotal: 66.3ms\tremaining: 189ms\n",
            "26:\tlearn: 0.4754820\ttotal: 68.5ms\tremaining: 185ms\n",
            "27:\tlearn: 0.4747478\ttotal: 70.8ms\tremaining: 182ms\n",
            "28:\tlearn: 0.4732098\ttotal: 73ms\tremaining: 179ms\n",
            "29:\tlearn: 0.4724268\ttotal: 75.2ms\tremaining: 175ms\n",
            "30:\tlearn: 0.4707935\ttotal: 77.2ms\tremaining: 172ms\n",
            "31:\tlearn: 0.4695004\ttotal: 79.4ms\tremaining: 169ms\n",
            "32:\tlearn: 0.4684413\ttotal: 81.7ms\tremaining: 166ms\n",
            "33:\tlearn: 0.4673885\ttotal: 84.1ms\tremaining: 163ms\n",
            "34:\tlearn: 0.4667416\ttotal: 86.2ms\tremaining: 160ms\n",
            "35:\tlearn: 0.4658373\ttotal: 88.3ms\tremaining: 157ms\n",
            "36:\tlearn: 0.4651240\ttotal: 90.4ms\tremaining: 154ms\n",
            "37:\tlearn: 0.4642269\ttotal: 92.7ms\tremaining: 151ms\n",
            "38:\tlearn: 0.4626178\ttotal: 94.9ms\tremaining: 148ms\n",
            "39:\tlearn: 0.4616870\ttotal: 97.1ms\tremaining: 146ms\n",
            "40:\tlearn: 0.4607988\ttotal: 99.2ms\tremaining: 143ms\n",
            "41:\tlearn: 0.4596022\ttotal: 101ms\tremaining: 140ms\n",
            "42:\tlearn: 0.4578495\ttotal: 104ms\tremaining: 137ms\n",
            "43:\tlearn: 0.4562808\ttotal: 106ms\tremaining: 135ms\n",
            "44:\tlearn: 0.4555594\ttotal: 108ms\tremaining: 132ms\n",
            "45:\tlearn: 0.4549081\ttotal: 110ms\tremaining: 129ms\n",
            "46:\tlearn: 0.4546911\ttotal: 112ms\tremaining: 126ms\n",
            "47:\tlearn: 0.4538537\ttotal: 114ms\tremaining: 124ms\n",
            "48:\tlearn: 0.4527915\ttotal: 117ms\tremaining: 121ms\n",
            "49:\tlearn: 0.4514308\ttotal: 119ms\tremaining: 119ms\n",
            "50:\tlearn: 0.4505988\ttotal: 121ms\tremaining: 116ms\n",
            "51:\tlearn: 0.4495152\ttotal: 123ms\tremaining: 114ms\n",
            "52:\tlearn: 0.4486413\ttotal: 125ms\tremaining: 111ms\n",
            "53:\tlearn: 0.4472944\ttotal: 127ms\tremaining: 109ms\n",
            "54:\tlearn: 0.4468575\ttotal: 130ms\tremaining: 106ms\n",
            "55:\tlearn: 0.4457718\ttotal: 132ms\tremaining: 104ms\n",
            "56:\tlearn: 0.4447728\ttotal: 134ms\tremaining: 101ms\n",
            "57:\tlearn: 0.4440045\ttotal: 137ms\tremaining: 99.3ms\n",
            "58:\tlearn: 0.4434104\ttotal: 139ms\tremaining: 96.8ms\n",
            "59:\tlearn: 0.4427449\ttotal: 141ms\tremaining: 94.2ms\n",
            "60:\tlearn: 0.4417429\ttotal: 143ms\tremaining: 91.7ms\n",
            "61:\tlearn: 0.4409108\ttotal: 145ms\tremaining: 89.2ms\n",
            "62:\tlearn: 0.4404966\ttotal: 148ms\tremaining: 86.7ms\n",
            "63:\tlearn: 0.4395193\ttotal: 150ms\tremaining: 84.3ms\n",
            "64:\tlearn: 0.4385755\ttotal: 152ms\tremaining: 81.8ms\n",
            "65:\tlearn: 0.4374789\ttotal: 154ms\tremaining: 79.4ms\n",
            "66:\tlearn: 0.4369491\ttotal: 156ms\tremaining: 77ms\n",
            "67:\tlearn: 0.4363783\ttotal: 159ms\tremaining: 74.6ms\n",
            "68:\tlearn: 0.4357307\ttotal: 161ms\tremaining: 72.2ms\n",
            "69:\tlearn: 0.4348293\ttotal: 163ms\tremaining: 69.8ms\n",
            "70:\tlearn: 0.4338966\ttotal: 165ms\tremaining: 67.5ms\n",
            "71:\tlearn: 0.4327352\ttotal: 167ms\tremaining: 65ms\n",
            "72:\tlearn: 0.4319691\ttotal: 169ms\tremaining: 62.7ms\n",
            "73:\tlearn: 0.4314233\ttotal: 172ms\tremaining: 60.3ms\n",
            "74:\tlearn: 0.4305814\ttotal: 175ms\tremaining: 58.2ms\n",
            "75:\tlearn: 0.4299230\ttotal: 178ms\tremaining: 56.2ms\n",
            "76:\tlearn: 0.4290399\ttotal: 182ms\tremaining: 54.4ms\n",
            "77:\tlearn: 0.4282189\ttotal: 184ms\tremaining: 52ms\n",
            "78:\tlearn: 0.4273826\ttotal: 186ms\tremaining: 49.5ms\n",
            "79:\tlearn: 0.4257913\ttotal: 188ms\tremaining: 47.1ms\n",
            "80:\tlearn: 0.4253226\ttotal: 191ms\tremaining: 44.7ms\n",
            "81:\tlearn: 0.4245032\ttotal: 193ms\tremaining: 42.3ms\n",
            "82:\tlearn: 0.4236886\ttotal: 195ms\tremaining: 40ms\n",
            "83:\tlearn: 0.4231891\ttotal: 197ms\tremaining: 37.6ms\n",
            "84:\tlearn: 0.4224978\ttotal: 199ms\tremaining: 35.2ms\n",
            "85:\tlearn: 0.4217954\ttotal: 202ms\tremaining: 32.8ms\n",
            "86:\tlearn: 0.4205606\ttotal: 204ms\tremaining: 30.4ms\n",
            "87:\tlearn: 0.4200037\ttotal: 206ms\tremaining: 28.1ms\n",
            "88:\tlearn: 0.4193517\ttotal: 208ms\tremaining: 25.8ms\n",
            "89:\tlearn: 0.4189322\ttotal: 211ms\tremaining: 23.4ms\n",
            "90:\tlearn: 0.4175925\ttotal: 213ms\tremaining: 21ms\n",
            "91:\tlearn: 0.4170549\ttotal: 215ms\tremaining: 18.7ms\n",
            "92:\tlearn: 0.4167348\ttotal: 217ms\tremaining: 16.3ms\n",
            "93:\tlearn: 0.4156332\ttotal: 219ms\tremaining: 14ms\n",
            "94:\tlearn: 0.4145917\ttotal: 221ms\tremaining: 11.7ms\n",
            "95:\tlearn: 0.4137434\ttotal: 224ms\tremaining: 9.31ms\n",
            "96:\tlearn: 0.4127627\ttotal: 226ms\tremaining: 6.98ms\n",
            "97:\tlearn: 0.4116411\ttotal: 228ms\tremaining: 4.65ms\n",
            "98:\tlearn: 0.4112092\ttotal: 230ms\tremaining: 2.32ms\n",
            "99:\tlearn: 0.4105736\ttotal: 232ms\tremaining: 0us\n",
            "model :  RandomForestRegressor\n",
            "model :  LinearRegression\n",
            "train RMSE : 0.517876\n"
          ],
          "name": "stdout"
        }
      ]
    },
    {
      "cell_type": "markdown",
      "metadata": {
        "id": "e4PDdjO8016f"
      },
      "source": [
        "* X_test로 스택 앙상블 적용해 예측값 얻기"
      ]
    },
    {
      "cell_type": "code",
      "metadata": {
        "id": "Qoq74pKW20-5"
      },
      "source": [
        "X_train_np=X_train.values\r\n",
        "X_test_np=df_test.values\r\n",
        "\r\n",
        "\r\n",
        "X_ohe_train_np=X_ohe_train.values\r\n",
        "X_ohe_test_np=df_ohe_test.values\r\n",
        "y_train_np=y_train.values"
      ],
      "execution_count": null,
      "outputs": []
    },
    {
      "cell_type": "code",
      "metadata": {
        "colab": {
          "base_uri": "https://localhost:8080/",
          "height": 1000
        },
        "id": "7I_2A7BB0sUx",
        "outputId": "92343e34-ed9e-49a2-98a2-e7d3fc66048a"
      },
      "source": [
        "xgb_train_1, xgb_test_1 = stack(xgb_best_1, X_train_np, y_train_np, X_test_np)\r\n",
        "lgb_train_1, lgb_test_1 = stack(lgb_best_1, X_train_np, y_train_np, X_test_np)\r\n",
        "cat_train_1, cat_test_1 = stack(cat_best, X_train_np, y_train_np, X_test_np)\r\n",
        "rf_train_1, rf_test_1 = stack(rf_best, X_train_np, y_train_np, X_test_np)\r\n",
        "lr_train_1, lr_test_1 = stack(lr_best, X_ohe_train_np, y_train_np, X_ohe_test_np)\r\n",
        "\r\n",
        "stack_final_X_train=np.concatenate((xgb_train_1,lgb_train_1,cat_train_1,rf_train_1,lr_train_1),axis=1)\r\n",
        "stack_final_X_test=np.concatenate((xgb_test_1,lgb_test_1,cat_test_1,rf_test_1,lr_test_1),axis=1)\r\n",
        "\r\n",
        "meta_model_lasso=Lasso(alpha=0.0005)\r\n",
        "\r\n",
        "meta_model_lasso.fit(stack_final_X_train,y_train_np)\r\n",
        "final_pred=meta_model_lasso.predict(stack_final_X_test)\r\n",
        "\r\n",
        "submission = pd.DataFrame(columns=['Id', 'Rating'])\r\n",
        "submission['Id'] = df_test['Id']\r\n",
        "submission['Rating'] = np.clip(final_pred, 1, 5)\r\n",
        "submission.head() "
      ],
      "execution_count": null,
      "outputs": [
        {
          "output_type": "stream",
          "text": [
            "model :  XGBRegressor\n",
            "[20:20:06] WARNING: /workspace/src/objective/regression_obj.cu:152: reg:linear is now deprecated in favor of reg:squarederror.\n",
            "[20:20:06] WARNING: /workspace/src/objective/regression_obj.cu:152: reg:linear is now deprecated in favor of reg:squarederror.\n",
            "[20:20:06] WARNING: /workspace/src/objective/regression_obj.cu:152: reg:linear is now deprecated in favor of reg:squarederror.\n",
            "[20:20:06] WARNING: /workspace/src/objective/regression_obj.cu:152: reg:linear is now deprecated in favor of reg:squarederror.\n",
            "[20:20:07] WARNING: /workspace/src/objective/regression_obj.cu:152: reg:linear is now deprecated in favor of reg:squarederror.\n",
            "model :  LGBMRegressor\n",
            "model :  CatBoostRegressor\n",
            "0:\tlearn: 0.5325536\ttotal: 2.38ms\tremaining: 236ms\n",
            "1:\tlearn: 0.5266122\ttotal: 4.64ms\tremaining: 227ms\n",
            "2:\tlearn: 0.5219739\ttotal: 6.85ms\tremaining: 222ms\n",
            "3:\tlearn: 0.5182905\ttotal: 8.91ms\tremaining: 214ms\n",
            "4:\tlearn: 0.5147326\ttotal: 10.9ms\tremaining: 208ms\n",
            "5:\tlearn: 0.5117774\ttotal: 13ms\tremaining: 204ms\n",
            "6:\tlearn: 0.5087011\ttotal: 15.1ms\tremaining: 201ms\n",
            "7:\tlearn: 0.5054675\ttotal: 17.2ms\tremaining: 198ms\n",
            "8:\tlearn: 0.5034077\ttotal: 19.3ms\tremaining: 195ms\n",
            "9:\tlearn: 0.5008230\ttotal: 21.6ms\tremaining: 194ms\n",
            "10:\tlearn: 0.4992405\ttotal: 23.7ms\tremaining: 192ms\n",
            "11:\tlearn: 0.4973449\ttotal: 25.9ms\tremaining: 190ms\n",
            "12:\tlearn: 0.4960636\ttotal: 27.9ms\tremaining: 187ms\n",
            "13:\tlearn: 0.4944470\ttotal: 30.1ms\tremaining: 185ms\n",
            "14:\tlearn: 0.4917052\ttotal: 32.1ms\tremaining: 182ms\n",
            "15:\tlearn: 0.4900780\ttotal: 34.3ms\tremaining: 180ms\n",
            "16:\tlearn: 0.4874089\ttotal: 36.4ms\tremaining: 178ms\n",
            "17:\tlearn: 0.4854101\ttotal: 38.7ms\tremaining: 176ms\n",
            "18:\tlearn: 0.4840986\ttotal: 41ms\tremaining: 175ms\n",
            "19:\tlearn: 0.4817819\ttotal: 43.3ms\tremaining: 173ms\n",
            "20:\tlearn: 0.4798104\ttotal: 45.6ms\tremaining: 172ms\n",
            "21:\tlearn: 0.4786596\ttotal: 47.8ms\tremaining: 169ms\n",
            "22:\tlearn: 0.4774532\ttotal: 50ms\tremaining: 167ms\n",
            "23:\tlearn: 0.4755773\ttotal: 52.2ms\tremaining: 165ms\n",
            "24:\tlearn: 0.4738483\ttotal: 54.4ms\tremaining: 163ms\n",
            "25:\tlearn: 0.4728797\ttotal: 56.5ms\tremaining: 161ms\n",
            "26:\tlearn: 0.4722247\ttotal: 58.7ms\tremaining: 159ms\n",
            "27:\tlearn: 0.4713115\ttotal: 61ms\tremaining: 157ms\n",
            "28:\tlearn: 0.4702969\ttotal: 63.2ms\tremaining: 155ms\n",
            "29:\tlearn: 0.4690150\ttotal: 65.4ms\tremaining: 153ms\n",
            "30:\tlearn: 0.4678392\ttotal: 67.5ms\tremaining: 150ms\n",
            "31:\tlearn: 0.4671932\ttotal: 69.6ms\tremaining: 148ms\n",
            "32:\tlearn: 0.4660316\ttotal: 71.8ms\tremaining: 146ms\n",
            "33:\tlearn: 0.4650412\ttotal: 73.9ms\tremaining: 144ms\n",
            "34:\tlearn: 0.4642280\ttotal: 76ms\tremaining: 141ms\n",
            "35:\tlearn: 0.4633853\ttotal: 78.2ms\tremaining: 139ms\n",
            "36:\tlearn: 0.4625213\ttotal: 80.4ms\tremaining: 137ms\n",
            "37:\tlearn: 0.4613504\ttotal: 82.6ms\tremaining: 135ms\n",
            "38:\tlearn: 0.4603111\ttotal: 84.8ms\tremaining: 133ms\n",
            "39:\tlearn: 0.4593827\ttotal: 87ms\tremaining: 131ms\n",
            "40:\tlearn: 0.4584722\ttotal: 89.2ms\tremaining: 128ms\n",
            "41:\tlearn: 0.4570036\ttotal: 91.4ms\tremaining: 126ms\n",
            "42:\tlearn: 0.4552434\ttotal: 93.7ms\tremaining: 124ms\n",
            "43:\tlearn: 0.4544509\ttotal: 95.9ms\tremaining: 122ms\n",
            "44:\tlearn: 0.4534397\ttotal: 98ms\tremaining: 120ms\n",
            "45:\tlearn: 0.4524390\ttotal: 100ms\tremaining: 118ms\n",
            "46:\tlearn: 0.4516278\ttotal: 102ms\tremaining: 115ms\n",
            "47:\tlearn: 0.4505473\ttotal: 104ms\tremaining: 113ms\n",
            "48:\tlearn: 0.4498071\ttotal: 107ms\tremaining: 111ms\n",
            "49:\tlearn: 0.4486583\ttotal: 109ms\tremaining: 109ms\n",
            "50:\tlearn: 0.4475585\ttotal: 111ms\tremaining: 107ms\n",
            "51:\tlearn: 0.4465437\ttotal: 113ms\tremaining: 105ms\n",
            "52:\tlearn: 0.4458066\ttotal: 115ms\tremaining: 102ms\n",
            "53:\tlearn: 0.4453207\ttotal: 118ms\tremaining: 100ms\n",
            "54:\tlearn: 0.4447689\ttotal: 120ms\tremaining: 98.1ms\n",
            "55:\tlearn: 0.4437898\ttotal: 122ms\tremaining: 95.8ms\n",
            "56:\tlearn: 0.4432955\ttotal: 124ms\tremaining: 93.7ms\n",
            "57:\tlearn: 0.4422215\ttotal: 126ms\tremaining: 91.6ms\n",
            "58:\tlearn: 0.4409171\ttotal: 129ms\tremaining: 89.5ms\n",
            "59:\tlearn: 0.4396569\ttotal: 131ms\tremaining: 87.2ms\n",
            "60:\tlearn: 0.4385443\ttotal: 133ms\tremaining: 85ms\n",
            "61:\tlearn: 0.4378637\ttotal: 135ms\tremaining: 82.9ms\n",
            "62:\tlearn: 0.4370094\ttotal: 137ms\tremaining: 80.6ms\n",
            "63:\tlearn: 0.4363498\ttotal: 139ms\tremaining: 78.5ms\n",
            "64:\tlearn: 0.4352883\ttotal: 142ms\tremaining: 76.2ms\n",
            "65:\tlearn: 0.4344726\ttotal: 144ms\tremaining: 74.1ms\n",
            "66:\tlearn: 0.4332257\ttotal: 146ms\tremaining: 72ms\n",
            "67:\tlearn: 0.4321919\ttotal: 148ms\tremaining: 69.8ms\n",
            "68:\tlearn: 0.4311798\ttotal: 151ms\tremaining: 67.7ms\n",
            "69:\tlearn: 0.4304756\ttotal: 153ms\tremaining: 65.5ms\n",
            "70:\tlearn: 0.4297949\ttotal: 155ms\tremaining: 63.3ms\n",
            "71:\tlearn: 0.4290804\ttotal: 157ms\tremaining: 61.1ms\n",
            "72:\tlearn: 0.4283717\ttotal: 159ms\tremaining: 59ms\n",
            "73:\tlearn: 0.4266636\ttotal: 162ms\tremaining: 56.8ms\n",
            "74:\tlearn: 0.4259278\ttotal: 164ms\tremaining: 54.6ms\n",
            "75:\tlearn: 0.4247228\ttotal: 166ms\tremaining: 52.4ms\n",
            "76:\tlearn: 0.4241253\ttotal: 168ms\tremaining: 50.2ms\n",
            "77:\tlearn: 0.4231227\ttotal: 171ms\tremaining: 48.3ms\n",
            "78:\tlearn: 0.4225713\ttotal: 176ms\tremaining: 46.8ms\n",
            "79:\tlearn: 0.4211630\ttotal: 181ms\tremaining: 45.3ms\n",
            "80:\tlearn: 0.4207539\ttotal: 184ms\tremaining: 43.1ms\n",
            "81:\tlearn: 0.4199942\ttotal: 186ms\tremaining: 40.8ms\n",
            "82:\tlearn: 0.4189399\ttotal: 188ms\tremaining: 38.5ms\n",
            "83:\tlearn: 0.4185056\ttotal: 190ms\tremaining: 36.2ms\n",
            "84:\tlearn: 0.4181218\ttotal: 192ms\tremaining: 34ms\n",
            "85:\tlearn: 0.4175247\ttotal: 195ms\tremaining: 31.7ms\n",
            "86:\tlearn: 0.4163616\ttotal: 197ms\tremaining: 29.4ms\n",
            "87:\tlearn: 0.4160700\ttotal: 199ms\tremaining: 27.1ms\n",
            "88:\tlearn: 0.4149716\ttotal: 201ms\tremaining: 24.9ms\n",
            "89:\tlearn: 0.4133671\ttotal: 203ms\tremaining: 22.6ms\n",
            "90:\tlearn: 0.4125472\ttotal: 206ms\tremaining: 20.4ms\n",
            "91:\tlearn: 0.4115912\ttotal: 208ms\tremaining: 18.1ms\n",
            "92:\tlearn: 0.4109041\ttotal: 211ms\tremaining: 15.8ms\n",
            "93:\tlearn: 0.4099766\ttotal: 213ms\tremaining: 13.6ms\n",
            "94:\tlearn: 0.4092527\ttotal: 215ms\tremaining: 11.3ms\n",
            "95:\tlearn: 0.4087330\ttotal: 217ms\tremaining: 9.04ms\n",
            "96:\tlearn: 0.4083033\ttotal: 219ms\tremaining: 6.78ms\n",
            "97:\tlearn: 0.4070765\ttotal: 222ms\tremaining: 4.52ms\n",
            "98:\tlearn: 0.4062139\ttotal: 224ms\tremaining: 2.26ms\n",
            "99:\tlearn: 0.4056034\ttotal: 226ms\tremaining: 0us\n",
            "0:\tlearn: 0.5432267\ttotal: 2.44ms\tremaining: 241ms\n",
            "1:\tlearn: 0.5374817\ttotal: 4.91ms\tremaining: 241ms\n",
            "2:\tlearn: 0.5333795\ttotal: 7.3ms\tremaining: 236ms\n",
            "3:\tlearn: 0.5294508\ttotal: 9.5ms\tremaining: 228ms\n",
            "4:\tlearn: 0.5257117\ttotal: 11.7ms\tremaining: 222ms\n",
            "5:\tlearn: 0.5231663\ttotal: 14ms\tremaining: 219ms\n",
            "6:\tlearn: 0.5201184\ttotal: 16.2ms\tremaining: 215ms\n",
            "7:\tlearn: 0.5181177\ttotal: 18.5ms\tremaining: 212ms\n",
            "8:\tlearn: 0.5163584\ttotal: 20.8ms\tremaining: 210ms\n",
            "9:\tlearn: 0.5133401\ttotal: 22.9ms\tremaining: 206ms\n",
            "10:\tlearn: 0.5117969\ttotal: 25.1ms\tremaining: 203ms\n",
            "11:\tlearn: 0.5098603\ttotal: 27.3ms\tremaining: 200ms\n",
            "12:\tlearn: 0.5084003\ttotal: 29.5ms\tremaining: 197ms\n",
            "13:\tlearn: 0.5068277\ttotal: 31.5ms\tremaining: 194ms\n",
            "14:\tlearn: 0.5051379\ttotal: 33.7ms\tremaining: 191ms\n",
            "15:\tlearn: 0.5039661\ttotal: 35.8ms\tremaining: 188ms\n",
            "16:\tlearn: 0.5024305\ttotal: 38.1ms\tremaining: 186ms\n",
            "17:\tlearn: 0.5017155\ttotal: 40.3ms\tremaining: 184ms\n",
            "18:\tlearn: 0.5006710\ttotal: 42.4ms\tremaining: 181ms\n",
            "19:\tlearn: 0.4995311\ttotal: 44.5ms\tremaining: 178ms\n",
            "20:\tlearn: 0.4982959\ttotal: 46.5ms\tremaining: 175ms\n",
            "21:\tlearn: 0.4967837\ttotal: 48.5ms\tremaining: 172ms\n",
            "22:\tlearn: 0.4951517\ttotal: 50.6ms\tremaining: 169ms\n",
            "23:\tlearn: 0.4926496\ttotal: 52.7ms\tremaining: 167ms\n",
            "24:\tlearn: 0.4912666\ttotal: 54.8ms\tremaining: 164ms\n",
            "25:\tlearn: 0.4897202\ttotal: 56.9ms\tremaining: 162ms\n",
            "26:\tlearn: 0.4888777\ttotal: 59.2ms\tremaining: 160ms\n",
            "27:\tlearn: 0.4885346\ttotal: 61.3ms\tremaining: 158ms\n",
            "28:\tlearn: 0.4865593\ttotal: 65.1ms\tremaining: 159ms\n",
            "29:\tlearn: 0.4856033\ttotal: 67.4ms\tremaining: 157ms\n",
            "30:\tlearn: 0.4841298\ttotal: 69.6ms\tremaining: 155ms\n",
            "31:\tlearn: 0.4832675\ttotal: 71.8ms\tremaining: 153ms\n",
            "32:\tlearn: 0.4821950\ttotal: 73.9ms\tremaining: 150ms\n",
            "33:\tlearn: 0.4811513\ttotal: 76.1ms\tremaining: 148ms\n",
            "34:\tlearn: 0.4804099\ttotal: 78.1ms\tremaining: 145ms\n",
            "35:\tlearn: 0.4795112\ttotal: 80.3ms\tremaining: 143ms\n",
            "36:\tlearn: 0.4787998\ttotal: 87.7ms\tremaining: 149ms\n",
            "37:\tlearn: 0.4771401\ttotal: 90.5ms\tremaining: 148ms\n",
            "38:\tlearn: 0.4758914\ttotal: 94.7ms\tremaining: 148ms\n",
            "39:\tlearn: 0.4746653\ttotal: 105ms\tremaining: 158ms\n",
            "40:\tlearn: 0.4738797\ttotal: 108ms\tremaining: 155ms\n",
            "41:\tlearn: 0.4731148\ttotal: 110ms\tremaining: 152ms\n",
            "42:\tlearn: 0.4713782\ttotal: 112ms\tremaining: 149ms\n",
            "43:\tlearn: 0.4703956\ttotal: 114ms\tremaining: 146ms\n",
            "44:\tlearn: 0.4697280\ttotal: 116ms\tremaining: 142ms\n",
            "45:\tlearn: 0.4690240\ttotal: 119ms\tremaining: 140ms\n",
            "46:\tlearn: 0.4684538\ttotal: 121ms\tremaining: 136ms\n",
            "47:\tlearn: 0.4681390\ttotal: 123ms\tremaining: 134ms\n",
            "48:\tlearn: 0.4674260\ttotal: 126ms\tremaining: 131ms\n",
            "49:\tlearn: 0.4655586\ttotal: 128ms\tremaining: 128ms\n",
            "50:\tlearn: 0.4640645\ttotal: 130ms\tremaining: 125ms\n",
            "51:\tlearn: 0.4631482\ttotal: 132ms\tremaining: 122ms\n",
            "52:\tlearn: 0.4621971\ttotal: 134ms\tremaining: 119ms\n",
            "53:\tlearn: 0.4608328\ttotal: 136ms\tremaining: 116ms\n",
            "54:\tlearn: 0.4596726\ttotal: 138ms\tremaining: 113ms\n",
            "55:\tlearn: 0.4589723\ttotal: 140ms\tremaining: 110ms\n",
            "56:\tlearn: 0.4584596\ttotal: 142ms\tremaining: 107ms\n",
            "57:\tlearn: 0.4576575\ttotal: 145ms\tremaining: 105ms\n",
            "58:\tlearn: 0.4564351\ttotal: 147ms\tremaining: 102ms\n",
            "59:\tlearn: 0.4552982\ttotal: 149ms\tremaining: 99.2ms\n",
            "60:\tlearn: 0.4540765\ttotal: 151ms\tremaining: 96.5ms\n",
            "61:\tlearn: 0.4529622\ttotal: 153ms\tremaining: 93.8ms\n",
            "62:\tlearn: 0.4525135\ttotal: 155ms\tremaining: 91.1ms\n",
            "63:\tlearn: 0.4518396\ttotal: 157ms\tremaining: 88.5ms\n",
            "64:\tlearn: 0.4503375\ttotal: 159ms\tremaining: 85.8ms\n",
            "65:\tlearn: 0.4493130\ttotal: 161ms\tremaining: 83.1ms\n",
            "66:\tlearn: 0.4482701\ttotal: 164ms\tremaining: 80.5ms\n",
            "67:\tlearn: 0.4469994\ttotal: 166ms\tremaining: 77.9ms\n",
            "68:\tlearn: 0.4457419\ttotal: 168ms\tremaining: 75.3ms\n",
            "69:\tlearn: 0.4442280\ttotal: 170ms\tremaining: 72.7ms\n",
            "70:\tlearn: 0.4427792\ttotal: 172ms\tremaining: 70.2ms\n",
            "71:\tlearn: 0.4419848\ttotal: 175ms\tremaining: 68.2ms\n",
            "72:\tlearn: 0.4413669\ttotal: 178ms\tremaining: 65.8ms\n",
            "73:\tlearn: 0.4407774\ttotal: 180ms\tremaining: 63.2ms\n",
            "74:\tlearn: 0.4399383\ttotal: 182ms\tremaining: 60.7ms\n",
            "75:\tlearn: 0.4394160\ttotal: 184ms\tremaining: 58.1ms\n",
            "76:\tlearn: 0.4387699\ttotal: 186ms\tremaining: 55.6ms\n",
            "77:\tlearn: 0.4379525\ttotal: 188ms\tremaining: 53.1ms\n",
            "78:\tlearn: 0.4368391\ttotal: 190ms\tremaining: 50.6ms\n",
            "79:\tlearn: 0.4360041\ttotal: 193ms\tremaining: 48.2ms\n",
            "80:\tlearn: 0.4351975\ttotal: 195ms\tremaining: 45.7ms\n",
            "81:\tlearn: 0.4345321\ttotal: 197ms\tremaining: 43.3ms\n",
            "82:\tlearn: 0.4337382\ttotal: 199ms\tremaining: 40.8ms\n",
            "83:\tlearn: 0.4329320\ttotal: 201ms\tremaining: 38.3ms\n",
            "84:\tlearn: 0.4323510\ttotal: 204ms\tremaining: 35.9ms\n",
            "85:\tlearn: 0.4317965\ttotal: 206ms\tremaining: 33.5ms\n",
            "86:\tlearn: 0.4313767\ttotal: 208ms\tremaining: 31.1ms\n",
            "87:\tlearn: 0.4306903\ttotal: 210ms\tremaining: 28.7ms\n",
            "88:\tlearn: 0.4300101\ttotal: 212ms\tremaining: 26.2ms\n",
            "89:\tlearn: 0.4296195\ttotal: 214ms\tremaining: 23.8ms\n",
            "90:\tlearn: 0.4290123\ttotal: 217ms\tremaining: 21.4ms\n",
            "91:\tlearn: 0.4281772\ttotal: 219ms\tremaining: 19ms\n",
            "92:\tlearn: 0.4272275\ttotal: 221ms\tremaining: 16.6ms\n",
            "93:\tlearn: 0.4265021\ttotal: 223ms\tremaining: 14.2ms\n",
            "94:\tlearn: 0.4255120\ttotal: 225ms\tremaining: 11.9ms\n",
            "95:\tlearn: 0.4246262\ttotal: 227ms\tremaining: 9.48ms\n",
            "96:\tlearn: 0.4243493\ttotal: 230ms\tremaining: 7.1ms\n",
            "97:\tlearn: 0.4239489\ttotal: 232ms\tremaining: 4.73ms\n",
            "98:\tlearn: 0.4230929\ttotal: 235ms\tremaining: 2.37ms\n",
            "99:\tlearn: 0.4223649\ttotal: 237ms\tremaining: 0us\n",
            "0:\tlearn: 0.5298600\ttotal: 2.35ms\tremaining: 233ms\n",
            "1:\tlearn: 0.5234632\ttotal: 4.69ms\tremaining: 230ms\n",
            "2:\tlearn: 0.5184028\ttotal: 6.98ms\tremaining: 226ms\n",
            "3:\tlearn: 0.5146910\ttotal: 9.05ms\tremaining: 217ms\n",
            "4:\tlearn: 0.5112271\ttotal: 11.2ms\tremaining: 213ms\n",
            "5:\tlearn: 0.5080095\ttotal: 13.4ms\tremaining: 211ms\n",
            "6:\tlearn: 0.5055509\ttotal: 15.6ms\tremaining: 207ms\n",
            "7:\tlearn: 0.5035756\ttotal: 17.5ms\tremaining: 202ms\n",
            "8:\tlearn: 0.5011752\ttotal: 22.7ms\tremaining: 229ms\n",
            "9:\tlearn: 0.4989187\ttotal: 27.3ms\tremaining: 246ms\n",
            "10:\tlearn: 0.4971187\ttotal: 31.8ms\tremaining: 257ms\n",
            "11:\tlearn: 0.4954545\ttotal: 34.3ms\tremaining: 252ms\n",
            "12:\tlearn: 0.4941887\ttotal: 36.5ms\tremaining: 244ms\n",
            "13:\tlearn: 0.4922127\ttotal: 38.5ms\tremaining: 237ms\n",
            "14:\tlearn: 0.4906755\ttotal: 40.8ms\tremaining: 231ms\n",
            "15:\tlearn: 0.4892677\ttotal: 42.9ms\tremaining: 225ms\n",
            "16:\tlearn: 0.4877772\ttotal: 45.1ms\tremaining: 220ms\n",
            "17:\tlearn: 0.4866315\ttotal: 47.2ms\tremaining: 215ms\n",
            "18:\tlearn: 0.4850239\ttotal: 49.4ms\tremaining: 210ms\n",
            "19:\tlearn: 0.4840794\ttotal: 51.4ms\tremaining: 206ms\n",
            "20:\tlearn: 0.4825061\ttotal: 53.5ms\tremaining: 201ms\n",
            "21:\tlearn: 0.4813788\ttotal: 55.7ms\tremaining: 197ms\n",
            "22:\tlearn: 0.4807027\ttotal: 57.8ms\tremaining: 194ms\n",
            "23:\tlearn: 0.4799080\ttotal: 60.1ms\tremaining: 190ms\n",
            "24:\tlearn: 0.4787218\ttotal: 62.2ms\tremaining: 187ms\n",
            "25:\tlearn: 0.4781709\ttotal: 64.4ms\tremaining: 183ms\n",
            "26:\tlearn: 0.4773595\ttotal: 66.5ms\tremaining: 180ms\n",
            "27:\tlearn: 0.4766168\ttotal: 68.7ms\tremaining: 177ms\n",
            "28:\tlearn: 0.4759832\ttotal: 70.8ms\tremaining: 173ms\n",
            "29:\tlearn: 0.4745570\ttotal: 72.9ms\tremaining: 170ms\n",
            "30:\tlearn: 0.4720888\ttotal: 75ms\tremaining: 167ms\n",
            "31:\tlearn: 0.4712858\ttotal: 77.1ms\tremaining: 164ms\n",
            "32:\tlearn: 0.4699128\ttotal: 79.2ms\tremaining: 161ms\n",
            "33:\tlearn: 0.4687587\ttotal: 81.3ms\tremaining: 158ms\n",
            "34:\tlearn: 0.4678078\ttotal: 83.4ms\tremaining: 155ms\n",
            "35:\tlearn: 0.4659652\ttotal: 86.1ms\tremaining: 153ms\n",
            "36:\tlearn: 0.4648536\ttotal: 88.2ms\tremaining: 150ms\n",
            "37:\tlearn: 0.4642276\ttotal: 90.3ms\tremaining: 147ms\n",
            "38:\tlearn: 0.4633756\ttotal: 92.5ms\tremaining: 145ms\n",
            "39:\tlearn: 0.4622621\ttotal: 94.5ms\tremaining: 142ms\n",
            "40:\tlearn: 0.4615321\ttotal: 96.6ms\tremaining: 139ms\n",
            "41:\tlearn: 0.4608843\ttotal: 98.6ms\tremaining: 136ms\n",
            "42:\tlearn: 0.4583972\ttotal: 101ms\tremaining: 134ms\n",
            "43:\tlearn: 0.4572820\ttotal: 104ms\tremaining: 133ms\n",
            "44:\tlearn: 0.4568393\ttotal: 112ms\tremaining: 137ms\n",
            "45:\tlearn: 0.4559127\ttotal: 116ms\tremaining: 137ms\n",
            "46:\tlearn: 0.4555534\ttotal: 119ms\tremaining: 134ms\n",
            "47:\tlearn: 0.4547003\ttotal: 121ms\tremaining: 131ms\n",
            "48:\tlearn: 0.4538169\ttotal: 124ms\tremaining: 129ms\n",
            "49:\tlearn: 0.4523168\ttotal: 126ms\tremaining: 126ms\n",
            "50:\tlearn: 0.4514301\ttotal: 128ms\tremaining: 123ms\n",
            "51:\tlearn: 0.4507428\ttotal: 130ms\tremaining: 120ms\n",
            "52:\tlearn: 0.4494859\ttotal: 132ms\tremaining: 117ms\n",
            "53:\tlearn: 0.4487832\ttotal: 135ms\tremaining: 115ms\n",
            "54:\tlearn: 0.4480904\ttotal: 137ms\tremaining: 112ms\n",
            "55:\tlearn: 0.4471169\ttotal: 141ms\tremaining: 111ms\n",
            "56:\tlearn: 0.4465772\ttotal: 143ms\tremaining: 108ms\n",
            "57:\tlearn: 0.4461444\ttotal: 145ms\tremaining: 105ms\n",
            "58:\tlearn: 0.4457321\ttotal: 147ms\tremaining: 102ms\n",
            "59:\tlearn: 0.4445277\ttotal: 150ms\tremaining: 99.7ms\n",
            "60:\tlearn: 0.4423969\ttotal: 152ms\tremaining: 97.1ms\n",
            "61:\tlearn: 0.4412539\ttotal: 154ms\tremaining: 94.4ms\n",
            "62:\tlearn: 0.4399700\ttotal: 156ms\tremaining: 91.7ms\n",
            "63:\tlearn: 0.4388490\ttotal: 158ms\tremaining: 89.1ms\n",
            "64:\tlearn: 0.4385245\ttotal: 160ms\tremaining: 86.4ms\n",
            "65:\tlearn: 0.4374419\ttotal: 163ms\tremaining: 83.9ms\n",
            "66:\tlearn: 0.4365142\ttotal: 165ms\tremaining: 81.3ms\n",
            "67:\tlearn: 0.4358170\ttotal: 167ms\tremaining: 78.7ms\n",
            "68:\tlearn: 0.4344996\ttotal: 169ms\tremaining: 76.1ms\n",
            "69:\tlearn: 0.4334940\ttotal: 172ms\tremaining: 73.5ms\n",
            "70:\tlearn: 0.4324345\ttotal: 174ms\tremaining: 71ms\n",
            "71:\tlearn: 0.4313313\ttotal: 176ms\tremaining: 68.5ms\n",
            "72:\tlearn: 0.4308340\ttotal: 178ms\tremaining: 66ms\n",
            "73:\tlearn: 0.4300259\ttotal: 180ms\tremaining: 63.4ms\n",
            "74:\tlearn: 0.4288413\ttotal: 183ms\tremaining: 60.9ms\n",
            "75:\tlearn: 0.4283204\ttotal: 185ms\tremaining: 58.5ms\n",
            "76:\tlearn: 0.4269913\ttotal: 187ms\tremaining: 55.9ms\n",
            "77:\tlearn: 0.4263012\ttotal: 189ms\tremaining: 53.4ms\n",
            "78:\tlearn: 0.4258597\ttotal: 191ms\tremaining: 50.9ms\n",
            "79:\tlearn: 0.4249097\ttotal: 194ms\tremaining: 48.4ms\n",
            "80:\tlearn: 0.4238229\ttotal: 196ms\tremaining: 45.9ms\n",
            "81:\tlearn: 0.4225772\ttotal: 198ms\tremaining: 43.4ms\n",
            "82:\tlearn: 0.4213812\ttotal: 200ms\tremaining: 41ms\n",
            "83:\tlearn: 0.4205812\ttotal: 202ms\tremaining: 38.5ms\n",
            "84:\tlearn: 0.4197348\ttotal: 204ms\tremaining: 36.1ms\n",
            "85:\tlearn: 0.4190125\ttotal: 210ms\tremaining: 34.3ms\n",
            "86:\tlearn: 0.4182599\ttotal: 214ms\tremaining: 32ms\n",
            "87:\tlearn: 0.4172612\ttotal: 216ms\tremaining: 29.5ms\n",
            "88:\tlearn: 0.4162863\ttotal: 218ms\tremaining: 27ms\n",
            "89:\tlearn: 0.4158269\ttotal: 220ms\tremaining: 24.5ms\n",
            "90:\tlearn: 0.4151439\ttotal: 223ms\tremaining: 22ms\n",
            "91:\tlearn: 0.4146483\ttotal: 225ms\tremaining: 19.5ms\n",
            "92:\tlearn: 0.4141577\ttotal: 227ms\tremaining: 17.1ms\n",
            "93:\tlearn: 0.4127192\ttotal: 229ms\tremaining: 14.6ms\n",
            "94:\tlearn: 0.4123397\ttotal: 231ms\tremaining: 12.2ms\n",
            "95:\tlearn: 0.4116858\ttotal: 233ms\tremaining: 9.72ms\n",
            "96:\tlearn: 0.4109675\ttotal: 236ms\tremaining: 7.28ms\n",
            "97:\tlearn: 0.4105085\ttotal: 238ms\tremaining: 4.85ms\n",
            "98:\tlearn: 0.4097982\ttotal: 240ms\tremaining: 2.42ms\n",
            "99:\tlearn: 0.4091017\ttotal: 242ms\tremaining: 0us\n",
            "0:\tlearn: 0.5224791\ttotal: 2.47ms\tremaining: 245ms\n",
            "1:\tlearn: 0.5158423\ttotal: 4.91ms\tremaining: 241ms\n",
            "2:\tlearn: 0.5113525\ttotal: 7.11ms\tremaining: 230ms\n",
            "3:\tlearn: 0.5068524\ttotal: 9.4ms\tremaining: 226ms\n",
            "4:\tlearn: 0.5032702\ttotal: 11.5ms\tremaining: 219ms\n",
            "5:\tlearn: 0.5002553\ttotal: 13.6ms\tremaining: 213ms\n",
            "6:\tlearn: 0.4977844\ttotal: 15.8ms\tremaining: 210ms\n",
            "7:\tlearn: 0.4956427\ttotal: 18ms\tremaining: 207ms\n",
            "8:\tlearn: 0.4938663\ttotal: 20.2ms\tremaining: 205ms\n",
            "9:\tlearn: 0.4916261\ttotal: 22.4ms\tremaining: 202ms\n",
            "10:\tlearn: 0.4899446\ttotal: 24.6ms\tremaining: 199ms\n",
            "11:\tlearn: 0.4885862\ttotal: 26.6ms\tremaining: 195ms\n",
            "12:\tlearn: 0.4870352\ttotal: 28.9ms\tremaining: 193ms\n",
            "13:\tlearn: 0.4851236\ttotal: 31ms\tremaining: 191ms\n",
            "14:\tlearn: 0.4838321\ttotal: 33.1ms\tremaining: 187ms\n",
            "15:\tlearn: 0.4826952\ttotal: 35.2ms\tremaining: 185ms\n",
            "16:\tlearn: 0.4809771\ttotal: 38.3ms\tremaining: 187ms\n",
            "17:\tlearn: 0.4798943\ttotal: 41.2ms\tremaining: 188ms\n",
            "18:\tlearn: 0.4786426\ttotal: 43.4ms\tremaining: 185ms\n",
            "19:\tlearn: 0.4776177\ttotal: 45.5ms\tremaining: 182ms\n",
            "20:\tlearn: 0.4759142\ttotal: 47.6ms\tremaining: 179ms\n",
            "21:\tlearn: 0.4741570\ttotal: 49.8ms\tremaining: 176ms\n",
            "22:\tlearn: 0.4728605\ttotal: 52ms\tremaining: 174ms\n",
            "23:\tlearn: 0.4719411\ttotal: 54.2ms\tremaining: 172ms\n",
            "24:\tlearn: 0.4709046\ttotal: 56.4ms\tremaining: 169ms\n",
            "25:\tlearn: 0.4697464\ttotal: 58.5ms\tremaining: 166ms\n",
            "26:\tlearn: 0.4686705\ttotal: 60.6ms\tremaining: 164ms\n",
            "27:\tlearn: 0.4671181\ttotal: 62.7ms\tremaining: 161ms\n",
            "28:\tlearn: 0.4660869\ttotal: 65ms\tremaining: 159ms\n",
            "29:\tlearn: 0.4649352\ttotal: 67.1ms\tremaining: 157ms\n",
            "30:\tlearn: 0.4641836\ttotal: 69.3ms\tremaining: 154ms\n",
            "31:\tlearn: 0.4636644\ttotal: 71.8ms\tremaining: 152ms\n",
            "32:\tlearn: 0.4625702\ttotal: 73.8ms\tremaining: 150ms\n",
            "33:\tlearn: 0.4609837\ttotal: 76ms\tremaining: 148ms\n",
            "34:\tlearn: 0.4596080\ttotal: 78.2ms\tremaining: 145ms\n",
            "35:\tlearn: 0.4581894\ttotal: 80.4ms\tremaining: 143ms\n",
            "36:\tlearn: 0.4573670\ttotal: 82.6ms\tremaining: 141ms\n",
            "37:\tlearn: 0.4555382\ttotal: 84.8ms\tremaining: 138ms\n",
            "38:\tlearn: 0.4542567\ttotal: 86.9ms\tremaining: 136ms\n",
            "39:\tlearn: 0.4536752\ttotal: 89.4ms\tremaining: 134ms\n",
            "40:\tlearn: 0.4526963\ttotal: 91.6ms\tremaining: 132ms\n",
            "41:\tlearn: 0.4516610\ttotal: 93.9ms\tremaining: 130ms\n",
            "42:\tlearn: 0.4499588\ttotal: 96.1ms\tremaining: 127ms\n",
            "43:\tlearn: 0.4487145\ttotal: 98.2ms\tremaining: 125ms\n",
            "44:\tlearn: 0.4474692\ttotal: 100ms\tremaining: 123ms\n",
            "45:\tlearn: 0.4459233\ttotal: 102ms\tremaining: 120ms\n",
            "46:\tlearn: 0.4453951\ttotal: 105ms\tremaining: 118ms\n",
            "47:\tlearn: 0.4450005\ttotal: 107ms\tremaining: 116ms\n",
            "48:\tlearn: 0.4442916\ttotal: 109ms\tremaining: 113ms\n",
            "49:\tlearn: 0.4435506\ttotal: 111ms\tremaining: 111ms\n",
            "50:\tlearn: 0.4427311\ttotal: 113ms\tremaining: 109ms\n",
            "51:\tlearn: 0.4420434\ttotal: 116ms\tremaining: 107ms\n",
            "52:\tlearn: 0.4413277\ttotal: 118ms\tremaining: 104ms\n",
            "53:\tlearn: 0.4407446\ttotal: 120ms\tremaining: 102ms\n",
            "54:\tlearn: 0.4397625\ttotal: 122ms\tremaining: 99.8ms\n",
            "55:\tlearn: 0.4391138\ttotal: 128ms\tremaining: 101ms\n",
            "56:\tlearn: 0.4378587\ttotal: 132ms\tremaining: 99.3ms\n",
            "57:\tlearn: 0.4368673\ttotal: 134ms\tremaining: 97.3ms\n",
            "58:\tlearn: 0.4362870\ttotal: 137ms\tremaining: 95.2ms\n",
            "59:\tlearn: 0.4357024\ttotal: 139ms\tremaining: 92.8ms\n",
            "60:\tlearn: 0.4346914\ttotal: 141ms\tremaining: 90.4ms\n",
            "61:\tlearn: 0.4339294\ttotal: 144ms\tremaining: 88ms\n",
            "62:\tlearn: 0.4333778\ttotal: 146ms\tremaining: 85.6ms\n",
            "63:\tlearn: 0.4327804\ttotal: 148ms\tremaining: 83.2ms\n",
            "64:\tlearn: 0.4322275\ttotal: 150ms\tremaining: 80.8ms\n",
            "65:\tlearn: 0.4314852\ttotal: 152ms\tremaining: 78.5ms\n",
            "66:\tlearn: 0.4298924\ttotal: 154ms\tremaining: 76.1ms\n",
            "67:\tlearn: 0.4293465\ttotal: 157ms\tremaining: 73.7ms\n",
            "68:\tlearn: 0.4281505\ttotal: 159ms\tremaining: 71.4ms\n",
            "69:\tlearn: 0.4267161\ttotal: 161ms\tremaining: 69ms\n",
            "70:\tlearn: 0.4260011\ttotal: 163ms\tremaining: 66.7ms\n",
            "71:\tlearn: 0.4252284\ttotal: 168ms\tremaining: 65.3ms\n",
            "72:\tlearn: 0.4247802\ttotal: 172ms\tremaining: 63.8ms\n",
            "73:\tlearn: 0.4240867\ttotal: 175ms\tremaining: 61.4ms\n",
            "74:\tlearn: 0.4231978\ttotal: 177ms\tremaining: 59ms\n",
            "75:\tlearn: 0.4229018\ttotal: 179ms\tremaining: 56.5ms\n",
            "76:\tlearn: 0.4217036\ttotal: 181ms\tremaining: 54.1ms\n",
            "77:\tlearn: 0.4208403\ttotal: 183ms\tremaining: 51.7ms\n",
            "78:\tlearn: 0.4205677\ttotal: 185ms\tremaining: 49.3ms\n",
            "79:\tlearn: 0.4201070\ttotal: 188ms\tremaining: 46.9ms\n",
            "80:\tlearn: 0.4192913\ttotal: 190ms\tremaining: 44.5ms\n",
            "81:\tlearn: 0.4183050\ttotal: 192ms\tremaining: 42.2ms\n",
            "82:\tlearn: 0.4168586\ttotal: 194ms\tremaining: 39.8ms\n",
            "83:\tlearn: 0.4160724\ttotal: 197ms\tremaining: 37.5ms\n",
            "84:\tlearn: 0.4153652\ttotal: 199ms\tremaining: 35.1ms\n",
            "85:\tlearn: 0.4146467\ttotal: 201ms\tremaining: 32.7ms\n",
            "86:\tlearn: 0.4133915\ttotal: 203ms\tremaining: 30.4ms\n",
            "87:\tlearn: 0.4128031\ttotal: 205ms\tremaining: 28ms\n",
            "88:\tlearn: 0.4123376\ttotal: 208ms\tremaining: 25.7ms\n",
            "89:\tlearn: 0.4116841\ttotal: 210ms\tremaining: 23.3ms\n",
            "90:\tlearn: 0.4109258\ttotal: 212ms\tremaining: 21ms\n",
            "91:\tlearn: 0.4103303\ttotal: 214ms\tremaining: 18.6ms\n",
            "92:\tlearn: 0.4098732\ttotal: 216ms\tremaining: 16.3ms\n",
            "93:\tlearn: 0.4088465\ttotal: 218ms\tremaining: 13.9ms\n",
            "94:\tlearn: 0.4085061\ttotal: 220ms\tremaining: 11.6ms\n",
            "95:\tlearn: 0.4072965\ttotal: 222ms\tremaining: 9.27ms\n",
            "96:\tlearn: 0.4070700\ttotal: 224ms\tremaining: 6.94ms\n",
            "97:\tlearn: 0.4063448\ttotal: 227ms\tremaining: 4.63ms\n",
            "98:\tlearn: 0.4055075\ttotal: 229ms\tremaining: 2.31ms\n",
            "99:\tlearn: 0.4051811\ttotal: 231ms\tremaining: 0us\n",
            "0:\tlearn: 0.5267872\ttotal: 2.43ms\tremaining: 241ms\n",
            "1:\tlearn: 0.5199793\ttotal: 4.72ms\tremaining: 231ms\n",
            "2:\tlearn: 0.5151186\ttotal: 6.96ms\tremaining: 225ms\n",
            "3:\tlearn: 0.5109410\ttotal: 9.2ms\tremaining: 221ms\n",
            "4:\tlearn: 0.5073612\ttotal: 11.5ms\tremaining: 218ms\n",
            "5:\tlearn: 0.5048533\ttotal: 13.7ms\tremaining: 214ms\n",
            "6:\tlearn: 0.5019707\ttotal: 17.2ms\tremaining: 228ms\n",
            "7:\tlearn: 0.5000020\ttotal: 21.8ms\tremaining: 250ms\n",
            "8:\tlearn: 0.4981542\ttotal: 24.1ms\tremaining: 244ms\n",
            "9:\tlearn: 0.4961827\ttotal: 26.4ms\tremaining: 238ms\n",
            "10:\tlearn: 0.4945269\ttotal: 28.6ms\tremaining: 231ms\n",
            "11:\tlearn: 0.4930286\ttotal: 30.7ms\tremaining: 225ms\n",
            "12:\tlearn: 0.4914449\ttotal: 32.9ms\tremaining: 220ms\n",
            "13:\tlearn: 0.4900644\ttotal: 35ms\tremaining: 215ms\n",
            "14:\tlearn: 0.4889097\ttotal: 38.5ms\tremaining: 218ms\n",
            "15:\tlearn: 0.4874464\ttotal: 43.7ms\tremaining: 229ms\n",
            "16:\tlearn: 0.4857886\ttotal: 47.5ms\tremaining: 232ms\n",
            "17:\tlearn: 0.4843797\ttotal: 49.6ms\tremaining: 226ms\n",
            "18:\tlearn: 0.4837721\ttotal: 51.7ms\tremaining: 221ms\n",
            "19:\tlearn: 0.4826985\ttotal: 54ms\tremaining: 216ms\n",
            "20:\tlearn: 0.4816153\ttotal: 56.4ms\tremaining: 212ms\n",
            "21:\tlearn: 0.4803392\ttotal: 58.6ms\tremaining: 208ms\n",
            "22:\tlearn: 0.4790850\ttotal: 61ms\tremaining: 204ms\n",
            "23:\tlearn: 0.4779540\ttotal: 63.4ms\tremaining: 201ms\n",
            "24:\tlearn: 0.4773705\ttotal: 65.7ms\tremaining: 197ms\n",
            "25:\tlearn: 0.4763953\ttotal: 67.9ms\tremaining: 193ms\n",
            "26:\tlearn: 0.4754820\ttotal: 70ms\tremaining: 189ms\n",
            "27:\tlearn: 0.4747478\ttotal: 72.3ms\tremaining: 186ms\n",
            "28:\tlearn: 0.4732098\ttotal: 74.5ms\tremaining: 182ms\n",
            "29:\tlearn: 0.4724268\ttotal: 76.6ms\tremaining: 179ms\n",
            "30:\tlearn: 0.4707935\ttotal: 78.7ms\tremaining: 175ms\n",
            "31:\tlearn: 0.4695004\ttotal: 80.9ms\tremaining: 172ms\n",
            "32:\tlearn: 0.4684413\ttotal: 83.2ms\tremaining: 169ms\n",
            "33:\tlearn: 0.4673885\ttotal: 85.4ms\tremaining: 166ms\n",
            "34:\tlearn: 0.4667416\ttotal: 87.6ms\tremaining: 163ms\n",
            "35:\tlearn: 0.4658373\ttotal: 89.8ms\tremaining: 160ms\n",
            "36:\tlearn: 0.4651240\ttotal: 92ms\tremaining: 157ms\n",
            "37:\tlearn: 0.4642269\ttotal: 94.1ms\tremaining: 154ms\n",
            "38:\tlearn: 0.4626178\ttotal: 96.3ms\tremaining: 151ms\n",
            "39:\tlearn: 0.4616870\ttotal: 98.5ms\tremaining: 148ms\n",
            "40:\tlearn: 0.4607988\ttotal: 101ms\tremaining: 145ms\n",
            "41:\tlearn: 0.4596022\ttotal: 103ms\tremaining: 142ms\n",
            "42:\tlearn: 0.4578495\ttotal: 105ms\tremaining: 139ms\n",
            "43:\tlearn: 0.4562808\ttotal: 107ms\tremaining: 136ms\n",
            "44:\tlearn: 0.4555594\ttotal: 109ms\tremaining: 133ms\n",
            "45:\tlearn: 0.4549081\ttotal: 111ms\tremaining: 131ms\n",
            "46:\tlearn: 0.4546911\ttotal: 113ms\tremaining: 128ms\n",
            "47:\tlearn: 0.4538537\ttotal: 115ms\tremaining: 125ms\n",
            "48:\tlearn: 0.4527915\ttotal: 118ms\tremaining: 122ms\n",
            "49:\tlearn: 0.4514308\ttotal: 120ms\tremaining: 120ms\n",
            "50:\tlearn: 0.4505988\ttotal: 122ms\tremaining: 117ms\n",
            "51:\tlearn: 0.4495152\ttotal: 124ms\tremaining: 114ms\n",
            "52:\tlearn: 0.4486413\ttotal: 126ms\tremaining: 112ms\n",
            "53:\tlearn: 0.4472944\ttotal: 128ms\tremaining: 109ms\n",
            "54:\tlearn: 0.4468575\ttotal: 130ms\tremaining: 107ms\n",
            "55:\tlearn: 0.4457718\ttotal: 132ms\tremaining: 104ms\n",
            "56:\tlearn: 0.4447728\ttotal: 134ms\tremaining: 101ms\n",
            "57:\tlearn: 0.4440045\ttotal: 136ms\tremaining: 98.8ms\n",
            "58:\tlearn: 0.4434104\ttotal: 139ms\tremaining: 96.3ms\n",
            "59:\tlearn: 0.4427449\ttotal: 141ms\tremaining: 93.8ms\n",
            "60:\tlearn: 0.4417429\ttotal: 143ms\tremaining: 91.2ms\n",
            "61:\tlearn: 0.4409108\ttotal: 145ms\tremaining: 88.7ms\n",
            "62:\tlearn: 0.4404966\ttotal: 147ms\tremaining: 86.3ms\n",
            "63:\tlearn: 0.4395193\ttotal: 149ms\tremaining: 83.8ms\n",
            "64:\tlearn: 0.4385755\ttotal: 151ms\tremaining: 81.4ms\n",
            "65:\tlearn: 0.4374789\ttotal: 153ms\tremaining: 79ms\n",
            "66:\tlearn: 0.4369491\ttotal: 156ms\tremaining: 76.6ms\n",
            "67:\tlearn: 0.4363783\ttotal: 158ms\tremaining: 74.2ms\n",
            "68:\tlearn: 0.4357307\ttotal: 160ms\tremaining: 71.9ms\n",
            "69:\tlearn: 0.4348293\ttotal: 162ms\tremaining: 69.5ms\n",
            "70:\tlearn: 0.4338966\ttotal: 164ms\tremaining: 67.1ms\n",
            "71:\tlearn: 0.4327352\ttotal: 166ms\tremaining: 64.7ms\n",
            "72:\tlearn: 0.4319691\ttotal: 169ms\tremaining: 62.4ms\n",
            "73:\tlearn: 0.4314233\ttotal: 171ms\tremaining: 60ms\n",
            "74:\tlearn: 0.4305814\ttotal: 176ms\tremaining: 58.7ms\n",
            "75:\tlearn: 0.4299230\ttotal: 181ms\tremaining: 57.1ms\n",
            "76:\tlearn: 0.4290399\ttotal: 183ms\tremaining: 54.7ms\n",
            "77:\tlearn: 0.4282189\ttotal: 185ms\tremaining: 52.2ms\n",
            "78:\tlearn: 0.4273826\ttotal: 187ms\tremaining: 49.8ms\n",
            "79:\tlearn: 0.4257913\ttotal: 189ms\tremaining: 47.4ms\n",
            "80:\tlearn: 0.4253226\ttotal: 192ms\tremaining: 44.9ms\n",
            "81:\tlearn: 0.4245032\ttotal: 194ms\tremaining: 42.5ms\n",
            "82:\tlearn: 0.4236886\ttotal: 196ms\tremaining: 40.2ms\n",
            "83:\tlearn: 0.4231891\ttotal: 198ms\tremaining: 37.8ms\n",
            "84:\tlearn: 0.4224978\ttotal: 200ms\tremaining: 35.3ms\n",
            "85:\tlearn: 0.4217954\ttotal: 202ms\tremaining: 33ms\n",
            "86:\tlearn: 0.4205606\ttotal: 204ms\tremaining: 30.6ms\n",
            "87:\tlearn: 0.4200037\ttotal: 207ms\tremaining: 28.2ms\n",
            "88:\tlearn: 0.4193517\ttotal: 209ms\tremaining: 25.8ms\n",
            "89:\tlearn: 0.4189322\ttotal: 219ms\tremaining: 24.4ms\n",
            "90:\tlearn: 0.4175925\ttotal: 223ms\tremaining: 22ms\n",
            "91:\tlearn: 0.4170549\ttotal: 227ms\tremaining: 19.7ms\n",
            "92:\tlearn: 0.4167348\ttotal: 231ms\tremaining: 17.4ms\n",
            "93:\tlearn: 0.4156332\ttotal: 235ms\tremaining: 15ms\n",
            "94:\tlearn: 0.4145917\ttotal: 239ms\tremaining: 12.6ms\n",
            "95:\tlearn: 0.4137434\ttotal: 241ms\tremaining: 10ms\n",
            "96:\tlearn: 0.4127627\ttotal: 243ms\tremaining: 7.52ms\n",
            "97:\tlearn: 0.4116411\ttotal: 245ms\tremaining: 5.01ms\n",
            "98:\tlearn: 0.4112092\ttotal: 248ms\tremaining: 2.5ms\n",
            "99:\tlearn: 0.4105736\ttotal: 250ms\tremaining: 0us\n",
            "model :  RandomForestRegressor\n",
            "model :  LinearRegression\n"
          ],
          "name": "stdout"
        },
        {
          "output_type": "execute_result",
          "data": {
            "text/html": [
              "<div>\n",
              "<style scoped>\n",
              "    .dataframe tbody tr th:only-of-type {\n",
              "        vertical-align: middle;\n",
              "    }\n",
              "\n",
              "    .dataframe tbody tr th {\n",
              "        vertical-align: top;\n",
              "    }\n",
              "\n",
              "    .dataframe thead th {\n",
              "        text-align: right;\n",
              "    }\n",
              "</style>\n",
              "<table border=\"1\" class=\"dataframe\">\n",
              "  <thead>\n",
              "    <tr style=\"text-align: right;\">\n",
              "      <th></th>\n",
              "      <th>Id</th>\n",
              "      <th>Rating</th>\n",
              "    </tr>\n",
              "  </thead>\n",
              "  <tbody>\n",
              "    <tr>\n",
              "      <th>0</th>\n",
              "      <td>5617</td>\n",
              "      <td>4.072586</td>\n",
              "    </tr>\n",
              "    <tr>\n",
              "      <th>1</th>\n",
              "      <td>5618</td>\n",
              "      <td>4.099918</td>\n",
              "    </tr>\n",
              "    <tr>\n",
              "      <th>2</th>\n",
              "      <td>5619</td>\n",
              "      <td>4.042028</td>\n",
              "    </tr>\n",
              "    <tr>\n",
              "      <th>3</th>\n",
              "      <td>5620</td>\n",
              "      <td>4.017255</td>\n",
              "    </tr>\n",
              "    <tr>\n",
              "      <th>4</th>\n",
              "      <td>5621</td>\n",
              "      <td>4.219032</td>\n",
              "    </tr>\n",
              "  </tbody>\n",
              "</table>\n",
              "</div>"
            ],
            "text/plain": [
              "     Id    Rating\n",
              "0  5617  4.072586\n",
              "1  5618  4.099918\n",
              "2  5619  4.042028\n",
              "3  5620  4.017255\n",
              "4  5621  4.219032"
            ]
          },
          "metadata": {
            "tags": []
          },
          "execution_count": 104
        }
      ]
    },
    {
      "cell_type": "markdown",
      "metadata": {
        "id": "tjyrihOV3sjj"
      },
      "source": [
        "* 이렇게 제출 했다가 0.64621 나옴"
      ]
    },
    {
      "cell_type": "markdown",
      "metadata": {
        "id": "krWywA4I5Cvb"
      },
      "source": [
        "##**스택 알상블 [2]**"
      ]
    },
    {
      "cell_type": "code",
      "metadata": {
        "id": "_t1Ah6fWatKr"
      },
      "source": [
        "X_train_np=X_train.values\r\n",
        "X_test_np=X_test.values\r\n",
        "\r\n",
        "X_ohe_train_np=X_ohe_train.values\r\n",
        "X_ohe_test_np=X_ohe_test.values\r\n",
        "y_train_np=y_train.values"
      ],
      "execution_count": null,
      "outputs": []
    },
    {
      "cell_type": "code",
      "metadata": {
        "colab": {
          "base_uri": "https://localhost:8080/"
        },
        "id": "glO8q-J15AY8",
        "outputId": "e3cb29d5-87b9-4569-f0a3-1c59c380d5e0"
      },
      "source": [
        "xgb_train_1, xgb_test_1 = stack(xgb_best_1, X_train_np, y_train_np, X_test_np) #회귀 트리 모델의 parameter = default로 두가지\r\n",
        "lgb_train_1, lgb_test_1 = stack(lgb_best_1, X_train_np, y_train_np, X_test_np)\r\n",
        "rf_train_1, rf_test_1 = stack(rf_best, X_train_np, y_train_np, X_test_np)  #선형 회귀에서 성늘이 좋은 2가지 모델\r\n",
        "lr_train_1, lr_test_1 = stack(lr_best, X_ohe_train_np, y_train_np, X_ohe_test_np)"
      ],
      "execution_count": null,
      "outputs": [
        {
          "output_type": "stream",
          "text": [
            "model :  XGBRegressor\n",
            "[20:25:40] WARNING: /workspace/src/objective/regression_obj.cu:152: reg:linear is now deprecated in favor of reg:squarederror.\n",
            "[20:25:41] WARNING: /workspace/src/objective/regression_obj.cu:152: reg:linear is now deprecated in favor of reg:squarederror.\n",
            "[20:25:41] WARNING: /workspace/src/objective/regression_obj.cu:152: reg:linear is now deprecated in favor of reg:squarederror.\n",
            "[20:25:41] WARNING: /workspace/src/objective/regression_obj.cu:152: reg:linear is now deprecated in favor of reg:squarederror.\n",
            "[20:25:41] WARNING: /workspace/src/objective/regression_obj.cu:152: reg:linear is now deprecated in favor of reg:squarederror.\n",
            "model :  LGBMRegressor\n",
            "model :  RandomForestRegressor\n",
            "model :  LinearRegression\n"
          ],
          "name": "stdout"
        }
      ]
    },
    {
      "cell_type": "code",
      "metadata": {
        "colab": {
          "base_uri": "https://localhost:8080/"
        },
        "id": "ibHlai6aWF5W",
        "outputId": "449d729a-f0be-4e54-97ef-a54a635cc3b6"
      },
      "source": [
        "stack_final_X_train=np.concatenate((xgb_train_1,lgb_train_1,rf_train_1,lr_train_1),axis=1)\r\n",
        "stack_final_X_test=np.concatenate((xgb_test_1,lgb_test_1,rf_test_1,lr_test_1),axis=1)\r\n",
        "\r\n",
        "meta_model_lasso=Lasso(alpha=0.0005) #Feature가 많기 때문에 불필요한 회귀 계수를 감소시켜 0으로 만들거 제거 -> 적절한 Feature만 회귀에 포함시킴\r\n",
        "\r\n",
        "meta_model_lasso.fit(stack_final_X_train,y_train)\r\n",
        "final_pred=meta_model_lasso.predict(stack_final_X_test)\r\n",
        "print('train RMSE : {0:4f}'.format(rmse(y_test,final_pred)))\r\n"
      ],
      "execution_count": null,
      "outputs": [
        {
          "output_type": "stream",
          "text": [
            "train RMSE : 0.517643\n"
          ],
          "name": "stdout"
        }
      ]
    },
    {
      "cell_type": "markdown",
      "metadata": {
        "id": "BQOVxYYAXXQw"
      },
      "source": [
        "* X_test로 스택 앙상블 적용해 예측값 얻기"
      ]
    },
    {
      "cell_type": "code",
      "metadata": {
        "id": "EQTFg12_ay7h"
      },
      "source": [
        "X_train_np=X_train.values\r\n",
        "X_test_np=df_test.values\r\n",
        "\r\n",
        "\r\n",
        "X_ohe_train_np=X_ohe_train.values\r\n",
        "X_ohe_test_np=df_ohe_test.values\r\n",
        "y_train_np=y_train.values"
      ],
      "execution_count": null,
      "outputs": []
    },
    {
      "cell_type": "code",
      "metadata": {
        "colab": {
          "base_uri": "https://localhost:8080/"
        },
        "id": "AY5f1RWUXZyl",
        "outputId": "d5e87560-f4e8-4341-c62a-4094f8a5ffe5"
      },
      "source": [
        "xgb_train_1, xgb_test_1 = stack(xgb_best_1, X_train_np, y_train_np, X_test_np) #회귀 트리 모델의 parameter = default로 두가지\r\n",
        "lgb_train_1, lgb_test_1 = stack(lgb_best_1, X_train_np, y_train_np, X_test_np)\r\n",
        "rf_train_1, rf_test_1 = stack(rf_best, X_train_np, y_train_np, X_test_np)  #선형 회귀에서 성늘이 좋은 2가지 모델\r\n",
        "lr_train_1, lr_test_1 = stack(lr_best, X_ohe_train_np, y_train_np, X_ohe_test_np)"
      ],
      "execution_count": null,
      "outputs": [
        {
          "output_type": "stream",
          "text": [
            "model :  XGBRegressor\n",
            "[20:28:07] WARNING: /workspace/src/objective/regression_obj.cu:152: reg:linear is now deprecated in favor of reg:squarederror.\n",
            "[20:28:07] WARNING: /workspace/src/objective/regression_obj.cu:152: reg:linear is now deprecated in favor of reg:squarederror.\n",
            "[20:28:07] WARNING: /workspace/src/objective/regression_obj.cu:152: reg:linear is now deprecated in favor of reg:squarederror.\n",
            "[20:28:07] WARNING: /workspace/src/objective/regression_obj.cu:152: reg:linear is now deprecated in favor of reg:squarederror.\n",
            "[20:28:08] WARNING: /workspace/src/objective/regression_obj.cu:152: reg:linear is now deprecated in favor of reg:squarederror.\n",
            "model :  LGBMRegressor\n",
            "model :  RandomForestRegressor\n",
            "model :  LinearRegression\n"
          ],
          "name": "stdout"
        }
      ]
    },
    {
      "cell_type": "code",
      "metadata": {
        "id": "uZqRYxoj_P2H"
      },
      "source": [
        "stack_final_X_train=np.concatenate((xgb_train_1,lgb_train_1,rf_train_1,lr_train_1),axis=1)\r\n",
        "stack_final_X_test=np.concatenate((xgb_test_1,lgb_test_1,rf_test_1,lr_test_1),axis=1)\r\n",
        "\r\n",
        "meta_model_lasso=Lasso(alpha=0.0005)\r\n",
        "\r\n",
        "meta_model_lasso.fit(stack_final_X_train,y_train_np)\r\n",
        "final_pred=meta_model_lasso.predict(stack_final_X_test)"
      ],
      "execution_count": null,
      "outputs": []
    },
    {
      "cell_type": "code",
      "metadata": {
        "colab": {
          "base_uri": "https://localhost:8080/",
          "height": 204
        },
        "id": "WwWFzJXs_SMq",
        "outputId": "9f28a77e-3f27-4e99-c22f-74ea133951f7"
      },
      "source": [
        "submission = pd.DataFrame(columns=['Id', 'Rating'])\r\n",
        "submission['Id'] = df_test['Id']\r\n",
        "submission['Rating'] = np.clip(final_pred, 1, 5)\r\n",
        "submission.head()"
      ],
      "execution_count": null,
      "outputs": [
        {
          "output_type": "execute_result",
          "data": {
            "text/html": [
              "<div>\n",
              "<style scoped>\n",
              "    .dataframe tbody tr th:only-of-type {\n",
              "        vertical-align: middle;\n",
              "    }\n",
              "\n",
              "    .dataframe tbody tr th {\n",
              "        vertical-align: top;\n",
              "    }\n",
              "\n",
              "    .dataframe thead th {\n",
              "        text-align: right;\n",
              "    }\n",
              "</style>\n",
              "<table border=\"1\" class=\"dataframe\">\n",
              "  <thead>\n",
              "    <tr style=\"text-align: right;\">\n",
              "      <th></th>\n",
              "      <th>Id</th>\n",
              "      <th>Rating</th>\n",
              "    </tr>\n",
              "  </thead>\n",
              "  <tbody>\n",
              "    <tr>\n",
              "      <th>0</th>\n",
              "      <td>5617</td>\n",
              "      <td>4.048764</td>\n",
              "    </tr>\n",
              "    <tr>\n",
              "      <th>1</th>\n",
              "      <td>5618</td>\n",
              "      <td>4.087566</td>\n",
              "    </tr>\n",
              "    <tr>\n",
              "      <th>2</th>\n",
              "      <td>5619</td>\n",
              "      <td>4.037647</td>\n",
              "    </tr>\n",
              "    <tr>\n",
              "      <th>3</th>\n",
              "      <td>5620</td>\n",
              "      <td>4.037042</td>\n",
              "    </tr>\n",
              "    <tr>\n",
              "      <th>4</th>\n",
              "      <td>5621</td>\n",
              "      <td>4.173862</td>\n",
              "    </tr>\n",
              "  </tbody>\n",
              "</table>\n",
              "</div>"
            ],
            "text/plain": [
              "     Id    Rating\n",
              "0  5617  4.048764\n",
              "1  5618  4.087566\n",
              "2  5619  4.037647\n",
              "3  5620  4.037042\n",
              "4  5621  4.173862"
            ]
          },
          "metadata": {
            "tags": []
          },
          "execution_count": 117
        }
      ]
    },
    {
      "cell_type": "markdown",
      "metadata": {
        "id": "kUJrlMGxWx-8"
      },
      "source": [
        "* 이렇게 제출 했다가 0.58790 나옴<br>-> 모델을 줄였더니 오히려.. 성능이 좋아졌다...<br> 앙상블을 팀플에 비유하는데.. 팀원이 많은 거랑 팀플의 결과가 좋은 결과는 별개라는 것을 다시 한 번 깨닫게 됨"
      ]
    }
  ]
}

{
  "nbformat": 4,
  "nbformat_minor": 0,
  "metadata": {
    "colab": {
      "name": "[3]KNN.ipynb",
      "provenance": [],
      "collapsed_sections": []
    },
    "kernelspec": {
      "name": "python3",
      "display_name": "Python 3"
    }
  },
  "cells": [
    {
      "cell_type": "markdown",
      "metadata": {
        "id": "_7JhmsRtRLsH"
      },
      "source": [
        "#Load Data"
      ]
    },
    {
      "cell_type": "code",
      "metadata": {
        "id": "xmR5TAZCiV53"
      },
      "source": [
        "import pandas as pd\r\n",
        "import numpy as np\r\n",
        "import matplotlib.pyplot as plt\r\n",
        "import matplotlib as mpl\r\n",
        "\r\n",
        "import seaborn as sns\r\n",
        "import warnings\r\n",
        "warnings.filterwarnings(action=\"ignore\")"
      ],
      "execution_count": 1,
      "outputs": []
    },
    {
      "cell_type": "code",
      "metadata": {
        "id": "6-8rj0b1uwR3"
      },
      "source": [
        "df = pd.read_csv('1_knn.csv')"
      ],
      "execution_count": 2,
      "outputs": []
    },
    {
      "cell_type": "code",
      "metadata": {
        "colab": {
          "base_uri": "https://localhost:8080/",
          "height": 194
        },
        "id": "rF3u_TcdvMO5",
        "outputId": "065a1ed6-017f-4d0d-bc9d-59c2d2704d19"
      },
      "source": [
        "df.head()"
      ],
      "execution_count": 3,
      "outputs": [
        {
          "output_type": "execute_result",
          "data": {
            "text/html": [
              "<div>\n",
              "<style scoped>\n",
              "    .dataframe tbody tr th:only-of-type {\n",
              "        vertical-align: middle;\n",
              "    }\n",
              "\n",
              "    .dataframe tbody tr th {\n",
              "        vertical-align: top;\n",
              "    }\n",
              "\n",
              "    .dataframe thead th {\n",
              "        text-align: right;\n",
              "    }\n",
              "</style>\n",
              "<table border=\"1\" class=\"dataframe\">\n",
              "  <thead>\n",
              "    <tr style=\"text-align: right;\">\n",
              "      <th></th>\n",
              "      <th>Unnamed: 0</th>\n",
              "      <th>User_ID</th>\n",
              "      <th>Product_ID</th>\n",
              "      <th>Gender</th>\n",
              "      <th>Age</th>\n",
              "      <th>Occupation</th>\n",
              "      <th>City_Category</th>\n",
              "      <th>Stay_In_Current_City_Years</th>\n",
              "      <th>Marital_Status</th>\n",
              "      <th>Product_Category_1</th>\n",
              "      <th>Product_Category_2</th>\n",
              "      <th>Product_Category_3</th>\n",
              "      <th>Purchase</th>\n",
              "    </tr>\n",
              "  </thead>\n",
              "  <tbody>\n",
              "    <tr>\n",
              "      <th>0</th>\n",
              "      <td>0</td>\n",
              "      <td>1001088</td>\n",
              "      <td>P00046042</td>\n",
              "      <td>F</td>\n",
              "      <td>0-17</td>\n",
              "      <td>10</td>\n",
              "      <td>A</td>\n",
              "      <td>3</td>\n",
              "      <td>0</td>\n",
              "      <td>5</td>\n",
              "      <td>17.0</td>\n",
              "      <td>NaN</td>\n",
              "      <td>2010</td>\n",
              "    </tr>\n",
              "    <tr>\n",
              "      <th>1</th>\n",
              "      <td>1</td>\n",
              "      <td>1004493</td>\n",
              "      <td>P00347742</td>\n",
              "      <td>F</td>\n",
              "      <td>0-17</td>\n",
              "      <td>10</td>\n",
              "      <td>A</td>\n",
              "      <td>1</td>\n",
              "      <td>0</td>\n",
              "      <td>7</td>\n",
              "      <td>NaN</td>\n",
              "      <td>NaN</td>\n",
              "      <td>4483</td>\n",
              "    </tr>\n",
              "    <tr>\n",
              "      <th>2</th>\n",
              "      <td>2</td>\n",
              "      <td>1005302</td>\n",
              "      <td>P00048942</td>\n",
              "      <td>F</td>\n",
              "      <td>0-17</td>\n",
              "      <td>10</td>\n",
              "      <td>A</td>\n",
              "      <td>1</td>\n",
              "      <td>0</td>\n",
              "      <td>1</td>\n",
              "      <td>4.0</td>\n",
              "      <td>NaN</td>\n",
              "      <td>7696</td>\n",
              "    </tr>\n",
              "    <tr>\n",
              "      <th>3</th>\n",
              "      <td>3</td>\n",
              "      <td>1001348</td>\n",
              "      <td>P00145242</td>\n",
              "      <td>F</td>\n",
              "      <td>0-17</td>\n",
              "      <td>10</td>\n",
              "      <td>A</td>\n",
              "      <td>3</td>\n",
              "      <td>0</td>\n",
              "      <td>2</td>\n",
              "      <td>4.0</td>\n",
              "      <td>NaN</td>\n",
              "      <td>16429</td>\n",
              "    </tr>\n",
              "    <tr>\n",
              "      <th>4</th>\n",
              "      <td>4</td>\n",
              "      <td>1001348</td>\n",
              "      <td>P00106742</td>\n",
              "      <td>F</td>\n",
              "      <td>0-17</td>\n",
              "      <td>10</td>\n",
              "      <td>A</td>\n",
              "      <td>3</td>\n",
              "      <td>0</td>\n",
              "      <td>3</td>\n",
              "      <td>5.0</td>\n",
              "      <td>NaN</td>\n",
              "      <td>5780</td>\n",
              "    </tr>\n",
              "  </tbody>\n",
              "</table>\n",
              "</div>"
            ],
            "text/plain": [
              "   Unnamed: 0  User_ID  ... Product_Category_3 Purchase\n",
              "0           0  1001088  ...                NaN     2010\n",
              "1           1  1004493  ...                NaN     4483\n",
              "2           2  1005302  ...                NaN     7696\n",
              "3           3  1001348  ...                NaN    16429\n",
              "4           4  1001348  ...                NaN     5780\n",
              "\n",
              "[5 rows x 13 columns]"
            ]
          },
          "metadata": {
            "tags": []
          },
          "execution_count": 3
        }
      ]
    },
    {
      "cell_type": "code",
      "metadata": {
        "colab": {
          "base_uri": "https://localhost:8080/"
        },
        "id": "Pj-Go8kdDxkC",
        "outputId": "cb586eb5-2afd-40ef-eda5-a6c74dca8f5f"
      },
      "source": [
        "df.info()"
      ],
      "execution_count": 4,
      "outputs": [
        {
          "output_type": "stream",
          "text": [
            "<class 'pandas.core.frame.DataFrame'>\n",
            "RangeIndex: 4998 entries, 0 to 4997\n",
            "Data columns (total 13 columns):\n",
            " #   Column                      Non-Null Count  Dtype  \n",
            "---  ------                      --------------  -----  \n",
            " 0   Unnamed: 0                  4998 non-null   int64  \n",
            " 1   User_ID                     4998 non-null   int64  \n",
            " 2   Product_ID                  4998 non-null   object \n",
            " 3   Gender                      4998 non-null   object \n",
            " 4   Age                         4998 non-null   object \n",
            " 5   Occupation                  4998 non-null   int64  \n",
            " 6   City_Category               4998 non-null   object \n",
            " 7   Stay_In_Current_City_Years  4998 non-null   object \n",
            " 8   Marital_Status              4998 non-null   int64  \n",
            " 9   Product_Category_1          4998 non-null   int64  \n",
            " 10  Product_Category_2          3465 non-null   float64\n",
            " 11  Product_Category_3          1544 non-null   float64\n",
            " 12  Purchase                    4998 non-null   int64  \n",
            "dtypes: float64(2), int64(6), object(5)\n",
            "memory usage: 507.7+ KB\n"
          ],
          "name": "stdout"
        }
      ]
    },
    {
      "cell_type": "code",
      "metadata": {
        "colab": {
          "base_uri": "https://localhost:8080/"
        },
        "id": "oeEq2og2wcoj",
        "outputId": "467b32be-900e-4fb5-c7cc-88ed2d943b93"
      },
      "source": [
        "df.shape"
      ],
      "execution_count": 5,
      "outputs": [
        {
          "output_type": "execute_result",
          "data": {
            "text/plain": [
              "(4998, 13)"
            ]
          },
          "metadata": {
            "tags": []
          },
          "execution_count": 5
        }
      ]
    },
    {
      "cell_type": "markdown",
      "metadata": {
        "id": "ounH7G-KwCb6"
      },
      "source": [
        "#EDA"
      ]
    },
    {
      "cell_type": "markdown",
      "metadata": {
        "id": "MlyKh5pVb-nE"
      },
      "source": [
        "1. `Gender` : Female보다 Male이 더 많이 분포함\r\n",
        "2. `Age` : 26-35, 36-45, 18-25의 연령층에는 Male이 월등하게 많음"
      ]
    },
    {
      "cell_type": "code",
      "metadata": {
        "id": "h2gi9HmjGp4Y",
        "colab": {
          "base_uri": "https://localhost:8080/",
          "height": 300
        },
        "outputId": "7383e233-157c-45e8-9c26-48c815c2f7f9"
      },
      "source": [
        "fig, ax = plt.subplots(ncols=2,figsize=(12,4))\r\n",
        "sns.countplot(x=\"Gender\",data=df,ax=ax[0])\r\n",
        "sns.countplot(x=\"Age\",hue=\"Gender\",data=df,ax=ax[1])"
      ],
      "execution_count": 6,
      "outputs": [
        {
          "output_type": "execute_result",
          "data": {
            "text/plain": [
              "<matplotlib.axes._subplots.AxesSubplot at 0x7f803d5c26a0>"
            ]
          },
          "metadata": {
            "tags": []
          },
          "execution_count": 6
        },
        {
          "output_type": "display_data",
          "data": {
            "image/png": "[encoded data removed]",
            "text/plain": [
              "<Figure size 864x288 with 2 Axes>"
            ]
          },
          "metadata": {
            "tags": [],
            "needs_background": "light"
          }
        }
      ]
    },
    {
      "cell_type": "markdown",
      "metadata": {
        "id": "xZkVKsAdcdYG"
      },
      "source": [
        "3. `Purchase`와 `Gender`의 관계에서 female과 male 간의 차이가 두드러진 것을 찾아보기 어려움\r\n",
        "4. `Age`와 `Purchase`의 관계에서 특정 연령층과 성별이 가지는 특이점이 없음\r\n",
        "5. `Product_Category_1`에서 상품 10이 `Purchase`양이 남여 모두 높음\r\n",
        "6. `City_Category`,`Marital_Status`와 `Purchase`의 관계에서 특정 항목이나 성별이 두드러지게 `Purchase`에 기여하는 것을 찾기 어려움"
      ]
    },
    {
      "cell_type": "code",
      "metadata": {
        "colab": {
          "base_uri": "https://localhost:8080/",
          "height": 298
        },
        "id": "HgsB5GReXlsO",
        "outputId": "5fca59af-4a1f-4c78-f5a6-8bc81c213863"
      },
      "source": [
        "\r\n",
        "fig, ax = plt.subplots(ncols=4,figsize=(24,4))\r\n",
        "sns.barplot(x=\"Age\",y=\"Purchase\",hue=\"Gender\",data=df,ax=ax[0])\r\n",
        "sns.barplot(x=\"Product_Category_1\",y=\"Purchase\",hue=\"Gender\",data=df,ax=ax[1])\r\n",
        "sns.barplot(x=\"City_Category\",y=\"Purchase\",hue=\"Gender\",data=df,ax=ax[2])\r\n",
        "sns.barplot(x=\"Marital_Status\",y=\"Purchase\",hue=\"Gender\",data=df,ax=ax[3])"
      ],
      "execution_count": 7,
      "outputs": [
        {
          "output_type": "execute_result",
          "data": {
            "text/plain": [
              "<matplotlib.axes._subplots.AxesSubplot at 0x7f803cf9cf60>"
            ]
          },
          "metadata": {
            "tags": []
          },
          "execution_count": 7
        },
        {
          "output_type": "display_data",
          "data": {
            "image/png": "[encoded data removed]",
            "text/plain": [
              "<Figure size 1728x288 with 4 Axes>"
            ]
          },
          "metadata": {
            "tags": [],
            "needs_background": "light"
          }
        }
      ]
    },
    {
      "cell_type": "markdown",
      "metadata": {
        "id": "XljnnJ9dd2PD"
      },
      "source": [
        "7. 변수 간의 별다른 선형관계가 존재하지 않음"
      ]
    },
    {
      "cell_type": "code",
      "metadata": {
        "colab": {
          "base_uri": "https://localhost:8080/",
          "height": 377
        },
        "id": "eI8nECweZI-B",
        "outputId": "2c43e0ca-6a6d-42dc-e11a-57a3706289cc"
      },
      "source": [
        "sns.heatmap(df.corr(), annot = True)"
      ],
      "execution_count": 8,
      "outputs": [
        {
          "output_type": "execute_result",
          "data": {
            "text/plain": [
              "<matplotlib.axes._subplots.AxesSubplot at 0x7f803d6462e8>"
            ]
          },
          "metadata": {
            "tags": []
          },
          "execution_count": 8
        },
        {
          "output_type": "display_data",
          "data": {
            "image/png": "[encoded data removed]",
            "text/plain": [
              "<Figure size 432x288 with 2 Axes>"
            ]
          },
          "metadata": {
            "tags": [],
            "needs_background": "light"
          }
        }
      ]
    },
    {
      "cell_type": "markdown",
      "metadata": {
        "id": "K8oFT65RwibM"
      },
      "source": [
        "#Feature Scaling"
      ]
    },
    {
      "cell_type": "markdown",
      "metadata": {
        "id": "V-1TY83GeEDQ"
      },
      "source": [
        "##`Unnamed: 0`\r\n",
        "인덱스와 동일한 값으로 유의미한 데이터 아님 -> 삭제"
      ]
    },
    {
      "cell_type": "code",
      "metadata": {
        "id": "VpW1UeCBvc-b"
      },
      "source": [
        "df.drop(['Unnamed: 0'],axis=1,inplace=True)"
      ],
      "execution_count": 9,
      "outputs": []
    },
    {
      "cell_type": "markdown",
      "metadata": {
        "id": "A2GRQvSXeYoZ"
      },
      "source": [
        "##`User_ID`\r\n",
        "구매자의 아이디로 이미 모두 개별적인 데이터로 여김 -> 삭제"
      ]
    },
    {
      "cell_type": "code",
      "metadata": {
        "colab": {
          "base_uri": "https://localhost:8080/"
        },
        "id": "GOUAOqbABd-m",
        "outputId": "1cc6267b-e90c-483e-80e7-c2702665ef4a"
      },
      "source": [
        "df[\"User_ID\"].unique()"
      ],
      "execution_count": 10,
      "outputs": [
        {
          "output_type": "execute_result",
          "data": {
            "text/plain": [
              "array([1001088, 1004493, 1005302, ..., 1001176, 1003015, 1000837])"
            ]
          },
          "metadata": {
            "tags": []
          },
          "execution_count": 10
        }
      ]
    },
    {
      "cell_type": "code",
      "metadata": {
        "id": "8-TQQyNIVs4p"
      },
      "source": [
        "df.drop([\"User_ID\"],axis=1,inplace=True)"
      ],
      "execution_count": 11,
      "outputs": []
    },
    {
      "cell_type": "markdown",
      "metadata": {
        "id": "6CQFGwy5ezxa"
      },
      "source": [
        "##`Product_Category_2`,`Product_Category_3`\r\n",
        "전체 데이터에서 과도하게 결측치 존재함 -> 삭제"
      ]
    },
    {
      "cell_type": "code",
      "metadata": {
        "colab": {
          "base_uri": "https://localhost:8080/"
        },
        "id": "3ohSCGlUwY9C",
        "outputId": "44d305f3-9aec-40bb-8fe0-991d1d74a703"
      },
      "source": [
        "#결측지 존재\r\n",
        "df.isnull().sum()"
      ],
      "execution_count": 12,
      "outputs": [
        {
          "output_type": "execute_result",
          "data": {
            "text/plain": [
              "Product_ID                       0\n",
              "Gender                           0\n",
              "Age                              0\n",
              "Occupation                       0\n",
              "City_Category                    0\n",
              "Stay_In_Current_City_Years       0\n",
              "Marital_Status                   0\n",
              "Product_Category_1               0\n",
              "Product_Category_2            1533\n",
              "Product_Category_3            3454\n",
              "Purchase                         0\n",
              "dtype: int64"
            ]
          },
          "metadata": {
            "tags": []
          },
          "execution_count": 12
        }
      ]
    },
    {
      "cell_type": "code",
      "metadata": {
        "colab": {
          "base_uri": "https://localhost:8080/"
        },
        "id": "5yvacyj3wZhE",
        "outputId": "feabd589-459a-4118-da6b-7a4c6699f68d"
      },
      "source": [
        "#Product_Category_2에는 대략 30%, Product_Category_3에는 대략 70%의 결측지가 존재함\r\n",
        "null_value=df.isnull().sum().sort_values(ascending=False)\r\n",
        "print(\"#Percent of null data in features\")\r\n",
        "print((null_value[null_value>0]/df.shape[0])*100)"
      ],
      "execution_count": 13,
      "outputs": [
        {
          "output_type": "stream",
          "text": [
            "#Percent of null data in features\n",
            "Product_Category_3    69.107643\n",
            "Product_Category_2    30.672269\n",
            "dtype: float64\n"
          ],
          "name": "stdout"
        }
      ]
    },
    {
      "cell_type": "code",
      "metadata": {
        "id": "4d10XPLv8F7f"
      },
      "source": [
        "#전제 자료의 최소 1/3이 존재하지 않으므로 삭제\r\n",
        "df.drop([\"Product_Category_2\",\"Product_Category_3\"],axis=1,inplace=True)"
      ],
      "execution_count": 14,
      "outputs": []
    },
    {
      "cell_type": "markdown",
      "metadata": {
        "id": "9QoGc5ZFfCgF"
      },
      "source": [
        "##`Product_ID`\r\n",
        "판매 상품 번호로 P00~ 형식의 문자열 가짐<br>\r\n",
        "P00를 삭제하고 prefix=P로 하여 One-hot Encoding\r\n"
      ]
    },
    {
      "cell_type": "code",
      "metadata": {
        "colab": {
          "base_uri": "https://localhost:8080/"
        },
        "id": "3kWt7JekDEJc",
        "outputId": "1bec373f-f037-4da3-a0da-c87a0fda63b6"
      },
      "source": [
        "#Product_ID 값의 분포\r\n",
        "df[\"Product_ID\"].value_counts()"
      ],
      "execution_count": 15,
      "outputs": [
        {
          "output_type": "execute_result",
          "data": {
            "text/plain": [
              "P00265242    21\n",
              "P00220442    16\n",
              "P00010742    15\n",
              "P00148642    15\n",
              "P00151742    15\n",
              "             ..\n",
              "P00287442     1\n",
              "P00283542     1\n",
              "P00350142     1\n",
              "P00040842     1\n",
              "P00365142     1\n",
              "Name: Product_ID, Length: 1797, dtype: int64"
            ]
          },
          "metadata": {
            "tags": []
          },
          "execution_count": 15
        }
      ]
    },
    {
      "cell_type": "code",
      "metadata": {
        "id": "MsrH2RtEEGBc"
      },
      "source": [
        "#문자열의 Product_ID 값을 One-hot Encoding을 진행해 품목 당 해당 제품인지 여부를 0과 1표현\r\n",
        "df['Product_ID'] = df['Product_ID'].str.replace('P00', '')\r\n",
        "df = pd.get_dummies(df, columns=[\"Product_ID\"], prefix = 'P')"
      ],
      "execution_count": 16,
      "outputs": []
    },
    {
      "cell_type": "markdown",
      "metadata": {
        "id": "ND_GY2daf3Ih"
      },
      "source": [
        "##`Gender`\r\n",
        "F(female),M(male) 값 가짐<br>\r\n",
        "One-hot Encoding: M->1, F->0로 변환"
      ]
    },
    {
      "cell_type": "code",
      "metadata": {
        "colab": {
          "base_uri": "https://localhost:8080/"
        },
        "id": "Ui_KCbogwj-s",
        "outputId": "a39f65d3-8191-4848-fc34-61f988226493"
      },
      "source": [
        "#Gender값 \r\n",
        "print(df[\"Gender\"].unique())\r\n",
        "#One-hot Encoding : Male여부에 따라 0과 1로 변환\r\n",
        "df[\"Gender\"] = df[\"Gender\"].map({'M': 1, 'F':0})"
      ],
      "execution_count": 17,
      "outputs": [
        {
          "output_type": "stream",
          "text": [
            "['F' 'M']\n"
          ],
          "name": "stdout"
        }
      ]
    },
    {
      "cell_type": "markdown",
      "metadata": {
        "id": "AYGj-TZagUtx"
      },
      "source": [
        "##`Age`\r\n",
        "연령층(문자열)로 존재하는 `Age`값<br>\r\n",
        "0ne-Hot Encoding을 통해 연령층에 해당하지는 여부를 0과 1로 표현\r\n"
      ]
    },
    {
      "cell_type": "code",
      "metadata": {
        "colab": {
          "base_uri": "https://localhost:8080/"
        },
        "id": "-YmmnxKw9DPo",
        "outputId": "c379d5ae-1e94-4a14-df73-e648a983b784"
      },
      "source": [
        "#Age에는 '0-17' '18-25' '26-35' '36-45' '46-50' '51-55' '55+' 존재\r\n",
        "\r\n",
        "print(df[\"Age\"].unique())\r\n",
        "df = pd.get_dummies(df, columns=[\"Age\"], prefix = 'Age')"
      ],
      "execution_count": 18,
      "outputs": [
        {
          "output_type": "stream",
          "text": [
            "['0-17' '18-25' '26-35' '36-45' '46-50' '51-55' '55+']\n"
          ],
          "name": "stdout"
        }
      ]
    },
    {
      "cell_type": "markdown",
      "metadata": {
        "id": "UeQlarndh7dk"
      },
      "source": [
        "##`Occupation`\r\n",
        "직업군 별로 10  2  0 19  1  7 12  8  4  9  3 20 15 14 16 17  5  6 11 18 13로 됨<br>\r\n",
        "One-hot Encoding을 통해 해당 직업군에 속하는지 여부를 0과 1로 표현"
      ]
    },
    {
      "cell_type": "code",
      "metadata": {
        "colab": {
          "base_uri": "https://localhost:8080/"
        },
        "id": "KVGW0UnU98DP",
        "outputId": "c15bf2ec-6a35-4c3a-bb33-54f79ee3627a"
      },
      "source": [
        "print(df[\"Occupation\"].unique())\r\n",
        "df = pd.get_dummies(df, columns=[\"Occupation\"], prefix = 'Ocp')"
      ],
      "execution_count": 19,
      "outputs": [
        {
          "output_type": "stream",
          "text": [
            "[10  2  0 19  1  7 12  8  4  9  3 20 15 14 16 17  5  6 11 18 13]\n"
          ],
          "name": "stdout"
        }
      ]
    },
    {
      "cell_type": "markdown",
      "metadata": {
        "id": "mSWJptm9iRF0"
      },
      "source": [
        "##`City_Category`\r\n",
        "도시에 따라 'A',  'B',  'C' 값을 가짐<br>\r\n",
        "One-Hot Encoding을 통해 해당 도시인지 여부를 0과 1로 표현"
      ]
    },
    {
      "cell_type": "code",
      "metadata": {
        "colab": {
          "base_uri": "https://localhost:8080/"
        },
        "id": "pqHye5hSFoQT",
        "outputId": "59eb5b8a-fcc5-4666-c24a-a9690f708b62"
      },
      "source": [
        "\r\n",
        "print(df[\"City_Category\"].unique())\r\n",
        "\r\n",
        "df = pd.get_dummies(df, columns=[\"City_Category\"], prefix = 'City')"
      ],
      "execution_count": 20,
      "outputs": [
        {
          "output_type": "stream",
          "text": [
            "['A' 'B' 'C']\n"
          ],
          "name": "stdout"
        }
      ]
    },
    {
      "cell_type": "markdown",
      "metadata": {
        "id": "szmJBgcLjBW7"
      },
      "source": [
        "##`Stay_In_Current_City_Years`\r\n",
        "현재 도시에 거주 기간을 '3' '1' '2' '4+' '0'의 문자열로 표현<br>\r\n",
        "One-hot Encoding을 통해 해당 기간에 속하는지 여부를 0과 1로 표현"
      ]
    },
    {
      "cell_type": "code",
      "metadata": {
        "colab": {
          "base_uri": "https://localhost:8080/"
        },
        "id": "1MnLgVkZ-o7t",
        "outputId": "ee5206f8-7f4a-4b96-e854-fd0ddaf27236"
      },
      "source": [
        "print(df[\"Stay_In_Current_City_Years\"].unique())\r\n",
        "df = pd.get_dummies(df, columns=[\"Stay_In_Current_City_Years\"], prefix = 'Stay')"
      ],
      "execution_count": 21,
      "outputs": [
        {
          "output_type": "stream",
          "text": [
            "['3' '1' '2' '4+' '0']\n"
          ],
          "name": "stdout"
        }
      ]
    },
    {
      "cell_type": "markdown",
      "metadata": {
        "id": "LgBJ663rjUiE"
      },
      "source": [
        "##`Marital_Status`\r\n",
        "0과 1로 이미 이진 분류 됨"
      ]
    },
    {
      "cell_type": "code",
      "metadata": {
        "colab": {
          "base_uri": "https://localhost:8080/"
        },
        "id": "dNEEc_vlAFMZ",
        "outputId": "a54e6410-3e94-4599-a3cf-f087007f8d8b"
      },
      "source": [
        "df[\"Marital_Status\"].unique()"
      ],
      "execution_count": 22,
      "outputs": [
        {
          "output_type": "execute_result",
          "data": {
            "text/plain": [
              "array([0, 1])"
            ]
          },
          "metadata": {
            "tags": []
          },
          "execution_count": 22
        }
      ]
    },
    {
      "cell_type": "markdown",
      "metadata": {
        "id": "XSIKkEcioGsX"
      },
      "source": [
        "#**주의**\r\n",
        "\r\n",
        "밑의 주석 처리된 코드 처럼 Encoding이 진행되면 안됨<br><br>\r\n",
        "**잘못된 관계를 형성할 수 있음**<br>\r\n",
        "예) Age의 경우: '18-25' + '26-35' = '36-45' (1+2=3)"
      ]
    },
    {
      "cell_type": "code",
      "metadata": {
        "colab": {
          "base_uri": "https://localhost:8080/",
          "height": 70
        },
        "id": "EZEwzfqDiqXf",
        "outputId": "cbac2c75-8f91-4285-851c-b7217187f3ec"
      },
      "source": [
        "#이렇게 class부여하면 안됨\r\n",
        "'''\r\n",
        "(1)Age의 경우\r\n",
        "df[\"Age\"] = df[\"Age\"].map({'0-17':0, '18-25':1, '26-35':2, '36-45':3, '46-50':4, '51-55':5, '55+':6})\r\n",
        "\r\n",
        "(2)City_Category의 경우\r\n",
        "df[\"City_Category\"] = df[\"City_Category\"].map({'A':0 ,'B':1, 'C':2})\r\n",
        "\r\n",
        "(3)Stayed_In_Current_City_Years의 경우\r\n",
        ": '0'->0 '1'->1 '2'->2 '3'->3 '4+'->4\r\n",
        "def label_stay(year):\r\n",
        "  if year=='0':\r\n",
        "    return 0\r\n",
        "  elif year=='1':\r\n",
        "    return 1\r\n",
        "  elif year=='2':\r\n",
        "    return 2\r\n",
        "  elif year=='3':\r\n",
        "    return 3\r\n",
        "  else:\r\n",
        "    return 4\r\n",
        "df['Stay_In_Current_City_Years'] = df['Stay_In_Current_City_Years'].apply(label_stay)\r\n",
        "'''"
      ],
      "execution_count": 23,
      "outputs": [
        {
          "output_type": "execute_result",
          "data": {
            "application/vnd.google.colaboratory.intrinsic+json": {
              "type": "string"
            },
            "text/plain": [
              "'\\n(1)Age의 경우\\ndf[\"Age\"] = df[\"Age\"].map({\\'0-17\\':0, \\'18-25\\':1, \\'26-35\\':2, \\'36-45\\':3, \\'46-50\\':4, \\'51-55\\':5, \\'55+\\':6})\\n\\n(2)City_Category의 경우\\ndf[\"City_Category\"] = df[\"City_Category\"].map({\\'A\\':0 ,\\'B\\':1, \\'C\\':2})\\n\\n(3)Stayed_In_Current_City_Years의 경우\\n: \\'0\\'->0 \\'1\\'->1 \\'2\\'->2 \\'3\\'->3 \\'4+\\'->4\\ndef label_stay(year):\\n  if year==\\'0\\':\\n    return 0\\n  elif year==\\'1\\':\\n    return 1\\n  elif year==\\'2\\':\\n    return 2\\n  elif year==\\'3\\':\\n    return 3\\n  else:\\n    return 4\\ndf[\\'Stay_In_Current_City_Years\\'] = df[\\'Stay_In_Current_City_Years\\'].apply(label_stay)\\n'"
            ]
          },
          "metadata": {
            "tags": []
          },
          "execution_count": 23
        }
      ]
    },
    {
      "cell_type": "code",
      "metadata": {
        "colab": {
          "base_uri": "https://localhost:8080/",
          "height": 436
        },
        "id": "WzfkIttdMQ-S",
        "outputId": "04297dbf-6dbb-49cc-bf2a-3bfa8d0078d2"
      },
      "source": [
        "df"
      ],
      "execution_count": 24,
      "outputs": [
        {
          "output_type": "execute_result",
          "data": {
            "text/html": [
              "<div>\n",
              "<style scoped>\n",
              "    .dataframe tbody tr th:only-of-type {\n",
              "        vertical-align: middle;\n",
              "    }\n",
              "\n",
              "    .dataframe tbody tr th {\n",
              "        vertical-align: top;\n",
              "    }\n",
              "\n",
              "    .dataframe thead th {\n",
              "        text-align: right;\n",
              "    }\n",
              "</style>\n",
              "<table border=\"1\" class=\"dataframe\">\n",
              "  <thead>\n",
              "    <tr style=\"text-align: right;\">\n",
              "      <th></th>\n",
              "      <th>Gender</th>\n",
              "      <th>Marital_Status</th>\n",
              "      <th>Product_Category_1</th>\n",
              "      <th>Purchase</th>\n",
              "      <th>P_000142</th>\n",
              "      <th>P_000242</th>\n",
              "      <th>P_000342</th>\n",
              "      <th>P_000442</th>\n",
              "      <th>P_000642</th>\n",
              "      <th>P_000742</th>\n",
              "      <th>P_001042</th>\n",
              "      <th>P_001142</th>\n",
              "      <th>P_001242</th>\n",
              "      <th>P_001342</th>\n",
              "      <th>P_001542</th>\n",
              "      <th>P_001642</th>\n",
              "      <th>P_001742</th>\n",
              "      <th>P_001942</th>\n",
              "      <th>P_002042</th>\n",
              "      <th>P_002142</th>\n",
              "      <th>P_002242</th>\n",
              "      <th>P_002342</th>\n",
              "      <th>P_002442</th>\n",
              "      <th>P_002542</th>\n",
              "      <th>P_002742</th>\n",
              "      <th>P_002842</th>\n",
              "      <th>P_002942</th>\n",
              "      <th>P_003242</th>\n",
              "      <th>P_003442</th>\n",
              "      <th>P_003542</th>\n",
              "      <th>P_003642</th>\n",
              "      <th>P_003942</th>\n",
              "      <th>P_004142</th>\n",
              "      <th>P_004242</th>\n",
              "      <th>P_004342</th>\n",
              "      <th>P_004442</th>\n",
              "      <th>P_004542</th>\n",
              "      <th>P_004742</th>\n",
              "      <th>P_004842</th>\n",
              "      <th>P_005042</th>\n",
              "      <th>...</th>\n",
              "      <th>P_99242</th>\n",
              "      <th>P_99342</th>\n",
              "      <th>P_99442</th>\n",
              "      <th>P_99942</th>\n",
              "      <th>Age_0-17</th>\n",
              "      <th>Age_18-25</th>\n",
              "      <th>Age_26-35</th>\n",
              "      <th>Age_36-45</th>\n",
              "      <th>Age_46-50</th>\n",
              "      <th>Age_51-55</th>\n",
              "      <th>Age_55+</th>\n",
              "      <th>Ocp_0</th>\n",
              "      <th>Ocp_1</th>\n",
              "      <th>Ocp_2</th>\n",
              "      <th>Ocp_3</th>\n",
              "      <th>Ocp_4</th>\n",
              "      <th>Ocp_5</th>\n",
              "      <th>Ocp_6</th>\n",
              "      <th>Ocp_7</th>\n",
              "      <th>Ocp_8</th>\n",
              "      <th>Ocp_9</th>\n",
              "      <th>Ocp_10</th>\n",
              "      <th>Ocp_11</th>\n",
              "      <th>Ocp_12</th>\n",
              "      <th>Ocp_13</th>\n",
              "      <th>Ocp_14</th>\n",
              "      <th>Ocp_15</th>\n",
              "      <th>Ocp_16</th>\n",
              "      <th>Ocp_17</th>\n",
              "      <th>Ocp_18</th>\n",
              "      <th>Ocp_19</th>\n",
              "      <th>Ocp_20</th>\n",
              "      <th>City_A</th>\n",
              "      <th>City_B</th>\n",
              "      <th>City_C</th>\n",
              "      <th>Stay_0</th>\n",
              "      <th>Stay_1</th>\n",
              "      <th>Stay_2</th>\n",
              "      <th>Stay_3</th>\n",
              "      <th>Stay_4+</th>\n",
              "    </tr>\n",
              "  </thead>\n",
              "  <tbody>\n",
              "    <tr>\n",
              "      <th>0</th>\n",
              "      <td>0</td>\n",
              "      <td>0</td>\n",
              "      <td>5</td>\n",
              "      <td>2010</td>\n",
              "      <td>0</td>\n",
              "      <td>0</td>\n",
              "      <td>0</td>\n",
              "      <td>0</td>\n",
              "      <td>0</td>\n",
              "      <td>0</td>\n",
              "      <td>0</td>\n",
              "      <td>0</td>\n",
              "      <td>0</td>\n",
              "      <td>0</td>\n",
              "      <td>0</td>\n",
              "      <td>0</td>\n",
              "      <td>0</td>\n",
              "      <td>0</td>\n",
              "      <td>0</td>\n",
              "      <td>0</td>\n",
              "      <td>0</td>\n",
              "      <td>0</td>\n",
              "      <td>0</td>\n",
              "      <td>0</td>\n",
              "      <td>0</td>\n",
              "      <td>0</td>\n",
              "      <td>0</td>\n",
              "      <td>0</td>\n",
              "      <td>0</td>\n",
              "      <td>0</td>\n",
              "      <td>0</td>\n",
              "      <td>0</td>\n",
              "      <td>0</td>\n",
              "      <td>0</td>\n",
              "      <td>0</td>\n",
              "      <td>0</td>\n",
              "      <td>0</td>\n",
              "      <td>0</td>\n",
              "      <td>0</td>\n",
              "      <td>0</td>\n",
              "      <td>...</td>\n",
              "      <td>0</td>\n",
              "      <td>0</td>\n",
              "      <td>0</td>\n",
              "      <td>0</td>\n",
              "      <td>1</td>\n",
              "      <td>0</td>\n",
              "      <td>0</td>\n",
              "      <td>0</td>\n",
              "      <td>0</td>\n",
              "      <td>0</td>\n",
              "      <td>0</td>\n",
              "      <td>0</td>\n",
              "      <td>0</td>\n",
              "      <td>0</td>\n",
              "      <td>0</td>\n",
              "      <td>0</td>\n",
              "      <td>0</td>\n",
              "      <td>0</td>\n",
              "      <td>0</td>\n",
              "      <td>0</td>\n",
              "      <td>0</td>\n",
              "      <td>1</td>\n",
              "      <td>0</td>\n",
              "      <td>0</td>\n",
              "      <td>0</td>\n",
              "      <td>0</td>\n",
              "      <td>0</td>\n",
              "      <td>0</td>\n",
              "      <td>0</td>\n",
              "      <td>0</td>\n",
              "      <td>0</td>\n",
              "      <td>0</td>\n",
              "      <td>1</td>\n",
              "      <td>0</td>\n",
              "      <td>0</td>\n",
              "      <td>0</td>\n",
              "      <td>0</td>\n",
              "      <td>0</td>\n",
              "      <td>1</td>\n",
              "      <td>0</td>\n",
              "    </tr>\n",
              "    <tr>\n",
              "      <th>1</th>\n",
              "      <td>0</td>\n",
              "      <td>0</td>\n",
              "      <td>7</td>\n",
              "      <td>4483</td>\n",
              "      <td>0</td>\n",
              "      <td>0</td>\n",
              "      <td>0</td>\n",
              "      <td>0</td>\n",
              "      <td>0</td>\n",
              "      <td>0</td>\n",
              "      <td>0</td>\n",
              "      <td>0</td>\n",
              "      <td>0</td>\n",
              "      <td>0</td>\n",
              "      <td>0</td>\n",
              "      <td>0</td>\n",
              "      <td>0</td>\n",
              "      <td>0</td>\n",
              "      <td>0</td>\n",
              "      <td>0</td>\n",
              "      <td>0</td>\n",
              "      <td>0</td>\n",
              "      <td>0</td>\n",
              "      <td>0</td>\n",
              "      <td>0</td>\n",
              "      <td>0</td>\n",
              "      <td>0</td>\n",
              "      <td>0</td>\n",
              "      <td>0</td>\n",
              "      <td>0</td>\n",
              "      <td>0</td>\n",
              "      <td>0</td>\n",
              "      <td>0</td>\n",
              "      <td>0</td>\n",
              "      <td>0</td>\n",
              "      <td>0</td>\n",
              "      <td>0</td>\n",
              "      <td>0</td>\n",
              "      <td>0</td>\n",
              "      <td>0</td>\n",
              "      <td>...</td>\n",
              "      <td>0</td>\n",
              "      <td>0</td>\n",
              "      <td>0</td>\n",
              "      <td>0</td>\n",
              "      <td>1</td>\n",
              "      <td>0</td>\n",
              "      <td>0</td>\n",
              "      <td>0</td>\n",
              "      <td>0</td>\n",
              "      <td>0</td>\n",
              "      <td>0</td>\n",
              "      <td>0</td>\n",
              "      <td>0</td>\n",
              "      <td>0</td>\n",
              "      <td>0</td>\n",
              "      <td>0</td>\n",
              "      <td>0</td>\n",
              "      <td>0</td>\n",
              "      <td>0</td>\n",
              "      <td>0</td>\n",
              "      <td>0</td>\n",
              "      <td>1</td>\n",
              "      <td>0</td>\n",
              "      <td>0</td>\n",
              "      <td>0</td>\n",
              "      <td>0</td>\n",
              "      <td>0</td>\n",
              "      <td>0</td>\n",
              "      <td>0</td>\n",
              "      <td>0</td>\n",
              "      <td>0</td>\n",
              "      <td>0</td>\n",
              "      <td>1</td>\n",
              "      <td>0</td>\n",
              "      <td>0</td>\n",
              "      <td>0</td>\n",
              "      <td>1</td>\n",
              "      <td>0</td>\n",
              "      <td>0</td>\n",
              "      <td>0</td>\n",
              "    </tr>\n",
              "    <tr>\n",
              "      <th>2</th>\n",
              "      <td>0</td>\n",
              "      <td>0</td>\n",
              "      <td>1</td>\n",
              "      <td>7696</td>\n",
              "      <td>0</td>\n",
              "      <td>0</td>\n",
              "      <td>0</td>\n",
              "      <td>0</td>\n",
              "      <td>0</td>\n",
              "      <td>0</td>\n",
              "      <td>0</td>\n",
              "      <td>0</td>\n",
              "      <td>0</td>\n",
              "      <td>0</td>\n",
              "      <td>0</td>\n",
              "      <td>0</td>\n",
              "      <td>0</td>\n",
              "      <td>0</td>\n",
              "      <td>0</td>\n",
              "      <td>0</td>\n",
              "      <td>0</td>\n",
              "      <td>0</td>\n",
              "      <td>0</td>\n",
              "      <td>0</td>\n",
              "      <td>0</td>\n",
              "      <td>0</td>\n",
              "      <td>0</td>\n",
              "      <td>0</td>\n",
              "      <td>0</td>\n",
              "      <td>0</td>\n",
              "      <td>0</td>\n",
              "      <td>0</td>\n",
              "      <td>0</td>\n",
              "      <td>0</td>\n",
              "      <td>0</td>\n",
              "      <td>0</td>\n",
              "      <td>0</td>\n",
              "      <td>0</td>\n",
              "      <td>0</td>\n",
              "      <td>0</td>\n",
              "      <td>...</td>\n",
              "      <td>0</td>\n",
              "      <td>0</td>\n",
              "      <td>0</td>\n",
              "      <td>0</td>\n",
              "      <td>1</td>\n",
              "      <td>0</td>\n",
              "      <td>0</td>\n",
              "      <td>0</td>\n",
              "      <td>0</td>\n",
              "      <td>0</td>\n",
              "      <td>0</td>\n",
              "      <td>0</td>\n",
              "      <td>0</td>\n",
              "      <td>0</td>\n",
              "      <td>0</td>\n",
              "      <td>0</td>\n",
              "      <td>0</td>\n",
              "      <td>0</td>\n",
              "      <td>0</td>\n",
              "      <td>0</td>\n",
              "      <td>0</td>\n",
              "      <td>1</td>\n",
              "      <td>0</td>\n",
              "      <td>0</td>\n",
              "      <td>0</td>\n",
              "      <td>0</td>\n",
              "      <td>0</td>\n",
              "      <td>0</td>\n",
              "      <td>0</td>\n",
              "      <td>0</td>\n",
              "      <td>0</td>\n",
              "      <td>0</td>\n",
              "      <td>1</td>\n",
              "      <td>0</td>\n",
              "      <td>0</td>\n",
              "      <td>0</td>\n",
              "      <td>1</td>\n",
              "      <td>0</td>\n",
              "      <td>0</td>\n",
              "      <td>0</td>\n",
              "    </tr>\n",
              "    <tr>\n",
              "      <th>3</th>\n",
              "      <td>0</td>\n",
              "      <td>0</td>\n",
              "      <td>2</td>\n",
              "      <td>16429</td>\n",
              "      <td>0</td>\n",
              "      <td>0</td>\n",
              "      <td>0</td>\n",
              "      <td>0</td>\n",
              "      <td>0</td>\n",
              "      <td>0</td>\n",
              "      <td>0</td>\n",
              "      <td>0</td>\n",
              "      <td>0</td>\n",
              "      <td>0</td>\n",
              "      <td>0</td>\n",
              "      <td>0</td>\n",
              "      <td>0</td>\n",
              "      <td>0</td>\n",
              "      <td>0</td>\n",
              "      <td>0</td>\n",
              "      <td>0</td>\n",
              "      <td>0</td>\n",
              "      <td>0</td>\n",
              "      <td>0</td>\n",
              "      <td>0</td>\n",
              "      <td>0</td>\n",
              "      <td>0</td>\n",
              "      <td>0</td>\n",
              "      <td>0</td>\n",
              "      <td>0</td>\n",
              "      <td>0</td>\n",
              "      <td>0</td>\n",
              "      <td>0</td>\n",
              "      <td>0</td>\n",
              "      <td>0</td>\n",
              "      <td>0</td>\n",
              "      <td>0</td>\n",
              "      <td>0</td>\n",
              "      <td>0</td>\n",
              "      <td>0</td>\n",
              "      <td>...</td>\n",
              "      <td>0</td>\n",
              "      <td>0</td>\n",
              "      <td>0</td>\n",
              "      <td>0</td>\n",
              "      <td>1</td>\n",
              "      <td>0</td>\n",
              "      <td>0</td>\n",
              "      <td>0</td>\n",
              "      <td>0</td>\n",
              "      <td>0</td>\n",
              "      <td>0</td>\n",
              "      <td>0</td>\n",
              "      <td>0</td>\n",
              "      <td>0</td>\n",
              "      <td>0</td>\n",
              "      <td>0</td>\n",
              "      <td>0</td>\n",
              "      <td>0</td>\n",
              "      <td>0</td>\n",
              "      <td>0</td>\n",
              "      <td>0</td>\n",
              "      <td>1</td>\n",
              "      <td>0</td>\n",
              "      <td>0</td>\n",
              "      <td>0</td>\n",
              "      <td>0</td>\n",
              "      <td>0</td>\n",
              "      <td>0</td>\n",
              "      <td>0</td>\n",
              "      <td>0</td>\n",
              "      <td>0</td>\n",
              "      <td>0</td>\n",
              "      <td>1</td>\n",
              "      <td>0</td>\n",
              "      <td>0</td>\n",
              "      <td>0</td>\n",
              "      <td>0</td>\n",
              "      <td>0</td>\n",
              "      <td>1</td>\n",
              "      <td>0</td>\n",
              "    </tr>\n",
              "    <tr>\n",
              "      <th>4</th>\n",
              "      <td>0</td>\n",
              "      <td>0</td>\n",
              "      <td>3</td>\n",
              "      <td>5780</td>\n",
              "      <td>0</td>\n",
              "      <td>0</td>\n",
              "      <td>0</td>\n",
              "      <td>0</td>\n",
              "      <td>0</td>\n",
              "      <td>0</td>\n",
              "      <td>0</td>\n",
              "      <td>0</td>\n",
              "      <td>0</td>\n",
              "      <td>0</td>\n",
              "      <td>0</td>\n",
              "      <td>0</td>\n",
              "      <td>0</td>\n",
              "      <td>0</td>\n",
              "      <td>0</td>\n",
              "      <td>0</td>\n",
              "      <td>0</td>\n",
              "      <td>0</td>\n",
              "      <td>0</td>\n",
              "      <td>0</td>\n",
              "      <td>0</td>\n",
              "      <td>0</td>\n",
              "      <td>0</td>\n",
              "      <td>0</td>\n",
              "      <td>0</td>\n",
              "      <td>0</td>\n",
              "      <td>0</td>\n",
              "      <td>0</td>\n",
              "      <td>0</td>\n",
              "      <td>0</td>\n",
              "      <td>0</td>\n",
              "      <td>0</td>\n",
              "      <td>0</td>\n",
              "      <td>0</td>\n",
              "      <td>0</td>\n",
              "      <td>0</td>\n",
              "      <td>...</td>\n",
              "      <td>0</td>\n",
              "      <td>0</td>\n",
              "      <td>0</td>\n",
              "      <td>0</td>\n",
              "      <td>1</td>\n",
              "      <td>0</td>\n",
              "      <td>0</td>\n",
              "      <td>0</td>\n",
              "      <td>0</td>\n",
              "      <td>0</td>\n",
              "      <td>0</td>\n",
              "      <td>0</td>\n",
              "      <td>0</td>\n",
              "      <td>0</td>\n",
              "      <td>0</td>\n",
              "      <td>0</td>\n",
              "      <td>0</td>\n",
              "      <td>0</td>\n",
              "      <td>0</td>\n",
              "      <td>0</td>\n",
              "      <td>0</td>\n",
              "      <td>1</td>\n",
              "      <td>0</td>\n",
              "      <td>0</td>\n",
              "      <td>0</td>\n",
              "      <td>0</td>\n",
              "      <td>0</td>\n",
              "      <td>0</td>\n",
              "      <td>0</td>\n",
              "      <td>0</td>\n",
              "      <td>0</td>\n",
              "      <td>0</td>\n",
              "      <td>1</td>\n",
              "      <td>0</td>\n",
              "      <td>0</td>\n",
              "      <td>0</td>\n",
              "      <td>0</td>\n",
              "      <td>0</td>\n",
              "      <td>1</td>\n",
              "      <td>0</td>\n",
              "    </tr>\n",
              "    <tr>\n",
              "      <th>...</th>\n",
              "      <td>...</td>\n",
              "      <td>...</td>\n",
              "      <td>...</td>\n",
              "      <td>...</td>\n",
              "      <td>...</td>\n",
              "      <td>...</td>\n",
              "      <td>...</td>\n",
              "      <td>...</td>\n",
              "      <td>...</td>\n",
              "      <td>...</td>\n",
              "      <td>...</td>\n",
              "      <td>...</td>\n",
              "      <td>...</td>\n",
              "      <td>...</td>\n",
              "      <td>...</td>\n",
              "      <td>...</td>\n",
              "      <td>...</td>\n",
              "      <td>...</td>\n",
              "      <td>...</td>\n",
              "      <td>...</td>\n",
              "      <td>...</td>\n",
              "      <td>...</td>\n",
              "      <td>...</td>\n",
              "      <td>...</td>\n",
              "      <td>...</td>\n",
              "      <td>...</td>\n",
              "      <td>...</td>\n",
              "      <td>...</td>\n",
              "      <td>...</td>\n",
              "      <td>...</td>\n",
              "      <td>...</td>\n",
              "      <td>...</td>\n",
              "      <td>...</td>\n",
              "      <td>...</td>\n",
              "      <td>...</td>\n",
              "      <td>...</td>\n",
              "      <td>...</td>\n",
              "      <td>...</td>\n",
              "      <td>...</td>\n",
              "      <td>...</td>\n",
              "      <td>...</td>\n",
              "      <td>...</td>\n",
              "      <td>...</td>\n",
              "      <td>...</td>\n",
              "      <td>...</td>\n",
              "      <td>...</td>\n",
              "      <td>...</td>\n",
              "      <td>...</td>\n",
              "      <td>...</td>\n",
              "      <td>...</td>\n",
              "      <td>...</td>\n",
              "      <td>...</td>\n",
              "      <td>...</td>\n",
              "      <td>...</td>\n",
              "      <td>...</td>\n",
              "      <td>...</td>\n",
              "      <td>...</td>\n",
              "      <td>...</td>\n",
              "      <td>...</td>\n",
              "      <td>...</td>\n",
              "      <td>...</td>\n",
              "      <td>...</td>\n",
              "      <td>...</td>\n",
              "      <td>...</td>\n",
              "      <td>...</td>\n",
              "      <td>...</td>\n",
              "      <td>...</td>\n",
              "      <td>...</td>\n",
              "      <td>...</td>\n",
              "      <td>...</td>\n",
              "      <td>...</td>\n",
              "      <td>...</td>\n",
              "      <td>...</td>\n",
              "      <td>...</td>\n",
              "      <td>...</td>\n",
              "      <td>...</td>\n",
              "      <td>...</td>\n",
              "      <td>...</td>\n",
              "      <td>...</td>\n",
              "      <td>...</td>\n",
              "      <td>...</td>\n",
              "    </tr>\n",
              "    <tr>\n",
              "      <th>4993</th>\n",
              "      <td>1</td>\n",
              "      <td>1</td>\n",
              "      <td>1</td>\n",
              "      <td>11701</td>\n",
              "      <td>0</td>\n",
              "      <td>0</td>\n",
              "      <td>0</td>\n",
              "      <td>0</td>\n",
              "      <td>0</td>\n",
              "      <td>0</td>\n",
              "      <td>0</td>\n",
              "      <td>0</td>\n",
              "      <td>0</td>\n",
              "      <td>0</td>\n",
              "      <td>0</td>\n",
              "      <td>0</td>\n",
              "      <td>0</td>\n",
              "      <td>0</td>\n",
              "      <td>0</td>\n",
              "      <td>0</td>\n",
              "      <td>0</td>\n",
              "      <td>0</td>\n",
              "      <td>0</td>\n",
              "      <td>0</td>\n",
              "      <td>0</td>\n",
              "      <td>0</td>\n",
              "      <td>0</td>\n",
              "      <td>0</td>\n",
              "      <td>0</td>\n",
              "      <td>0</td>\n",
              "      <td>0</td>\n",
              "      <td>0</td>\n",
              "      <td>0</td>\n",
              "      <td>0</td>\n",
              "      <td>0</td>\n",
              "      <td>0</td>\n",
              "      <td>0</td>\n",
              "      <td>0</td>\n",
              "      <td>0</td>\n",
              "      <td>0</td>\n",
              "      <td>...</td>\n",
              "      <td>0</td>\n",
              "      <td>0</td>\n",
              "      <td>0</td>\n",
              "      <td>0</td>\n",
              "      <td>0</td>\n",
              "      <td>0</td>\n",
              "      <td>0</td>\n",
              "      <td>0</td>\n",
              "      <td>0</td>\n",
              "      <td>0</td>\n",
              "      <td>1</td>\n",
              "      <td>0</td>\n",
              "      <td>0</td>\n",
              "      <td>0</td>\n",
              "      <td>0</td>\n",
              "      <td>0</td>\n",
              "      <td>0</td>\n",
              "      <td>0</td>\n",
              "      <td>1</td>\n",
              "      <td>0</td>\n",
              "      <td>0</td>\n",
              "      <td>0</td>\n",
              "      <td>0</td>\n",
              "      <td>0</td>\n",
              "      <td>0</td>\n",
              "      <td>0</td>\n",
              "      <td>0</td>\n",
              "      <td>0</td>\n",
              "      <td>0</td>\n",
              "      <td>0</td>\n",
              "      <td>0</td>\n",
              "      <td>0</td>\n",
              "      <td>0</td>\n",
              "      <td>0</td>\n",
              "      <td>1</td>\n",
              "      <td>0</td>\n",
              "      <td>1</td>\n",
              "      <td>0</td>\n",
              "      <td>0</td>\n",
              "      <td>0</td>\n",
              "    </tr>\n",
              "    <tr>\n",
              "      <th>4994</th>\n",
              "      <td>1</td>\n",
              "      <td>1</td>\n",
              "      <td>8</td>\n",
              "      <td>2045</td>\n",
              "      <td>0</td>\n",
              "      <td>0</td>\n",
              "      <td>0</td>\n",
              "      <td>0</td>\n",
              "      <td>0</td>\n",
              "      <td>0</td>\n",
              "      <td>0</td>\n",
              "      <td>0</td>\n",
              "      <td>0</td>\n",
              "      <td>0</td>\n",
              "      <td>0</td>\n",
              "      <td>0</td>\n",
              "      <td>0</td>\n",
              "      <td>0</td>\n",
              "      <td>0</td>\n",
              "      <td>0</td>\n",
              "      <td>0</td>\n",
              "      <td>0</td>\n",
              "      <td>0</td>\n",
              "      <td>0</td>\n",
              "      <td>0</td>\n",
              "      <td>0</td>\n",
              "      <td>0</td>\n",
              "      <td>0</td>\n",
              "      <td>0</td>\n",
              "      <td>0</td>\n",
              "      <td>0</td>\n",
              "      <td>0</td>\n",
              "      <td>0</td>\n",
              "      <td>0</td>\n",
              "      <td>0</td>\n",
              "      <td>0</td>\n",
              "      <td>0</td>\n",
              "      <td>0</td>\n",
              "      <td>0</td>\n",
              "      <td>0</td>\n",
              "      <td>...</td>\n",
              "      <td>0</td>\n",
              "      <td>0</td>\n",
              "      <td>0</td>\n",
              "      <td>0</td>\n",
              "      <td>0</td>\n",
              "      <td>0</td>\n",
              "      <td>0</td>\n",
              "      <td>0</td>\n",
              "      <td>0</td>\n",
              "      <td>0</td>\n",
              "      <td>1</td>\n",
              "      <td>0</td>\n",
              "      <td>1</td>\n",
              "      <td>0</td>\n",
              "      <td>0</td>\n",
              "      <td>0</td>\n",
              "      <td>0</td>\n",
              "      <td>0</td>\n",
              "      <td>0</td>\n",
              "      <td>0</td>\n",
              "      <td>0</td>\n",
              "      <td>0</td>\n",
              "      <td>0</td>\n",
              "      <td>0</td>\n",
              "      <td>0</td>\n",
              "      <td>0</td>\n",
              "      <td>0</td>\n",
              "      <td>0</td>\n",
              "      <td>0</td>\n",
              "      <td>0</td>\n",
              "      <td>0</td>\n",
              "      <td>0</td>\n",
              "      <td>0</td>\n",
              "      <td>0</td>\n",
              "      <td>1</td>\n",
              "      <td>0</td>\n",
              "      <td>1</td>\n",
              "      <td>0</td>\n",
              "      <td>0</td>\n",
              "      <td>0</td>\n",
              "    </tr>\n",
              "    <tr>\n",
              "      <th>4995</th>\n",
              "      <td>1</td>\n",
              "      <td>1</td>\n",
              "      <td>1</td>\n",
              "      <td>4505</td>\n",
              "      <td>0</td>\n",
              "      <td>0</td>\n",
              "      <td>0</td>\n",
              "      <td>0</td>\n",
              "      <td>0</td>\n",
              "      <td>0</td>\n",
              "      <td>0</td>\n",
              "      <td>0</td>\n",
              "      <td>0</td>\n",
              "      <td>0</td>\n",
              "      <td>0</td>\n",
              "      <td>0</td>\n",
              "      <td>0</td>\n",
              "      <td>0</td>\n",
              "      <td>0</td>\n",
              "      <td>0</td>\n",
              "      <td>0</td>\n",
              "      <td>0</td>\n",
              "      <td>0</td>\n",
              "      <td>0</td>\n",
              "      <td>0</td>\n",
              "      <td>0</td>\n",
              "      <td>0</td>\n",
              "      <td>0</td>\n",
              "      <td>0</td>\n",
              "      <td>0</td>\n",
              "      <td>0</td>\n",
              "      <td>0</td>\n",
              "      <td>0</td>\n",
              "      <td>0</td>\n",
              "      <td>0</td>\n",
              "      <td>0</td>\n",
              "      <td>0</td>\n",
              "      <td>0</td>\n",
              "      <td>0</td>\n",
              "      <td>0</td>\n",
              "      <td>...</td>\n",
              "      <td>0</td>\n",
              "      <td>0</td>\n",
              "      <td>0</td>\n",
              "      <td>0</td>\n",
              "      <td>0</td>\n",
              "      <td>0</td>\n",
              "      <td>0</td>\n",
              "      <td>0</td>\n",
              "      <td>0</td>\n",
              "      <td>0</td>\n",
              "      <td>1</td>\n",
              "      <td>0</td>\n",
              "      <td>0</td>\n",
              "      <td>0</td>\n",
              "      <td>0</td>\n",
              "      <td>0</td>\n",
              "      <td>0</td>\n",
              "      <td>0</td>\n",
              "      <td>0</td>\n",
              "      <td>0</td>\n",
              "      <td>0</td>\n",
              "      <td>0</td>\n",
              "      <td>0</td>\n",
              "      <td>0</td>\n",
              "      <td>1</td>\n",
              "      <td>0</td>\n",
              "      <td>0</td>\n",
              "      <td>0</td>\n",
              "      <td>0</td>\n",
              "      <td>0</td>\n",
              "      <td>0</td>\n",
              "      <td>0</td>\n",
              "      <td>0</td>\n",
              "      <td>0</td>\n",
              "      <td>1</td>\n",
              "      <td>0</td>\n",
              "      <td>0</td>\n",
              "      <td>0</td>\n",
              "      <td>1</td>\n",
              "      <td>0</td>\n",
              "    </tr>\n",
              "    <tr>\n",
              "      <th>4996</th>\n",
              "      <td>1</td>\n",
              "      <td>1</td>\n",
              "      <td>12</td>\n",
              "      <td>1413</td>\n",
              "      <td>0</td>\n",
              "      <td>0</td>\n",
              "      <td>0</td>\n",
              "      <td>0</td>\n",
              "      <td>0</td>\n",
              "      <td>0</td>\n",
              "      <td>0</td>\n",
              "      <td>0</td>\n",
              "      <td>0</td>\n",
              "      <td>0</td>\n",
              "      <td>0</td>\n",
              "      <td>0</td>\n",
              "      <td>0</td>\n",
              "      <td>0</td>\n",
              "      <td>0</td>\n",
              "      <td>0</td>\n",
              "      <td>0</td>\n",
              "      <td>0</td>\n",
              "      <td>0</td>\n",
              "      <td>0</td>\n",
              "      <td>0</td>\n",
              "      <td>0</td>\n",
              "      <td>0</td>\n",
              "      <td>0</td>\n",
              "      <td>0</td>\n",
              "      <td>0</td>\n",
              "      <td>0</td>\n",
              "      <td>0</td>\n",
              "      <td>0</td>\n",
              "      <td>0</td>\n",
              "      <td>0</td>\n",
              "      <td>0</td>\n",
              "      <td>0</td>\n",
              "      <td>0</td>\n",
              "      <td>0</td>\n",
              "      <td>0</td>\n",
              "      <td>...</td>\n",
              "      <td>0</td>\n",
              "      <td>0</td>\n",
              "      <td>0</td>\n",
              "      <td>0</td>\n",
              "      <td>0</td>\n",
              "      <td>0</td>\n",
              "      <td>0</td>\n",
              "      <td>0</td>\n",
              "      <td>0</td>\n",
              "      <td>0</td>\n",
              "      <td>1</td>\n",
              "      <td>1</td>\n",
              "      <td>0</td>\n",
              "      <td>0</td>\n",
              "      <td>0</td>\n",
              "      <td>0</td>\n",
              "      <td>0</td>\n",
              "      <td>0</td>\n",
              "      <td>0</td>\n",
              "      <td>0</td>\n",
              "      <td>0</td>\n",
              "      <td>0</td>\n",
              "      <td>0</td>\n",
              "      <td>0</td>\n",
              "      <td>0</td>\n",
              "      <td>0</td>\n",
              "      <td>0</td>\n",
              "      <td>0</td>\n",
              "      <td>0</td>\n",
              "      <td>0</td>\n",
              "      <td>0</td>\n",
              "      <td>0</td>\n",
              "      <td>0</td>\n",
              "      <td>0</td>\n",
              "      <td>1</td>\n",
              "      <td>0</td>\n",
              "      <td>0</td>\n",
              "      <td>1</td>\n",
              "      <td>0</td>\n",
              "      <td>0</td>\n",
              "    </tr>\n",
              "    <tr>\n",
              "      <th>4997</th>\n",
              "      <td>1</td>\n",
              "      <td>1</td>\n",
              "      <td>5</td>\n",
              "      <td>7182</td>\n",
              "      <td>0</td>\n",
              "      <td>0</td>\n",
              "      <td>0</td>\n",
              "      <td>0</td>\n",
              "      <td>0</td>\n",
              "      <td>0</td>\n",
              "      <td>0</td>\n",
              "      <td>0</td>\n",
              "      <td>0</td>\n",
              "      <td>0</td>\n",
              "      <td>0</td>\n",
              "      <td>0</td>\n",
              "      <td>0</td>\n",
              "      <td>0</td>\n",
              "      <td>0</td>\n",
              "      <td>0</td>\n",
              "      <td>0</td>\n",
              "      <td>0</td>\n",
              "      <td>0</td>\n",
              "      <td>0</td>\n",
              "      <td>0</td>\n",
              "      <td>0</td>\n",
              "      <td>0</td>\n",
              "      <td>0</td>\n",
              "      <td>0</td>\n",
              "      <td>0</td>\n",
              "      <td>0</td>\n",
              "      <td>0</td>\n",
              "      <td>0</td>\n",
              "      <td>0</td>\n",
              "      <td>0</td>\n",
              "      <td>0</td>\n",
              "      <td>0</td>\n",
              "      <td>0</td>\n",
              "      <td>0</td>\n",
              "      <td>0</td>\n",
              "      <td>...</td>\n",
              "      <td>0</td>\n",
              "      <td>0</td>\n",
              "      <td>0</td>\n",
              "      <td>0</td>\n",
              "      <td>0</td>\n",
              "      <td>0</td>\n",
              "      <td>0</td>\n",
              "      <td>0</td>\n",
              "      <td>0</td>\n",
              "      <td>0</td>\n",
              "      <td>1</td>\n",
              "      <td>0</td>\n",
              "      <td>0</td>\n",
              "      <td>0</td>\n",
              "      <td>0</td>\n",
              "      <td>0</td>\n",
              "      <td>0</td>\n",
              "      <td>1</td>\n",
              "      <td>0</td>\n",
              "      <td>0</td>\n",
              "      <td>0</td>\n",
              "      <td>0</td>\n",
              "      <td>0</td>\n",
              "      <td>0</td>\n",
              "      <td>0</td>\n",
              "      <td>0</td>\n",
              "      <td>0</td>\n",
              "      <td>0</td>\n",
              "      <td>0</td>\n",
              "      <td>0</td>\n",
              "      <td>0</td>\n",
              "      <td>0</td>\n",
              "      <td>0</td>\n",
              "      <td>0</td>\n",
              "      <td>1</td>\n",
              "      <td>1</td>\n",
              "      <td>0</td>\n",
              "      <td>0</td>\n",
              "      <td>0</td>\n",
              "      <td>0</td>\n",
              "    </tr>\n",
              "  </tbody>\n",
              "</table>\n",
              "<p>4998 rows × 1837 columns</p>\n",
              "</div>"
            ],
            "text/plain": [
              "      Gender  Marital_Status  Product_Category_1  ...  Stay_2  Stay_3  Stay_4+\n",
              "0          0               0                   5  ...       0       1        0\n",
              "1          0               0                   7  ...       0       0        0\n",
              "2          0               0                   1  ...       0       0        0\n",
              "3          0               0                   2  ...       0       1        0\n",
              "4          0               0                   3  ...       0       1        0\n",
              "...      ...             ...                 ...  ...     ...     ...      ...\n",
              "4993       1               1                   1  ...       0       0        0\n",
              "4994       1               1                   8  ...       0       0        0\n",
              "4995       1               1                   1  ...       0       1        0\n",
              "4996       1               1                  12  ...       1       0        0\n",
              "4997       1               1                   5  ...       0       0        0\n",
              "\n",
              "[4998 rows x 1837 columns]"
            ]
          },
          "metadata": {
            "tags": []
          },
          "execution_count": 24
        }
      ]
    },
    {
      "cell_type": "markdown",
      "metadata": {
        "id": "GqlG8gDqji71"
      },
      "source": [
        "#Hyperparameter Tuning & Evaluation"
      ]
    },
    {
      "cell_type": "code",
      "metadata": {
        "id": "6LH3qPyHAe_w"
      },
      "source": [
        "#target data 정의\r\n",
        "target='Gender'\r\n",
        "X = df.drop(target, axis=1)\r\n",
        "y = df[target]"
      ],
      "execution_count": 25,
      "outputs": []
    },
    {
      "cell_type": "markdown",
      "metadata": {
        "id": "EqoYx9Rdjya1"
      },
      "source": [
        "##1. KNeighborsClassifier [1]\r\n",
        "*   n_neighbors = 3\r\n",
        "*   metric ='euclidean'<br>\r\n",
        "=> test score : 0.676 (1250개 중 845개 올바르게 분류)\r\n"
      ]
    },
    {
      "cell_type": "code",
      "metadata": {
        "colab": {
          "base_uri": "https://localhost:8080/"
        },
        "id": "9MoAaLyzA92R",
        "outputId": "6b30e21e-1ab8-44f5-873b-34337c8233e0"
      },
      "source": [
        "from sklearn.neighbors import KNeighborsClassifier\r\n",
        "from sklearn.model_selection import train_test_split\r\n",
        "\r\n",
        "x_train, x_test, y_train, y_test = train_test_split(X, y,random_state=12212)\r\n",
        "knn = KNeighborsClassifier(3) \r\n",
        "knn.fit(x_train, y_train)\r\n",
        "print('test score : {:.3f}'.format(knn.score(x_test, y_test)))"
      ],
      "execution_count": 26,
      "outputs": [
        {
          "output_type": "stream",
          "text": [
            "test score : 0.676\n"
          ],
          "name": "stdout"
        }
      ]
    },
    {
      "cell_type": "code",
      "metadata": {
        "colab": {
          "base_uri": "https://localhost:8080/"
        },
        "id": "XJ68OAqLGEYq",
        "outputId": "7381b2ce-9491-4c42-ddcc-8b8a578d6876"
      },
      "source": [
        "results = knn.predict(x_test)\r\n",
        "results"
      ],
      "execution_count": 27,
      "outputs": [
        {
          "output_type": "execute_result",
          "data": {
            "text/plain": [
              "array([1, 1, 1, ..., 1, 1, 1])"
            ]
          },
          "metadata": {
            "tags": []
          },
          "execution_count": 27
        }
      ]
    },
    {
      "cell_type": "code",
      "metadata": {
        "colab": {
          "base_uri": "https://localhost:8080/",
          "height": 164
        },
        "id": "tlIV5LMbGEvO",
        "outputId": "180f95fc-8430-4367-c724-d48e1d41facd"
      },
      "source": [
        "pd.crosstab(y_test, results, rownames=['Real'], colnames=['Predicted'], margins=True, margins_name='total')"
      ],
      "execution_count": 28,
      "outputs": [
        {
          "output_type": "execute_result",
          "data": {
            "text/html": [
              "<div>\n",
              "<style scoped>\n",
              "    .dataframe tbody tr th:only-of-type {\n",
              "        vertical-align: middle;\n",
              "    }\n",
              "\n",
              "    .dataframe tbody tr th {\n",
              "        vertical-align: top;\n",
              "    }\n",
              "\n",
              "    .dataframe thead th {\n",
              "        text-align: right;\n",
              "    }\n",
              "</style>\n",
              "<table border=\"1\" class=\"dataframe\">\n",
              "  <thead>\n",
              "    <tr style=\"text-align: right;\">\n",
              "      <th>Predicted</th>\n",
              "      <th>0</th>\n",
              "      <th>1</th>\n",
              "      <th>total</th>\n",
              "    </tr>\n",
              "    <tr>\n",
              "      <th>Real</th>\n",
              "      <th></th>\n",
              "      <th></th>\n",
              "      <th></th>\n",
              "    </tr>\n",
              "  </thead>\n",
              "  <tbody>\n",
              "    <tr>\n",
              "      <th>0</th>\n",
              "      <td>42</td>\n",
              "      <td>254</td>\n",
              "      <td>296</td>\n",
              "    </tr>\n",
              "    <tr>\n",
              "      <th>1</th>\n",
              "      <td>151</td>\n",
              "      <td>803</td>\n",
              "      <td>954</td>\n",
              "    </tr>\n",
              "    <tr>\n",
              "      <th>total</th>\n",
              "      <td>193</td>\n",
              "      <td>1057</td>\n",
              "      <td>1250</td>\n",
              "    </tr>\n",
              "  </tbody>\n",
              "</table>\n",
              "</div>"
            ],
            "text/plain": [
              "Predicted    0     1  total\n",
              "Real                       \n",
              "0           42   254    296\n",
              "1          151   803    954\n",
              "total      193  1057   1250"
            ]
          },
          "metadata": {
            "tags": []
          },
          "execution_count": 28
        }
      ]
    },
    {
      "cell_type": "code",
      "metadata": {
        "colab": {
          "base_uri": "https://localhost:8080/"
        },
        "id": "E_po5sKqGN88",
        "outputId": "16c17413-bc32-4bf9-b2b9-e43d1c85486d"
      },
      "source": [
        "from sklearn import metrics\r\n",
        "print(metrics.classification_report(y_test,results,target_names=['Male',\"Female\"], digits=3))"
      ],
      "execution_count": 29,
      "outputs": [
        {
          "output_type": "stream",
          "text": [
            "              precision    recall  f1-score   support\n",
            "\n",
            "        Male      0.218     0.142     0.172       296\n",
            "      Female      0.760     0.842     0.799       954\n",
            "\n",
            "    accuracy                          0.676      1250\n",
            "   macro avg      0.489     0.492     0.485      1250\n",
            "weighted avg      0.631     0.676     0.650      1250\n",
            "\n"
          ],
          "name": "stdout"
        }
      ]
    },
    {
      "cell_type": "markdown",
      "metadata": {
        "id": "76NzLE5akMqH"
      },
      "source": [
        "##2. Finding best K<br>\r\n",
        "* k= 1 ~ 29의 accuracy값 그래프\r\n",
        "*  10 fold cross-validation\r\n",
        "\r\n",
        "=> k = 29 일 때 accuaracy값이 제일 높음\r\n"
      ]
    },
    {
      "cell_type": "code",
      "metadata": {
        "colab": {
          "base_uri": "https://localhost:8080/",
          "height": 279
        },
        "id": "g_r_J91yGfg5",
        "outputId": "d7d00499-6ae6-4b23-9625-8282f05b96f7"
      },
      "source": [
        "from sklearn.model_selection import cross_val_score\r\n",
        "k_range = list(range(1,30))           # k를 1~30지 고려하여 최적의 k찾음\r\n",
        "k_score = []                        # 각 k들의 성능 저장하는 리스트\r\n",
        "\r\n",
        "for k in k_range :\r\n",
        "    knn = KNeighborsClassifier(k)\r\n",
        "    scores = cross_val_score(knn, x_train, y_train, cv=10, scoring = \"accuracy\")   \r\n",
        "    k_score.append(scores.mean())                   \r\n",
        "\r\n",
        "plt.plot(k_range, k_score)\r\n",
        "plt.xlabel('Value of K for KNN')\r\n",
        "plt.ylabel('Cross-Validation Accuracy')\r\n",
        "plt.show()"
      ],
      "execution_count": 30,
      "outputs": [
        {
          "output_type": "display_data",
          "data": {
            "image/png": "[encoded data removed]",
            "text/plain": [
              "<Figure size 432x288 with 1 Axes>"
            ]
          },
          "metadata": {
            "tags": [],
            "needs_background": "light"
          }
        }
      ]
    },
    {
      "cell_type": "markdown",
      "metadata": {
        "id": "llHB1QHRk6Vi"
      },
      "source": [
        "## 3. KNeighborsClassifier[2]\r\n",
        "\r\n",
        "\r\n",
        "*   n_neighbors = 15 \r\n",
        "*  metric ='euclidean'<br>\r\n",
        "=> test score : 0.760 (1205개 중 950개 올바르게 분류)\r\n"
      ]
    },
    {
      "cell_type": "code",
      "metadata": {
        "colab": {
          "base_uri": "https://localhost:8080/"
        },
        "id": "WLT7vh8dNtTL",
        "outputId": "b3858aa3-9a5b-4ff5-cedf-256f38422805"
      },
      "source": [
        "x_train, x_test, y_train, y_test = train_test_split(X, y, random_state=12212)\r\n",
        "knn = KNeighborsClassifier(29) \r\n",
        "knn.fit(x_train, y_train)\r\n",
        "print('test score : {:.3f}'.format(knn.score(x_test, y_test)))"
      ],
      "execution_count": 31,
      "outputs": [
        {
          "output_type": "stream",
          "text": [
            "test score : 0.760\n"
          ],
          "name": "stdout"
        }
      ]
    },
    {
      "cell_type": "code",
      "metadata": {
        "colab": {
          "base_uri": "https://localhost:8080/"
        },
        "id": "hh-ijRUhRlhC",
        "outputId": "403b87f4-9250-4372-bd4c-29ccc492ac5c"
      },
      "source": [
        "results = knn.predict(x_test)\r\n",
        "results"
      ],
      "execution_count": 32,
      "outputs": [
        {
          "output_type": "execute_result",
          "data": {
            "text/plain": [
              "array([1, 1, 1, ..., 1, 1, 1])"
            ]
          },
          "metadata": {
            "tags": []
          },
          "execution_count": 32
        }
      ]
    },
    {
      "cell_type": "code",
      "metadata": {
        "colab": {
          "base_uri": "https://localhost:8080/",
          "height": 164
        },
        "id": "2mal4LI6OAVP",
        "outputId": "384ea6a3-d52f-48b3-aaf2-25054b26de5e"
      },
      "source": [
        "pd.crosstab(y_test, results, rownames=['Real'], colnames=['Predicted'], margins=True, margins_name='total')"
      ],
      "execution_count": 33,
      "outputs": [
        {
          "output_type": "execute_result",
          "data": {
            "text/html": [
              "<div>\n",
              "<style scoped>\n",
              "    .dataframe tbody tr th:only-of-type {\n",
              "        vertical-align: middle;\n",
              "    }\n",
              "\n",
              "    .dataframe tbody tr th {\n",
              "        vertical-align: top;\n",
              "    }\n",
              "\n",
              "    .dataframe thead th {\n",
              "        text-align: right;\n",
              "    }\n",
              "</style>\n",
              "<table border=\"1\" class=\"dataframe\">\n",
              "  <thead>\n",
              "    <tr style=\"text-align: right;\">\n",
              "      <th>Predicted</th>\n",
              "      <th>0</th>\n",
              "      <th>1</th>\n",
              "      <th>total</th>\n",
              "    </tr>\n",
              "    <tr>\n",
              "      <th>Real</th>\n",
              "      <th></th>\n",
              "      <th></th>\n",
              "      <th></th>\n",
              "    </tr>\n",
              "  </thead>\n",
              "  <tbody>\n",
              "    <tr>\n",
              "      <th>0</th>\n",
              "      <td>0</td>\n",
              "      <td>296</td>\n",
              "      <td>296</td>\n",
              "    </tr>\n",
              "    <tr>\n",
              "      <th>1</th>\n",
              "      <td>4</td>\n",
              "      <td>950</td>\n",
              "      <td>954</td>\n",
              "    </tr>\n",
              "    <tr>\n",
              "      <th>total</th>\n",
              "      <td>4</td>\n",
              "      <td>1246</td>\n",
              "      <td>1250</td>\n",
              "    </tr>\n",
              "  </tbody>\n",
              "</table>\n",
              "</div>"
            ],
            "text/plain": [
              "Predicted  0     1  total\n",
              "Real                     \n",
              "0          0   296    296\n",
              "1          4   950    954\n",
              "total      4  1246   1250"
            ]
          },
          "metadata": {
            "tags": []
          },
          "execution_count": 33
        }
      ]
    },
    {
      "cell_type": "code",
      "metadata": {
        "colab": {
          "base_uri": "https://localhost:8080/"
        },
        "id": "BLgEBEHkN4w8",
        "outputId": "13d50f9b-5c0f-44c2-fb60-102e52848201"
      },
      "source": [
        "from sklearn import metrics\r\n",
        "print(metrics.classification_report(y_test,results,target_names=['Male',\"Female\"], digits=3))"
      ],
      "execution_count": 34,
      "outputs": [
        {
          "output_type": "stream",
          "text": [
            "              precision    recall  f1-score   support\n",
            "\n",
            "        Male      0.000     0.000     0.000       296\n",
            "      Female      0.762     0.996     0.864       954\n",
            "\n",
            "    accuracy                          0.760      1250\n",
            "   macro avg      0.381     0.498     0.432      1250\n",
            "weighted avg      0.582     0.760     0.659      1250\n",
            "\n"
          ],
          "name": "stdout"
        }
      ]
    },
    {
      "cell_type": "markdown",
      "metadata": {
        "id": "vEoLFFE0nXnT"
      },
      "source": [
        "## 4. Finding best n_neigbors & p"
      ]
    },
    {
      "cell_type": "code",
      "metadata": {
        "id": "44FZdMeyNX60",
        "colab": {
          "base_uri": "https://localhost:8080/"
        },
        "outputId": "05de3894-c4f1-4012-9352-a1963d1f029e"
      },
      "source": [
        "from sklearn.model_selection import KFold, GridSearchCV\r\n",
        "from sklearn.metrics import roc_auc_score\r\n",
        "from sklearn.metrics import accuracy_score\r\n",
        "\r\n",
        "#조정해 볼 Hyperparameters 리스트 \r\n",
        "n_neighbors = list(range(1,30))\r\n",
        "p=[1,2]\r\n",
        "#해당 Hyperparmeters를 딕셔너리 형태로 바꿔 전달 \r\n",
        "hyperparameters = dict(n_neighbors=n_neighbors, p=p)\r\n",
        "cv=KFold(n_splits=10, random_state=42)\r\n",
        "\r\n",
        "#KNN\r\n",
        "knn = KNeighborsClassifier(29)\r\n",
        "clf = GridSearchCV(knn, hyperparameters, cv=cv,scoring='accuracy')\r\n",
        "best_model = clf.fit(x_train,y_train)\r\n",
        "#GridSearchCV를 통해 최적의 Hyperparameters 값 찾기\r\n",
        "print('Best p:', best_model.best_estimator_.get_params()['p'])\r\n",
        "print('Best n_neighbors:', best_model.best_estimator_.get_params()['n_neighbors'])\r\n",
        "#test dataset에 적용\r\n",
        "y_pred = best_model.predict(x_test)\r\n",
        "#accuaracy로 성능평가\r\n",
        "print(accuracy_score(y_test, y_pred))\r\n",
        "#ROC로 성능 평가\r\n",
        "roc_auc_score(y_test, y_pred)"
      ],
      "execution_count": 35,
      "outputs": [
        {
          "output_type": "stream",
          "text": [
            "Best p: 2\n",
            "Best n_neighbors: 25\n",
            "0.756\n"
          ],
          "name": "stdout"
        },
        {
          "output_type": "execute_result",
          "data": {
            "text/plain": [
              "0.4964480990424387"
            ]
          },
          "metadata": {
            "tags": []
          },
          "execution_count": 35
        }
      ]
    },
    {
      "cell_type": "markdown",
      "metadata": {
        "id": "-on0XbfZnoyZ"
      },
      "source": [
        "#Random Oversampling이용\r\n",
        "* 적은 female 자료의 갯수로 인해 oversample 처리하여 데이터 가공\r\n",
        "* 불균형한 자료임으로 RepeatedStratifiedKFold 진행"
      ]
    },
    {
      "cell_type": "code",
      "metadata": {
        "colab": {
          "base_uri": "https://localhost:8080/"
        },
        "id": "x3bIgOiKUPY0",
        "outputId": "da64c642-bb41-42f2-f75d-eb1c07e67cfc"
      },
      "source": [
        "#적은 여성의 분포의 random oversampling\r\n",
        "from numpy import mean\r\n",
        "from collections import Counter\r\n",
        "from sklearn.model_selection import cross_val_score\r\n",
        "from sklearn.model_selection import RepeatedStratifiedKFold\r\n",
        "\r\n",
        "from imblearn.pipeline import Pipeline\r\n",
        "from imblearn.over_sampling import RandomOverSampler\r\n",
        "\r\n",
        "# summarize class distribution\r\n",
        "print(\"y: \",Counter(y))\r\n",
        "# define oversampling strategy\r\n",
        "oversample = RandomOverSampler(sampling_strategy='minority')\r\n",
        "# fit and apply the transform\r\n",
        "X_over, y_over = oversample.fit_resample(X, y)\r\n",
        "# summarize class distribution\r\n",
        "print(\"y over: \",Counter(y_over))\r\n",
        "# define pipeline\r\n",
        "steps = [('over', RandomOverSampler()), ('model', KNeighborsClassifier(29))]\r\n",
        "pipeline = Pipeline(steps=steps)\r\n",
        "# evaluate pipeline\r\n",
        "cv = RepeatedStratifiedKFold(n_splits=10, n_repeats=3, random_state=1)\r\n",
        "scores = cross_val_score(pipeline, X, y, scoring='f1_micro', cv=cv, n_jobs=-1)\r\n",
        "score = mean(scores)\r\n",
        "print('F1 Score: %.3f' % score)"
      ],
      "execution_count": 37,
      "outputs": [
        {
          "output_type": "stream",
          "text": [
            "y:  Counter({1: 3765, 0: 1233})\n",
            "y over:  Counter({0: 3765, 1: 3765})\n",
            "F1 Score: 0.535\n"
          ],
          "name": "stdout"
        }
      ]
    },
    {
      "cell_type": "code",
      "metadata": {
        "id": "_hWuPBxFXC9W"
      },
      "source": [
        ""
      ],
      "execution_count": null,
      "outputs": []
    }
  ]
}
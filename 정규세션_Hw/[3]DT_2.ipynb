{
  "nbformat": 4,
  "nbformat_minor": 0,
  "metadata": {
    "kernelspec": {
      "display_name": "Python 3",
      "language": "python",
      "name": "python3"
    },
    "language_info": {
      "codemirror_mode": {
        "name": "ipython",
        "version": 3
      },
      "file_extension": ".py",
      "mimetype": "text/x-python",
      "name": "python",
      "nbconvert_exporter": "python",
      "pygments_lexer": "ipython3",
      "version": "3.7.3"
    },
    "colab": {
      "name": "[3]DT_2.ipynb",
      "provenance": [],
      "collapsed_sections": []
    }
  },
  "cells": [
    {
      "cell_type": "code",
      "metadata": {
        "id": "N3mhh46gJYTH"
      },
      "source": [
        "import pandas as pd \n",
        "import numpy as np\n",
        "\n",
        "df = pd.read_csv('https://raw.githubusercontent.com/AugustLONG/ML01/master/01decisiontree/AllElectronics.csv')\n",
        "df.drop(\"RID\",axis=1, inplace = True) #RID는 그냥 Index라서 삭제"
      ],
      "execution_count": null,
      "outputs": []
    },
    {
      "cell_type": "code",
      "metadata": {
        "colab": {
          "base_uri": "https://localhost:8080/",
          "height": 473
        },
        "id": "ERNH9Vt1JYTN",
        "outputId": "fb2ed3a6-f2ca-4755-eafb-062b64d5196d"
      },
      "source": [
        "df"
      ],
      "execution_count": null,
      "outputs": [
        {
          "output_type": "execute_result",
          "data": {
            "text/html": [
              "<div>\n",
              "<style scoped>\n",
              "    .dataframe tbody tr th:only-of-type {\n",
              "        vertical-align: middle;\n",
              "    }\n",
              "\n",
              "    .dataframe tbody tr th {\n",
              "        vertical-align: top;\n",
              "    }\n",
              "\n",
              "    .dataframe thead th {\n",
              "        text-align: right;\n",
              "    }\n",
              "</style>\n",
              "<table border=\"1\" class=\"dataframe\">\n",
              "  <thead>\n",
              "    <tr style=\"text-align: right;\">\n",
              "      <th></th>\n",
              "      <th>age</th>\n",
              "      <th>income</th>\n",
              "      <th>student</th>\n",
              "      <th>credit_rating</th>\n",
              "      <th>class_buys_computer</th>\n",
              "    </tr>\n",
              "  </thead>\n",
              "  <tbody>\n",
              "    <tr>\n",
              "      <th>0</th>\n",
              "      <td>youth</td>\n",
              "      <td>high</td>\n",
              "      <td>no</td>\n",
              "      <td>fair</td>\n",
              "      <td>no</td>\n",
              "    </tr>\n",
              "    <tr>\n",
              "      <th>1</th>\n",
              "      <td>youth</td>\n",
              "      <td>high</td>\n",
              "      <td>no</td>\n",
              "      <td>excellent</td>\n",
              "      <td>no</td>\n",
              "    </tr>\n",
              "    <tr>\n",
              "      <th>2</th>\n",
              "      <td>middle_aged</td>\n",
              "      <td>high</td>\n",
              "      <td>no</td>\n",
              "      <td>fair</td>\n",
              "      <td>yes</td>\n",
              "    </tr>\n",
              "    <tr>\n",
              "      <th>3</th>\n",
              "      <td>senior</td>\n",
              "      <td>medium</td>\n",
              "      <td>no</td>\n",
              "      <td>fair</td>\n",
              "      <td>yes</td>\n",
              "    </tr>\n",
              "    <tr>\n",
              "      <th>4</th>\n",
              "      <td>senior</td>\n",
              "      <td>low</td>\n",
              "      <td>yes</td>\n",
              "      <td>fair</td>\n",
              "      <td>yes</td>\n",
              "    </tr>\n",
              "    <tr>\n",
              "      <th>5</th>\n",
              "      <td>senior</td>\n",
              "      <td>low</td>\n",
              "      <td>yes</td>\n",
              "      <td>excellent</td>\n",
              "      <td>no</td>\n",
              "    </tr>\n",
              "    <tr>\n",
              "      <th>6</th>\n",
              "      <td>middle_aged</td>\n",
              "      <td>low</td>\n",
              "      <td>yes</td>\n",
              "      <td>excellent</td>\n",
              "      <td>yes</td>\n",
              "    </tr>\n",
              "    <tr>\n",
              "      <th>7</th>\n",
              "      <td>youth</td>\n",
              "      <td>medium</td>\n",
              "      <td>no</td>\n",
              "      <td>fair</td>\n",
              "      <td>no</td>\n",
              "    </tr>\n",
              "    <tr>\n",
              "      <th>8</th>\n",
              "      <td>youth</td>\n",
              "      <td>low</td>\n",
              "      <td>yes</td>\n",
              "      <td>fair</td>\n",
              "      <td>yes</td>\n",
              "    </tr>\n",
              "    <tr>\n",
              "      <th>9</th>\n",
              "      <td>senior</td>\n",
              "      <td>medium</td>\n",
              "      <td>yes</td>\n",
              "      <td>fair</td>\n",
              "      <td>yes</td>\n",
              "    </tr>\n",
              "    <tr>\n",
              "      <th>10</th>\n",
              "      <td>youth</td>\n",
              "      <td>medium</td>\n",
              "      <td>yes</td>\n",
              "      <td>excellent</td>\n",
              "      <td>yes</td>\n",
              "    </tr>\n",
              "    <tr>\n",
              "      <th>11</th>\n",
              "      <td>middle_aged</td>\n",
              "      <td>medium</td>\n",
              "      <td>no</td>\n",
              "      <td>excellent</td>\n",
              "      <td>yes</td>\n",
              "    </tr>\n",
              "    <tr>\n",
              "      <th>12</th>\n",
              "      <td>middle_aged</td>\n",
              "      <td>high</td>\n",
              "      <td>yes</td>\n",
              "      <td>fair</td>\n",
              "      <td>yes</td>\n",
              "    </tr>\n",
              "    <tr>\n",
              "      <th>13</th>\n",
              "      <td>senior</td>\n",
              "      <td>medium</td>\n",
              "      <td>no</td>\n",
              "      <td>excellent</td>\n",
              "      <td>no</td>\n",
              "    </tr>\n",
              "  </tbody>\n",
              "</table>\n",
              "</div>"
            ],
            "text/plain": [
              "            age  income student credit_rating class_buys_computer\n",
              "0         youth    high      no          fair                  no\n",
              "1         youth    high      no     excellent                  no\n",
              "2   middle_aged    high      no          fair                 yes\n",
              "3        senior  medium      no          fair                 yes\n",
              "4        senior     low     yes          fair                 yes\n",
              "5        senior     low     yes     excellent                  no\n",
              "6   middle_aged     low     yes     excellent                 yes\n",
              "7         youth  medium      no          fair                  no\n",
              "8         youth     low     yes          fair                 yes\n",
              "9        senior  medium     yes          fair                 yes\n",
              "10        youth  medium     yes     excellent                 yes\n",
              "11  middle_aged  medium      no     excellent                 yes\n",
              "12  middle_aged    high     yes          fair                 yes\n",
              "13       senior  medium      no     excellent                  no"
            ]
          },
          "metadata": {
            "tags": []
          },
          "execution_count": 2
        }
      ]
    },
    {
      "cell_type": "markdown",
      "metadata": {
        "id": "MhcXlfS9k_vW"
      },
      "source": [
        "#Entropy\r\n",
        "$Entropy(a) = -\\sum_{k = 1}^{m}{p_klog_2(p_k)}$"
      ]
    },
    {
      "cell_type": "code",
      "metadata": {
        "id": "ItWk4AkpJYTO"
      },
      "source": [
        "import math\n",
        "def getEntropy(df, feature) :\n",
        "  fea_class=df[feature].unique() #매개변수 feature(목표변수)의 각 class값을 fea_class에 넣기\n",
        "\n",
        "  entropy=0 #entropy 값을 저장하는 변수\n",
        "  for i in fea_class: #fea_class에서 class 값을 하나씩 받아옴\n",
        "    p=len(df[df[feature]==i])/len(df[feature]) #전체에서 해당 class의 비율인 확률을 구함\n",
        "    entropy-=p*math.log(p,2) #해당 확률과 확률에 로그를 씌운 값을 누적함\n",
        "\n",
        "  #for문을 다 돌면 매개변수의 feature(목표변수)의 엔트로피가 반환됨\n",
        "\n",
        "\n",
        "  return entropy"
      ],
      "execution_count": null,
      "outputs": []
    },
    {
      "cell_type": "code",
      "metadata": {
        "colab": {
          "base_uri": "https://localhost:8080/"
        },
        "id": "H8AQXHt0JYTP",
        "outputId": "9d976e0d-2292-455e-a2be-38bd7497ab65"
      },
      "source": [
        "getEntropy(df, \"class_buys_computer\")"
      ],
      "execution_count": null,
      "outputs": [
        {
          "output_type": "execute_result",
          "data": {
            "text/plain": [
              "0.9402859586706309"
            ]
          },
          "metadata": {
            "tags": []
          },
          "execution_count": 6
        }
      ]
    },
    {
      "cell_type": "markdown",
      "metadata": {
        "id": "Zeq6K7t0nQMF"
      },
      "source": [
        "#Information Gain \r\n",
        ": 상위 노드의 Entropy에서 하위노드의 Entropy를 뺀 값<br><br>\r\n",
        "$Info(D) = Entropy_{label}$<br>\r\n",
        "$ I(S,A)=\\sum_{i}{\\frac{|S_i|}{|S|}E(S_i)}$<br>\r\n",
        "$Gain(S,A)=E(S)-I(S,A)=E(S)-\\sum_{i}{\\frac{|S_i|}{|S|}E(S_i)}$"
      ]
    },
    {
      "cell_type": "code",
      "metadata": {
        "id": "JxdbUez_WDsa"
      },
      "source": [
        "def getGainA(df, feature) :\r\n",
        "    info_D = getEntropy(df, feature) # 목표변수에 대한 Entropy 를 구하기\r\n",
        "    columns = list(df.loc[:, df.columns != feature]) # 목표변수(feature)를 제외한 나머지 변수들의 변수명을 리스트 형태로 저장\r\n",
        "    \r\n",
        "    result={}\r\n",
        "    for i in columns: #for문을 돌며 나머지 변수에 대해 하나씩 계산함\r\n",
        "      fea_class=df[i].unique() #for을 돌며 할당받은 변수에 대한 class 값을 받아서 저장\r\n",
        "      under_entropy=0 #각각 class에 대한 하위 엔트로피 값을 받을 것임으로 0으로\r\n",
        "      for j in fea_class: #for 문을 돌며 할당받은 변수에 대한 class에 대해서 하나씩 계산\r\n",
        "        under_entropy+=getEntropy(df[df[i]==j],feature)*(len(df[df[i]==j])/len(df[i])) \r\n",
        "        #class값에 대한 엔트로피 값과 그 변수에서 해당 class가 가치하는 비율을 구해서 곱한다 => 가중치를 고려한 평균!!\r\n",
        "      result[i]=info_D-under_entropy \r\n",
        "      #할당받은 변수의 모든 class에 대해 계산을 수행했으니 key값을 변수 이름, value를 information gain값으로 하여 딕셔너리로 저장\r\n",
        "    return result\r\n",
        "    #변수에 대한 infomation gain값이 담긴 딕셔너리를 반환"
      ],
      "execution_count": null,
      "outputs": []
    },
    {
      "cell_type": "code",
      "metadata": {
        "colab": {
          "base_uri": "https://localhost:8080/"
        },
        "id": "Awq63E-xJYTP",
        "outputId": "abb06395-0437-4f39-f292-2dbe0c947f6f"
      },
      "source": [
        "getGainA(df, \"class_buys_computer\")"
      ],
      "execution_count": null,
      "outputs": [
        {
          "output_type": "execute_result",
          "data": {
            "text/plain": [
              "{'age': 0.2467498197744391,\n",
              " 'credit_rating': 0.04812703040826927,\n",
              " 'income': 0.029222565658954647,\n",
              " 'student': 0.15183550136234136}"
            ]
          },
          "metadata": {
            "tags": []
          },
          "execution_count": 43
        }
      ]
    }
  ]
}
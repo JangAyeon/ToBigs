{
  "nbformat": 4,
  "nbformat_minor": 0,
  "metadata": {
    "colab": {
      "name": "[8]CNN.ipynb",
      "provenance": [],
      "collapsed_sections": []
    },
    "kernelspec": {
      "display_name": "Python 3",
      "language": "python",
      "name": "python3"
    },
    "language_info": {
      "codemirror_mode": {
        "name": "ipython",
        "version": 3
      },
      "file_extension": ".py",
      "mimetype": "text/x-python",
      "name": "python",
      "nbconvert_exporter": "python",
      "pygments_lexer": "ipython3",
      "version": "3.8.5"
    }
  },
  "cells": [
    {
      "cell_type": "markdown",
      "metadata": {
        "id": "yclCebBQFn2I"
      },
      "source": [
        "# CNNbasic Assignment#1\n",
        "\n",
        "\n",
        "마크다운과 코드 속 `???` 를 채워주시면 됩니다!-!\n",
        "\n",
        "\n",
        "# AlexNet\n",
        "\n",
        "모델 구조 사진과 논문 사이트입니다.\n",
        "\n",
        "- paper: http://www.cs.toronto.edu/~fritz/absps/imagenet.pdf\n",
        "\n",
        "- dataset: http://image-net.org/challenges/LSVRC/2012/index#task\n",
        "\n",
        "- Model architecture\n",
        "\n",
        "![image.architecture1](attachment:image.png)\n",
        "\n",
        "![model_architecture2](https://t1.daumcdn.net/cfile/tistory/99FEB93C5C80B5192E)\n",
        "\n",
        "The second convolutional layer takes as input the (response-normalized\n",
        "and pooled) output of the first convolutional layer and filters it with 256 kernels of size 5 × 5 × 48.\n",
        "The third, fourth, and fifth convolutional layers are connected to one another without any intervening\n",
        "pooling or normalization layers. The third convolutional layer has 384 kernels of size 3 × 3 ×\n",
        "256 connected to the (normalized, pooled) outputs of the second convolutional layer. The fourth\n",
        "convolutional layer has 384 kernels of size 3 × 3 × 192 , and the fifth convolutional layer has 256\n",
        "kernels of size 3 × 3 × 192. The fully-connected layers have 4096 neurons each.\n",
        "\n",
        "\n",
        "### Naive Version\n",
        "CONV_1 - POOL_1 - CONV_2 - POOL_2 - CONV_3 - CONV_4 - CONV_5 - POOL_3 - FC1 - FC2 - FC3 (->SOFTMAX)\n",
        "\n",
        "### detailed\n",
        "CONV_1(ReLU) - POOL_1 - CONV_2(ReLU) - POOL_2 - CONV_3(ReLU) - CONV_4(ReLU) - CONV_5(ReLU) - POOL_3 -(Flatten) FC1(ReLU) - FC2(ReLU) - FC3(->SOFTMAX)"
      ]
    },
    {
      "cell_type": "markdown",
      "metadata": {
        "id": "exDZxL9QFn2L"
      },
      "source": [
        "## Layer 1 is a Convolution Layer_1\n",
        "\n",
        "- **Input Image size**     논문 상 오타로 input은 227x227x3입니다!\n",
        "\n",
        "- **Number of filters**     `96`\n",
        "\n",
        "- **Filter size**     `11 x 11 x 3`\n",
        "\n",
        "- **Stride**     `4`\n",
        "\n",
        "- **Layer 1 Output**     `55 x 55 x 96`\n",
        "\n",
        "(227+0-11)/4+1=55"
      ]
    },
    {
      "cell_type": "code",
      "metadata": {
        "colab": {
          "base_uri": "https://localhost:8080/"
        },
        "id": "Hic8k2z0AjH9",
        "outputId": "fbde604c-7c04-46a5-ebfe-a35ec444dbde"
      },
      "source": [
        "## TODO ##\n",
        "\n",
        "######################################################\n",
        "#  Calculate the number of parameters in this layer  #\n",
        "######################################################\n",
        "\n",
        "Conv_1 = 11 * 11 * 3 * 96 + 96\n",
        "Conv_1\n",
        "# '''Don't forget to include Bias'''"
      ],
      "execution_count": 1,
      "outputs": [
        {
          "output_type": "execute_result",
          "data": {
            "text/plain": [
              "34944"
            ]
          },
          "metadata": {
            "tags": []
          },
          "execution_count": 1
        }
      ]
    },
    {
      "cell_type": "markdown",
      "metadata": {
        "id": "XvlIbO-uFn2V"
      },
      "source": [
        "## Layer 2 is a Max Pooling_1 Followed by Convolution_1\n",
        "\n",
        "- **Input**     `55 * 55 * 96`\n",
        "\n",
        "- **Max pooling**      \n",
        "\n",
        "- **Pooling size** (overlapping)      `3 * 3`\n",
        "\n",
        "- **Stride**     `2`\n",
        "\n",
        "- **Layer 2 Output**     ` 27* 27 * 96`\n",
        "    \n",
        "    * 차원은 변함 없음"
      ]
    },
    {
      "cell_type": "code",
      "metadata": {
        "colab": {
          "base_uri": "https://localhost:8080/"
        },
        "id": "t5_Dc9PdAjIB",
        "outputId": "fbe95d86-d5ab-42f3-9603-9d81c7c52b85"
      },
      "source": [
        "## TODO \n",
        "\n",
        "######################################################\n",
        "#  Calculate the number of parameters in this layer  #\n",
        "######################################################\n",
        "\n",
        "Max_pool_1 = 0\n",
        "Max_pool_1"
      ],
      "execution_count": 2,
      "outputs": [
        {
          "output_type": "execute_result",
          "data": {
            "text/plain": [
              "0"
            ]
          },
          "metadata": {
            "tags": []
          },
          "execution_count": 2
        }
      ]
    },
    {
      "cell_type": "markdown",
      "metadata": {
        "id": "r70OGeViFn2Z"
      },
      "source": [
        "## Layer 3 is a Convolution Layer_2\n",
        "\n",
        "- **Input**     `27 * 27 * 96`\n",
        "\n",
        "- **Number of filters**     `256`\n",
        "\n",
        "- **Filter size**     `5 * 5 * 96`\n",
        "\n",
        "- **Stride**     `1`\n",
        "\n",
        "- **padding**     `1`\n",
        "\n",
        "- **Layer 3 Output**     `27 * 27 * 256`"
      ]
    },
    {
      "cell_type": "code",
      "metadata": {
        "colab": {
          "base_uri": "https://localhost:8080/"
        },
        "id": "TcJPAnaoAjIE",
        "outputId": "194c4dca-bad7-4fad-f523-a91d7471648c"
      },
      "source": [
        "## TODO \n",
        "\n",
        "######################################################\n",
        "#  Calculate the number of parameters in this layer  #\n",
        "######################################################\n",
        "\n",
        "Conv_2 = 5 * 5 * 96  * 256 + 256\n",
        "Conv_2"
      ],
      "execution_count": 3,
      "outputs": [
        {
          "output_type": "execute_result",
          "data": {
            "text/plain": [
              "614656"
            ]
          },
          "metadata": {
            "tags": []
          },
          "execution_count": 3
        }
      ]
    },
    {
      "cell_type": "markdown",
      "metadata": {
        "id": "DQZhwY4eFn2e"
      },
      "source": [
        "## Layer 4 is a Max Pooling_2 Followed by Convolution_2\n",
        "\n",
        "- **Input**     `27 * 27 * 256`\n",
        "\n",
        "- **Max pooling**      \n",
        "\n",
        "- **Pooling size**(overlapping)     `3 * 3`\n",
        "\n",
        "- **Stride**     `2`\n",
        "\n",
        "- **Layer 4 Output**     `13 * 13 * 256`"
      ]
    },
    {
      "cell_type": "code",
      "metadata": {
        "colab": {
          "base_uri": "https://localhost:8080/"
        },
        "id": "50uO8iaqAjIH",
        "outputId": "72c93593-a613-448a-ae31-98e319407a07"
      },
      "source": [
        "## TODO \n",
        "\n",
        "######################################################\n",
        "#  Calculate the number of parameters in this layer  #\n",
        "######################################################\n",
        "\n",
        "Max_pool_2 = 0\n",
        "Max_pool_2"
      ],
      "execution_count": 4,
      "outputs": [
        {
          "output_type": "execute_result",
          "data": {
            "text/plain": [
              "0"
            ]
          },
          "metadata": {
            "tags": []
          },
          "execution_count": 4
        }
      ]
    },
    {
      "cell_type": "markdown",
      "metadata": {
        "id": "xPm4PRFAFn2i"
      },
      "source": [
        "## Layer 5 is a Convolution Layer_3\n",
        "\n",
        "- **Input**     `13 * 13 * 256`\n",
        "\n",
        "- **Number of filters**     `384`\n",
        "\n",
        "- **Filter size**     `3 * 3 * 256`\n",
        "\n",
        "- **Stride**     `1`\n",
        "\n",
        "- **padding**     `2`\n",
        "\n",
        "- **Layer 5 Output**     `13 * 13 * 384`\n"
      ]
    },
    {
      "cell_type": "code",
      "metadata": {
        "colab": {
          "base_uri": "https://localhost:8080/"
        },
        "id": "lYYr7dzqAjIK",
        "outputId": "ea25ccb7-470e-4fc7-ff60-ed3d4cf0502d"
      },
      "source": [
        "## TODO \n",
        "\n",
        "######################################################\n",
        "#  Calculate the number of parameters in this layer  #\n",
        "######################################################\n",
        "\n",
        "Conv_3 = 3 * 3 * 256 + 256\n",
        "Conv_3"
      ],
      "execution_count": 5,
      "outputs": [
        {
          "output_type": "execute_result",
          "data": {
            "text/plain": [
              "2560"
            ]
          },
          "metadata": {
            "tags": []
          },
          "execution_count": 5
        }
      ]
    },
    {
      "cell_type": "markdown",
      "metadata": {
        "id": "Yv57b2vxFn2o"
      },
      "source": [
        "## Layer 6 is  a Convolution Layer_4\n",
        "\n",
        "- **Input**     `13 * 13 * 384`\n",
        "\n",
        "- **Number of filters**     `384`\n",
        "\n",
        "- **Filter size**     `384`\n",
        "\n",
        "- **Stride**     `1`\n",
        "\n",
        "- **padding**     `1`\n",
        "\n",
        "- **Layer 6 Output**     `13 * 13 * 384`"
      ]
    },
    {
      "cell_type": "code",
      "metadata": {
        "colab": {
          "base_uri": "https://localhost:8080/"
        },
        "id": "oeGOKM9tAjIO",
        "outputId": "bea1f0b2-a0f1-4916-acbe-b758271a1b84"
      },
      "source": [
        "## TODO \n",
        "\n",
        "######################################################\n",
        "#  Calculate the number of parameters in this layer  #\n",
        "######################################################\n",
        "\n",
        "Conv_4 = 3 * 3 * 384 * 384 + 384\n",
        "Conv_4"
      ],
      "execution_count": 6,
      "outputs": [
        {
          "output_type": "execute_result",
          "data": {
            "text/plain": [
              "1327488"
            ]
          },
          "metadata": {
            "tags": []
          },
          "execution_count": 6
        }
      ]
    },
    {
      "cell_type": "markdown",
      "metadata": {
        "id": "NiQL84J_Fn2s"
      },
      "source": [
        "## Layer 7 is a Convolution Layer_5\n",
        "\n",
        "- **Input**     `13 * 13 * 384`\n",
        "\n",
        "- **Number of filters**     `256`\n",
        "\n",
        "- **Filter size**     `3 * 3 * 384`\n",
        "\n",
        "- **Stride**     `1`\n",
        "\n",
        "- **padding**     `1`\n",
        "\n",
        "- **Layer 7 Output**     `13 * 13 * 256`"
      ]
    },
    {
      "cell_type": "code",
      "metadata": {
        "colab": {
          "base_uri": "https://localhost:8080/"
        },
        "id": "1F-Svz4BAjIS",
        "outputId": "5b880c22-692a-4481-b3ce-a69ff56f03b3"
      },
      "source": [
        "## TODO \n",
        "\n",
        "######################################################\n",
        "#  Calculate the number of parameters in this layer  #\n",
        "######################################################\n",
        "\n",
        "Conv_5 = 3 * 3 * 384 * 256 + 256\n",
        "Conv_5"
      ],
      "execution_count": 7,
      "outputs": [
        {
          "output_type": "execute_result",
          "data": {
            "text/plain": [
              "884992"
            ]
          },
          "metadata": {
            "tags": []
          },
          "execution_count": 7
        }
      ]
    },
    {
      "cell_type": "markdown",
      "metadata": {
        "id": "WSTe-0IxFn2w"
      },
      "source": [
        "## Layer 8 is a Max Pooling_3 Followed by Convolution_5\n",
        "\n",
        "- **Input**     `13 * 13 * 256`\n",
        "\n",
        "- **Max pooling**    \n",
        "\n",
        "- **Pooling size**(overlapping)     `3 * 3`\n",
        "\n",
        "- **Stride**     `2`\n",
        "\n",
        "- **Layer 8 Output**     `6 * 6 * 256`"
      ]
    },
    {
      "cell_type": "code",
      "metadata": {
        "colab": {
          "base_uri": "https://localhost:8080/"
        },
        "id": "fdjQfyA1AjIW",
        "outputId": "5f974c5c-7c1a-4ae1-aaf5-2ad69c91ee36"
      },
      "source": [
        "## TODO \n",
        "\n",
        "######################################################\n",
        "#  Calculate the number of parameters in this layer  #\n",
        "######################################################\n",
        "\n",
        "Max_pool_3 = 0\n",
        "Max_pool_3"
      ],
      "execution_count": 8,
      "outputs": [
        {
          "output_type": "execute_result",
          "data": {
            "text/plain": [
              "0"
            ]
          },
          "metadata": {
            "tags": []
          },
          "execution_count": 8
        }
      ]
    },
    {
      "cell_type": "markdown",
      "metadata": {
        "id": "798N3vBYFn21"
      },
      "source": [
        "## Layer 9 is a Fully_Connected layer_1\n",
        "\n",
        "- **input**     `6 * 6 * 256`\n",
        "- **flatten**     `4096`\n",
        "\n",
        "- **output size**     `(1,4096) * (4096,4096)`\n",
        "\n",
        "- **N** Number of input data     = 1"
      ]
    },
    {
      "cell_type": "code",
      "metadata": {
        "colab": {
          "base_uri": "https://localhost:8080/"
        },
        "id": "arYNe0j0AjIa",
        "outputId": "23ea9750-9837-4285-93b4-049b66d14f09"
      },
      "source": [
        "## TODO \n",
        "\n",
        "######################################################\n",
        "#  Calculate the number of parameters in this layer  #\n",
        "######################################################\n",
        "\n",
        "FC1 = 6 * 6 * 256 * 4096 + 4096\n",
        "FC1"
      ],
      "execution_count": 9,
      "outputs": [
        {
          "output_type": "execute_result",
          "data": {
            "text/plain": [
              "37752832"
            ]
          },
          "metadata": {
            "tags": []
          },
          "execution_count": 9
        }
      ]
    },
    {
      "cell_type": "markdown",
      "metadata": {
        "id": "kIfvpHPTFn25"
      },
      "source": [
        "## Layer 10 is a Fully_Connected layer_2\n",
        "\n",
        "- **input**     `(1,4096)`\n",
        "\n",
        "- **output size**     `(1,4096) * (4096,4096)`\n",
        "\n",
        "- **N** Number of input data =     1"
      ]
    },
    {
      "cell_type": "code",
      "metadata": {
        "colab": {
          "base_uri": "https://localhost:8080/"
        },
        "id": "a0vKq7MDAjId",
        "outputId": "809ad65b-5113-42e4-b714-7448b993103e"
      },
      "source": [
        "## TODO \n",
        "\n",
        "######################################################\n",
        "#  Calculate the number of parameters in this layer  #\n",
        "######################################################\n",
        "\n",
        "FC2 = 4096 * 4096 + 4096\n",
        "FC2"
      ],
      "execution_count": 10,
      "outputs": [
        {
          "output_type": "execute_result",
          "data": {
            "text/plain": [
              "16781312"
            ]
          },
          "metadata": {
            "tags": []
          },
          "execution_count": 10
        }
      ]
    },
    {
      "cell_type": "markdown",
      "metadata": {
        "id": "N8TaZQTBFn29"
      },
      "source": [
        "## Layer 11 is a Fully_Connected layer_3\n",
        "\n",
        "- **input**     `(1,4096)`\n",
        "\n",
        "- **output size**     `(1,4096) * (4096,1000)`\n",
        "\n",
        "- **N** Number of input data =     1\n",
        "\n",
        "- **Num_classes** Number of labels =    1000"
      ]
    },
    {
      "cell_type": "code",
      "metadata": {
        "colab": {
          "base_uri": "https://localhost:8080/"
        },
        "id": "nMo_gEd_AjIh",
        "outputId": "f99f2252-78c7-436a-cdb6-43665bd04532"
      },
      "source": [
        "## TODO \n",
        "\n",
        "######################################################\n",
        "#  Calculate the number of parameters in this layer  #\n",
        "######################################################\n",
        "\n",
        "FC3 = 4096 * 1000 + 4096\n",
        "FC3"
      ],
      "execution_count": 11,
      "outputs": [
        {
          "output_type": "execute_result",
          "data": {
            "text/plain": [
              "4100096"
            ]
          },
          "metadata": {
            "tags": []
          },
          "execution_count": 11
        }
      ]
    },
    {
      "cell_type": "code",
      "metadata": {
        "id": "GXKhxzLPM4wt"
      },
      "source": [
        ""
      ],
      "execution_count": 11,
      "outputs": []
    }
  ]
}
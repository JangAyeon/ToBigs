{
  "nbformat": 4,
  "nbformat_minor": 0,
  "metadata": {
    "kernelspec": {
      "display_name": "Python 3",
      "language": "python",
      "name": "python3"
    },
    "language_info": {
      "codemirror_mode": {
        "name": "ipython",
        "version": 3
      },
      "file_extension": ".py",
      "mimetype": "text/x-python",
      "name": "python",
      "nbconvert_exporter": "python",
      "pygments_lexer": "ipython3",
      "version": "3.8.5"
    },
    "colab": {
      "name": "[6]NeuralNetworkBasic_2.ipynb",
      "provenance": [],
      "toc_visible": true,
      "include_colab_link": true
    }
  },
  "cells": [
    {
      "cell_type": "markdown",
      "metadata": {
        "id": "view-in-github",
        "colab_type": "text"
      },
      "source": [
        "<a href=\"https://colab.research.google.com/github/JangAyeon/ToBigs/blob/master/%5B6%5DNeuralNetworkBasic_2.ipynb\" target=\"_parent\"><img src=\"https://colab.research.google.com/assets/colab-badge.svg\" alt=\"Open In Colab\"/></a>"
      ]
    },
    {
      "cell_type": "markdown",
      "metadata": {
        "id": "diMVTLYsZRoZ"
      },
      "source": [
        "# Week 6) Neural Network Basic 과제"
      ]
    },
    {
      "cell_type": "code",
      "metadata": {
        "id": "AYrnWGz-ZRoc"
      },
      "source": [
        "import numpy as np\n",
        "from matplotlib import pyplot as plt"
      ],
      "execution_count": null,
      "outputs": []
    },
    {
      "cell_type": "markdown",
      "metadata": {
        "id": "OcyLtDWIZRoc"
      },
      "source": [
        "## 데이터 불러오기"
      ]
    },
    {
      "cell_type": "markdown",
      "metadata": {
        "id": "Y2zO36iwZRod"
      },
      "source": [
        "#### 데이터셋: CIFAR-10\n",
        "- 32x32 픽셀의 60,000개 컬러이미지\n",
        "- 10개의 클래스로 라벨링 되어있음"
      ]
    },
    {
      "cell_type": "markdown",
      "metadata": {
        "id": "uSoG4eG1ZRod"
      },
      "source": [
        "![image.png](attachment:9602b2f5-a9de-4411-acb4-7df5f1ea4c1a.png)"
      ]
    },
    {
      "cell_type": "code",
      "metadata": {
        "id": "XzPbioLGZRod"
      },
      "source": [
        "x_train = np.load(\"./x_train_data.npy\")\n",
        "y_train = np.load(\"./y_train_data.npy\")\n",
        "x_test = np.load(\"./x_test_data.npy\")\n",
        "y_test = np.load(\"./y_test_data.npy\")"
      ],
      "execution_count": null,
      "outputs": []
    },
    {
      "cell_type": "code",
      "metadata": {
        "id": "nAbGP0gBZRoe",
        "outputId": "8244dc1f-ae00-4b02-f7a1-38e17cce4aa6"
      },
      "source": [
        "x_train.shape, y_train.shape, x_test.shape, y_test.shape"
      ],
      "execution_count": null,
      "outputs": [
        {
          "output_type": "execute_result",
          "data": {
            "text/plain": [
              "((5000, 3072), (5000,), (1000, 3072), (1000,))"
            ]
          },
          "metadata": {
            "tags": []
          },
          "execution_count": 39
        }
      ]
    },
    {
      "cell_type": "markdown",
      "metadata": {
        "id": "yFZmGR-mZRoe"
      },
      "source": [
        "## Activation Function"
      ]
    },
    {
      "cell_type": "markdown",
      "metadata": {
        "id": "aQtXC_4RZRof"
      },
      "source": [
        "### Sigmoid Function"
      ]
    },
    {
      "cell_type": "code",
      "metadata": {
        "id": "fE70rQzoZRof"
      },
      "source": [
        "class sigmoid:\n",
        "    # sigmoid 함수입니다.\n",
        "    def forward(x):\n",
        "        return 1 / (1+np.exp(-x))\n",
        "    \n",
        "    # sigmoid 함수의 미분을 작성하세요\n",
        "    def backward(x):\n",
        "        return x*(1-x)"
      ],
      "execution_count": null,
      "outputs": []
    },
    {
      "cell_type": "code",
      "metadata": {
        "id": "Gb4fuujIZRof"
      },
      "source": [
        "a = np.array([-1,2,3])"
      ],
      "execution_count": null,
      "outputs": []
    },
    {
      "cell_type": "code",
      "metadata": {
        "id": "ZkcS1aqTZRog",
        "outputId": "a711bccb-07cd-43ac-ac0a-85e53b3a52a1"
      },
      "source": [
        "sigmoid.forward(a)"
      ],
      "execution_count": null,
      "outputs": [
        {
          "output_type": "execute_result",
          "data": {
            "text/plain": [
              "array([0.26894142, 0.88079708, 0.95257413])"
            ]
          },
          "metadata": {
            "tags": []
          },
          "execution_count": 42
        }
      ]
    },
    {
      "cell_type": "code",
      "metadata": {
        "id": "H2FXXR9hZRog",
        "outputId": "df87f8f6-069c-4224-9158-fe2dccfeae62"
      },
      "source": [
        "sigmoid.backward(a)"
      ],
      "execution_count": null,
      "outputs": [
        {
          "output_type": "execute_result",
          "data": {
            "text/plain": [
              "array([-2, -2, -6])"
            ]
          },
          "metadata": {
            "tags": []
          },
          "execution_count": 43
        }
      ]
    },
    {
      "cell_type": "markdown",
      "metadata": {
        "id": "T12Jx_LuZRog"
      },
      "source": [
        "### ReLU"
      ]
    },
    {
      "cell_type": "code",
      "metadata": {
        "id": "FO3SnmyVZRog"
      },
      "source": [
        "class relu:\n",
        "    # relu 함수를 작성하세요\n",
        "    def forward(x):\n",
        "        return np.maximum(0,x)\n",
        "    \n",
        "    # relu 함수의 미분을 작성하세요\n",
        "    def backward(x):\n",
        "        return np.where(x>0,1,0)"
      ],
      "execution_count": null,
      "outputs": []
    },
    {
      "cell_type": "code",
      "metadata": {
        "id": "Qg6wmNcUZRoh",
        "outputId": "905d5f29-8817-461d-e1c9-cf7718462d48"
      },
      "source": [
        "relu.forward(a)"
      ],
      "execution_count": null,
      "outputs": [
        {
          "output_type": "execute_result",
          "data": {
            "text/plain": [
              "array([0, 2, 3])"
            ]
          },
          "metadata": {
            "tags": []
          },
          "execution_count": 45
        }
      ]
    },
    {
      "cell_type": "code",
      "metadata": {
        "id": "pu4BXozGZRoh",
        "outputId": "fc9a4e36-9d3c-43ac-a5bd-fc7d1923ea19"
      },
      "source": [
        "relu.backward(a)"
      ],
      "execution_count": null,
      "outputs": [
        {
          "output_type": "execute_result",
          "data": {
            "text/plain": [
              "array([0, 1, 1])"
            ]
          },
          "metadata": {
            "tags": []
          },
          "execution_count": 46
        }
      ]
    },
    {
      "cell_type": "markdown",
      "metadata": {
        "id": "kYN_02MJZRoh"
      },
      "source": [
        "### Output Activation Function"
      ]
    },
    {
      "cell_type": "code",
      "metadata": {
        "id": "iDTJufg4ZRoh"
      },
      "source": [
        "class softmax:\n",
        "    def forward(z):\n",
        "        y = []\n",
        "        for zi in z:\n",
        "            # print(\"z\", z[0])\n",
        "            c = np.max(zi) \n",
        "            #최대값 대입\n",
        "            exp_zi = np.exp(zi-c) \n",
        "            #exp 계산 중에 오버플로우가 발생할 수 있어 최대값을 빼고 exp를 계산\n",
        "            #softmax는 수를 더하건 빼건 그 결과가 같기 때문에 가능 \n",
        "            sum_exp_zi = np.sum(exp_zi)\n",
        "            yi = exp_zi / sum_exp_zi\n",
        "            y.append(yi)\n",
        "            # print(\"y\", y[0])\n",
        "        # print(y[0])\n",
        "        return np.array(y)\n",
        "    \n",
        "    def backward(p, y) :\n",
        "        dp = p.copy()\n",
        "        for dpi, yi in zip(dp, y):\n",
        "            for k in range(dp.shape[1]):\n",
        "                if k == yi :\n",
        "                    dpi[k] -= 1\n",
        "        return dp"
      ],
      "execution_count": null,
      "outputs": []
    },
    {
      "cell_type": "code",
      "metadata": {
        "id": "KQOPRchYZRoi"
      },
      "source": [
        "z = np.array([[np.log(1), np.log(3), np.log(4)]])\n",
        "p = np.array([[0.125, 0.375, 0.5]])\n",
        "y = np.array([2])"
      ],
      "execution_count": null,
      "outputs": []
    },
    {
      "cell_type": "code",
      "metadata": {
        "id": "Jx6ZlkDvZRoi",
        "outputId": "432d98e0-a8c2-45c8-9b06-a8b1fb9ed013"
      },
      "source": [
        "softmax.forward(z)"
      ],
      "execution_count": null,
      "outputs": [
        {
          "output_type": "execute_result",
          "data": {
            "text/plain": [
              "array([[0.125, 0.375, 0.5  ]])"
            ]
          },
          "metadata": {
            "tags": []
          },
          "execution_count": 49
        }
      ]
    },
    {
      "cell_type": "code",
      "metadata": {
        "id": "oMi9rNEPZRoi",
        "outputId": "0be15f76-eb3b-4d5a-a794-cd447fe76dfb"
      },
      "source": [
        "softmax.backward(p, y)"
      ],
      "execution_count": null,
      "outputs": [
        {
          "output_type": "execute_result",
          "data": {
            "text/plain": [
              "array([[ 0.125,  0.375, -0.5  ]])"
            ]
          },
          "metadata": {
            "tags": []
          },
          "execution_count": 50
        }
      ]
    },
    {
      "cell_type": "markdown",
      "metadata": {
        "id": "rSLsZSa2ZRoi"
      },
      "source": [
        "## Loss Function"
      ]
    },
    {
      "cell_type": "markdown",
      "metadata": {
        "id": "a28MyppIZRoi"
      },
      "source": [
        "### Cross Entropy\n",
        "$-\\Sigma(yk   log (pk))=-log pi,(1<=i<=k)$"
      ]
    },
    {
      "cell_type": "code",
      "metadata": {
        "id": "H13ebnudZRoj"
      },
      "source": [
        "def cross_entropy(p, y):\n",
        "    # cross entropy 함수를 작성하세요\n",
        "    loss = []\n",
        "    for pi, yi in zip(p, y):\n",
        "        for k in range(p.shape[1]):\n",
        "            if k == yi:\n",
        "                loss.append((-1) * (np.log(pi[k]) + 1e-8)) \n",
        "                # 1e-8은 무한대로 발산하는 경우를 방지하기 위해 존재합니다\n",
        "    return loss"
      ],
      "execution_count": null,
      "outputs": []
    },
    {
      "cell_type": "code",
      "metadata": {
        "id": "pvYXoMB-ZRoj",
        "outputId": "2ed586da-605c-48a5-91db-7df6a543f86d"
      },
      "source": [
        "cross_entropy(p, y)"
      ],
      "execution_count": null,
      "outputs": [
        {
          "output_type": "execute_result",
          "data": {
            "text/plain": [
              "[0.6931471705599452]"
            ]
          },
          "metadata": {
            "tags": []
          },
          "execution_count": 52
        }
      ]
    },
    {
      "cell_type": "markdown",
      "metadata": {
        "id": "rT8PUM72ZRoj"
      },
      "source": [
        "## Layer"
      ]
    },
    {
      "cell_type": "code",
      "metadata": {
        "id": "A0BzncDjZRoj"
      },
      "source": [
        "class Layer:\n",
        "    def __init__(self, input_size, output_size, std=1e-4) :\n",
        "        self.input_size = input_size\n",
        "        self.output_size = output_size\n",
        "        self.bias = np.random.randn(output_size)\n",
        "        self.weight = np.random.randn(input_size, output_size)*std # std는 가중치 초기화에서 표준편차를 줄이기 위해 존재합니다"
      ],
      "execution_count": null,
      "outputs": []
    },
    {
      "cell_type": "markdown",
      "metadata": {
        "id": "JWatmeWmZRok"
      },
      "source": [
        "## Neural Network"
      ]
    },
    {
      "cell_type": "markdown",
      "metadata": {
        "id": "Nku06bzUZRok"
      },
      "source": [
        "각 메소드와 변수의 역할을 주석으로 달아주세요."
      ]
    },
    {
      "cell_type": "code",
      "metadata": {
        "id": "Xa9CuY_gZRok"
      },
      "source": [
        "class CustomNet:\n",
        "    # CustomNet을 선언할 때 생성되는 값들입니다.\n",
        "    def __init__(self, lr=0.0001, epoch=500, batch_size=200):\n",
        "        self.lr = lr \n",
        "        #learning rate\n",
        "        self.epoch = epoch \n",
        "        #모든 데이터에 대해서 forward, backward가 진행되는 세트가 총 몇개인지\n",
        "        self.batch_size = batch_size\n",
        "        #한 번 batch 당 할당되는 데이터의 사이즈\n",
        "        self.loss_function = cross_entropy \n",
        "        # mse로 대체 가능하지만 이번 과제는 분류이므로 cross_entropy로 넣었습니다\n",
        "        self.layers = []\n",
        "        #말 그대로..레이어...층..\n",
        "        self.activations = [softmax]\n",
        "        #활성화 함수. 여기서는 softmax 사용\n",
        "        self.nodes = []\n",
        "        #각 레이어에서의 노드\n",
        "    \n",
        "    # Layer를 추가할 때 호출합니다\n",
        "    def addLayer(self, Layer): \n",
        "        self.layers.append(Layer)\n",
        "        if not self.nodes: #노드가 비어있으면\n",
        "            self.nodes.append(np.zeros(Layer.input_size)) \n",
        "            #input_size값만큼 넣음\n",
        "        self.nodes.append(np.zeros(Layer.output_size))\n",
        "        #노드가 비어있지 않음 -> output_size만큼 넣음\n",
        "    \n",
        "    # Activation Function을 추가할 때 호출합니다\n",
        "    def addActivation(self, Activation):\n",
        "        tmp = self.activations.pop()\n",
        "        self.activations.append(Activation)\n",
        "        self.activations.append(tmp)\n",
        "        \n",
        "    # 순전파 함수\n",
        "    def _forward(self, X):\n",
        "        self.nodes[0] = X.copy()\n",
        "        output = X.copy()\n",
        "        for i in range(len(self.layers)):\n",
        "            Layer = self.layers[i] #해당 레이어 정보 할당 (특히 가중치)\n",
        "            Activation = self.activations[i] #할성화 함수 정보 할당\n",
        "            output = np.dot(self.nodes[i], Layer.weight) #노드값 * 가중치\n",
        "            output = output+ Layer.bias #노드값 * 가중치 + bias\n",
        "            output = Activation.forward(output)\n",
        "            #노드값 * 가중치 + bias를 활성화 함수에 입력\n",
        "            self.nodes[i+1] = output \n",
        "        return output   \n",
        "    \n",
        "    # 역전파 함수\n",
        "    def _backward(self, X, output, y) :\n",
        "        for i in reversed(range(len(self.layers))):\n",
        "            a = self.nodes[i+1]\n",
        "            Layer = self.layers[i]\n",
        "            Activation = self.activations[i]\n",
        "            if i+1 == len(self.layers):\n",
        "                error = Activation.backward(output, y)\n",
        "            else:\n",
        "                error *= Activation.backward(a)\n",
        "            Layer.weight -= np.dot(error.T, self.nodes[i]).T*self.lr/X.shape[0]\n",
        "            #가중치 업데이트 : weight = weight - 오차값 * 노드값 *learning rate/크기\n",
        "            Layer.bias -= error.sum(axis=0)*self.lr/X.shape[0]\n",
        "            error = np.dot(error, Layer.weight.T)\n",
        "            #업데이트된 가중치와 기저값으로 새로운 오차 구함\n",
        "    \n",
        "    # Accrucy를 반환합니다\n",
        "    def _accuracy(self, output, y):\n",
        "        pre_p = np.argmax(output, axis=1)\n",
        "        return np.sum(pre_p==y)/y.shape[0]\n",
        "    \n",
        "    # 데이터셋에 모델을 fit할때 호출합니다\n",
        "    def fit(self, X, y, val_X, val_y):\n",
        "        history = {'val_acc': [],'val_loss': []}\n",
        "        N = X.shape[0]\n",
        "        for i in range(self.epoch):\n",
        "            for j in range(N//self.batch_size):\n",
        "                batch_mask = np.random.choice(N, self.batch_size)\n",
        "                X_batch = X[batch_mask]\n",
        "                y_batch = y[batch_mask]\n",
        "                output = self._forward(X_batch) #순전파\n",
        "                self._backward(X_batch, output, y_batch) #역전파\n",
        "            \n",
        "            #accuracy와 loss를 기록해둡시다\n",
        "            output = self._forward(val_X)\n",
        "            history[\"val_acc\"].append(self._accuracy(output, val_y)) #accuracy 기록\n",
        "            history[\"val_loss\"].append(sum(self.loss_function(output, val_y))) #loss 기록\n",
        "            \n",
        "            #중간중간 기록을 찍어볼 때 사용. 적절히 조절해 쓰세요\n",
        "            if i % 50 == 0:\n",
        "                print(i, \"test accuracy :\", history[\"val_acc\"][-1])\n",
        "                print(i, \"test loss     :\", history[\"val_loss\"][-1])\n",
        "        return history"
      ],
      "execution_count": null,
      "outputs": []
    },
    {
      "cell_type": "markdown",
      "metadata": {
        "id": "RjGFDYqPZRok"
      },
      "source": [
        "#**시도 [1]**<br>\n",
        "\n",
        "Learning Rate : 0.0005<br>\n",
        "Epoch : 85<br>\n",
        "Batch_Size : 400<br>\n",
        "\n",
        "1st layer : (3072,1500)<br>\n",
        "Activation Function : Sigmoid<br>\n",
        "2nd layer : (1500,10)<br><br>\n",
        "\n",
        "Best Validation Accuracy :  0.359"
      ]
    },
    {
      "cell_type": "code",
      "metadata": {
        "id": "u7231j53ZRol"
      },
      "source": [
        "# 하이퍼 파라미터를 적절히 조절해 뉴럴넷을 선언하세요\n",
        "nn = CustomNet(lr=0.0005, epoch=85, batch_size=400)\n",
        "\n",
        "# 원하는 만큼 층과 활성화 함수를 쌓아 주세요. 기본적으로 2Layer를 예시로 적어드립니다\n",
        "nn.addLayer(Layer(3072,1500))\n",
        "nn.addActivation(sigmoid)\n",
        "nn.addLayer(Layer(1500,10))"
      ],
      "execution_count": null,
      "outputs": []
    },
    {
      "cell_type": "code",
      "metadata": {
        "id": "vTJ4XRyOZRol",
        "outputId": "6c194aa5-ad99-4089-ed11-a3d0fb1c995f"
      },
      "source": [
        "# 선언한 뉴럴넷의 구조입니다\n",
        "for layer in nn.layers:\n",
        "    print(layer.weight.shape, layer.bias.shape)"
      ],
      "execution_count": null,
      "outputs": [
        {
          "output_type": "stream",
          "text": [
            "(3072, 1500) (1500,)\n",
            "(1500, 10) (10,)\n"
          ],
          "name": "stdout"
        }
      ]
    },
    {
      "cell_type": "code",
      "metadata": {
        "id": "4szB26ofZRol",
        "outputId": "622391ff-73a3-49cf-a12b-dc253f71350c"
      },
      "source": [
        "history = nn.fit(x_train, y_train, x_test, y_test)"
      ],
      "execution_count": null,
      "outputs": [
        {
          "output_type": "stream",
          "text": [
            "0 test accuracy : 0.102\n",
            "0 test loss     : 2536.020482169141\n",
            "50 test accuracy : 0.317\n",
            "50 test loss     : 1953.1577378283512\n"
          ],
          "name": "stdout"
        }
      ]
    },
    {
      "cell_type": "markdown",
      "metadata": {
        "id": "i6iSg9opZRol"
      },
      "source": [
        "## Accuracy 그래프"
      ]
    },
    {
      "cell_type": "markdown",
      "metadata": {
        "id": "EMZBdj3-ZRom"
      },
      "source": [
        "학습한 결과를 그래프로 그려보고 높은 Accuracy를 노려보세요!"
      ]
    },
    {
      "cell_type": "code",
      "metadata": {
        "id": "QVK1cv-FZRom",
        "outputId": "79e6f2bc-ec24-492a-a350-eb74872be008"
      },
      "source": [
        "fig = plt.figure()\n",
        "ax_acc = fig.add_subplot(111)\n",
        "\n",
        "# 에포크 숫자만큼 range(epoch)를 변경해주셔야 합니다~\n",
        "ax_acc.plot(range(85), history['val_acc'], label='정확도(%)', color='darkred')\n",
        "plt.xlabel('epochs')\n",
        "plt.ylabel('Validation Accuracy(%)')\n",
        "ax_acc.grid(linestyle='--', color='lavender')\n",
        "ax_loss = ax_acc.twinx()\n",
        "ax_loss.plot(range(85), history['val_loss'], label='오차', color='darkblue')\n",
        "plt.ylabel('Validation Loss')\n",
        "ax_loss.yaxis.tick_right()\n",
        "ax_loss.grid(linestyle='--', color='lavender')\n",
        "\n",
        "# 그래프 표시\n",
        "plt.show()\n",
        "\n",
        "# 최고 validation accuracy는?\n",
        "print(\"Best Validation Accuracy : \",max(history['val_acc']))"
      ],
      "execution_count": null,
      "outputs": [
        {
          "output_type": "display_data",
          "data": {
            "image/png": "[encoded data removed]",
            "text/plain": [
              "<Figure size 432x288 with 2 Axes>"
            ]
          },
          "metadata": {
            "tags": [],
            "needs_background": "light"
          }
        },
        {
          "output_type": "stream",
          "text": [
            "Best Validation Accuracy :  0.359\n"
          ],
          "name": "stdout"
        }
      ]
    },
    {
      "cell_type": "markdown",
      "metadata": {
        "id": "F_qVXUpNZRom"
      },
      "source": [
        "#**시도 [2]**<br>\n",
        "\n",
        "Learning Rate : 0.0005<br>\n",
        "Epoch : 85<br>\n",
        "Batch_Size : 400<br>\n",
        "\n",
        "1st layer : (3072,2000)<br>\n",
        "Activation Function : Sigmoid<br>\n",
        "2nd layer : (2000,10)<br><br>\n",
        "\n",
        "Best Validation Accuracy :  0.362"
      ]
    },
    {
      "cell_type": "code",
      "metadata": {
        "id": "VeHtCyN7ZRon"
      },
      "source": [
        "# 하이퍼 파라미터를 적절히 조절해 뉴럴넷을 선언하세요\n",
        "nn = CustomNet(lr=0.0005, epoch=85, batch_size=400)\n",
        "\n",
        "# 원하는 만큼 층과 활성화 함수를 쌓아 주세요. 기본적으로 2Layer를 예시로 적어드립니다\n",
        "nn.addLayer(Layer(3072,2000)) #\n",
        "nn.addActivation(sigmoid)\n",
        "nn.addLayer(Layer(2000,10))"
      ],
      "execution_count": null,
      "outputs": []
    },
    {
      "cell_type": "code",
      "metadata": {
        "id": "An1_ngwmZRon",
        "outputId": "171d6d37-ff61-4efe-eae7-bbaf9bdb53f0"
      },
      "source": [
        "# 선언한 뉴럴넷의 구조입니다\n",
        "for layer in nn.layers:\n",
        "    print(layer.weight.shape, layer.bias.shape)"
      ],
      "execution_count": null,
      "outputs": [
        {
          "output_type": "stream",
          "text": [
            "(3072, 2000) (2000,)\n",
            "(2000, 10) (10,)\n"
          ],
          "name": "stdout"
        }
      ]
    },
    {
      "cell_type": "code",
      "metadata": {
        "id": "IzH-MEqsZRon",
        "outputId": "b88406cc-e209-4f9d-9b00-e962c0ed562d"
      },
      "source": [
        "history = nn.fit(x_train, y_train, x_test, y_test)"
      ],
      "execution_count": null,
      "outputs": [
        {
          "output_type": "stream",
          "text": [
            "0 test accuracy : 0.09\n",
            "0 test loss     : 2738.7524316374747\n",
            "50 test accuracy : 0.328\n",
            "50 test loss     : 1923.359457926387\n"
          ],
          "name": "stdout"
        }
      ]
    },
    {
      "cell_type": "code",
      "metadata": {
        "id": "X3KDlsMiZRon",
        "outputId": "6e8276f3-3a88-448e-de3a-bdc93bd512fd"
      },
      "source": [
        "fig = plt.figure()\n",
        "ax_acc = fig.add_subplot(111)\n",
        "\n",
        "# 에포크 숫자만큼 range(epoch)를 변경해주셔야 합니다~\n",
        "ax_acc.plot(range(85), history['val_acc'], label='정확도(%)', color='darkred')\n",
        "plt.xlabel('epochs')\n",
        "plt.ylabel('Validation Accuracy(%)')\n",
        "ax_acc.grid(linestyle='--', color='lavender')\n",
        "ax_loss = ax_acc.twinx()\n",
        "ax_loss.plot(range(85), history['val_loss'], label='오차', color='darkblue')\n",
        "plt.ylabel('Validation Loss')\n",
        "ax_loss.yaxis.tick_right()\n",
        "ax_loss.grid(linestyle='--', color='lavender')\n",
        "\n",
        "# 그래프 표시\n",
        "plt.show()\n",
        "\n",
        "# 최고 validation accuracy는?\n",
        "print(\"Best Validation Accuracy : \",max(history['val_acc']))"
      ],
      "execution_count": null,
      "outputs": [
        {
          "output_type": "display_data",
          "data": {
            "image/png": "[encoded data removed]",
            "text/plain": [
              "<Figure size 432x288 with 2 Axes>"
            ]
          },
          "metadata": {
            "tags": [],
            "needs_background": "light"
          }
        },
        {
          "output_type": "stream",
          "text": [
            "Best Validation Accuracy :  0.362\n"
          ],
          "name": "stdout"
        }
      ]
    },
    {
      "cell_type": "markdown",
      "metadata": {
        "id": "DIt2SHHzZRoo"
      },
      "source": [
        "#**시도 [3]**<br>\n",
        "\n",
        "Learning Rate : 0.0005<br>\n",
        "Epoch : 85<br>\n",
        "Batch_Size : 400<br>\n",
        "\n",
        "1st layer : (3072,2000)<br>\n",
        "Activation Function : Relu<br>\n",
        "2nd layer : (2000,10)<br><br>\n",
        "\n",
        "Best Validation Accuracy :  0.442"
      ]
    },
    {
      "cell_type": "code",
      "metadata": {
        "id": "6uiT4CIWZRoo"
      },
      "source": [
        "# 하이퍼 파라미터를 적절히 조절해 뉴럴넷을 선언하세요\n",
        "nn = CustomNet(lr=0.0005, epoch=85, batch_size=400)\n",
        "\n",
        "# 원하는 만큼 층과 활성화 함수를 쌓아 주세요. 기본적으로 2Layer를 예시로 적어드립니다\n",
        "nn.addLayer(Layer(3072,2000)) #\n",
        "nn.addActivation(relu)\n",
        "nn.addLayer(Layer(2000,10))"
      ],
      "execution_count": null,
      "outputs": []
    },
    {
      "cell_type": "code",
      "metadata": {
        "id": "51CCgyixZRoo",
        "outputId": "004060b0-e99d-42b4-c437-8a739dcc1062"
      },
      "source": [
        "# 선언한 뉴럴넷의 구조입니다\n",
        "for layer in nn.layers:\n",
        "    print(layer.weight.shape, layer.bias.shape)"
      ],
      "execution_count": null,
      "outputs": [
        {
          "output_type": "stream",
          "text": [
            "(3072, 2000) (2000,)\n",
            "(2000, 10) (10,)\n"
          ],
          "name": "stdout"
        }
      ]
    },
    {
      "cell_type": "code",
      "metadata": {
        "id": "esqc2MCmZRop",
        "outputId": "f33ea70d-bed1-49bf-e850-33960cd5de28"
      },
      "source": [
        "history = nn.fit(x_train, y_train, x_test, y_test)"
      ],
      "execution_count": null,
      "outputs": [
        {
          "output_type": "stream",
          "text": [
            "0 test accuracy : 0.172\n",
            "0 test loss     : 2275.3605494031935\n",
            "50 test accuracy : 0.409\n",
            "50 test loss     : 1610.064558163371\n"
          ],
          "name": "stdout"
        }
      ]
    },
    {
      "cell_type": "code",
      "metadata": {
        "id": "t-PbSSYVZRop",
        "outputId": "27d0f5ed-2cab-43f5-eed7-549d4778fb57"
      },
      "source": [
        "fig = plt.figure()\n",
        "ax_acc = fig.add_subplot(111)\n",
        "\n",
        "# 에포크 숫자만큼 range(epoch)를 변경해주셔야 합니다~\n",
        "ax_acc.plot(range(85), history['val_acc'], label='정확도(%)', color='darkred')\n",
        "plt.xlabel('epochs')\n",
        "plt.ylabel('Validation Accuracy(%)')\n",
        "ax_acc.grid(linestyle='--', color='lavender')\n",
        "ax_loss = ax_acc.twinx()\n",
        "ax_loss.plot(range(85), history['val_loss'], label='오차', color='darkblue')\n",
        "plt.ylabel('Validation Loss')\n",
        "ax_loss.yaxis.tick_right()\n",
        "ax_loss.grid(linestyle='--', color='lavender')\n",
        "\n",
        "# 그래프 표시\n",
        "plt.show()\n",
        "\n",
        "# 최고 validation accuracy는?\n",
        "print(\"Best Validation Accuracy : \",max(history['val_acc']))"
      ],
      "execution_count": null,
      "outputs": [
        {
          "output_type": "display_data",
          "data": {
            "image/png": "[encoded data removed]",
            "text/plain": [
              "<Figure size 432x288 with 2 Axes>"
            ]
          },
          "metadata": {
            "tags": [],
            "needs_background": "light"
          }
        },
        {
          "output_type": "stream",
          "text": [
            "Best Validation Accuracy :  0.442\n"
          ],
          "name": "stdout"
        }
      ]
    },
    {
      "cell_type": "markdown",
      "metadata": {
        "id": "etKwJhnfZRop"
      },
      "source": [
        "#**시도 [4]**<br>\n",
        "\n",
        "Learning Rate : 0.0005<br>\n",
        "Epoch : 85<br>\n",
        "Batch_Size : 400<br>\n",
        "\n",
        "1st layer : (3072,1500)<br>\n",
        "Activation Function : Sigmoid<br>\n",
        "2nd layer : (1500,500)<br><br>\n",
        "Activation Function : Sigmoid<br>\n",
        "3rd layer : (500,10)<br><br>\n",
        "\n",
        "Best Validation Accuracy :  0.112"
      ]
    },
    {
      "cell_type": "code",
      "metadata": {
        "id": "bqWzdZoQZRop"
      },
      "source": [
        "# 하이퍼 파라미터를 적절히 조절해 뉴럴넷을 선언하세요\n",
        "nn = CustomNet(lr=0.0005, epoch=85, batch_size=400)\n",
        "\n",
        "# 원하는 만큼 층과 활성화 함수를 쌓아 주세요. 기본적으로 2Layer를 예시로 적어드립니다\n",
        "nn.addLayer(Layer(3072,1500)) #\n",
        "nn.addActivation(sigmoid)\n",
        "nn.addLayer(Layer(1500,500))\n",
        "nn.addActivation(sigmoid)\n",
        "nn.addLayer(Layer(500,10))"
      ],
      "execution_count": null,
      "outputs": []
    },
    {
      "cell_type": "code",
      "metadata": {
        "id": "waIURdS8ZRop",
        "outputId": "1b6e634a-7374-48d1-89a1-2dda7674b6b2"
      },
      "source": [
        "# 선언한 뉴럴넷의 구조입니다\n",
        "for layer in nn.layers:\n",
        "    print(layer.weight.shape, layer.bias.shape)"
      ],
      "execution_count": null,
      "outputs": [
        {
          "output_type": "stream",
          "text": [
            "(3072, 1500) (1500,)\n",
            "(1500, 500) (500,)\n",
            "(500, 10) (10,)\n"
          ],
          "name": "stdout"
        }
      ]
    },
    {
      "cell_type": "code",
      "metadata": {
        "id": "cI4nWaoqZRoq",
        "outputId": "f7f0771c-5167-4f20-956b-3b2dc5e65f75"
      },
      "source": [
        "history = nn.fit(x_train, y_train, x_test, y_test)"
      ],
      "execution_count": null,
      "outputs": [
        {
          "output_type": "stream",
          "text": [
            "0 test accuracy : 0.089\n",
            "0 test loss     : 2555.8650478498244\n",
            "50 test accuracy : 0.112\n",
            "50 test loss     : 2302.4970147426448\n"
          ],
          "name": "stdout"
        }
      ]
    },
    {
      "cell_type": "code",
      "metadata": {
        "id": "gdrOIk3vZRoq",
        "outputId": "651c982d-4100-462d-f342-903cd16ed2b7"
      },
      "source": [
        "fig = plt.figure()\n",
        "ax_acc = fig.add_subplot(111)\n",
        "\n",
        "# 에포크 숫자만큼 range(epoch)를 변경해주셔야 합니다~\n",
        "ax_acc.plot(range(85), history['val_acc'], label='정확도(%)', color='darkred')\n",
        "plt.xlabel('epochs')\n",
        "plt.ylabel('Validation Accuracy(%)')\n",
        "ax_acc.grid(linestyle='--', color='lavender')\n",
        "ax_loss = ax_acc.twinx()\n",
        "ax_loss.plot(range(85), history['val_loss'], label='오차', color='darkblue')\n",
        "plt.ylabel('Validation Loss')\n",
        "ax_loss.yaxis.tick_right()\n",
        "ax_loss.grid(linestyle='--', color='lavender')\n",
        "\n",
        "# 그래프 표시\n",
        "plt.show()\n",
        "\n",
        "# 최고 validation accuracy는?\n",
        "print(\"Best Validation Accuracy : \",max(history['val_acc']))"
      ],
      "execution_count": null,
      "outputs": [
        {
          "output_type": "display_data",
          "data": {
            "image/png": "[encoded data removed]",
            "text/plain": [
              "<Figure size 432x288 with 2 Axes>"
            ]
          },
          "metadata": {
            "tags": [],
            "needs_background": "light"
          }
        },
        {
          "output_type": "stream",
          "text": [
            "Best Validation Accuracy :  0.112\n"
          ],
          "name": "stdout"
        }
      ]
    },
    {
      "cell_type": "markdown",
      "metadata": {
        "id": "AP1Euvt6ZRoq"
      },
      "source": [
        "#**시도 [5]**<br>\n",
        "\n",
        "Learning Rate : 0.0005<br>\n",
        "Epoch : 85<br>\n",
        "Batch_Size : 400<br>\n",
        "\n",
        "1st layer : (3072,2000)<br>\n",
        "Activation Function : relu<br>\n",
        "2nd layer : (1500,2000)<br><br>\n",
        "Activation Function : relu<br>\n",
        "3rd layer : (500,10)<br><br>\n",
        "\n",
        "Best Validation Accuracy :  0.152"
      ]
    },
    {
      "cell_type": "code",
      "metadata": {
        "id": "yaKZhntuZRoq"
      },
      "source": [
        "# 하이퍼 파라미터를 적절히 조절해 뉴럴넷을 선언하세요\n",
        "nn = CustomNet(lr=0.0005, epoch=85, batch_size=400)\n",
        "\n",
        "# 원하는 만큼 층과 활성화 함수를 쌓아 주세요. 기본적으로 2Layer를 예시로 적어드립니다\n",
        "nn.addLayer(Layer(3072,2000)) #\n",
        "nn.addActivation(relu)\n",
        "nn.addLayer(Layer(2000,500))\n",
        "nn.addActivation(relu)\n",
        "nn.addLayer(Layer(500,10))"
      ],
      "execution_count": null,
      "outputs": []
    },
    {
      "cell_type": "code",
      "metadata": {
        "id": "fieWEkZ0ZRoq",
        "outputId": "d56ea94b-da81-44e5-9dea-0a05ceac3434"
      },
      "source": [
        "# 선언한 뉴럴넷의 구조입니다\n",
        "for layer in nn.layers:\n",
        "    print(layer.weight.shape, layer.bias.shape)"
      ],
      "execution_count": null,
      "outputs": [
        {
          "output_type": "stream",
          "text": [
            "(3072, 2000) (2000,)\n",
            "(2000, 500) (500,)\n",
            "(500, 10) (10,)\n"
          ],
          "name": "stdout"
        }
      ]
    },
    {
      "cell_type": "code",
      "metadata": {
        "id": "C09JqE2_ZRor",
        "outputId": "09d3331a-58b7-4278-f808-08c0fa39111e"
      },
      "source": [
        "history = nn.fit(x_train, y_train, x_test, y_test)"
      ],
      "execution_count": null,
      "outputs": [
        {
          "output_type": "stream",
          "text": [
            "0 test accuracy : 0.103\n",
            "0 test loss     : 2535.640170741725\n",
            "50 test accuracy : 0.135\n",
            "50 test loss     : 2296.6228761856623\n"
          ],
          "name": "stdout"
        }
      ]
    },
    {
      "cell_type": "code",
      "metadata": {
        "id": "D_mLNPt2ZRor",
        "outputId": "0aa1b1ef-ce7d-46d9-bb8f-6b5da84766a4"
      },
      "source": [
        "fig = plt.figure()\n",
        "ax_acc = fig.add_subplot(111)\n",
        "\n",
        "# 에포크 숫자만큼 range(epoch)를 변경해주셔야 합니다~\n",
        "ax_acc.plot(range(85), history['val_acc'], label='정확도(%)', color='darkred')\n",
        "plt.xlabel('epochs')\n",
        "plt.ylabel('Validation Accuracy(%)')\n",
        "ax_acc.grid(linestyle='--', color='lavender')\n",
        "ax_loss = ax_acc.twinx()\n",
        "ax_loss.plot(range(85), history['val_loss'], label='오차', color='darkblue')\n",
        "plt.ylabel('Validation Loss')\n",
        "ax_loss.yaxis.tick_right()\n",
        "ax_loss.grid(linestyle='--', color='lavender')\n",
        "\n",
        "# 그래프 표시\n",
        "plt.show()\n",
        "\n",
        "# 최고 validation accuracy는?\n",
        "print(\"Best Validation Accuracy : \",max(history['val_acc']))"
      ],
      "execution_count": null,
      "outputs": [
        {
          "output_type": "display_data",
          "data": {
            "image/png": "[encoded data removed]",
            "text/plain": [
              "<Figure size 432x288 with 2 Axes>"
            ]
          },
          "metadata": {
            "tags": [],
            "needs_background": "light"
          }
        },
        {
          "output_type": "stream",
          "text": [
            "Best Validation Accuracy :  0.152\n"
          ],
          "name": "stdout"
        }
      ]
    },
    {
      "cell_type": "markdown",
      "metadata": {
        "id": "7fw2qI_vZRor"
      },
      "source": [
        "#**시도 [6]**<br>\n",
        "\n",
        "Learning Rate : 0.0005<br>\n",
        "Epoch : 85<br>\n",
        "Batch_Size : 400<br>\n",
        "\n",
        "1st layer : (3072,2000)<br>\n",
        "Activation Function : relu<br>\n",
        "2nd layer : (1500,2000)<br><br>\n",
        "Activation Function : sigmoid<br>\n",
        "3rd layer : (500,10)<br><br>\n",
        "\n",
        "Best Validation Accuracy : 0.17"
      ]
    },
    {
      "cell_type": "code",
      "metadata": {
        "id": "Vw0ADJFcZRor"
      },
      "source": [
        "# 하이퍼 파라미터를 적절히 조절해 뉴럴넷을 선언하세요\n",
        "nn = CustomNet(lr=0.0005, epoch=85, batch_size=400)\n",
        "\n",
        "# 원하는 만큼 층과 활성화 함수를 쌓아 주세요. 기본적으로 2Layer를 예시로 적어드립니다\n",
        "nn.addLayer(Layer(3072,2000)) #\n",
        "nn.addActivation(relu)\n",
        "nn.addLayer(Layer(2000,500))\n",
        "nn.addActivation(sigmoid)\n",
        "nn.addLayer(Layer(500,10))"
      ],
      "execution_count": null,
      "outputs": []
    },
    {
      "cell_type": "code",
      "metadata": {
        "id": "WkJq2KjUZRor",
        "outputId": "7fe915d0-0e1a-407f-a2f0-055831ca0f01"
      },
      "source": [
        "# 선언한 뉴럴넷의 구조입니다\n",
        "for layer in nn.layers:\n",
        "    print(layer.weight.shape, layer.bias.shape)"
      ],
      "execution_count": null,
      "outputs": [
        {
          "output_type": "stream",
          "text": [
            "(3072, 2000) (2000,)\n",
            "(2000, 500) (500,)\n",
            "(500, 10) (10,)\n"
          ],
          "name": "stdout"
        }
      ]
    },
    {
      "cell_type": "code",
      "metadata": {
        "id": "d7F-auWLZRos",
        "outputId": "a8a53804-1779-4764-a75a-785161da3ba4"
      },
      "source": [
        "history = nn.fit(x_train, y_train, x_test, y_test)"
      ],
      "execution_count": null,
      "outputs": [
        {
          "output_type": "stream",
          "text": [
            "0 test accuracy : 0.112\n",
            "0 test loss     : 2616.514403352464\n",
            "50 test accuracy : 0.14\n",
            "50 test loss     : 2300.5867533524975\n"
          ],
          "name": "stdout"
        }
      ]
    },
    {
      "cell_type": "code",
      "metadata": {
        "id": "emRBsvXsZRos",
        "outputId": "f3ab233c-8665-4ee7-ddc6-850acc6f8445"
      },
      "source": [
        "fig = plt.figure()\n",
        "ax_acc = fig.add_subplot(111)\n",
        "\n",
        "# 에포크 숫자만큼 range(epoch)를 변경해주셔야 합니다~\n",
        "ax_acc.plot(range(85), history['val_acc'], label='정확도(%)', color='darkred')\n",
        "plt.xlabel('epochs')\n",
        "plt.ylabel('Validation Accuracy(%)')\n",
        "ax_acc.grid(linestyle='--', color='lavender')\n",
        "ax_loss = ax_acc.twinx()\n",
        "ax_loss.plot(range(85), history['val_loss'], label='오차', color='darkblue')\n",
        "plt.ylabel('Validation Loss')\n",
        "ax_loss.yaxis.tick_right()\n",
        "ax_loss.grid(linestyle='--', color='lavender')\n",
        "\n",
        "# 그래프 표시\n",
        "plt.show()\n",
        "\n",
        "# 최고 validation accuracy는?\n",
        "print(\"Best Validation Accuracy : \",max(history['val_acc']))"
      ],
      "execution_count": null,
      "outputs": [
        {
          "output_type": "display_data",
          "data": {
            "image/png": "[encoded data removed]",
            "text/plain": [
              "<Figure size 432x288 with 2 Axes>"
            ]
          },
          "metadata": {
            "tags": [],
            "needs_background": "light"
          }
        },
        {
          "output_type": "stream",
          "text": [
            "Best Validation Accuracy :  0.17\n"
          ],
          "name": "stdout"
        }
      ]
    },
    {
      "cell_type": "markdown",
      "metadata": {
        "id": "f_GcL3oJZRos"
      },
      "source": [
        "#**[Best Model]**\n",
        "\n",
        "Learning Rate : 0.0005<br>\n",
        "Epoch : 85<br>\n",
        "Batch_Size : 400<br>\n",
        "\n",
        "1st layer : (3072,2000)<br>\n",
        "Activation Function : Relu<br>\n",
        "2nd layer : (2000,10)<br><br>\n",
        "\n",
        "Best Validation Accuracy :  0.442"
      ]
    },
    {
      "cell_type": "code",
      "metadata": {
        "id": "GwAKyZdhZRos"
      },
      "source": [
        ""
      ],
      "execution_count": null,
      "outputs": []
    }
  ]
}

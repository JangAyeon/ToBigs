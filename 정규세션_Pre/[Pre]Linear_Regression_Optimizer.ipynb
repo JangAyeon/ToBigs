{
  "nbformat": 4,
  "nbformat_minor": 0,
  "metadata": {
    "colab": {
      "name": "[2]Linear Regression / Optimizer.ipynb",
      "provenance": [],
      "collapsed_sections": [
        "9Aj87YKmfomQ",
        "OGo-aTqVMplN",
        "ICqh7MH3N1ul",
        "3_pVs1oQN8Lg",
        "TiSYhpHJOQBA",
        "sn8nNKVZVnaD",
        "fSqtvTTfU658",
        "OEF3o8dfWtCx",
        "0U9K23q6X67m",
        "jDvFjcCngc6c",
        "tFP_9b2yPdoH",
        "H6Q1j4SnP3V-",
        "kwMCmPsmQjbq",
        "fCqZwlq8RO3f",
        "3g2FEPwfSFdo",
        "cdGXxUzvTiFC",
        "C_BH8H60lq5x",
        "UXHW4rRtpbRn",
        "_rfjrZ8yra-m"
      ],
      "toc_visible": true
    },
    "kernelspec": {
      "name": "python3",
      "display_name": "Python 3"
    }
  },
  "cells": [
    {
      "cell_type": "markdown",
      "metadata": {
        "id": "9Aj87YKmfomQ"
      },
      "source": [
        "#[1] Diabete "
      ]
    },
    {
      "cell_type": "markdown",
      "metadata": {
        "id": "OGo-aTqVMplN"
      },
      "source": [
        "##import library"
      ]
    },
    {
      "cell_type": "code",
      "metadata": {
        "id": "ODT6EEt5MGvQ"
      },
      "source": [
        "from sklearn import datasets"
      ],
      "execution_count": 1,
      "outputs": []
    },
    {
      "cell_type": "code",
      "metadata": {
        "id": "L2X6KJZEMwKX"
      },
      "source": [
        "diabetes=datasets.load_diabetes()"
      ],
      "execution_count": 2,
      "outputs": []
    },
    {
      "cell_type": "markdown",
      "metadata": {
        "id": "ICqh7MH3N1ul"
      },
      "source": [
        "##Description of the Diabetes Dataset"
      ]
    },
    {
      "cell_type": "code",
      "metadata": {
        "colab": {
          "base_uri": "https://localhost:8080/"
        },
        "id": "p0V1fc3uNKE7",
        "outputId": "f2963937-1d14-420a-cedd-766033c2d438"
      },
      "source": [
        "diabetes"
      ],
      "execution_count": 3,
      "outputs": [
        {
          "output_type": "execute_result",
          "data": {
            "text/plain": [
              "{'DESCR': '.. _diabetes_dataset:\\n\\nDiabetes dataset\\n----------------\\n\\nTen baseline variables, age, sex, body mass index, average blood\\npressure, and six blood serum measurements were obtained for each of n =\\n442 diabetes patients, as well as the response of interest, a\\nquantitative measure of disease progression one year after baseline.\\n\\n**Data Set Characteristics:**\\n\\n  :Number of Instances: 442\\n\\n  :Number of Attributes: First 10 columns are numeric predictive values\\n\\n  :Target: Column 11 is a quantitative measure of disease progression one year after baseline\\n\\n  :Attribute Information:\\n      - Age\\n      - Sex\\n      - Body mass index\\n      - Average blood pressure\\n      - S1\\n      - S2\\n      - S3\\n      - S4\\n      - S5\\n      - S6\\n\\nNote: Each of these 10 feature variables have been mean centered and scaled by the standard deviation times `n_samples` (i.e. the sum of squares of each column totals 1).\\n\\nSource URL:\\nhttps://www4.stat.ncsu.edu/~boos/var.select/diabetes.html\\n\\nFor more information see:\\nBradley Efron, Trevor Hastie, Iain Johnstone and Robert Tibshirani (2004) \"Least Angle Regression,\" Annals of Statistics (with discussion), 407-499.\\n(https://web.stanford.edu/~hastie/Papers/LARS/LeastAngle_2002.pdf)',\n",
              " 'data': array([[ 0.03807591,  0.05068012,  0.06169621, ..., -0.00259226,\n",
              "          0.01990842, -0.01764613],\n",
              "        [-0.00188202, -0.04464164, -0.05147406, ..., -0.03949338,\n",
              "         -0.06832974, -0.09220405],\n",
              "        [ 0.08529891,  0.05068012,  0.04445121, ..., -0.00259226,\n",
              "          0.00286377, -0.02593034],\n",
              "        ...,\n",
              "        [ 0.04170844,  0.05068012, -0.01590626, ..., -0.01107952,\n",
              "         -0.04687948,  0.01549073],\n",
              "        [-0.04547248, -0.04464164,  0.03906215, ...,  0.02655962,\n",
              "          0.04452837, -0.02593034],\n",
              "        [-0.04547248, -0.04464164, -0.0730303 , ..., -0.03949338,\n",
              "         -0.00421986,  0.00306441]]),\n",
              " 'data_filename': '/usr/local/lib/python3.6/dist-packages/sklearn/datasets/data/diabetes_data.csv.gz',\n",
              " 'feature_names': ['age',\n",
              "  'sex',\n",
              "  'bmi',\n",
              "  'bp',\n",
              "  's1',\n",
              "  's2',\n",
              "  's3',\n",
              "  's4',\n",
              "  's5',\n",
              "  's6'],\n",
              " 'target': array([151.,  75., 141., 206., 135.,  97., 138.,  63., 110., 310., 101.,\n",
              "         69., 179., 185., 118., 171., 166., 144.,  97., 168.,  68.,  49.,\n",
              "         68., 245., 184., 202., 137.,  85., 131., 283., 129.,  59., 341.,\n",
              "         87.,  65., 102., 265., 276., 252.,  90., 100.,  55.,  61.,  92.,\n",
              "        259.,  53., 190., 142.,  75., 142., 155., 225.,  59., 104., 182.,\n",
              "        128.,  52.,  37., 170., 170.,  61., 144.,  52., 128.,  71., 163.,\n",
              "        150.,  97., 160., 178.,  48., 270., 202., 111.,  85.,  42., 170.,\n",
              "        200., 252., 113., 143.,  51.,  52., 210.,  65., 141.,  55., 134.,\n",
              "         42., 111.,  98., 164.,  48.,  96.,  90., 162., 150., 279.,  92.,\n",
              "         83., 128., 102., 302., 198.,  95.,  53., 134., 144., 232.,  81.,\n",
              "        104.,  59., 246., 297., 258., 229., 275., 281., 179., 200., 200.,\n",
              "        173., 180.,  84., 121., 161.,  99., 109., 115., 268., 274., 158.,\n",
              "        107.,  83., 103., 272.,  85., 280., 336., 281., 118., 317., 235.,\n",
              "         60., 174., 259., 178., 128.,  96., 126., 288.,  88., 292.,  71.,\n",
              "        197., 186.,  25.,  84.,  96., 195.,  53., 217., 172., 131., 214.,\n",
              "         59.,  70., 220., 268., 152.,  47.,  74., 295., 101., 151., 127.,\n",
              "        237., 225.,  81., 151., 107.,  64., 138., 185., 265., 101., 137.,\n",
              "        143., 141.,  79., 292., 178.,  91., 116.,  86., 122.,  72., 129.,\n",
              "        142.,  90., 158.,  39., 196., 222., 277.,  99., 196., 202., 155.,\n",
              "         77., 191.,  70.,  73.,  49.,  65., 263., 248., 296., 214., 185.,\n",
              "         78.,  93., 252., 150.,  77., 208.,  77., 108., 160.,  53., 220.,\n",
              "        154., 259.,  90., 246., 124.,  67.,  72., 257., 262., 275., 177.,\n",
              "         71.,  47., 187., 125.,  78.,  51., 258., 215., 303., 243.,  91.,\n",
              "        150., 310., 153., 346.,  63.,  89.,  50.,  39., 103., 308., 116.,\n",
              "        145.,  74.,  45., 115., 264.,  87., 202., 127., 182., 241.,  66.,\n",
              "         94., 283.,  64., 102., 200., 265.,  94., 230., 181., 156., 233.,\n",
              "         60., 219.,  80.,  68., 332., 248.,  84., 200.,  55.,  85.,  89.,\n",
              "         31., 129.,  83., 275.,  65., 198., 236., 253., 124.,  44., 172.,\n",
              "        114., 142., 109., 180., 144., 163., 147.,  97., 220., 190., 109.,\n",
              "        191., 122., 230., 242., 248., 249., 192., 131., 237.,  78., 135.,\n",
              "        244., 199., 270., 164.,  72.,  96., 306.,  91., 214.,  95., 216.,\n",
              "        263., 178., 113., 200., 139., 139.,  88., 148.,  88., 243.,  71.,\n",
              "         77., 109., 272.,  60.,  54., 221.,  90., 311., 281., 182., 321.,\n",
              "         58., 262., 206., 233., 242., 123., 167.,  63., 197.,  71., 168.,\n",
              "        140., 217., 121., 235., 245.,  40.,  52., 104., 132.,  88.,  69.,\n",
              "        219.,  72., 201., 110.,  51., 277.,  63., 118.,  69., 273., 258.,\n",
              "         43., 198., 242., 232., 175.,  93., 168., 275., 293., 281.,  72.,\n",
              "        140., 189., 181., 209., 136., 261., 113., 131., 174., 257.,  55.,\n",
              "         84.,  42., 146., 212., 233.,  91., 111., 152., 120.,  67., 310.,\n",
              "         94., 183.,  66., 173.,  72.,  49.,  64.,  48., 178., 104., 132.,\n",
              "        220.,  57.]),\n",
              " 'target_filename': '/usr/local/lib/python3.6/dist-packages/sklearn/datasets/data/diabetes_target.csv.gz'}"
            ]
          },
          "metadata": {
            "tags": []
          },
          "execution_count": 3
        }
      ]
    },
    {
      "cell_type": "code",
      "metadata": {
        "colab": {
          "base_uri": "https://localhost:8080/"
        },
        "id": "TKQ-DLNrNYp0",
        "outputId": "f21d320a-b55b-41ab-e833-c63e0a9d352c"
      },
      "source": [
        "print(diabetes.DESCR)"
      ],
      "execution_count": 4,
      "outputs": [
        {
          "output_type": "stream",
          "text": [
            ".. _diabetes_dataset:\n",
            "\n",
            "Diabetes dataset\n",
            "----------------\n",
            "\n",
            "Ten baseline variables, age, sex, body mass index, average blood\n",
            "pressure, and six blood serum measurements were obtained for each of n =\n",
            "442 diabetes patients, as well as the response of interest, a\n",
            "quantitative measure of disease progression one year after baseline.\n",
            "\n",
            "**Data Set Characteristics:**\n",
            "\n",
            "  :Number of Instances: 442\n",
            "\n",
            "  :Number of Attributes: First 10 columns are numeric predictive values\n",
            "\n",
            "  :Target: Column 11 is a quantitative measure of disease progression one year after baseline\n",
            "\n",
            "  :Attribute Information:\n",
            "      - Age\n",
            "      - Sex\n",
            "      - Body mass index\n",
            "      - Average blood pressure\n",
            "      - S1\n",
            "      - S2\n",
            "      - S3\n",
            "      - S4\n",
            "      - S5\n",
            "      - S6\n",
            "\n",
            "Note: Each of these 10 feature variables have been mean centered and scaled by the standard deviation times `n_samples` (i.e. the sum of squares of each column totals 1).\n",
            "\n",
            "Source URL:\n",
            "https://www4.stat.ncsu.edu/~boos/var.select/diabetes.html\n",
            "\n",
            "For more information see:\n",
            "Bradley Efron, Trevor Hastie, Iain Johnstone and Robert Tibshirani (2004) \"Least Angle Regression,\" Annals of Statistics (with discussion), 407-499.\n",
            "(https://web.stanford.edu/~hastie/Papers/LARS/LeastAngle_2002.pdf)\n"
          ],
          "name": "stdout"
        }
      ]
    },
    {
      "cell_type": "code",
      "metadata": {
        "colab": {
          "base_uri": "https://localhost:8080/"
        },
        "id": "obrprwrGNeNc",
        "outputId": "ab2e7ee5-a5b0-4a1f-9cb3-656debdfeb64"
      },
      "source": [
        "print(diabetes.feature_names)"
      ],
      "execution_count": 5,
      "outputs": [
        {
          "output_type": "stream",
          "text": [
            "['age', 'sex', 'bmi', 'bp', 's1', 's2', 's3', 's4', 's5', 's6']\n"
          ],
          "name": "stdout"
        }
      ]
    },
    {
      "cell_type": "markdown",
      "metadata": {
        "id": "3_pVs1oQN8Lg"
      },
      "source": [
        "##Create X and Y matrices"
      ]
    },
    {
      "cell_type": "code",
      "metadata": {
        "id": "6S7ZgJEdNyKX",
        "colab": {
          "base_uri": "https://localhost:8080/"
        },
        "outputId": "91a34a31-0054-43c6-8838-ff8cf738f1fd"
      },
      "source": [
        "X=diabetes.data\r\n",
        "Y=diabetes.target\r\n",
        "\r\n",
        "diabetes.target"
      ],
      "execution_count": 6,
      "outputs": [
        {
          "output_type": "execute_result",
          "data": {
            "text/plain": [
              "array([151.,  75., 141., 206., 135.,  97., 138.,  63., 110., 310., 101.,\n",
              "        69., 179., 185., 118., 171., 166., 144.,  97., 168.,  68.,  49.,\n",
              "        68., 245., 184., 202., 137.,  85., 131., 283., 129.,  59., 341.,\n",
              "        87.,  65., 102., 265., 276., 252.,  90., 100.,  55.,  61.,  92.,\n",
              "       259.,  53., 190., 142.,  75., 142., 155., 225.,  59., 104., 182.,\n",
              "       128.,  52.,  37., 170., 170.,  61., 144.,  52., 128.,  71., 163.,\n",
              "       150.,  97., 160., 178.,  48., 270., 202., 111.,  85.,  42., 170.,\n",
              "       200., 252., 113., 143.,  51.,  52., 210.,  65., 141.,  55., 134.,\n",
              "        42., 111.,  98., 164.,  48.,  96.,  90., 162., 150., 279.,  92.,\n",
              "        83., 128., 102., 302., 198.,  95.,  53., 134., 144., 232.,  81.,\n",
              "       104.,  59., 246., 297., 258., 229., 275., 281., 179., 200., 200.,\n",
              "       173., 180.,  84., 121., 161.,  99., 109., 115., 268., 274., 158.,\n",
              "       107.,  83., 103., 272.,  85., 280., 336., 281., 118., 317., 235.,\n",
              "        60., 174., 259., 178., 128.,  96., 126., 288.,  88., 292.,  71.,\n",
              "       197., 186.,  25.,  84.,  96., 195.,  53., 217., 172., 131., 214.,\n",
              "        59.,  70., 220., 268., 152.,  47.,  74., 295., 101., 151., 127.,\n",
              "       237., 225.,  81., 151., 107.,  64., 138., 185., 265., 101., 137.,\n",
              "       143., 141.,  79., 292., 178.,  91., 116.,  86., 122.,  72., 129.,\n",
              "       142.,  90., 158.,  39., 196., 222., 277.,  99., 196., 202., 155.,\n",
              "        77., 191.,  70.,  73.,  49.,  65., 263., 248., 296., 214., 185.,\n",
              "        78.,  93., 252., 150.,  77., 208.,  77., 108., 160.,  53., 220.,\n",
              "       154., 259.,  90., 246., 124.,  67.,  72., 257., 262., 275., 177.,\n",
              "        71.,  47., 187., 125.,  78.,  51., 258., 215., 303., 243.,  91.,\n",
              "       150., 310., 153., 346.,  63.,  89.,  50.,  39., 103., 308., 116.,\n",
              "       145.,  74.,  45., 115., 264.,  87., 202., 127., 182., 241.,  66.,\n",
              "        94., 283.,  64., 102., 200., 265.,  94., 230., 181., 156., 233.,\n",
              "        60., 219.,  80.,  68., 332., 248.,  84., 200.,  55.,  85.,  89.,\n",
              "        31., 129.,  83., 275.,  65., 198., 236., 253., 124.,  44., 172.,\n",
              "       114., 142., 109., 180., 144., 163., 147.,  97., 220., 190., 109.,\n",
              "       191., 122., 230., 242., 248., 249., 192., 131., 237.,  78., 135.,\n",
              "       244., 199., 270., 164.,  72.,  96., 306.,  91., 214.,  95., 216.,\n",
              "       263., 178., 113., 200., 139., 139.,  88., 148.,  88., 243.,  71.,\n",
              "        77., 109., 272.,  60.,  54., 221.,  90., 311., 281., 182., 321.,\n",
              "        58., 262., 206., 233., 242., 123., 167.,  63., 197.,  71., 168.,\n",
              "       140., 217., 121., 235., 245.,  40.,  52., 104., 132.,  88.,  69.,\n",
              "       219.,  72., 201., 110.,  51., 277.,  63., 118.,  69., 273., 258.,\n",
              "        43., 198., 242., 232., 175.,  93., 168., 275., 293., 281.,  72.,\n",
              "       140., 189., 181., 209., 136., 261., 113., 131., 174., 257.,  55.,\n",
              "        84.,  42., 146., 212., 233.,  91., 111., 152., 120.,  67., 310.,\n",
              "        94., 183.,  66., 173.,  72.,  49.,  64.,  48., 178., 104., 132.,\n",
              "       220.,  57.])"
            ]
          },
          "metadata": {
            "tags": []
          },
          "execution_count": 6
        }
      ]
    },
    {
      "cell_type": "code",
      "metadata": {
        "colab": {
          "base_uri": "https://localhost:8080/"
        },
        "id": "6GR_Qm88OG2h",
        "outputId": "d6bf4476-f637-47e4-f9ab-70cb4edc9adb"
      },
      "source": [
        "X.shape, Y.shape"
      ],
      "execution_count": 7,
      "outputs": [
        {
          "output_type": "execute_result",
          "data": {
            "text/plain": [
              "((442, 10), (442,))"
            ]
          },
          "metadata": {
            "tags": []
          },
          "execution_count": 7
        }
      ]
    },
    {
      "cell_type": "markdown",
      "metadata": {
        "id": "TiSYhpHJOQBA"
      },
      "source": [
        "###Load dataset + Create X and Y data matrices (다른 방법)"
      ]
    },
    {
      "cell_type": "code",
      "metadata": {
        "id": "jWbAN-B8OK50"
      },
      "source": [
        "X, Y=datasets.load_diabetes(return_X_y=True)"
      ],
      "execution_count": 8,
      "outputs": []
    },
    {
      "cell_type": "code",
      "metadata": {
        "colab": {
          "base_uri": "https://localhost:8080/"
        },
        "id": "w1eXfx7vOfbz",
        "outputId": "fa713435-8346-4073-f556-84623b2a06a7"
      },
      "source": [
        "X.shape, Y.shape"
      ],
      "execution_count": 9,
      "outputs": [
        {
          "output_type": "execute_result",
          "data": {
            "text/plain": [
              "((442, 10), (442,))"
            ]
          },
          "metadata": {
            "tags": []
          },
          "execution_count": 9
        }
      ]
    },
    {
      "cell_type": "markdown",
      "metadata": {
        "id": "sn8nNKVZVnaD"
      },
      "source": [
        "##Data Split"
      ]
    },
    {
      "cell_type": "code",
      "metadata": {
        "id": "ANJsmNmeVxyk"
      },
      "source": [
        "#import library\r\n",
        "from sklearn.model_selection import train_test_split"
      ],
      "execution_count": 10,
      "outputs": []
    },
    {
      "cell_type": "code",
      "metadata": {
        "id": "5HcT0BCEVxii"
      },
      "source": [
        "#perform 80/20 data split\r\n",
        "X_train,X_test,Y_train,Y_test=train_test_split(X,Y,test_size=0.2)"
      ],
      "execution_count": 11,
      "outputs": []
    },
    {
      "cell_type": "code",
      "metadata": {
        "colab": {
          "base_uri": "https://localhost:8080/"
        },
        "id": "tTwFhxdkVw5Z",
        "outputId": "e80d540f-9241-4085-c7d3-6c95be2cb495"
      },
      "source": [
        "#train data dimension\r\n",
        "X_train.shape, Y_train.shape"
      ],
      "execution_count": 12,
      "outputs": [
        {
          "output_type": "execute_result",
          "data": {
            "text/plain": [
              "((353, 10), (353,))"
            ]
          },
          "metadata": {
            "tags": []
          },
          "execution_count": 12
        }
      ]
    },
    {
      "cell_type": "code",
      "metadata": {
        "colab": {
          "base_uri": "https://localhost:8080/"
        },
        "id": "_vz6HOeRVwua",
        "outputId": "a1dadd2a-b608-402e-f71c-6fe7378d592c"
      },
      "source": [
        "#test data dimension\r\n",
        "X_test.shape, Y_test.shape"
      ],
      "execution_count": 13,
      "outputs": [
        {
          "output_type": "execute_result",
          "data": {
            "text/plain": [
              "((89, 10), (89,))"
            ]
          },
          "metadata": {
            "tags": []
          },
          "execution_count": 13
        }
      ]
    },
    {
      "cell_type": "markdown",
      "metadata": {
        "id": "fSqtvTTfU658"
      },
      "source": [
        "##Linear Regression Model"
      ]
    },
    {
      "cell_type": "code",
      "metadata": {
        "id": "9m7swJW0U_GB"
      },
      "source": [
        "#import library\r\n",
        "from sklearn import linear_model\r\n",
        "from sklearn.metrics import mean_squared_error,r2_score"
      ],
      "execution_count": 14,
      "outputs": []
    },
    {
      "cell_type": "code",
      "metadata": {
        "id": "u4-sMgP0VQaY"
      },
      "source": [
        "#define the regression model\r\n",
        "model=linear_model.LinearRegression()"
      ],
      "execution_count": 15,
      "outputs": []
    },
    {
      "cell_type": "code",
      "metadata": {
        "colab": {
          "base_uri": "https://localhost:8080/"
        },
        "id": "WgvayHEYVadH",
        "outputId": "bf668dfe-80ee-428c-8b34-07ea56f3e478"
      },
      "source": [
        "#build training model\r\n",
        "model.fit(X_train,Y_train)"
      ],
      "execution_count": 16,
      "outputs": [
        {
          "output_type": "execute_result",
          "data": {
            "text/plain": [
              "LinearRegression(copy_X=True, fit_intercept=True, n_jobs=None, normalize=False)"
            ]
          },
          "metadata": {
            "tags": []
          },
          "execution_count": 16
        }
      ]
    },
    {
      "cell_type": "code",
      "metadata": {
        "id": "aUTFGNY_VaPt"
      },
      "source": [
        "#apply trained model to make prediction (on test set)\r\n",
        "Y_pred=model.predict(X_test)"
      ],
      "execution_count": 17,
      "outputs": []
    },
    {
      "cell_type": "markdown",
      "metadata": {
        "id": "OEF3o8dfWtCx"
      },
      "source": [
        "##Prediction Result"
      ]
    },
    {
      "cell_type": "code",
      "metadata": {
        "colab": {
          "base_uri": "https://localhost:8080/"
        },
        "id": "HPLNH1HJWtpC",
        "outputId": "d73c511f-1916-4731-d074-1a53154ab376"
      },
      "source": [
        "#print model performance\r\n",
        "print(\"Coefficients: \",model.coef_)\r\n",
        "print('intercept: ',model.intercept_)\r\n",
        "print(\"Mean Squared Error (MSE): %.2f\"%(mean_squared_error(Y_test,Y_pred)))\r\n",
        "print(\"Coefficient of determinant (R^2): %.2f\"%(r2_score(Y_test,Y_pred)))"
      ],
      "execution_count": 18,
      "outputs": [
        {
          "output_type": "stream",
          "text": [
            "Coefficients:  [   2.50535645 -280.20577142  403.71606734  322.12411851 -334.92677626\n",
            "   56.77423157  -77.94961683  222.73909002  603.03744242   70.90937588]\n",
            "intercept:  149.9406158849491\n",
            "Mean Squared Error (MSE): 3620.09\n",
            "Coefficient of determinant (R^2): 0.47\n"
          ],
          "name": "stdout"
        }
      ]
    },
    {
      "cell_type": "markdown",
      "metadata": {
        "id": "0U9K23q6X67m"
      },
      "source": [
        "##Scatter plots"
      ]
    },
    {
      "cell_type": "code",
      "metadata": {
        "id": "vyXlsjvuWt5u"
      },
      "source": [
        "#import library\r\n",
        "import seaborn as sns"
      ],
      "execution_count": 19,
      "outputs": []
    },
    {
      "cell_type": "code",
      "metadata": {
        "colab": {
          "base_uri": "https://localhost:8080/"
        },
        "id": "z6LJl6cLYCoz",
        "outputId": "90968e8c-9c02-4210-bc46-2a5ce9562df2"
      },
      "source": [
        "#confirm dataset\r\n",
        "import numpy as np\r\n",
        "np.array(Y_test)"
      ],
      "execution_count": 20,
      "outputs": [
        {
          "output_type": "execute_result",
          "data": {
            "text/plain": [
              "array([173., 185., 341.,  83., 232.,  78., 230.,  77., 308.,  61.,  40.,\n",
              "       142.,  79., 263., 272., 150., 101., 178.,  67., 128., 134., 163.,\n",
              "       296., 168., 152., 170., 310., 186.,  87., 217., 154.,  92., 152.,\n",
              "       321., 104.,  72.,  90., 233., 219., 142.,  72., 148., 124., 187.,\n",
              "       206., 336.,  77.,  69., 346., 311., 268.,  44., 283., 274., 242.,\n",
              "       288., 283., 116., 163.,  55., 168., 200., 191., 235.,  69., 109.,\n",
              "        59., 123.,  42., 132., 181., 141., 111., 200., 332.,  85., 272.,\n",
              "       156.,  60., 198.,  87., 142., 140., 221., 222., 263., 137., 146.,\n",
              "       252.])"
            ]
          },
          "metadata": {
            "tags": []
          },
          "execution_count": 20
        }
      ]
    },
    {
      "cell_type": "code",
      "metadata": {
        "colab": {
          "base_uri": "https://localhost:8080/"
        },
        "id": "_3MfAbrzYKcz",
        "outputId": "664e30a8-30df-4c4a-d0a9-4028d5f5e293"
      },
      "source": [
        "Y_pred"
      ],
      "execution_count": 21,
      "outputs": [
        {
          "output_type": "execute_result",
          "data": {
            "text/plain": [
              "array([198.50571383, 159.9964409 , 247.173936  , 145.07911786,\n",
              "       223.47501114, 179.00052673, 138.45247492,  61.97409648,\n",
              "       244.66510111, 110.9217877 , 138.45558568, 114.54180455,\n",
              "       121.55144868, 247.44724358, 235.91634004, 123.80902861,\n",
              "       104.17534567, 126.5330692 , 123.63688607, 100.18336722,\n",
              "       150.39188315, 190.778575  , 216.0684136 , 151.0820485 ,\n",
              "       248.4165226 , 182.16037985, 210.85679483, 186.57752489,\n",
              "       114.20003685, 225.74317185, 160.36827807,  75.99085622,\n",
              "       112.26655921, 217.67636164,  97.58945834,  79.81394148,\n",
              "       104.96732083, 182.67710213, 136.03045577, 186.10214626,\n",
              "        71.56571236, 130.77411089, 137.45854024, 127.59224042,\n",
              "       166.54451098, 237.4695834 , 171.6501197 , 107.47831755,\n",
              "       249.76165459, 170.09943652, 221.21769421, 120.35558869,\n",
              "       184.37398055, 227.62121469, 298.36787121, 199.52066142,\n",
              "       181.14565458, 138.52822746, 206.12079251,  79.87385572,\n",
              "       121.49949087, 166.50382484, 118.82487125, 165.16959419,\n",
              "       102.49770965, 158.19111687, 131.38838981, 200.58816278,\n",
              "        87.12112583, 251.6153758 ,  89.60907865, 155.10389879,\n",
              "       121.46015637,  80.15187508, 208.69704607, 142.13961732,\n",
              "       186.00109075, 157.76988839, 113.27379363, 182.17003376,\n",
              "        86.91757738, 131.54099896, 161.76101172, 192.1526038 ,\n",
              "       191.21551036, 171.2395846 , 191.52316164, 144.71890865,\n",
              "       233.13479856])"
            ]
          },
          "metadata": {
            "tags": []
          },
          "execution_count": 21
        }
      ]
    },
    {
      "cell_type": "code",
      "metadata": {
        "id": "CZMc50pqYOZU",
        "colab": {
          "base_uri": "https://localhost:8080/",
          "height": 0
        },
        "outputId": "72afe613-5499-40c0-e77a-cd44a6ca5b39"
      },
      "source": [
        "#making the scatter plot\r\n",
        "sns.scatterplot(Y_test,Y_pred,marker=\"+\")"
      ],
      "execution_count": 22,
      "outputs": [
        {
          "output_type": "stream",
          "text": [
            "/usr/local/lib/python3.6/dist-packages/seaborn/_decorators.py:43: FutureWarning: Pass the following variables as keyword args: x, y. From version 0.12, the only valid positional argument will be `data`, and passing other arguments without an explicit keyword will result in an error or misinterpretation.\n",
            "  FutureWarning\n"
          ],
          "name": "stderr"
        },
        {
          "output_type": "execute_result",
          "data": {
            "text/plain": [
              "<matplotlib.axes._subplots.AxesSubplot at 0x7fab10932ef0>"
            ]
          },
          "metadata": {
            "tags": []
          },
          "execution_count": 22
        },
        {
          "output_type": "display_data",
          "data": {
            "image/png": "[encoded data removed]",
            "text/plain": [
              "<Figure size 432x288 with 1 Axes>"
            ]
          },
          "metadata": {
            "tags": [],
            "needs_background": "light"
          }
        }
      ]
    },
    {
      "cell_type": "code",
      "metadata": {
        "colab": {
          "base_uri": "https://localhost:8080/",
          "height": 0
        },
        "id": "9rigYEO7iWkZ",
        "outputId": "5f64f155-0fdf-4aa0-f4c4-7e87b562341d"
      },
      "source": [
        "sns.scatterplot(Y_test, Y_pred, alpha=0.5)"
      ],
      "execution_count": 23,
      "outputs": [
        {
          "output_type": "stream",
          "text": [
            "/usr/local/lib/python3.6/dist-packages/seaborn/_decorators.py:43: FutureWarning: Pass the following variables as keyword args: x, y. From version 0.12, the only valid positional argument will be `data`, and passing other arguments without an explicit keyword will result in an error or misinterpretation.\n",
            "  FutureWarning\n"
          ],
          "name": "stderr"
        },
        {
          "output_type": "execute_result",
          "data": {
            "text/plain": [
              "<matplotlib.axes._subplots.AxesSubplot at 0x7fab0fd98160>"
            ]
          },
          "metadata": {
            "tags": []
          },
          "execution_count": 23
        },
        {
          "output_type": "display_data",
          "data": {
            "image/png": "[encoded data removed]",
            "text/plain": [
              "<Figure size 432x288 with 1 Axes>"
            ]
          },
          "metadata": {
            "tags": [],
            "needs_background": "light"
          }
        }
      ]
    },
    {
      "cell_type": "markdown",
      "metadata": {
        "id": "jDvFjcCngc6c"
      },
      "source": [
        "#[2] Boston housing"
      ]
    },
    {
      "cell_type": "markdown",
      "metadata": {
        "id": "tFP_9b2yPdoH"
      },
      "source": [
        "##Load Boston Housing Dataset / import library"
      ]
    },
    {
      "cell_type": "code",
      "metadata": {
        "id": "NZ3BuTdlOkIw"
      },
      "source": [
        "import pandas as pd"
      ],
      "execution_count": 24,
      "outputs": []
    },
    {
      "cell_type": "code",
      "metadata": {
        "colab": {
          "base_uri": "https://localhost:8080/",
          "height": 0
        },
        "id": "lzwOh3TQPo_0",
        "outputId": "12dd9621-a50b-490e-a162-56fd03acf6b3"
      },
      "source": [
        "BostonHousing=pd.read_csv(\"BostonHousing.csv\")\r\n",
        "BostonHousing"
      ],
      "execution_count": 25,
      "outputs": [
        {
          "output_type": "execute_result",
          "data": {
            "text/html": [
              "<div>\n",
              "<style scoped>\n",
              "    .dataframe tbody tr th:only-of-type {\n",
              "        vertical-align: middle;\n",
              "    }\n",
              "\n",
              "    .dataframe tbody tr th {\n",
              "        vertical-align: top;\n",
              "    }\n",
              "\n",
              "    .dataframe thead th {\n",
              "        text-align: right;\n",
              "    }\n",
              "</style>\n",
              "<table border=\"1\" class=\"dataframe\">\n",
              "  <thead>\n",
              "    <tr style=\"text-align: right;\">\n",
              "      <th></th>\n",
              "      <th>crim</th>\n",
              "      <th>zn</th>\n",
              "      <th>indus</th>\n",
              "      <th>chas</th>\n",
              "      <th>nox</th>\n",
              "      <th>rm</th>\n",
              "      <th>age</th>\n",
              "      <th>dis</th>\n",
              "      <th>rad</th>\n",
              "      <th>tax</th>\n",
              "      <th>ptratio</th>\n",
              "      <th>b</th>\n",
              "      <th>lstat</th>\n",
              "      <th>medv</th>\n",
              "    </tr>\n",
              "  </thead>\n",
              "  <tbody>\n",
              "    <tr>\n",
              "      <th>0</th>\n",
              "      <td>0.00632</td>\n",
              "      <td>18.0</td>\n",
              "      <td>2.31</td>\n",
              "      <td>0</td>\n",
              "      <td>0.538</td>\n",
              "      <td>6.575</td>\n",
              "      <td>65.2</td>\n",
              "      <td>4.0900</td>\n",
              "      <td>1</td>\n",
              "      <td>296</td>\n",
              "      <td>15.3</td>\n",
              "      <td>396.90</td>\n",
              "      <td>4.98</td>\n",
              "      <td>24.0</td>\n",
              "    </tr>\n",
              "    <tr>\n",
              "      <th>1</th>\n",
              "      <td>0.02731</td>\n",
              "      <td>0.0</td>\n",
              "      <td>7.07</td>\n",
              "      <td>0</td>\n",
              "      <td>0.469</td>\n",
              "      <td>6.421</td>\n",
              "      <td>78.9</td>\n",
              "      <td>4.9671</td>\n",
              "      <td>2</td>\n",
              "      <td>242</td>\n",
              "      <td>17.8</td>\n",
              "      <td>396.90</td>\n",
              "      <td>9.14</td>\n",
              "      <td>21.6</td>\n",
              "    </tr>\n",
              "    <tr>\n",
              "      <th>2</th>\n",
              "      <td>0.02729</td>\n",
              "      <td>0.0</td>\n",
              "      <td>7.07</td>\n",
              "      <td>0</td>\n",
              "      <td>0.469</td>\n",
              "      <td>7.185</td>\n",
              "      <td>61.1</td>\n",
              "      <td>4.9671</td>\n",
              "      <td>2</td>\n",
              "      <td>242</td>\n",
              "      <td>17.8</td>\n",
              "      <td>392.83</td>\n",
              "      <td>4.03</td>\n",
              "      <td>34.7</td>\n",
              "    </tr>\n",
              "    <tr>\n",
              "      <th>3</th>\n",
              "      <td>0.03237</td>\n",
              "      <td>0.0</td>\n",
              "      <td>2.18</td>\n",
              "      <td>0</td>\n",
              "      <td>0.458</td>\n",
              "      <td>6.998</td>\n",
              "      <td>45.8</td>\n",
              "      <td>6.0622</td>\n",
              "      <td>3</td>\n",
              "      <td>222</td>\n",
              "      <td>18.7</td>\n",
              "      <td>394.63</td>\n",
              "      <td>2.94</td>\n",
              "      <td>33.4</td>\n",
              "    </tr>\n",
              "    <tr>\n",
              "      <th>4</th>\n",
              "      <td>0.06905</td>\n",
              "      <td>0.0</td>\n",
              "      <td>2.18</td>\n",
              "      <td>0</td>\n",
              "      <td>0.458</td>\n",
              "      <td>7.147</td>\n",
              "      <td>54.2</td>\n",
              "      <td>6.0622</td>\n",
              "      <td>3</td>\n",
              "      <td>222</td>\n",
              "      <td>18.7</td>\n",
              "      <td>396.90</td>\n",
              "      <td>5.33</td>\n",
              "      <td>36.2</td>\n",
              "    </tr>\n",
              "    <tr>\n",
              "      <th>...</th>\n",
              "      <td>...</td>\n",
              "      <td>...</td>\n",
              "      <td>...</td>\n",
              "      <td>...</td>\n",
              "      <td>...</td>\n",
              "      <td>...</td>\n",
              "      <td>...</td>\n",
              "      <td>...</td>\n",
              "      <td>...</td>\n",
              "      <td>...</td>\n",
              "      <td>...</td>\n",
              "      <td>...</td>\n",
              "      <td>...</td>\n",
              "      <td>...</td>\n",
              "    </tr>\n",
              "    <tr>\n",
              "      <th>501</th>\n",
              "      <td>0.06263</td>\n",
              "      <td>0.0</td>\n",
              "      <td>11.93</td>\n",
              "      <td>0</td>\n",
              "      <td>0.573</td>\n",
              "      <td>6.593</td>\n",
              "      <td>69.1</td>\n",
              "      <td>2.4786</td>\n",
              "      <td>1</td>\n",
              "      <td>273</td>\n",
              "      <td>21.0</td>\n",
              "      <td>391.99</td>\n",
              "      <td>9.67</td>\n",
              "      <td>22.4</td>\n",
              "    </tr>\n",
              "    <tr>\n",
              "      <th>502</th>\n",
              "      <td>0.04527</td>\n",
              "      <td>0.0</td>\n",
              "      <td>11.93</td>\n",
              "      <td>0</td>\n",
              "      <td>0.573</td>\n",
              "      <td>6.120</td>\n",
              "      <td>76.7</td>\n",
              "      <td>2.2875</td>\n",
              "      <td>1</td>\n",
              "      <td>273</td>\n",
              "      <td>21.0</td>\n",
              "      <td>396.90</td>\n",
              "      <td>9.08</td>\n",
              "      <td>20.6</td>\n",
              "    </tr>\n",
              "    <tr>\n",
              "      <th>503</th>\n",
              "      <td>0.06076</td>\n",
              "      <td>0.0</td>\n",
              "      <td>11.93</td>\n",
              "      <td>0</td>\n",
              "      <td>0.573</td>\n",
              "      <td>6.976</td>\n",
              "      <td>91.0</td>\n",
              "      <td>2.1675</td>\n",
              "      <td>1</td>\n",
              "      <td>273</td>\n",
              "      <td>21.0</td>\n",
              "      <td>396.90</td>\n",
              "      <td>5.64</td>\n",
              "      <td>23.9</td>\n",
              "    </tr>\n",
              "    <tr>\n",
              "      <th>504</th>\n",
              "      <td>0.10959</td>\n",
              "      <td>0.0</td>\n",
              "      <td>11.93</td>\n",
              "      <td>0</td>\n",
              "      <td>0.573</td>\n",
              "      <td>6.794</td>\n",
              "      <td>89.3</td>\n",
              "      <td>2.3889</td>\n",
              "      <td>1</td>\n",
              "      <td>273</td>\n",
              "      <td>21.0</td>\n",
              "      <td>393.45</td>\n",
              "      <td>6.48</td>\n",
              "      <td>22.0</td>\n",
              "    </tr>\n",
              "    <tr>\n",
              "      <th>505</th>\n",
              "      <td>0.04741</td>\n",
              "      <td>0.0</td>\n",
              "      <td>11.93</td>\n",
              "      <td>0</td>\n",
              "      <td>0.573</td>\n",
              "      <td>6.030</td>\n",
              "      <td>80.8</td>\n",
              "      <td>2.5050</td>\n",
              "      <td>1</td>\n",
              "      <td>273</td>\n",
              "      <td>21.0</td>\n",
              "      <td>396.90</td>\n",
              "      <td>7.88</td>\n",
              "      <td>11.9</td>\n",
              "    </tr>\n",
              "  </tbody>\n",
              "</table>\n",
              "<p>506 rows × 14 columns</p>\n",
              "</div>"
            ],
            "text/plain": [
              "        crim    zn  indus  chas    nox  ...  tax  ptratio       b  lstat  medv\n",
              "0    0.00632  18.0   2.31     0  0.538  ...  296     15.3  396.90   4.98  24.0\n",
              "1    0.02731   0.0   7.07     0  0.469  ...  242     17.8  396.90   9.14  21.6\n",
              "2    0.02729   0.0   7.07     0  0.469  ...  242     17.8  392.83   4.03  34.7\n",
              "3    0.03237   0.0   2.18     0  0.458  ...  222     18.7  394.63   2.94  33.4\n",
              "4    0.06905   0.0   2.18     0  0.458  ...  222     18.7  396.90   5.33  36.2\n",
              "..       ...   ...    ...   ...    ...  ...  ...      ...     ...    ...   ...\n",
              "501  0.06263   0.0  11.93     0  0.573  ...  273     21.0  391.99   9.67  22.4\n",
              "502  0.04527   0.0  11.93     0  0.573  ...  273     21.0  396.90   9.08  20.6\n",
              "503  0.06076   0.0  11.93     0  0.573  ...  273     21.0  396.90   5.64  23.9\n",
              "504  0.10959   0.0  11.93     0  0.573  ...  273     21.0  393.45   6.48  22.0\n",
              "505  0.04741   0.0  11.93     0  0.573  ...  273     21.0  396.90   7.88  11.9\n",
              "\n",
              "[506 rows x 14 columns]"
            ]
          },
          "metadata": {
            "tags": []
          },
          "execution_count": 25
        }
      ]
    },
    {
      "cell_type": "code",
      "metadata": {
        "colab": {
          "base_uri": "https://localhost:8080/"
        },
        "id": "cW2zo52DoViy",
        "outputId": "afebe658-6fdc-42de-c13a-4b4c49c8020d"
      },
      "source": [
        "BostonHousing.info()"
      ],
      "execution_count": 26,
      "outputs": [
        {
          "output_type": "stream",
          "text": [
            "<class 'pandas.core.frame.DataFrame'>\n",
            "RangeIndex: 506 entries, 0 to 505\n",
            "Data columns (total 14 columns):\n",
            " #   Column   Non-Null Count  Dtype  \n",
            "---  ------   --------------  -----  \n",
            " 0   crim     506 non-null    float64\n",
            " 1   zn       506 non-null    float64\n",
            " 2   indus    506 non-null    float64\n",
            " 3   chas     506 non-null    int64  \n",
            " 4   nox      506 non-null    float64\n",
            " 5   rm       506 non-null    float64\n",
            " 6   age      506 non-null    float64\n",
            " 7   dis      506 non-null    float64\n",
            " 8   rad      506 non-null    int64  \n",
            " 9   tax      506 non-null    int64  \n",
            " 10  ptratio  506 non-null    float64\n",
            " 11  b        506 non-null    float64\n",
            " 12  lstat    506 non-null    float64\n",
            " 13  medv     506 non-null    float64\n",
            "dtypes: float64(11), int64(3)\n",
            "memory usage: 55.5 KB\n"
          ],
          "name": "stdout"
        }
      ]
    },
    {
      "cell_type": "markdown",
      "metadata": {
        "id": "H6Q1j4SnP3V-"
      },
      "source": [
        "##split dataset to X and Y variables"
      ]
    },
    {
      "cell_type": "code",
      "metadata": {
        "colab": {
          "base_uri": "https://localhost:8080/"
        },
        "id": "rUYjp92JPwtJ",
        "outputId": "06dff7da-2d2d-40c5-aecb-e0a3784591c6"
      },
      "source": [
        "Y=BostonHousing.medv\r\n",
        "Y"
      ],
      "execution_count": 27,
      "outputs": [
        {
          "output_type": "execute_result",
          "data": {
            "text/plain": [
              "0      24.0\n",
              "1      21.6\n",
              "2      34.7\n",
              "3      33.4\n",
              "4      36.2\n",
              "       ... \n",
              "501    22.4\n",
              "502    20.6\n",
              "503    23.9\n",
              "504    22.0\n",
              "505    11.9\n",
              "Name: medv, Length: 506, dtype: float64"
            ]
          },
          "metadata": {
            "tags": []
          },
          "execution_count": 27
        }
      ]
    },
    {
      "cell_type": "code",
      "metadata": {
        "colab": {
          "base_uri": "https://localhost:8080/",
          "height": 0
        },
        "id": "sdVJnOjZP_BM",
        "outputId": "edf51b81-e835-4c21-8300-7f43d78855ee"
      },
      "source": [
        "X=BostonHousing.drop(['medv'],axis=1)\r\n",
        "X"
      ],
      "execution_count": 28,
      "outputs": [
        {
          "output_type": "execute_result",
          "data": {
            "text/html": [
              "<div>\n",
              "<style scoped>\n",
              "    .dataframe tbody tr th:only-of-type {\n",
              "        vertical-align: middle;\n",
              "    }\n",
              "\n",
              "    .dataframe tbody tr th {\n",
              "        vertical-align: top;\n",
              "    }\n",
              "\n",
              "    .dataframe thead th {\n",
              "        text-align: right;\n",
              "    }\n",
              "</style>\n",
              "<table border=\"1\" class=\"dataframe\">\n",
              "  <thead>\n",
              "    <tr style=\"text-align: right;\">\n",
              "      <th></th>\n",
              "      <th>crim</th>\n",
              "      <th>zn</th>\n",
              "      <th>indus</th>\n",
              "      <th>chas</th>\n",
              "      <th>nox</th>\n",
              "      <th>rm</th>\n",
              "      <th>age</th>\n",
              "      <th>dis</th>\n",
              "      <th>rad</th>\n",
              "      <th>tax</th>\n",
              "      <th>ptratio</th>\n",
              "      <th>b</th>\n",
              "      <th>lstat</th>\n",
              "    </tr>\n",
              "  </thead>\n",
              "  <tbody>\n",
              "    <tr>\n",
              "      <th>0</th>\n",
              "      <td>0.00632</td>\n",
              "      <td>18.0</td>\n",
              "      <td>2.31</td>\n",
              "      <td>0</td>\n",
              "      <td>0.538</td>\n",
              "      <td>6.575</td>\n",
              "      <td>65.2</td>\n",
              "      <td>4.0900</td>\n",
              "      <td>1</td>\n",
              "      <td>296</td>\n",
              "      <td>15.3</td>\n",
              "      <td>396.90</td>\n",
              "      <td>4.98</td>\n",
              "    </tr>\n",
              "    <tr>\n",
              "      <th>1</th>\n",
              "      <td>0.02731</td>\n",
              "      <td>0.0</td>\n",
              "      <td>7.07</td>\n",
              "      <td>0</td>\n",
              "      <td>0.469</td>\n",
              "      <td>6.421</td>\n",
              "      <td>78.9</td>\n",
              "      <td>4.9671</td>\n",
              "      <td>2</td>\n",
              "      <td>242</td>\n",
              "      <td>17.8</td>\n",
              "      <td>396.90</td>\n",
              "      <td>9.14</td>\n",
              "    </tr>\n",
              "    <tr>\n",
              "      <th>2</th>\n",
              "      <td>0.02729</td>\n",
              "      <td>0.0</td>\n",
              "      <td>7.07</td>\n",
              "      <td>0</td>\n",
              "      <td>0.469</td>\n",
              "      <td>7.185</td>\n",
              "      <td>61.1</td>\n",
              "      <td>4.9671</td>\n",
              "      <td>2</td>\n",
              "      <td>242</td>\n",
              "      <td>17.8</td>\n",
              "      <td>392.83</td>\n",
              "      <td>4.03</td>\n",
              "    </tr>\n",
              "    <tr>\n",
              "      <th>3</th>\n",
              "      <td>0.03237</td>\n",
              "      <td>0.0</td>\n",
              "      <td>2.18</td>\n",
              "      <td>0</td>\n",
              "      <td>0.458</td>\n",
              "      <td>6.998</td>\n",
              "      <td>45.8</td>\n",
              "      <td>6.0622</td>\n",
              "      <td>3</td>\n",
              "      <td>222</td>\n",
              "      <td>18.7</td>\n",
              "      <td>394.63</td>\n",
              "      <td>2.94</td>\n",
              "    </tr>\n",
              "    <tr>\n",
              "      <th>4</th>\n",
              "      <td>0.06905</td>\n",
              "      <td>0.0</td>\n",
              "      <td>2.18</td>\n",
              "      <td>0</td>\n",
              "      <td>0.458</td>\n",
              "      <td>7.147</td>\n",
              "      <td>54.2</td>\n",
              "      <td>6.0622</td>\n",
              "      <td>3</td>\n",
              "      <td>222</td>\n",
              "      <td>18.7</td>\n",
              "      <td>396.90</td>\n",
              "      <td>5.33</td>\n",
              "    </tr>\n",
              "    <tr>\n",
              "      <th>...</th>\n",
              "      <td>...</td>\n",
              "      <td>...</td>\n",
              "      <td>...</td>\n",
              "      <td>...</td>\n",
              "      <td>...</td>\n",
              "      <td>...</td>\n",
              "      <td>...</td>\n",
              "      <td>...</td>\n",
              "      <td>...</td>\n",
              "      <td>...</td>\n",
              "      <td>...</td>\n",
              "      <td>...</td>\n",
              "      <td>...</td>\n",
              "    </tr>\n",
              "    <tr>\n",
              "      <th>501</th>\n",
              "      <td>0.06263</td>\n",
              "      <td>0.0</td>\n",
              "      <td>11.93</td>\n",
              "      <td>0</td>\n",
              "      <td>0.573</td>\n",
              "      <td>6.593</td>\n",
              "      <td>69.1</td>\n",
              "      <td>2.4786</td>\n",
              "      <td>1</td>\n",
              "      <td>273</td>\n",
              "      <td>21.0</td>\n",
              "      <td>391.99</td>\n",
              "      <td>9.67</td>\n",
              "    </tr>\n",
              "    <tr>\n",
              "      <th>502</th>\n",
              "      <td>0.04527</td>\n",
              "      <td>0.0</td>\n",
              "      <td>11.93</td>\n",
              "      <td>0</td>\n",
              "      <td>0.573</td>\n",
              "      <td>6.120</td>\n",
              "      <td>76.7</td>\n",
              "      <td>2.2875</td>\n",
              "      <td>1</td>\n",
              "      <td>273</td>\n",
              "      <td>21.0</td>\n",
              "      <td>396.90</td>\n",
              "      <td>9.08</td>\n",
              "    </tr>\n",
              "    <tr>\n",
              "      <th>503</th>\n",
              "      <td>0.06076</td>\n",
              "      <td>0.0</td>\n",
              "      <td>11.93</td>\n",
              "      <td>0</td>\n",
              "      <td>0.573</td>\n",
              "      <td>6.976</td>\n",
              "      <td>91.0</td>\n",
              "      <td>2.1675</td>\n",
              "      <td>1</td>\n",
              "      <td>273</td>\n",
              "      <td>21.0</td>\n",
              "      <td>396.90</td>\n",
              "      <td>5.64</td>\n",
              "    </tr>\n",
              "    <tr>\n",
              "      <th>504</th>\n",
              "      <td>0.10959</td>\n",
              "      <td>0.0</td>\n",
              "      <td>11.93</td>\n",
              "      <td>0</td>\n",
              "      <td>0.573</td>\n",
              "      <td>6.794</td>\n",
              "      <td>89.3</td>\n",
              "      <td>2.3889</td>\n",
              "      <td>1</td>\n",
              "      <td>273</td>\n",
              "      <td>21.0</td>\n",
              "      <td>393.45</td>\n",
              "      <td>6.48</td>\n",
              "    </tr>\n",
              "    <tr>\n",
              "      <th>505</th>\n",
              "      <td>0.04741</td>\n",
              "      <td>0.0</td>\n",
              "      <td>11.93</td>\n",
              "      <td>0</td>\n",
              "      <td>0.573</td>\n",
              "      <td>6.030</td>\n",
              "      <td>80.8</td>\n",
              "      <td>2.5050</td>\n",
              "      <td>1</td>\n",
              "      <td>273</td>\n",
              "      <td>21.0</td>\n",
              "      <td>396.90</td>\n",
              "      <td>7.88</td>\n",
              "    </tr>\n",
              "  </tbody>\n",
              "</table>\n",
              "<p>506 rows × 13 columns</p>\n",
              "</div>"
            ],
            "text/plain": [
              "        crim    zn  indus  chas    nox  ...  rad  tax  ptratio       b  lstat\n",
              "0    0.00632  18.0   2.31     0  0.538  ...    1  296     15.3  396.90   4.98\n",
              "1    0.02731   0.0   7.07     0  0.469  ...    2  242     17.8  396.90   9.14\n",
              "2    0.02729   0.0   7.07     0  0.469  ...    2  242     17.8  392.83   4.03\n",
              "3    0.03237   0.0   2.18     0  0.458  ...    3  222     18.7  394.63   2.94\n",
              "4    0.06905   0.0   2.18     0  0.458  ...    3  222     18.7  396.90   5.33\n",
              "..       ...   ...    ...   ...    ...  ...  ...  ...      ...     ...    ...\n",
              "501  0.06263   0.0  11.93     0  0.573  ...    1  273     21.0  391.99   9.67\n",
              "502  0.04527   0.0  11.93     0  0.573  ...    1  273     21.0  396.90   9.08\n",
              "503  0.06076   0.0  11.93     0  0.573  ...    1  273     21.0  396.90   5.64\n",
              "504  0.10959   0.0  11.93     0  0.573  ...    1  273     21.0  393.45   6.48\n",
              "505  0.04741   0.0  11.93     0  0.573  ...    1  273     21.0  396.90   7.88\n",
              "\n",
              "[506 rows x 13 columns]"
            ]
          },
          "metadata": {
            "tags": []
          },
          "execution_count": 28
        }
      ]
    },
    {
      "cell_type": "markdown",
      "metadata": {
        "id": "kwMCmPsmQjbq"
      },
      "source": [
        "##Data Split<br>\r\n",
        "perform 80/20 data split"
      ]
    },
    {
      "cell_type": "code",
      "metadata": {
        "id": "AasT8KEOQYcV"
      },
      "source": [
        "from sklearn.model_selection import train_test_split"
      ],
      "execution_count": 29,
      "outputs": []
    },
    {
      "cell_type": "code",
      "metadata": {
        "id": "DFIMdHZtQpoQ"
      },
      "source": [
        "X_train, X_test, Y_train, Y_test=train_test_split(X,Y,test_size=0.2)"
      ],
      "execution_count": 30,
      "outputs": []
    },
    {
      "cell_type": "code",
      "metadata": {
        "colab": {
          "base_uri": "https://localhost:8080/"
        },
        "id": "WWauSQyMQ1b2",
        "outputId": "1fb4b5aa-2173-494e-c41a-fae932710bbb"
      },
      "source": [
        "X_train.shape, Y_train.shape"
      ],
      "execution_count": 31,
      "outputs": [
        {
          "output_type": "execute_result",
          "data": {
            "text/plain": [
              "((404, 13), (404,))"
            ]
          },
          "metadata": {
            "tags": []
          },
          "execution_count": 31
        }
      ]
    },
    {
      "cell_type": "code",
      "metadata": {
        "colab": {
          "base_uri": "https://localhost:8080/"
        },
        "id": "KuJjSfPaRC8k",
        "outputId": "5cd05f4d-14a3-4384-f69f-5ca9700db919"
      },
      "source": [
        "X_test.shape, Y_test.shape"
      ],
      "execution_count": 32,
      "outputs": [
        {
          "output_type": "execute_result",
          "data": {
            "text/plain": [
              "((102, 13), (102,))"
            ]
          },
          "metadata": {
            "tags": []
          },
          "execution_count": 32
        }
      ]
    },
    {
      "cell_type": "markdown",
      "metadata": {
        "id": "fCqZwlq8RO3f"
      },
      "source": [
        "##Linear Regression Model"
      ]
    },
    {
      "cell_type": "code",
      "metadata": {
        "id": "kZj2fiu6RK7l"
      },
      "source": [
        "#import library\r\n",
        "from sklearn import linear_model\r\n",
        "from sklearn.metrics import mean_squared_error,r2_score"
      ],
      "execution_count": 33,
      "outputs": []
    },
    {
      "cell_type": "code",
      "metadata": {
        "id": "RXIu8iNFRdIZ"
      },
      "source": [
        "#defines the regression model\r\n",
        "model=linear_model.LinearRegression()"
      ],
      "execution_count": 34,
      "outputs": []
    },
    {
      "cell_type": "code",
      "metadata": {
        "colab": {
          "base_uri": "https://localhost:8080/"
        },
        "id": "vwMXWmk3RrsF",
        "outputId": "7dd5e6ff-e49b-4f13-ec41-d49c9ddd90e3"
      },
      "source": [
        "#building training model\r\n",
        "model.fit(X_train,Y_train)"
      ],
      "execution_count": 35,
      "outputs": [
        {
          "output_type": "execute_result",
          "data": {
            "text/plain": [
              "LinearRegression(copy_X=True, fit_intercept=True, n_jobs=None, normalize=False)"
            ]
          },
          "metadata": {
            "tags": []
          },
          "execution_count": 35
        }
      ]
    },
    {
      "cell_type": "code",
      "metadata": {
        "id": "pawRZIZ1RyC8"
      },
      "source": [
        "#apply trained model to make prediction(on test set)\r\n",
        "Y_pred=model.predict(X_test)"
      ],
      "execution_count": 36,
      "outputs": []
    },
    {
      "cell_type": "markdown",
      "metadata": {
        "id": "3g2FEPwfSFdo"
      },
      "source": [
        "##prediction results"
      ]
    },
    {
      "cell_type": "code",
      "metadata": {
        "colab": {
          "base_uri": "https://localhost:8080/"
        },
        "id": "rx6dZyXyR8TP",
        "outputId": "9b5db875-cb55-479d-ddf8-7c7818b99e36"
      },
      "source": [
        "#print model performance\r\n",
        "print(\"Coeffiecients: \",model.coef_) #weight of each features\r\n",
        "print(\"Intercept: \",model.intercept_)\r\n",
        "print(\"Mean Squared Error (MSE): %.2f\" %mean_squared_error(Y_test,Y_pred))\r\n",
        "print(\"Coefficient of determinant (R^2): %.2f\"%(r2_score(Y_test,Y_pred)))"
      ],
      "execution_count": 37,
      "outputs": [
        {
          "output_type": "stream",
          "text": [
            "Coeffiecients:  [-1.31574047e-01  4.27164529e-02  4.51864008e-02  2.07931217e+00\n",
            " -1.69371147e+01  4.17698949e+00 -5.18424326e-03 -1.49167779e+00\n",
            "  3.31612356e-01 -1.27252474e-02 -9.14275489e-01  1.13762069e-02\n",
            " -5.12704244e-01]\n",
            "Intercept:  32.399798605261026\n",
            "Mean Squared Error (MSE): 21.42\n",
            "Coefficient of determinant (R^2): 0.73\n"
          ],
          "name": "stdout"
        }
      ]
    },
    {
      "cell_type": "markdown",
      "metadata": {
        "id": "cdGXxUzvTiFC"
      },
      "source": [
        "##Scatter plots"
      ]
    },
    {
      "cell_type": "code",
      "metadata": {
        "id": "zytYxdbXTZwm"
      },
      "source": [
        "#import library\r\n",
        "import seaborn as sns"
      ],
      "execution_count": 38,
      "outputs": []
    },
    {
      "cell_type": "code",
      "metadata": {
        "colab": {
          "base_uri": "https://localhost:8080/"
        },
        "id": "44B4HtXPTsqk",
        "outputId": "249cb1b6-0516-427d-ce14-778d6a334cef"
      },
      "source": [
        "#confirm datasets\r\n",
        "import numpy as np\r\n",
        "np.array(Y_test)"
      ],
      "execution_count": 39,
      "outputs": [
        {
          "output_type": "execute_result",
          "data": {
            "text/plain": [
              "array([20.8, 32. , 15.4, 23. , 28.4,  5.6, 24.7, 19.6, 26.6, 15.7, 23.2,\n",
              "       19.4, 33.2, 33.4, 23.2, 22.2, 21.1, 22.8, 12.5,  7. , 23.1, 11.3,\n",
              "       24.1, 10.5, 10.2, 20.5, 50. , 23.7, 41.7, 14.9, 14. , 20.4, 20.5,\n",
              "       18.3, 16.1, 13.4, 50. , 21.2, 19.8, 37. , 18.9, 23.8, 20.3, 19.6,\n",
              "       43.8, 18.7, 20.1, 23.4, 17.8, 22.2, 20.6, 14.4, 25.3, 21.6, 26.4,\n",
              "       11.8, 15. , 22.5, 15.4, 20.1, 37.3, 24.7, 50. , 14.5, 30.8,  8.7,\n",
              "       27.1, 34.6, 20. , 20.6, 19.9, 19.3, 23.1, 22.6, 20.2, 23.7,  9.7,\n",
              "       23.2,  8.3, 50. , 13.3, 11. , 25. , 23.9, 19. , 21.9, 29.9, 19.4,\n",
              "       31.2, 19.2, 22.5, 19.4, 25. , 17.4, 18.7, 21.6, 24.3, 18.9, 36. ,\n",
              "       28.1, 19.3, 17.4])"
            ]
          },
          "metadata": {
            "tags": []
          },
          "execution_count": 39
        }
      ]
    },
    {
      "cell_type": "code",
      "metadata": {
        "colab": {
          "base_uri": "https://localhost:8080/"
        },
        "id": "oT4abJwWT4_U",
        "outputId": "1efb1c52-1272-49af-c59d-9b0918b90ce3"
      },
      "source": [
        "Y_pred"
      ],
      "execution_count": 40,
      "outputs": [
        {
          "output_type": "execute_result",
          "data": {
            "text/plain": [
              "array([23.50726006, 33.84668444, 14.87852434, 29.14792308, 30.78333299,\n",
              "       12.1095101 , 24.81634841, 18.18265433, 27.82589265, 14.91530909,\n",
              "       17.98038281, 19.83517455, 32.45884677, 28.74205489, 23.23036109,\n",
              "       25.77687687, 22.21378539, 27.82954751, 20.0617798 , -5.59516475,\n",
              "       25.01660542, 13.83157392, 20.15397435, 12.95442903, 16.05820739,\n",
              "       20.92722614, 41.28857485, 27.81126712, 38.69671109, 15.27994749,\n",
              "       14.09176673, 19.5793318 , 19.59211835, 19.16072374, 21.60740031,\n",
              "       13.02884843, 32.62563159, 23.01366767, 22.74044746, 30.69924894,\n",
              "       21.29554669, 25.06847171, 22.53296396, 23.51504632, 35.58226846,\n",
              "       20.68050019, 18.99396466, 24.34986955, 23.47194764, 23.91285697,\n",
              "       20.17459737,  8.77528769, 25.35229212, 25.53485236, 22.26528614,\n",
              "       12.01300683, 13.6602894 , 22.12701345, 18.74144913, 21.45137557,\n",
              "       34.49497083, 23.05455589, 40.4491712 , 17.91381154, 31.20435988,\n",
              "        8.57064323, 19.30170139, 34.34483155, 20.41147305, 27.05633912,\n",
              "       19.61430655, 16.26978694,  9.79117054, 24.24003988, 23.15495001,\n",
              "       27.403519  , 10.09480721, 25.53809231,  9.51284268, 44.02894248,\n",
              "       21.04161234, 14.40630813, 27.71342825, 27.53785436, 14.23898562,\n",
              "       38.41855205, 31.47355833, 16.96620928, 28.54961986, 23.61628455,\n",
              "       17.81227566, 17.13837351, 24.70582966, 22.32621813, 17.64678133,\n",
              "       24.91297718, 28.87795452, 14.92965886, 36.45264598, 25.52909644,\n",
              "       21.99675761, 16.19990651])"
            ]
          },
          "metadata": {
            "tags": []
          },
          "execution_count": 40
        }
      ]
    },
    {
      "cell_type": "code",
      "metadata": {
        "colab": {
          "base_uri": "https://localhost:8080/",
          "height": 0
        },
        "id": "QD_BeiEPT9h2",
        "outputId": "e903ea4f-8de4-4f35-920e-8c3b9b8c05e5"
      },
      "source": [
        "#making the scatter plot\r\n",
        "sns.scatterplot(Y_test,Y_pred,marker=\"+\")"
      ],
      "execution_count": 41,
      "outputs": [
        {
          "output_type": "stream",
          "text": [
            "/usr/local/lib/python3.6/dist-packages/seaborn/_decorators.py:43: FutureWarning: Pass the following variables as keyword args: x, y. From version 0.12, the only valid positional argument will be `data`, and passing other arguments without an explicit keyword will result in an error or misinterpretation.\n",
            "  FutureWarning\n"
          ],
          "name": "stderr"
        },
        {
          "output_type": "execute_result",
          "data": {
            "text/plain": [
              "<matplotlib.axes._subplots.AxesSubplot at 0x7fab0f8c6f60>"
            ]
          },
          "metadata": {
            "tags": []
          },
          "execution_count": 41
        },
        {
          "output_type": "display_data",
          "data": {
            "image/png": "[encoded data removed]",
            "text/plain": [
              "<Figure size 432x288 with 1 Axes>"
            ]
          },
          "metadata": {
            "tags": [],
            "needs_background": "light"
          }
        }
      ]
    },
    {
      "cell_type": "code",
      "metadata": {
        "id": "AXRAt066UfNN",
        "colab": {
          "base_uri": "https://localhost:8080/",
          "height": 0
        },
        "outputId": "a8918859-b4cf-4805-fa89-fe09418ed190"
      },
      "source": [
        "sns.scatterplot(Y_test, Y_pred, alpha=0.5)"
      ],
      "execution_count": 42,
      "outputs": [
        {
          "output_type": "stream",
          "text": [
            "/usr/local/lib/python3.6/dist-packages/seaborn/_decorators.py:43: FutureWarning: Pass the following variables as keyword args: x, y. From version 0.12, the only valid positional argument will be `data`, and passing other arguments without an explicit keyword will result in an error or misinterpretation.\n",
            "  FutureWarning\n"
          ],
          "name": "stderr"
        },
        {
          "output_type": "execute_result",
          "data": {
            "text/plain": [
              "<matplotlib.axes._subplots.AxesSubplot at 0x7fab0f7f8240>"
            ]
          },
          "metadata": {
            "tags": []
          },
          "execution_count": 42
        },
        {
          "output_type": "display_data",
          "data": {
            "image/png": "[encoded data removed]",
            "text/plain": [
              "<Figure size 432x288 with 1 Axes>"
            ]
          },
          "metadata": {
            "tags": [],
            "needs_background": "light"
          }
        }
      ]
    },
    {
      "cell_type": "markdown",
      "metadata": {
        "id": "ndo92Uc4kvq2"
      },
      "source": [
        "#[3]Random Data Points - Gradient Descend"
      ]
    },
    {
      "cell_type": "markdown",
      "metadata": {
        "id": "C_BH8H60lq5x"
      },
      "source": [
        "##import library"
      ]
    },
    {
      "cell_type": "code",
      "metadata": {
        "id": "nIE0DZ1wiS1N"
      },
      "source": [
        "import numpy as np\r\n",
        "import pandas as pd\r\n",
        "import matplotlib.pyplot as plt\r\n",
        "import torch \r\n",
        "import torch.nn as nn\r\n",
        "\r\n"
      ],
      "execution_count": 43,
      "outputs": []
    },
    {
      "cell_type": "markdown",
      "metadata": {
        "id": "kUgy-HDAlueA"
      },
      "source": [
        "##Load dataset"
      ]
    },
    {
      "cell_type": "code",
      "metadata": {
        "colab": {
          "base_uri": "https://localhost:8080/",
          "height": 284
        },
        "id": "_NM3SLEXl6G_",
        "outputId": "d1bf8a99-ef63-497b-a98f-951e9082ff1d"
      },
      "source": [
        "X=torch.randn(100,1)*10+10\r\n",
        "\r\n",
        "'''\r\n",
        "standard deviation 따르는 data point 수치 매우 적음\r\n",
        "그리하여 data 폭을 넓히기 위해 10 곱함\r\n",
        "center를 0에서 x축으로 positive한 point로 옮겨 \r\n",
        " = base 안에 linear fitting을 했을 때 origin에서 출발하지 않도록 positive한 영역으로 넘어올 수 있도록\r\n",
        " -> 더하기 10\r\n",
        " '''\r\n",
        "Y=X+torch.randn(100,1)*5\r\n",
        "\r\n",
        "plt.scatter(X,Y,alpha=0.5)"
      ],
      "execution_count": 44,
      "outputs": [
        {
          "output_type": "execute_result",
          "data": {
            "text/plain": [
              "<matplotlib.collections.PathCollection at 0x7faac320a160>"
            ]
          },
          "metadata": {
            "tags": []
          },
          "execution_count": 44
        },
        {
          "output_type": "display_data",
          "data": {
            "image/png": "[encoded data removed]",
            "text/plain": [
              "<Figure size 432x288 with 1 Axes>"
            ]
          },
          "metadata": {
            "tags": [],
            "needs_background": "light"
          }
        }
      ]
    },
    {
      "cell_type": "markdown",
      "metadata": {
        "id": "UXHW4rRtpbRn"
      },
      "source": [
        "##Linear Model Class Definition\r\n"
      ]
    },
    {
      "cell_type": "code",
      "metadata": {
        "id": "xn5b2ob5mH_2"
      },
      "source": [
        "class LR_Mode(nn.Module):\r\n",
        "  def __init__(self,inputDim,outputDim):\r\n",
        "    super(LR_Mode,self).__init__()\r\n",
        "    self.linear=nn.Linear(inputDim,outputDim)\r\n",
        "\r\n",
        "  def forward(self,x):\r\n",
        "    y_pred=self.linear(x)\r\n",
        "    return y_pred"
      ],
      "execution_count": 45,
      "outputs": []
    },
    {
      "cell_type": "markdown",
      "metadata": {
        "id": "_rfjrZ8yra-m"
      },
      "source": [
        "##List model parameter W, b\r\n"
      ]
    },
    {
      "cell_type": "code",
      "metadata": {
        "colab": {
          "base_uri": "https://localhost:8080/"
        },
        "id": "jDUfW7MarPJk",
        "outputId": "eb4ed2d9-9e9a-41cb-df05-69774f530bd4"
      },
      "source": [
        "torch.manual_seed(1)\r\n",
        "model=LR_Mode(1,1)\r\n",
        "print(list(model.parameters()))"
      ],
      "execution_count": 46,
      "outputs": [
        {
          "output_type": "stream",
          "text": [
            "[Parameter containing:\n",
            "tensor([[0.5153]], requires_grad=True), Parameter containing:\n",
            "tensor([-0.4414], requires_grad=True)]\n"
          ],
          "name": "stdout"
        }
      ]
    },
    {
      "cell_type": "markdown",
      "metadata": {
        "id": "dDg4md-crzwJ"
      },
      "source": [
        "##Function to get W, b"
      ]
    },
    {
      "cell_type": "code",
      "metadata": {
        "id": "bbYmmTdfrou6"
      },
      "source": [
        "[w,b]=model.parameters()"
      ],
      "execution_count": 47,
      "outputs": []
    },
    {
      "cell_type": "markdown",
      "metadata": {
        "id": "5BKXEIvtsM2n"
      },
      "source": [
        "weight는 두 개의 괄호로 불러오고 base는 한 개의 괄호로 가져옴<br>\r\n",
        "print(w[0][0],b[0]) => 괄호, 표현 방식은 똑같지만 tensor 값으로 나옴<br>\r\n",
        "print(w[0][0].item(),b[0].item()) => 숫자 형태로 나옴"
      ]
    },
    {
      "cell_type": "code",
      "metadata": {
        "id": "MmPtOH1Or7Xc"
      },
      "source": [
        "def get_params():\r\n",
        "  return (w[0][0].item()),b[0].item()"
      ],
      "execution_count": 48,
      "outputs": []
    },
    {
      "cell_type": "markdown",
      "metadata": {
        "id": "4B35Qj_os1pO"
      },
      "source": [
        "##Linear fit data visualization / Plotting"
      ]
    },
    {
      "cell_type": "code",
      "metadata": {
        "colab": {
          "base_uri": "https://localhost:8080/",
          "height": 303
        },
        "id": "lNUbe8mXsBu6",
        "outputId": "df77acb5-1580-4821-9689-0eaaa843d10f"
      },
      "source": [
        "def plot_LRfit():\r\n",
        "  w1,b1=get_params() #현재 모델이 가지고 있는 weight와 base를 가져옴\r\n",
        "  y_fit=w1*X+b1 #가져온 것으로 y predicion 값 얻음\r\n",
        "\r\n",
        "  plt.clf()\r\n",
        "  plt.plot(X,Y,'go',label=\"True/label data\",alpha=0.5)\r\n",
        "  plt.plot(X,y_fit,\"--\",label=\"Predictions\",alpha=0.5)\r\n",
        "  plt.legend(loc=\"best\")\r\n",
        "  plt.show\r\n",
        "\r\n",
        "plot_LRfit()\r\n",
        "\r\n",
        "'''\r\n",
        "초록색 => 실제 데이터 값<br>\r\n",
        "파란색 => 현재 모델의 예측값<ㅠㄱ>\r\n",
        "초기 고정된 랜던씨드로 weight와 base를 기반으로 linear fitting\r\n",
        "'''"
      ],
      "execution_count": 49,
      "outputs": [
        {
          "output_type": "execute_result",
          "data": {
            "application/vnd.google.colaboratory.intrinsic+json": {
              "type": "string"
            },
            "text/plain": [
              "'\\n초록색 => 실제 데이터 값<br>\\n파란색 => 현재 모델의 예측값<ㅠㄱ>\\n초기 고정된 랜던씨드로 weight와 base를 기반으로 linear fitting\\n'"
            ]
          },
          "metadata": {
            "tags": []
          },
          "execution_count": 49
        },
        {
          "output_type": "display_data",
          "data": {
            "image/png": "[encoded data removed]",
            "text/plain": [
              "<Figure size 432x288 with 1 Axes>"
            ]
          },
          "metadata": {
            "tags": [],
            "needs_background": "light"
          }
        }
      ]
    },
    {
      "cell_type": "markdown",
      "metadata": {
        "id": "7mMxhg2SuVcU"
      },
      "source": [
        "##Gradient Descent"
      ]
    },
    {
      "cell_type": "markdown",
      "metadata": {
        "id": "u9QJPDuluah_"
      },
      "source": [
        "###built-in Loss Function"
      ]
    },
    {
      "cell_type": "code",
      "metadata": {
        "id": "lADrdNM_uQvH"
      },
      "source": [
        "learningrate=0.001\r\n",
        "epochs=100\r\n",
        "\r\n",
        "criterion=nn.MSELoss\r\n",
        "#실제 값과 예측 값의 차이를 MSELoss로 취한 다음 그 값을 Cost Function으로 정의\r\n",
        "\r\n",
        "optimizer=torch.optim.SGD(model.parameters(),lr=learningrate)\r\n",
        "#optimization => SGD \r\n",
        "#(개별 sample 이용해 params update 빠름, converge속도 빠름, BGD에 비해 우수한 성능 보장x)"
      ],
      "execution_count": 51,
      "outputs": []
    },
    {
      "cell_type": "markdown",
      "metadata": {
        "id": "JrRBLitLvm0m"
      },
      "source": [
        "###Training"
      ]
    },
    {
      "cell_type": "code",
      "metadata": {
        "colab": {
          "base_uri": "https://localhost:8080/"
        },
        "id": "21uouz0FtneM",
        "outputId": "53d16b38-6481-423f-c489-767bd40d6734"
      },
      "source": [
        "losses=[]\r\n",
        "\r\n",
        "for epoch in range(epochs):\r\n",
        "  y_pred1=model.forward(X)\r\n",
        "  #model의 forward로 X에 대한 Y값 update\r\n",
        "  loss=criterion()(y_pred1,Y)\r\n",
        "  #criterion으로 예측값과 label값의 차이 구함\r\n",
        "  print('epoch {}, loss {}'.format(epoch,loss.item()))\r\n",
        "  #현재 몇번째 epoch이고 그에 따른 loss 출력\r\n",
        "\r\n",
        "  losses.append(loss)\r\n",
        "  #list에 loss 저장\r\n",
        "  optimizer.zero_grad()\r\n",
        "  #이전 epoch에서 진행되며 누적된 gradient를 0으로 초기화\r\n",
        "  loss.backward()\r\n",
        "  #w와 b에 대해 parameter update\r\n",
        "  optimizer.step()\r\n",
        "  #use parameter to update gradient"
      ],
      "execution_count": 52,
      "outputs": [
        {
          "output_type": "stream",
          "text": [
            "epoch 0, loss 99.04175567626953\n",
            "epoch 1, loss 50.95896911621094\n",
            "epoch 2, loss 35.91334533691406\n",
            "epoch 3, loss 31.204370498657227\n",
            "epoch 4, loss 29.729528427124023\n",
            "epoch 5, loss 29.2665958404541\n",
            "epoch 6, loss 29.120262145996094\n",
            "epoch 7, loss 29.0729923248291\n",
            "epoch 8, loss 29.056720733642578\n",
            "epoch 9, loss 29.050146102905273\n",
            "epoch 10, loss 29.046613693237305\n",
            "epoch 11, loss 29.044029235839844\n",
            "epoch 12, loss 29.041749954223633\n",
            "epoch 13, loss 29.039562225341797\n",
            "epoch 14, loss 29.03740882873535\n",
            "epoch 15, loss 29.035276412963867\n",
            "epoch 16, loss 29.03314208984375\n",
            "epoch 17, loss 29.031017303466797\n",
            "epoch 18, loss 29.028888702392578\n",
            "epoch 19, loss 29.026769638061523\n",
            "epoch 20, loss 29.024656295776367\n",
            "epoch 21, loss 29.022541046142578\n",
            "epoch 22, loss 29.020435333251953\n",
            "epoch 23, loss 29.018325805664062\n",
            "epoch 24, loss 29.016223907470703\n",
            "epoch 25, loss 29.014127731323242\n",
            "epoch 26, loss 29.01203155517578\n",
            "epoch 27, loss 29.00994110107422\n",
            "epoch 28, loss 29.007854461669922\n",
            "epoch 29, loss 29.005769729614258\n",
            "epoch 30, loss 29.00368881225586\n",
            "epoch 31, loss 29.001611709594727\n",
            "epoch 32, loss 28.99953842163086\n",
            "epoch 33, loss 28.99747085571289\n",
            "epoch 34, loss 28.995399475097656\n",
            "epoch 35, loss 28.993337631225586\n",
            "epoch 36, loss 28.99127960205078\n",
            "epoch 37, loss 28.989225387573242\n",
            "epoch 38, loss 28.987173080444336\n",
            "epoch 39, loss 28.985122680664062\n",
            "epoch 40, loss 28.983078002929688\n",
            "epoch 41, loss 28.981035232543945\n",
            "epoch 42, loss 28.9789981842041\n",
            "epoch 43, loss 28.97696304321289\n",
            "epoch 44, loss 28.974933624267578\n",
            "epoch 45, loss 28.9729061126709\n",
            "epoch 46, loss 28.970884323120117\n",
            "epoch 47, loss 28.968862533569336\n",
            "epoch 48, loss 28.966842651367188\n",
            "epoch 49, loss 28.964828491210938\n",
            "epoch 50, loss 28.962820053100586\n",
            "epoch 51, loss 28.9608097076416\n",
            "epoch 52, loss 28.95880889892578\n",
            "epoch 53, loss 28.956809997558594\n",
            "epoch 54, loss 28.954811096191406\n",
            "epoch 55, loss 28.95281982421875\n",
            "epoch 56, loss 28.950828552246094\n",
            "epoch 57, loss 28.94884490966797\n",
            "epoch 58, loss 28.946861267089844\n",
            "epoch 59, loss 28.94487953186035\n",
            "epoch 60, loss 28.94290542602539\n",
            "epoch 61, loss 28.940933227539062\n",
            "epoch 62, loss 28.9389591217041\n",
            "epoch 63, loss 28.937000274658203\n",
            "epoch 64, loss 28.935035705566406\n",
            "epoch 65, loss 28.93307113647461\n",
            "epoch 66, loss 28.931119918823242\n",
            "epoch 67, loss 28.929166793823242\n",
            "epoch 68, loss 28.927213668823242\n",
            "epoch 69, loss 28.925268173217773\n",
            "epoch 70, loss 28.923328399658203\n",
            "epoch 71, loss 28.92138671875\n",
            "epoch 72, loss 28.919452667236328\n",
            "epoch 73, loss 28.917522430419922\n",
            "epoch 74, loss 28.915590286254883\n",
            "epoch 75, loss 28.913667678833008\n",
            "epoch 76, loss 28.911745071411133\n",
            "epoch 77, loss 28.909818649291992\n",
            "epoch 78, loss 28.90790557861328\n",
            "epoch 79, loss 28.905996322631836\n",
            "epoch 80, loss 28.90408706665039\n",
            "epoch 81, loss 28.902177810668945\n",
            "epoch 82, loss 28.90027618408203\n",
            "epoch 83, loss 28.898378372192383\n",
            "epoch 84, loss 28.89647674560547\n",
            "epoch 85, loss 28.89458656311035\n",
            "epoch 86, loss 28.8926944732666\n",
            "epoch 87, loss 28.89080810546875\n",
            "epoch 88, loss 28.888925552368164\n",
            "epoch 89, loss 28.887046813964844\n",
            "epoch 90, loss 28.885169982910156\n",
            "epoch 91, loss 28.8832950592041\n",
            "epoch 92, loss 28.881425857543945\n",
            "epoch 93, loss 28.879554748535156\n",
            "epoch 94, loss 28.8776912689209\n",
            "epoch 95, loss 28.875831604003906\n",
            "epoch 96, loss 28.873977661132812\n",
            "epoch 97, loss 28.872119903564453\n",
            "epoch 98, loss 28.87026596069336\n",
            "epoch 99, loss 28.868419647216797\n"
          ],
          "name": "stdout"
        }
      ]
    },
    {
      "cell_type": "markdown",
      "metadata": {
        "id": "oa7SGnwF1224"
      },
      "source": [
        "##plot losses / LR"
      ]
    },
    {
      "cell_type": "code",
      "metadata": {
        "colab": {
          "base_uri": "https://localhost:8080/",
          "height": 284
        },
        "id": "hX3Mnie3xVj5",
        "outputId": "601cfe1b-79cf-4e41-80f9-71c11bdbaf23"
      },
      "source": [
        "plt.plot(range(epochs),losses)"
      ],
      "execution_count": 53,
      "outputs": [
        {
          "output_type": "execute_result",
          "data": {
            "text/plain": [
              "[<matplotlib.lines.Line2D at 0x7faac2658748>]"
            ]
          },
          "metadata": {
            "tags": []
          },
          "execution_count": 53
        },
        {
          "output_type": "display_data",
          "data": {
            "image/png": "[encoded data removed]",
            "text/plain": [
              "<Figure size 432x288 with 1 Axes>"
            ]
          },
          "metadata": {
            "tags": [],
            "needs_background": "light"
          }
        }
      ]
    },
    {
      "cell_type": "code",
      "metadata": {
        "colab": {
          "base_uri": "https://localhost:8080/",
          "height": 265
        },
        "id": "gKWvD6Hw1k4z",
        "outputId": "4b826b03-fbba-4d7e-9811-7bb5b83d631e"
      },
      "source": [
        "plot_LRfit()"
      ],
      "execution_count": 54,
      "outputs": [
        {
          "output_type": "display_data",
          "data": {
            "image/png": "[encoded data removed]",
            "text/plain": [
              "<Figure size 432x288 with 1 Axes>"
            ]
          },
          "metadata": {
            "tags": [],
            "needs_background": "light"
          }
        }
      ]
    },
    {
      "cell_type": "code",
      "metadata": {
        "id": "gPyX2sFb1n9u"
      },
      "source": [
        ""
      ],
      "execution_count": null,
      "outputs": []
    }
  ]
}
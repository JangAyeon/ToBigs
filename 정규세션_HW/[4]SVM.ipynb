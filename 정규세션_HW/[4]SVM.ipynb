{
  "nbformat": 4,
  "nbformat_minor": 0,
  "metadata": {
    "colab": {
      "name": "[4]SVM.ipynb",
      "provenance": [],
      "collapsed_sections": [],
      "include_colab_link": true
    },
    "file_extension": ".py",
    "kernelspec": {
      "display_name": "Python 3",
      "language": "python",
      "name": "python3"
    },
    "language_info": {
      "codemirror_mode": {
        "name": "ipython",
        "version": 3
      },
      "file_extension": ".py",
      "mimetype": "text/x-python",
      "name": "python",
      "nbconvert_exporter": "python",
      "pygments_lexer": "ipython3",
      "version": "3.7.6"
    },
    "mimetype": "text/x-python",
    "name": "python",
    "npconvert_exporter": "python",
    "pygments_lexer": "ipython3",
    "version": 3
  },
  "cells": [
    {
      "cell_type": "markdown",
      "metadata": {
        "id": "view-in-github",
        "colab_type": "text"
      },
      "source": [
        "<a href=\"https://colab.research.google.com/github/JangAyeon/ToBigs/blob/master/%5B4%5DSVM.ipynb\" target=\"_parent\"><img src=\"https://colab.research.google.com/assets/colab-badge.svg\" alt=\"Open In Colab\"/></a>"
      ]
    },
    {
      "cell_type": "markdown",
      "metadata": {
        "id": "8HyMvTfrPTEU"
      },
      "source": [
        "#### TOBIG'S 14기 정규세션 4주차 SVM \n",
        "### ASSIGNMENT1. Multiclass SVM 구현"
      ]
    },
    {
      "cell_type": "code",
      "metadata": {
        "colab": {
          "base_uri": "https://localhost:8080/"
        },
        "id": "lMqxwjbRNX6u",
        "outputId": "3ade10e9-7a3d-451a-f9ce-d315e59a1ffe"
      },
      "source": [
        "import numpy as np\n",
        "import pandas as pd\n",
        "import matplotlib.pyplot as plt\n",
        "import seaborn as sns\n",
        "from sklearn.svm import SVC\n",
        "from sklearn.model_selection import train_test_split\n",
        "from sklearn.pipeline import Pipeline\n",
        "from sklearn.preprocessing import StandardScaler\n",
        "from sklearn.metrics import *\n",
        "\n",
        "#IRIS 데이터 로드\n",
        "iris =  sns.load_dataset('iris') \n",
        "X= iris.iloc[:,:4] #학습할데이터\n",
        "y = iris.iloc[:,-1] #타겟\n",
        "print(y)"
      ],
      "execution_count": null,
      "outputs": [
        {
          "output_type": "stream",
          "text": [
            "0         setosa\n",
            "1         setosa\n",
            "2         setosa\n",
            "3         setosa\n",
            "4         setosa\n",
            "         ...    \n",
            "145    virginica\n",
            "146    virginica\n",
            "147    virginica\n",
            "148    virginica\n",
            "149    virginica\n",
            "Name: species, Length: 150, dtype: object\n"
          ],
          "name": "stdout"
        }
      ]
    },
    {
      "cell_type": "code",
      "metadata": {
        "id": "tm8gpfVSNX67"
      },
      "source": [
        "scal = StandardScaler() #scaling\n",
        "X = scal.fit_transform(X)"
      ],
      "execution_count": null,
      "outputs": []
    },
    {
      "cell_type": "code",
      "metadata": {
        "colab": {
          "base_uri": "https://localhost:8080/"
        },
        "id": "laRcz10bNX7C",
        "outputId": "68c04b3b-46c6-4e74-e05c-04d738a3b4c4"
      },
      "source": [
        "print(y)"
      ],
      "execution_count": null,
      "outputs": [
        {
          "output_type": "stream",
          "text": [
            "0         setosa\n",
            "1         setosa\n",
            "2         setosa\n",
            "3         setosa\n",
            "4         setosa\n",
            "         ...    \n",
            "145    virginica\n",
            "146    virginica\n",
            "147    virginica\n",
            "148    virginica\n",
            "149    virginica\n",
            "Name: species, Length: 150, dtype: object\n"
          ],
          "name": "stdout"
        }
      ]
    },
    {
      "cell_type": "code",
      "metadata": {
        "id": "d7VgXR-SNX7K"
      },
      "source": [
        "# One VS Rest 구현 위한 class 구분 머신 생성\n",
        "\n",
        "svm_1 = SVC(kernel ='rbf', C = 5, gamma = 5) #class: 0 or not 구분할 머신\n",
        "svm_2 = SVC(kernel ='rbf', C = 5, gamma = 5) #class: 1 or not 구분할 머신\n",
        "svm_3 = SVC(kernel ='rbf', C = 5, gamma = 5) #class: 2 or not 구분할 머신"
      ],
      "execution_count": null,
      "outputs": []
    },
    {
      "cell_type": "code",
      "metadata": {
        "id": "pyMSHOFHNX7R"
      },
      "source": [
        " #test/train 데이터로 분리\n",
        " \n",
        "X_train, X_test, y_train, y_test = train_test_split(X, y, test_size=0.2, random_state=48)"
      ],
      "execution_count": null,
      "outputs": []
    },
    {
      "cell_type": "code",
      "metadata": {
        "id": "5KnlaqAJNX7X"
      },
      "source": [
        "#one hot encoding\r\n",
        "\r\n",
        "y_train = pd.get_dummies(y_train) "
      ],
      "execution_count": null,
      "outputs": []
    },
    {
      "cell_type": "code",
      "metadata": {
        "colab": {
          "base_uri": "https://localhost:8080/"
        },
        "id": "9S5ML8x1NX7d",
        "outputId": "2bd6c72c-22df-423e-a73d-39765293dbbe"
      },
      "source": [
        "#class: 0 or not 구분\n",
        "svm_1.fit(X_train,y_train.iloc[:,0])\n",
        "#class: 1 or not 구분\n",
        "svm_2.fit(X_train,y_train.iloc[:,1]) \n",
        "#class: 2 or not 구분\n",
        "svm_3.fit(X_train,y_train.iloc[:,2]) \n",
        "\n",
        "\n",
        "#svm_1을 이용해 데이터의 class가 0인지 아닌지를 예측\n",
        "print(svm_1.predict(X_test)) \n",
        "\n",
        "#decision_function : hyperplane과의 거리를 구함\n",
        "print(svm_1.decision_function(X_test))"
      ],
      "execution_count": null,
      "outputs": [
        {
          "output_type": "stream",
          "text": [
            "[0 0 0 0 0 0 1 0 1 0 0 1 1 0 0 0 1 0 0 0 1 0 0 0 0 1 1 0 0 0]\n",
            "[-1.12470845 -0.86326953 -0.65281099 -0.50248821 -0.76284323 -0.87465573\n",
            "  1.07709345 -0.99281647  0.47441336 -0.99842743 -0.83989348  0.15633457\n",
            "  0.32871788 -0.97965464 -0.72385083 -0.92638376  1.28322481 -0.56240455\n",
            " -0.72719892 -0.99509775  0.43166724 -0.96451557 -0.82991366 -1.03020581\n",
            " -0.75166835  1.13461335  0.39943974 -1.04194106 -0.93376548 -1.06133798]\n"
          ],
          "name": "stdout"
        }
      ]
    },
    {
      "cell_type": "markdown",
      "metadata": {
        "id": "w7aDXO7QNl6_"
      },
      "source": [
        "* 배열 원소의 부호 판별 함수 : `np.sign(x)`  ☞ 1 (positive), 0(zero), -1(negative)"
      ]
    },
    {
      "cell_type": "code",
      "metadata": {
        "colab": {
          "base_uri": "https://localhost:8080/"
        },
        "id": "sCR46aMrNX7p",
        "outputId": "05a8585c-9a61-4fb0-fab6-47f9557dd710"
      },
      "source": [
        "for i in range(len(X_test)): #전체를 돌면서 \n",
        "    if (np.sign(svm_1.decision_function(X_test)[i]) == np.sign(svm_2.decision_function(X_test)[i])) and (np.sign(svm_2.decision_function(X_test)[i]) == np.sign(svm_3.decision_function(X_test)[i])):\n",
        "      #decision function을 이용해 data~hyperplane의 거리 구함\n",
        "      #그 거리의 부호가 같은지 확인함 => 같은 경우 모두 동점인 경우가 생긴 것\n",
        "        print(i) #동점인 경우의 인덱스 출력"
      ],
      "execution_count": null,
      "outputs": [
        {
          "output_type": "stream",
          "text": [
            "3\n",
            "17\n",
            "18\n"
          ],
          "name": "stdout"
        }
      ]
    },
    {
      "cell_type": "markdown",
      "metadata": {
        "id": "RlGarEB2OIcq"
      },
      "source": [
        "#One vs Rest"
      ]
    },
    {
      "cell_type": "code",
      "metadata": {
        "colab": {
          "base_uri": "https://localhost:8080/"
        },
        "id": "VkAo03i-NX7v",
        "outputId": "660d2878-3131-4faa-92e2-5dd62c55c449"
      },
      "source": [
        "#class 0 1 2를 구분한 머신을 모음\n",
        "classifier=[]\n",
        "classifier.append(svm_1)\n",
        "classifier.append(svm_2)\n",
        "classifier.append(svm_3)\n",
        "\n",
        "#구분 머신을 바탕으로 진행한 voting 결과를 기록할 scoring 배열 생성\n",
        "scoring=np.zeros((150,3),dtype=int)\n",
        "#예측 값을 기록할 pred\n",
        "pred=[]\n",
        "\n",
        "for i in range(len(X_test)): #전체를 톨면서\n",
        "  if classifier[0].predict(X_test)[i]==1: #class 0인 경우 \n",
        "    scoring[i][0]+=1 #0 class 점수로 +1\n",
        "    scoring[i][1]-=1 #1 class 점수로 -1\n",
        "    scoring[i][2]-=1 #2 class 점수로 -1\n",
        "\n",
        "  elif classifier[1].predict(X_test)[i]==1: #class 1인 경우 \n",
        "    scoring[i][0]-=1 #0 class 점수로 -1\n",
        "    scoring[i][1]+=1 #1 class 점수로 +1\n",
        "    scoring[i][2]-=1 #2 class 점수로 -1\n",
        "\n",
        "  elif classifier[2].predict(X_test)[i]==1: #class 2인 경우\n",
        "    scoring[i][0]-=1 #0 class 점수로 -1\n",
        "    scoring[i][1]-=1 #1 class 점수로 -1\n",
        "    scoring[i][2]+=1 #2 class 점수로 +1\n",
        "\n",
        "  pred.append(np.argmax(scoring[i])) #가장 큰 점수를 가진 것을 예측 값으로!! 선정\n",
        "\n",
        "\n",
        "  if (np.sign(classifier[0].decision_function(X_test)[i]) == np.sign(classifier[1].decision_function(X_test)[i])): #투표 점수 결과가 [0] [1] [2] 모두 같은 경우(=>모두 0인 경우)\n",
        "    if (np.sign(classifier[1].decision_function(X_test)[i]) == np.sign(classifier[2].decision_function(X_test)[i])):\n",
        "      pred[i] = np.argmax([classifier[0].decision_function(X_test)[i], classifier[1].decision_function(X_test)[i], classifier[2].decision_function(X_test)[i]])  #decision function 값이 가장 큰 값을 예측값으로\n",
        "\n",
        "  #[0][1] / [1][2] / [0] [2] 의 투표 점수 결과가 모두 양수이고 같은 경우\n",
        "  #decision function 값이 가장 큰 값을 예측값으로\n",
        "  elif (scoring[i][0] > 0 and scoring[i][1] > 0):\n",
        "    if  (scoring[i][0] == scoring[i][1]):\n",
        "      pred[i] = np.argmax([classifier[0].decision_function(X_test)[i], classifier[1].decision_function(X_test)[i]])\n",
        "  elif (scoring[i][0] > 0 and scoring[i][2]) > 0:\n",
        "    if  (scoring[i][0] == scoring[i][1]):  \n",
        "      pred[i] = np.argmax([classifier[0].decision_function(X_test)[i], classifier[2].decision_function(X_test)[i]])\n",
        "  elif  (scoring[i][1] > 0 and scoring[i][2] > 0): \n",
        "    if  (scoring[i][1] == scoring[i][2]):\n",
        "      pred[i] = np.argmax([classifier[1].decision_function(X_test)[i], classifier[2].decision_function(X_test)[i]])\n",
        "\n",
        "   #투표를 진행하며 0,1,2로 되어있던 값을 class값으로 변환\n",
        "y_pred = pd.DataFrame(pred).replace({0:'setosa', 1:'versicolor', 2:'virginica'})\n",
        "print(\"Accuacy : \", accuracy_score(y_test, y_pred))\n"
      ],
      "execution_count": null,
      "outputs": [
        {
          "output_type": "stream",
          "text": [
            "Accuacy :  0.8666666666666667\n"
          ],
          "name": "stdout"
        }
      ]
    },
    {
      "cell_type": "code",
      "metadata": {
        "colab": {
          "base_uri": "https://localhost:8080/"
        },
        "id": "LlVlC9l9NX77",
        "outputId": "d1f81977-680d-4344-85ab-f0d4a0c286df"
      },
      "source": [
        "# 원래 라이브러리가 제공하는 multi class SVM과 여러분이 구현한 multiclass SVM 결과를 비교해주세요\n",
        "\n",
        "X_train_2, X_test_2, y_train_2, y_test_2 = train_test_split(X, y, test_size=0.2, random_state=48)\n",
        "\n",
        "sc = StandardScaler() \n",
        "X_train_2 = sc.fit_transform(X_train_2)\n",
        "X_test_2 = sc.transform(X_test_2)\n",
        "\n",
        "svm_4 = SVC(kernel ='rbf', C = 5, gamma = 5)\n",
        "svm_4.fit(X_train_2, y_train_2)\n",
        "y_pred = svm_4.predict(X_test_2)\n",
        "\n",
        "accuracy_score(y_test_2,y_pred)"
      ],
      "execution_count": null,
      "outputs": [
        {
          "output_type": "execute_result",
          "data": {
            "text/plain": [
              "0.8666666666666667"
            ]
          },
          "metadata": {
            "tags": []
          },
          "execution_count": 15
        }
      ]
    },
    {
      "cell_type": "code",
      "metadata": {
        "id": "vb6hpOPQNX8B"
      },
      "source": [
        ""
      ],
      "execution_count": null,
      "outputs": []
    }
  ]
}

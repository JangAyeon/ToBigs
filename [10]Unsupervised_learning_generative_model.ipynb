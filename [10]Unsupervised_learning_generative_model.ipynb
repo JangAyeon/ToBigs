{
  "nbformat": 4,
  "nbformat_minor": 0,
  "metadata": {
    "colab": {
      "name": "[10]Unsupervised_learning_generative_model.ipynb",
      "provenance": [],
      "collapsed_sections": [],
      "include_colab_link": true
    },
    "kernelspec": {
      "name": "python3",
      "display_name": "Python 3"
    },
    "language_info": {
      "name": "python"
    },
    "accelerator": "GPU",
    "widgets": {
      "application/vnd.jupyter.widget-state+json": {
        "5fb331920d9b41999f447347a66c4b58": {
          "model_module": "@jupyter-widgets/controls",
          "model_name": "HBoxModel",
          "state": {
            "_view_name": "HBoxView",
            "_dom_classes": [],
            "_model_name": "HBoxModel",
            "_view_module": "@jupyter-widgets/controls",
            "_model_module_version": "1.5.0",
            "_view_count": null,
            "_view_module_version": "1.5.0",
            "box_style": "",
            "layout": "IPY_MODEL_61b7304e91ac473b8df5d8cb4061956f",
            "_model_module": "@jupyter-widgets/controls",
            "children": [
              "IPY_MODEL_26ae91b4b1e040f5a0e010275471c932",
              "IPY_MODEL_4749b65de418401896bfdcf81fff26d2"
            ]
          }
        },
        "61b7304e91ac473b8df5d8cb4061956f": {
          "model_module": "@jupyter-widgets/base",
          "model_name": "LayoutModel",
          "state": {
            "_view_name": "LayoutView",
            "grid_template_rows": null,
            "right": null,
            "justify_content": null,
            "_view_module": "@jupyter-widgets/base",
            "overflow": null,
            "_model_module_version": "1.2.0",
            "_view_count": null,
            "flex_flow": null,
            "width": null,
            "min_width": null,
            "border": null,
            "align_items": null,
            "bottom": null,
            "_model_module": "@jupyter-widgets/base",
            "top": null,
            "grid_column": null,
            "overflow_y": null,
            "overflow_x": null,
            "grid_auto_flow": null,
            "grid_area": null,
            "grid_template_columns": null,
            "flex": null,
            "_model_name": "LayoutModel",
            "justify_items": null,
            "grid_row": null,
            "max_height": null,
            "align_content": null,
            "visibility": null,
            "align_self": null,
            "height": null,
            "min_height": null,
            "padding": null,
            "grid_auto_rows": null,
            "grid_gap": null,
            "max_width": null,
            "order": null,
            "_view_module_version": "1.2.0",
            "grid_template_areas": null,
            "object_position": null,
            "object_fit": null,
            "grid_auto_columns": null,
            "margin": null,
            "display": null,
            "left": null
          }
        },
        "26ae91b4b1e040f5a0e010275471c932": {
          "model_module": "@jupyter-widgets/controls",
          "model_name": "FloatProgressModel",
          "state": {
            "_view_name": "ProgressView",
            "style": "IPY_MODEL_b0c5b30342d3464095ffd3cf4d5f4eec",
            "_dom_classes": [],
            "description": "",
            "_model_name": "FloatProgressModel",
            "bar_style": "success",
            "max": 9912422,
            "_view_module": "@jupyter-widgets/controls",
            "_model_module_version": "1.5.0",
            "value": 9912422,
            "_view_count": null,
            "_view_module_version": "1.5.0",
            "orientation": "horizontal",
            "min": 0,
            "description_tooltip": null,
            "_model_module": "@jupyter-widgets/controls",
            "layout": "IPY_MODEL_87142ac97a3d4b5ba364bb32eb9dc008"
          }
        },
        "4749b65de418401896bfdcf81fff26d2": {
          "model_module": "@jupyter-widgets/controls",
          "model_name": "HTMLModel",
          "state": {
            "_view_name": "HTMLView",
            "style": "IPY_MODEL_77a57525df8d49a1a799cfc228ea10e8",
            "_dom_classes": [],
            "description": "",
            "_model_name": "HTMLModel",
            "placeholder": "​",
            "_view_module": "@jupyter-widgets/controls",
            "_model_module_version": "1.5.0",
            "value": " 9913344/? [00:22&lt;00:00, 442966.97it/s]",
            "_view_count": null,
            "_view_module_version": "1.5.0",
            "description_tooltip": null,
            "_model_module": "@jupyter-widgets/controls",
            "layout": "IPY_MODEL_e5ca9157f9144a5caa98f8ba460457b7"
          }
        },
        "b0c5b30342d3464095ffd3cf4d5f4eec": {
          "model_module": "@jupyter-widgets/controls",
          "model_name": "ProgressStyleModel",
          "state": {
            "_view_name": "StyleView",
            "_model_name": "ProgressStyleModel",
            "description_width": "initial",
            "_view_module": "@jupyter-widgets/base",
            "_model_module_version": "1.5.0",
            "_view_count": null,
            "_view_module_version": "1.2.0",
            "bar_color": null,
            "_model_module": "@jupyter-widgets/controls"
          }
        },
        "87142ac97a3d4b5ba364bb32eb9dc008": {
          "model_module": "@jupyter-widgets/base",
          "model_name": "LayoutModel",
          "state": {
            "_view_name": "LayoutView",
            "grid_template_rows": null,
            "right": null,
            "justify_content": null,
            "_view_module": "@jupyter-widgets/base",
            "overflow": null,
            "_model_module_version": "1.2.0",
            "_view_count": null,
            "flex_flow": null,
            "width": null,
            "min_width": null,
            "border": null,
            "align_items": null,
            "bottom": null,
            "_model_module": "@jupyter-widgets/base",
            "top": null,
            "grid_column": null,
            "overflow_y": null,
            "overflow_x": null,
            "grid_auto_flow": null,
            "grid_area": null,
            "grid_template_columns": null,
            "flex": null,
            "_model_name": "LayoutModel",
            "justify_items": null,
            "grid_row": null,
            "max_height": null,
            "align_content": null,
            "visibility": null,
            "align_self": null,
            "height": null,
            "min_height": null,
            "padding": null,
            "grid_auto_rows": null,
            "grid_gap": null,
            "max_width": null,
            "order": null,
            "_view_module_version": "1.2.0",
            "grid_template_areas": null,
            "object_position": null,
            "object_fit": null,
            "grid_auto_columns": null,
            "margin": null,
            "display": null,
            "left": null
          }
        },
        "77a57525df8d49a1a799cfc228ea10e8": {
          "model_module": "@jupyter-widgets/controls",
          "model_name": "DescriptionStyleModel",
          "state": {
            "_view_name": "StyleView",
            "_model_name": "DescriptionStyleModel",
            "description_width": "",
            "_view_module": "@jupyter-widgets/base",
            "_model_module_version": "1.5.0",
            "_view_count": null,
            "_view_module_version": "1.2.0",
            "_model_module": "@jupyter-widgets/controls"
          }
        },
        "e5ca9157f9144a5caa98f8ba460457b7": {
          "model_module": "@jupyter-widgets/base",
          "model_name": "LayoutModel",
          "state": {
            "_view_name": "LayoutView",
            "grid_template_rows": null,
            "right": null,
            "justify_content": null,
            "_view_module": "@jupyter-widgets/base",
            "overflow": null,
            "_model_module_version": "1.2.0",
            "_view_count": null,
            "flex_flow": null,
            "width": null,
            "min_width": null,
            "border": null,
            "align_items": null,
            "bottom": null,
            "_model_module": "@jupyter-widgets/base",
            "top": null,
            "grid_column": null,
            "overflow_y": null,
            "overflow_x": null,
            "grid_auto_flow": null,
            "grid_area": null,
            "grid_template_columns": null,
            "flex": null,
            "_model_name": "LayoutModel",
            "justify_items": null,
            "grid_row": null,
            "max_height": null,
            "align_content": null,
            "visibility": null,
            "align_self": null,
            "height": null,
            "min_height": null,
            "padding": null,
            "grid_auto_rows": null,
            "grid_gap": null,
            "max_width": null,
            "order": null,
            "_view_module_version": "1.2.0",
            "grid_template_areas": null,
            "object_position": null,
            "object_fit": null,
            "grid_auto_columns": null,
            "margin": null,
            "display": null,
            "left": null
          }
        },
        "749fe61712d146869bcef0f9d25f0de2": {
          "model_module": "@jupyter-widgets/controls",
          "model_name": "HBoxModel",
          "state": {
            "_view_name": "HBoxView",
            "_dom_classes": [],
            "_model_name": "HBoxModel",
            "_view_module": "@jupyter-widgets/controls",
            "_model_module_version": "1.5.0",
            "_view_count": null,
            "_view_module_version": "1.5.0",
            "box_style": "",
            "layout": "IPY_MODEL_abd5aa8d7d4c45b48b68b9fa6b5ad3f9",
            "_model_module": "@jupyter-widgets/controls",
            "children": [
              "IPY_MODEL_d64a280a348743c88701aa91f80e8a1b",
              "IPY_MODEL_41347481e986490a8d45883da43f8c62"
            ]
          }
        },
        "abd5aa8d7d4c45b48b68b9fa6b5ad3f9": {
          "model_module": "@jupyter-widgets/base",
          "model_name": "LayoutModel",
          "state": {
            "_view_name": "LayoutView",
            "grid_template_rows": null,
            "right": null,
            "justify_content": null,
            "_view_module": "@jupyter-widgets/base",
            "overflow": null,
            "_model_module_version": "1.2.0",
            "_view_count": null,
            "flex_flow": null,
            "width": null,
            "min_width": null,
            "border": null,
            "align_items": null,
            "bottom": null,
            "_model_module": "@jupyter-widgets/base",
            "top": null,
            "grid_column": null,
            "overflow_y": null,
            "overflow_x": null,
            "grid_auto_flow": null,
            "grid_area": null,
            "grid_template_columns": null,
            "flex": null,
            "_model_name": "LayoutModel",
            "justify_items": null,
            "grid_row": null,
            "max_height": null,
            "align_content": null,
            "visibility": null,
            "align_self": null,
            "height": null,
            "min_height": null,
            "padding": null,
            "grid_auto_rows": null,
            "grid_gap": null,
            "max_width": null,
            "order": null,
            "_view_module_version": "1.2.0",
            "grid_template_areas": null,
            "object_position": null,
            "object_fit": null,
            "grid_auto_columns": null,
            "margin": null,
            "display": null,
            "left": null
          }
        },
        "d64a280a348743c88701aa91f80e8a1b": {
          "model_module": "@jupyter-widgets/controls",
          "model_name": "FloatProgressModel",
          "state": {
            "_view_name": "ProgressView",
            "style": "IPY_MODEL_98d4c8faf45d4c8f82be312715385387",
            "_dom_classes": [],
            "description": "",
            "_model_name": "FloatProgressModel",
            "bar_style": "success",
            "max": 28881,
            "_view_module": "@jupyter-widgets/controls",
            "_model_module_version": "1.5.0",
            "value": 28881,
            "_view_count": null,
            "_view_module_version": "1.5.0",
            "orientation": "horizontal",
            "min": 0,
            "description_tooltip": null,
            "_model_module": "@jupyter-widgets/controls",
            "layout": "IPY_MODEL_901f5b12780f4f12861382240c2bd429"
          }
        },
        "41347481e986490a8d45883da43f8c62": {
          "model_module": "@jupyter-widgets/controls",
          "model_name": "HTMLModel",
          "state": {
            "_view_name": "HTMLView",
            "style": "IPY_MODEL_d3fd35d2047445a6b379ae80625b6b2e",
            "_dom_classes": [],
            "description": "",
            "_model_name": "HTMLModel",
            "placeholder": "​",
            "_view_module": "@jupyter-widgets/controls",
            "_model_module_version": "1.5.0",
            "value": " 29696/? [00:12&lt;00:00, 2312.02it/s]",
            "_view_count": null,
            "_view_module_version": "1.5.0",
            "description_tooltip": null,
            "_model_module": "@jupyter-widgets/controls",
            "layout": "IPY_MODEL_ce3f592005d4443fb90a0b2d10fc35ec"
          }
        },
        "98d4c8faf45d4c8f82be312715385387": {
          "model_module": "@jupyter-widgets/controls",
          "model_name": "ProgressStyleModel",
          "state": {
            "_view_name": "StyleView",
            "_model_name": "ProgressStyleModel",
            "description_width": "initial",
            "_view_module": "@jupyter-widgets/base",
            "_model_module_version": "1.5.0",
            "_view_count": null,
            "_view_module_version": "1.2.0",
            "bar_color": null,
            "_model_module": "@jupyter-widgets/controls"
          }
        },
        "901f5b12780f4f12861382240c2bd429": {
          "model_module": "@jupyter-widgets/base",
          "model_name": "LayoutModel",
          "state": {
            "_view_name": "LayoutView",
            "grid_template_rows": null,
            "right": null,
            "justify_content": null,
            "_view_module": "@jupyter-widgets/base",
            "overflow": null,
            "_model_module_version": "1.2.0",
            "_view_count": null,
            "flex_flow": null,
            "width": null,
            "min_width": null,
            "border": null,
            "align_items": null,
            "bottom": null,
            "_model_module": "@jupyter-widgets/base",
            "top": null,
            "grid_column": null,
            "overflow_y": null,
            "overflow_x": null,
            "grid_auto_flow": null,
            "grid_area": null,
            "grid_template_columns": null,
            "flex": null,
            "_model_name": "LayoutModel",
            "justify_items": null,
            "grid_row": null,
            "max_height": null,
            "align_content": null,
            "visibility": null,
            "align_self": null,
            "height": null,
            "min_height": null,
            "padding": null,
            "grid_auto_rows": null,
            "grid_gap": null,
            "max_width": null,
            "order": null,
            "_view_module_version": "1.2.0",
            "grid_template_areas": null,
            "object_position": null,
            "object_fit": null,
            "grid_auto_columns": null,
            "margin": null,
            "display": null,
            "left": null
          }
        },
        "d3fd35d2047445a6b379ae80625b6b2e": {
          "model_module": "@jupyter-widgets/controls",
          "model_name": "DescriptionStyleModel",
          "state": {
            "_view_name": "StyleView",
            "_model_name": "DescriptionStyleModel",
            "description_width": "",
            "_view_module": "@jupyter-widgets/base",
            "_model_module_version": "1.5.0",
            "_view_count": null,
            "_view_module_version": "1.2.0",
            "_model_module": "@jupyter-widgets/controls"
          }
        },
        "ce3f592005d4443fb90a0b2d10fc35ec": {
          "model_module": "@jupyter-widgets/base",
          "model_name": "LayoutModel",
          "state": {
            "_view_name": "LayoutView",
            "grid_template_rows": null,
            "right": null,
            "justify_content": null,
            "_view_module": "@jupyter-widgets/base",
            "overflow": null,
            "_model_module_version": "1.2.0",
            "_view_count": null,
            "flex_flow": null,
            "width": null,
            "min_width": null,
            "border": null,
            "align_items": null,
            "bottom": null,
            "_model_module": "@jupyter-widgets/base",
            "top": null,
            "grid_column": null,
            "overflow_y": null,
            "overflow_x": null,
            "grid_auto_flow": null,
            "grid_area": null,
            "grid_template_columns": null,
            "flex": null,
            "_model_name": "LayoutModel",
            "justify_items": null,
            "grid_row": null,
            "max_height": null,
            "align_content": null,
            "visibility": null,
            "align_self": null,
            "height": null,
            "min_height": null,
            "padding": null,
            "grid_auto_rows": null,
            "grid_gap": null,
            "max_width": null,
            "order": null,
            "_view_module_version": "1.2.0",
            "grid_template_areas": null,
            "object_position": null,
            "object_fit": null,
            "grid_auto_columns": null,
            "margin": null,
            "display": null,
            "left": null
          }
        },
        "44e96a4cc2524cacab8420d38c2d54ea": {
          "model_module": "@jupyter-widgets/controls",
          "model_name": "HBoxModel",
          "state": {
            "_view_name": "HBoxView",
            "_dom_classes": [],
            "_model_name": "HBoxModel",
            "_view_module": "@jupyter-widgets/controls",
            "_model_module_version": "1.5.0",
            "_view_count": null,
            "_view_module_version": "1.5.0",
            "box_style": "",
            "layout": "IPY_MODEL_4329ac9797c24c79859d9eea1ace5fd3",
            "_model_module": "@jupyter-widgets/controls",
            "children": [
              "IPY_MODEL_2f06526ce83f48988b05f42fd53426e0",
              "IPY_MODEL_e55a05613d684e90b84e3f6285970455"
            ]
          }
        },
        "4329ac9797c24c79859d9eea1ace5fd3": {
          "model_module": "@jupyter-widgets/base",
          "model_name": "LayoutModel",
          "state": {
            "_view_name": "LayoutView",
            "grid_template_rows": null,
            "right": null,
            "justify_content": null,
            "_view_module": "@jupyter-widgets/base",
            "overflow": null,
            "_model_module_version": "1.2.0",
            "_view_count": null,
            "flex_flow": null,
            "width": null,
            "min_width": null,
            "border": null,
            "align_items": null,
            "bottom": null,
            "_model_module": "@jupyter-widgets/base",
            "top": null,
            "grid_column": null,
            "overflow_y": null,
            "overflow_x": null,
            "grid_auto_flow": null,
            "grid_area": null,
            "grid_template_columns": null,
            "flex": null,
            "_model_name": "LayoutModel",
            "justify_items": null,
            "grid_row": null,
            "max_height": null,
            "align_content": null,
            "visibility": null,
            "align_self": null,
            "height": null,
            "min_height": null,
            "padding": null,
            "grid_auto_rows": null,
            "grid_gap": null,
            "max_width": null,
            "order": null,
            "_view_module_version": "1.2.0",
            "grid_template_areas": null,
            "object_position": null,
            "object_fit": null,
            "grid_auto_columns": null,
            "margin": null,
            "display": null,
            "left": null
          }
        },
        "2f06526ce83f48988b05f42fd53426e0": {
          "model_module": "@jupyter-widgets/controls",
          "model_name": "FloatProgressModel",
          "state": {
            "_view_name": "ProgressView",
            "style": "IPY_MODEL_2753ab3bd3fd4b138a46791006eaf0a6",
            "_dom_classes": [],
            "description": "",
            "_model_name": "FloatProgressModel",
            "bar_style": "success",
            "max": 1648877,
            "_view_module": "@jupyter-widgets/controls",
            "_model_module_version": "1.5.0",
            "value": 1648877,
            "_view_count": null,
            "_view_module_version": "1.5.0",
            "orientation": "horizontal",
            "min": 0,
            "description_tooltip": null,
            "_model_module": "@jupyter-widgets/controls",
            "layout": "IPY_MODEL_35ec31a99fd44c05850c760c1b7ec999"
          }
        },
        "e55a05613d684e90b84e3f6285970455": {
          "model_module": "@jupyter-widgets/controls",
          "model_name": "HTMLModel",
          "state": {
            "_view_name": "HTMLView",
            "style": "IPY_MODEL_497a2c0ec8db430c8cb20e48e7a9b0b6",
            "_dom_classes": [],
            "description": "",
            "_model_name": "HTMLModel",
            "placeholder": "​",
            "_view_module": "@jupyter-widgets/controls",
            "_model_module_version": "1.5.0",
            "value": " 1649664/? [00:12&lt;00:00, 130343.42it/s]",
            "_view_count": null,
            "_view_module_version": "1.5.0",
            "description_tooltip": null,
            "_model_module": "@jupyter-widgets/controls",
            "layout": "IPY_MODEL_603873876e23408db02614a04bbc6e07"
          }
        },
        "2753ab3bd3fd4b138a46791006eaf0a6": {
          "model_module": "@jupyter-widgets/controls",
          "model_name": "ProgressStyleModel",
          "state": {
            "_view_name": "StyleView",
            "_model_name": "ProgressStyleModel",
            "description_width": "initial",
            "_view_module": "@jupyter-widgets/base",
            "_model_module_version": "1.5.0",
            "_view_count": null,
            "_view_module_version": "1.2.0",
            "bar_color": null,
            "_model_module": "@jupyter-widgets/controls"
          }
        },
        "35ec31a99fd44c05850c760c1b7ec999": {
          "model_module": "@jupyter-widgets/base",
          "model_name": "LayoutModel",
          "state": {
            "_view_name": "LayoutView",
            "grid_template_rows": null,
            "right": null,
            "justify_content": null,
            "_view_module": "@jupyter-widgets/base",
            "overflow": null,
            "_model_module_version": "1.2.0",
            "_view_count": null,
            "flex_flow": null,
            "width": null,
            "min_width": null,
            "border": null,
            "align_items": null,
            "bottom": null,
            "_model_module": "@jupyter-widgets/base",
            "top": null,
            "grid_column": null,
            "overflow_y": null,
            "overflow_x": null,
            "grid_auto_flow": null,
            "grid_area": null,
            "grid_template_columns": null,
            "flex": null,
            "_model_name": "LayoutModel",
            "justify_items": null,
            "grid_row": null,
            "max_height": null,
            "align_content": null,
            "visibility": null,
            "align_self": null,
            "height": null,
            "min_height": null,
            "padding": null,
            "grid_auto_rows": null,
            "grid_gap": null,
            "max_width": null,
            "order": null,
            "_view_module_version": "1.2.0",
            "grid_template_areas": null,
            "object_position": null,
            "object_fit": null,
            "grid_auto_columns": null,
            "margin": null,
            "display": null,
            "left": null
          }
        },
        "497a2c0ec8db430c8cb20e48e7a9b0b6": {
          "model_module": "@jupyter-widgets/controls",
          "model_name": "DescriptionStyleModel",
          "state": {
            "_view_name": "StyleView",
            "_model_name": "DescriptionStyleModel",
            "description_width": "",
            "_view_module": "@jupyter-widgets/base",
            "_model_module_version": "1.5.0",
            "_view_count": null,
            "_view_module_version": "1.2.0",
            "_model_module": "@jupyter-widgets/controls"
          }
        },
        "603873876e23408db02614a04bbc6e07": {
          "model_module": "@jupyter-widgets/base",
          "model_name": "LayoutModel",
          "state": {
            "_view_name": "LayoutView",
            "grid_template_rows": null,
            "right": null,
            "justify_content": null,
            "_view_module": "@jupyter-widgets/base",
            "overflow": null,
            "_model_module_version": "1.2.0",
            "_view_count": null,
            "flex_flow": null,
            "width": null,
            "min_width": null,
            "border": null,
            "align_items": null,
            "bottom": null,
            "_model_module": "@jupyter-widgets/base",
            "top": null,
            "grid_column": null,
            "overflow_y": null,
            "overflow_x": null,
            "grid_auto_flow": null,
            "grid_area": null,
            "grid_template_columns": null,
            "flex": null,
            "_model_name": "LayoutModel",
            "justify_items": null,
            "grid_row": null,
            "max_height": null,
            "align_content": null,
            "visibility": null,
            "align_self": null,
            "height": null,
            "min_height": null,
            "padding": null,
            "grid_auto_rows": null,
            "grid_gap": null,
            "max_width": null,
            "order": null,
            "_view_module_version": "1.2.0",
            "grid_template_areas": null,
            "object_position": null,
            "object_fit": null,
            "grid_auto_columns": null,
            "margin": null,
            "display": null,
            "left": null
          }
        },
        "e992882587ab4bf3a6da5c9c597c62c2": {
          "model_module": "@jupyter-widgets/controls",
          "model_name": "HBoxModel",
          "state": {
            "_view_name": "HBoxView",
            "_dom_classes": [],
            "_model_name": "HBoxModel",
            "_view_module": "@jupyter-widgets/controls",
            "_model_module_version": "1.5.0",
            "_view_count": null,
            "_view_module_version": "1.5.0",
            "box_style": "",
            "layout": "IPY_MODEL_dbaa7263079e43e180dd1acc89c415ec",
            "_model_module": "@jupyter-widgets/controls",
            "children": [
              "IPY_MODEL_cea69ff1443243c38ccfd73d8d553eec",
              "IPY_MODEL_554fb0348ccb4ad2a4536c8feffcbf31"
            ]
          }
        },
        "dbaa7263079e43e180dd1acc89c415ec": {
          "model_module": "@jupyter-widgets/base",
          "model_name": "LayoutModel",
          "state": {
            "_view_name": "LayoutView",
            "grid_template_rows": null,
            "right": null,
            "justify_content": null,
            "_view_module": "@jupyter-widgets/base",
            "overflow": null,
            "_model_module_version": "1.2.0",
            "_view_count": null,
            "flex_flow": null,
            "width": null,
            "min_width": null,
            "border": null,
            "align_items": null,
            "bottom": null,
            "_model_module": "@jupyter-widgets/base",
            "top": null,
            "grid_column": null,
            "overflow_y": null,
            "overflow_x": null,
            "grid_auto_flow": null,
            "grid_area": null,
            "grid_template_columns": null,
            "flex": null,
            "_model_name": "LayoutModel",
            "justify_items": null,
            "grid_row": null,
            "max_height": null,
            "align_content": null,
            "visibility": null,
            "align_self": null,
            "height": null,
            "min_height": null,
            "padding": null,
            "grid_auto_rows": null,
            "grid_gap": null,
            "max_width": null,
            "order": null,
            "_view_module_version": "1.2.0",
            "grid_template_areas": null,
            "object_position": null,
            "object_fit": null,
            "grid_auto_columns": null,
            "margin": null,
            "display": null,
            "left": null
          }
        },
        "cea69ff1443243c38ccfd73d8d553eec": {
          "model_module": "@jupyter-widgets/controls",
          "model_name": "FloatProgressModel",
          "state": {
            "_view_name": "ProgressView",
            "style": "IPY_MODEL_395094ff6d4a4febb27cdc3d0d30fa3a",
            "_dom_classes": [],
            "description": "",
            "_model_name": "FloatProgressModel",
            "bar_style": "success",
            "max": 4542,
            "_view_module": "@jupyter-widgets/controls",
            "_model_module_version": "1.5.0",
            "value": 4542,
            "_view_count": null,
            "_view_module_version": "1.5.0",
            "orientation": "horizontal",
            "min": 0,
            "description_tooltip": null,
            "_model_module": "@jupyter-widgets/controls",
            "layout": "IPY_MODEL_d8a3806d8f694cb09e62afc2873ad555"
          }
        },
        "554fb0348ccb4ad2a4536c8feffcbf31": {
          "model_module": "@jupyter-widgets/controls",
          "model_name": "HTMLModel",
          "state": {
            "_view_name": "HTMLView",
            "style": "IPY_MODEL_981ce31d2d0542fc9e159702f0e5e2b9",
            "_dom_classes": [],
            "description": "",
            "_model_name": "HTMLModel",
            "placeholder": "​",
            "_view_module": "@jupyter-widgets/controls",
            "_model_module_version": "1.5.0",
            "value": " 5120/? [00:00&lt;00:00, 18117.50it/s]",
            "_view_count": null,
            "_view_module_version": "1.5.0",
            "description_tooltip": null,
            "_model_module": "@jupyter-widgets/controls",
            "layout": "IPY_MODEL_2c495cbc38174d7093749b777bda3e07"
          }
        },
        "395094ff6d4a4febb27cdc3d0d30fa3a": {
          "model_module": "@jupyter-widgets/controls",
          "model_name": "ProgressStyleModel",
          "state": {
            "_view_name": "StyleView",
            "_model_name": "ProgressStyleModel",
            "description_width": "initial",
            "_view_module": "@jupyter-widgets/base",
            "_model_module_version": "1.5.0",
            "_view_count": null,
            "_view_module_version": "1.2.0",
            "bar_color": null,
            "_model_module": "@jupyter-widgets/controls"
          }
        },
        "d8a3806d8f694cb09e62afc2873ad555": {
          "model_module": "@jupyter-widgets/base",
          "model_name": "LayoutModel",
          "state": {
            "_view_name": "LayoutView",
            "grid_template_rows": null,
            "right": null,
            "justify_content": null,
            "_view_module": "@jupyter-widgets/base",
            "overflow": null,
            "_model_module_version": "1.2.0",
            "_view_count": null,
            "flex_flow": null,
            "width": null,
            "min_width": null,
            "border": null,
            "align_items": null,
            "bottom": null,
            "_model_module": "@jupyter-widgets/base",
            "top": null,
            "grid_column": null,
            "overflow_y": null,
            "overflow_x": null,
            "grid_auto_flow": null,
            "grid_area": null,
            "grid_template_columns": null,
            "flex": null,
            "_model_name": "LayoutModel",
            "justify_items": null,
            "grid_row": null,
            "max_height": null,
            "align_content": null,
            "visibility": null,
            "align_self": null,
            "height": null,
            "min_height": null,
            "padding": null,
            "grid_auto_rows": null,
            "grid_gap": null,
            "max_width": null,
            "order": null,
            "_view_module_version": "1.2.0",
            "grid_template_areas": null,
            "object_position": null,
            "object_fit": null,
            "grid_auto_columns": null,
            "margin": null,
            "display": null,
            "left": null
          }
        },
        "981ce31d2d0542fc9e159702f0e5e2b9": {
          "model_module": "@jupyter-widgets/controls",
          "model_name": "DescriptionStyleModel",
          "state": {
            "_view_name": "StyleView",
            "_model_name": "DescriptionStyleModel",
            "description_width": "",
            "_view_module": "@jupyter-widgets/base",
            "_model_module_version": "1.5.0",
            "_view_count": null,
            "_view_module_version": "1.2.0",
            "_model_module": "@jupyter-widgets/controls"
          }
        },
        "2c495cbc38174d7093749b777bda3e07": {
          "model_module": "@jupyter-widgets/base",
          "model_name": "LayoutModel",
          "state": {
            "_view_name": "LayoutView",
            "grid_template_rows": null,
            "right": null,
            "justify_content": null,
            "_view_module": "@jupyter-widgets/base",
            "overflow": null,
            "_model_module_version": "1.2.0",
            "_view_count": null,
            "flex_flow": null,
            "width": null,
            "min_width": null,
            "border": null,
            "align_items": null,
            "bottom": null,
            "_model_module": "@jupyter-widgets/base",
            "top": null,
            "grid_column": null,
            "overflow_y": null,
            "overflow_x": null,
            "grid_auto_flow": null,
            "grid_area": null,
            "grid_template_columns": null,
            "flex": null,
            "_model_name": "LayoutModel",
            "justify_items": null,
            "grid_row": null,
            "max_height": null,
            "align_content": null,
            "visibility": null,
            "align_self": null,
            "height": null,
            "min_height": null,
            "padding": null,
            "grid_auto_rows": null,
            "grid_gap": null,
            "max_width": null,
            "order": null,
            "_view_module_version": "1.2.0",
            "grid_template_areas": null,
            "object_position": null,
            "object_fit": null,
            "grid_auto_columns": null,
            "margin": null,
            "display": null,
            "left": null
          }
        }
      }
    }
  },
  "cells": [
    {
      "cell_type": "markdown",
      "metadata": {
        "id": "view-in-github",
        "colab_type": "text"
      },
      "source": [
        "<a href=\"https://colab.research.google.com/github/JangAyeon/ToBigs/blob/master/%5B10%5DUnsupervised_learning_generative_model.ipynb\" target=\"_parent\"><img src=\"https://colab.research.google.com/assets/colab-badge.svg\" alt=\"Open In Colab\"/></a>"
      ]
    },
    {
      "cell_type": "markdown",
      "metadata": {
        "id": "lqHSUXBAp2DQ"
      },
      "source": [
        "# 투빅스 15기 정규세션 10주차 DCGAN 구현 과제\n",
        "\"빈칸\" 부분을 채우는 과제입니다. \"빈칸\"뿐만 아니라 중간중간 주석 또는 마크다운으로 설명 부탁드립니다  \n",
        "https://github.com/pytorch/tutorials/blob/master/beginner_source/dcgan_faces_tutorial.py  \n",
        "위의 주소는 pytorch dcgan 공식 튜토리얼 코드로 해당 코드를 바탕으로 과제를 만들었습니다. 튜토리얼 코드와 과제 코드가 상당부분 유사하므로 어려운 점이 있을 때 참고하면 좋을 것 같습니다  \n",
        "다만, 그대로 복붙이 아닌 코드를 이해해 나가면서 과제를 수행해주시기 바랍니다  \n",
        "마지막 과제인 만큼 다들 화이팅!"
      ]
    },
    {
      "cell_type": "markdown",
      "metadata": {
        "id": "zW6ONB7fqANg"
      },
      "source": [
        "## 드라이브 연결"
      ]
    },
    {
      "cell_type": "code",
      "metadata": {
        "id": "8sl5iSXfj9Et",
        "colab": {
          "base_uri": "https://localhost:8080/"
        },
        "outputId": "30eb3b6e-f250-487c-c2eb-53bece03073d"
      },
      "source": [
        "# gdrive에 mount\n",
        "from google.colab import drive\n",
        "drive.mount('/content/gdrive')\n",
        "# 경로 설정\n",
        "import os\n",
        "os.chdir('/content/gdrive/My Drive/')"
      ],
      "execution_count": null,
      "outputs": [
        {
          "output_type": "stream",
          "text": [
            "Mounted at /content/gdrive\n"
          ],
          "name": "stdout"
        }
      ]
    },
    {
      "cell_type": "markdown",
      "metadata": {
        "id": "XlrC-8uBqFbK"
      },
      "source": [
        "## 패키지 임포트"
      ]
    },
    {
      "cell_type": "code",
      "metadata": {
        "id": "1jXGcTmgk4sf"
      },
      "source": [
        "%matplotlib inline\n",
        "from matplotlib import pyplot as plt\n",
        "import random\n",
        "import torch\n",
        "import torch.nn as nn\n",
        "import torch.optim as optim\n",
        "import torch.utils.data\n",
        "import torchvision.datasets as dset\n",
        "import torchvision.transforms as transforms"
      ],
      "execution_count": null,
      "outputs": []
    },
    {
      "cell_type": "markdown",
      "metadata": {
        "id": "mS080UbJqKMQ"
      },
      "source": [
        "## MNIST 데이터 불러오기\n",
        "기존의 MNIST 손글씨 데이터의 경우 1x28x28 이미지 -> dcgan 모델 적용을 위해 1x64x64 이미지로 크기 조절 (물론 28x28이미지도 사용가능하지만 네트워크 구조 수정 필요)  \n",
        "처음 데이터를 사용할때는 download=True로 데이터를 다운 받기  \n",
        "이후에 사용할때는 데이터가 이미 다운되있으므로 download=False로 바꿔서 사용"
      ]
    },
    {
      "cell_type": "code",
      "metadata": {
        "id": "4kg3Cy9kk55K",
        "colab": {
          "base_uri": "https://localhost:8080/",
          "height": 597,
          "referenced_widgets": [
            "5fb331920d9b41999f447347a66c4b58",
            "61b7304e91ac473b8df5d8cb4061956f",
            "26ae91b4b1e040f5a0e010275471c932",
            "4749b65de418401896bfdcf81fff26d2",
            "b0c5b30342d3464095ffd3cf4d5f4eec",
            "87142ac97a3d4b5ba364bb32eb9dc008",
            "77a57525df8d49a1a799cfc228ea10e8",
            "e5ca9157f9144a5caa98f8ba460457b7",
            "749fe61712d146869bcef0f9d25f0de2",
            "abd5aa8d7d4c45b48b68b9fa6b5ad3f9",
            "d64a280a348743c88701aa91f80e8a1b",
            "41347481e986490a8d45883da43f8c62",
            "98d4c8faf45d4c8f82be312715385387",
            "901f5b12780f4f12861382240c2bd429",
            "d3fd35d2047445a6b379ae80625b6b2e",
            "ce3f592005d4443fb90a0b2d10fc35ec",
            "44e96a4cc2524cacab8420d38c2d54ea",
            "4329ac9797c24c79859d9eea1ace5fd3",
            "2f06526ce83f48988b05f42fd53426e0",
            "e55a05613d684e90b84e3f6285970455",
            "2753ab3bd3fd4b138a46791006eaf0a6",
            "35ec31a99fd44c05850c760c1b7ec999",
            "497a2c0ec8db430c8cb20e48e7a9b0b6",
            "603873876e23408db02614a04bbc6e07",
            "e992882587ab4bf3a6da5c9c597c62c2",
            "dbaa7263079e43e180dd1acc89c415ec",
            "cea69ff1443243c38ccfd73d8d553eec",
            "554fb0348ccb4ad2a4536c8feffcbf31",
            "395094ff6d4a4febb27cdc3d0d30fa3a",
            "d8a3806d8f694cb09e62afc2873ad555",
            "981ce31d2d0542fc9e159702f0e5e2b9",
            "2c495cbc38174d7093749b777bda3e07"
          ]
        },
        "outputId": "3ed54a74-28d0-4c80-b930-852da202fa0c"
      },
      "source": [
        "# MNIST dataset\n",
        "dataroot = './mnist_data/'\n",
        "imageSize = 64 # the height / width of the input image to network\n",
        "\n",
        "dataset = dset.MNIST(root = dataroot, download= True,\n",
        "                     transform = transforms.Compose([\n",
        "                                                     transforms.Resize(imageSize), #이미지 64x64로 크기 변환\n",
        "                                                     transforms.ToTensor(), #텐서자료형으로 변환\n",
        "                                                     transforms.Normalize((0.5,), (0.5,)), #노말라이즈를 통해 -1.~1.의 값을 갖게 변환\n",
        "                     ]))"
      ],
      "execution_count": null,
      "outputs": [
        {
          "output_type": "stream",
          "text": [
            "Downloading http://yann.lecun.com/exdb/mnist/train-images-idx3-ubyte.gz\n",
            "Downloading http://yann.lecun.com/exdb/mnist/train-images-idx3-ubyte.gz to ./mnist_data/MNIST/raw/train-images-idx3-ubyte.gz\n"
          ],
          "name": "stdout"
        },
        {
          "output_type": "display_data",
          "data": {
            "application/vnd.jupyter.widget-view+json": {
              "model_id": "5fb331920d9b41999f447347a66c4b58",
              "version_minor": 0,
              "version_major": 2
            },
            "text/plain": [
              "HBox(children=(FloatProgress(value=0.0, max=9912422.0), HTML(value='')))"
            ]
          },
          "metadata": {
            "tags": []
          }
        },
        {
          "output_type": "stream",
          "text": [
            "\n",
            "Extracting ./mnist_data/MNIST/raw/train-images-idx3-ubyte.gz to ./mnist_data/MNIST/raw\n",
            "\n",
            "Downloading http://yann.lecun.com/exdb/mnist/train-labels-idx1-ubyte.gz\n",
            "Downloading http://yann.lecun.com/exdb/mnist/train-labels-idx1-ubyte.gz to ./mnist_data/MNIST/raw/train-labels-idx1-ubyte.gz\n"
          ],
          "name": "stdout"
        },
        {
          "output_type": "display_data",
          "data": {
            "application/vnd.jupyter.widget-view+json": {
              "model_id": "749fe61712d146869bcef0f9d25f0de2",
              "version_minor": 0,
              "version_major": 2
            },
            "text/plain": [
              "HBox(children=(FloatProgress(value=0.0, max=28881.0), HTML(value='')))"
            ]
          },
          "metadata": {
            "tags": []
          }
        },
        {
          "output_type": "stream",
          "text": [
            "\n",
            "Extracting ./mnist_data/MNIST/raw/train-labels-idx1-ubyte.gz to ./mnist_data/MNIST/raw\n",
            "\n",
            "Downloading http://yann.lecun.com/exdb/mnist/t10k-images-idx3-ubyte.gz\n",
            "Downloading http://yann.lecun.com/exdb/mnist/t10k-images-idx3-ubyte.gz to ./mnist_data/MNIST/raw/t10k-images-idx3-ubyte.gz\n"
          ],
          "name": "stdout"
        },
        {
          "output_type": "display_data",
          "data": {
            "application/vnd.jupyter.widget-view+json": {
              "model_id": "44e96a4cc2524cacab8420d38c2d54ea",
              "version_minor": 0,
              "version_major": 2
            },
            "text/plain": [
              "HBox(children=(FloatProgress(value=0.0, max=1648877.0), HTML(value='')))"
            ]
          },
          "metadata": {
            "tags": []
          }
        },
        {
          "output_type": "stream",
          "text": [
            "\n",
            "Extracting ./mnist_data/MNIST/raw/t10k-images-idx3-ubyte.gz to ./mnist_data/MNIST/raw\n",
            "\n",
            "Downloading http://yann.lecun.com/exdb/mnist/t10k-labels-idx1-ubyte.gz\n",
            "Downloading http://yann.lecun.com/exdb/mnist/t10k-labels-idx1-ubyte.gz to ./mnist_data/MNIST/raw/t10k-labels-idx1-ubyte.gz\n"
          ],
          "name": "stdout"
        },
        {
          "output_type": "display_data",
          "data": {
            "application/vnd.jupyter.widget-view+json": {
              "model_id": "e992882587ab4bf3a6da5c9c597c62c2",
              "version_minor": 0,
              "version_major": 2
            },
            "text/plain": [
              "HBox(children=(FloatProgress(value=0.0, max=4542.0), HTML(value='')))"
            ]
          },
          "metadata": {
            "tags": []
          }
        },
        {
          "output_type": "stream",
          "text": [
            "\n",
            "Extracting ./mnist_data/MNIST/raw/t10k-labels-idx1-ubyte.gz to ./mnist_data/MNIST/raw\n",
            "\n",
            "Processing...\n"
          ],
          "name": "stdout"
        },
        {
          "output_type": "stream",
          "text": [
            "/usr/local/lib/python3.7/dist-packages/torchvision/datasets/mnist.py:502: UserWarning: The given NumPy array is not writeable, and PyTorch does not support non-writeable tensors. This means you can write to the underlying (supposedly non-writeable) NumPy array using the tensor. You may want to copy the array to protect its data or make it writeable before converting it to a tensor. This type of warning will be suppressed for the rest of this program. (Triggered internally at  /pytorch/torch/csrc/utils/tensor_numpy.cpp:143.)\n",
            "  return torch.from_numpy(parsed.astype(m[2], copy=False)).view(*s)\n"
          ],
          "name": "stderr"
        },
        {
          "output_type": "stream",
          "text": [
            "Done!\n"
          ],
          "name": "stdout"
        }
      ]
    },
    {
      "cell_type": "markdown",
      "metadata": {
        "id": "cBqDKK5Qp1En"
      },
      "source": [
        "### 데이터 확인하기"
      ]
    },
    {
      "cell_type": "code",
      "metadata": {
        "id": "JZoKpxaKoIh8",
        "colab": {
          "base_uri": "https://localhost:8080/"
        },
        "outputId": "4317d097-938b-4116-f656-28b428143a46"
      },
      "source": [
        "print('number of training data: ', len(dataset)) #데이터 수 확인\n",
        "image,_ = dataset[0]\n",
        "\n",
        "print('Image')\n",
        "print('========================================')\n",
        "print('shape of this image\\t:', image.shape) #데이터 차원(모양)확인하기"
      ],
      "execution_count": null,
      "outputs": [
        {
          "output_type": "stream",
          "text": [
            "number of training data:  60000\n",
            "Image\n",
            "========================================\n",
            "shape of this image\t: torch.Size([1, 64, 64])\n"
          ],
          "name": "stdout"
        }
      ]
    },
    {
      "cell_type": "code",
      "metadata": {
        "id": "AvL1QHLgoJLs",
        "colab": {
          "base_uri": "https://localhost:8080/",
          "height": 211
        },
        "outputId": "d4a5b749-4c8b-4440-cf16-c29578e4554a"
      },
      "source": [
        "# 학습 데이터 시각화\n",
        "fig = plt.figure()\n",
        "\n",
        "for i in range(10):\n",
        "    image,_ = dataset[i]\n",
        "    image = (image+1)/2\n",
        "    image = image.squeeze()\n",
        "    np_img = image.numpy()\n",
        "    \n",
        "    subplot = fig.add_subplot(2, 5, i+1)\n",
        "    subplot.set_xticks([])\n",
        "    subplot.set_yticks([])\n",
        "    subplot.imshow(np_img, cmap = 'gray')\n",
        "\n",
        "plt.show()"
      ],
      "execution_count": null,
      "outputs": [
        {
          "output_type": "display_data",
          "data": {
            "image/png": "[encoded data removed]",
            "text/plain": [
              "<Figure size 432x288 with 10 Axes>"
            ]
          },
          "metadata": {
            "tags": []
          }
        }
      ]
    },
    {
      "cell_type": "markdown",
      "metadata": {
        "id": "GV1hsEW7r7lH"
      },
      "source": [
        "### 데이터 로더 정의"
      ]
    },
    {
      "cell_type": "code",
      "metadata": {
        "id": "dk1AQgq3r60l"
      },
      "source": [
        "# dataloader\n",
        "batch_size = 128 #빈칸\n",
        "workers = 2\n",
        "\n",
        "dataloader = torch.utils.data.DataLoader(dataset, batch_size=batch_size,\n",
        "                                         shuffle = True, num_workers = workers)"
      ],
      "execution_count": null,
      "outputs": []
    },
    {
      "cell_type": "markdown",
      "metadata": {
        "id": "50srPc9CsrUW"
      },
      "source": [
        "## device 정의"
      ]
    },
    {
      "cell_type": "code",
      "metadata": {
        "id": "_1bDrz7ZsvOq",
        "colab": {
          "base_uri": "https://localhost:8080/"
        },
        "outputId": "3d706acd-9f0d-4f95-cc01-4535784ea55d"
      },
      "source": [
        "# device\n",
        "device = torch.device(\"cuda:0\" if torch.cuda.is_available() else \"cpu\")\n",
        "print(device)"
      ],
      "execution_count": null,
      "outputs": [
        {
          "output_type": "stream",
          "text": [
            "cuda:0\n"
          ],
          "name": "stdout"
        }
      ]
    },
    {
      "cell_type": "markdown",
      "metadata": {
        "id": "FF2wxeW7s8hf"
      },
      "source": [
        "## 신경망 "
      ]
    },
    {
      "cell_type": "code",
      "metadata": {
        "id": "VMoPm64ltmiq"
      },
      "source": [
        "#네트워크 하이퍼파라미터 설정\n",
        "nc = 1 # number of channels in the training images : For color images this is 1 black or while\n",
        "nz = 100 # size of z latent vector :  size of generator input\n",
        "ngf = 64 # size of feature maps in generator\n",
        "ndf = 64 # size of feature maps in discriminator\n"
      ],
      "execution_count": null,
      "outputs": []
    },
    {
      "cell_type": "markdown",
      "metadata": {
        "id": "CY2ffq8WtDkb"
      },
      "source": [
        "### 신경망 가중치 초기화 함수 정의\n",
        "신경망의 가중치 초기화 방법에 대해 논문에 자세히 나와있습니다.  \n",
        "다음 사이트는 파이토치에서 가중치 초기화에 관련된 글 입니다  \n",
        "https://www.javaer101.com/ko/article/1010427.html"
      ]
    },
    {
      "cell_type": "code",
      "metadata": {
        "id": "PuRj6bngtBpr"
      },
      "source": [
        "def weights_init(m): \n",
        "  #네트워크의 모든 weight들은 mean=0, standard deviation =0.02의 normal distribution의 형태로 초기화\n",
        "    classname = m.__class__.__name__\n",
        "    if classname.find('Conv') != -1:\n",
        "        nn.init.normal_(m.weight.data, 0.0, 0.02)\n",
        "    elif classname.find('BatchNorm') != -1:\n",
        "        nn.init.normal_(m.weight.data, 1.0, 0.02)\n",
        "        nn.init.constant_(m.bias.data, 0)"
      ],
      "execution_count": null,
      "outputs": []
    },
    {
      "cell_type": "markdown",
      "metadata": {
        "id": "KIzdwP6Otb4Q"
      },
      "source": [
        "### 생성자 클래스\n",
        "\n",
        "trasposed convolution 관련 자료: https://yonghyuc.wordpress.com/2019/08/08/transposed-convolutions-aka-deconvolution/"
      ]
    },
    {
      "cell_type": "code",
      "metadata": {
        "id": "uWkHRbFvtbFg"
      },
      "source": [
        "class Generator(nn.Module): #Generator : input(100,1,1) -> output(1,64,64)\n",
        "    def __init__(self):\n",
        "        super(Generator, self).__init__()\n",
        "        self.main = nn.Sequential(\n",
        "           \n",
        "            #Generator는 featuremap이 2배씩 커져야함으로 originalconvolutionlayer가 아니라 convolution transpose operator를 이용한 dimension 확장 구현\n",
        "            #100개의 노이즈 벡터로부터 4*4 , 1024개의 channel을 가지는 feature를 생성하는 convolution layer\n",
        "            #linear vectoor (100,)과 matrix (100,1)의 정보량은 동일\n",
        "            nn.ConvTranspose2d( nz, ngf * 8, 4, 1, 0, bias=False),\n",
        "            nn.BatchNorm2d(ngf * 8),\n",
        "            nn.ReLU(True),\n",
        "\n",
        "            \n",
        "            # state size. (ngf*8) x 4 x 4\n",
        "            #첫번째 layer가 8배된 커널 사이즈로 input은 ngf*8\n",
        "            #이전 커널에서 채널 사이즈가 반으로 줄어들어 4*ngf\n",
        "            #Stride는 x, y 차원 둘 다 2배로 커짐\n",
        "            nn.ConvTranspose2d(ngf * 8, ngf * 4, 4, 2, 1, bias=False),\n",
        "            nn.BatchNorm2d(ngf * 4),\n",
        "            nn.ReLU(True),#RELU 사용\n",
        "\n",
        "\n",
        "            # state size. (ngf*4) x 8 x 8\n",
        "            nn.ConvTranspose2d( ngf * 4, ngf * 2, 4, 2, 1, bias=False),\n",
        "            nn.BatchNorm2d(ngf * 2),\n",
        "            nn.ReLU(True),\n",
        "            # state size. (ngf*2) x 16 x 16\n",
        "            nn.ConvTranspose2d( ngf * 2, ngf, 4, 2, 1, bias=False),\n",
        "            nn.BatchNorm2d(ngf),\n",
        "            nn.ReLU(True),\n",
        "\n",
        "            # state size. (ngf) x 32 x 32\n",
        "            #generator의 마지막 layer에서는 RELU를 사용하지 않고 Tanh를 사용\n",
        "            nn.ConvTranspose2d( ngf, nc, 4, 2, 1, bias=False),\n",
        "            nn.Tanh()\n",
        "            # state size. (nc) x 64 x 64\n",
        "\n",
        "        )\n",
        "\n",
        "    def forward(self, input):\n",
        "        #위의 5개의 layer를 연속적으로 연결       #위의 5개의 layer를 연속적으로 연결\n",
        "                return self.main(input)\n",
        "        return self.main(input)"
      ],
      "execution_count": null,
      "outputs": []
    },
    {
      "cell_type": "code",
      "metadata": {
        "id": "8MFp5nD_uOFn",
        "colab": {
          "base_uri": "https://localhost:8080/"
        },
        "outputId": "e6651888-0c1d-454c-d9be-48dafa4c4a6e"
      },
      "source": [
        "# 총 2개의 네트워크 필요 : Generator 1개 + Discriminator 1개\n",
        "netG = Generator().to(device) # 생성자 객체 생성\n",
        "netG.apply(weights_init) # 위의 정의한 함수로 가중치 초기화\n",
        "\n",
        "# 생성자 출력\n",
        "print(netG)"
      ],
      "execution_count": null,
      "outputs": [
        {
          "output_type": "stream",
          "text": [
            "Generator(\n",
            "  (main): Sequential(\n",
            "    (0): ConvTranspose2d(100, 512, kernel_size=(4, 4), stride=(1, 1), bias=False)\n",
            "    (1): BatchNorm2d(512, eps=1e-05, momentum=0.1, affine=True, track_running_stats=True)\n",
            "    (2): ReLU(inplace=True)\n",
            "    (3): ConvTranspose2d(512, 256, kernel_size=(4, 4), stride=(2, 2), padding=(1, 1), bias=False)\n",
            "    (4): BatchNorm2d(256, eps=1e-05, momentum=0.1, affine=True, track_running_stats=True)\n",
            "    (5): ReLU(inplace=True)\n",
            "    (6): ConvTranspose2d(256, 128, kernel_size=(4, 4), stride=(2, 2), padding=(1, 1), bias=False)\n",
            "    (7): BatchNorm2d(128, eps=1e-05, momentum=0.1, affine=True, track_running_stats=True)\n",
            "    (8): ReLU(inplace=True)\n",
            "    (9): ConvTranspose2d(128, 64, kernel_size=(4, 4), stride=(2, 2), padding=(1, 1), bias=False)\n",
            "    (10): BatchNorm2d(64, eps=1e-05, momentum=0.1, affine=True, track_running_stats=True)\n",
            "    (11): ReLU(inplace=True)\n",
            "    (12): ConvTranspose2d(64, 1, kernel_size=(4, 4), stride=(2, 2), padding=(1, 1), bias=False)\n",
            "    (13): Tanh()\n",
            "  )\n",
            ")\n"
          ],
          "name": "stdout"
        }
      ]
    },
    {
      "cell_type": "markdown",
      "metadata": {
        "id": "YKnrGeQJu5IC"
      },
      "source": [
        "### 판별자 클래스"
      ]
    },
    {
      "cell_type": "markdown",
      "metadata": {
        "id": "4kPiJRjnfEt9"
      },
      "source": [
        "**Image를 입력 받은 Discriminator의 출력값**<br>\n",
        "1) 출력값 >=0.5 : real image<br>\n",
        "2) 출력값 < 0.5 : fake image (=Generator로 만들어진 Image)로 판단"
      ]
    },
    {
      "cell_type": "code",
      "metadata": {
        "id": "gPOn7rHEu4Zw"
      },
      "source": [
        "class Discriminator(nn.Module): #Discriminator : input(1,64,64) -> output(1,1,1)\n",
        " \n",
        "                                                  \n",
        "    def __init__(self):  #generator를 그대로 뒤집은 형태로 구현\n",
        "        super(Discriminator, self).__init__()\n",
        "        self.main = nn.Sequential(\n",
        "            #Dimension이 stride에 비례하여 감소해야 하기 때문에 conv2d사용\n",
        "            #LeakyReLu사용, 기울기는 0.2                                                                     \n",
        "            # input is (nc) x 64 x 64\n",
        "            nn.Conv2d(nc, ndf, 4, 2, 1, bias=False),\n",
        "            nn.LeakyReLU(0.2, inplace=True),\n",
        "            # state size. (ndf) x 32 x 32\n",
        "            nn.Conv2d(ndf, ndf * 2, 4, 2, 1, bias=False),\n",
        "            nn.BatchNorm2d(ndf * 2),\n",
        "            nn.LeakyReLU(0.2, inplace=True),\n",
        "            # state size. (ndf*2) x 16 x 16\n",
        "            nn.Conv2d(ndf * 2, ndf * 4, 4, 2, 1, bias=False),\n",
        "            nn.BatchNorm2d(ndf * 4),\n",
        "            nn.LeakyReLU(0.2, inplace=True),\n",
        "            # state size. (ndf*4) x 8 x 8\n",
        "            nn.Conv2d(ndf * 4, ndf * 8, 4, 2, 1, bias=False),\n",
        "            nn.BatchNorm2d(ndf * 8),\n",
        "            nn.LeakyReLU(0.2, inplace=True),\n",
        "            #마지막 layer에서는 LeakyReLU와 Batchnormalization 사용 안함\n",
        "            # state size. (ndf*8) x 4 x 4\n",
        "            nn.Conv2d(ndf * 8, 1, 4, 1, 0, bias=False),\n",
        "            nn.Sigmoid() #sigmoid output으로 변경됨\n",
        "\n",
        "            \n",
        "        )\n",
        "\n",
        "    def forward(self, input):\n",
        "      #처음부터 마지막 layer까지 sequential 하게 연결   \n",
        "        return  self.main(input)"
      ],
      "execution_count": null,
      "outputs": []
    },
    {
      "cell_type": "code",
      "metadata": {
        "id": "bNznWbGevHnk",
        "colab": {
          "base_uri": "https://localhost:8080/"
        },
        "outputId": "f6c49041-a14d-4c0f-d119-5bed2556c25f"
      },
      "source": [
        "# 총 2개의 네트워크 필요 : Generator 1개 + Discriminator 1개\n",
        "netD = Discriminator().to(device) # 생성자 객체 생성\n",
        "netD.apply(weights_init) # 위의 정의한 함수로 가중치 초기화\n",
        "\n",
        "# 판별자 출력\n",
        "print(netD)"
      ],
      "execution_count": null,
      "outputs": [
        {
          "output_type": "stream",
          "text": [
            "Discriminator(\n",
            "  (main): Sequential(\n",
            "    (0): Conv2d(1, 64, kernel_size=(4, 4), stride=(2, 2), padding=(1, 1), bias=False)\n",
            "    (1): LeakyReLU(negative_slope=0.2, inplace=True)\n",
            "    (2): Conv2d(64, 128, kernel_size=(4, 4), stride=(2, 2), padding=(1, 1), bias=False)\n",
            "    (3): BatchNorm2d(128, eps=1e-05, momentum=0.1, affine=True, track_running_stats=True)\n",
            "    (4): LeakyReLU(negative_slope=0.2, inplace=True)\n",
            "    (5): Conv2d(128, 256, kernel_size=(4, 4), stride=(2, 2), padding=(1, 1), bias=False)\n",
            "    (6): BatchNorm2d(256, eps=1e-05, momentum=0.1, affine=True, track_running_stats=True)\n",
            "    (7): LeakyReLU(negative_slope=0.2, inplace=True)\n",
            "    (8): Conv2d(256, 512, kernel_size=(4, 4), stride=(2, 2), padding=(1, 1), bias=False)\n",
            "    (9): BatchNorm2d(512, eps=1e-05, momentum=0.1, affine=True, track_running_stats=True)\n",
            "    (10): LeakyReLU(negative_slope=0.2, inplace=True)\n",
            "    (11): Conv2d(512, 1, kernel_size=(4, 4), stride=(1, 1), bias=False)\n",
            "    (12): Sigmoid()\n",
            "  )\n",
            ")\n"
          ],
          "name": "stdout"
        }
      ]
    },
    {
      "cell_type": "markdown",
      "metadata": {
        "id": "pO6E3WcLvaca"
      },
      "source": [
        "## Loss Function & Optimizer"
      ]
    },
    {
      "cell_type": "code",
      "metadata": {
        "id": "q3zo8MjNvT9r"
      },
      "source": [
        "# 손실함수 : Binary cross Entropy function 이용 손실함수 : Binary cross Entropy function 이용\n",
        "criterion = nn.BCELoss() \n",
        "\n",
        "real_label = 1.\n",
        "fake_label = 0.\n",
        "\n",
        "# optimizer hyperparameters\n",
        "learning_rate = 0.0002\n",
        "beta1 =0.5 #default 값인 0.9를 그대로 사용할 경우, train cureve가 oscillation 또는 instability함 -> 0.5로 변경\n",
        "\n",
        "\n",
        "# optimizers : 네트워크가 2개이므로 optimizer도 2개 optimizers : 네트워크가 2개이므로 optimizer도 2개 \n",
        "optimizerD = optim.Adam(netD.parameters(), lr=learning_rate, betas=(beta1, 0.999))  \n",
        "\n",
        "optimizerG = optim.Adam(netG.parameters(), lr=learning_rate, betas=(beta1, 0.999))\n"
      ],
      "execution_count": null,
      "outputs": []
    },
    {
      "cell_type": "markdown",
      "metadata": {
        "id": "EzI4vYfzxF_k"
      },
      "source": [
        "## Train\n",
        "\"빈칸\"을 채우고, 각각의 변수 및 메소드가 무엇을 나태는지 혹은 어떻게 계산되는지를 주석으로 설명 부탁드립니다.  \n",
        "참고하면 좋은 사이트: https://redstarhong.tistory.com/64"
      ]
    },
    {
      "cell_type": "code",
      "metadata": {
        "id": "zommtabuxHkC",
        "colab": {
          "base_uri": "https://localhost:8080/"
        },
        "outputId": "8e93be63-9b1d-4417-93b5-6e5dd43f3fa6"
      },
      "source": [
        "num_epochs = 5\n",
        "\n",
        "#discriminator input으로 들어가는 것이 2가지 : original X 와 generator에 의해 생성된 fake X\n",
        "for epoch in range(num_epochs):\n",
        "    for i, data in enumerate(dataloader,0):\n",
        "        #D network: maximize log(D(x)) + log(1 - D(G(z)))\n",
        "        netD.zero_grad() # 기울기 초기화\n",
        "        real_cpu = data[0].to(device)\n",
        "        b_size = real_cpu.size(0)\n",
        "        #forward 계산\n",
        "        label = torch.full((b_size,), real_label, dtype=torch.float, device=device)\n",
        "        output = netD(real_cpu).view(-1)\n",
        "        #loss 계산     \n",
        "        errD_real = criterion(output, label)\n",
        "        #gradient 계산       \n",
        "        errD_real.backward()\n",
        "        D_x = output.mean().item()\n",
        "\n",
        "        noise = torch.randn(b_size, nz, 1, 1, device=device) #100개의 채널, y=1, x=1을 가진 fake noise vector 생성       \n",
        "        fake = netG(noise) #가짜 이미지 생성       \n",
        "        label.fill_(fake_label)\n",
        "        #생성한 가짜 이미지 분류      \n",
        "        output = netD(fake.detach()).view(-1)\n",
        "        #fake image에 대한 loss 계산      \n",
        "        errD_fake = criterion(output, label)\n",
        "        #해당 batch의 gradient 계산\n",
        "        errD_fake.backward()\n",
        "        D_G_z1 = output.mean().item()\n",
        "        #real image와 fake image의 gradient 합산\n",
        "        errD =  errD_real + errD_fake\n",
        "        optimizerD.step()\n",
        "\n",
        "        #G network: maximize log(D(G(z)))\n",
        "        netG.zero_grad() # 기울기 초기화\n",
        "        label.fill_(real_label)\n",
        "        output = netD(fake).view(-1)\n",
        "        errG = criterion(output, label)\n",
        "        errG.backward()\n",
        "        D_G_z2 = output.mean().item()\n",
        "        optimizerG.step()\n",
        "\n",
        "        # 학습 경과 출력\n",
        "        if i % 50 == 0:\n",
        "            print('[%d/%d][%d/%d]\\tLoss_D: %.4f\\tLoss_G: %.4f\\tD(x): %.4f\\tD(G(z)): %.4f / %.4f'\n",
        "            % (epoch, num_epochs, i, len(dataloader),\n",
        "                errD.item(), errG.item(), D_x, D_G_z1, D_G_z2))"
      ],
      "execution_count": null,
      "outputs": [
        {
          "output_type": "stream",
          "text": [
            "[0/5][0/469]\tLoss_D: 2.0823\tLoss_G: 4.6706\tD(x): 0.5662\tD(G(z)): 0.6791 / 0.0155\n",
            "[0/5][50/469]\tLoss_D: 0.0720\tLoss_G: 8.8980\tD(x): 0.9411\tD(G(z)): 0.0019 / 0.0002\n",
            "[0/5][100/469]\tLoss_D: 15.0733\tLoss_G: 28.2840\tD(x): 0.0000\tD(G(z)): 0.0000 / 0.0000\n",
            "[0/5][150/469]\tLoss_D: 0.2110\tLoss_G: 4.7825\tD(x): 0.9043\tD(G(z)): 0.0816 / 0.0109\n",
            "[0/5][200/469]\tLoss_D: 0.1008\tLoss_G: 4.7219\tD(x): 0.9528\tD(G(z)): 0.0475 / 0.0112\n",
            "[0/5][250/469]\tLoss_D: 0.2176\tLoss_G: 3.9659\tD(x): 0.9074\tD(G(z)): 0.0953 / 0.0296\n",
            "[0/5][300/469]\tLoss_D: 0.6982\tLoss_G: 2.6590\tD(x): 0.6263\tD(G(z)): 0.0386 / 0.1150\n",
            "[0/5][350/469]\tLoss_D: 0.2024\tLoss_G: 2.8372\tD(x): 0.9719\tD(G(z)): 0.1426 / 0.0973\n",
            "[0/5][400/469]\tLoss_D: 0.1284\tLoss_G: 4.6469\tD(x): 0.9656\tD(G(z)): 0.0835 / 0.0145\n",
            "[0/5][450/469]\tLoss_D: 0.6674\tLoss_G: 2.8627\tD(x): 0.8230\tD(G(z)): 0.3434 / 0.0747\n",
            "[1/5][0/469]\tLoss_D: 0.3502\tLoss_G: 2.4935\tD(x): 0.8570\tD(G(z)): 0.1601 / 0.1054\n",
            "[1/5][50/469]\tLoss_D: 0.2715\tLoss_G: 1.7647\tD(x): 0.8322\tD(G(z)): 0.0682 / 0.2077\n",
            "[1/5][100/469]\tLoss_D: 0.3905\tLoss_G: 1.7813\tD(x): 0.7203\tD(G(z)): 0.0181 / 0.2140\n",
            "[1/5][150/469]\tLoss_D: 0.1633\tLoss_G: 3.0148\tD(x): 0.9209\tD(G(z)): 0.0718 / 0.0669\n",
            "[1/5][200/469]\tLoss_D: 0.3241\tLoss_G: 2.2421\tD(x): 0.8319\tD(G(z)): 0.1165 / 0.1431\n",
            "[1/5][250/469]\tLoss_D: 0.5877\tLoss_G: 1.7941\tD(x): 0.7771\tD(G(z)): 0.2459 / 0.1969\n",
            "[1/5][300/469]\tLoss_D: 0.6975\tLoss_G: 4.7707\tD(x): 0.9820\tD(G(z)): 0.4625 / 0.0132\n",
            "[1/5][350/469]\tLoss_D: 0.6095\tLoss_G: 1.4154\tD(x): 0.7074\tD(G(z)): 0.2040 / 0.2735\n",
            "[1/5][400/469]\tLoss_D: 0.3102\tLoss_G: 2.4765\tD(x): 0.8863\tD(G(z)): 0.1604 / 0.1046\n",
            "[1/5][450/469]\tLoss_D: 1.1415\tLoss_G: 1.9362\tD(x): 0.4640\tD(G(z)): 0.0769 / 0.2095\n",
            "[2/5][0/469]\tLoss_D: 0.2896\tLoss_G: 2.2873\tD(x): 0.8786\tD(G(z)): 0.1347 / 0.1264\n",
            "[2/5][50/469]\tLoss_D: 0.4996\tLoss_G: 1.8186\tD(x): 0.8111\tD(G(z)): 0.2135 / 0.2037\n",
            "[2/5][100/469]\tLoss_D: 0.4330\tLoss_G: 1.8178\tD(x): 0.7476\tD(G(z)): 0.1028 / 0.1975\n",
            "[2/5][150/469]\tLoss_D: 0.5920\tLoss_G: 1.3976\tD(x): 0.6097\tD(G(z)): 0.0264 / 0.3034\n",
            "[2/5][200/469]\tLoss_D: 0.4273\tLoss_G: 2.2131\tD(x): 0.7476\tD(G(z)): 0.0981 / 0.1401\n",
            "[2/5][250/469]\tLoss_D: 0.3897\tLoss_G: 2.8365\tD(x): 0.8896\tD(G(z)): 0.2158 / 0.0771\n",
            "[2/5][300/469]\tLoss_D: 0.5396\tLoss_G: 1.4824\tD(x): 0.6621\tD(G(z)): 0.0662 / 0.2662\n",
            "[2/5][350/469]\tLoss_D: 1.1172\tLoss_G: 6.4711\tD(x): 0.9883\tD(G(z)): 0.6018 / 0.0038\n",
            "[2/5][400/469]\tLoss_D: 2.2911\tLoss_G: 0.2183\tD(x): 0.1771\tD(G(z)): 0.0192 / 0.8270\n",
            "[2/5][450/469]\tLoss_D: 0.2856\tLoss_G: 2.0443\tD(x): 0.8468\tD(G(z)): 0.0994 / 0.1657\n",
            "[3/5][0/469]\tLoss_D: 0.6099\tLoss_G: 1.4716\tD(x): 0.6943\tD(G(z)): 0.1557 / 0.2938\n",
            "[3/5][50/469]\tLoss_D: 0.6496\tLoss_G: 1.3444\tD(x): 0.6206\tD(G(z)): 0.1027 / 0.3137\n",
            "[3/5][100/469]\tLoss_D: 1.4802\tLoss_G: 1.2391\tD(x): 0.3125\tD(G(z)): 0.0195 / 0.3572\n",
            "[3/5][150/469]\tLoss_D: 0.3106\tLoss_G: 3.6276\tD(x): 0.9399\tD(G(z)): 0.2037 / 0.0370\n",
            "[3/5][200/469]\tLoss_D: 0.3425\tLoss_G: 2.6799\tD(x): 0.8807\tD(G(z)): 0.1781 / 0.0865\n",
            "[3/5][250/469]\tLoss_D: 0.2102\tLoss_G: 3.3423\tD(x): 0.9293\tD(G(z)): 0.1186 / 0.0478\n",
            "[3/5][300/469]\tLoss_D: 2.7862\tLoss_G: 8.3883\tD(x): 0.9939\tD(G(z)): 0.8893 / 0.0006\n",
            "[3/5][350/469]\tLoss_D: 0.2033\tLoss_G: 3.3156\tD(x): 0.9058\tD(G(z)): 0.0883 / 0.0547\n",
            "[3/5][400/469]\tLoss_D: 0.3768\tLoss_G: 4.4877\tD(x): 0.9763\tD(G(z)): 0.2768 / 0.0146\n",
            "[3/5][450/469]\tLoss_D: 0.6105\tLoss_G: 3.8484\tD(x): 0.8699\tD(G(z)): 0.3299 / 0.0321\n",
            "[4/5][0/469]\tLoss_D: 0.2786\tLoss_G: 2.6797\tD(x): 0.9170\tD(G(z)): 0.1586 / 0.0865\n",
            "[4/5][50/469]\tLoss_D: 0.7018\tLoss_G: 4.0486\tD(x): 0.8373\tD(G(z)): 0.3714 / 0.0239\n",
            "[4/5][100/469]\tLoss_D: 0.1294\tLoss_G: 3.2426\tD(x): 0.9297\tD(G(z)): 0.0492 / 0.0531\n",
            "[4/5][150/469]\tLoss_D: 0.7320\tLoss_G: 3.1424\tD(x): 0.8366\tD(G(z)): 0.3808 / 0.0571\n",
            "[4/5][200/469]\tLoss_D: 0.3011\tLoss_G: 2.4082\tD(x): 0.8387\tD(G(z)): 0.0977 / 0.1172\n",
            "[4/5][250/469]\tLoss_D: 0.3073\tLoss_G: 2.5211\tD(x): 0.8378\tD(G(z)): 0.1024 / 0.1059\n",
            "[4/5][300/469]\tLoss_D: 0.5650\tLoss_G: 2.0804\tD(x): 0.6551\tD(G(z)): 0.0689 / 0.1554\n",
            "[4/5][350/469]\tLoss_D: 0.1116\tLoss_G: 4.4950\tD(x): 0.9729\tD(G(z)): 0.0773 / 0.0165\n",
            "[4/5][400/469]\tLoss_D: 0.6407\tLoss_G: 5.6255\tD(x): 0.9586\tD(G(z)): 0.4146 / 0.0049\n",
            "[4/5][450/469]\tLoss_D: 0.8377\tLoss_G: 5.5013\tD(x): 0.8704\tD(G(z)): 0.4518 / 0.0060\n"
          ],
          "name": "stdout"
        }
      ]
    },
    {
      "cell_type": "code",
      "metadata": {
        "id": "G7F-yhcXaAfa"
      },
      "source": [
        ""
      ],
      "execution_count": null,
      "outputs": []
    }
  ]
}